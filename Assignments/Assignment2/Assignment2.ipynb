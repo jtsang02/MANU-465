{
 "cells": [
  {
   "cell_type": "markdown",
   "metadata": {
    "id": "fXNSQNMMw8QK"
   },
   "source": [
    "# Assignment 2. Semi-open, Classification"
   ]
  },
  {
   "cell_type": "markdown",
   "metadata": {},
   "source": [
    "## Frame the Problem\n"
   ]
  },
  {
   "cell_type": "markdown",
   "metadata": {},
   "source": [
    "Predict which passengers on the titanic survived based on their age, gender number of siblings, etc.\n",
    "\n",
    "The goal is to predict which passengers survived the Titanic shipwreck."
   ]
  },
  {
   "cell_type": "markdown",
   "metadata": {
    "id": "6eguLfgdyoYw"
   },
   "source": [
    "### Importing the basic libraries"
   ]
  },
  {
   "cell_type": "code",
   "execution_count": 1419,
   "metadata": {
    "id": "kY7AY0ZqytMg"
   },
   "outputs": [],
   "source": [
    "import numpy as np\n",
    "import pandas as pd\n",
    "import matplotlib.pyplot as plt\n",
    "from seaborn import heatmap\n",
    "from sklearn.model_selection import train_test_split\n",
    "from sklearn.preprocessing import StandardScaler\n",
    "from sklearn.metrics import accuracy_score\n",
    "import seaborn as sb"
   ]
  },
  {
   "cell_type": "markdown",
   "metadata": {
    "id": "-ixqrGooyyiS"
   },
   "source": [
    "## Importing the Data"
   ]
  },
  {
   "cell_type": "code",
   "execution_count": 1420,
   "metadata": {
    "id": "PeSpLStXyxdF"
   },
   "outputs": [],
   "source": [
    "data = pd.read_csv('Titanic_Data.csv')"
   ]
  },
  {
   "cell_type": "code",
   "execution_count": 1421,
   "metadata": {
    "scrolled": true
   },
   "outputs": [
    {
     "data": {
      "text/html": [
       "<div>\n",
       "<style scoped>\n",
       "    .dataframe tbody tr th:only-of-type {\n",
       "        vertical-align: middle;\n",
       "    }\n",
       "\n",
       "    .dataframe tbody tr th {\n",
       "        vertical-align: top;\n",
       "    }\n",
       "\n",
       "    .dataframe thead th {\n",
       "        text-align: right;\n",
       "    }\n",
       "</style>\n",
       "<table border=\"1\" class=\"dataframe\">\n",
       "  <thead>\n",
       "    <tr style=\"text-align: right;\">\n",
       "      <th></th>\n",
       "      <th>PassengerId</th>\n",
       "      <th>Pclass</th>\n",
       "      <th>Name</th>\n",
       "      <th>Sex</th>\n",
       "      <th>Age</th>\n",
       "      <th>Number of Siblings/Spouses Aboard</th>\n",
       "      <th>Number of Parents/Children Aboard</th>\n",
       "      <th>Fare</th>\n",
       "      <th>Embarked</th>\n",
       "      <th>Survived</th>\n",
       "    </tr>\n",
       "  </thead>\n",
       "  <tbody>\n",
       "    <tr>\n",
       "      <th>0</th>\n",
       "      <td>1</td>\n",
       "      <td>3</td>\n",
       "      <td>Braund, Mr. Owen Harris</td>\n",
       "      <td>male</td>\n",
       "      <td>22.0</td>\n",
       "      <td>1</td>\n",
       "      <td>0</td>\n",
       "      <td>7.2500</td>\n",
       "      <td>S</td>\n",
       "      <td>No</td>\n",
       "    </tr>\n",
       "    <tr>\n",
       "      <th>1</th>\n",
       "      <td>2</td>\n",
       "      <td>1</td>\n",
       "      <td>Cumings, Mrs. John Bradley (Florence Briggs Th...</td>\n",
       "      <td>female</td>\n",
       "      <td>38.0</td>\n",
       "      <td>1</td>\n",
       "      <td>0</td>\n",
       "      <td>71.2833</td>\n",
       "      <td>C</td>\n",
       "      <td>Yes</td>\n",
       "    </tr>\n",
       "    <tr>\n",
       "      <th>2</th>\n",
       "      <td>3</td>\n",
       "      <td>3</td>\n",
       "      <td>Heikkinen, Miss. Laina</td>\n",
       "      <td>female</td>\n",
       "      <td>26.0</td>\n",
       "      <td>0</td>\n",
       "      <td>0</td>\n",
       "      <td>7.9250</td>\n",
       "      <td>S</td>\n",
       "      <td>Yes</td>\n",
       "    </tr>\n",
       "    <tr>\n",
       "      <th>3</th>\n",
       "      <td>4</td>\n",
       "      <td>1</td>\n",
       "      <td>Futrelle, Mrs. Jacques Heath (Lily May Peel)</td>\n",
       "      <td>female</td>\n",
       "      <td>35.0</td>\n",
       "      <td>1</td>\n",
       "      <td>0</td>\n",
       "      <td>53.1000</td>\n",
       "      <td>S</td>\n",
       "      <td>Yes</td>\n",
       "    </tr>\n",
       "    <tr>\n",
       "      <th>4</th>\n",
       "      <td>5</td>\n",
       "      <td>3</td>\n",
       "      <td>Allen, Mr. William Henry</td>\n",
       "      <td>male</td>\n",
       "      <td>35.0</td>\n",
       "      <td>0</td>\n",
       "      <td>0</td>\n",
       "      <td>8.0500</td>\n",
       "      <td>S</td>\n",
       "      <td>No</td>\n",
       "    </tr>\n",
       "  </tbody>\n",
       "</table>\n",
       "</div>"
      ],
      "text/plain": [
       "   PassengerId  Pclass                                               Name  \\\n",
       "0            1       3                            Braund, Mr. Owen Harris   \n",
       "1            2       1  Cumings, Mrs. John Bradley (Florence Briggs Th...   \n",
       "2            3       3                             Heikkinen, Miss. Laina   \n",
       "3            4       1       Futrelle, Mrs. Jacques Heath (Lily May Peel)   \n",
       "4            5       3                           Allen, Mr. William Henry   \n",
       "\n",
       "      Sex   Age  Number of Siblings/Spouses Aboard  \\\n",
       "0    male  22.0                                  1   \n",
       "1  female  38.0                                  1   \n",
       "2  female  26.0                                  0   \n",
       "3  female  35.0                                  1   \n",
       "4    male  35.0                                  0   \n",
       "\n",
       "   Number of Parents/Children Aboard     Fare Embarked Survived  \n",
       "0                                  0   7.2500        S       No  \n",
       "1                                  0  71.2833        C      Yes  \n",
       "2                                  0   7.9250        S      Yes  \n",
       "3                                  0  53.1000        S      Yes  \n",
       "4                                  0   8.0500        S       No  "
      ]
     },
     "execution_count": 1421,
     "metadata": {},
     "output_type": "execute_result"
    }
   ],
   "source": [
    "data.head()"
   ]
  },
  {
   "cell_type": "markdown",
   "metadata": {},
   "source": [
    "## Cleaning the Data"
   ]
  },
  {
   "cell_type": "markdown",
   "metadata": {},
   "source": [
    "Drop the irrelevant features."
   ]
  },
  {
   "cell_type": "code",
   "execution_count": 1422,
   "metadata": {},
   "outputs": [],
   "source": [
    "data.drop(['PassengerId', 'Name'], axis=1, inplace=True)"
   ]
  },
  {
   "cell_type": "code",
   "execution_count": 1423,
   "metadata": {
    "scrolled": true
   },
   "outputs": [
    {
     "data": {
      "text/html": [
       "<div>\n",
       "<style scoped>\n",
       "    .dataframe tbody tr th:only-of-type {\n",
       "        vertical-align: middle;\n",
       "    }\n",
       "\n",
       "    .dataframe tbody tr th {\n",
       "        vertical-align: top;\n",
       "    }\n",
       "\n",
       "    .dataframe thead th {\n",
       "        text-align: right;\n",
       "    }\n",
       "</style>\n",
       "<table border=\"1\" class=\"dataframe\">\n",
       "  <thead>\n",
       "    <tr style=\"text-align: right;\">\n",
       "      <th></th>\n",
       "      <th>Pclass</th>\n",
       "      <th>Sex</th>\n",
       "      <th>Age</th>\n",
       "      <th>Number of Siblings/Spouses Aboard</th>\n",
       "      <th>Number of Parents/Children Aboard</th>\n",
       "      <th>Fare</th>\n",
       "      <th>Embarked</th>\n",
       "      <th>Survived</th>\n",
       "    </tr>\n",
       "  </thead>\n",
       "  <tbody>\n",
       "    <tr>\n",
       "      <th>0</th>\n",
       "      <td>3</td>\n",
       "      <td>male</td>\n",
       "      <td>22.0</td>\n",
       "      <td>1</td>\n",
       "      <td>0</td>\n",
       "      <td>7.2500</td>\n",
       "      <td>S</td>\n",
       "      <td>No</td>\n",
       "    </tr>\n",
       "    <tr>\n",
       "      <th>1</th>\n",
       "      <td>1</td>\n",
       "      <td>female</td>\n",
       "      <td>38.0</td>\n",
       "      <td>1</td>\n",
       "      <td>0</td>\n",
       "      <td>71.2833</td>\n",
       "      <td>C</td>\n",
       "      <td>Yes</td>\n",
       "    </tr>\n",
       "    <tr>\n",
       "      <th>2</th>\n",
       "      <td>3</td>\n",
       "      <td>female</td>\n",
       "      <td>26.0</td>\n",
       "      <td>0</td>\n",
       "      <td>0</td>\n",
       "      <td>7.9250</td>\n",
       "      <td>S</td>\n",
       "      <td>Yes</td>\n",
       "    </tr>\n",
       "    <tr>\n",
       "      <th>3</th>\n",
       "      <td>1</td>\n",
       "      <td>female</td>\n",
       "      <td>35.0</td>\n",
       "      <td>1</td>\n",
       "      <td>0</td>\n",
       "      <td>53.1000</td>\n",
       "      <td>S</td>\n",
       "      <td>Yes</td>\n",
       "    </tr>\n",
       "    <tr>\n",
       "      <th>4</th>\n",
       "      <td>3</td>\n",
       "      <td>male</td>\n",
       "      <td>35.0</td>\n",
       "      <td>0</td>\n",
       "      <td>0</td>\n",
       "      <td>8.0500</td>\n",
       "      <td>S</td>\n",
       "      <td>No</td>\n",
       "    </tr>\n",
       "  </tbody>\n",
       "</table>\n",
       "</div>"
      ],
      "text/plain": [
       "   Pclass     Sex   Age  Number of Siblings/Spouses Aboard  \\\n",
       "0       3    male  22.0                                  1   \n",
       "1       1  female  38.0                                  1   \n",
       "2       3  female  26.0                                  0   \n",
       "3       1  female  35.0                                  1   \n",
       "4       3    male  35.0                                  0   \n",
       "\n",
       "   Number of Parents/Children Aboard     Fare Embarked Survived  \n",
       "0                                  0   7.2500        S       No  \n",
       "1                                  0  71.2833        C      Yes  \n",
       "2                                  0   7.9250        S      Yes  \n",
       "3                                  0  53.1000        S      Yes  \n",
       "4                                  0   8.0500        S       No  "
      ]
     },
     "execution_count": 1423,
     "metadata": {},
     "output_type": "execute_result"
    }
   ],
   "source": [
    "data.head()"
   ]
  },
  {
   "cell_type": "markdown",
   "metadata": {
    "id": "9IKPonIezDCb"
   },
   "source": [
    "### Converting the Categorical Data to Numerical Data"
   ]
  },
  {
   "cell_type": "markdown",
   "metadata": {
    "id": "nWNFOHWgzNCV"
   },
   "source": [
    "In the dataset,  there are 3 columns with the catergorical values that need to be converted to numerical values. These are:\n",
    "\n",
    "* Sex\n",
    "* Embarked\n",
    "* Survived\n",
    "\n",
    "We will also check that the dataset is complete and there is no null cells."
   ]
  },
  {
   "cell_type": "code",
   "execution_count": 1424,
   "metadata": {
    "colab": {
     "base_uri": "https://localhost:8080/"
    },
    "id": "R0FxO_JQy2ch",
    "outputId": "e10952d7-2c64-43e2-b37e-4009982bfc7d"
   },
   "outputs": [
    {
     "name": "stdout",
     "output_type": "stream",
     "text": [
      "<class 'pandas.core.frame.DataFrame'>\n",
      "RangeIndex: 891 entries, 0 to 890\n",
      "Data columns (total 8 columns):\n",
      " #   Column                             Non-Null Count  Dtype  \n",
      "---  ------                             --------------  -----  \n",
      " 0   Pclass                             891 non-null    int64  \n",
      " 1   Sex                                891 non-null    object \n",
      " 2   Age                                714 non-null    float64\n",
      " 3   Number of Siblings/Spouses Aboard  891 non-null    int64  \n",
      " 4   Number of Parents/Children Aboard  891 non-null    int64  \n",
      " 5   Fare                               891 non-null    float64\n",
      " 6   Embarked                           889 non-null    object \n",
      " 7   Survived                           891 non-null    object \n",
      "dtypes: float64(2), int64(3), object(3)\n",
      "memory usage: 55.8+ KB\n"
     ]
    }
   ],
   "source": [
    "data.info()"
   ]
  },
  {
   "cell_type": "markdown",
   "metadata": {
    "id": "pje305YgzpXO"
   },
   "source": [
    "Converting the values of the \"purchased\" column"
   ]
  },
  {
   "cell_type": "code",
   "execution_count": 1425,
   "metadata": {
    "id": "Di7aPhD8zLJt"
   },
   "outputs": [
    {
     "data": {
      "text/plain": [
       "array(['No', 'Yes'], dtype=object)"
      ]
     },
     "execution_count": 1425,
     "metadata": {},
     "output_type": "execute_result"
    }
   ],
   "source": [
    "# getting the unique values in the purchase column\n",
    "data['Survived'].unique()"
   ]
  },
  {
   "cell_type": "code",
   "execution_count": 1426,
   "metadata": {
    "id": "8XfUGrPez3g5"
   },
   "outputs": [
    {
     "data": {
      "text/plain": [
       "0    0\n",
       "1    1\n",
       "2    1\n",
       "3    1\n",
       "4    0\n",
       "Name: Survived, dtype: int64"
      ]
     },
     "execution_count": 1426,
     "metadata": {},
     "output_type": "execute_result"
    }
   ],
   "source": [
    "# make the dictionary of the items in the \"survived\" column\n",
    "survived = {\"No\": 0, \"Yes\": 1}\n",
    "data[\"Survived\"] = data[\"Survived\"].map(survived)\n",
    "data[\"Survived\"].head()  # checking if the changes are applied"
   ]
  },
  {
   "cell_type": "markdown",
   "metadata": {
    "id": "jUi_GEYT0vpR"
   },
   "source": [
    "Converting the values of the \"sex\" column"
   ]
  },
  {
   "cell_type": "code",
   "execution_count": 1427,
   "metadata": {
    "id": "Hm1sOpyI1P_y"
   },
   "outputs": [
    {
     "data": {
      "text/plain": [
       "array(['male', 'female'], dtype=object)"
      ]
     },
     "execution_count": 1427,
     "metadata": {},
     "output_type": "execute_result"
    }
   ],
   "source": [
    "# getting the unique values in the sex column\n",
    "data[\"Sex\"].unique()"
   ]
  },
  {
   "cell_type": "code",
   "execution_count": 1428,
   "metadata": {
    "id": "I2-oG5t80usq"
   },
   "outputs": [
    {
     "data": {
      "text/plain": [
       "0    0.0\n",
       "1    1.0\n",
       "2    1.0\n",
       "3    1.0\n",
       "4    0.0\n",
       "Name: Sex, dtype: float64"
      ]
     },
     "execution_count": 1428,
     "metadata": {},
     "output_type": "execute_result"
    }
   ],
   "source": [
    "# make the dictionary of the items in the \"sex\" column\n",
    "gender = {\"male\":0.0, \"female\":1.0}\n",
    "data['Sex'] = data['Sex'].map(gender)\n",
    "data['Sex'].head()"
   ]
  },
  {
   "cell_type": "markdown",
   "metadata": {},
   "source": [
    "Converting the values of the \"embarked\" column"
   ]
  },
  {
   "cell_type": "code",
   "execution_count": 1429,
   "metadata": {},
   "outputs": [
    {
     "data": {
      "text/plain": [
       "array(['S', 'C', 'Q', nan], dtype=object)"
      ]
     },
     "execution_count": 1429,
     "metadata": {},
     "output_type": "execute_result"
    }
   ],
   "source": [
    "# getting the unique values in the embarked column\n",
    "data[\"Embarked\"].unique()"
   ]
  },
  {
   "cell_type": "code",
   "execution_count": 1430,
   "metadata": {},
   "outputs": [
    {
     "data": {
      "text/plain": [
       "0    0.0\n",
       "1    1.0\n",
       "2    0.0\n",
       "3    0.0\n",
       "4    0.0\n",
       "Name: Embarked, dtype: float64"
      ]
     },
     "execution_count": 1430,
     "metadata": {},
     "output_type": "execute_result"
    }
   ],
   "source": [
    "# make the dictionary of the items in the \"embarked\" column\n",
    "ports = {'S':0.0, 'C':1.0, 'Q':2.0}\n",
    "data['Embarked'] = data['Embarked'].map(ports)\n",
    "data['Embarked'].head()"
   ]
  },
  {
   "cell_type": "markdown",
   "metadata": {
    "id": "ZKAftA5l1q3z"
   },
   "source": [
    "Check the dataset to see if changes are applied."
   ]
  },
  {
   "cell_type": "code",
   "execution_count": 1431,
   "metadata": {
    "colab": {
     "base_uri": "https://localhost:8080/"
    },
    "id": "fnfVls8V1mT3",
    "outputId": "1a5b02f4-0061-4ba0-aff6-e24853916456"
   },
   "outputs": [
    {
     "name": "stdout",
     "output_type": "stream",
     "text": [
      "<class 'pandas.core.frame.DataFrame'>\n",
      "RangeIndex: 891 entries, 0 to 890\n",
      "Data columns (total 8 columns):\n",
      " #   Column                             Non-Null Count  Dtype  \n",
      "---  ------                             --------------  -----  \n",
      " 0   Pclass                             891 non-null    int64  \n",
      " 1   Sex                                891 non-null    float64\n",
      " 2   Age                                714 non-null    float64\n",
      " 3   Number of Siblings/Spouses Aboard  891 non-null    int64  \n",
      " 4   Number of Parents/Children Aboard  891 non-null    int64  \n",
      " 5   Fare                               891 non-null    float64\n",
      " 6   Embarked                           889 non-null    float64\n",
      " 7   Survived                           891 non-null    int64  \n",
      "dtypes: float64(4), int64(4)\n",
      "memory usage: 55.8 KB\n"
     ]
    }
   ],
   "source": [
    "data.info()"
   ]
  },
  {
   "cell_type": "markdown",
   "metadata": {},
   "source": [
    "### Encoding the Output Data (Labels)"
   ]
  },
  {
   "cell_type": "code",
   "execution_count": 1432,
   "metadata": {},
   "outputs": [
    {
     "data": {
      "text/plain": [
       "0    0\n",
       "1    1\n",
       "2    1\n",
       "3    1\n",
       "4    0\n",
       "Name: Survived, dtype: int64"
      ]
     },
     "execution_count": 1432,
     "metadata": {},
     "output_type": "execute_result"
    }
   ],
   "source": [
    "from sklearn.preprocessing import LabelEncoder\n",
    "le = LabelEncoder()\n",
    "data['Survived'] = le.fit_transform(data['Survived'])\n",
    "data['Survived'].head()"
   ]
  },
  {
   "cell_type": "markdown",
   "metadata": {},
   "source": [
    "### Fill Missing Data Inputs"
   ]
  },
  {
   "cell_type": "code",
   "execution_count": 1433,
   "metadata": {},
   "outputs": [],
   "source": [
    "data['Age'].fillna(data['Age'].mean(), inplace = True)\n",
    "data['Embarked'].fillna(data['Embarked'].mean(), inplace = True)\n"
   ]
  },
  {
   "cell_type": "markdown",
   "metadata": {},
   "source": [
    "Make sure there is no more missing data."
   ]
  },
  {
   "cell_type": "code",
   "execution_count": 1434,
   "metadata": {},
   "outputs": [
    {
     "name": "stdout",
     "output_type": "stream",
     "text": [
      "<class 'pandas.core.frame.DataFrame'>\n",
      "RangeIndex: 891 entries, 0 to 890\n",
      "Data columns (total 8 columns):\n",
      " #   Column                             Non-Null Count  Dtype  \n",
      "---  ------                             --------------  -----  \n",
      " 0   Pclass                             891 non-null    int64  \n",
      " 1   Sex                                891 non-null    float64\n",
      " 2   Age                                891 non-null    float64\n",
      " 3   Number of Siblings/Spouses Aboard  891 non-null    int64  \n",
      " 4   Number of Parents/Children Aboard  891 non-null    int64  \n",
      " 5   Fare                               891 non-null    float64\n",
      " 6   Embarked                           891 non-null    float64\n",
      " 7   Survived                           891 non-null    int64  \n",
      "dtypes: float64(4), int64(4)\n",
      "memory usage: 55.8 KB\n"
     ]
    }
   ],
   "source": [
    "data.info()"
   ]
  },
  {
   "cell_type": "markdown",
   "metadata": {
    "id": "r-ihPVxjbynW"
   },
   "source": [
    "### Cleaning the Data from the Outliers"
   ]
  },
  {
   "cell_type": "markdown",
   "metadata": {},
   "source": [
    "We will trim the data from the outliers."
   ]
  },
  {
   "cell_type": "code",
   "execution_count": 1435,
   "metadata": {},
   "outputs": [
    {
     "data": {
      "text/plain": [
       "<AxesSubplot:xlabel='Survived', ylabel='Age'>"
      ]
     },
     "execution_count": 1435,
     "metadata": {},
     "output_type": "execute_result"
    },
    {
     "data": {
      "image/png": "[encoded data removed]",
      "text/plain": [
       "<Figure size 432x288 with 1 Axes>"
      ]
     },
     "metadata": {
      "needs_background": "light"
     },
     "output_type": "display_data"
    }
   ],
   "source": [
    "sb.boxplot(x='Survived', y='Age', data=data)"
   ]
  },
  {
   "cell_type": "code",
   "execution_count": 1436,
   "metadata": {},
   "outputs": [
    {
     "data": {
      "text/plain": [
       "<AxesSubplot:xlabel='Survived', ylabel='Fare'>"
      ]
     },
     "execution_count": 1436,
     "metadata": {},
     "output_type": "execute_result"
    },
    {
     "data": {
      "image/png": "[encoded data removed]",
      "text/plain": [
       "<Figure size 432x288 with 1 Axes>"
      ]
     },
     "metadata": {
      "needs_background": "light"
     },
     "output_type": "display_data"
    }
   ],
   "source": [
    "sb.boxplot(x='Survived', y='Fare', data=data)"
   ]
  },
  {
   "cell_type": "code",
   "execution_count": 1437,
   "metadata": {},
   "outputs": [
    {
     "data": {
      "text/plain": [
       "<AxesSubplot:xlabel='Survived', ylabel='Age'>"
      ]
     },
     "execution_count": 1437,
     "metadata": {},
     "output_type": "execute_result"
    },
    {
     "data": {
      "image/png": "[encoded data removed]",
      "text/plain": [
       "<Figure size 432x288 with 1 Axes>"
      ]
     },
     "metadata": {
      "needs_background": "light"
     },
     "output_type": "display_data"
    }
   ],
   "source": [
    "# trim the age\n",
    "data = data[((data['Age']<40) & (data['Age']>10) & (data['Survived']==0)) | (data['Survived']==1)]\n",
    "sb.boxplot(x='Survived', y='Age', data=data)"
   ]
  },
  {
   "cell_type": "code",
   "execution_count": 1438,
   "metadata": {},
   "outputs": [
    {
     "data": {
      "text/plain": [
       "<AxesSubplot:xlabel='Survived', ylabel='Fare'>"
      ]
     },
     "execution_count": 1438,
     "metadata": {},
     "output_type": "execute_result"
    },
    {
     "data": {
      "image/png": "[encoded data removed]",
      "text/plain": [
       "<Figure size 432x288 with 1 Axes>"
      ]
     },
     "metadata": {
      "needs_background": "light"
     },
     "output_type": "display_data"
    }
   ],
   "source": [
    "# trim the fares\n",
    "data = data[((data['Fare']<30) & (data['Survived']==0)) | ((data['Fare']<60) & (data['Survived']==1))]\n",
    "sb.boxplot(x='Survived', y='Fare', data=data)"
   ]
  },
  {
   "cell_type": "code",
   "execution_count": 1439,
   "metadata": {},
   "outputs": [
    {
     "name": "stdout",
     "output_type": "stream",
     "text": [
      "<class 'pandas.core.frame.DataFrame'>\n",
      "Int64Index: 624 entries, 0 to 890\n",
      "Data columns (total 8 columns):\n",
      " #   Column                             Non-Null Count  Dtype  \n",
      "---  ------                             --------------  -----  \n",
      " 0   Pclass                             624 non-null    int64  \n",
      " 1   Sex                                624 non-null    float64\n",
      " 2   Age                                624 non-null    float64\n",
      " 3   Number of Siblings/Spouses Aboard  624 non-null    int64  \n",
      " 4   Number of Parents/Children Aboard  624 non-null    int64  \n",
      " 5   Fare                               624 non-null    float64\n",
      " 6   Embarked                           624 non-null    float64\n",
      " 7   Survived                           624 non-null    int64  \n",
      "dtypes: float64(4), int64(4)\n",
      "memory usage: 60.0 KB\n"
     ]
    }
   ],
   "source": [
    "data.info()"
   ]
  },
  {
   "cell_type": "markdown",
   "metadata": {},
   "source": [
    "## Exploring the Data"
   ]
  },
  {
   "cell_type": "markdown",
   "metadata": {
    "id": "es7Zx-36107N"
   },
   "source": [
    "Here, we will check the correlation between \"Survived\" column and the other colunms.\n",
    "\n",
    "You can find more info about the heatmap function in Seaborn [here](https://seaborn.pydata.org/generated/seaborn.heatmap.html)."
   ]
  },
  {
   "cell_type": "code",
   "execution_count": 1440,
   "metadata": {
    "colab": {
     "base_uri": "https://localhost:8080/",
     "height": 566
    },
    "id": "IcHm1wM-1vb6",
    "outputId": "a5a4ec7e-cfaa-439f-8707-6dad4d7de468"
   },
   "outputs": [
    {
     "data": {
      "text/plain": [
       "Survived                             1.000000\n",
       "Sex                                  0.522702\n",
       "Fare                                 0.452490\n",
       "Number of Parents/Children Aboard    0.244611\n",
       "Number of Siblings/Spouses Aboard    0.153610\n",
       "Embarked                             0.066275\n",
       "Age                                 -0.014719\n",
       "Pclass                              -0.368506\n",
       "Name: Survived, dtype: float64"
      ]
     },
     "execution_count": 1440,
     "metadata": {},
     "output_type": "execute_result"
    },
    {
     "data": {
      "image/png": "[encoded data removed]",
      "text/plain": [
       "<Figure size 864x432 with 2 Axes>"
      ]
     },
     "metadata": {
      "needs_background": "light"
     },
     "output_type": "display_data"
    }
   ],
   "source": [
    "# creating the correlation matrix\n",
    "corr_matrix = data.corr()\n",
    "\n",
    "# visualizing the correlation matrix\n",
    "mask = np.triu(np.ones_like(corr_matrix, dtype=bool))  \n",
    "plt.figure(figsize=(12, 6))  # to set the figure size\n",
    "heatmap(corr_matrix, mask=mask, annot=False, lw=0, linecolor='white', cmap='magma', fmt='0.2f')\n",
    "plt.title(\"Correlation Matrix\")  # to add title \n",
    "plt.xticks(rotation=90)\n",
    "plt.yticks(rotation=0)\n",
    "\n",
    "# getting the correlation values with the purchased column\n",
    "## Start the code here\n",
    "corr_matrix['Survived'].sort_values(ascending=False)\n",
    "## End"
   ]
  },
  {
   "cell_type": "markdown",
   "metadata": {
    "id": "96W_Q5zv5zjF"
   },
   "source": [
    "### Splitting the Train and Test Data"
   ]
  },
  {
   "cell_type": "code",
   "execution_count": 1441,
   "metadata": {
    "id": "g6qMz7Dt2VKr"
   },
   "outputs": [],
   "source": [
    "## Code here\n",
    "train_data, test_data = train_test_split(data, test_size=0.2)\n",
    "\n",
    "# splitting the input and the output from the training set\n",
    "Y_train = train_data[['Survived']].copy()\n",
    "\n",
    "# removing the useless features and the output from the dataset\n",
    "X_train = train_data.drop(['Survived', 'Embarked', 'Pclass'], axis=1) "
   ]
  },
  {
   "cell_type": "markdown",
   "metadata": {
    "id": "iM9OzVtS8P7g"
   },
   "source": [
    "Let's check the type of the data "
   ]
  },
  {
   "cell_type": "code",
   "execution_count": 1442,
   "metadata": {
    "colab": {
     "base_uri": "https://localhost:8080/"
    },
    "id": "1rmJ2oX96PTj",
    "outputId": "c5dfc47c-682f-4b55-95f4-bcf15f82b77a"
   },
   "outputs": [
    {
     "name": "stdout",
     "output_type": "stream",
     "text": [
      "<class 'pandas.core.frame.DataFrame'>\n",
      "<class 'pandas.core.frame.DataFrame'>\n"
     ]
    }
   ],
   "source": [
    "print(type(X_train))\n",
    "print(type(Y_train))"
   ]
  },
  {
   "cell_type": "markdown",
   "metadata": {
    "id": "70OIRrU98qxq"
   },
   "source": [
    "### Data Visualization"
   ]
  },
  {
   "cell_type": "code",
   "execution_count": 1443,
   "metadata": {
    "id": "dI9FqIEN8svv"
   },
   "outputs": [],
   "source": [
    "# making a function to plot the data\n",
    "def plot_scatter_with_labels(X1, X2, Y, xlabel='Age', ylabel='Fare'):\n",
    "  df = pd.DataFrame(dict(x1=X1, x2=X2, label=Y))\n",
    "  groups = df.groupby('label')\n",
    "  for number, group in groups:\n",
    "    if number == 0:\n",
    "      name = 'Did not survived'\n",
    "    elif number == 1:\n",
    "      name = 'Survived'\n",
    "    plt.plot(group.x1, group.x2, marker='o', linestyle='', ms=3, label=name)\n",
    "\n",
    "  plt.legend()\n",
    "  plt.xlabel(xlabel)\n",
    "  plt.ylabel(ylabel)\n"
   ]
  },
  {
   "cell_type": "code",
   "execution_count": 1444,
   "metadata": {
    "colab": {
     "base_uri": "https://localhost:8080/",
     "height": 279
    },
    "id": "Utmvds0L90ZR",
    "outputId": "09730204-5ac7-488e-d74f-2c53d872ba55"
   },
   "outputs": [
    {
     "data": {
      "image/png": "[encoded data removed]",
      "text/plain": [
       "<Figure size 432x288 with 1 Axes>"
      ]
     },
     "metadata": {
      "needs_background": "light"
     },
     "output_type": "display_data"
    }
   ],
   "source": [
    "plot_scatter_with_labels(train_data['Age'], train_data['Fare'], train_data['Survived'])"
   ]
  },
  {
   "cell_type": "markdown",
   "metadata": {
    "id": "LZvOJvaK-jyT"
   },
   "source": [
    "### Scaling the features\n",
    "\n",
    "We standardize all the data using their mean and standard deviation\n",
    "\n",
    "$$ \\hat{x_i} = \\frac{x_i-\\mu}{\\sigma_i}$$"
   ]
  },
  {
   "cell_type": "code",
   "execution_count": 1445,
   "metadata": {
    "scrolled": true
   },
   "outputs": [
    {
     "name": "stdout",
     "output_type": "stream",
     "text": [
      "<class 'pandas.core.frame.DataFrame'>\n"
     ]
    }
   ],
   "source": [
    "print(type(X_train))"
   ]
  },
  {
   "cell_type": "code",
   "execution_count": 1446,
   "metadata": {},
   "outputs": [
    {
     "data": {
      "text/html": [
       "<div>\n",
       "<style scoped>\n",
       "    .dataframe tbody tr th:only-of-type {\n",
       "        vertical-align: middle;\n",
       "    }\n",
       "\n",
       "    .dataframe tbody tr th {\n",
       "        vertical-align: top;\n",
       "    }\n",
       "\n",
       "    .dataframe thead th {\n",
       "        text-align: right;\n",
       "    }\n",
       "</style>\n",
       "<table border=\"1\" class=\"dataframe\">\n",
       "  <thead>\n",
       "    <tr style=\"text-align: right;\">\n",
       "      <th></th>\n",
       "      <th>Sex</th>\n",
       "      <th>Age</th>\n",
       "      <th>Number of Siblings/Spouses Aboard</th>\n",
       "      <th>Number of Parents/Children Aboard</th>\n",
       "      <th>Fare</th>\n",
       "    </tr>\n",
       "  </thead>\n",
       "  <tbody>\n",
       "    <tr>\n",
       "      <th>516</th>\n",
       "      <td>1.0</td>\n",
       "      <td>34.000000</td>\n",
       "      <td>0</td>\n",
       "      <td>0</td>\n",
       "      <td>10.5000</td>\n",
       "    </tr>\n",
       "    <tr>\n",
       "      <th>727</th>\n",
       "      <td>1.0</td>\n",
       "      <td>29.699118</td>\n",
       "      <td>0</td>\n",
       "      <td>0</td>\n",
       "      <td>7.7375</td>\n",
       "    </tr>\n",
       "    <tr>\n",
       "      <th>718</th>\n",
       "      <td>0.0</td>\n",
       "      <td>29.699118</td>\n",
       "      <td>0</td>\n",
       "      <td>0</td>\n",
       "      <td>15.5000</td>\n",
       "    </tr>\n",
       "    <tr>\n",
       "      <th>810</th>\n",
       "      <td>0.0</td>\n",
       "      <td>26.000000</td>\n",
       "      <td>0</td>\n",
       "      <td>0</td>\n",
       "      <td>7.8875</td>\n",
       "    </tr>\n",
       "    <tr>\n",
       "      <th>140</th>\n",
       "      <td>1.0</td>\n",
       "      <td>29.699118</td>\n",
       "      <td>0</td>\n",
       "      <td>2</td>\n",
       "      <td>15.2458</td>\n",
       "    </tr>\n",
       "  </tbody>\n",
       "</table>\n",
       "</div>"
      ],
      "text/plain": [
       "     Sex        Age  Number of Siblings/Spouses Aboard  \\\n",
       "516  1.0  34.000000                                  0   \n",
       "727  1.0  29.699118                                  0   \n",
       "718  0.0  29.699118                                  0   \n",
       "810  0.0  26.000000                                  0   \n",
       "140  1.0  29.699118                                  0   \n",
       "\n",
       "     Number of Parents/Children Aboard     Fare  \n",
       "516                                  0  10.5000  \n",
       "727                                  0   7.7375  \n",
       "718                                  0  15.5000  \n",
       "810                                  0   7.8875  \n",
       "140                                  2  15.2458  "
      ]
     },
     "execution_count": 1446,
     "metadata": {},
     "output_type": "execute_result"
    }
   ],
   "source": [
    "X_train.head()"
   ]
  },
  {
   "cell_type": "markdown",
   "metadata": {},
   "source": [
    "Convert features to numpy array."
   ]
  },
  {
   "cell_type": "code",
   "execution_count": 1447,
   "metadata": {},
   "outputs": [],
   "source": [
    "X_train = X_train.to_numpy()\n"
   ]
  },
  {
   "cell_type": "markdown",
   "metadata": {},
   "source": [
    "Scale only age and fare."
   ]
  },
  {
   "cell_type": "code",
   "execution_count": 1448,
   "metadata": {
    "colab": {
     "base_uri": "https://localhost:8080/"
    },
    "id": "vKxjRS4O-brY",
    "outputId": "f2e3cf8d-88bb-4b66-9bec-7c2a2bf90d5d"
   },
   "outputs": [
    {
     "name": "stdout",
     "output_type": "stream",
     "text": [
      "<class 'numpy.ndarray'>\n"
     ]
    }
   ],
   "source": [
    "scaler = StandardScaler()\n",
    "X_train[:, [1,4]] = scaler.fit_transform(X_train[:, [1,4]])\n",
    "print(type(X_train))"
   ]
  },
  {
   "cell_type": "markdown",
   "metadata": {},
   "source": [
    "### Taking care of the outliers in the numerical data"
   ]
  },
  {
   "cell_type": "code",
   "execution_count": 1449,
   "metadata": {},
   "outputs": [
    {
     "name": "stdout",
     "output_type": "stream",
     "text": [
      "Before Outlier removal: \n",
      "X.shape =  (499, 5)  and y.shape =  (499, 1)\n",
      "After Outlier removal: \n",
      "X.shape =  (498, 5)  and y.shape =  (498, 1)\n"
     ]
    }
   ],
   "source": [
    "from sklearn.neighbors import LocalOutlierFactor\n",
    "my_lof = LocalOutlierFactor(contamination=0.01)\n",
    "y_hat = my_lof.fit_predict(X_train) #returns +1 for inliers and -1 for outliers\n",
    "outlier_mask = (y_hat != -1)\n",
    "print('Before Outlier removal: \\nX.shape = ', X_train.shape, ' and y.shape = ', Y_train.shape)\n",
    "X_train, Y_train = X_train[outlier_mask, :], Y_train[outlier_mask]\n",
    "print('After Outlier removal: \\nX.shape = ', X_train.shape, ' and y.shape = ', Y_train.shape)"
   ]
  },
  {
   "cell_type": "markdown",
   "metadata": {
    "id": "pA3oMFS0_JUe"
   },
   "source": [
    "## Exploring Different Machine Learning Models"
   ]
  },
  {
   "cell_type": "code",
   "execution_count": 1450,
   "metadata": {
    "id": "TDdtW_b6_y4P"
   },
   "outputs": [],
   "source": [
    "from sklearn.model_selection import cross_val_score\n",
    "# importing the models\n",
    "from sklearn.discriminant_analysis import LinearDiscriminantAnalysis\n",
    "from sklearn.naive_bayes import GaussianNB\n",
    "from sklearn.neighbors import KNeighborsClassifier\n",
    "from sklearn.svm import SVC\n",
    "from sklearn.tree import DecisionTreeClassifier\n",
    "from sklearn.ensemble import RandomForestClassifier"
   ]
  },
  {
   "cell_type": "markdown",
   "metadata": {
    "id": "WgK0wRHzASOT"
   },
   "source": [
    "Converting the output to numpy array and changing the shape"
   ]
  },
  {
   "cell_type": "code",
   "execution_count": 1451,
   "metadata": {
    "id": "MEs7kN_e_fMs"
   },
   "outputs": [],
   "source": [
    "Y_train = Y_train.to_numpy()\n",
    "Y_train = Y_train.ravel()"
   ]
  },
  {
   "cell_type": "markdown",
   "metadata": {
    "id": "6vTO4tEUAcO9"
   },
   "source": [
    "#### Discriminant Analysis Classifier"
   ]
  },
  {
   "cell_type": "code",
   "execution_count": 1452,
   "metadata": {
    "colab": {
     "base_uri": "https://localhost:8080/"
    },
    "id": "Qfu-JgVd_RWZ",
    "outputId": "00f2eb7c-8762-47e4-d57a-f893ba3f234d"
   },
   "outputs": [
    {
     "data": {
      "text/plain": [
       "LinearDiscriminantAnalysis()"
      ]
     },
     "execution_count": 1452,
     "metadata": {},
     "output_type": "execute_result"
    }
   ],
   "source": [
    "da_clf = LinearDiscriminantAnalysis()\n",
    "da_clf.fit(X_train, Y_train)"
   ]
  },
  {
   "cell_type": "code",
   "execution_count": 1453,
   "metadata": {
    "colab": {
     "base_uri": "https://localhost:8080/"
    },
    "id": "Cswi9cTd_G5s",
    "outputId": "6d2f716b-3d2e-4e1c-9d37-28e88a3eb779"
   },
   "outputs": [
    {
     "name": "stdout",
     "output_type": "stream",
     "text": [
      "[0.69       0.82       0.81       0.84848485 0.80808081]\n",
      "Averaged prediction accuracy =  0.7953131313131313\n"
     ]
    }
   ],
   "source": [
    "from sklearn.model_selection import cross_val_score\n",
    "scores = cross_val_score(da_clf, X_train, Y_train, scoring='accuracy', cv=5)  # 5-fold\n",
    "print(scores)\n",
    "print('Averaged prediction accuracy = ', np.average(scores))\n",
    "avg_cv_scores = {}\n",
    "avg_cv_scores['DA'] = np.average(scores)"
   ]
  },
  {
   "cell_type": "markdown",
   "metadata": {
    "id": "l1TQ632QAig_"
   },
   "source": [
    "#### Naive Bayes Classifier"
   ]
  },
  {
   "cell_type": "code",
   "execution_count": 1454,
   "metadata": {
    "colab": {
     "base_uri": "https://localhost:8080/",
     "height": 318
    },
    "id": "OH55XNSGAkK9",
    "outputId": "4703b6c1-60f0-4452-f679-62cce3c64d31"
   },
   "outputs": [
    {
     "name": "stdout",
     "output_type": "stream",
     "text": [
      "[0.78       0.78       0.74       0.78787879 0.77777778]\n",
      "Averaged prediction accuracy =  0.7731313131313131\n"
     ]
    }
   ],
   "source": [
    "nb_clf = GaussianNB()\n",
    "nb_clf.fit(X_train, Y_train)\n",
    "scores = cross_val_score(nb_clf, X_train, Y_train, scoring='accuracy', cv=5)\n",
    "print(scores)\n",
    "print('Averaged prediction accuracy = ', np.average(scores))\n",
    "avg_cv_scores['NB'] = np.average(scores)"
   ]
  },
  {
   "cell_type": "markdown",
   "metadata": {
    "id": "mpzc6ngnAq1C"
   },
   "source": [
    "#### K-Nearest Neighbors"
   ]
  },
  {
   "cell_type": "code",
   "execution_count": 1455,
   "metadata": {
    "colab": {
     "base_uri": "https://localhost:8080/",
     "height": 318
    },
    "id": "UvKZDd4jApj_",
    "outputId": "a7901d81-a8be-4acd-daac-6dbcdd74edc3"
   },
   "outputs": [
    {
     "name": "stdout",
     "output_type": "stream",
     "text": [
      "[0.76       0.83       0.82       0.88888889 0.82828283]\n",
      "Averaged prediction accuracy =  0.8254343434343433\n"
     ]
    }
   ],
   "source": [
    "knn_clf = KNeighborsClassifier(n_neighbors=5, metric = 'minkowski', p = 2) # change n_neighbors; boundary becomes smoother with increasing value of K\n",
    "knn_clf.fit(X_train, Y_train)\n",
    "scores = cross_val_score(knn_clf, X_train, Y_train, scoring='accuracy', cv=5)\n",
    "print(scores)\n",
    "print('Averaged prediction accuracy = ', np.average(scores))\n",
    "avg_cv_scores['KNN'] = np.average(scores)"
   ]
  },
  {
   "cell_type": "markdown",
   "metadata": {
    "id": "iFMX7hjaAxT2"
   },
   "source": [
    "#### Linear SVM"
   ]
  },
  {
   "cell_type": "code",
   "execution_count": 1456,
   "metadata": {
    "colab": {
     "base_uri": "https://localhost:8080/",
     "height": 318
    },
    "id": "nTr8DZe5Au3l",
    "outputId": "1fb5f9b6-3e77-418d-c908-ffa43a23eceb"
   },
   "outputs": [
    {
     "name": "stdout",
     "output_type": "stream",
     "text": [
      "[0.73       0.82       0.77       0.84848485 0.7979798 ]\n",
      "Averaged prediction accuracy =  0.7932929292929293\n"
     ]
    }
   ],
   "source": [
    "svmln_clf = SVC(kernel='linear')\n",
    "svmln_clf.fit(X_train, Y_train)\n",
    "scores = cross_val_score(svmln_clf, X_train, Y_train, scoring='accuracy', cv=5)\n",
    "print(scores)\n",
    "print('Averaged prediction accuracy = ', np.average(scores))\n",
    "avg_cv_scores['SVM-linear'] = np.average(scores)"
   ]
  },
  {
   "cell_type": "markdown",
   "metadata": {
    "id": "BVybVbYLA2kX"
   },
   "source": [
    "#### Nonlinear SVM (Gaussian Kernel)"
   ]
  },
  {
   "cell_type": "code",
   "execution_count": 1457,
   "metadata": {
    "colab": {
     "base_uri": "https://localhost:8080/",
     "height": 318
    },
    "id": "-jUY94U5A0kR",
    "outputId": "4b735c91-7380-4c15-e9c4-e37bebae0850"
   },
   "outputs": [
    {
     "name": "stdout",
     "output_type": "stream",
     "text": [
      "[0.75       0.83       0.8        0.88888889 0.85858586]\n",
      "Averaged prediction accuracy =  0.8254949494949495\n"
     ]
    }
   ],
   "source": [
    "svmrbf_clf = SVC(kernel='rbf')\n",
    "svmrbf_clf.fit(X_train, Y_train)\n",
    "scores = cross_val_score(svmrbf_clf, X_train, Y_train, scoring='accuracy', cv=5)\n",
    "print(scores)\n",
    "print('Averaged prediction accuracy = ', np.average(scores))\n",
    "avg_cv_scores['SVM-nonlinear'] = np.average(scores)"
   ]
  },
  {
   "cell_type": "markdown",
   "metadata": {
    "id": "14MgPDS5A7TL"
   },
   "source": [
    "#### Decision Tree"
   ]
  },
  {
   "cell_type": "code",
   "execution_count": 1458,
   "metadata": {
    "colab": {
     "base_uri": "https://localhost:8080/",
     "height": 318
    },
    "id": "9X0DorPpA6Lx",
    "outputId": "366315d8-9034-4dcd-80c5-9b7cf00c2ccb"
   },
   "outputs": [
    {
     "name": "stdout",
     "output_type": "stream",
     "text": [
      "[0.81       0.83       0.82       0.88888889 0.81818182]\n",
      "Averaged prediction accuracy =  0.8334141414141414\n"
     ]
    }
   ],
   "source": [
    "tree_clf = DecisionTreeClassifier(max_depth=3) # Play with hyperparameter\n",
    "tree_clf.fit(X_train, Y_train)\n",
    "scores = cross_val_score(tree_clf, X_train, Y_train, scoring='accuracy', cv=5)\n",
    "print(scores)\n",
    "print('Averaged prediction accuracy = ', np.average(scores))\n",
    "avg_cv_scores['Decision Tree'] = np.average(scores)"
   ]
  },
  {
   "cell_type": "markdown",
   "metadata": {},
   "source": [
    "#### Random Forest"
   ]
  },
  {
   "cell_type": "code",
   "execution_count": 1459,
   "metadata": {},
   "outputs": [
    {
     "name": "stdout",
     "output_type": "stream",
     "text": [
      "[0.8        0.83       0.8        0.82828283 0.82828283]\n",
      "Averaged prediction accuracy =  0.8173131313131312\n"
     ]
    }
   ],
   "source": [
    "forest_clf = RandomForestClassifier(n_estimators = 10, criterion = 'entropy', random_state = 0)\n",
    "forest_clf.fit(X_train, Y_train)\n",
    "scores = cross_val_score(forest_clf, X_train, Y_train, scoring='accuracy', cv=5)\n",
    "print(scores)\n",
    "print('Averaged prediction accuracy = ', np.average(scores))\n",
    "avg_cv_scores['Random Forest'] = np.average(scores)"
   ]
  },
  {
   "cell_type": "code",
   "execution_count": 1460,
   "metadata": {
    "colab": {
     "base_uri": "https://localhost:8080/"
    },
    "id": "SsKtCmdUA-a8",
    "outputId": "5bdab0ee-6f3f-433e-eae5-1caa3c4b4a18"
   },
   "outputs": [
    {
     "data": {
      "text/plain": [
       "[('Decision Tree', 0.8334141414141414),\n",
       " ('SVM-nonlinear', 0.8254949494949495),\n",
       " ('KNN', 0.8254343434343433),\n",
       " ('Random Forest', 0.8173131313131312),\n",
       " ('DA', 0.7953131313131313),\n",
       " ('SVM-linear', 0.7932929292929293),\n",
       " ('NB', 0.7731313131313131)]"
      ]
     },
     "execution_count": 1460,
     "metadata": {},
     "output_type": "execute_result"
    }
   ],
   "source": [
    "sorted_scores = sorted(avg_cv_scores.items(), key=lambda X:X[1], reverse=True)\n",
    "sorted_scores"
   ]
  },
  {
   "cell_type": "markdown",
   "metadata": {
    "id": "fVjv9efuBjkp"
   },
   "source": [
    "### Using the Models to Predict the Testset"
   ]
  },
  {
   "cell_type": "code",
   "execution_count": 1461,
   "metadata": {},
   "outputs": [
    {
     "data": {
      "text/html": [
       "<div>\n",
       "<style scoped>\n",
       "    .dataframe tbody tr th:only-of-type {\n",
       "        vertical-align: middle;\n",
       "    }\n",
       "\n",
       "    .dataframe tbody tr th {\n",
       "        vertical-align: top;\n",
       "    }\n",
       "\n",
       "    .dataframe thead th {\n",
       "        text-align: right;\n",
       "    }\n",
       "</style>\n",
       "<table border=\"1\" class=\"dataframe\">\n",
       "  <thead>\n",
       "    <tr style=\"text-align: right;\">\n",
       "      <th></th>\n",
       "      <th>Pclass</th>\n",
       "      <th>Sex</th>\n",
       "      <th>Age</th>\n",
       "      <th>Number of Siblings/Spouses Aboard</th>\n",
       "      <th>Number of Parents/Children Aboard</th>\n",
       "      <th>Fare</th>\n",
       "      <th>Embarked</th>\n",
       "      <th>Survived</th>\n",
       "    </tr>\n",
       "  </thead>\n",
       "  <tbody>\n",
       "    <tr>\n",
       "      <th>17</th>\n",
       "      <td>2</td>\n",
       "      <td>0.0</td>\n",
       "      <td>29.699118</td>\n",
       "      <td>0</td>\n",
       "      <td>0</td>\n",
       "      <td>13.000</td>\n",
       "      <td>0.0</td>\n",
       "      <td>1</td>\n",
       "    </tr>\n",
       "    <tr>\n",
       "      <th>312</th>\n",
       "      <td>2</td>\n",
       "      <td>1.0</td>\n",
       "      <td>26.000000</td>\n",
       "      <td>1</td>\n",
       "      <td>1</td>\n",
       "      <td>26.000</td>\n",
       "      <td>0.0</td>\n",
       "      <td>0</td>\n",
       "    </tr>\n",
       "    <tr>\n",
       "      <th>191</th>\n",
       "      <td>2</td>\n",
       "      <td>0.0</td>\n",
       "      <td>19.000000</td>\n",
       "      <td>0</td>\n",
       "      <td>0</td>\n",
       "      <td>13.000</td>\n",
       "      <td>0.0</td>\n",
       "      <td>0</td>\n",
       "    </tr>\n",
       "    <tr>\n",
       "      <th>244</th>\n",
       "      <td>3</td>\n",
       "      <td>0.0</td>\n",
       "      <td>30.000000</td>\n",
       "      <td>0</td>\n",
       "      <td>0</td>\n",
       "      <td>7.225</td>\n",
       "      <td>1.0</td>\n",
       "      <td>0</td>\n",
       "    </tr>\n",
       "    <tr>\n",
       "      <th>466</th>\n",
       "      <td>2</td>\n",
       "      <td>0.0</td>\n",
       "      <td>29.699118</td>\n",
       "      <td>0</td>\n",
       "      <td>0</td>\n",
       "      <td>0.000</td>\n",
       "      <td>0.0</td>\n",
       "      <td>0</td>\n",
       "    </tr>\n",
       "  </tbody>\n",
       "</table>\n",
       "</div>"
      ],
      "text/plain": [
       "     Pclass  Sex        Age  Number of Siblings/Spouses Aboard  \\\n",
       "17        2  0.0  29.699118                                  0   \n",
       "312       2  1.0  26.000000                                  1   \n",
       "191       2  0.0  19.000000                                  0   \n",
       "244       3  0.0  30.000000                                  0   \n",
       "466       2  0.0  29.699118                                  0   \n",
       "\n",
       "     Number of Parents/Children Aboard    Fare  Embarked  Survived  \n",
       "17                                   0  13.000       0.0         1  \n",
       "312                                  1  26.000       0.0         0  \n",
       "191                                  0  13.000       0.0         0  \n",
       "244                                  0   7.225       1.0         0  \n",
       "466                                  0   0.000       0.0         0  "
      ]
     },
     "execution_count": 1461,
     "metadata": {},
     "output_type": "execute_result"
    }
   ],
   "source": [
    "test_data.head()"
   ]
  },
  {
   "cell_type": "code",
   "execution_count": 1462,
   "metadata": {},
   "outputs": [],
   "source": [
    "# splitting the input and the output from the training set\n",
    "Y_test = test_data[['Survived']].copy()\n",
    "\n",
    "# removing the useless features and the output from the dataset\n",
    "X_test = test_data.drop(['Survived', 'Embarked', 'Pclass'], axis=1) "
   ]
  },
  {
   "cell_type": "code",
   "execution_count": 1463,
   "metadata": {
    "id": "XVKh-aVYBN2m"
   },
   "outputs": [
    {
     "name": "stdout",
     "output_type": "stream",
     "text": [
      "<class 'numpy.ndarray'>\n"
     ]
    }
   ],
   "source": [
    "X_test = X_test.to_numpy()\n",
    "X_test[:, [1,4]] = scaler.transform(X_test[:, [1,4]])\n",
    "print(type(X_test))"
   ]
  },
  {
   "cell_type": "code",
   "execution_count": 1464,
   "metadata": {},
   "outputs": [],
   "source": [
    "Y_test = Y_test.to_numpy()\n",
    "Y_test = Y_test.ravel()"
   ]
  },
  {
   "cell_type": "markdown",
   "metadata": {
    "id": "PMLHvYDqHi_G"
   },
   "source": [
    "Using the trained models to do prediction on the test set."
   ]
  },
  {
   "cell_type": "code",
   "execution_count": 1465,
   "metadata": {
    "id": "kiBUHcvIHzh1"
   },
   "outputs": [],
   "source": [
    "test_pred_score = {}"
   ]
  },
  {
   "cell_type": "code",
   "execution_count": 1466,
   "metadata": {},
   "outputs": [],
   "source": [
    "from sklearn.metrics import confusion_matrix"
   ]
  },
  {
   "cell_type": "markdown",
   "metadata": {},
   "source": [
    "#### Discriminant Analysis Classifier"
   ]
  },
  {
   "cell_type": "code",
   "execution_count": 1467,
   "metadata": {},
   "outputs": [
    {
     "name": "stdout",
     "output_type": "stream",
     "text": [
      "Confusion matrix for Discriminant Analysis Classifier\n",
      "[[60 12]\n",
      " [10 43]]\n",
      "Your Model Accuracy is= 82.39999999999999 %\n"
     ]
    }
   ],
   "source": [
    "# Discriminant Analysis Classifier\n",
    "Y_test_pred_da = da_clf.predict(X_test)\n",
    "test_pred_score['DA'] = accuracy_score(Y_test, Y_test_pred_da)\n",
    "cm = confusion_matrix(Y_test, Y_test_pred_da)\n",
    "print(\"Confusion matrix for Discriminant Analysis Classifier\")\n",
    "print(cm)\n",
    "print(\"Your Model Accuracy is=\", accuracy_score(Y_test, Y_test_pred_da)*100, \"%\")"
   ]
  },
  {
   "cell_type": "markdown",
   "metadata": {},
   "source": [
    "#### Naive Bayes"
   ]
  },
  {
   "cell_type": "code",
   "execution_count": 1468,
   "metadata": {},
   "outputs": [
    {
     "name": "stdout",
     "output_type": "stream",
     "text": [
      "Confusion matrix for # Naive Bayes Classifier\n",
      "[[59 13]\n",
      " [15 38]]\n",
      "Your Model Accuracy is= 77.60000000000001 %\n"
     ]
    }
   ],
   "source": [
    "# Naive Bayes Classifier\n",
    "Y_test_pred_nb = nb_clf.predict(X_test)\n",
    "test_pred_score['NB'] = accuracy_score(Y_test, Y_test_pred_nb)\n",
    "cm = confusion_matrix(Y_test, Y_test_pred_nb)\n",
    "print(\"Confusion matrix for # Naive Bayes Classifier\")\n",
    "print(cm)\n",
    "print(\"Your Model Accuracy is=\", accuracy_score(Y_test, Y_test_pred_nb)*100, \"%\")"
   ]
  },
  {
   "cell_type": "markdown",
   "metadata": {},
   "source": [
    "#### KNN"
   ]
  },
  {
   "cell_type": "code",
   "execution_count": 1469,
   "metadata": {},
   "outputs": [
    {
     "name": "stdout",
     "output_type": "stream",
     "text": [
      "Confusion matrix for KNN\n",
      "[[59 13]\n",
      " [11 42]]\n",
      "Your Model Accuracy is= 77.60000000000001 %\n"
     ]
    }
   ],
   "source": [
    "# K-Nearst Neighbors\n",
    "Y_test_pred_knn = knn_clf.predict(X_test)\n",
    "test_pred_score['KNN'] = accuracy_score(Y_test, Y_test_pred_knn)\n",
    "cm = confusion_matrix(Y_test, Y_test_pred_knn)\n",
    "print(\"Confusion matrix for KNN\")\n",
    "print(cm)\n",
    "print(\"Your Model Accuracy is=\", accuracy_score(Y_test, Y_test_pred_nb)*100, \"%\")"
   ]
  },
  {
   "cell_type": "markdown",
   "metadata": {},
   "source": [
    "#### Linear SVM"
   ]
  },
  {
   "cell_type": "code",
   "execution_count": 1470,
   "metadata": {},
   "outputs": [
    {
     "name": "stdout",
     "output_type": "stream",
     "text": [
      "Confusion matrix for Linear SVM\n",
      "[[60 12]\n",
      " [10 43]]\n",
      "Your Model Accuracy is= 82.39999999999999 %\n"
     ]
    }
   ],
   "source": [
    "# Linear SVM\n",
    "Y_test_pred_svmln = svmln_clf.predict(X_test)\n",
    "test_pred_score['SVM_Linear'] = accuracy_score(Y_test, Y_test_pred_svmln)\n",
    "cm = confusion_matrix(Y_test, Y_test_pred_svmln)\n",
    "print(\"Confusion matrix for Linear SVM\")\n",
    "print(cm)\n",
    "print(\"Your Model Accuracy is=\", accuracy_score(Y_test, Y_test_pred_svmln)*100, \"%\")"
   ]
  },
  {
   "cell_type": "markdown",
   "metadata": {},
   "source": [
    "#### Nonlinear SVM (Gaussian Kernel)\n"
   ]
  },
  {
   "cell_type": "code",
   "execution_count": 1471,
   "metadata": {},
   "outputs": [
    {
     "name": "stdout",
     "output_type": "stream",
     "text": [
      "Confusion matrix for Gaussian Kernel\n",
      "[[58 14]\n",
      " [ 7 46]]\n",
      "Your Model Accuracy is= 83.2 %\n"
     ]
    }
   ],
   "source": [
    "# Nonlinear SVM (Gaussian Kernel)\n",
    "Y_test_pred_svmrbf = svmrbf_clf.predict(X_test)\n",
    "test_pred_score['SVM_nonlinear'] = accuracy_score(Y_test, Y_test_pred_svmrbf)\n",
    "cm = confusion_matrix(Y_test, Y_test_pred_svmrbf)\n",
    "print(\"Confusion matrix for Gaussian Kernel\")\n",
    "print(cm)\n",
    "print(\"Your Model Accuracy is=\", accuracy_score(Y_test, Y_test_pred_svmrbf)*100, \"%\")"
   ]
  },
  {
   "cell_type": "markdown",
   "metadata": {},
   "source": [
    "#### Decision Tree"
   ]
  },
  {
   "cell_type": "code",
   "execution_count": 1472,
   "metadata": {},
   "outputs": [
    {
     "name": "stdout",
     "output_type": "stream",
     "text": [
      "Confusion matrix for Decision Tree\n",
      "[[58 14]\n",
      " [ 5 48]]\n",
      "Your Model Accuracy is= 84.8 %\n"
     ]
    }
   ],
   "source": [
    "# Decision Tree\n",
    "Y_test_pred_tree_clf = tree_clf.predict(X_test)\n",
    "test_pred_score['Decision Tree'] = accuracy_score(Y_test, Y_test_pred_tree_clf)\n",
    "cm = confusion_matrix(Y_test, Y_test_pred_tree_clf)\n",
    "print(\"Confusion matrix for Decision Tree\")\n",
    "print(cm)\n",
    "print(\"Your Model Accuracy is=\", accuracy_score(Y_test, Y_test_pred_tree_clf)*100, \"%\")"
   ]
  },
  {
   "cell_type": "markdown",
   "metadata": {},
   "source": [
    "#### Random Forest"
   ]
  },
  {
   "cell_type": "code",
   "execution_count": 1473,
   "metadata": {},
   "outputs": [
    {
     "name": "stdout",
     "output_type": "stream",
     "text": [
      "Confusion matrix for Decision Tree\n",
      "[[62 10]\n",
      " [15 38]]\n",
      "Your Model Accuracy is= 80.0 %\n"
     ]
    }
   ],
   "source": [
    "# Random Forest\n",
    "Y_test_pred_forest_clf = forest_clf.predict(X_test)\n",
    "test_pred_score['Random Forest'] = accuracy_score(Y_test, Y_test_pred_forest_clf)\n",
    "cm = confusion_matrix(Y_test, Y_test_pred_forest_clf)\n",
    "print(\"Confusion matrix for Decision Tree\")\n",
    "print(cm)\n",
    "print(\"Your Model Accuracy is=\", accuracy_score(Y_test, Y_test_pred_forest_clf)*100, \"%\")"
   ]
  },
  {
   "cell_type": "markdown",
   "metadata": {},
   "source": [
    "#### Results"
   ]
  },
  {
   "cell_type": "code",
   "execution_count": 1474,
   "metadata": {
    "colab": {
     "base_uri": "https://localhost:8080/"
    },
    "id": "29LRZ44DHnsc",
    "outputId": "8d993de5-b344-47ed-d891-db83e6349b4f"
   },
   "outputs": [
    {
     "data": {
      "text/plain": [
       "[('Decision Tree', 0.848),\n",
       " ('SVM_nonlinear', 0.832),\n",
       " ('DA', 0.824),\n",
       " ('SVM_Linear', 0.824),\n",
       " ('KNN', 0.808),\n",
       " ('Random Forest', 0.8),\n",
       " ('NB', 0.776)]"
      ]
     },
     "execution_count": 1474,
     "metadata": {},
     "output_type": "execute_result"
    }
   ],
   "source": [
    "sorted_scores = sorted(test_pred_score.items(), key=lambda X:X[1], reverse=True)\n",
    "sorted_scores"
   ]
  },
  {
   "cell_type": "markdown",
   "metadata": {},
   "source": [
    "We tried 7 different Models:\n",
    "* Discriminant Analysis Classifier\n",
    "* Naive Bayes Classifier\n",
    "* K-Nearest Neighbors\n",
    "* Linear SVM\n",
    "* Non-Linear SVM (Gaussian Kernal)\n",
    "* Decision Tree\n",
    "* Random Forest\n",
    "\n",
    "Based on the results, Decision Tree is consistently the best model to predict the survivors on the Titanic.\n"
   ]
  }
 ],
 "metadata": {
  "colab": {
   "collapsed_sections": [
    "6vTO4tEUAcO9",
    "l1TQ632QAig_",
    "mpzc6ngnAq1C",
    "iFMX7hjaAxT2",
    "BVybVbYLA2kX",
    "14MgPDS5A7TL",
    "fVjv9efuBjkp"
   ],
   "provenance": []
  },
  "kernelspec": {
   "display_name": "Python 3.9.7 ('base')",
   "language": "python",
   "name": "python3"
  },
  "language_info": {
   "codemirror_mode": {
    "name": "ipython",
    "version": 3
   },
   "file_extension": ".py",
   "mimetype": "text/x-python",
   "name": "python",
   "nbconvert_exporter": "python",
   "pygments_lexer": "ipython3",
   "version": "3.9.7"
  },
  "toc": {
   "base_numbering": 1,
   "nav_menu": {},
   "number_sections": true,
   "sideBar": true,
   "skip_h1_title": false,
   "title_cell": "Table of Contents",
   "title_sidebar": "Contents",
   "toc_cell": false,
   "toc_position": {},
   "toc_section_display": true,
   "toc_window_display": false
  },
  "vscode": {
   "interpreter": {
    "hash": "124e47c1ad6ceb91c3ceb1dde65cfb37b91587009ebc216d439d411f4704dda1"
   }
  }
 },
 "nbformat": 4,
 "nbformat_minor": 1
}

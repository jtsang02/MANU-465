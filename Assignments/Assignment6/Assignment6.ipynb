{
 "cells": [
  {
   "cell_type": "markdown",
   "metadata": {
    "colab_type": "text",
    "id": "3DR-eO17geWu"
   },
   "source": [
    "# Assignment 6. What your Shoes say about you?"
   ]
  },
  {
   "cell_type": "markdown",
   "metadata": {},
   "source": [
    "## Project Description"
   ]
  },
  {
   "cell_type": "markdown",
   "metadata": {},
   "source": [
    "Can we predict other people’s personalities, just by taking a photo of their shoes? What about yourself, - Are you a go-getter, an attention-seeker, or a loyal friend? You can try this model on yourself to see if it predicts your personality correctly. Resources: This is an open-ended problem, and you may conduct your own research and find relevant papers or datasets. Here are some suggestions, but you don’t have to use these."
   ]
  },
  {
   "cell_type": "markdown",
   "metadata": {},
   "source": [
    "## My Dataset\n",
    "\n",
    "My dataset consists of 4 categories which I chose based on the article provided below.  \n",
    "The categories and their personalities according to the article are as follows:\n",
    "    \n",
    "      * High Heels boots (take charge)\n",
    "      * Flat sandals (behind the scenes leader)\n",
    "      * Sneakers (get along with everyone)\n",
    "      * Slippers (laid back)\n",
    "\n",
    "My dataset is split into a test and training set each consisting of 360 and 90 images of each of the above categories.\n",
    "\n",
    "src: https://www.rd.com/list/shoes-personality/"
   ]
  },
  {
   "cell_type": "markdown",
   "metadata": {
    "colab_type": "text",
    "id": "EMefrVPCg-60"
   },
   "source": [
    "## Importing the Libraries"
   ]
  },
  {
   "cell_type": "code",
   "execution_count": 71,
   "metadata": {
    "colab": {},
    "colab_type": "code",
    "id": "sCV30xyVhFbE"
   },
   "outputs": [],
   "source": [
    "import tensorflow as tf\n",
    "from keras.preprocessing.image import ImageDataGenerator"
   ]
  },
  {
   "cell_type": "markdown",
   "metadata": {
    "colab_type": "text",
    "id": "oxQxCBWyoGPE"
   },
   "source": [
    "## Data Preprocessing"
   ]
  },
  {
   "cell_type": "markdown",
   "metadata": {
    "colab_type": "text",
    "id": "MvE-heJNo3GG"
   },
   "source": [
    "### Preprocessing the Training Set"
   ]
  },
  {
   "cell_type": "code",
   "execution_count": 72,
   "metadata": {
    "colab": {},
    "colab_type": "code",
    "id": "0koUcJMJpEBD"
   },
   "outputs": [
    {
     "name": "stdout",
     "output_type": "stream",
     "text": [
      "Found 1440 images belonging to 4 classes.\n"
     ]
    }
   ],
   "source": [
    "train_datagen = ImageDataGenerator(rescale = 1./255,\n",
    "                                   shear_range = 0.2,\n",
    "                                   zoom_range = 0.2,\n",
    "                                   horizontal_flip = True)\n",
    "training_set = train_datagen.flow_from_directory('Dataset/Training_Set',\n",
    "                                                 target_size = (64, 64),\n",
    "                                                 batch_size = 32,\n",
    "                                                 class_mode = 'binary')"
   ]
  },
  {
   "cell_type": "markdown",
   "metadata": {
    "colab_type": "text",
    "id": "mrCMmGw9pHys"
   },
   "source": [
    "### Preprocessing the Test Set"
   ]
  },
  {
   "cell_type": "code",
   "execution_count": 73,
   "metadata": {
    "colab": {},
    "colab_type": "code",
    "id": "SH4WzfOhpKc3"
   },
   "outputs": [
    {
     "name": "stdout",
     "output_type": "stream",
     "text": [
      "Found 360 images belonging to 4 classes.\n"
     ]
    }
   ],
   "source": [
    "test_datagen = ImageDataGenerator(rescale = 1./255)\n",
    "test_set = test_datagen.flow_from_directory('Dataset/Test_Set',\n",
    "                                            target_size = (64, 64),\n",
    "                                            batch_size = 32,\n",
    "                                            class_mode = 'binary')"
   ]
  },
  {
   "cell_type": "code",
   "execution_count": 74,
   "metadata": {},
   "outputs": [],
   "source": [
    "# in case of n-classes, class_mode ='categorical'"
   ]
  },
  {
   "cell_type": "markdown",
   "metadata": {
    "colab_type": "text",
    "id": "af8O4l90gk7B"
   },
   "source": [
    "## Building the CNN Model"
   ]
  },
  {
   "cell_type": "markdown",
   "metadata": {
    "colab_type": "text",
    "id": "ces1gXY2lmoX"
   },
   "source": [
    "### Step 1 - Initialising the Model"
   ]
  },
  {
   "cell_type": "code",
   "execution_count": 75,
   "metadata": {
    "colab": {},
    "colab_type": "code",
    "id": "SAUt4UMPlhLS"
   },
   "outputs": [],
   "source": [
    "Model = tf.keras.models.Sequential()"
   ]
  },
  {
   "cell_type": "markdown",
   "metadata": {
    "colab_type": "text",
    "id": "u5YJj_XMl5LF"
   },
   "source": [
    "### Step 2 - Adding First Convolution Layer "
   ]
  },
  {
   "cell_type": "code",
   "execution_count": 76,
   "metadata": {
    "colab": {},
    "colab_type": "code",
    "id": "XPzPrMckl-hV"
   },
   "outputs": [],
   "source": [
    "Model.add(tf.keras.layers.Conv2D(filters=32, kernel_size=3, activation='relu', input_shape=[64, 64, 3]))"
   ]
  },
  {
   "cell_type": "markdown",
   "metadata": {
    "colab_type": "text",
    "id": "tf87FpvxmNOJ"
   },
   "source": [
    "### Step 3 - Pooling the First Layer"
   ]
  },
  {
   "cell_type": "code",
   "execution_count": 77,
   "metadata": {
    "colab": {},
    "colab_type": "code",
    "id": "ncpqPl69mOac"
   },
   "outputs": [],
   "source": [
    "Model.add(tf.keras.layers.MaxPool2D(pool_size=2, strides=2))"
   ]
  },
  {
   "cell_type": "markdown",
   "metadata": {
    "colab_type": "text",
    "id": "xaTOgD8rm4mU"
   },
   "source": [
    "### Step 4 - Adding a Second Convolutional Layer"
   ]
  },
  {
   "cell_type": "code",
   "execution_count": 78,
   "metadata": {
    "colab": {},
    "colab_type": "code",
    "id": "i_-FZjn_m8gk"
   },
   "outputs": [],
   "source": [
    "Model.add(tf.keras.layers.Conv2D(filters=32, kernel_size=3, activation='relu'))"
   ]
  },
  {
   "cell_type": "markdown",
   "metadata": {},
   "source": [
    "### Step 5 - Pooling the Second Layer"
   ]
  },
  {
   "cell_type": "code",
   "execution_count": 79,
   "metadata": {},
   "outputs": [],
   "source": [
    "Model.add(tf.keras.layers.MaxPool2D(pool_size=2, strides=2))"
   ]
  },
  {
   "cell_type": "markdown",
   "metadata": {
    "colab_type": "text",
    "id": "tmiEuvTunKfk"
   },
   "source": [
    "### Step 6 - Flattening"
   ]
  },
  {
   "cell_type": "code",
   "execution_count": 80,
   "metadata": {
    "colab": {},
    "colab_type": "code",
    "id": "6AZeOGCvnNZn"
   },
   "outputs": [],
   "source": [
    "Model.add(tf.keras.layers.Flatten())"
   ]
  },
  {
   "cell_type": "markdown",
   "metadata": {
    "colab_type": "text",
    "id": "dAoSECOm203v"
   },
   "source": [
    "### Step 7 - Full Connection"
   ]
  },
  {
   "cell_type": "code",
   "execution_count": 81,
   "metadata": {
    "colab": {},
    "colab_type": "code",
    "id": "8GtmUlLd26Nq"
   },
   "outputs": [],
   "source": [
    "Model.add(tf.keras.layers.Dense(units=128, activation='relu'))"
   ]
  },
  {
   "cell_type": "markdown",
   "metadata": {
    "colab_type": "text",
    "id": "yTldFvbX28Na"
   },
   "source": [
    "### Step 8 - Output Layer"
   ]
  },
  {
   "cell_type": "code",
   "execution_count": 82,
   "metadata": {
    "colab": {},
    "colab_type": "code",
    "id": "1p_Zj1Mc3Ko_"
   },
   "outputs": [],
   "source": [
    "Model.add(tf.keras.layers.Dense(units=1, activation='sigmoid'))"
   ]
  },
  {
   "cell_type": "code",
   "execution_count": 83,
   "metadata": {},
   "outputs": [],
   "source": [
    "# in case of n-classes: you need to specify n here:\n",
    "n = 4\n",
    "Model.add(tf.keras.layers.Dense(units=n, activation='softmax'))"
   ]
  },
  {
   "cell_type": "markdown",
   "metadata": {
    "colab_type": "text",
    "id": "vfrFQACEnc6i"
   },
   "source": [
    "### Step 9 - Compiling the CNN"
   ]
  },
  {
   "cell_type": "code",
   "execution_count": 84,
   "metadata": {
    "colab": {},
    "colab_type": "code",
    "id": "NALksrNQpUlJ"
   },
   "outputs": [],
   "source": [
    "Model.compile(optimizer = 'adam', loss = 'binary_crossentropy', metrics = ['accuracy'])"
   ]
  },
  {
   "cell_type": "code",
   "execution_count": 85,
   "metadata": {},
   "outputs": [],
   "source": [
    "# in case of n-classes\n",
    "Model.compile(loss='sparse_categorical_crossentropy', optimizer='nadam',metrics=['accuracy'])"
   ]
  },
  {
   "cell_type": "markdown",
   "metadata": {
    "colab_type": "text",
    "id": "D6XkI90snSDl"
   },
   "source": [
    "## Training the CNN and Evaluation"
   ]
  },
  {
   "cell_type": "code",
   "execution_count": 86,
   "metadata": {
    "colab": {},
    "colab_type": "code",
    "id": "XUj1W4PJptta"
   },
   "outputs": [
    {
     "name": "stdout",
     "output_type": "stream",
     "text": [
      "Epoch 1/20\n",
      "45/45 [==============================] - 3s 59ms/step - loss: 1.3717 - accuracy: 0.2771 - val_loss: 1.3352 - val_accuracy: 0.2833\n",
      "Epoch 2/20\n",
      "45/45 [==============================] - 2s 55ms/step - loss: 1.3383 - accuracy: 0.3396 - val_loss: 1.3479 - val_accuracy: 0.3444\n",
      "Epoch 3/20\n",
      "45/45 [==============================] - 2s 55ms/step - loss: 1.3166 - accuracy: 0.3722 - val_loss: 1.2899 - val_accuracy: 0.3944\n",
      "Epoch 4/20\n",
      "45/45 [==============================] - 3s 56ms/step - loss: 1.3075 - accuracy: 0.3819 - val_loss: 1.2782 - val_accuracy: 0.4194\n",
      "Epoch 5/20\n",
      "45/45 [==============================] - 3s 55ms/step - loss: 1.2922 - accuracy: 0.3896 - val_loss: 1.2814 - val_accuracy: 0.3667\n",
      "Epoch 6/20\n",
      "45/45 [==============================] - 2s 55ms/step - loss: 1.2820 - accuracy: 0.3917 - val_loss: 1.2773 - val_accuracy: 0.3917\n",
      "Epoch 7/20\n",
      "45/45 [==============================] - 3s 57ms/step - loss: 1.2670 - accuracy: 0.4083 - val_loss: 1.2682 - val_accuracy: 0.4111\n",
      "Epoch 8/20\n",
      "45/45 [==============================] - 3s 58ms/step - loss: 1.2543 - accuracy: 0.4146 - val_loss: 1.2594 - val_accuracy: 0.3861\n",
      "Epoch 9/20\n",
      "45/45 [==============================] - 3s 56ms/step - loss: 1.2547 - accuracy: 0.4069 - val_loss: 1.2527 - val_accuracy: 0.3667\n",
      "Epoch 10/20\n",
      "45/45 [==============================] - 3s 56ms/step - loss: 1.2354 - accuracy: 0.4167 - val_loss: 1.2418 - val_accuracy: 0.3778\n",
      "Epoch 11/20\n",
      "45/45 [==============================] - 3s 56ms/step - loss: 1.2342 - accuracy: 0.4187 - val_loss: 1.2223 - val_accuracy: 0.4111\n",
      "Epoch 12/20\n",
      "45/45 [==============================] - 3s 57ms/step - loss: 1.2244 - accuracy: 0.4187 - val_loss: 1.2120 - val_accuracy: 0.4083\n",
      "Epoch 13/20\n",
      "45/45 [==============================] - 3s 57ms/step - loss: 1.2113 - accuracy: 0.4799 - val_loss: 1.2369 - val_accuracy: 0.5056\n",
      "Epoch 14/20\n",
      "45/45 [==============================] - 3s 57ms/step - loss: 1.2029 - accuracy: 0.4875 - val_loss: 1.2045 - val_accuracy: 0.4833\n",
      "Epoch 15/20\n",
      "45/45 [==============================] - 3s 56ms/step - loss: 1.1957 - accuracy: 0.4868 - val_loss: 1.1836 - val_accuracy: 0.5083\n",
      "Epoch 16/20\n",
      "45/45 [==============================] - 3s 57ms/step - loss: 1.1907 - accuracy: 0.4854 - val_loss: 1.2064 - val_accuracy: 0.4611\n",
      "Epoch 17/20\n",
      "45/45 [==============================] - 3s 56ms/step - loss: 1.1846 - accuracy: 0.4833 - val_loss: 1.1846 - val_accuracy: 0.4972\n",
      "Epoch 18/20\n",
      "45/45 [==============================] - 3s 56ms/step - loss: 1.1815 - accuracy: 0.4889 - val_loss: 1.1801 - val_accuracy: 0.5139\n",
      "Epoch 19/20\n",
      "45/45 [==============================] - 3s 56ms/step - loss: 1.1715 - accuracy: 0.4819 - val_loss: 1.1661 - val_accuracy: 0.5056\n",
      "Epoch 20/20\n",
      "45/45 [==============================] - 3s 55ms/step - loss: 1.1619 - accuracy: 0.4917 - val_loss: 1.1500 - val_accuracy: 0.5056\n"
     ]
    },
    {
     "data": {
      "text/plain": [
       "<keras.callbacks.History at 0x179806c76a0>"
      ]
     },
     "execution_count": 86,
     "metadata": {},
     "output_type": "execute_result"
    }
   ],
   "source": [
    "Model.fit(x = training_set, validation_data = test_set, epochs = 20)"
   ]
  },
  {
   "cell_type": "markdown",
   "metadata": {
    "colab_type": "text",
    "id": "U3PZasO0006Z"
   },
   "source": [
    "## Making a Prediction"
   ]
  },
  {
   "cell_type": "markdown",
   "metadata": {},
   "source": [
    "Single Prediction   "
   ]
  },
  {
   "cell_type": "code",
   "execution_count": 87,
   "metadata": {
    "colab": {},
    "colab_type": "code",
    "id": "gsSiWEJY1BPB"
   },
   "outputs": [
    {
     "name": "stdout",
     "output_type": "stream",
     "text": [
      "1/1 [==============================] - 0s 48ms/step\n"
     ]
    }
   ],
   "source": [
    "import numpy as np\n",
    "\n",
    "# from keras.preprocessing.image import load_img\n",
    "# from keras.preprocessing.image import img_to_array\n",
    "import keras.utils\n",
    "test_image = keras.utils.load_img('Dataset/Prediction_Set/Sandal1.jpg', target_size = (64, 64))\n",
    "test_image = keras.utils.img_to_array(test_image)\n",
    "test_image = np.expand_dims(test_image, axis = 0)\n",
    "result = Model.predict(test_image)\n",
    "training_set.class_indices\n",
    "if result[0][0] == 1:\n",
    "    prediction = 'Boots'\n",
    "    print('Boots')\n",
    "elif result[0][1] == 1:\n",
    "    prediction = 'Sandals'\n",
    "    print('Sandals')\n",
    "elif result[0][2] == 1:\n",
    "    prediction = 'Shoes'\n",
    "    print('Shoes')\n",
    "elif result[0][3] == 1:\n",
    "    prediction = 'Slippers'\n",
    "    print('Slippers')"
   ]
  },
  {
   "cell_type": "code",
   "execution_count": 88,
   "metadata": {},
   "outputs": [
    {
     "name": "stdout",
     "output_type": "stream",
     "text": [
      "1/1 [==============================] - 0s 14ms/step\n",
      "1/1 [==============================] - 0s 14ms/step\n",
      "7183757.513.jpg = none\n",
      "1/1 [==============================] - 0s 13ms/step\n",
      "1/1 [==============================] - 0s 14ms/step\n",
      "7222328.3.jpg = none\n",
      "1/1 [==============================] - 0s 14ms/step\n",
      "1/1 [==============================] - 0s 14ms/step\n",
      "7359683.5296.jpg = none\n",
      "1/1 [==============================] - 0s 13ms/step\n",
      "1/1 [==============================] - 0s 13ms/step\n",
      "7453940.621.jpg = none\n",
      "1/1 [==============================] - 0s 13ms/step\n",
      "1/1 [==============================] - 0s 13ms/step\n",
      "7486137.359.jpg = none\n",
      "1/1 [==============================] - 0s 14ms/step\n",
      "1/1 [==============================] - 0s 13ms/step\n",
      "7803233.3.jpg = none\n",
      "1/1 [==============================] - 0s 13ms/step\n",
      "1/1 [==============================] - 0s 14ms/step\n",
      "7887561.216.jpg = none\n",
      "1/1 [==============================] - 0s 13ms/step\n",
      "1/1 [==============================] - 0s 14ms/step\n",
      "7887561.72.jpg = none\n",
      "1/1 [==============================] - 0s 14ms/step\n",
      "1/1 [==============================] - 0s 13ms/step\n",
      "7953234.421.jpg = none\n",
      "1/1 [==============================] - 0s 13ms/step\n",
      "1/1 [==============================] - 0s 13ms/step\n",
      "7953234.68564.jpg = none\n",
      "1/1 [==============================] - 0s 13ms/step\n",
      "1/1 [==============================] - 0s 13ms/step\n",
      "8037343.375474.jpg = none\n",
      "1/1 [==============================] - 0s 14ms/step\n",
      "1/1 [==============================] - 0s 14ms/step\n",
      "8037360.82.jpg = none\n",
      "1/1 [==============================] - 0s 13ms/step\n",
      "1/1 [==============================] - 0s 14ms/step\n",
      "8070393.20.jpg = none\n",
      "1/1 [==============================] - 0s 14ms/step\n",
      "1/1 [==============================] - 0s 13ms/step\n",
      "8070393.388349.jpg = none\n",
      "1/1 [==============================] - 0s 14ms/step\n",
      "1/1 [==============================] - 0s 14ms/step\n",
      "Sandal1.jpg = none\n"
     ]
    }
   ],
   "source": [
    "import numpy as np\n",
    "import os\n",
    "# from keras.preprocessing import image\n",
    "import keras.utils\n",
    "result =[]\n",
    "path = 'Dataset/Prediction_Set'\n",
    "for img in os.listdir(path):\n",
    "    test_image = keras.utils.load_img(path+\"/\"+img, target_size = (64, 64))\n",
    "    test_image = keras.utils.img_to_array(test_image)\n",
    "    test_image = np.expand_dims(test_image, axis = 0)\n",
    "    result.append(Model.predict(test_image))\n",
    "    predict = Model.predict(test_image)\n",
    "    #print (result[i][0][0])\n",
    "    if predict[0][0] == 1:\n",
    "        prediction = 'Boots'\n",
    "    elif predict[0][1] == 1:\n",
    "        prediction = 'Sandals'\n",
    "    elif predict[0][2] == 1:\n",
    "        prediction = 'Shoes'\n",
    "    elif predict[0][3] == 1:\n",
    "        prediction = 'Slippers'\n",
    "    print(img + \" = \"+ prediction)"
   ]
  },
  {
   "cell_type": "markdown",
   "metadata": {},
   "source": [
    "## Model Accuracy"
   ]
  },
  {
   "cell_type": "code",
   "execution_count": 89,
   "metadata": {},
   "outputs": [
    {
     "name": "stdout",
     "output_type": "stream",
     "text": [
      "45/45 [==============================] - 2s 38ms/step - loss: 1.1496 - accuracy: 0.4972\n"
     ]
    },
    {
     "data": {
      "text/plain": [
       "[1.1496325731277466, 0.4972222149372101]"
      ]
     },
     "execution_count": 89,
     "metadata": {},
     "output_type": "execute_result"
    }
   ],
   "source": [
    "Model.evaluate(training_set)"
   ]
  },
  {
   "cell_type": "code",
   "execution_count": 90,
   "metadata": {},
   "outputs": [
    {
     "name": "stdout",
     "output_type": "stream",
     "text": [
      "12/12 [==============================] - 0s 15ms/step - loss: 1.1500 - accuracy: 0.5056\n"
     ]
    },
    {
     "data": {
      "text/plain": [
       "[1.1500178575515747, 0.5055555701255798]"
      ]
     },
     "execution_count": 90,
     "metadata": {},
     "output_type": "execute_result"
    }
   ],
   "source": [
    "Model.evaluate(test_set)"
   ]
  },
  {
   "cell_type": "markdown",
   "metadata": {},
   "source": [
    "The CNN classification model was found to be less than 50% accurate on training set and test set. "
   ]
  }
 ],
 "metadata": {
  "colab": {
   "collapsed_sections": [],
   "name": "convolutional_neural_network.ipynb",
   "provenance": [],
   "toc_visible": true
  },
  "kernelspec": {
   "display_name": "Python 3 (ipykernel)",
   "language": "python",
   "name": "python3"
  },
  "language_info": {
   "codemirror_mode": {
    "name": "ipython",
    "version": 3
   },
   "file_extension": ".py",
   "mimetype": "text/x-python",
   "name": "python",
   "nbconvert_exporter": "python",
   "pygments_lexer": "ipython3",
   "version": "3.9.7"
  },
  "toc": {
   "base_numbering": 1,
   "nav_menu": {},
   "number_sections": true,
   "sideBar": true,
   "skip_h1_title": false,
   "title_cell": "Table of Contents",
   "title_sidebar": "Contents",
   "toc_cell": false,
   "toc_position": {},
   "toc_section_display": true,
   "toc_window_display": false
  },
  "varInspector": {
   "cols": {
    "lenName": 16,
    "lenType": 16,
    "lenVar": 40
   },
   "kernels_config": {
    "python": {
     "delete_cmd_postfix": "",
     "delete_cmd_prefix": "del ",
     "library": "var_list.py",
     "varRefreshCmd": "print(var_dic_list())"
    },
    "r": {
     "delete_cmd_postfix": ") ",
     "delete_cmd_prefix": "rm(",
     "library": "var_list.r",
     "varRefreshCmd": "cat(var_dic_list()) "
    }
   },
   "types_to_exclude": [
    "module",
    "function",
    "builtin_function_or_method",
    "instance",
    "_Feature"
   ],
   "window_display": false
  },
  "vscode": {
   "interpreter": {
    "hash": "124e47c1ad6ceb91c3ceb1dde65cfb37b91587009ebc216d439d411f4704dda1"
   }
  }
 },
 "nbformat": 4,
 "nbformat_minor": 1
}

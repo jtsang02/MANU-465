{
 "cells": [
  {
   "cell_type": "markdown",
   "id": "d3605422-b34f-4199-aa01-c6d7ba080622",
   "metadata": {},
   "source": [
    "# Assignment 1 The Power Plant Energy\n",
    "\n",
    "## Project Description\n",
    "\n",
    "The dataset contains 9568 data points collected from a Combined Cycle Power Plant over 6 years (2006-2011) when the plant was set to work with a full load. The dataset consists of hourly average ambient variables Temperature (T), Ambient Pressure (AP), Relative Humidity (RH), and Exhaust Vacuum (V) to predict the net hourly electrical energy output (EP) of the plant.\n",
    "\n",
    "Features consist of hourly average ambient variables\n",
    "\n",
    "- Temperature (T) in the range 1.81°C and 37.11°C,\n",
    "- Ambient Pressure (AP) in the range 992.89-1033.30 millibar,\n",
    "- Relative Humidity (RH) in the range 25.56% to 100.16%\n",
    "- Exhaust Vacuum (V) in the range 25.36-81.56 cm Hg\n",
    "- Net hourly electrical energy output (EP) 420.26-495.76 MW\n",
    "\n",
    "The averages are taken from various sensors located around the plant that record the ambient variables every second. The variables are given without normalization.\n",
    "\n",
    "Prepare a Python notebook (Jupyter NB) report, that contains a brief description of the project, and the features (variables); then split the dataset into train and test sets (80 & 20%), if necessary do the feature scaling, and build a model which can predict the EP (electrical energy output), using two methods and compare the results: Method 1. Multiple Regression and Method 2. SVM Regression."
   ]
  },
  {
   "cell_type": "markdown",
   "id": "681cf9ed-3af2-426e-a4c0-f700e7a9e729",
   "metadata": {},
   "source": [
    "## Importing Some Basic Libraries"
   ]
  },
  {
   "cell_type": "code",
   "execution_count": 121,
   "id": "50435b6a-111b-495e-9af9-ca2aa0c43bb3",
   "metadata": {},
   "outputs": [],
   "source": [
    "import numpy as np \n",
    "import pandas as pd \n",
    "from matplotlib import pyplot as plt"
   ]
  },
  {
   "cell_type": "markdown",
   "id": "d65cf566-b637-4a74-893a-4e88e813b96d",
   "metadata": {},
   "source": [
    "## Importing the Dataset"
   ]
  },
  {
   "cell_type": "code",
   "execution_count": 122,
   "id": "95d47113-cba9-49e0-8240-afacc0e46774",
   "metadata": {},
   "outputs": [],
   "source": [
    "dataset = pd.read_csv('Power Plant Data.csv')"
   ]
  },
  {
   "cell_type": "markdown",
   "id": "485b15b0-a80c-4f4b-9a3c-a90b7b54eb56",
   "metadata": {},
   "source": [
    "## Showing the Dataset in a Table"
   ]
  },
  {
   "cell_type": "code",
   "execution_count": 123,
   "id": "3e1988e3-1997-476e-8e95-18e45e222715",
   "metadata": {},
   "outputs": [
    {
     "data": {
      "text/html": [
       "<div>\n",
       "<style scoped>\n",
       "    .dataframe tbody tr th:only-of-type {\n",
       "        vertical-align: middle;\n",
       "    }\n",
       "\n",
       "    .dataframe tbody tr th {\n",
       "        vertical-align: top;\n",
       "    }\n",
       "\n",
       "    .dataframe thead th {\n",
       "        text-align: right;\n",
       "    }\n",
       "</style>\n",
       "<table border=\"1\" class=\"dataframe\">\n",
       "  <thead>\n",
       "    <tr style=\"text-align: right;\">\n",
       "      <th></th>\n",
       "      <th>Ambient Temperature (C)</th>\n",
       "      <th>Exhaust Vacuum (cm Hg)</th>\n",
       "      <th>Ambient Pressure (milibar)</th>\n",
       "      <th>Relative Humidity (%)</th>\n",
       "      <th>Hourly Electrical Energy output (MW)</th>\n",
       "    </tr>\n",
       "  </thead>\n",
       "  <tbody>\n",
       "    <tr>\n",
       "      <th>0</th>\n",
       "      <td>14.96</td>\n",
       "      <td>41.76</td>\n",
       "      <td>1024.07</td>\n",
       "      <td>73.17</td>\n",
       "      <td>463.26</td>\n",
       "    </tr>\n",
       "    <tr>\n",
       "      <th>1</th>\n",
       "      <td>25.18</td>\n",
       "      <td>62.96</td>\n",
       "      <td>1020.04</td>\n",
       "      <td>59.08</td>\n",
       "      <td>444.37</td>\n",
       "    </tr>\n",
       "    <tr>\n",
       "      <th>2</th>\n",
       "      <td>5.11</td>\n",
       "      <td>39.40</td>\n",
       "      <td>1012.16</td>\n",
       "      <td>92.14</td>\n",
       "      <td>488.56</td>\n",
       "    </tr>\n",
       "    <tr>\n",
       "      <th>3</th>\n",
       "      <td>20.86</td>\n",
       "      <td>57.32</td>\n",
       "      <td>1010.24</td>\n",
       "      <td>76.64</td>\n",
       "      <td>446.48</td>\n",
       "    </tr>\n",
       "    <tr>\n",
       "      <th>4</th>\n",
       "      <td>10.82</td>\n",
       "      <td>37.50</td>\n",
       "      <td>1009.23</td>\n",
       "      <td>96.62</td>\n",
       "      <td>473.90</td>\n",
       "    </tr>\n",
       "  </tbody>\n",
       "</table>\n",
       "</div>"
      ],
      "text/plain": [
       "   Ambient Temperature (C)   Exhaust Vacuum (cm Hg)  \\\n",
       "0                     14.96                   41.76   \n",
       "1                     25.18                   62.96   \n",
       "2                      5.11                   39.40   \n",
       "3                     20.86                   57.32   \n",
       "4                     10.82                   37.50   \n",
       "\n",
       "   Ambient Pressure (milibar)  Relative Humidity (%)  \\\n",
       "0                     1024.07                  73.17   \n",
       "1                     1020.04                  59.08   \n",
       "2                     1012.16                  92.14   \n",
       "3                     1010.24                  76.64   \n",
       "4                     1009.23                  96.62   \n",
       "\n",
       "   Hourly Electrical Energy output (MW)  \n",
       "0                                463.26  \n",
       "1                                444.37  \n",
       "2                                488.56  \n",
       "3                                446.48  \n",
       "4                                473.90  "
      ]
     },
     "execution_count": 123,
     "metadata": {},
     "output_type": "execute_result"
    }
   ],
   "source": [
    "dataset.head()"
   ]
  },
  {
   "cell_type": "markdown",
   "id": "057741e5-5c38-4bde-ba63-b5a25831ad0f",
   "metadata": {},
   "source": [
    "## A Quick Review of the Data"
   ]
  },
  {
   "cell_type": "code",
   "execution_count": 124,
   "id": "3a68688c-a2e0-4fd9-83cb-6d891981ab75",
   "metadata": {
    "scrolled": true
   },
   "outputs": [
    {
     "name": "stdout",
     "output_type": "stream",
     "text": [
      "<class 'pandas.core.frame.DataFrame'>\n",
      "RangeIndex: 9568 entries, 0 to 9567\n",
      "Data columns (total 5 columns):\n",
      " #   Column                                Non-Null Count  Dtype  \n",
      "---  ------                                --------------  -----  \n",
      " 0   Ambient Temperature (C)               9568 non-null   float64\n",
      " 1   Exhaust Vacuum (cm Hg)                9568 non-null   float64\n",
      " 2   Ambient Pressure (milibar)            9568 non-null   float64\n",
      " 3   Relative Humidity (%)                 9568 non-null   float64\n",
      " 4   Hourly Electrical Energy output (MW)  9568 non-null   float64\n",
      "dtypes: float64(5)\n",
      "memory usage: 373.9 KB\n"
     ]
    }
   ],
   "source": [
    "dataset.info()"
   ]
  },
  {
   "cell_type": "markdown",
   "id": "d25657ee",
   "metadata": {},
   "source": [
    " ## Separate the Input and Output"
   ]
  },
  {
   "cell_type": "code",
   "execution_count": 125,
   "id": "bad1824e",
   "metadata": {},
   "outputs": [],
   "source": [
    "X = dataset.iloc[:, :-1].values\n",
    "y = dataset.iloc[:, -1].values"
   ]
  },
  {
   "cell_type": "markdown",
   "id": "43a4add3-522d-4854-8f50-919175b3cbe6",
   "metadata": {},
   "source": [
    "## Showing the Input Data in a Table Format"
   ]
  },
  {
   "cell_type": "code",
   "execution_count": 126,
   "id": "6a46dc59",
   "metadata": {},
   "outputs": [
    {
     "data": {
      "text/html": [
       "<div>\n",
       "<style scoped>\n",
       "    .dataframe tbody tr th:only-of-type {\n",
       "        vertical-align: middle;\n",
       "    }\n",
       "\n",
       "    .dataframe tbody tr th {\n",
       "        vertical-align: top;\n",
       "    }\n",
       "\n",
       "    .dataframe thead th {\n",
       "        text-align: right;\n",
       "    }\n",
       "</style>\n",
       "<table border=\"1\" class=\"dataframe\">\n",
       "  <thead>\n",
       "    <tr style=\"text-align: right;\">\n",
       "      <th></th>\n",
       "      <th>0</th>\n",
       "      <th>1</th>\n",
       "      <th>2</th>\n",
       "      <th>3</th>\n",
       "    </tr>\n",
       "  </thead>\n",
       "  <tbody>\n",
       "    <tr>\n",
       "      <th>0</th>\n",
       "      <td>14.96</td>\n",
       "      <td>41.76</td>\n",
       "      <td>1024.07</td>\n",
       "      <td>73.17</td>\n",
       "    </tr>\n",
       "    <tr>\n",
       "      <th>1</th>\n",
       "      <td>25.18</td>\n",
       "      <td>62.96</td>\n",
       "      <td>1020.04</td>\n",
       "      <td>59.08</td>\n",
       "    </tr>\n",
       "    <tr>\n",
       "      <th>2</th>\n",
       "      <td>5.11</td>\n",
       "      <td>39.40</td>\n",
       "      <td>1012.16</td>\n",
       "      <td>92.14</td>\n",
       "    </tr>\n",
       "    <tr>\n",
       "      <th>3</th>\n",
       "      <td>20.86</td>\n",
       "      <td>57.32</td>\n",
       "      <td>1010.24</td>\n",
       "      <td>76.64</td>\n",
       "    </tr>\n",
       "    <tr>\n",
       "      <th>4</th>\n",
       "      <td>10.82</td>\n",
       "      <td>37.50</td>\n",
       "      <td>1009.23</td>\n",
       "      <td>96.62</td>\n",
       "    </tr>\n",
       "    <tr>\n",
       "      <th>...</th>\n",
       "      <td>...</td>\n",
       "      <td>...</td>\n",
       "      <td>...</td>\n",
       "      <td>...</td>\n",
       "    </tr>\n",
       "    <tr>\n",
       "      <th>9563</th>\n",
       "      <td>16.65</td>\n",
       "      <td>49.69</td>\n",
       "      <td>1014.01</td>\n",
       "      <td>91.00</td>\n",
       "    </tr>\n",
       "    <tr>\n",
       "      <th>9564</th>\n",
       "      <td>13.19</td>\n",
       "      <td>39.18</td>\n",
       "      <td>1023.67</td>\n",
       "      <td>66.78</td>\n",
       "    </tr>\n",
       "    <tr>\n",
       "      <th>9565</th>\n",
       "      <td>31.32</td>\n",
       "      <td>74.33</td>\n",
       "      <td>1012.92</td>\n",
       "      <td>36.48</td>\n",
       "    </tr>\n",
       "    <tr>\n",
       "      <th>9566</th>\n",
       "      <td>24.48</td>\n",
       "      <td>69.45</td>\n",
       "      <td>1013.86</td>\n",
       "      <td>62.39</td>\n",
       "    </tr>\n",
       "    <tr>\n",
       "      <th>9567</th>\n",
       "      <td>21.60</td>\n",
       "      <td>62.52</td>\n",
       "      <td>1017.23</td>\n",
       "      <td>67.87</td>\n",
       "    </tr>\n",
       "  </tbody>\n",
       "</table>\n",
       "<p>9568 rows × 4 columns</p>\n",
       "</div>"
      ],
      "text/plain": [
       "          0      1        2      3\n",
       "0     14.96  41.76  1024.07  73.17\n",
       "1     25.18  62.96  1020.04  59.08\n",
       "2      5.11  39.40  1012.16  92.14\n",
       "3     20.86  57.32  1010.24  76.64\n",
       "4     10.82  37.50  1009.23  96.62\n",
       "...     ...    ...      ...    ...\n",
       "9563  16.65  49.69  1014.01  91.00\n",
       "9564  13.19  39.18  1023.67  66.78\n",
       "9565  31.32  74.33  1012.92  36.48\n",
       "9566  24.48  69.45  1013.86  62.39\n",
       "9567  21.60  62.52  1017.23  67.87\n",
       "\n",
       "[9568 rows x 4 columns]"
      ]
     },
     "execution_count": 126,
     "metadata": {},
     "output_type": "execute_result"
    }
   ],
   "source": [
    "pd.DataFrame(X)"
   ]
  },
  {
   "cell_type": "markdown",
   "id": "29b469a6-89a5-4e9c-a0ba-5642bb1db9dc",
   "metadata": {},
   "source": [
    "## A Quick Check of the Output Data"
   ]
  },
  {
   "cell_type": "code",
   "execution_count": 127,
   "id": "d9d7a778",
   "metadata": {},
   "outputs": [
    {
     "data": {
      "text/html": [
       "<div>\n",
       "<style scoped>\n",
       "    .dataframe tbody tr th:only-of-type {\n",
       "        vertical-align: middle;\n",
       "    }\n",
       "\n",
       "    .dataframe tbody tr th {\n",
       "        vertical-align: top;\n",
       "    }\n",
       "\n",
       "    .dataframe thead th {\n",
       "        text-align: right;\n",
       "    }\n",
       "</style>\n",
       "<table border=\"1\" class=\"dataframe\">\n",
       "  <thead>\n",
       "    <tr style=\"text-align: right;\">\n",
       "      <th></th>\n",
       "      <th>0</th>\n",
       "    </tr>\n",
       "  </thead>\n",
       "  <tbody>\n",
       "    <tr>\n",
       "      <th>0</th>\n",
       "      <td>463.26</td>\n",
       "    </tr>\n",
       "    <tr>\n",
       "      <th>1</th>\n",
       "      <td>444.37</td>\n",
       "    </tr>\n",
       "    <tr>\n",
       "      <th>2</th>\n",
       "      <td>488.56</td>\n",
       "    </tr>\n",
       "    <tr>\n",
       "      <th>3</th>\n",
       "      <td>446.48</td>\n",
       "    </tr>\n",
       "    <tr>\n",
       "      <th>4</th>\n",
       "      <td>473.90</td>\n",
       "    </tr>\n",
       "    <tr>\n",
       "      <th>...</th>\n",
       "      <td>...</td>\n",
       "    </tr>\n",
       "    <tr>\n",
       "      <th>9563</th>\n",
       "      <td>460.03</td>\n",
       "    </tr>\n",
       "    <tr>\n",
       "      <th>9564</th>\n",
       "      <td>469.62</td>\n",
       "    </tr>\n",
       "    <tr>\n",
       "      <th>9565</th>\n",
       "      <td>429.57</td>\n",
       "    </tr>\n",
       "    <tr>\n",
       "      <th>9566</th>\n",
       "      <td>435.74</td>\n",
       "    </tr>\n",
       "    <tr>\n",
       "      <th>9567</th>\n",
       "      <td>453.28</td>\n",
       "    </tr>\n",
       "  </tbody>\n",
       "</table>\n",
       "<p>9568 rows × 1 columns</p>\n",
       "</div>"
      ],
      "text/plain": [
       "           0\n",
       "0     463.26\n",
       "1     444.37\n",
       "2     488.56\n",
       "3     446.48\n",
       "4     473.90\n",
       "...      ...\n",
       "9563  460.03\n",
       "9564  469.62\n",
       "9565  429.57\n",
       "9566  435.74\n",
       "9567  453.28\n",
       "\n",
       "[9568 rows x 1 columns]"
      ]
     },
     "execution_count": 127,
     "metadata": {},
     "output_type": "execute_result"
    }
   ],
   "source": [
    "pd.DataFrame(y)"
   ]
  },
  {
   "cell_type": "markdown",
   "id": "5a3158a8-d49a-44b9-bd32-0c5dbf55b680",
   "metadata": {},
   "source": [
    "## Splitting the Dataset into the Training Set and Test Set"
   ]
  },
  {
   "cell_type": "code",
   "execution_count": 128,
   "id": "f1393161-46cd-4ba8-9821-a4298733f28c",
   "metadata": {},
   "outputs": [],
   "source": [
    "from sklearn.model_selection import train_test_split"
   ]
  },
  {
   "cell_type": "code",
   "execution_count": 129,
   "id": "3037ec6c",
   "metadata": {},
   "outputs": [],
   "source": [
    "X_train, X_test, y_train, y_test = train_test_split(X, y, test_size=0.2, random_state=1)"
   ]
  },
  {
   "cell_type": "code",
   "execution_count": 130,
   "id": "3e71fabf",
   "metadata": {},
   "outputs": [
    {
     "data": {
      "text/plain": [
       "(7654, 4)"
      ]
     },
     "execution_count": 130,
     "metadata": {},
     "output_type": "execute_result"
    }
   ],
   "source": [
    "X_train.shape"
   ]
  },
  {
   "cell_type": "code",
   "execution_count": 131,
   "id": "f3d34a92",
   "metadata": {},
   "outputs": [
    {
     "data": {
      "text/plain": [
       "(1914, 4)"
      ]
     },
     "execution_count": 131,
     "metadata": {},
     "output_type": "execute_result"
    }
   ],
   "source": [
    "X_test.shape"
   ]
  },
  {
   "cell_type": "code",
   "execution_count": 132,
   "id": "9e03e370",
   "metadata": {},
   "outputs": [
    {
     "data": {
      "text/plain": [
       "(7654,)"
      ]
     },
     "execution_count": 132,
     "metadata": {},
     "output_type": "execute_result"
    }
   ],
   "source": [
    "y_train.shape"
   ]
  },
  {
   "cell_type": "markdown",
   "id": "a7e1d8a2",
   "metadata": {},
   "source": [
    "# Method 1: Training the Multiple Linear Regression Model on the Training Set\n",
    "from sklearn.linear_model import LinearRegression\n",
    "regressor = LinearRegression()\n",
    "regressor.fit(X_train, y_train)"
   ]
  },
  {
   "cell_type": "markdown",
   "id": "59752352",
   "metadata": {},
   "source": [
    "## Checking the Model with the Test set"
   ]
  },
  {
   "cell_type": "code",
   "execution_count": 133,
   "id": "8f20c4bc",
   "metadata": {
    "scrolled": true
   },
   "outputs": [
    {
     "data": {
      "text/html": [
       "<div>\n",
       "<style scoped>\n",
       "    .dataframe tbody tr th:only-of-type {\n",
       "        vertical-align: middle;\n",
       "    }\n",
       "\n",
       "    .dataframe tbody tr th {\n",
       "        vertical-align: top;\n",
       "    }\n",
       "\n",
       "    .dataframe thead th {\n",
       "        text-align: right;\n",
       "    }\n",
       "</style>\n",
       "<table border=\"1\" class=\"dataframe\">\n",
       "  <thead>\n",
       "    <tr style=\"text-align: right;\">\n",
       "      <th></th>\n",
       "      <th>0</th>\n",
       "      <th>1</th>\n",
       "      <th>2</th>\n",
       "      <th>3</th>\n",
       "      <th>4</th>\n",
       "      <th>5</th>\n",
       "      <th>6</th>\n",
       "      <th>7</th>\n",
       "      <th>8</th>\n",
       "      <th>9</th>\n",
       "      <th>...</th>\n",
       "      <th>1904</th>\n",
       "      <th>1905</th>\n",
       "      <th>1906</th>\n",
       "      <th>1907</th>\n",
       "      <th>1908</th>\n",
       "      <th>1909</th>\n",
       "      <th>1910</th>\n",
       "      <th>1911</th>\n",
       "      <th>1912</th>\n",
       "      <th>1913</th>\n",
       "    </tr>\n",
       "  </thead>\n",
       "  <tbody>\n",
       "    <tr>\n",
       "      <th>0</th>\n",
       "      <td>457.255221</td>\n",
       "      <td>466.719274</td>\n",
       "      <td>440.366949</td>\n",
       "      <td>482.57801</td>\n",
       "      <td>474.880547</td>\n",
       "      <td>448.824227</td>\n",
       "      <td>440.149749</td>\n",
       "      <td>478.061406</td>\n",
       "      <td>466.985618</td>\n",
       "      <td>479.480139</td>\n",
       "      <td>...</td>\n",
       "      <td>430.63655</td>\n",
       "      <td>428.319126</td>\n",
       "      <td>487.944282</td>\n",
       "      <td>464.437471</td>\n",
       "      <td>455.293903</td>\n",
       "      <td>445.676877</td>\n",
       "      <td>447.891673</td>\n",
       "      <td>476.405029</td>\n",
       "      <td>424.616097</td>\n",
       "      <td>463.911411</td>\n",
       "    </tr>\n",
       "    <tr>\n",
       "      <th>1</th>\n",
       "      <td>458.960000</td>\n",
       "      <td>463.290000</td>\n",
       "      <td>435.270000</td>\n",
       "      <td>484.31000</td>\n",
       "      <td>473.550000</td>\n",
       "      <td>456.300000</td>\n",
       "      <td>436.020000</td>\n",
       "      <td>488.750000</td>\n",
       "      <td>469.750000</td>\n",
       "      <td>482.830000</td>\n",
       "      <td>...</td>\n",
       "      <td>438.28000</td>\n",
       "      <td>432.190000</td>\n",
       "      <td>494.870000</td>\n",
       "      <td>463.500000</td>\n",
       "      <td>449.330000</td>\n",
       "      <td>446.400000</td>\n",
       "      <td>457.120000</td>\n",
       "      <td>476.220000</td>\n",
       "      <td>440.290000</td>\n",
       "      <td>467.920000</td>\n",
       "    </tr>\n",
       "  </tbody>\n",
       "</table>\n",
       "<p>2 rows × 1914 columns</p>\n",
       "</div>"
      ],
      "text/plain": [
       "         0           1           2          3           4           5     \\\n",
       "0  457.255221  466.719274  440.366949  482.57801  474.880547  448.824227   \n",
       "1  458.960000  463.290000  435.270000  484.31000  473.550000  456.300000   \n",
       "\n",
       "         6           7           8           9     ...       1904        1905  \\\n",
       "0  440.149749  478.061406  466.985618  479.480139  ...  430.63655  428.319126   \n",
       "1  436.020000  488.750000  469.750000  482.830000  ...  438.28000  432.190000   \n",
       "\n",
       "         1906        1907        1908        1909        1910        1911  \\\n",
       "0  487.944282  464.437471  455.293903  445.676877  447.891673  476.405029   \n",
       "1  494.870000  463.500000  449.330000  446.400000  457.120000  476.220000   \n",
       "\n",
       "         1912        1913  \n",
       "0  424.616097  463.911411  \n",
       "1  440.290000  467.920000  \n",
       "\n",
       "[2 rows x 1914 columns]"
      ]
     },
     "execution_count": 133,
     "metadata": {},
     "output_type": "execute_result"
    }
   ],
   "source": [
    "# linear regression \n",
    "from sklearn.linear_model import LinearRegression\n",
    "regressor = LinearRegression()\n",
    "regressor.fit(X_train, y_train)\n",
    "y_pred = regressor.predict(X_test)\n",
    "pd.DataFrame([y_pred,y_test])"
   ]
  },
  {
   "cell_type": "markdown",
   "id": "016c4276",
   "metadata": {},
   "source": [
    "Check the accuracy of the multiple linear regression model."
   ]
  },
  {
   "cell_type": "code",
   "execution_count": 134,
   "id": "ef308b1e",
   "metadata": {},
   "outputs": [],
   "source": [
    "from sklearn.metrics import r2_score"
   ]
  },
  {
   "cell_type": "code",
   "execution_count": 135,
   "id": "eeaac026",
   "metadata": {},
   "outputs": [
    {
     "name": "stdout",
     "output_type": "stream",
     "text": [
      "0.9321860060402447\n"
     ]
    }
   ],
   "source": [
    "print(r2_score(y_test, y_pred))"
   ]
  },
  {
   "cell_type": "markdown",
   "id": "7732945b-2f59-4d5b-9da3-25ab66fd8d75",
   "metadata": {},
   "source": [
    "## Scaling the Features"
   ]
  },
  {
   "cell_type": "code",
   "execution_count": 136,
   "id": "d9b662ae-42ab-4c1d-bcf7-2d77ddeb5da9",
   "metadata": {},
   "outputs": [
    {
     "data": {
      "text/plain": [
       "'\"\\nfrom sklearn.preprocessing import StandardScaler\\nsc = StandardScaler()\\nX[:, 3:6] = sc.fit_transform(X[:, 3:6])\\npd.DataFrame(X)\\n'"
      ]
     },
     "execution_count": 136,
     "metadata": {},
     "output_type": "execute_result"
    }
   ],
   "source": [
    "# Since the input variables are all in a same range,we can skip this step\n",
    "\"\"\"\"\n",
    "from sklearn.preprocessing import StandardScaler\n",
    "sc = StandardScaler()\n",
    "X[:, 3:6] = sc.fit_transform(X[:, 3:6])\n",
    "pd.DataFrame(X)\n",
    "\"\"\"\"\""
   ]
  },
  {
   "cell_type": "markdown",
   "id": "30a771da",
   "metadata": {},
   "source": [
    "## Measuring the Model Performance"
   ]
  },
  {
   "cell_type": "code",
   "execution_count": 137,
   "id": "0b7c92e2",
   "metadata": {},
   "outputs": [
    {
     "name": "stdout",
     "output_type": "stream",
     "text": [
      "RMSE:  4.508879190536162\n"
     ]
    }
   ],
   "source": [
    "from sklearn.metrics import mean_squared_error\n",
    "RMSE=(mean_squared_error(y_pred,y_test))**0.5\n",
    "print('RMSE: ', RMSE)"
   ]
  },
  {
   "cell_type": "markdown",
   "id": "50ad566d-d2a5-46b3-9fc5-ee9ee974ba6e",
   "metadata": {},
   "source": [
    "## Training and Testing Predictive Models"
   ]
  },
  {
   "cell_type": "code",
   "execution_count": 138,
   "id": "f72ea651-590a-447e-8653-a16c765e0eb1",
   "metadata": {},
   "outputs": [
    {
     "name": "stdout",
     "output_type": "stream",
     "text": [
      "The EP Prediction for the New Data Point =  [467.83988642]\n"
     ]
    }
   ],
   "source": [
    "NewDataPt=np.array([15, 40, 1020, 70])\n",
    "NewDataPt=NewDataPt.reshape(1, -1)\n",
    "EP_Prediction= regressor.predict(NewDataPt)\n",
    "print('The EP Prediction for the New Data Point = ', EP_Prediction)"
   ]
  },
  {
   "cell_type": "markdown",
   "id": "e2cf336f",
   "metadata": {},
   "source": [
    "# Method 2: Training the SVM Regression Model on the Training Set"
   ]
  },
  {
   "cell_type": "code",
   "execution_count": 139,
   "id": "b36446af",
   "metadata": {},
   "outputs": [],
   "source": [
    "X_train, X_test, y_train, y_test = train_test_split(X, y, test_size=0.2, random_state=1)"
   ]
  },
  {
   "cell_type": "code",
   "execution_count": 140,
   "id": "08452bef",
   "metadata": {},
   "outputs": [
    {
     "data": {
      "text/plain": [
       "(7654,)"
      ]
     },
     "execution_count": 140,
     "metadata": {},
     "output_type": "execute_result"
    }
   ],
   "source": [
    "y_train.shape"
   ]
  },
  {
   "cell_type": "code",
   "execution_count": 141,
   "id": "d9049976",
   "metadata": {
    "scrolled": true
   },
   "outputs": [
    {
     "data": {
      "text/plain": [
       "(7654, 4)"
      ]
     },
     "execution_count": 141,
     "metadata": {},
     "output_type": "execute_result"
    }
   ],
   "source": [
    "X_train.shape"
   ]
  },
  {
   "cell_type": "markdown",
   "id": "3a4a9789",
   "metadata": {},
   "source": [
    "### Feature Scaling"
   ]
  },
  {
   "cell_type": "code",
   "execution_count": 142,
   "id": "2793d6cf",
   "metadata": {},
   "outputs": [],
   "source": [
    "#need to do scaling\n",
    "from sklearn.preprocessing import StandardScaler\n",
    "sc_X = StandardScaler()\n",
    "sc_y = StandardScaler()\n",
    "X_train = sc_X.fit_transform(X_train)\n",
    "y_train = sc_y.fit_transform(y_train.reshape(-1, 1)) # we have to change the shape of y_train"
   ]
  },
  {
   "cell_type": "markdown",
   "id": "0cbc23cc",
   "metadata": {},
   "source": [
    "### Training the Model"
   ]
  },
  {
   "cell_type": "code",
   "execution_count": 143,
   "id": "d4bb5f76",
   "metadata": {},
   "outputs": [
    {
     "data": {
      "text/plain": [
       "SVR()"
      ]
     },
     "execution_count": 143,
     "metadata": {},
     "output_type": "execute_result"
    }
   ],
   "source": [
    "# Support vector machine\n",
    "from sklearn.svm import SVR\n",
    "SVRmodel = SVR(kernel = 'rbf')\n",
    "SVRmodel.fit(X_train, y_train.reshape(len(y_train),))"
   ]
  },
  {
   "cell_type": "markdown",
   "id": "b5328c58",
   "metadata": {},
   "source": [
    "### Checking the SVM Model with the Test set"
   ]
  },
  {
   "cell_type": "code",
   "execution_count": 144,
   "id": "c9f9bfe9",
   "metadata": {
    "scrolled": false
   },
   "outputs": [
    {
     "data": {
      "text/html": [
       "<div>\n",
       "<style scoped>\n",
       "    .dataframe tbody tr th:only-of-type {\n",
       "        vertical-align: middle;\n",
       "    }\n",
       "\n",
       "    .dataframe tbody tr th {\n",
       "        vertical-align: top;\n",
       "    }\n",
       "\n",
       "    .dataframe thead th {\n",
       "        text-align: right;\n",
       "    }\n",
       "</style>\n",
       "<table border=\"1\" class=\"dataframe\">\n",
       "  <thead>\n",
       "    <tr style=\"text-align: right;\">\n",
       "      <th></th>\n",
       "      <th>0</th>\n",
       "      <th>1</th>\n",
       "      <th>2</th>\n",
       "      <th>3</th>\n",
       "      <th>4</th>\n",
       "      <th>5</th>\n",
       "      <th>6</th>\n",
       "      <th>7</th>\n",
       "      <th>8</th>\n",
       "      <th>9</th>\n",
       "      <th>...</th>\n",
       "      <th>1904</th>\n",
       "      <th>1905</th>\n",
       "      <th>1906</th>\n",
       "      <th>1907</th>\n",
       "      <th>1908</th>\n",
       "      <th>1909</th>\n",
       "      <th>1910</th>\n",
       "      <th>1911</th>\n",
       "      <th>1912</th>\n",
       "      <th>1913</th>\n",
       "    </tr>\n",
       "  </thead>\n",
       "  <tbody>\n",
       "    <tr>\n",
       "      <th>0</th>\n",
       "      <td>0.154197</td>\n",
       "      <td>0.547249</td>\n",
       "      <td>-0.99024</td>\n",
       "      <td>1.833892</td>\n",
       "      <td>1.396393</td>\n",
       "      <td>-0.085902</td>\n",
       "      <td>-0.86267</td>\n",
       "      <td>1.607464</td>\n",
       "      <td>0.838121</td>\n",
       "      <td>1.762295</td>\n",
       "      <td>...</td>\n",
       "      <td>-1.313182</td>\n",
       "      <td>-1.240862</td>\n",
       "      <td>2.023872</td>\n",
       "      <td>0.487897</td>\n",
       "      <td>-0.01347</td>\n",
       "      <td>-0.509876</td>\n",
       "      <td>-0.412424</td>\n",
       "      <td>1.291742</td>\n",
       "      <td>-1.261421</td>\n",
       "      <td>0.582211</td>\n",
       "    </tr>\n",
       "    <tr>\n",
       "      <th>1</th>\n",
       "      <td>458.960000</td>\n",
       "      <td>463.290000</td>\n",
       "      <td>435.27000</td>\n",
       "      <td>484.310000</td>\n",
       "      <td>473.550000</td>\n",
       "      <td>456.300000</td>\n",
       "      <td>436.02000</td>\n",
       "      <td>488.750000</td>\n",
       "      <td>469.750000</td>\n",
       "      <td>482.830000</td>\n",
       "      <td>...</td>\n",
       "      <td>438.280000</td>\n",
       "      <td>432.190000</td>\n",
       "      <td>494.870000</td>\n",
       "      <td>463.500000</td>\n",
       "      <td>449.33000</td>\n",
       "      <td>446.400000</td>\n",
       "      <td>457.120000</td>\n",
       "      <td>476.220000</td>\n",
       "      <td>440.290000</td>\n",
       "      <td>467.920000</td>\n",
       "    </tr>\n",
       "  </tbody>\n",
       "</table>\n",
       "<p>2 rows × 1914 columns</p>\n",
       "</div>"
      ],
      "text/plain": [
       "         0           1          2           3           4           5     \\\n",
       "0    0.154197    0.547249   -0.99024    1.833892    1.396393   -0.085902   \n",
       "1  458.960000  463.290000  435.27000  484.310000  473.550000  456.300000   \n",
       "\n",
       "        6           7           8           9     ...        1904        1905  \\\n",
       "0   -0.86267    1.607464    0.838121    1.762295  ...   -1.313182   -1.240862   \n",
       "1  436.02000  488.750000  469.750000  482.830000  ...  438.280000  432.190000   \n",
       "\n",
       "         1906        1907       1908        1909        1910        1911  \\\n",
       "0    2.023872    0.487897   -0.01347   -0.509876   -0.412424    1.291742   \n",
       "1  494.870000  463.500000  449.33000  446.400000  457.120000  476.220000   \n",
       "\n",
       "         1912        1913  \n",
       "0   -1.261421    0.582211  \n",
       "1  440.290000  467.920000  \n",
       "\n",
       "[2 rows x 1914 columns]"
      ]
     },
     "execution_count": 144,
     "metadata": {},
     "output_type": "execute_result"
    }
   ],
   "source": [
    "y_pred = SVRmodel.predict(sc_X.transform(X_test))\n",
    "pd.DataFrame([y_pred,y_test])"
   ]
  },
  {
   "cell_type": "code",
   "execution_count": 145,
   "id": "d919c3b9",
   "metadata": {},
   "outputs": [
    {
     "name": "stdout",
     "output_type": "stream",
     "text": [
      "The Prediction Energy= 0.20121586826818377\n",
      "The Actual Energy= 458.61\n"
     ]
    }
   ],
   "source": [
    "# Let's make a few random check:\n",
    "print(\"The Prediction Energy=\",y_pred[103])\n",
    "print(\"The Actual Energy=\",y_test[103] )"
   ]
  },
  {
   "cell_type": "code",
   "execution_count": 146,
   "id": "317ad1a1",
   "metadata": {
    "scrolled": false
   },
   "outputs": [
    {
     "name": "stdout",
     "output_type": "stream",
     "text": [
      "The EP Prediction for the New Data Point =  [0.20753105]\n"
     ]
    }
   ],
   "source": [
    "NewDataPt=np.array([15, 40, 1020, 70])\n",
    "NewDataPt=NewDataPt.reshape(1, -1)\n",
    "EP_Prediction= SVRmodel.predict(NewDataPt)\n",
    "print('The EP Prediction for the New Data Point = ', EP_Prediction)"
   ]
  },
  {
   "cell_type": "markdown",
   "id": "386b32f3",
   "metadata": {},
   "source": [
    "### Evaluate Model Performance"
   ]
  },
  {
   "cell_type": "markdown",
   "id": "7432697a",
   "metadata": {},
   "source": [
    "Check the accuracy of the SVM regression model."
   ]
  },
  {
   "cell_type": "code",
   "execution_count": 147,
   "id": "d5596110",
   "metadata": {},
   "outputs": [
    {
     "name": "stdout",
     "output_type": "stream",
     "text": [
      "-688.5474347973706\n"
     ]
    }
   ],
   "source": [
    "print(r2_score(y_test, y_pred))"
   ]
  },
  {
   "cell_type": "markdown",
   "id": "d601186e",
   "metadata": {},
   "source": [
    "# Comparison between Multiple Regression and SVM Regression"
   ]
  },
  {
   "cell_type": "markdown",
   "id": "d472ee93",
   "metadata": {},
   "source": [
    "We built two separate models in this notebook, one using multiple linear regression and the other using support vector machine regression. The accuracy of the multiple linear regression model is much higher at 93.2% compared to the SVM regression model at 38.4%."
   ]
  }
 ],
 "metadata": {
  "kernelspec": {
   "display_name": "Python 3 (ipykernel)",
   "language": "python",
   "name": "python3"
  },
  "language_info": {
   "codemirror_mode": {
    "name": "ipython",
    "version": 3
   },
   "file_extension": ".py",
   "mimetype": "text/x-python",
   "name": "python",
   "nbconvert_exporter": "python",
   "pygments_lexer": "ipython3",
   "version": "3.9.12"
  },
  "toc": {
   "base_numbering": 1,
   "nav_menu": {},
   "number_sections": true,
   "sideBar": true,
   "skip_h1_title": false,
   "title_cell": "Table of Contents",
   "title_sidebar": "Contents",
   "toc_cell": false,
   "toc_position": {},
   "toc_section_display": true,
   "toc_window_display": false
  },
  "vscode": {
   "interpreter": {
    "hash": "124e47c1ad6ceb91c3ceb1dde65cfb37b91587009ebc216d439d411f4704dda1"
   }
  }
 },
 "nbformat": 4,
 "nbformat_minor": 5
}

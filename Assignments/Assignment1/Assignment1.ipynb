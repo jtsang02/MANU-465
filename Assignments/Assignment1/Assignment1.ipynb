{
 "cells": [
  {
   "cell_type": "markdown",
   "id": "d3605422-b34f-4199-aa01-c6d7ba080622",
   "metadata": {},
   "source": [
    "# Assignment 1 The Power Plant Energy\n",
    "\n",
    "## Project Description\n",
    "\n",
    "The dataset contains 9568 data points collected from a Combined Cycle Power Plant over 6 years (2006-2011) when the plant was set to work with a full load. The dataset consists of hourly average ambient variables Temperature (T), Ambient Pressure (AP), Relative Humidity (RH), and Exhaust Vacuum (V) to predict the net hourly electrical energy output (EP) of the plant.\n",
    "\n",
    "Features consist of hourly average ambient variables\n",
    "\n",
    "- Temperature (T) in the range 1.81°C and 37.11°C,\n",
    "- Ambient Pressure (AP) in the range 992.89-1033.30 millibar,\n",
    "- Relative Humidity (RH) in the range 25.56% to 100.16%\n",
    "- Exhaust Vacuum (V) in the range 25.36-81.56 cm Hg\n",
    "- Net hourly electrical energy output (EP) 420.26-495.76 MW\n",
    "\n",
    "The averages are taken from various sensors located around the plant that record the ambient variables every second. The variables are given without normalization.\n",
    "\n",
    "Prepare a Python notebook (Jupyter NB) report, that contains a brief description of the project, and the features (variables); then split the dataset into train and test sets (80 & 20%), if necessary do the feature scaling, and build a model which can predict the EP (electrical energy output), using two methods and compare the results: Method 1. Multiple Regression and Method 2. SVM Regression."
   ]
  },
  {
   "cell_type": "markdown",
   "id": "681cf9ed-3af2-426e-a4c0-f700e7a9e729",
   "metadata": {},
   "source": [
    "## Importing Some Basic Libraries"
   ]
  },
  {
   "cell_type": "code",
   "execution_count": 210,
   "id": "50435b6a-111b-495e-9af9-ca2aa0c43bb3",
   "metadata": {},
   "outputs": [],
   "source": [
    "import numpy as np \n",
    "import pandas as pd \n",
    "from matplotlib import pyplot as plt"
   ]
  },
  {
   "cell_type": "markdown",
   "id": "d65cf566-b637-4a74-893a-4e88e813b96d",
   "metadata": {},
   "source": [
    "## Importing the Dataset"
   ]
  },
  {
   "cell_type": "code",
   "execution_count": 211,
   "id": "95d47113-cba9-49e0-8240-afacc0e46774",
   "metadata": {},
   "outputs": [],
   "source": [
    "dataset = pd.read_csv('Power Plant Data.csv')"
   ]
  },
  {
   "cell_type": "markdown",
   "id": "485b15b0-a80c-4f4b-9a3c-a90b7b54eb56",
   "metadata": {},
   "source": [
    "## Showing the Dataset in a Table"
   ]
  },
  {
   "cell_type": "code",
   "execution_count": 212,
   "id": "3e1988e3-1997-476e-8e95-18e45e222715",
   "metadata": {},
   "outputs": [
    {
     "data": {
      "text/html": [
       "<div>\n",
       "<style scoped>\n",
       "    .dataframe tbody tr th:only-of-type {\n",
       "        vertical-align: middle;\n",
       "    }\n",
       "\n",
       "    .dataframe tbody tr th {\n",
       "        vertical-align: top;\n",
       "    }\n",
       "\n",
       "    .dataframe thead th {\n",
       "        text-align: right;\n",
       "    }\n",
       "</style>\n",
       "<table border=\"1\" class=\"dataframe\">\n",
       "  <thead>\n",
       "    <tr style=\"text-align: right;\">\n",
       "      <th></th>\n",
       "      <th>Ambient Temperature (C)</th>\n",
       "      <th>Exhaust Vacuum (cm Hg)</th>\n",
       "      <th>Ambient Pressure (milibar)</th>\n",
       "      <th>Relative Humidity (%)</th>\n",
       "      <th>Hourly Electrical Energy output (MW)</th>\n",
       "    </tr>\n",
       "  </thead>\n",
       "  <tbody>\n",
       "    <tr>\n",
       "      <th>0</th>\n",
       "      <td>14.96</td>\n",
       "      <td>41.76</td>\n",
       "      <td>1024.07</td>\n",
       "      <td>73.17</td>\n",
       "      <td>463.26</td>\n",
       "    </tr>\n",
       "    <tr>\n",
       "      <th>1</th>\n",
       "      <td>25.18</td>\n",
       "      <td>62.96</td>\n",
       "      <td>1020.04</td>\n",
       "      <td>59.08</td>\n",
       "      <td>444.37</td>\n",
       "    </tr>\n",
       "    <tr>\n",
       "      <th>2</th>\n",
       "      <td>5.11</td>\n",
       "      <td>39.40</td>\n",
       "      <td>1012.16</td>\n",
       "      <td>92.14</td>\n",
       "      <td>488.56</td>\n",
       "    </tr>\n",
       "    <tr>\n",
       "      <th>3</th>\n",
       "      <td>20.86</td>\n",
       "      <td>57.32</td>\n",
       "      <td>1010.24</td>\n",
       "      <td>76.64</td>\n",
       "      <td>446.48</td>\n",
       "    </tr>\n",
       "    <tr>\n",
       "      <th>4</th>\n",
       "      <td>10.82</td>\n",
       "      <td>37.50</td>\n",
       "      <td>1009.23</td>\n",
       "      <td>96.62</td>\n",
       "      <td>473.90</td>\n",
       "    </tr>\n",
       "  </tbody>\n",
       "</table>\n",
       "</div>"
      ],
      "text/plain": [
       "   Ambient Temperature (C)   Exhaust Vacuum (cm Hg)  \\\n",
       "0                     14.96                   41.76   \n",
       "1                     25.18                   62.96   \n",
       "2                      5.11                   39.40   \n",
       "3                     20.86                   57.32   \n",
       "4                     10.82                   37.50   \n",
       "\n",
       "   Ambient Pressure (milibar)  Relative Humidity (%)  \\\n",
       "0                     1024.07                  73.17   \n",
       "1                     1020.04                  59.08   \n",
       "2                     1012.16                  92.14   \n",
       "3                     1010.24                  76.64   \n",
       "4                     1009.23                  96.62   \n",
       "\n",
       "   Hourly Electrical Energy output (MW)  \n",
       "0                                463.26  \n",
       "1                                444.37  \n",
       "2                                488.56  \n",
       "3                                446.48  \n",
       "4                                473.90  "
      ]
     },
     "execution_count": 212,
     "metadata": {},
     "output_type": "execute_result"
    }
   ],
   "source": [
    "dataset.head()"
   ]
  },
  {
   "cell_type": "markdown",
   "id": "057741e5-5c38-4bde-ba63-b5a25831ad0f",
   "metadata": {},
   "source": [
    "## A Quick Review of the Data"
   ]
  },
  {
   "cell_type": "code",
   "execution_count": 213,
   "id": "3a68688c-a2e0-4fd9-83cb-6d891981ab75",
   "metadata": {
    "scrolled": true
   },
   "outputs": [
    {
     "name": "stdout",
     "output_type": "stream",
     "text": [
      "<class 'pandas.core.frame.DataFrame'>\n",
      "RangeIndex: 9568 entries, 0 to 9567\n",
      "Data columns (total 5 columns):\n",
      " #   Column                                Non-Null Count  Dtype  \n",
      "---  ------                                --------------  -----  \n",
      " 0   Ambient Temperature (C)               9568 non-null   float64\n",
      " 1   Exhaust Vacuum (cm Hg)                9568 non-null   float64\n",
      " 2   Ambient Pressure (milibar)            9568 non-null   float64\n",
      " 3   Relative Humidity (%)                 9568 non-null   float64\n",
      " 4   Hourly Electrical Energy output (MW)  9568 non-null   float64\n",
      "dtypes: float64(5)\n",
      "memory usage: 373.9 KB\n"
     ]
    }
   ],
   "source": [
    "dataset.info()"
   ]
  },
  {
   "cell_type": "markdown",
   "id": "d25657ee",
   "metadata": {},
   "source": [
    " ## Separate the Input and Output"
   ]
  },
  {
   "cell_type": "code",
   "execution_count": 214,
   "id": "bad1824e",
   "metadata": {},
   "outputs": [],
   "source": [
    "X = dataset.iloc[:, 0:4]\n",
    "y = dataset.iloc[:, -1]"
   ]
  },
  {
   "cell_type": "markdown",
   "id": "43a4add3-522d-4854-8f50-919175b3cbe6",
   "metadata": {},
   "source": [
    "## Showing the Input Data in a Table Format"
   ]
  },
  {
   "cell_type": "code",
   "execution_count": 215,
   "id": "8c67d6fe-247a-4e5c-9b68-489d5c9fb34f",
   "metadata": {},
   "outputs": [
    {
     "data": {
      "text/html": [
       "<div>\n",
       "<style scoped>\n",
       "    .dataframe tbody tr th:only-of-type {\n",
       "        vertical-align: middle;\n",
       "    }\n",
       "\n",
       "    .dataframe tbody tr th {\n",
       "        vertical-align: top;\n",
       "    }\n",
       "\n",
       "    .dataframe thead th {\n",
       "        text-align: right;\n",
       "    }\n",
       "</style>\n",
       "<table border=\"1\" class=\"dataframe\">\n",
       "  <thead>\n",
       "    <tr style=\"text-align: right;\">\n",
       "      <th></th>\n",
       "      <th>Ambient Temperature (C)</th>\n",
       "      <th>Exhaust Vacuum (cm Hg)</th>\n",
       "      <th>Ambient Pressure (milibar)</th>\n",
       "      <th>Relative Humidity (%)</th>\n",
       "    </tr>\n",
       "  </thead>\n",
       "  <tbody>\n",
       "    <tr>\n",
       "      <th>0</th>\n",
       "      <td>14.96</td>\n",
       "      <td>41.76</td>\n",
       "      <td>1024.07</td>\n",
       "      <td>73.17</td>\n",
       "    </tr>\n",
       "    <tr>\n",
       "      <th>1</th>\n",
       "      <td>25.18</td>\n",
       "      <td>62.96</td>\n",
       "      <td>1020.04</td>\n",
       "      <td>59.08</td>\n",
       "    </tr>\n",
       "    <tr>\n",
       "      <th>2</th>\n",
       "      <td>5.11</td>\n",
       "      <td>39.40</td>\n",
       "      <td>1012.16</td>\n",
       "      <td>92.14</td>\n",
       "    </tr>\n",
       "    <tr>\n",
       "      <th>3</th>\n",
       "      <td>20.86</td>\n",
       "      <td>57.32</td>\n",
       "      <td>1010.24</td>\n",
       "      <td>76.64</td>\n",
       "    </tr>\n",
       "    <tr>\n",
       "      <th>4</th>\n",
       "      <td>10.82</td>\n",
       "      <td>37.50</td>\n",
       "      <td>1009.23</td>\n",
       "      <td>96.62</td>\n",
       "    </tr>\n",
       "  </tbody>\n",
       "</table>\n",
       "</div>"
      ],
      "text/plain": [
       "   Ambient Temperature (C)   Exhaust Vacuum (cm Hg)  \\\n",
       "0                     14.96                   41.76   \n",
       "1                     25.18                   62.96   \n",
       "2                      5.11                   39.40   \n",
       "3                     20.86                   57.32   \n",
       "4                     10.82                   37.50   \n",
       "\n",
       "   Ambient Pressure (milibar)  Relative Humidity (%)  \n",
       "0                     1024.07                  73.17  \n",
       "1                     1020.04                  59.08  \n",
       "2                     1012.16                  92.14  \n",
       "3                     1010.24                  76.64  \n",
       "4                     1009.23                  96.62  "
      ]
     },
     "execution_count": 215,
     "metadata": {},
     "output_type": "execute_result"
    }
   ],
   "source": [
    "X.head()"
   ]
  },
  {
   "cell_type": "markdown",
   "id": "29b469a6-89a5-4e9c-a0ba-5642bb1db9dc",
   "metadata": {},
   "source": [
    "## A Quick Check of the Output Data"
   ]
  },
  {
   "cell_type": "code",
   "execution_count": 216,
   "id": "0acdbab5-61b2-4402-8e18-718c32c8c06b",
   "metadata": {},
   "outputs": [
    {
     "data": {
      "text/plain": [
       "0    463.26\n",
       "1    444.37\n",
       "2    488.56\n",
       "3    446.48\n",
       "4    473.90\n",
       "Name: Hourly Electrical Energy output (MW), dtype: float64"
      ]
     },
     "execution_count": 216,
     "metadata": {},
     "output_type": "execute_result"
    }
   ],
   "source": [
    "y.head()"
   ]
  },
  {
   "cell_type": "markdown",
   "id": "5a3158a8-d49a-44b9-bd32-0c5dbf55b680",
   "metadata": {},
   "source": [
    "## Splitting the Dataset into the Training Set and Test Set"
   ]
  },
  {
   "cell_type": "code",
   "execution_count": 217,
   "id": "62622e48",
   "metadata": {},
   "outputs": [],
   "source": [
    "from sklearn.metrics import accuracy_score\n"
   ]
  },
  {
   "cell_type": "code",
   "execution_count": 218,
   "id": "f1393161-46cd-4ba8-9821-a4298733f28c",
   "metadata": {},
   "outputs": [],
   "source": [
    "from sklearn.model_selection import train_test_split"
   ]
  },
  {
   "cell_type": "code",
   "execution_count": 219,
   "id": "3037ec6c",
   "metadata": {},
   "outputs": [],
   "source": [
    "X_train, X_test, y_train, y_test = train_test_split(X, y, test_size=0.2, random_state=1)"
   ]
  },
  {
   "cell_type": "code",
   "execution_count": 220,
   "id": "3e71fabf",
   "metadata": {},
   "outputs": [],
   "source": [
    "# X_train.shape"
   ]
  },
  {
   "cell_type": "code",
   "execution_count": 221,
   "id": "f3d34a92",
   "metadata": {},
   "outputs": [],
   "source": [
    "# X_test.shape"
   ]
  },
  {
   "cell_type": "markdown",
   "id": "a7e1d8a2",
   "metadata": {},
   "source": [
    "# Method 1: Training the Multiple Linear Regression Model on the Training Set\n",
    "from sklearn.linear_model import LinearRegression\n",
    "regressor = LinearRegression()\n",
    "regressor.fit(X_train, y_train)"
   ]
  },
  {
   "cell_type": "markdown",
   "id": "59752352",
   "metadata": {},
   "source": [
    "## Checking the Model with the Test set"
   ]
  },
  {
   "cell_type": "code",
   "execution_count": 222,
   "id": "8f20c4bc",
   "metadata": {},
   "outputs": [
    {
     "data": {
      "text/html": [
       "<div>\n",
       "<style scoped>\n",
       "    .dataframe tbody tr th:only-of-type {\n",
       "        vertical-align: middle;\n",
       "    }\n",
       "\n",
       "    .dataframe tbody tr th {\n",
       "        vertical-align: top;\n",
       "    }\n",
       "\n",
       "    .dataframe thead th {\n",
       "        text-align: right;\n",
       "    }\n",
       "</style>\n",
       "<table border=\"1\" class=\"dataframe\">\n",
       "  <thead>\n",
       "    <tr style=\"text-align: right;\">\n",
       "      <th></th>\n",
       "      <th>0</th>\n",
       "      <th>1</th>\n",
       "      <th>2</th>\n",
       "      <th>3</th>\n",
       "      <th>4</th>\n",
       "      <th>5</th>\n",
       "      <th>6</th>\n",
       "      <th>7</th>\n",
       "      <th>8</th>\n",
       "      <th>9</th>\n",
       "      <th>...</th>\n",
       "      <th>1904</th>\n",
       "      <th>1905</th>\n",
       "      <th>1906</th>\n",
       "      <th>1907</th>\n",
       "      <th>1908</th>\n",
       "      <th>1909</th>\n",
       "      <th>1910</th>\n",
       "      <th>1911</th>\n",
       "      <th>1912</th>\n",
       "      <th>1913</th>\n",
       "    </tr>\n",
       "  </thead>\n",
       "  <tbody>\n",
       "    <tr>\n",
       "      <th>0</th>\n",
       "      <td>457.255221</td>\n",
       "      <td>466.719274</td>\n",
       "      <td>440.366949</td>\n",
       "      <td>482.57801</td>\n",
       "      <td>474.880547</td>\n",
       "      <td>448.824227</td>\n",
       "      <td>440.149749</td>\n",
       "      <td>478.061406</td>\n",
       "      <td>466.985618</td>\n",
       "      <td>479.480139</td>\n",
       "      <td>...</td>\n",
       "      <td>430.63655</td>\n",
       "      <td>428.319126</td>\n",
       "      <td>487.944282</td>\n",
       "      <td>464.437471</td>\n",
       "      <td>455.293903</td>\n",
       "      <td>445.676877</td>\n",
       "      <td>447.891673</td>\n",
       "      <td>476.405029</td>\n",
       "      <td>424.616097</td>\n",
       "      <td>463.911411</td>\n",
       "    </tr>\n",
       "    <tr>\n",
       "      <th>1</th>\n",
       "      <td>458.960000</td>\n",
       "      <td>463.290000</td>\n",
       "      <td>435.270000</td>\n",
       "      <td>484.31000</td>\n",
       "      <td>473.550000</td>\n",
       "      <td>456.300000</td>\n",
       "      <td>436.020000</td>\n",
       "      <td>488.750000</td>\n",
       "      <td>469.750000</td>\n",
       "      <td>482.830000</td>\n",
       "      <td>...</td>\n",
       "      <td>438.28000</td>\n",
       "      <td>432.190000</td>\n",
       "      <td>494.870000</td>\n",
       "      <td>463.500000</td>\n",
       "      <td>449.330000</td>\n",
       "      <td>446.400000</td>\n",
       "      <td>457.120000</td>\n",
       "      <td>476.220000</td>\n",
       "      <td>440.290000</td>\n",
       "      <td>467.920000</td>\n",
       "    </tr>\n",
       "  </tbody>\n",
       "</table>\n",
       "<p>2 rows × 1914 columns</p>\n",
       "</div>"
      ],
      "text/plain": [
       "         0           1           2          3           4           5     \\\n",
       "0  457.255221  466.719274  440.366949  482.57801  474.880547  448.824227   \n",
       "1  458.960000  463.290000  435.270000  484.31000  473.550000  456.300000   \n",
       "\n",
       "         6           7           8           9     ...       1904        1905  \\\n",
       "0  440.149749  478.061406  466.985618  479.480139  ...  430.63655  428.319126   \n",
       "1  436.020000  488.750000  469.750000  482.830000  ...  438.28000  432.190000   \n",
       "\n",
       "         1906        1907        1908        1909        1910        1911  \\\n",
       "0  487.944282  464.437471  455.293903  445.676877  447.891673  476.405029   \n",
       "1  494.870000  463.500000  449.330000  446.400000  457.120000  476.220000   \n",
       "\n",
       "         1912        1913  \n",
       "0  424.616097  463.911411  \n",
       "1  440.290000  467.920000  \n",
       "\n",
       "[2 rows x 1914 columns]"
      ]
     },
     "execution_count": 222,
     "metadata": {},
     "output_type": "execute_result"
    }
   ],
   "source": [
    "y_pred = regressor.predict(X_test)\n",
    "pd.DataFrame([y_pred,y_test])"
   ]
  },
  {
   "cell_type": "code",
   "execution_count": 223,
   "id": "eeaac026",
   "metadata": {},
   "outputs": [],
   "source": [
    "# print(accuracy_score(y_pred, y_test))"
   ]
  },
  {
   "cell_type": "markdown",
   "id": "7732945b-2f59-4d5b-9da3-25ab66fd8d75",
   "metadata": {},
   "source": [
    "## Scaling the Features"
   ]
  },
  {
   "cell_type": "code",
   "execution_count": 224,
   "id": "d9b662ae-42ab-4c1d-bcf7-2d77ddeb5da9",
   "metadata": {},
   "outputs": [
    {
     "data": {
      "text/plain": [
       "'\"\\nfrom sklearn.preprocessing import StandardScaler\\nsc = StandardScaler()\\nX[:, 3:6] = sc.fit_transform(X[:, 3:6])\\npd.DataFrame(X)\\n'"
      ]
     },
     "execution_count": 224,
     "metadata": {},
     "output_type": "execute_result"
    }
   ],
   "source": [
    "# Since the input variables are all in a same range,we can skip this step\n",
    "# Later, we will come back and add this step to check the difference \n",
    "\"\"\"\"\n",
    "from sklearn.preprocessing import StandardScaler\n",
    "sc = StandardScaler()\n",
    "X[:, 3:6] = sc.fit_transform(X[:, 3:6])\n",
    "pd.DataFrame(X)\n",
    "\"\"\"\"\""
   ]
  },
  {
   "cell_type": "markdown",
   "id": "30a771da",
   "metadata": {},
   "source": [
    "## Measuring the Model Performance"
   ]
  },
  {
   "cell_type": "code",
   "execution_count": 225,
   "id": "0b7c92e2",
   "metadata": {},
   "outputs": [
    {
     "name": "stdout",
     "output_type": "stream",
     "text": [
      "RMSE:  4.508879190536165\n"
     ]
    }
   ],
   "source": [
    "from sklearn.metrics import mean_squared_error\n",
    "RMSE=(mean_squared_error(y_pred,y_test))**0.5\n",
    "print('RMSE: ', RMSE)"
   ]
  },
  {
   "cell_type": "markdown",
   "id": "50ad566d-d2a5-46b3-9fc5-ee9ee974ba6e",
   "metadata": {},
   "source": [
    "## Training and Testing Predictive Models"
   ]
  },
  {
   "cell_type": "code",
   "execution_count": 226,
   "id": "f72ea651-590a-447e-8653-a16c765e0eb1",
   "metadata": {},
   "outputs": [
    {
     "name": "stdout",
     "output_type": "stream",
     "text": [
      "The EP Prediction for the New Data Point =  [467.83988642]\n"
     ]
    }
   ],
   "source": [
    "NewDataPt=np.array([15, 40, 1020, 70])\n",
    "NewDataPt=NewDataPt.reshape(1, -1)\n",
    "EP_Prediction= regressor.predict(NewDataPt)\n",
    "print('The EP Prediction for the New Data Point = ', EP_Prediction)"
   ]
  },
  {
   "cell_type": "markdown",
   "id": "e2cf336f",
   "metadata": {},
   "source": [
    "# Method 2: Training the SVM Regression Model on the Training Set"
   ]
  },
  {
   "cell_type": "code",
   "execution_count": 227,
   "id": "150940ed",
   "metadata": {},
   "outputs": [],
   "source": [
    "from sklearn.metrics import accuracy_score"
   ]
  },
  {
   "cell_type": "code",
   "execution_count": 228,
   "id": "d4bb5f76",
   "metadata": {},
   "outputs": [
    {
     "data": {
      "text/plain": [
       "SVR()"
      ]
     },
     "execution_count": 228,
     "metadata": {},
     "output_type": "execute_result"
    }
   ],
   "source": [
    "# Support vector machine\n",
    "from sklearn.svm import SVR\n",
    "SVRmodel = SVR(kernel = 'rbf')\n",
    "SVRmodel.fit(X_train, y_train)"
   ]
  },
  {
   "cell_type": "markdown",
   "id": "b5328c58",
   "metadata": {},
   "source": [
    "## Checking the SVM Model with the Test set"
   ]
  },
  {
   "cell_type": "code",
   "execution_count": 229,
   "id": "c9f9bfe9",
   "metadata": {
    "scrolled": true
   },
   "outputs": [
    {
     "data": {
      "text/html": [
       "<div>\n",
       "<style scoped>\n",
       "    .dataframe tbody tr th:only-of-type {\n",
       "        vertical-align: middle;\n",
       "    }\n",
       "\n",
       "    .dataframe tbody tr th {\n",
       "        vertical-align: top;\n",
       "    }\n",
       "\n",
       "    .dataframe thead th {\n",
       "        text-align: right;\n",
       "    }\n",
       "</style>\n",
       "<table border=\"1\" class=\"dataframe\">\n",
       "  <thead>\n",
       "    <tr style=\"text-align: right;\">\n",
       "      <th></th>\n",
       "      <th>0</th>\n",
       "      <th>1</th>\n",
       "      <th>2</th>\n",
       "      <th>3</th>\n",
       "      <th>4</th>\n",
       "      <th>5</th>\n",
       "      <th>6</th>\n",
       "      <th>7</th>\n",
       "      <th>8</th>\n",
       "      <th>9</th>\n",
       "      <th>...</th>\n",
       "      <th>1904</th>\n",
       "      <th>1905</th>\n",
       "      <th>1906</th>\n",
       "      <th>1907</th>\n",
       "      <th>1908</th>\n",
       "      <th>1909</th>\n",
       "      <th>1910</th>\n",
       "      <th>1911</th>\n",
       "      <th>1912</th>\n",
       "      <th>1913</th>\n",
       "    </tr>\n",
       "  </thead>\n",
       "  <tbody>\n",
       "    <tr>\n",
       "      <th>0</th>\n",
       "      <td>455.160011</td>\n",
       "      <td>453.105815</td>\n",
       "      <td>446.119499</td>\n",
       "      <td>458.334396</td>\n",
       "      <td>458.266985</td>\n",
       "      <td>453.458997</td>\n",
       "      <td>446.056208</td>\n",
       "      <td>458.896989</td>\n",
       "      <td>456.351999</td>\n",
       "      <td>458.361275</td>\n",
       "      <td>...</td>\n",
       "      <td>446.431644</td>\n",
       "      <td>446.301358</td>\n",
       "      <td>456.922607</td>\n",
       "      <td>456.026035</td>\n",
       "      <td>454.166115</td>\n",
       "      <td>449.596572</td>\n",
       "      <td>450.515153</td>\n",
       "      <td>457.192443</td>\n",
       "      <td>443.79131</td>\n",
       "      <td>455.931133</td>\n",
       "    </tr>\n",
       "    <tr>\n",
       "      <th>1</th>\n",
       "      <td>458.960000</td>\n",
       "      <td>463.290000</td>\n",
       "      <td>435.270000</td>\n",
       "      <td>484.310000</td>\n",
       "      <td>473.550000</td>\n",
       "      <td>456.300000</td>\n",
       "      <td>436.020000</td>\n",
       "      <td>488.750000</td>\n",
       "      <td>469.750000</td>\n",
       "      <td>482.830000</td>\n",
       "      <td>...</td>\n",
       "      <td>438.280000</td>\n",
       "      <td>432.190000</td>\n",
       "      <td>494.870000</td>\n",
       "      <td>463.500000</td>\n",
       "      <td>449.330000</td>\n",
       "      <td>446.400000</td>\n",
       "      <td>457.120000</td>\n",
       "      <td>476.220000</td>\n",
       "      <td>440.29000</td>\n",
       "      <td>467.920000</td>\n",
       "    </tr>\n",
       "  </tbody>\n",
       "</table>\n",
       "<p>2 rows × 1914 columns</p>\n",
       "</div>"
      ],
      "text/plain": [
       "         0           1           2           3           4           5     \\\n",
       "0  455.160011  453.105815  446.119499  458.334396  458.266985  453.458997   \n",
       "1  458.960000  463.290000  435.270000  484.310000  473.550000  456.300000   \n",
       "\n",
       "         6           7           8           9     ...        1904  \\\n",
       "0  446.056208  458.896989  456.351999  458.361275  ...  446.431644   \n",
       "1  436.020000  488.750000  469.750000  482.830000  ...  438.280000   \n",
       "\n",
       "         1905        1906        1907        1908        1909        1910  \\\n",
       "0  446.301358  456.922607  456.026035  454.166115  449.596572  450.515153   \n",
       "1  432.190000  494.870000  463.500000  449.330000  446.400000  457.120000   \n",
       "\n",
       "         1911       1912        1913  \n",
       "0  457.192443  443.79131  455.931133  \n",
       "1  476.220000  440.29000  467.920000  \n",
       "\n",
       "[2 rows x 1914 columns]"
      ]
     },
     "execution_count": 229,
     "metadata": {},
     "output_type": "execute_result"
    }
   ],
   "source": [
    "y_pred = SVRmodel.predict(X_test)\n",
    "pd.DataFrame([y_pred,y_test])"
   ]
  },
  {
   "cell_type": "markdown",
   "id": "346c080d",
   "metadata": {},
   "source": [
    "## Training and Testing Predictive Models"
   ]
  },
  {
   "cell_type": "code",
   "execution_count": 230,
   "id": "317ad1a1",
   "metadata": {},
   "outputs": [
    {
     "name": "stdout",
     "output_type": "stream",
     "text": [
      "The EP Prediction for the New Data Point =  [456.02608795]\n"
     ]
    }
   ],
   "source": [
    "NewDataPt=np.array([15, 40, 1020, 70])\n",
    "NewDataPt=NewDataPt.reshape(1, -1)\n",
    "EP_Prediction= SVRmodel.predict(NewDataPt)\n",
    "print('The EP Prediction for the New Data Point = ', EP_Prediction)"
   ]
  },
  {
   "cell_type": "code",
   "execution_count": 231,
   "id": "d5596110",
   "metadata": {},
   "outputs": [],
   "source": [
    "# print(accuracy_score(X_test, y_pred))"
   ]
  },
  {
   "cell_type": "code",
   "execution_count": null,
   "id": "7a3a2c01",
   "metadata": {},
   "outputs": [],
   "source": []
  }
 ],
 "metadata": {
  "kernelspec": {
   "display_name": "Python 3 (ipykernel)",
   "language": "python",
   "name": "python3"
  },
  "language_info": {
   "codemirror_mode": {
    "name": "ipython",
    "version": 3
   },
   "file_extension": ".py",
   "mimetype": "text/x-python",
   "name": "python",
   "nbconvert_exporter": "python",
   "pygments_lexer": "ipython3",
   "version": "3.9.7"
  },
  "toc": {
   "base_numbering": 1,
   "nav_menu": {},
   "number_sections": true,
   "sideBar": true,
   "skip_h1_title": false,
   "title_cell": "Table of Contents",
   "title_sidebar": "Contents",
   "toc_cell": false,
   "toc_position": {},
   "toc_section_display": true,
   "toc_window_display": false
  }
 },
 "nbformat": 4,
 "nbformat_minor": 5
}

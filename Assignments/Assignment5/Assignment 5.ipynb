{
 "cells": [
  {
   "cell_type": "markdown",
   "id": "da237d78",
   "metadata": {
    "toc": true
   },
   "source": [
    "<h1>Table of Contents<span class=\"tocSkip\"></span></h1>\n",
    "<div class=\"toc\"><ul class=\"toc-item\"><li><span><a href=\"#Assignment-5.-Cancer-PCA\" data-toc-modified-id=\"Assignment-5.-Cancer-PCA-1\"><span class=\"toc-item-num\">1&nbsp;&nbsp;</span>Assignment 5. Cancer PCA</a></span><ul class=\"toc-item\"><li><span><a href=\"#Project-Description\" data-toc-modified-id=\"Project-Description-1.1\"><span class=\"toc-item-num\">1.1&nbsp;&nbsp;</span>Project Description</a></span></li><li><span><a href=\"#Importing-the-Libraries\" data-toc-modified-id=\"Importing-the-Libraries-1.2\"><span class=\"toc-item-num\">1.2&nbsp;&nbsp;</span>Importing the Libraries</a></span></li><li><span><a href=\"#Import-the-Data\" data-toc-modified-id=\"Import-the-Data-1.3\"><span class=\"toc-item-num\">1.3&nbsp;&nbsp;</span>Import the Data</a></span></li><li><span><a href=\"#Encoding-the-Output-Data\" data-toc-modified-id=\"Encoding-the-Output-Data-1.4\"><span class=\"toc-item-num\">1.4&nbsp;&nbsp;</span>Encoding the Output Data</a></span></li><li><span><a href=\"#Part-A\" data-toc-modified-id=\"Part-A-1.5\"><span class=\"toc-item-num\">1.5&nbsp;&nbsp;</span>Part A</a></span></li><li><span><a href=\"#Part-B\" data-toc-modified-id=\"Part-B-1.6\"><span class=\"toc-item-num\">1.6&nbsp;&nbsp;</span>Part B</a></span></li><li><span><a href=\"#Part-C\" data-toc-modified-id=\"Part-C-1.7\"><span class=\"toc-item-num\">1.7&nbsp;&nbsp;</span>Part C</a></span><ul class=\"toc-item\"><li><span><a href=\"#Split-the-dataset-into-training-and-test-sets\" data-toc-modified-id=\"Split-the-dataset-into-training-and-test-sets-1.7.1\"><span class=\"toc-item-num\">1.7.1&nbsp;&nbsp;</span>Split the dataset into training and test sets</a></span></li><li><span><a href=\"#Feature-Scaling\" data-toc-modified-id=\"Feature-Scaling-1.7.2\"><span class=\"toc-item-num\">1.7.2&nbsp;&nbsp;</span>Feature Scaling</a></span></li><li><span><a href=\"#Build-the-Model\" data-toc-modified-id=\"Build-the-Model-1.7.3\"><span class=\"toc-item-num\">1.7.3&nbsp;&nbsp;</span>Build the Model</a></span></li><li><span><a href=\"#Evaluate-the-Model's-Accuracy\" data-toc-modified-id=\"Evaluate-the-Model's-Accuracy-1.7.4\"><span class=\"toc-item-num\">1.7.4&nbsp;&nbsp;</span>Evaluate the Model's Accuracy</a></span></li><li><span><a href=\"#Prediction-on-the-Test-Set\" data-toc-modified-id=\"Prediction-on-the-Test-Set-1.7.5\"><span class=\"toc-item-num\">1.7.5&nbsp;&nbsp;</span>Prediction on the Test Set</a></span></li><li><span><a href=\"#Confusion-Matrix\" data-toc-modified-id=\"Confusion-Matrix-1.7.6\"><span class=\"toc-item-num\">1.7.6&nbsp;&nbsp;</span>Confusion Matrix</a></span></li><li><span><a href=\"#Comparison-to-Other-Classifiers\" data-toc-modified-id=\"Comparison-to-Other-Classifiers-1.7.7\"><span class=\"toc-item-num\">1.7.7&nbsp;&nbsp;</span>Comparison to Other Classifiers</a></span><ul class=\"toc-item\"><li><span><a href=\"#KNN\" data-toc-modified-id=\"KNN-1.7.7.1\"><span class=\"toc-item-num\">1.7.7.1&nbsp;&nbsp;</span>KNN</a></span></li><li><span><a href=\"#Support-Vector-Machine\" data-toc-modified-id=\"Support-Vector-Machine-1.7.7.2\"><span class=\"toc-item-num\">1.7.7.2&nbsp;&nbsp;</span>Support Vector Machine</a></span></li><li><span><a href=\"#Naive-Baye\" data-toc-modified-id=\"Naive-Baye-1.7.7.3\"><span class=\"toc-item-num\">1.7.7.3&nbsp;&nbsp;</span>Naive Baye</a></span></li></ul></li><li><span><a href=\"#Trying-the-Model-with-all-PCs\" data-toc-modified-id=\"Trying-the-Model-with-all-PCs-1.7.8\"><span class=\"toc-item-num\">1.7.8&nbsp;&nbsp;</span>Trying the Model with all PCs</a></span></li></ul></li></ul></li></ul></div>"
   ]
  },
  {
   "cell_type": "markdown",
   "id": "8acd2a70",
   "metadata": {},
   "source": [
    "# Assignment 5. Cancer PCA"
   ]
  },
  {
   "cell_type": "markdown",
   "id": "c937c526",
   "metadata": {},
   "source": [
    "   ## Project Description"
   ]
  },
  {
   "cell_type": "markdown",
   "id": "8aae9a86",
   "metadata": {},
   "source": [
    "The Prostate, Lung, Colorectal, and Ovarian (PLCO) Cancer Screening Trial is a large randomized trial designed and sponsored by the National Cancer Institute (NCI) to determine the chance of getting PLCO cancer. The screening component of the trial was completed in 2006. Participants are being followed and additional data will be collected through 2015. In this assignment, you work on a subset of the dataset, for 216 patients, labeled as ('C') cancer and ('N') No cancer, with 4000 features (info related to gene, blood, etc.)\n",
    "\n",
    "<b>Part A</b>\n",
    "\n",
    "Do a PCA and find the first two Principal Components (PC1 and PC2). Plot PC1-PC2 for these 216 patients.\n",
    "\n",
    "<b>Part B</b>\n",
    "\n",
    "Build an ANN classifier for this dataset.\n",
    "\n",
    "<b>Part C</b>\n",
    "\n",
    "Build an ANN classifier for this dataset with these new 10 variables (the first 10 PCs), and evaluate your model accuracy."
   ]
  },
  {
   "cell_type": "markdown",
   "id": "4b922c48",
   "metadata": {},
   "source": [
    "## Importing the Libraries"
   ]
  },
  {
   "cell_type": "code",
   "execution_count": 476,
   "id": "4f706288",
   "metadata": {},
   "outputs": [],
   "source": [
    "import numpy as np\n",
    "import pandas as pd\n",
    "import matplotlib.pyplot as plt\n",
    "import tensorflow as tf"
   ]
  },
  {
   "cell_type": "markdown",
   "id": "e6d06001",
   "metadata": {},
   "source": [
    "## Import the Data"
   ]
  },
  {
   "cell_type": "code",
   "execution_count": 477,
   "id": "0a104803",
   "metadata": {},
   "outputs": [],
   "source": [
    "dataset = pd.read_csv('cancer.csv')\n",
    "X = dataset.iloc[:, :-1].values\n",
    "y = dataset.iloc[:, -1].values"
   ]
  },
  {
   "cell_type": "code",
   "execution_count": 478,
   "id": "5de16981",
   "metadata": {
    "scrolled": true
   },
   "outputs": [
    {
     "data": {
      "text/html": [
       "<div>\n",
       "<style scoped>\n",
       "    .dataframe tbody tr th:only-of-type {\n",
       "        vertical-align: middle;\n",
       "    }\n",
       "\n",
       "    .dataframe tbody tr th {\n",
       "        vertical-align: top;\n",
       "    }\n",
       "\n",
       "    .dataframe thead th {\n",
       "        text-align: right;\n",
       "    }\n",
       "</style>\n",
       "<table border=\"1\" class=\"dataframe\">\n",
       "  <thead>\n",
       "    <tr style=\"text-align: right;\">\n",
       "      <th></th>\n",
       "      <th>0.063915</th>\n",
       "      <th>0.033242</th>\n",
       "      <th>0.018484</th>\n",
       "      <th>0.0086177</th>\n",
       "      <th>0.035629</th>\n",
       "      <th>0.037925</th>\n",
       "      <th>0.028865</th>\n",
       "      <th>0.061731</th>\n",
       "      <th>0.0631</th>\n",
       "      <th>0.024787</th>\n",
       "      <th>...</th>\n",
       "      <th>0.021515</th>\n",
       "      <th>0.017385</th>\n",
       "      <th>0.018564</th>\n",
       "      <th>0.010027</th>\n",
       "      <th>0.012907</th>\n",
       "      <th>0.023405</th>\n",
       "      <th>0.038839</th>\n",
       "      <th>0.038151</th>\n",
       "      <th>0.032085</th>\n",
       "      <th>C</th>\n",
       "    </tr>\n",
       "  </thead>\n",
       "  <tbody>\n",
       "    <tr>\n",
       "      <th>0</th>\n",
       "      <td>0.025409</td>\n",
       "      <td>0.051085</td>\n",
       "      <td>0.056305</td>\n",
       "      <td>0.021738</td>\n",
       "      <td>0.027410</td>\n",
       "      <td>0.014914</td>\n",
       "      <td>0.022455</td>\n",
       "      <td>0.023957</td>\n",
       "      <td>0.060527</td>\n",
       "      <td>0.047382</td>\n",
       "      <td>...</td>\n",
       "      <td>0.055033</td>\n",
       "      <td>0.080864</td>\n",
       "      <td>0.053423</td>\n",
       "      <td>0.051942</td>\n",
       "      <td>0.013187</td>\n",
       "      <td>0.028573</td>\n",
       "      <td>0.020427</td>\n",
       "      <td>0.023261</td>\n",
       "      <td>0.019975</td>\n",
       "      <td>C</td>\n",
       "    </tr>\n",
       "    <tr>\n",
       "      <th>1</th>\n",
       "      <td>0.025536</td>\n",
       "      <td>0.036123</td>\n",
       "      <td>0.054195</td>\n",
       "      <td>0.009735</td>\n",
       "      <td>0.027521</td>\n",
       "      <td>0.052255</td>\n",
       "      <td>0.042812</td>\n",
       "      <td>0.069087</td>\n",
       "      <td>0.069873</td>\n",
       "      <td>0.066629</td>\n",
       "      <td>...</td>\n",
       "      <td>0.033783</td>\n",
       "      <td>0.029022</td>\n",
       "      <td>0.046397</td>\n",
       "      <td>0.033288</td>\n",
       "      <td>0.041889</td>\n",
       "      <td>0.019256</td>\n",
       "      <td>-0.009447</td>\n",
       "      <td>0.021481</td>\n",
       "      <td>0.025569</td>\n",
       "      <td>C</td>\n",
       "    </tr>\n",
       "    <tr>\n",
       "      <th>2</th>\n",
       "      <td>0.012817</td>\n",
       "      <td>0.029652</td>\n",
       "      <td>0.079290</td>\n",
       "      <td>0.050677</td>\n",
       "      <td>0.039737</td>\n",
       "      <td>0.057713</td>\n",
       "      <td>0.044492</td>\n",
       "      <td>0.034581</td>\n",
       "      <td>0.042587</td>\n",
       "      <td>0.034147</td>\n",
       "      <td>...</td>\n",
       "      <td>0.036083</td>\n",
       "      <td>0.038598</td>\n",
       "      <td>0.048881</td>\n",
       "      <td>0.025569</td>\n",
       "      <td>0.026710</td>\n",
       "      <td>0.025122</td>\n",
       "      <td>0.047466</td>\n",
       "      <td>0.046706</td>\n",
       "      <td>0.043482</td>\n",
       "      <td>C</td>\n",
       "    </tr>\n",
       "    <tr>\n",
       "      <th>3</th>\n",
       "      <td>0.019846</td>\n",
       "      <td>-0.010577</td>\n",
       "      <td>-0.007504</td>\n",
       "      <td>0.019042</td>\n",
       "      <td>0.068786</td>\n",
       "      <td>0.061764</td>\n",
       "      <td>0.039036</td>\n",
       "      <td>0.020445</td>\n",
       "      <td>0.025988</td>\n",
       "      <td>0.066716</td>\n",
       "      <td>...</td>\n",
       "      <td>0.032044</td>\n",
       "      <td>0.026320</td>\n",
       "      <td>0.072016</td>\n",
       "      <td>0.070145</td>\n",
       "      <td>0.055744</td>\n",
       "      <td>0.051084</td>\n",
       "      <td>0.036683</td>\n",
       "      <td>0.043729</td>\n",
       "      <td>0.040289</td>\n",
       "      <td>C</td>\n",
       "    </tr>\n",
       "    <tr>\n",
       "      <th>4</th>\n",
       "      <td>0.039048</td>\n",
       "      <td>0.039355</td>\n",
       "      <td>0.001343</td>\n",
       "      <td>0.026221</td>\n",
       "      <td>0.044091</td>\n",
       "      <td>0.043953</td>\n",
       "      <td>0.039629</td>\n",
       "      <td>0.047926</td>\n",
       "      <td>0.046892</td>\n",
       "      <td>0.030589</td>\n",
       "      <td>...</td>\n",
       "      <td>0.065494</td>\n",
       "      <td>0.030681</td>\n",
       "      <td>0.039686</td>\n",
       "      <td>0.037256</td>\n",
       "      <td>0.022888</td>\n",
       "      <td>0.056221</td>\n",
       "      <td>0.055819</td>\n",
       "      <td>0.010087</td>\n",
       "      <td>0.006004</td>\n",
       "      <td>C</td>\n",
       "    </tr>\n",
       "  </tbody>\n",
       "</table>\n",
       "<p>5 rows × 4001 columns</p>\n",
       "</div>"
      ],
      "text/plain": [
       "   0.063915  0.033242  0.018484  0.0086177  0.035629  0.037925  0.028865  \\\n",
       "0  0.025409  0.051085  0.056305   0.021738  0.027410  0.014914  0.022455   \n",
       "1  0.025536  0.036123  0.054195   0.009735  0.027521  0.052255  0.042812   \n",
       "2  0.012817  0.029652  0.079290   0.050677  0.039737  0.057713  0.044492   \n",
       "3  0.019846 -0.010577 -0.007504   0.019042  0.068786  0.061764  0.039036   \n",
       "4  0.039048  0.039355  0.001343   0.026221  0.044091  0.043953  0.039629   \n",
       "\n",
       "   0.061731    0.0631  0.024787  ...  0.021515  0.017385  0.018564  0.010027  \\\n",
       "0  0.023957  0.060527  0.047382  ...  0.055033  0.080864  0.053423  0.051942   \n",
       "1  0.069087  0.069873  0.066629  ...  0.033783  0.029022  0.046397  0.033288   \n",
       "2  0.034581  0.042587  0.034147  ...  0.036083  0.038598  0.048881  0.025569   \n",
       "3  0.020445  0.025988  0.066716  ...  0.032044  0.026320  0.072016  0.070145   \n",
       "4  0.047926  0.046892  0.030589  ...  0.065494  0.030681  0.039686  0.037256   \n",
       "\n",
       "   0.012907  0.023405  0.038839  0.038151  0.032085  C  \n",
       "0  0.013187  0.028573  0.020427  0.023261  0.019975  C  \n",
       "1  0.041889  0.019256 -0.009447  0.021481  0.025569  C  \n",
       "2  0.026710  0.025122  0.047466  0.046706  0.043482  C  \n",
       "3  0.055744  0.051084  0.036683  0.043729  0.040289  C  \n",
       "4  0.022888  0.056221  0.055819  0.010087  0.006004  C  \n",
       "\n",
       "[5 rows x 4001 columns]"
      ]
     },
     "execution_count": 478,
     "metadata": {},
     "output_type": "execute_result"
    }
   ],
   "source": [
    "dataset.head()"
   ]
  },
  {
   "cell_type": "code",
   "execution_count": 479,
   "id": "ecf837db",
   "metadata": {
    "scrolled": false
   },
   "outputs": [
    {
     "name": "stdout",
     "output_type": "stream",
     "text": [
      "<class 'pandas.core.frame.DataFrame'>\n",
      "RangeIndex: 215 entries, 0 to 214\n",
      "Columns: 4001 entries, 0.063915 to C\n",
      "dtypes: float64(4000), object(1)\n",
      "memory usage: 6.6+ MB\n"
     ]
    }
   ],
   "source": [
    "dataset.info()"
   ]
  },
  {
   "cell_type": "markdown",
   "id": "f60c3512",
   "metadata": {},
   "source": [
    "## Encoding the Output Data"
   ]
  },
  {
   "cell_type": "code",
   "execution_count": 480,
   "id": "b146c58e",
   "metadata": {},
   "outputs": [],
   "source": [
    "from sklearn.preprocessing import LabelEncoder\n",
    "le = LabelEncoder()\n",
    "y = le.fit_transform(y)"
   ]
  },
  {
   "cell_type": "code",
   "execution_count": 481,
   "id": "7f327705",
   "metadata": {
    "scrolled": false
   },
   "outputs": [
    {
     "data": {
      "text/html": [
       "<div>\n",
       "<style scoped>\n",
       "    .dataframe tbody tr th:only-of-type {\n",
       "        vertical-align: middle;\n",
       "    }\n",
       "\n",
       "    .dataframe tbody tr th {\n",
       "        vertical-align: top;\n",
       "    }\n",
       "\n",
       "    .dataframe thead th {\n",
       "        text-align: right;\n",
       "    }\n",
       "</style>\n",
       "<table border=\"1\" class=\"dataframe\">\n",
       "  <thead>\n",
       "    <tr style=\"text-align: right;\">\n",
       "      <th></th>\n",
       "      <th>0</th>\n",
       "    </tr>\n",
       "  </thead>\n",
       "  <tbody>\n",
       "    <tr>\n",
       "      <th>0</th>\n",
       "      <td>0</td>\n",
       "    </tr>\n",
       "    <tr>\n",
       "      <th>1</th>\n",
       "      <td>0</td>\n",
       "    </tr>\n",
       "    <tr>\n",
       "      <th>2</th>\n",
       "      <td>0</td>\n",
       "    </tr>\n",
       "    <tr>\n",
       "      <th>3</th>\n",
       "      <td>0</td>\n",
       "    </tr>\n",
       "    <tr>\n",
       "      <th>4</th>\n",
       "      <td>0</td>\n",
       "    </tr>\n",
       "    <tr>\n",
       "      <th>...</th>\n",
       "      <td>...</td>\n",
       "    </tr>\n",
       "    <tr>\n",
       "      <th>210</th>\n",
       "      <td>1</td>\n",
       "    </tr>\n",
       "    <tr>\n",
       "      <th>211</th>\n",
       "      <td>1</td>\n",
       "    </tr>\n",
       "    <tr>\n",
       "      <th>212</th>\n",
       "      <td>1</td>\n",
       "    </tr>\n",
       "    <tr>\n",
       "      <th>213</th>\n",
       "      <td>1</td>\n",
       "    </tr>\n",
       "    <tr>\n",
       "      <th>214</th>\n",
       "      <td>1</td>\n",
       "    </tr>\n",
       "  </tbody>\n",
       "</table>\n",
       "<p>215 rows × 1 columns</p>\n",
       "</div>"
      ],
      "text/plain": [
       "     0\n",
       "0    0\n",
       "1    0\n",
       "2    0\n",
       "3    0\n",
       "4    0\n",
       "..  ..\n",
       "210  1\n",
       "211  1\n",
       "212  1\n",
       "213  1\n",
       "214  1\n",
       "\n",
       "[215 rows x 1 columns]"
      ]
     },
     "execution_count": 481,
     "metadata": {},
     "output_type": "execute_result"
    }
   ],
   "source": [
    "pd.DataFrame(y)"
   ]
  },
  {
   "cell_type": "markdown",
   "id": "85dd51b9",
   "metadata": {},
   "source": [
    "## Part A"
   ]
  },
  {
   "cell_type": "markdown",
   "id": "72fb5f78",
   "metadata": {},
   "source": [
    "Do a PCA and find the first two Principal Components (PC1 and PC2). Plot PC1-PC2 for these 216 patients.\n",
    "\n"
   ]
  },
  {
   "cell_type": "code",
   "execution_count": 482,
   "id": "ccb1d5a4",
   "metadata": {},
   "outputs": [],
   "source": [
    "from sklearn.decomposition import PCA\n",
    "\n",
    "PrinCom=PCA(n_components=15) # we choose the number of PCs\n",
    "PrinCom.fit(X)\n",
    "Z=PrinCom.transform(X)"
   ]
  },
  {
   "cell_type": "code",
   "execution_count": 483,
   "id": "20b4000f",
   "metadata": {},
   "outputs": [
    {
     "data": {
      "text/html": [
       "<div>\n",
       "<style scoped>\n",
       "    .dataframe tbody tr th:only-of-type {\n",
       "        vertical-align: middle;\n",
       "    }\n",
       "\n",
       "    .dataframe tbody tr th {\n",
       "        vertical-align: top;\n",
       "    }\n",
       "\n",
       "    .dataframe thead th {\n",
       "        text-align: right;\n",
       "    }\n",
       "</style>\n",
       "<table border=\"1\" class=\"dataframe\">\n",
       "  <thead>\n",
       "    <tr style=\"text-align: right;\">\n",
       "      <th></th>\n",
       "      <th>0</th>\n",
       "      <th>1</th>\n",
       "      <th>2</th>\n",
       "      <th>3</th>\n",
       "      <th>4</th>\n",
       "      <th>5</th>\n",
       "      <th>6</th>\n",
       "      <th>7</th>\n",
       "      <th>8</th>\n",
       "      <th>9</th>\n",
       "      <th>10</th>\n",
       "      <th>11</th>\n",
       "      <th>12</th>\n",
       "      <th>13</th>\n",
       "      <th>14</th>\n",
       "    </tr>\n",
       "  </thead>\n",
       "  <tbody>\n",
       "    <tr>\n",
       "      <th>0</th>\n",
       "      <td>9.266716</td>\n",
       "      <td>0.301441</td>\n",
       "      <td>0.598129</td>\n",
       "      <td>-1.275157</td>\n",
       "      <td>0.122941</td>\n",
       "      <td>-1.718550</td>\n",
       "      <td>-1.564633</td>\n",
       "      <td>-2.209844</td>\n",
       "      <td>-1.409783</td>\n",
       "      <td>0.094606</td>\n",
       "      <td>0.037770</td>\n",
       "      <td>-1.135732</td>\n",
       "      <td>-0.789359</td>\n",
       "      <td>0.507777</td>\n",
       "      <td>-0.324602</td>\n",
       "    </tr>\n",
       "    <tr>\n",
       "      <th>1</th>\n",
       "      <td>19.951634</td>\n",
       "      <td>-0.488083</td>\n",
       "      <td>3.243107</td>\n",
       "      <td>-5.160026</td>\n",
       "      <td>1.285151</td>\n",
       "      <td>-0.307243</td>\n",
       "      <td>-0.200023</td>\n",
       "      <td>-1.554714</td>\n",
       "      <td>-0.555132</td>\n",
       "      <td>-1.116919</td>\n",
       "      <td>-0.117810</td>\n",
       "      <td>0.350964</td>\n",
       "      <td>-1.330046</td>\n",
       "      <td>0.890769</td>\n",
       "      <td>-0.250010</td>\n",
       "    </tr>\n",
       "    <tr>\n",
       "      <th>2</th>\n",
       "      <td>12.567389</td>\n",
       "      <td>-0.776993</td>\n",
       "      <td>1.663999</td>\n",
       "      <td>-0.980380</td>\n",
       "      <td>-0.546840</td>\n",
       "      <td>-1.886076</td>\n",
       "      <td>-0.569909</td>\n",
       "      <td>-1.267208</td>\n",
       "      <td>-1.591451</td>\n",
       "      <td>-0.170059</td>\n",
       "      <td>0.519054</td>\n",
       "      <td>-0.763592</td>\n",
       "      <td>-0.435890</td>\n",
       "      <td>0.723865</td>\n",
       "      <td>-0.020578</td>\n",
       "    </tr>\n",
       "    <tr>\n",
       "      <th>3</th>\n",
       "      <td>29.648523</td>\n",
       "      <td>9.235694</td>\n",
       "      <td>-0.877317</td>\n",
       "      <td>-4.105103</td>\n",
       "      <td>-3.464277</td>\n",
       "      <td>-1.810376</td>\n",
       "      <td>3.078384</td>\n",
       "      <td>-1.363398</td>\n",
       "      <td>-0.898362</td>\n",
       "      <td>0.006418</td>\n",
       "      <td>0.320964</td>\n",
       "      <td>0.571535</td>\n",
       "      <td>0.190885</td>\n",
       "      <td>0.095808</td>\n",
       "      <td>2.242176</td>\n",
       "    </tr>\n",
       "    <tr>\n",
       "      <th>4</th>\n",
       "      <td>22.292448</td>\n",
       "      <td>9.280580</td>\n",
       "      <td>0.188751</td>\n",
       "      <td>-4.855046</td>\n",
       "      <td>-1.958302</td>\n",
       "      <td>1.649620</td>\n",
       "      <td>2.438887</td>\n",
       "      <td>-0.326837</td>\n",
       "      <td>1.098880</td>\n",
       "      <td>0.224941</td>\n",
       "      <td>-0.032245</td>\n",
       "      <td>0.938822</td>\n",
       "      <td>1.266921</td>\n",
       "      <td>-0.642831</td>\n",
       "      <td>2.538852</td>\n",
       "    </tr>\n",
       "    <tr>\n",
       "      <th>...</th>\n",
       "      <td>...</td>\n",
       "      <td>...</td>\n",
       "      <td>...</td>\n",
       "      <td>...</td>\n",
       "      <td>...</td>\n",
       "      <td>...</td>\n",
       "      <td>...</td>\n",
       "      <td>...</td>\n",
       "      <td>...</td>\n",
       "      <td>...</td>\n",
       "      <td>...</td>\n",
       "      <td>...</td>\n",
       "      <td>...</td>\n",
       "      <td>...</td>\n",
       "      <td>...</td>\n",
       "    </tr>\n",
       "    <tr>\n",
       "      <th>210</th>\n",
       "      <td>-9.338252</td>\n",
       "      <td>-4.617750</td>\n",
       "      <td>-4.551388</td>\n",
       "      <td>-3.488382</td>\n",
       "      <td>-0.160095</td>\n",
       "      <td>-1.301302</td>\n",
       "      <td>0.430543</td>\n",
       "      <td>-0.107115</td>\n",
       "      <td>-0.744802</td>\n",
       "      <td>0.425300</td>\n",
       "      <td>0.335092</td>\n",
       "      <td>0.054988</td>\n",
       "      <td>0.063367</td>\n",
       "      <td>-0.149091</td>\n",
       "      <td>0.187066</td>\n",
       "    </tr>\n",
       "    <tr>\n",
       "      <th>211</th>\n",
       "      <td>-2.877761</td>\n",
       "      <td>-1.046578</td>\n",
       "      <td>-3.156315</td>\n",
       "      <td>-3.333895</td>\n",
       "      <td>-0.917067</td>\n",
       "      <td>-1.699986</td>\n",
       "      <td>-1.518769</td>\n",
       "      <td>-0.601363</td>\n",
       "      <td>-0.598877</td>\n",
       "      <td>-0.364846</td>\n",
       "      <td>0.655603</td>\n",
       "      <td>0.111095</td>\n",
       "      <td>0.303661</td>\n",
       "      <td>0.042088</td>\n",
       "      <td>0.036044</td>\n",
       "    </tr>\n",
       "    <tr>\n",
       "      <th>212</th>\n",
       "      <td>-0.558225</td>\n",
       "      <td>-5.645364</td>\n",
       "      <td>-3.543733</td>\n",
       "      <td>-0.928933</td>\n",
       "      <td>-1.935141</td>\n",
       "      <td>0.277979</td>\n",
       "      <td>0.939160</td>\n",
       "      <td>1.736001</td>\n",
       "      <td>1.082087</td>\n",
       "      <td>-0.130816</td>\n",
       "      <td>0.400613</td>\n",
       "      <td>-0.733096</td>\n",
       "      <td>-0.911653</td>\n",
       "      <td>-0.170126</td>\n",
       "      <td>-0.567304</td>\n",
       "    </tr>\n",
       "    <tr>\n",
       "      <th>213</th>\n",
       "      <td>-3.872329</td>\n",
       "      <td>-6.608233</td>\n",
       "      <td>-4.366444</td>\n",
       "      <td>-2.031424</td>\n",
       "      <td>-1.621447</td>\n",
       "      <td>0.225691</td>\n",
       "      <td>-0.352881</td>\n",
       "      <td>0.307834</td>\n",
       "      <td>0.897223</td>\n",
       "      <td>-0.425706</td>\n",
       "      <td>-0.028034</td>\n",
       "      <td>-0.546925</td>\n",
       "      <td>-0.319977</td>\n",
       "      <td>-0.186599</td>\n",
       "      <td>0.045610</td>\n",
       "    </tr>\n",
       "    <tr>\n",
       "      <th>214</th>\n",
       "      <td>-0.113342</td>\n",
       "      <td>2.167075</td>\n",
       "      <td>0.751949</td>\n",
       "      <td>2.373310</td>\n",
       "      <td>-0.214966</td>\n",
       "      <td>-1.705201</td>\n",
       "      <td>-0.276102</td>\n",
       "      <td>0.797285</td>\n",
       "      <td>-2.358818</td>\n",
       "      <td>-0.751514</td>\n",
       "      <td>-0.985060</td>\n",
       "      <td>-0.005039</td>\n",
       "      <td>-0.018401</td>\n",
       "      <td>-0.959529</td>\n",
       "      <td>-0.536249</td>\n",
       "    </tr>\n",
       "  </tbody>\n",
       "</table>\n",
       "<p>215 rows × 15 columns</p>\n",
       "</div>"
      ],
      "text/plain": [
       "            0         1         2         3         4         5         6   \\\n",
       "0     9.266716  0.301441  0.598129 -1.275157  0.122941 -1.718550 -1.564633   \n",
       "1    19.951634 -0.488083  3.243107 -5.160026  1.285151 -0.307243 -0.200023   \n",
       "2    12.567389 -0.776993  1.663999 -0.980380 -0.546840 -1.886076 -0.569909   \n",
       "3    29.648523  9.235694 -0.877317 -4.105103 -3.464277 -1.810376  3.078384   \n",
       "4    22.292448  9.280580  0.188751 -4.855046 -1.958302  1.649620  2.438887   \n",
       "..         ...       ...       ...       ...       ...       ...       ...   \n",
       "210  -9.338252 -4.617750 -4.551388 -3.488382 -0.160095 -1.301302  0.430543   \n",
       "211  -2.877761 -1.046578 -3.156315 -3.333895 -0.917067 -1.699986 -1.518769   \n",
       "212  -0.558225 -5.645364 -3.543733 -0.928933 -1.935141  0.277979  0.939160   \n",
       "213  -3.872329 -6.608233 -4.366444 -2.031424 -1.621447  0.225691 -0.352881   \n",
       "214  -0.113342  2.167075  0.751949  2.373310 -0.214966 -1.705201 -0.276102   \n",
       "\n",
       "           7         8         9         10        11        12        13  \\\n",
       "0   -2.209844 -1.409783  0.094606  0.037770 -1.135732 -0.789359  0.507777   \n",
       "1   -1.554714 -0.555132 -1.116919 -0.117810  0.350964 -1.330046  0.890769   \n",
       "2   -1.267208 -1.591451 -0.170059  0.519054 -0.763592 -0.435890  0.723865   \n",
       "3   -1.363398 -0.898362  0.006418  0.320964  0.571535  0.190885  0.095808   \n",
       "4   -0.326837  1.098880  0.224941 -0.032245  0.938822  1.266921 -0.642831   \n",
       "..        ...       ...       ...       ...       ...       ...       ...   \n",
       "210 -0.107115 -0.744802  0.425300  0.335092  0.054988  0.063367 -0.149091   \n",
       "211 -0.601363 -0.598877 -0.364846  0.655603  0.111095  0.303661  0.042088   \n",
       "212  1.736001  1.082087 -0.130816  0.400613 -0.733096 -0.911653 -0.170126   \n",
       "213  0.307834  0.897223 -0.425706 -0.028034 -0.546925 -0.319977 -0.186599   \n",
       "214  0.797285 -2.358818 -0.751514 -0.985060 -0.005039 -0.018401 -0.959529   \n",
       "\n",
       "           14  \n",
       "0   -0.324602  \n",
       "1   -0.250010  \n",
       "2   -0.020578  \n",
       "3    2.242176  \n",
       "4    2.538852  \n",
       "..        ...  \n",
       "210  0.187066  \n",
       "211  0.036044  \n",
       "212 -0.567304  \n",
       "213  0.045610  \n",
       "214 -0.536249  \n",
       "\n",
       "[215 rows x 15 columns]"
      ]
     },
     "execution_count": 483,
     "metadata": {},
     "output_type": "execute_result"
    }
   ],
   "source": [
    "pd.DataFrame(Z)"
   ]
  },
  {
   "cell_type": "markdown",
   "id": "61d51a76",
   "metadata": {},
   "source": [
    "Visualize the Data"
   ]
  },
  {
   "cell_type": "code",
   "execution_count": 484,
   "id": "15932716",
   "metadata": {},
   "outputs": [
    {
     "data": {
      "image/png": "[encoded data removed]",
      "text/plain": [
       "<Figure size 432x288 with 1 Axes>"
      ]
     },
     "metadata": {
      "needs_background": "light"
     },
     "output_type": "display_data"
    }
   ],
   "source": [
    "plt.scatter(Z[:,0],Z[:,1],c=y) \n",
    "plt.title(\"Distribution of the data for PC1 and PC2\")\n",
    "plt.show()"
   ]
  },
  {
   "cell_type": "markdown",
   "id": "6573ec68",
   "metadata": {},
   "source": [
    "Because there are no groups forming visually from the plot, more data is required to make an accurate classification."
   ]
  },
  {
   "cell_type": "markdown",
   "id": "5ccd435a",
   "metadata": {},
   "source": [
    "## Part B"
   ]
  },
  {
   "cell_type": "markdown",
   "id": "2e698ea3",
   "metadata": {},
   "source": [
    "Check how much information will preserve if we only use the first 10 principal components (in other words, calculate the percentage of information we describe if instead of using all 4000 variables, we use the first 10 PCs).\n",
    "\n"
   ]
  },
  {
   "cell_type": "code",
   "execution_count": 485,
   "id": "43432cc7",
   "metadata": {},
   "outputs": [
    {
     "name": "stdout",
     "output_type": "stream",
     "text": [
      "The first 10 principal components can describe 97.22% of the information in the dataset.\n"
     ]
    }
   ],
   "source": [
    "# calculate total variance of first 10 principal components\n",
    "v_pc = 0\n",
    "for i in range(10):\n",
    "    v_pc += np.var(Z.T[i])\n",
    "\n",
    "# calculate total variance of dataset\n",
    "v_dataset = 0\n",
    "for col in X.T:\n",
    "    v_dataset += np.var(col)\n",
    "\n",
    "contribution_pc = 100 * v_pc / v_dataset\n",
    "\n",
    "print(f\"The first 10 principal components can describe {round(contribution_pc, 2)}% of the information in the dataset.\")"
   ]
  },
  {
   "cell_type": "markdown",
   "id": "a94fafb3",
   "metadata": {},
   "source": [
    "## Part C"
   ]
  },
  {
   "cell_type": "markdown",
   "id": "3ffd16e2",
   "metadata": {},
   "source": [
    "Build an ANN classifier for this dataset with these new 10 variables (the first 10 PCs), and evaluate your model accuracy."
   ]
  },
  {
   "cell_type": "code",
   "execution_count": 486,
   "id": "7b45a688",
   "metadata": {},
   "outputs": [],
   "source": [
    "# use first 10 PCs for building model\n",
    "X_inputs = Z[:, 0:10]"
   ]
  },
  {
   "cell_type": "markdown",
   "id": "f7a0381c",
   "metadata": {},
   "source": [
    "### Split the dataset into training and test sets"
   ]
  },
  {
   "cell_type": "code",
   "execution_count": 487,
   "id": "670b36b1",
   "metadata": {},
   "outputs": [],
   "source": [
    "from sklearn.model_selection import train_test_split\n",
    "X_train, X_test, y_train, y_test = train_test_split(X_inputs, y, test_size = 0.2, random_state = 0)"
   ]
  },
  {
   "cell_type": "markdown",
   "id": "8fa639bf",
   "metadata": {},
   "source": [
    "### Feature Scaling"
   ]
  },
  {
   "cell_type": "code",
   "execution_count": 488,
   "id": "6ef58684",
   "metadata": {},
   "outputs": [],
   "source": [
    "from sklearn.preprocessing import StandardScaler\n",
    "sc = StandardScaler()\n",
    "X_train = sc.fit_transform(X_train)\n",
    "X_test = sc.transform(X_test)"
   ]
  },
  {
   "cell_type": "markdown",
   "id": "f89cd5e6",
   "metadata": {},
   "source": [
    "### Build the Model"
   ]
  },
  {
   "cell_type": "code",
   "execution_count": 489,
   "id": "5473ef51",
   "metadata": {},
   "outputs": [
    {
     "name": "stdout",
     "output_type": "stream",
     "text": [
      "Epoch 1/100\n",
      "22/22 [==============================] - 0s 697us/step - loss: 1.2814 - accuracy: 0.1337\n",
      "Epoch 2/100\n",
      "22/22 [==============================] - 0s 784us/step - loss: 1.2128 - accuracy: 0.2151\n",
      "Epoch 3/100\n",
      "22/22 [==============================] - 0s 643us/step - loss: 1.1585 - accuracy: 0.2616\n",
      "Epoch 4/100\n",
      "22/22 [==============================] - 0s 660us/step - loss: 1.1146 - accuracy: 0.3488\n",
      "Epoch 5/100\n",
      "22/22 [==============================] - 0s 643us/step - loss: 1.0780 - accuracy: 0.4477\n",
      "Epoch 6/100\n",
      "22/22 [==============================] - 0s 641us/step - loss: 1.0472 - accuracy: 0.5233\n",
      "Epoch 7/100\n",
      "22/22 [==============================] - 0s 665us/step - loss: 1.0169 - accuracy: 0.6163\n",
      "Epoch 8/100\n",
      "22/22 [==============================] - 0s 623us/step - loss: 0.9900 - accuracy: 0.6802\n",
      "Epoch 9/100\n",
      "22/22 [==============================] - 0s 683us/step - loss: 0.9631 - accuracy: 0.7442\n",
      "Epoch 10/100\n",
      "22/22 [==============================] - 0s 643us/step - loss: 0.9370 - accuracy: 0.7733\n",
      "Epoch 11/100\n",
      "22/22 [==============================] - 0s 658us/step - loss: 0.9112 - accuracy: 0.7907\n",
      "Epoch 12/100\n",
      "22/22 [==============================] - 0s 665us/step - loss: 0.8829 - accuracy: 0.8023\n",
      "Epoch 13/100\n",
      "22/22 [==============================] - 0s 665us/step - loss: 0.8546 - accuracy: 0.8198\n",
      "Epoch 14/100\n",
      "22/22 [==============================] - 0s 665us/step - loss: 0.8246 - accuracy: 0.8081\n",
      "Epoch 15/100\n",
      "22/22 [==============================] - 0s 712us/step - loss: 0.7915 - accuracy: 0.8314\n",
      "Epoch 16/100\n",
      "22/22 [==============================] - 0s 665us/step - loss: 0.7569 - accuracy: 0.8721\n",
      "Epoch 17/100\n",
      "22/22 [==============================] - 0s 665us/step - loss: 0.7213 - accuracy: 0.8721\n",
      "Epoch 18/100\n",
      "22/22 [==============================] - 0s 617us/step - loss: 0.6826 - accuracy: 0.8779\n",
      "Epoch 19/100\n",
      "22/22 [==============================] - 0s 665us/step - loss: 0.6457 - accuracy: 0.8837\n",
      "Epoch 20/100\n",
      "22/22 [==============================] - 0s 760us/step - loss: 0.6066 - accuracy: 0.8895\n",
      "Epoch 21/100\n",
      "22/22 [==============================] - 0s 712us/step - loss: 0.5675 - accuracy: 0.8895\n",
      "Epoch 22/100\n",
      "22/22 [==============================] - 0s 712us/step - loss: 0.5296 - accuracy: 0.9012\n",
      "Epoch 23/100\n",
      "22/22 [==============================] - 0s 807us/step - loss: 0.4939 - accuracy: 0.9070\n",
      "Epoch 24/100\n",
      "22/22 [==============================] - 0s 807us/step - loss: 0.4588 - accuracy: 0.9186\n",
      "Epoch 25/100\n",
      "22/22 [==============================] - 0s 760us/step - loss: 0.4262 - accuracy: 0.9186\n",
      "Epoch 26/100\n",
      "22/22 [==============================] - 0s 712us/step - loss: 0.3948 - accuracy: 0.9186\n",
      "Epoch 27/100\n",
      "22/22 [==============================] - 0s 760us/step - loss: 0.3642 - accuracy: 0.9302\n",
      "Epoch 28/100\n",
      "22/22 [==============================] - 0s 712us/step - loss: 0.3357 - accuracy: 0.9419\n",
      "Epoch 29/100\n",
      "22/22 [==============================] - 0s 617us/step - loss: 0.3087 - accuracy: 0.9419\n",
      "Epoch 30/100\n",
      "22/22 [==============================] - 0s 617us/step - loss: 0.2845 - accuracy: 0.9477\n",
      "Epoch 31/100\n",
      "22/22 [==============================] - 0s 617us/step - loss: 0.2604 - accuracy: 0.9419\n",
      "Epoch 32/100\n",
      "22/22 [==============================] - 0s 617us/step - loss: 0.2378 - accuracy: 0.9593\n",
      "Epoch 33/100\n",
      "22/22 [==============================] - 0s 665us/step - loss: 0.2168 - accuracy: 0.9651\n",
      "Epoch 34/100\n",
      "22/22 [==============================] - 0s 648us/step - loss: 0.1993 - accuracy: 0.9709\n",
      "Epoch 35/100\n",
      "22/22 [==============================] - 0s 648us/step - loss: 0.1849 - accuracy: 0.9709\n",
      "Epoch 36/100\n",
      "22/22 [==============================] - 0s 760us/step - loss: 0.1712 - accuracy: 0.9709\n",
      "Epoch 37/100\n",
      "22/22 [==============================] - 0s 760us/step - loss: 0.1607 - accuracy: 0.9709\n",
      "Epoch 38/100\n",
      "22/22 [==============================] - 0s 665us/step - loss: 0.1504 - accuracy: 0.9709\n",
      "Epoch 39/100\n",
      "22/22 [==============================] - 0s 760us/step - loss: 0.1419 - accuracy: 0.9709\n",
      "Epoch 40/100\n",
      "22/22 [==============================] - 0s 712us/step - loss: 0.1343 - accuracy: 0.9709\n",
      "Epoch 41/100\n",
      "22/22 [==============================] - 0s 665us/step - loss: 0.1272 - accuracy: 0.9709\n",
      "Epoch 42/100\n",
      "22/22 [==============================] - 0s 665us/step - loss: 0.1211 - accuracy: 0.9709\n",
      "Epoch 43/100\n",
      "22/22 [==============================] - 0s 665us/step - loss: 0.1155 - accuracy: 0.9709\n",
      "Epoch 44/100\n",
      "22/22 [==============================] - 0s 665us/step - loss: 0.1107 - accuracy: 0.9709\n",
      "Epoch 45/100\n",
      "22/22 [==============================] - 0s 665us/step - loss: 0.1062 - accuracy: 0.9709\n",
      "Epoch 46/100\n",
      "22/22 [==============================] - 0s 665us/step - loss: 0.1020 - accuracy: 0.9767\n",
      "Epoch 47/100\n",
      "22/22 [==============================] - 0s 665us/step - loss: 0.0989 - accuracy: 0.9767\n",
      "Epoch 48/100\n",
      "22/22 [==============================] - 0s 712us/step - loss: 0.0955 - accuracy: 0.9709\n",
      "Epoch 49/100\n",
      "22/22 [==============================] - 0s 665us/step - loss: 0.0921 - accuracy: 0.9709\n",
      "Epoch 50/100\n",
      "22/22 [==============================] - 0s 665us/step - loss: 0.0894 - accuracy: 0.9709\n",
      "Epoch 51/100\n",
      "22/22 [==============================] - 0s 665us/step - loss: 0.0866 - accuracy: 0.9709\n",
      "Epoch 52/100\n",
      "22/22 [==============================] - 0s 665us/step - loss: 0.0843 - accuracy: 0.9709\n",
      "Epoch 53/100\n",
      "22/22 [==============================] - 0s 665us/step - loss: 0.0813 - accuracy: 0.9767\n",
      "Epoch 54/100\n",
      "22/22 [==============================] - 0s 617us/step - loss: 0.0781 - accuracy: 0.9767\n",
      "Epoch 55/100\n",
      "22/22 [==============================] - 0s 617us/step - loss: 0.0757 - accuracy: 0.9767\n",
      "Epoch 56/100\n",
      "22/22 [==============================] - 0s 712us/step - loss: 0.0734 - accuracy: 0.9767\n",
      "Epoch 57/100\n",
      "22/22 [==============================] - 0s 760us/step - loss: 0.0710 - accuracy: 0.9767\n",
      "Epoch 58/100\n",
      "22/22 [==============================] - 0s 902us/step - loss: 0.0692 - accuracy: 0.9767\n",
      "Epoch 59/100\n",
      "22/22 [==============================] - 0s 855us/step - loss: 0.0666 - accuracy: 0.9767\n",
      "Epoch 60/100\n",
      "22/22 [==============================] - 0s 807us/step - loss: 0.0654 - accuracy: 0.9767\n",
      "Epoch 61/100\n",
      "22/22 [==============================] - 0s 807us/step - loss: 0.0632 - accuracy: 0.9826\n",
      "Epoch 62/100\n",
      "22/22 [==============================] - 0s 807us/step - loss: 0.0618 - accuracy: 0.9767\n",
      "Epoch 63/100\n",
      "22/22 [==============================] - 0s 807us/step - loss: 0.0602 - accuracy: 0.9767\n",
      "Epoch 64/100\n",
      "22/22 [==============================] - 0s 807us/step - loss: 0.0590 - accuracy: 0.9767\n",
      "Epoch 65/100\n",
      "22/22 [==============================] - 0s 807us/step - loss: 0.0578 - accuracy: 0.9826\n",
      "Epoch 66/100\n",
      "22/22 [==============================] - 0s 807us/step - loss: 0.0564 - accuracy: 0.9826\n",
      "Epoch 67/100\n",
      "22/22 [==============================] - 0s 807us/step - loss: 0.0554 - accuracy: 0.9767\n",
      "Epoch 68/100\n",
      "22/22 [==============================] - 0s 807us/step - loss: 0.0540 - accuracy: 0.9767\n",
      "Epoch 69/100\n",
      "22/22 [==============================] - 0s 760us/step - loss: 0.0530 - accuracy: 0.9826\n",
      "Epoch 70/100\n",
      "22/22 [==============================] - 0s 807us/step - loss: 0.0523 - accuracy: 0.9826\n",
      "Epoch 71/100\n",
      "22/22 [==============================] - 0s 760us/step - loss: 0.0509 - accuracy: 0.9826\n",
      "Epoch 72/100\n",
      "22/22 [==============================] - 0s 807us/step - loss: 0.0502 - accuracy: 0.9826\n",
      "Epoch 73/100\n",
      "22/22 [==============================] - 0s 807us/step - loss: 0.0490 - accuracy: 0.9826\n",
      "Epoch 74/100\n",
      "22/22 [==============================] - 0s 760us/step - loss: 0.0482 - accuracy: 0.9884\n",
      "Epoch 75/100\n",
      "22/22 [==============================] - 0s 760us/step - loss: 0.0472 - accuracy: 0.9826\n",
      "Epoch 76/100\n",
      "22/22 [==============================] - 0s 807us/step - loss: 0.0466 - accuracy: 0.9884\n",
      "Epoch 77/100\n",
      "22/22 [==============================] - 0s 807us/step - loss: 0.0457 - accuracy: 0.9884\n",
      "Epoch 78/100\n",
      "22/22 [==============================] - 0s 760us/step - loss: 0.0453 - accuracy: 0.9884\n",
      "Epoch 79/100\n",
      "22/22 [==============================] - 0s 760us/step - loss: 0.0444 - accuracy: 0.9884\n",
      "Epoch 80/100\n",
      "22/22 [==============================] - 0s 807us/step - loss: 0.0432 - accuracy: 0.9884\n",
      "Epoch 81/100\n"
     ]
    },
    {
     "name": "stdout",
     "output_type": "stream",
     "text": [
      "22/22 [==============================] - 0s 760us/step - loss: 0.0424 - accuracy: 0.9884\n",
      "Epoch 82/100\n",
      "22/22 [==============================] - 0s 760us/step - loss: 0.0418 - accuracy: 0.9884\n",
      "Epoch 83/100\n",
      "22/22 [==============================] - 0s 760us/step - loss: 0.0413 - accuracy: 0.9942\n",
      "Epoch 84/100\n",
      "22/22 [==============================] - 0s 760us/step - loss: 0.0405 - accuracy: 0.9942\n",
      "Epoch 85/100\n",
      "22/22 [==============================] - 0s 807us/step - loss: 0.0397 - accuracy: 0.9942\n",
      "Epoch 86/100\n",
      "22/22 [==============================] - 0s 760us/step - loss: 0.0391 - accuracy: 0.9942\n",
      "Epoch 87/100\n",
      "22/22 [==============================] - 0s 760us/step - loss: 0.0387 - accuracy: 0.9942\n",
      "Epoch 88/100\n",
      "22/22 [==============================] - 0s 760us/step - loss: 0.0379 - accuracy: 0.9942\n",
      "Epoch 89/100\n",
      "22/22 [==============================] - 0s 807us/step - loss: 0.0376 - accuracy: 0.9942\n",
      "Epoch 90/100\n",
      "22/22 [==============================] - 0s 807us/step - loss: 0.0365 - accuracy: 0.9942\n",
      "Epoch 91/100\n",
      "22/22 [==============================] - 0s 807us/step - loss: 0.0362 - accuracy: 0.9942\n",
      "Epoch 92/100\n",
      "22/22 [==============================] - 0s 760us/step - loss: 0.0355 - accuracy: 0.9942\n",
      "Epoch 93/100\n",
      "22/22 [==============================] - 0s 807us/step - loss: 0.0347 - accuracy: 0.9942\n",
      "Epoch 94/100\n",
      "22/22 [==============================] - 0s 807us/step - loss: 0.0344 - accuracy: 0.9942\n",
      "Epoch 95/100\n",
      "22/22 [==============================] - 0s 760us/step - loss: 0.0336 - accuracy: 0.9942\n",
      "Epoch 96/100\n",
      "22/22 [==============================] - 0s 807us/step - loss: 0.0332 - accuracy: 0.9942\n",
      "Epoch 97/100\n",
      "22/22 [==============================] - 0s 760us/step - loss: 0.0325 - accuracy: 0.9942\n",
      "Epoch 98/100\n",
      "22/22 [==============================] - 0s 809us/step - loss: 0.0319 - accuracy: 0.9942\n",
      "Epoch 99/100\n",
      "22/22 [==============================] - 0s 761us/step - loss: 0.0315 - accuracy: 0.9942\n",
      "Epoch 100/100\n",
      "22/22 [==============================] - 0s 761us/step - loss: 0.0308 - accuracy: 0.9942\n"
     ]
    },
    {
     "data": {
      "text/plain": [
       "<keras.callbacks.History at 0x1d05c555880>"
      ]
     },
     "execution_count": 489,
     "metadata": {},
     "output_type": "execute_result"
    }
   ],
   "source": [
    "cancerModel=tf.keras.models.Sequential()\n",
    "cancerModel.add(tf.keras.layers.Dense(4,activation='relu'))\n",
    "cancerModel.add(tf.keras.layers.Dense(2,activation='relu'))\n",
    "cancerModel.add(tf.keras.layers.Dense(3,activation='softmax'))\n",
    "cancerModel.compile(optimizer = 'adam', loss = 'sparse_categorical_crossentropy', metrics = ['accuracy'])\n",
    "cancerModel.fit(X_train, y_train, batch_size = 8, epochs = 100)"
   ]
  },
  {
   "cell_type": "markdown",
   "id": "c9ca676a",
   "metadata": {},
   "source": [
    "### Evaluate the Model's Accuracy"
   ]
  },
  {
   "cell_type": "code",
   "execution_count": 490,
   "id": "7d44a733",
   "metadata": {
    "scrolled": false
   },
   "outputs": [
    {
     "name": "stdout",
     "output_type": "stream",
     "text": [
      "2/2 [==============================] - 0s 2ms/step - loss: 0.1831 - accuracy: 0.9070\n"
     ]
    },
    {
     "data": {
      "text/plain": [
       "[0.18309465050697327, 0.9069767594337463]"
      ]
     },
     "execution_count": 490,
     "metadata": {},
     "output_type": "execute_result"
    }
   ],
   "source": [
    "cancerModel.evaluate(X_test, y_test)"
   ]
  },
  {
   "cell_type": "markdown",
   "id": "9e0f91ea",
   "metadata": {},
   "source": [
    "### Prediction on the Test Set"
   ]
  },
  {
   "cell_type": "code",
   "execution_count": 491,
   "id": "c17aaf6a",
   "metadata": {
    "scrolled": true
   },
   "outputs": [
    {
     "name": "stdout",
     "output_type": "stream",
     "text": [
      "2/2 [==============================] - 0s 997us/step\n"
     ]
    }
   ],
   "source": [
    "y_pred = np.argmax(cancerModel.predict(X_test), axis=1)"
   ]
  },
  {
   "cell_type": "markdown",
   "id": "cf3747f8",
   "metadata": {},
   "source": [
    "### Confusion Matrix"
   ]
  },
  {
   "cell_type": "code",
   "execution_count": 492,
   "id": "d8c96726",
   "metadata": {
    "scrolled": false
   },
   "outputs": [
    {
     "name": "stdout",
     "output_type": "stream",
     "text": [
      "Confusion matrix for ANN\n",
      "[[18  2]\n",
      " [ 2 21]]\n",
      "\n",
      "Average model prediction accuracy: 90.70%\n",
      "\n"
     ]
    }
   ],
   "source": [
    "from sklearn.metrics import confusion_matrix, accuracy_score\n",
    "\n",
    "y_pred = (y_pred > 0.5) #Classification metrics can't handle a mix of binary and continuous targets, so we change the target (y_pred) to binary, True/False\n",
    "cm = confusion_matrix(y_test, y_pred)\n",
    "print(\"Confusion matrix for ANN\")\n",
    "print(cm)\n",
    "accuracy = accuracy_score(y_test, y_pred)\n",
    "print('\\nAverage model prediction accuracy: {:.2%}\\n'.format(accuracy))"
   ]
  },
  {
   "cell_type": "markdown",
   "id": "ae2efc52",
   "metadata": {},
   "source": [
    "### Comparison to Other Classifiers"
   ]
  },
  {
   "cell_type": "markdown",
   "id": "9e9bbd5b",
   "metadata": {},
   "source": [
    "#### KNN"
   ]
  },
  {
   "cell_type": "code",
   "execution_count": 493,
   "id": "2f5f4d59",
   "metadata": {},
   "outputs": [
    {
     "name": "stdout",
     "output_type": "stream",
     "text": [
      "0.9302325581395349\n"
     ]
    }
   ],
   "source": [
    "from sklearn.neighbors import KNeighborsClassifier\n",
    "knn = KNeighborsClassifier(n_neighbors=3) # change n_neighbors; boundary becomes smoother with increasing value of K\n",
    "knn.fit(X_train, y_train)\n",
    "y_pred = knn.predict(X_test)\n",
    "print(accuracy_score(y_test, y_pred))\n",
    "# accuracy = np.sum(y_pred==y_test)/len(y_test)\n",
    "# print(accuracy)"
   ]
  },
  {
   "cell_type": "markdown",
   "id": "23cdd827",
   "metadata": {},
   "source": [
    "#### Support Vector Machine"
   ]
  },
  {
   "cell_type": "code",
   "execution_count": 494,
   "id": "da4d7798",
   "metadata": {},
   "outputs": [
    {
     "name": "stdout",
     "output_type": "stream",
     "text": [
      "0.9069767441860465\n"
     ]
    }
   ],
   "source": [
    "from sklearn.svm import SVC\n",
    "svmrbf = SVC(kernel='rbf')\n",
    "svmrbf.fit(X_train, y_train)\n",
    "y_pred = svmrbf.predict(X_test)\n",
    "print(accuracy_score(y_test, y_pred))"
   ]
  },
  {
   "cell_type": "markdown",
   "id": "f92bb180",
   "metadata": {},
   "source": [
    "#### Naive Baye"
   ]
  },
  {
   "cell_type": "code",
   "execution_count": 495,
   "id": "2ed4e870",
   "metadata": {
    "scrolled": true
   },
   "outputs": [
    {
     "name": "stdout",
     "output_type": "stream",
     "text": [
      "0.813953488372093\n"
     ]
    }
   ],
   "source": [
    "from sklearn.naive_bayes import GaussianNB\n",
    "nb_clf = GaussianNB()\n",
    "nb_clf.fit(X_train, y_train)\n",
    "y_pred = nb_clf.predict(X_test)\n",
    "print(accuracy_score(y_test, y_pred))"
   ]
  },
  {
   "cell_type": "markdown",
   "id": "f268a95a",
   "metadata": {},
   "source": [
    "KNN had a high accuracy score similar to ANN, while SVM and Naive Baye had lower than ANN."
   ]
  },
  {
   "cell_type": "markdown",
   "id": "1a49fcd0",
   "metadata": {},
   "source": [
    "### Trying the Model with all PCs"
   ]
  },
  {
   "cell_type": "code",
   "execution_count": 496,
   "id": "2c101f4e",
   "metadata": {},
   "outputs": [],
   "source": [
    "from sklearn.model_selection import train_test_split\n",
    "X_train_2, X_test_2, y_train_2, y_test_2 = train_test_split(Z, y, test_size = 0.2, random_state = 0)"
   ]
  },
  {
   "cell_type": "code",
   "execution_count": 497,
   "id": "eb6c2197",
   "metadata": {},
   "outputs": [],
   "source": [
    "from sklearn.preprocessing import StandardScaler\n",
    "sc = StandardScaler()\n",
    "X_train_2 = sc.fit_transform(X_train_2)\n",
    "X_test_2 = sc.transform(X_test_2)"
   ]
  },
  {
   "cell_type": "code",
   "execution_count": 498,
   "id": "79cdd170",
   "metadata": {},
   "outputs": [
    {
     "name": "stdout",
     "output_type": "stream",
     "text": [
      "Epoch 1/100\n",
      "22/22 [==============================] - 0s 712us/step - loss: 1.1225 - accuracy: 0.6047\n",
      "Epoch 2/100\n",
      "22/22 [==============================] - 0s 665us/step - loss: 1.0843 - accuracy: 0.6105\n",
      "Epoch 3/100\n",
      "22/22 [==============================] - 0s 665us/step - loss: 1.0479 - accuracy: 0.6105\n",
      "Epoch 4/100\n",
      "22/22 [==============================] - 0s 665us/step - loss: 1.0141 - accuracy: 0.6105\n",
      "Epoch 5/100\n",
      "22/22 [==============================] - 0s 712us/step - loss: 0.9805 - accuracy: 0.6395\n",
      "Epoch 6/100\n",
      "22/22 [==============================] - 0s 712us/step - loss: 0.9483 - accuracy: 0.6744\n",
      "Epoch 7/100\n",
      "22/22 [==============================] - 0s 712us/step - loss: 0.9141 - accuracy: 0.6860\n",
      "Epoch 8/100\n",
      "22/22 [==============================] - 0s 712us/step - loss: 0.8762 - accuracy: 0.7035\n",
      "Epoch 9/100\n",
      "22/22 [==============================] - 0s 712us/step - loss: 0.8397 - accuracy: 0.7151\n",
      "Epoch 10/100\n",
      "22/22 [==============================] - 0s 665us/step - loss: 0.7995 - accuracy: 0.7326\n",
      "Epoch 11/100\n",
      "22/22 [==============================] - 0s 712us/step - loss: 0.7562 - accuracy: 0.7500\n",
      "Epoch 12/100\n",
      "22/22 [==============================] - 0s 713us/step - loss: 0.7117 - accuracy: 0.7500\n",
      "Epoch 13/100\n",
      "22/22 [==============================] - 0s 665us/step - loss: 0.6696 - accuracy: 0.7674\n",
      "Epoch 14/100\n",
      "22/22 [==============================] - 0s 700us/step - loss: 0.6305 - accuracy: 0.7733\n",
      "Epoch 15/100\n",
      "22/22 [==============================] - 0s 712us/step - loss: 0.5928 - accuracy: 0.7733\n",
      "Epoch 16/100\n",
      "22/22 [==============================] - 0s 712us/step - loss: 0.5541 - accuracy: 0.8023\n",
      "Epoch 17/100\n",
      "22/22 [==============================] - 0s 712us/step - loss: 0.5144 - accuracy: 0.8256\n",
      "Epoch 18/100\n",
      "22/22 [==============================] - 0s 760us/step - loss: 0.4769 - accuracy: 0.8430\n",
      "Epoch 19/100\n",
      "22/22 [==============================] - 0s 945us/step - loss: 0.4389 - accuracy: 0.8721\n",
      "Epoch 20/100\n",
      "22/22 [==============================] - 0s 712us/step - loss: 0.4072 - accuracy: 0.8779\n",
      "Epoch 21/100\n",
      "22/22 [==============================] - 0s 712us/step - loss: 0.3769 - accuracy: 0.8837\n",
      "Epoch 22/100\n",
      "22/22 [==============================] - 0s 665us/step - loss: 0.3494 - accuracy: 0.8837\n",
      "Epoch 23/100\n",
      "22/22 [==============================] - 0s 712us/step - loss: 0.3223 - accuracy: 0.9070\n",
      "Epoch 24/100\n",
      "22/22 [==============================] - 0s 665us/step - loss: 0.2993 - accuracy: 0.9070\n",
      "Epoch 25/100\n",
      "22/22 [==============================] - 0s 688us/step - loss: 0.2782 - accuracy: 0.9186\n",
      "Epoch 26/100\n",
      "22/22 [==============================] - 0s 665us/step - loss: 0.2582 - accuracy: 0.9186\n",
      "Epoch 27/100\n",
      "22/22 [==============================] - 0s 712us/step - loss: 0.2405 - accuracy: 0.9360\n",
      "Epoch 28/100\n",
      "22/22 [==============================] - 0s 665us/step - loss: 0.2222 - accuracy: 0.9419\n",
      "Epoch 29/100\n",
      "22/22 [==============================] - 0s 712us/step - loss: 0.2063 - accuracy: 0.9535\n",
      "Epoch 30/100\n",
      "22/22 [==============================] - 0s 712us/step - loss: 0.1922 - accuracy: 0.9593\n",
      "Epoch 31/100\n",
      "22/22 [==============================] - 0s 665us/step - loss: 0.1792 - accuracy: 0.9651\n",
      "Epoch 32/100\n",
      "22/22 [==============================] - 0s 665us/step - loss: 0.1684 - accuracy: 0.9651\n",
      "Epoch 33/100\n",
      "22/22 [==============================] - 0s 665us/step - loss: 0.1594 - accuracy: 0.9709\n",
      "Epoch 34/100\n",
      "22/22 [==============================] - 0s 617us/step - loss: 0.1511 - accuracy: 0.9767\n",
      "Epoch 35/100\n",
      "22/22 [==============================] - 0s 665us/step - loss: 0.1437 - accuracy: 0.9767\n",
      "Epoch 36/100\n",
      "22/22 [==============================] - 0s 665us/step - loss: 0.1357 - accuracy: 0.9767\n",
      "Epoch 37/100\n",
      "22/22 [==============================] - 0s 665us/step - loss: 0.1279 - accuracy: 0.9767\n",
      "Epoch 38/100\n",
      "22/22 [==============================] - 0s 617us/step - loss: 0.1206 - accuracy: 0.9767\n",
      "Epoch 39/100\n",
      "22/22 [==============================] - 0s 665us/step - loss: 0.1141 - accuracy: 0.9767\n",
      "Epoch 40/100\n",
      "22/22 [==============================] - 0s 665us/step - loss: 0.1080 - accuracy: 0.9767\n",
      "Epoch 41/100\n",
      "22/22 [==============================] - 0s 665us/step - loss: 0.1021 - accuracy: 0.9767\n",
      "Epoch 42/100\n",
      "22/22 [==============================] - 0s 665us/step - loss: 0.0969 - accuracy: 0.9767\n",
      "Epoch 43/100\n",
      "22/22 [==============================] - 0s 665us/step - loss: 0.0923 - accuracy: 0.9767\n",
      "Epoch 44/100\n",
      "22/22 [==============================] - 0s 665us/step - loss: 0.0888 - accuracy: 0.9767\n",
      "Epoch 45/100\n",
      "22/22 [==============================] - 0s 665us/step - loss: 0.0848 - accuracy: 0.9767\n",
      "Epoch 46/100\n",
      "22/22 [==============================] - 0s 665us/step - loss: 0.0815 - accuracy: 0.9767\n",
      "Epoch 47/100\n",
      "22/22 [==============================] - 0s 712us/step - loss: 0.0786 - accuracy: 0.9767\n",
      "Epoch 48/100\n",
      "22/22 [==============================] - 0s 617us/step - loss: 0.0761 - accuracy: 0.9767\n",
      "Epoch 49/100\n",
      "22/22 [==============================] - 0s 760us/step - loss: 0.0735 - accuracy: 0.9767\n",
      "Epoch 50/100\n",
      "22/22 [==============================] - 0s 712us/step - loss: 0.0706 - accuracy: 0.9826\n",
      "Epoch 51/100\n",
      "22/22 [==============================] - 0s 712us/step - loss: 0.0681 - accuracy: 0.9826\n",
      "Epoch 52/100\n",
      "22/22 [==============================] - 0s 617us/step - loss: 0.0662 - accuracy: 0.9826\n",
      "Epoch 53/100\n",
      "22/22 [==============================] - 0s 665us/step - loss: 0.0643 - accuracy: 0.9826\n",
      "Epoch 54/100\n",
      "22/22 [==============================] - 0s 617us/step - loss: 0.0623 - accuracy: 0.9826\n",
      "Epoch 55/100\n",
      "22/22 [==============================] - 0s 665us/step - loss: 0.0605 - accuracy: 0.9826\n",
      "Epoch 56/100\n",
      "22/22 [==============================] - 0s 665us/step - loss: 0.0563 - accuracy: 0.9826\n",
      "Epoch 57/100\n",
      "22/22 [==============================] - 0s 617us/step - loss: 0.0516 - accuracy: 0.9826\n",
      "Epoch 58/100\n",
      "22/22 [==============================] - 0s 665us/step - loss: 0.0484 - accuracy: 0.9826\n",
      "Epoch 59/100\n",
      "22/22 [==============================] - 0s 665us/step - loss: 0.0454 - accuracy: 0.9826\n",
      "Epoch 60/100\n",
      "22/22 [==============================] - 0s 665us/step - loss: 0.0430 - accuracy: 0.9826\n",
      "Epoch 61/100\n",
      "22/22 [==============================] - 0s 665us/step - loss: 0.0413 - accuracy: 0.9884\n",
      "Epoch 62/100\n",
      "22/22 [==============================] - 0s 617us/step - loss: 0.0395 - accuracy: 0.9884\n",
      "Epoch 63/100\n",
      "22/22 [==============================] - 0s 617us/step - loss: 0.0379 - accuracy: 0.9884\n",
      "Epoch 64/100\n",
      "22/22 [==============================] - 0s 665us/step - loss: 0.0366 - accuracy: 0.9884\n",
      "Epoch 65/100\n",
      "22/22 [==============================] - 0s 665us/step - loss: 0.0352 - accuracy: 0.9884\n",
      "Epoch 66/100\n",
      "22/22 [==============================] - 0s 617us/step - loss: 0.0341 - accuracy: 0.9884\n",
      "Epoch 67/100\n",
      "22/22 [==============================] - 0s 712us/step - loss: 0.0330 - accuracy: 0.9884\n",
      "Epoch 68/100\n",
      "22/22 [==============================] - 0s 665us/step - loss: 0.0322 - accuracy: 0.9884\n",
      "Epoch 69/100\n",
      "22/22 [==============================] - 0s 665us/step - loss: 0.0312 - accuracy: 0.9884\n",
      "Epoch 70/100\n",
      "22/22 [==============================] - 0s 665us/step - loss: 0.0298 - accuracy: 0.9884\n",
      "Epoch 71/100\n",
      "22/22 [==============================] - 0s 665us/step - loss: 0.0285 - accuracy: 0.9884\n",
      "Epoch 72/100\n",
      "22/22 [==============================] - 0s 665us/step - loss: 0.0274 - accuracy: 0.9884\n",
      "Epoch 73/100\n",
      "22/22 [==============================] - 0s 665us/step - loss: 0.0263 - accuracy: 0.9884\n",
      "Epoch 74/100\n",
      "22/22 [==============================] - 0s 665us/step - loss: 0.0253 - accuracy: 0.9884\n",
      "Epoch 75/100\n",
      "22/22 [==============================] - 0s 665us/step - loss: 0.0245 - accuracy: 0.9884\n",
      "Epoch 76/100\n",
      "22/22 [==============================] - 0s 665us/step - loss: 0.0238 - accuracy: 0.9884\n",
      "Epoch 77/100\n",
      "22/22 [==============================] - 0s 617us/step - loss: 0.0234 - accuracy: 0.9884\n",
      "Epoch 78/100\n",
      "22/22 [==============================] - 0s 617us/step - loss: 0.0227 - accuracy: 0.9884\n",
      "Epoch 79/100\n",
      "22/22 [==============================] - 0s 665us/step - loss: 0.0220 - accuracy: 0.9884\n",
      "Epoch 80/100\n",
      "22/22 [==============================] - 0s 617us/step - loss: 0.0212 - accuracy: 0.9884\n",
      "Epoch 81/100\n"
     ]
    },
    {
     "name": "stdout",
     "output_type": "stream",
     "text": [
      "22/22 [==============================] - 0s 665us/step - loss: 0.0207 - accuracy: 0.9884\n",
      "Epoch 82/100\n",
      "22/22 [==============================] - 0s 665us/step - loss: 0.0201 - accuracy: 0.9884\n",
      "Epoch 83/100\n",
      "22/22 [==============================] - 0s 617us/step - loss: 0.0196 - accuracy: 0.9884\n",
      "Epoch 84/100\n",
      "22/22 [==============================] - 0s 665us/step - loss: 0.0191 - accuracy: 0.9884\n",
      "Epoch 85/100\n",
      "22/22 [==============================] - 0s 665us/step - loss: 0.0187 - accuracy: 0.9884\n",
      "Epoch 86/100\n",
      "22/22 [==============================] - 0s 665us/step - loss: 0.0181 - accuracy: 0.9942\n",
      "Epoch 87/100\n",
      "22/22 [==============================] - 0s 665us/step - loss: 0.0178 - accuracy: 1.0000\n",
      "Epoch 88/100\n",
      "22/22 [==============================] - 0s 665us/step - loss: 0.0174 - accuracy: 1.0000\n",
      "Epoch 89/100\n",
      "22/22 [==============================] - 0s 665us/step - loss: 0.0170 - accuracy: 1.0000\n",
      "Epoch 90/100\n",
      "22/22 [==============================] - 0s 712us/step - loss: 0.0167 - accuracy: 1.0000\n",
      "Epoch 91/100\n",
      "22/22 [==============================] - 0s 617us/step - loss: 0.0163 - accuracy: 1.0000\n",
      "Epoch 92/100\n",
      "22/22 [==============================] - 0s 712us/step - loss: 0.0158 - accuracy: 1.0000\n",
      "Epoch 93/100\n",
      "22/22 [==============================] - 0s 665us/step - loss: 0.0156 - accuracy: 1.0000\n",
      "Epoch 94/100\n",
      "22/22 [==============================] - 0s 679us/step - loss: 0.0151 - accuracy: 1.0000\n",
      "Epoch 95/100\n",
      "22/22 [==============================] - 0s 665us/step - loss: 0.0147 - accuracy: 1.0000\n",
      "Epoch 96/100\n",
      "22/22 [==============================] - 0s 617us/step - loss: 0.0146 - accuracy: 1.0000\n",
      "Epoch 97/100\n",
      "22/22 [==============================] - 0s 665us/step - loss: 0.0143 - accuracy: 1.0000\n",
      "Epoch 98/100\n",
      "22/22 [==============================] - 0s 665us/step - loss: 0.0139 - accuracy: 1.0000\n",
      "Epoch 99/100\n",
      "22/22 [==============================] - 0s 617us/step - loss: 0.0136 - accuracy: 1.0000\n",
      "Epoch 100/100\n",
      "22/22 [==============================] - 0s 665us/step - loss: 0.0134 - accuracy: 1.0000\n"
     ]
    },
    {
     "data": {
      "text/plain": [
       "<keras.callbacks.History at 0x1d05e609160>"
      ]
     },
     "execution_count": 498,
     "metadata": {},
     "output_type": "execute_result"
    }
   ],
   "source": [
    "cancerModel2=tf.keras.models.Sequential()\n",
    "cancerModel2.add(tf.keras.layers.Dense(4,activation='relu'))\n",
    "cancerModel2.add(tf.keras.layers.Dense(2,activation='relu'))\n",
    "cancerModel2.add(tf.keras.layers.Dense(3,activation='softmax'))\n",
    "cancerModel2.compile(optimizer = 'adam', loss = 'sparse_categorical_crossentropy', metrics = ['accuracy'])\n",
    "cancerModel2.fit(X_train_2, y_train_2, batch_size = 8, epochs = 100)"
   ]
  },
  {
   "cell_type": "code",
   "execution_count": 499,
   "id": "3b2fc8da",
   "metadata": {},
   "outputs": [
    {
     "name": "stdout",
     "output_type": "stream",
     "text": [
      "2/2 [==============================] - 0s 2ms/step - loss: 0.1056 - accuracy: 0.9302\n"
     ]
    },
    {
     "data": {
      "text/plain": [
       "[0.10559224337339401, 0.930232584476471]"
      ]
     },
     "execution_count": 499,
     "metadata": {},
     "output_type": "execute_result"
    }
   ],
   "source": [
    "cancerModel2.evaluate(X_test_2, y_test_2)"
   ]
  },
  {
   "cell_type": "markdown",
   "id": "3b1cc339",
   "metadata": {},
   "source": [
    "It is roughly the same accuracy with using all PCs."
   ]
  }
 ],
 "metadata": {
  "kernelspec": {
   "display_name": "Python 3 (ipykernel)",
   "language": "python",
   "name": "python3"
  },
  "language_info": {
   "codemirror_mode": {
    "name": "ipython",
    "version": 3
   },
   "file_extension": ".py",
   "mimetype": "text/x-python",
   "name": "python",
   "nbconvert_exporter": "python",
   "pygments_lexer": "ipython3",
   "version": "3.9.7"
  },
  "toc": {
   "base_numbering": 1,
   "nav_menu": {},
   "number_sections": true,
   "sideBar": true,
   "skip_h1_title": false,
   "title_cell": "Table of Contents",
   "title_sidebar": "Contents",
   "toc_cell": true,
   "toc_position": {},
   "toc_section_display": true,
   "toc_window_display": false
  }
 },
 "nbformat": 4,
 "nbformat_minor": 5
}

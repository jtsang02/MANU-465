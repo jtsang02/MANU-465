{
 "cells": [
  {
   "cell_type": "markdown",
   "metadata": {
    "id": "fXNSQNMMw8QK"
   },
   "source": [
    "### Connecting GoogleColab with GoogleDrive"
   ]
  },
  {
   "cell_type": "code",
   "execution_count": 1,
   "metadata": {
    "colab": {
     "base_uri": "https://localhost:8080/"
    },
    "id": "TIDAe2RFw7n2",
    "outputId": "9e9c5760-4b89-4685-dd06-170492518d45"
   },
   "outputs": [],
   "source": [
    "# from google.colab import drive\n",
    "# drive.mount(\"/content/drive/\")"
   ]
  },
  {
   "cell_type": "markdown",
   "metadata": {
    "id": "OS69SqPwyfP1"
   },
   "source": [
    "Changing the directory"
   ]
  },
  {
   "cell_type": "code",
   "execution_count": 2,
   "metadata": {
    "colab": {
     "base_uri": "https://localhost:8080/"
    },
    "id": "BPyXyV8xyGcX",
    "outputId": "8fc97e88-5638-43f5-e075-044a78e5d0d9"
   },
   "outputs": [],
   "source": [
    "# %cd /content/drive/MyDrive/Tutorials/Tutorial 3"
   ]
  },
  {
   "cell_type": "markdown",
   "metadata": {
    "id": "c3lE6IVzyjRy"
   },
   "source": [
    "Checking the content of the current directory"
   ]
  },
  {
   "cell_type": "code",
   "execution_count": 3,
   "metadata": {
    "colab": {
     "base_uri": "https://localhost:8080/"
    },
    "id": "3vFscrWuySGJ",
    "outputId": "bd71d67e-3da3-423f-bafc-5154029f642c"
   },
   "outputs": [],
   "source": [
    "# !ls"
   ]
  },
  {
   "cell_type": "markdown",
   "metadata": {
    "id": "6eguLfgdyoYw"
   },
   "source": [
    "### Importing the basic libraries"
   ]
  },
  {
   "cell_type": "code",
   "execution_count": 4,
   "metadata": {
    "id": "kY7AY0ZqytMg"
   },
   "outputs": [],
   "source": [
    "import numpy as np\n",
    "import pandas as pd\n",
    "import matplotlib.pyplot as plt\n",
    "from seaborn import heatmap\n",
    "from sklearn.model_selection import train_test_split\n",
    "from sklearn.preprocessing import StandardScaler\n",
    "from sklearn.metrics import accuracy_score\n",
    "import seaborn as sb"
   ]
  },
  {
   "cell_type": "markdown",
   "metadata": {
    "id": "-ixqrGooyyiS"
   },
   "source": [
    "### Importing the data"
   ]
  },
  {
   "cell_type": "code",
   "execution_count": 5,
   "metadata": {
    "id": "PeSpLStXyxdF"
   },
   "outputs": [],
   "source": [
    "data = pd.read_csv(\"Car_Advertisement.csv\")"
   ]
  },
  {
   "cell_type": "markdown",
   "metadata": {
    "id": "9IKPonIezDCb"
   },
   "source": [
    "### Converting the categorical data to numerical data"
   ]
  },
  {
   "cell_type": "markdown",
   "metadata": {
    "id": "nWNFOHWgzNCV"
   },
   "source": [
    "In the data,  there are 2 columns with the catergorical values that need to be converted to numerical values. \n",
    "\n",
    "* Gender\n",
    "* Purchased\n",
    "\n",
    "Also, the dataset is complete and there is no null cell :))"
   ]
  },
  {
   "cell_type": "code",
   "execution_count": 6,
   "metadata": {
    "colab": {
     "base_uri": "https://localhost:8080/"
    },
    "id": "R0FxO_JQy2ch",
    "outputId": "bd140adc-79b9-49d0-8a3f-a1c389d2b573"
   },
   "outputs": [
    {
     "name": "stdout",
     "output_type": "stream",
     "text": [
      "<class 'pandas.core.frame.DataFrame'>\n",
      "RangeIndex: 400 entries, 0 to 399\n",
      "Data columns (total 5 columns):\n",
      " #   Column           Non-Null Count  Dtype \n",
      "---  ------           --------------  ----- \n",
      " 0   UserID           400 non-null    int64 \n",
      " 1   Gender           400 non-null    object\n",
      " 2   Age              400 non-null    int64 \n",
      " 3   EstimatedSalary  400 non-null    int64 \n",
      " 4   Purchased        400 non-null    object\n",
      "dtypes: int64(3), object(2)\n",
      "memory usage: 15.8+ KB\n"
     ]
    }
   ],
   "source": [
    "data.info()"
   ]
  },
  {
   "cell_type": "markdown",
   "metadata": {
    "id": "pje305YgzpXO"
   },
   "source": [
    "Converting the values of the \"purchased\" column"
   ]
  },
  {
   "cell_type": "code",
   "execution_count": 7,
   "metadata": {
    "colab": {
     "base_uri": "https://localhost:8080/"
    },
    "id": "Di7aPhD8zLJt",
    "outputId": "860c8f30-2e76-4764-bb2f-8a74421347eb"
   },
   "outputs": [
    {
     "data": {
      "text/plain": [
       "array(['Not Purchased', 'Purchased'], dtype=object)"
      ]
     },
     "execution_count": 7,
     "metadata": {},
     "output_type": "execute_result"
    }
   ],
   "source": [
    "data['Purchased'].unique()"
   ]
  },
  {
   "cell_type": "code",
   "execution_count": 8,
   "metadata": {
    "id": "8XfUGrPez3g5"
   },
   "outputs": [],
   "source": [
    "# make the dictionary of the items in the \"purchased\" column\n",
    "purchases = {\"Not Purchased\":0, \"Purchased\":1}\n",
    "data[\"Purchased\"] = data[\"Purchased\"].map(purchases)"
   ]
  },
  {
   "cell_type": "markdown",
   "metadata": {
    "id": "jUi_GEYT0vpR"
   },
   "source": [
    "Converting the values of the \"gender\" column"
   ]
  },
  {
   "cell_type": "code",
   "execution_count": 9,
   "metadata": {
    "colab": {
     "base_uri": "https://localhost:8080/"
    },
    "id": "Hm1sOpyI1P_y",
    "outputId": "6d7dba4a-2b9d-4732-d6e9-20cd3061ad5a"
   },
   "outputs": [
    {
     "data": {
      "text/plain": [
       "array(['Male', 'Female'], dtype=object)"
      ]
     },
     "execution_count": 9,
     "metadata": {},
     "output_type": "execute_result"
    }
   ],
   "source": [
    "# getting the unique values in the gender column\n",
    "data[\"Gender\"].unique()"
   ]
  },
  {
   "cell_type": "code",
   "execution_count": 10,
   "metadata": {
    "colab": {
     "base_uri": "https://localhost:8080/"
    },
    "id": "I2-oG5t80usq",
    "outputId": "006937fd-015d-4412-80f9-2a4285ec14a6"
   },
   "outputs": [
    {
     "data": {
      "text/plain": [
       "0    0\n",
       "1    0\n",
       "2    1\n",
       "3    1\n",
       "4    0\n",
       "Name: Gender, dtype: int64"
      ]
     },
     "execution_count": 10,
     "metadata": {},
     "output_type": "execute_result"
    }
   ],
   "source": [
    "gender = {\"Male\":0, \"Female\":1}\n",
    "data['Gender'] = data['Gender'].map(gender)\n",
    "data['Gender'].head()"
   ]
  },
  {
   "cell_type": "markdown",
   "metadata": {
    "id": "ZKAftA5l1q3z"
   },
   "source": [
    "Let's check the dataset to see if chanages are applied"
   ]
  },
  {
   "cell_type": "code",
   "execution_count": 11,
   "metadata": {
    "colab": {
     "base_uri": "https://localhost:8080/"
    },
    "id": "fnfVls8V1mT3",
    "outputId": "f7fb1a8a-0562-4c11-8764-35c9c96b30ba"
   },
   "outputs": [
    {
     "name": "stdout",
     "output_type": "stream",
     "text": [
      "<class 'pandas.core.frame.DataFrame'>\n",
      "RangeIndex: 400 entries, 0 to 399\n",
      "Data columns (total 5 columns):\n",
      " #   Column           Non-Null Count  Dtype\n",
      "---  ------           --------------  -----\n",
      " 0   UserID           400 non-null    int64\n",
      " 1   Gender           400 non-null    int64\n",
      " 2   Age              400 non-null    int64\n",
      " 3   EstimatedSalary  400 non-null    int64\n",
      " 4   Purchased        400 non-null    int64\n",
      "dtypes: int64(5)\n",
      "memory usage: 15.8 KB\n"
     ]
    }
   ],
   "source": [
    "data.info()"
   ]
  },
  {
   "cell_type": "markdown",
   "metadata": {
    "id": "1A4r-jZDQ_i4"
   },
   "source": [
    "### Cleaning the data from the outliers"
   ]
  },
  {
   "cell_type": "markdown",
   "metadata": {
    "id": "Xoz76-AyZwaq"
   },
   "source": [
    "Box plots before cleaning the data"
   ]
  },
  {
   "cell_type": "code",
   "execution_count": 12,
   "metadata": {
    "colab": {
     "base_uri": "https://localhost:8080/",
     "height": 171
    },
    "id": "TpRb5KguZlrC",
    "outputId": "005256b2-27a9-4ac0-d3db-f15305b5a4a3"
   },
   "outputs": [
    {
     "data": {
      "text/plain": [
       "<AxesSubplot:xlabel='Purchased', ylabel='Age'>"
      ]
     },
     "execution_count": 12,
     "metadata": {},
     "output_type": "execute_result"
    },
    {
     "data": {
      "image/png": "[encoded data removed]",
      "text/plain": [
       "<Figure size 432x288 with 1 Axes>"
      ]
     },
     "metadata": {
      "needs_background": "light"
     },
     "output_type": "display_data"
    }
   ],
   "source": [
    "sb.boxplot(x='Purchased', y='Age', data=data)"
   ]
  },
  {
   "cell_type": "code",
   "execution_count": 13,
   "metadata": {
    "id": "hhJbnRTbZpcq"
   },
   "outputs": [
    {
     "data": {
      "text/plain": [
       "<AxesSubplot:xlabel='Purchased', ylabel='EstimatedSalary'>"
      ]
     },
     "execution_count": 13,
     "metadata": {},
     "output_type": "execute_result"
    },
    {
     "data": {
      "image/png": "[encoded data removed]",
      "text/plain": [
       "<Figure size 432x288 with 1 Axes>"
      ]
     },
     "metadata": {
      "needs_background": "light"
     },
     "output_type": "display_data"
    }
   ],
   "source": [
    "sb.boxplot(x='Purchased', y='EstimatedSalary', data=data)"
   ]
  },
  {
   "cell_type": "markdown",
   "metadata": {
    "id": "eXM3ZOaoZy7K"
   },
   "source": [
    "Now, let's clean the data"
   ]
  },
  {
   "cell_type": "code",
   "execution_count": 14,
   "metadata": {
    "id": "H3FDb_hLNkg3"
   },
   "outputs": [],
   "source": [
    "data = data[((data['Age']<55) & (data['Purchased']==0)) | (data['Purchased']==1)]"
   ]
  },
  {
   "cell_type": "code",
   "execution_count": 15,
   "metadata": {
    "id": "z-1qX2jNNq8L"
   },
   "outputs": [
    {
     "data": {
      "text/plain": [
       "<AxesSubplot:xlabel='Purchased', ylabel='Age'>"
      ]
     },
     "execution_count": 15,
     "metadata": {},
     "output_type": "execute_result"
    },
    {
     "data": {
      "image/png": "[encoded data removed]",
      "text/plain": [
       "<Figure size 432x288 with 1 Axes>"
      ]
     },
     "metadata": {
      "needs_background": "light"
     },
     "output_type": "display_data"
    }
   ],
   "source": [
    "import seaborn as sb\n",
    "sb.boxplot(x='Purchased', y='Age', data=data)"
   ]
  },
  {
   "cell_type": "code",
   "execution_count": 16,
   "metadata": {
    "id": "WPtRk1iS6j9t"
   },
   "outputs": [],
   "source": [
    "data = data[ ((data['EstimatedSalary']<120000) & (data['Purchased']==0)) | (data['Purchased']==1)]"
   ]
  },
  {
   "cell_type": "code",
   "execution_count": 17,
   "metadata": {
    "id": "gFriqjcrVcI6"
   },
   "outputs": [
    {
     "data": {
      "text/plain": [
       "<AxesSubplot:xlabel='Purchased', ylabel='EstimatedSalary'>"
      ]
     },
     "execution_count": 17,
     "metadata": {},
     "output_type": "execute_result"
    },
    {
     "data": {
      "image/png": "[encoded data removed]",
      "text/plain": [
       "<Figure size 432x288 with 1 Axes>"
      ]
     },
     "metadata": {
      "needs_background": "light"
     },
     "output_type": "display_data"
    }
   ],
   "source": [
    "sb.boxplot(x='Purchased', y='EstimatedSalary', data=data)"
   ]
  },
  {
   "cell_type": "markdown",
   "metadata": {
    "id": "es7Zx-36107N"
   },
   "source": [
    "### Exploring the data\n",
    "\n",
    "Here, we will check the correlation between \"Purchased\" column and the other colunms\n",
    "\n",
    "You can find more info about the heatmap function in Seaborn [here](https://seaborn.pydata.org/generated/seaborn.heatmap.html)."
   ]
  },
  {
   "cell_type": "code",
   "execution_count": 18,
   "metadata": {
    "id": "IcHm1wM-1vb6"
   },
   "outputs": [
    {
     "data": {
      "text/plain": [
       "Purchased          1.000000\n",
       "Age                0.646837\n",
       "EstimatedSalary    0.379491\n",
       "Gender             0.048415\n",
       "UserID             0.001279\n",
       "Name: Purchased, dtype: float64"
      ]
     },
     "execution_count": 18,
     "metadata": {},
     "output_type": "execute_result"
    },
    {
     "data": {
      "image/png": "[encoded data removed]",
      "text/plain": [
       "<Figure size 864x432 with 2 Axes>"
      ]
     },
     "metadata": {
      "needs_background": "light"
     },
     "output_type": "display_data"
    }
   ],
   "source": [
    "# creating the correlation matrix\n",
    "\n",
    "corr_matrix = data.corr()\n",
    "\n",
    "\n",
    "# visualizing the correlation matrix\n",
    "mask = np.triu(np.ones_like(corr_matrix, dtype=bool))  \n",
    "plt.figure(figsize=(12, 6))  # to set the figure size\n",
    "heatmap(corr_matrix, mask=mask, annot=False, lw=0, linecolor='white', cmap='magma', fmt='0.2f')\n",
    "plt.title(\"Correlation Matrix\")  # to add title \n",
    "plt.xticks(rotation=90)\n",
    "plt.yticks(rotation=0)\n",
    "\n",
    "# getting the correlation values with the purchased column\n",
    "\n",
    "  \n",
    "corr_matrix['Purchased'].sort_values(ascending=False)  "
   ]
  },
  {
   "cell_type": "markdown",
   "metadata": {
    "id": "96W_Q5zv5zjF"
   },
   "source": [
    "### Splitting the train and test data"
   ]
  },
  {
   "cell_type": "code",
   "execution_count": 19,
   "metadata": {
    "id": "g6qMz7Dt2VKr"
   },
   "outputs": [],
   "source": [
    "train_data, test_data = train_test_split(data, test_size=0.2)\n",
    "\n",
    "# splitting the input and the output from the trainining set\n",
    "Y_train = train_data[['Purchased']].copy()\n",
    "\n",
    "# removing the useless features and the output from the dataset\n",
    "X_train = train_data.drop(['Purchased', 'UserID', \"Gender\"], axis=1)  # drop \"Purchased\", \"UserID\", and 'Gender'"
   ]
  },
  {
   "cell_type": "markdown",
   "metadata": {
    "id": "iM9OzVtS8P7g"
   },
   "source": [
    "Let's check the type of the data "
   ]
  },
  {
   "cell_type": "code",
   "execution_count": 20,
   "metadata": {
    "id": "1rmJ2oX96PTj"
   },
   "outputs": [
    {
     "name": "stdout",
     "output_type": "stream",
     "text": [
      "<class 'pandas.core.frame.DataFrame'>\n",
      "<class 'pandas.core.frame.DataFrame'>\n"
     ]
    }
   ],
   "source": [
    "print(type(X_train))\n",
    "print(type(Y_train))"
   ]
  },
  {
   "cell_type": "markdown",
   "metadata": {
    "id": "70OIRrU98qxq"
   },
   "source": [
    "### data visualization"
   ]
  },
  {
   "cell_type": "code",
   "execution_count": 21,
   "metadata": {
    "id": "dI9FqIEN8svv"
   },
   "outputs": [],
   "source": [
    "# making a function to plot the data\n",
    "def plot_scatter_with_labels(X1, X2, Y, xlabel='Age', ylabel='Estimated Salary'):\n",
    "  df = pd.DataFrame(dict(x1=X1, x2=X2, label=Y))\n",
    "  groups = df.groupby('label')\n",
    "  for number, group in groups:\n",
    "    if number == 0:\n",
    "      name = 'Not Purchased'\n",
    "    elif number == 1:\n",
    "      name = 'Purchased'\n",
    "    plt.plot(group.x1, group.x2, marker='o', linestyle='', ms=3, label=name)\n",
    "\n",
    "  plt.legend()\n",
    "  plt.xlabel(xlabel)\n",
    "  plt.ylabel(ylabel)\n"
   ]
  },
  {
   "cell_type": "code",
   "execution_count": 22,
   "metadata": {
    "id": "Utmvds0L90ZR"
   },
   "outputs": [
    {
     "data": {
      "image/png": "[encoded data removed]",
      "text/plain": [
       "<Figure size 432x288 with 1 Axes>"
      ]
     },
     "metadata": {
      "needs_background": "light"
     },
     "output_type": "display_data"
    }
   ],
   "source": [
    "plot_scatter_with_labels(train_data['Age'], train_data['EstimatedSalary'], train_data['Purchased'])"
   ]
  },
  {
   "cell_type": "markdown",
   "metadata": {
    "id": "LZvOJvaK-jyT"
   },
   "source": [
    "### Scaling the features\n",
    "\n",
    "We standardize all the data using their mean and standard deviation\n",
    "\n",
    "$$ \\hat{x_i} = \\frac{x_i-\\mu}{\\sigma_i}$$"
   ]
  },
  {
   "cell_type": "code",
   "execution_count": 23,
   "metadata": {
    "id": "gpagsBUz-7dt"
   },
   "outputs": [
    {
     "name": "stdout",
     "output_type": "stream",
     "text": [
      "<class 'pandas.core.frame.DataFrame'>\n"
     ]
    }
   ],
   "source": [
    "print(type(X_train))"
   ]
  },
  {
   "cell_type": "code",
   "execution_count": 24,
   "metadata": {
    "id": "vKxjRS4O-brY"
   },
   "outputs": [
    {
     "name": "stdout",
     "output_type": "stream",
     "text": [
      "<class 'numpy.ndarray'>\n"
     ]
    }
   ],
   "source": [
    "scaler = StandardScaler()\n",
    "X_train = scaler.fit_transform(X_train)\n",
    "print(type(X_train))"
   ]
  },
  {
   "cell_type": "markdown",
   "metadata": {
    "id": "pA3oMFS0_JUe"
   },
   "source": [
    "### Exploring different machine learning tools"
   ]
  },
  {
   "cell_type": "code",
   "execution_count": 25,
   "metadata": {
    "id": "TDdtW_b6_y4P"
   },
   "outputs": [],
   "source": [
    "from sklearn.model_selection import cross_val_score\n",
    "# importing the models\n",
    "from sklearn.discriminant_analysis import LinearDiscriminantAnalysis\n",
    "from sklearn.naive_bayes import GaussianNB\n",
    "from sklearn.neighbors import KNeighborsClassifier\n",
    "from sklearn.svm import SVC\n",
    "from sklearn.svm import SVC\n",
    "from sklearn.tree import DecisionTreeClassifier"
   ]
  },
  {
   "cell_type": "markdown",
   "metadata": {
    "id": "WgK0wRHzASOT"
   },
   "source": [
    "Converting the output to numpy array and changing the shape"
   ]
  },
  {
   "cell_type": "code",
   "execution_count": 26,
   "metadata": {
    "id": "MEs7kN_e_fMs"
   },
   "outputs": [],
   "source": [
    "Y_train = Y_train.to_numpy()\n",
    "Y_train = Y_train.ravel()"
   ]
  },
  {
   "cell_type": "markdown",
   "metadata": {
    "id": "6vTO4tEUAcO9"
   },
   "source": [
    "#### Discriminant Analysis Classifier"
   ]
  },
  {
   "cell_type": "code",
   "execution_count": 27,
   "metadata": {
    "id": "Qfu-JgVd_RWZ"
   },
   "outputs": [
    {
     "data": {
      "text/plain": [
       "LinearDiscriminantAnalysis()"
      ]
     },
     "execution_count": 27,
     "metadata": {},
     "output_type": "execute_result"
    }
   ],
   "source": [
    "da_clf = LinearDiscriminantAnalysis()\n",
    "da_clf.fit(X_train, Y_train)"
   ]
  },
  {
   "cell_type": "code",
   "execution_count": 28,
   "metadata": {
    "id": "Cswi9cTd_G5s"
   },
   "outputs": [
    {
     "name": "stdout",
     "output_type": "stream",
     "text": [
      "[0.890625   0.82539683 0.84126984 0.93650794 0.85714286]\n",
      "Averaged prediction accuracy =  0.8701884920634919\n"
     ]
    }
   ],
   "source": [
    "from sklearn.model_selection import cross_val_score\n",
    "scores = cross_val_score(da_clf, X_train, Y_train, scoring='accuracy', cv=5)  # 5-fold\n",
    "print(scores)\n",
    "print('Averaged prediction accuracy = ', np.average(scores))\n",
    "avg_cv_scores = {}\n",
    "avg_cv_scores['DA'] = np.average(scores)"
   ]
  },
  {
   "cell_type": "code",
   "execution_count": 29,
   "metadata": {},
   "outputs": [
    {
     "data": {
      "text/plain": [
       "array([[ 0.33623455, -0.68933089],\n",
       "       [ 0.43178322, -0.45259288],\n",
       "       [-0.81034946,  0.19843665],\n",
       "       [-1.38364146, -0.60055413],\n",
       "       [ 1.10062389,  0.16884439],\n",
       "       [ 2.15165923, -1.01484565],\n",
       "       [ 0.04958855, -0.21585487],\n",
       "       [ 0.90952656, -1.01484565],\n",
       "       [-0.90589813, -0.27503937],\n",
       "       [-1.00144679, -1.42913716],\n",
       "       [-0.04596012, -0.45259288],\n",
       "       [-0.23705745, -0.39340838],\n",
       "       [-0.81034946, -0.63014638],\n",
       "       [ 0.90952656, -1.28117591],\n",
       "       [ 1.38726989, -1.39954491],\n",
       "       [-0.90589813, -0.39340838],\n",
       "       [-0.23705745, -0.89647664],\n",
       "       [-1.67028747, -0.95566114],\n",
       "       [ 0.24068588, -0.63014638],\n",
       "       [ 0.33623455,  0.55354366],\n",
       "       [ 0.33623455, -0.51177738],\n",
       "       [-0.81034946, -0.21585487],\n",
       "       [ 1.19617256, -0.95566114],\n",
       "       [ 1.10062389,  0.61272816],\n",
       "       [-0.23705745,  0.67191266],\n",
       "       [-0.23705745,  0.08006764],\n",
       "       [-1.47919013,  0.37599015],\n",
       "       [ 2.05611057,  2.21070971],\n",
       "       [-0.04596012, -0.33422387],\n",
       "       [-1.5747388 ,  0.58313591],\n",
       "       [ 0.43178322,  0.3463979 ],\n",
       "       [-0.71480079, -1.57709842],\n",
       "       [ 1.6739159 ,  1.6780492 ],\n",
       "       [ 1.9605619 , -0.63014638],\n",
       "       [-1.76583613,  0.49435916],\n",
       "       [-0.14150879, -0.48218513],\n",
       "       [-1.8613848 , -0.48218513],\n",
       "       [-0.04596012, -0.39340838],\n",
       "       [-0.04596012,  0.3463979 ],\n",
       "       [ 0.90952656, -0.57096188],\n",
       "       [ 0.90952656, -0.54136963],\n",
       "       [ 1.10062389,  0.58313591],\n",
       "       [-0.52370346,  1.44131119],\n",
       "       [ 1.00507522,  1.8556027 ],\n",
       "       [-1.8613848 ,  0.4055824 ],\n",
       "       [-0.61925212,  0.08006764],\n",
       "       [-0.33260612,  1.38212669],\n",
       "       [-1.00144679, -0.42300063],\n",
       "       [-0.71480079,  0.3463979 ],\n",
       "       [-0.71480079,  1.97397171],\n",
       "       [-0.71480079,  0.61272816],\n",
       "       [ 0.43178322,  0.64232041],\n",
       "       [-0.52370346,  0.93824292],\n",
       "       [ 0.04958855, -0.09748586],\n",
       "       [-1.19254413,  0.64232041],\n",
       "       [ 0.14513722,  1.58927244],\n",
       "       [-0.52370346, -1.48832166],\n",
       "       [-1.00144679, -0.30463162],\n",
       "       [ 1.86501323, -1.0444379 ],\n",
       "       [-1.5747388 ,  0.10965989],\n",
       "       [-0.61925212, -1.57709842],\n",
       "       [-1.38364146,  0.4055824 ],\n",
       "       [-0.23705745, -1.28117591],\n",
       "       [-0.61925212,  0.61272816],\n",
       "       [ 1.00507522,  1.94437946],\n",
       "       [ 0.90952656, -0.63014638],\n",
       "       [-0.23705745, -0.63014638],\n",
       "       [ 1.10062389, -1.19239915],\n",
       "       [-0.61925212, -1.01484565],\n",
       "       [-0.33260612,  0.10965989],\n",
       "       [-0.14150879,  1.47090344],\n",
       "       [ 1.10062389,  2.15152521],\n",
       "       [ 0.33623455,  0.10965989],\n",
       "       [ 0.81397789, -0.80769989],\n",
       "       [ 1.76946456,  1.05661192],\n",
       "       [ 0.33623455,  0.3463979 ],\n",
       "       [ 0.43178322,  0.31680565],\n",
       "       [-1.09699546,  0.3463979 ],\n",
       "       [-0.81034946,  0.43517465],\n",
       "       [ 0.71842922, -1.36995266],\n",
       "       [ 2.15165923,  0.43517465],\n",
       "       [ 0.24068588, -0.33422387],\n",
       "       [ 1.10062389, -0.86688439],\n",
       "       [ 0.43178322, -0.09748586],\n",
       "       [-0.42815479, -0.51177738],\n",
       "       [-0.14150879, -0.15667037],\n",
       "       [-1.38364146, -1.19239915],\n",
       "       [ 0.81397789,  0.4055824 ],\n",
       "       [-1.67028747, -1.34036041],\n",
       "       [-0.04596012,  0.25762115],\n",
       "       [-0.23705745, -0.54136963],\n",
       "       [ 0.90952656, -1.13321465],\n",
       "       [-0.52370346,  1.44131119],\n",
       "       [-0.14150879,  0.90865067],\n",
       "       [-1.8613848 , -0.00870911],\n",
       "       [ 0.90952656,  1.32294218],\n",
       "       [-0.23705745,  0.58313591],\n",
       "       [-1.2880928 , -0.39340838],\n",
       "       [ 1.9605619 , -1.34036041],\n",
       "       [ 0.33623455, -0.48218513],\n",
       "       [-1.09699546, -1.57709842],\n",
       "       [-0.04596012, -1.0444379 ],\n",
       "       [-1.00144679, -0.30463162],\n",
       "       [-0.81034946,  2.35867097],\n",
       "       [-0.71480079,  1.41171894],\n",
       "       [ 1.48281856,  0.10965989],\n",
       "       [-1.76583613,  0.2280289 ],\n",
       "       [ 0.90952656,  2.24030197],\n",
       "       [-1.2880928 ,  0.4647669 ],\n",
       "       [-1.2880928 , -1.45872941],\n",
       "       [-0.90589813, -0.71892314],\n",
       "       [ 1.9605619 ,  2.24030197],\n",
       "       [ 1.10062389,  0.52395141],\n",
       "       [ 1.19617256,  0.58313591],\n",
       "       [ 1.00507522,  0.64232041],\n",
       "       [ 0.90952656, -0.74851539],\n",
       "       [-0.04596012, -0.18626262],\n",
       "       [ 0.14513722, -0.77810764],\n",
       "       [ 0.71842922,  1.8556027 ],\n",
       "       [ 1.57836723,  1.17498093],\n",
       "       [ 0.33623455, -0.24544712],\n",
       "       [-0.42815479, -0.74851539],\n",
       "       [-0.33260612, -0.74851539],\n",
       "       [ 1.10062389, -0.95566114],\n",
       "       [ 0.81397789,  0.16884439],\n",
       "       [-1.47919013, -1.2219914 ],\n",
       "       [-1.76583613, -1.45872941],\n",
       "       [-0.23705745, -0.33422387],\n",
       "       [-0.04596012,  0.31680565],\n",
       "       [-0.23705745, -0.27503937],\n",
       "       [-1.76583613, -1.25158365],\n",
       "       [-1.19254413, -1.0444379 ],\n",
       "       [-1.8613848 , -0.71892314],\n",
       "       [-0.04596012,  0.10965989],\n",
       "       [ 0.04958855,  1.29334993],\n",
       "       [-1.76583613,  0.05047539],\n",
       "       [-0.14150879,  2.24030197],\n",
       "       [-1.8613848 ,  0.52395141],\n",
       "       [-0.61925212, -1.48832166],\n",
       "       [ 0.43178322,  0.19843665],\n",
       "       [-0.71480079, -1.51791391],\n",
       "       [ 0.04958855, -0.21585487],\n",
       "       [ 0.14513722,  0.08006764],\n",
       "       [ 1.86501323, -0.24544712],\n",
       "       [-1.2880928 , -1.34036041],\n",
       "       [ 0.90952656, -1.34036041],\n",
       "       [ 0.52733189,  1.29334993],\n",
       "       [ 1.48281856,  0.4055824 ],\n",
       "       [ 1.6739159 ,  1.82601045],\n",
       "       [-1.09699546, -0.74851539],\n",
       "       [-1.09699546, -1.54750616],\n",
       "       [ 0.71842922, -1.36995266],\n",
       "       [-0.23705745, -0.54136963],\n",
       "       [ 0.24068588, -0.33422387],\n",
       "       [-1.47919013, -0.39340838],\n",
       "       [-1.00144679,  0.81987392],\n",
       "       [-0.90589813, -0.27503937],\n",
       "       [-1.00144679,  0.58313591],\n",
       "       [ 0.14513722,  0.13925214],\n",
       "       [-0.90589813,  0.49435916],\n",
       "       [-1.67028747,  0.52395141],\n",
       "       [ 0.81397789,  0.81987392],\n",
       "       [-1.47919013, -1.48832166],\n",
       "       [ 1.10062389, -0.09748586],\n",
       "       [ 0.24068588, -0.24544712],\n",
       "       [-0.71480079, -0.57096188],\n",
       "       [-0.33260612, -1.28117591],\n",
       "       [-1.2880928 , -1.2219914 ],\n",
       "       [ 0.33623455,  0.31680565],\n",
       "       [ 0.43178322, -0.12707812],\n",
       "       [ 0.33623455, -0.48218513],\n",
       "       [-0.23705745, -0.86688439],\n",
       "       [ 0.90952656,  1.14538868],\n",
       "       [ 0.24068588,  2.18111746],\n",
       "       [-0.14150879, -0.54136963],\n",
       "       [ 2.15165923,  1.17498093],\n",
       "       [-0.23705745,  0.31680565],\n",
       "       [-1.19254413,  0.31680565],\n",
       "       [ 2.15165923, -0.77810764],\n",
       "       [-0.52370346, -1.48832166],\n",
       "       [-0.04596012,  2.03315621],\n",
       "       [ 2.15165923, -0.77810764],\n",
       "       [-0.33260612,  1.29334993],\n",
       "       [ 1.00507522,  2.06274846],\n",
       "       [ 1.00507522, -1.0444379 ],\n",
       "       [ 0.04958855,  0.08006764],\n",
       "       [-1.00144679,  0.64232041],\n",
       "       [-0.33260612, -0.74851539],\n",
       "       [ 1.19617256, -1.42913716],\n",
       "       [ 1.76946456, -0.24544712],\n",
       "       [ 0.33623455,  0.08006764],\n",
       "       [-0.42815479,  2.38826322],\n",
       "       [-1.19254413, -1.36995266],\n",
       "       [-0.04596012,  0.08006764],\n",
       "       [-0.42815479,  0.02088314],\n",
       "       [-0.23705745, -0.09748586],\n",
       "       [-0.90589813,  1.61886469],\n",
       "       [ 0.33623455, -1.13321465],\n",
       "       [ 1.29172123,  2.29948647],\n",
       "       [-0.23705745,  0.10965989],\n",
       "       [-0.23705745, -0.71892314],\n",
       "       [ 2.05611057,  0.2280289 ],\n",
       "       [-1.00144679, -0.33422387],\n",
       "       [-0.61925212,  0.16884439],\n",
       "       [-0.14150879,  0.19843665],\n",
       "       [-1.47919013, -0.15667037],\n",
       "       [ 1.9605619 ,  0.79028167],\n",
       "       [-0.90589813, -1.07403015],\n",
       "       [-0.23705745, -0.30463162],\n",
       "       [ 0.90952656, -0.51177738],\n",
       "       [-0.81034946, -0.74851539],\n",
       "       [ 0.24068588, -0.27503937],\n",
       "       [ 1.00507522, -1.1628069 ],\n",
       "       [-0.23705745, -1.42913716],\n",
       "       [ 2.15165923, -0.65973863],\n",
       "       [-0.71480079, -0.18626262],\n",
       "       [-0.14150879, -0.24544712],\n",
       "       [ 0.04958855, -0.39340838],\n",
       "       [ 0.24068588,  0.2872134 ],\n",
       "       [-1.67028747,  0.16884439],\n",
       "       [-0.23705745,  0.10965989],\n",
       "       [-0.61925212,  0.2280289 ],\n",
       "       [ 1.10062389, -1.19239915],\n",
       "       [-0.14150879,  1.6780492 ],\n",
       "       [-1.19254413,  0.55354366],\n",
       "       [ 0.43178322,  2.38826322],\n",
       "       [-1.67028747,  0.4055824 ],\n",
       "       [-0.23705745, -1.36995266],\n",
       "       [ 0.43178322,  1.05661192],\n",
       "       [ 0.04958855, -0.54136963],\n",
       "       [ 0.14513722,  0.19843665],\n",
       "       [-0.81034946, -0.74851539],\n",
       "       [ 2.05611057, -1.1628069 ],\n",
       "       [ 0.33623455,  0.10965989],\n",
       "       [-1.00144679,  2.03315621],\n",
       "       [ 1.48281856,  2.21070971],\n",
       "       [ 0.81397789, -1.19239915],\n",
       "       [-1.09699546, -1.57709842],\n",
       "       [ 0.24068588, -0.09748586],\n",
       "       [-0.04596012,  2.29948647],\n",
       "       [ 0.04958855, -0.51177738],\n",
       "       [ 1.38726989, -0.89647664],\n",
       "       [ 1.29172123, -1.34036041],\n",
       "       [ 2.15165923,  0.99742742],\n",
       "       [ 0.14513722,  0.08006764],\n",
       "       [-0.90589813,  0.61272816],\n",
       "       [ 0.04958855,  1.32294218],\n",
       "       [-0.23705745,  0.19843665],\n",
       "       [-0.90589813,  0.55354366],\n",
       "       [ 0.90952656,  1.08620418],\n",
       "       [-0.52370346,  1.97397171],\n",
       "       [-1.2880928 , -0.30463162],\n",
       "       [-0.61925212, -0.06789361],\n",
       "       [ 1.6739159 , -0.86688439],\n",
       "       [ 0.81397789,  0.31680565],\n",
       "       [ 0.33623455, -0.27503937],\n",
       "       [ 1.38726989,  2.06274846],\n",
       "       [ 0.71842922,  0.31680565],\n",
       "       [-1.09699546, -1.13321465],\n",
       "       [-0.04596012,  0.2872134 ],\n",
       "       [ 0.43178322, -0.42300063],\n",
       "       [-0.04596012, -0.48218513],\n",
       "       [-0.71480079,  0.55354366],\n",
       "       [ 1.86501323,  1.58927244],\n",
       "       [-0.90589813, -0.92606889],\n",
       "       [ 1.9605619 , -0.89647664],\n",
       "       [ 1.86501323,  0.16884439],\n",
       "       [-0.14150879, -0.42300063],\n",
       "       [ 0.24068588,  0.10965989],\n",
       "       [ 0.14513722,  0.25762115],\n",
       "       [-0.04596012,  0.16884439],\n",
       "       [ 0.81397789,  0.58313591],\n",
       "       [ 2.05611057,  0.58313591],\n",
       "       [-1.2880928 , -1.07403015],\n",
       "       [-0.23705745,  0.25762115],\n",
       "       [ 1.48281856, -1.01484565],\n",
       "       [-0.81034946, -1.19239915],\n",
       "       [-0.04596012,  0.3463979 ],\n",
       "       [-0.04596012,  0.19843665],\n",
       "       [ 1.00507522, -1.13321465],\n",
       "       [ 0.14513722, -0.21585487],\n",
       "       [-1.2880928 , -0.39340838],\n",
       "       [-0.52370346,  2.41785547],\n",
       "       [-0.81034946,  0.3463979 ],\n",
       "       [-0.23705745, -0.21585487],\n",
       "       [ 0.81397789,  1.44131119],\n",
       "       [-0.42815479,  1.32294218],\n",
       "       [-0.90589813,  0.31680565],\n",
       "       [-0.04596012,  0.73109716],\n",
       "       [ 1.00507522, -0.9852534 ],\n",
       "       [ 0.90952656, -1.42913716],\n",
       "       [ 0.43178322,  1.17498093],\n",
       "       [-0.23705745,  2.32907872],\n",
       "       [-0.23705745,  1.17498093],\n",
       "       [-0.23705745, -1.34036041],\n",
       "       [ 0.14513722,  1.94437946],\n",
       "       [-1.09699546,  0.52395141],\n",
       "       [ 0.04958855, -0.54136963],\n",
       "       [-0.61925212, -0.00870911],\n",
       "       [-1.09699546, -0.48218513],\n",
       "       [ 0.71842922, -1.07403015],\n",
       "       [-0.42815479, -1.1036224 ],\n",
       "       [-1.38364146, -0.15667037],\n",
       "       [ 0.81397789, -1.34036041],\n",
       "       [ 1.76946456,  1.9147872 ],\n",
       "       [-1.5747388 , -1.54750616],\n",
       "       [ 0.33623455, -0.15667037],\n",
       "       [ 1.38726989,  1.35253443],\n",
       "       [ 0.24068588, -0.33422387],\n",
       "       [-0.04596012,  0.05047539],\n",
       "       [ 0.04958855, -0.27503937],\n",
       "       [-0.42815479, -0.24544712],\n",
       "       [-0.90589813,  0.4647669 ],\n",
       "       [ 0.62288055, -0.86688439],\n",
       "       [-1.09699546, -1.07403015],\n",
       "       [-1.09699546, -0.9852534 ]])"
      ]
     },
     "execution_count": 29,
     "metadata": {},
     "output_type": "execute_result"
    }
   ],
   "source": [
    "X_train"
   ]
  },
  {
   "cell_type": "code",
   "execution_count": 30,
   "metadata": {
    "id": "xvMDI7MO_TG0"
   },
   "outputs": [
    {
     "data": {
      "image/png": "[encoded data removed]",
      "text/plain": [
       "<Figure size 432x288 with 1 Axes>"
      ]
     },
     "metadata": {
      "needs_background": "light"
     },
     "output_type": "display_data"
    }
   ],
   "source": [
    "def plot_decision_boundary(clf, axes, inverse_transform=False):\n",
    "    x0s = np.linspace(axes[0], axes[1], 100)\n",
    "    x1s = np.linspace(axes[2], axes[3], 100)\n",
    "    x0, x1 = np.meshgrid(x0s, x1s)\n",
    "    X = np.c_[x0.ravel(), x1.ravel()]\n",
    "    y_pred = clf.predict(X).reshape(100, 100)\n",
    "    if inverse_transform:\n",
    "        X = scaler.inverse_transform(np.c_[x0s, x1s])\n",
    "        x0, x1 = np.meshgrid(X[:,0], X[:,1])\n",
    "    plt.contourf(x0, x1, y_pred, cmap=plt.cm.brg, alpha=0.2)\n",
    "\n",
    "def plot_prediction_results(clf, X, Y):\n",
    "    plot_decision_boundary(clf, [-3, 3, -3, 3])\n",
    "    plot_scatter_with_labels(X[:,0], X[:,1], Y, xlabel='Scaled Age', ylabel='Scaled Salary')\n",
    "    \n",
    "plot_prediction_results(da_clf, X_train, Y_train)"
   ]
  },
  {
   "cell_type": "markdown",
   "metadata": {
    "id": "l1TQ632QAig_"
   },
   "source": [
    "#### Naive Bayes Classifier"
   ]
  },
  {
   "cell_type": "code",
   "execution_count": 31,
   "metadata": {
    "id": "OH55XNSGAkK9"
   },
   "outputs": [
    {
     "name": "stdout",
     "output_type": "stream",
     "text": [
      "[0.90625    0.9047619  0.88888889 0.98412698 0.87301587]\n",
      "Averaged prediction accuracy =  0.91140873015873\n"
     ]
    },
    {
     "data": {
      "image/png": "[encoded data removed]",
      "text/plain": [
       "<Figure size 432x288 with 1 Axes>"
      ]
     },
     "metadata": {
      "needs_background": "light"
     },
     "output_type": "display_data"
    }
   ],
   "source": [
    "nb_clf = GaussianNB()\n",
    "nb_clf.fit(X_train, Y_train)\n",
    "scores = cross_val_score(nb_clf, X_train, Y_train, scoring='accuracy', cv=5)\n",
    "print(scores)\n",
    "print('Averaged prediction accuracy = ', np.average(scores))\n",
    "avg_cv_scores['NB'] = np.average(scores)\n",
    "plot_prediction_results(nb_clf, X_train, Y_train)"
   ]
  },
  {
   "cell_type": "markdown",
   "metadata": {
    "id": "mpzc6ngnAq1C"
   },
   "source": [
    "#### K-Nearst Neighbors"
   ]
  },
  {
   "cell_type": "code",
   "execution_count": 32,
   "metadata": {
    "id": "UvKZDd4jApj_"
   },
   "outputs": [
    {
     "name": "stdout",
     "output_type": "stream",
     "text": [
      "[0.90625    0.93650794 0.9047619  0.98412698 0.92063492]\n",
      "Averaged prediction accuracy =  0.9304563492063492\n"
     ]
    },
    {
     "data": {
      "image/png": "[encoded data removed]",
      "text/plain": [
       "<Figure size 432x288 with 1 Axes>"
      ]
     },
     "metadata": {
      "needs_background": "light"
     },
     "output_type": "display_data"
    }
   ],
   "source": [
    "knn_clf = KNeighborsClassifier(n_neighbors=5) # change n_neighbors; boundary becomes smoother with increasing value of K\n",
    "knn_clf.fit(X_train, Y_train)\n",
    "scores = cross_val_score(knn_clf, X_train, Y_train, scoring='accuracy', cv=5)\n",
    "print(scores)\n",
    "print('Averaged prediction accuracy = ', np.average(scores))\n",
    "avg_cv_scores['KNN'] = np.average(scores)\n",
    "plot_prediction_results(knn_clf, X_train, Y_train)"
   ]
  },
  {
   "cell_type": "markdown",
   "metadata": {
    "id": "iFMX7hjaAxT2"
   },
   "source": [
    "#### Linear SVM"
   ]
  },
  {
   "cell_type": "code",
   "execution_count": 33,
   "metadata": {
    "id": "nTr8DZe5Au3l"
   },
   "outputs": [
    {
     "name": "stdout",
     "output_type": "stream",
     "text": [
      "[0.890625   0.84126984 0.82539683 0.92063492 0.87301587]\n",
      "Averaged prediction accuracy =  0.8701884920634921\n"
     ]
    },
    {
     "data": {
      "image/png": "[encoded data removed]",
      "text/plain": [
       "<Figure size 432x288 with 1 Axes>"
      ]
     },
     "metadata": {
      "needs_background": "light"
     },
     "output_type": "display_data"
    }
   ],
   "source": [
    "svmln_clf = SVC(kernel='linear')\n",
    "svmln_clf.fit(X_train, Y_train)\n",
    "scores = cross_val_score(svmln_clf, X_train, Y_train, scoring='accuracy', cv=5)\n",
    "print(scores)\n",
    "print('Averaged prediction accuracy = ', np.average(scores))\n",
    "avg_cv_scores['SVM-linear'] = np.average(scores)\n",
    "plot_prediction_results(svmln_clf, X_train, Y_train)"
   ]
  },
  {
   "cell_type": "markdown",
   "metadata": {
    "id": "BVybVbYLA2kX"
   },
   "source": [
    "#### Nonlinear SVM (Gaussian Kernel)"
   ]
  },
  {
   "cell_type": "code",
   "execution_count": 34,
   "metadata": {
    "id": "-jUY94U5A0kR"
   },
   "outputs": [
    {
     "name": "stdout",
     "output_type": "stream",
     "text": [
      "[0.890625   0.9047619  0.92063492 0.98412698 0.88888889]\n",
      "Averaged prediction accuracy =  0.9178075396825396\n"
     ]
    },
    {
     "data": {
      "image/png": "[encoded data removed]",
      "text/plain": [
       "<Figure size 432x288 with 1 Axes>"
      ]
     },
     "metadata": {
      "needs_background": "light"
     },
     "output_type": "display_data"
    }
   ],
   "source": [
    "svmrbf_clf = SVC(kernel='rbf')\n",
    "svmrbf_clf.fit(X_train, Y_train)\n",
    "scores = cross_val_score(svmrbf_clf, X_train, Y_train, scoring='accuracy', cv=5)\n",
    "print(scores)\n",
    "print('Averaged prediction accuracy = ', np.average(scores))\n",
    "avg_cv_scores['SVM-nonlinear'] = np.average(scores)\n",
    "plot_prediction_results(svmrbf_clf, X_train, Y_train)"
   ]
  },
  {
   "cell_type": "markdown",
   "metadata": {
    "id": "14MgPDS5A7TL"
   },
   "source": [
    "#### Decision Tree"
   ]
  },
  {
   "cell_type": "code",
   "execution_count": 35,
   "metadata": {
    "id": "9X0DorPpA6Lx"
   },
   "outputs": [
    {
     "name": "stdout",
     "output_type": "stream",
     "text": [
      "[0.90625    0.88888889 0.93650794 0.96825397 0.88888889]\n",
      "Averaged prediction accuracy =  0.9177579365079364\n"
     ]
    },
    {
     "data": {
      "image/png": "[encoded data removed]",
      "text/plain": [
       "<Figure size 432x288 with 1 Axes>"
      ]
     },
     "metadata": {
      "needs_background": "light"
     },
     "output_type": "display_data"
    }
   ],
   "source": [
    "tree_clf = DecisionTreeClassifier(max_depth=3) # Play with hyperparameter\n",
    "tree_clf.fit(X_train, Y_train)\n",
    "scores = cross_val_score(tree_clf, X_train, Y_train, scoring='accuracy', cv=5)\n",
    "print(scores)\n",
    "print('Averaged prediction accuracy = ', np.average(scores))\n",
    "avg_cv_scores['Decision Tree'] = np.average(scores)\n",
    "plot_prediction_results(tree_clf, X_train, Y_train)"
   ]
  },
  {
   "cell_type": "code",
   "execution_count": 36,
   "metadata": {
    "id": "SsKtCmdUA-a8"
   },
   "outputs": [
    {
     "data": {
      "text/plain": [
       "[('KNN', 0.9304563492063492),\n",
       " ('SVM-nonlinear', 0.9178075396825396),\n",
       " ('Decision Tree', 0.9177579365079364),\n",
       " ('NB', 0.91140873015873),\n",
       " ('SVM-linear', 0.8701884920634921),\n",
       " ('DA', 0.8701884920634919)]"
      ]
     },
     "execution_count": 36,
     "metadata": {},
     "output_type": "execute_result"
    }
   ],
   "source": [
    "sorted_scores = sorted(avg_cv_scores.items(), key=lambda X:X[1], reverse=True)\n",
    "sorted_scores"
   ]
  },
  {
   "cell_type": "markdown",
   "metadata": {
    "id": "fVjv9efuBjkp"
   },
   "source": [
    "#### using the models to predict the testset"
   ]
  },
  {
   "cell_type": "code",
   "execution_count": 37,
   "metadata": {
    "id": "XVKh-aVYBN2m"
   },
   "outputs": [],
   "source": [
    "X_test = scaler.transform(test_data[['Age', 'EstimatedSalary']])\n",
    "# X_test = X_test.to_numpy()"
   ]
  },
  {
   "cell_type": "code",
   "execution_count": 38,
   "metadata": {
    "id": "vgpUFyeyFNJ6"
   },
   "outputs": [],
   "source": [
    "Y_test = test_data['Purchased']"
   ]
  },
  {
   "cell_type": "markdown",
   "metadata": {
    "id": "PMLHvYDqHi_G"
   },
   "source": [
    "Using the trained models to do prediction on the test set"
   ]
  },
  {
   "cell_type": "code",
   "execution_count": 39,
   "metadata": {
    "id": "kiBUHcvIHzh1"
   },
   "outputs": [],
   "source": [
    "test_pred_score = {}"
   ]
  },
  {
   "cell_type": "code",
   "execution_count": 40,
   "metadata": {
    "id": "TSQXGpWkHnnY"
   },
   "outputs": [],
   "source": [
    "# Discriminant Analysis Classifier\n",
    "Y_test_pred_da = da_clf.predict(X_test)\n",
    "test_pred_score['DA'] = accuracy_score(Y_test, Y_test_pred_da)\n",
    "\n",
    "# Naive Bayes Classifier\n",
    "Y_test_pred_nb = nb_clf.predict(X_test)\n",
    "test_pred_score['NB'] = accuracy_score(Y_test, Y_test_pred_nb)\n",
    "\n",
    "# K-Nearst Neighbors\n",
    "Y_test_pred_knn = knn_clf.predict(X_test)\n",
    "test_pred_score['KNN'] = accuracy_score(Y_test, Y_test_pred_knn)\n",
    "\n",
    "# Linear SVM\n",
    "Y_test_pred_svmln = svmln_clf.predict(X_test)\n",
    "test_pred_score['SVM_Linear'] = accuracy_score(Y_test, Y_test_pred_svmln)\n",
    "\n",
    "# Nonlinear SVM (Gaussian Kernel)\n",
    "Y_test_pred_svmrbf = svmrbf_clf.predict(X_test)\n",
    "test_pred_score['SVM_nonlinear'] = accuracy_score(Y_test, Y_test_pred_svmrbf)\n",
    "\n",
    "# Decision Tree\n",
    "Y_test_pred_tree_clf = tree_clf.predict(X_test)\n",
    "test_pred_score['Decision Tree'] = accuracy_score(Y_test, Y_test_pred_tree_clf)"
   ]
  },
  {
   "cell_type": "code",
   "execution_count": 41,
   "metadata": {
    "id": "29LRZ44DHnsc"
   },
   "outputs": [
    {
     "data": {
      "text/plain": [
       "[('Decision Tree', 0.9240506329113924),\n",
       " ('SVM_nonlinear', 0.9113924050632911),\n",
       " ('NB', 0.8734177215189873),\n",
       " ('DA', 0.8607594936708861),\n",
       " ('KNN', 0.8607594936708861),\n",
       " ('SVM_Linear', 0.8607594936708861)]"
      ]
     },
     "execution_count": 41,
     "metadata": {},
     "output_type": "execute_result"
    }
   ],
   "source": [
    "sorted_scores = sorted(test_pred_score.items(), key=lambda X:X[1], reverse=True)\n",
    "sorted_scores"
   ]
  },
  {
   "cell_type": "code",
   "execution_count": null,
   "metadata": {
    "id": "ugjLeCoPVgUC"
   },
   "outputs": [],
   "source": []
  }
 ],
 "metadata": {
  "colab": {
   "provenance": []
  },
  "kernelspec": {
   "display_name": "Python 3 (ipykernel)",
   "language": "python",
   "name": "python3"
  },
  "language_info": {
   "codemirror_mode": {
    "name": "ipython",
    "version": 3
   },
   "file_extension": ".py",
   "mimetype": "text/x-python",
   "name": "python",
   "nbconvert_exporter": "python",
   "pygments_lexer": "ipython3",
   "version": "3.9.7"
  },
  "toc": {
   "base_numbering": 1,
   "nav_menu": {},
   "number_sections": true,
   "sideBar": true,
   "skip_h1_title": false,
   "title_cell": "Table of Contents",
   "title_sidebar": "Contents",
   "toc_cell": false,
   "toc_position": {},
   "toc_section_display": true,
   "toc_window_display": false
  },
  "vscode": {
   "interpreter": {
    "hash": "124e47c1ad6ceb91c3ceb1dde65cfb37b91587009ebc216d439d411f4704dda1"
   }
  }
 },
 "nbformat": 4,
 "nbformat_minor": 1
}

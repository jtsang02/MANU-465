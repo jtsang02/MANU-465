{
  "nbformat": 4,
  "nbformat_minor": 0,
  "metadata": {
    "colab": {
      "provenance": []
    },
    "kernelspec": {
      "name": "python3",
      "display_name": "Python 3"
    },
    "language_info": {
      "name": "python"
    }
  },
  "cells": [
    {
      "cell_type": "markdown",
      "source": [
        "### Connecting GoogleColab with GoogleDrive"
      ],
      "metadata": {
        "id": "fXNSQNMMw8QK"
      }
    },
    {
      "cell_type": "code",
      "execution_count": 1,
      "metadata": {
        "colab": {
          "base_uri": "https://localhost:8080/"
        },
        "id": "TIDAe2RFw7n2",
        "outputId": "9e9c5760-4b89-4685-dd06-170492518d45"
      },
      "outputs": [
        {
          "output_type": "stream",
          "name": "stdout",
          "text": [
            "Mounted at /content/drive/\n"
          ]
        }
      ],
      "source": [
        "from google.colab import drive\n",
        "drive.mount(\"/content/drive/\")"
      ]
    },
    {
      "cell_type": "markdown",
      "source": [
        "Changing the directory"
      ],
      "metadata": {
        "id": "OS69SqPwyfP1"
      }
    },
    {
      "cell_type": "code",
      "source": [
        "%cd /content/drive/MyDrive/Tutorials/Tutorial 3"
      ],
      "metadata": {
        "colab": {
          "base_uri": "https://localhost:8080/"
        },
        "id": "BPyXyV8xyGcX",
        "outputId": "8fc97e88-5638-43f5-e075-044a78e5d0d9"
      },
      "execution_count": 2,
      "outputs": [
        {
          "output_type": "stream",
          "name": "stdout",
          "text": [
            "/content/drive/MyDrive/Tutorials/Tutorial 3\n"
          ]
        }
      ]
    },
    {
      "cell_type": "markdown",
      "source": [
        "Checking the content of the current directory"
      ],
      "metadata": {
        "id": "c3lE6IVzyjRy"
      }
    },
    {
      "cell_type": "code",
      "source": [
        "!ls"
      ],
      "metadata": {
        "colab": {
          "base_uri": "https://localhost:8080/"
        },
        "id": "3vFscrWuySGJ",
        "outputId": "bd71d67e-3da3-423f-bafc-5154029f642c"
      },
      "execution_count": 3,
      "outputs": [
        {
          "output_type": "stream",
          "name": "stdout",
          "text": [
            " Car_Advertisement.csv\t     'Tutorial 3 Template.ipynb'\n",
            "'Tutorial 3 Solution.ipynb'\n"
          ]
        }
      ]
    },
    {
      "cell_type": "markdown",
      "source": [
        "### Importing the basic libraries"
      ],
      "metadata": {
        "id": "6eguLfgdyoYw"
      }
    },
    {
      "cell_type": "code",
      "source": [
        "import numpy as np\n",
        "import pandas as pd\n",
        "import matplotlib.pyplot as plt\n",
        "from seaborn import heatmap\n",
        "from sklearn.model_selection import train_test_split\n",
        "from sklearn.preprocessing import StandardScaler\n",
        "from sklearn.metrics import accuracy_score\n",
        "import seaborn as sb"
      ],
      "metadata": {
        "id": "kY7AY0ZqytMg"
      },
      "execution_count": 13,
      "outputs": []
    },
    {
      "cell_type": "markdown",
      "source": [
        "### Importing the data"
      ],
      "metadata": {
        "id": "-ixqrGooyyiS"
      }
    },
    {
      "cell_type": "code",
      "source": [
        "data = pd.read_csv(\"Car_Advertisement.csv\")"
      ],
      "metadata": {
        "id": "PeSpLStXyxdF"
      },
      "execution_count": 5,
      "outputs": []
    },
    {
      "cell_type": "markdown",
      "source": [
        "### Converting the categorical data to numerical data"
      ],
      "metadata": {
        "id": "9IKPonIezDCb"
      }
    },
    {
      "cell_type": "markdown",
      "source": [
        "In the data,  there are 2 columns with the catergorical values that need to be converted to numerical values. \n",
        "\n",
        "* Gender\n",
        "* Purchased\n",
        "\n",
        "Also, the dataset is complete and there is no null cell :))"
      ],
      "metadata": {
        "id": "nWNFOHWgzNCV"
      }
    },
    {
      "cell_type": "code",
      "source": [
        "data.info()"
      ],
      "metadata": {
        "colab": {
          "base_uri": "https://localhost:8080/"
        },
        "id": "R0FxO_JQy2ch",
        "outputId": "bd140adc-79b9-49d0-8a3f-a1c389d2b573"
      },
      "execution_count": 6,
      "outputs": [
        {
          "output_type": "stream",
          "name": "stdout",
          "text": [
            "<class 'pandas.core.frame.DataFrame'>\n",
            "RangeIndex: 400 entries, 0 to 399\n",
            "Data columns (total 5 columns):\n",
            " #   Column           Non-Null Count  Dtype \n",
            "---  ------           --------------  ----- \n",
            " 0   UserID           400 non-null    int64 \n",
            " 1   Gender           400 non-null    object\n",
            " 2   Age              400 non-null    int64 \n",
            " 3   EstimatedSalary  400 non-null    int64 \n",
            " 4   Purchased        400 non-null    object\n",
            "dtypes: int64(3), object(2)\n",
            "memory usage: 15.8+ KB\n"
          ]
        }
      ]
    },
    {
      "cell_type": "markdown",
      "source": [
        "Converting the values of the \"purchased\" column"
      ],
      "metadata": {
        "id": "pje305YgzpXO"
      }
    },
    {
      "cell_type": "code",
      "source": [
        "data['Purchased'].unique()"
      ],
      "metadata": {
        "colab": {
          "base_uri": "https://localhost:8080/"
        },
        "id": "Di7aPhD8zLJt",
        "outputId": "860c8f30-2e76-4764-bb2f-8a74421347eb"
      },
      "execution_count": 7,
      "outputs": [
        {
          "output_type": "execute_result",
          "data": {
            "text/plain": [
              "array(['Not Purchased', 'Purchased'], dtype=object)"
            ]
          },
          "metadata": {},
          "execution_count": 7
        }
      ]
    },
    {
      "cell_type": "code",
      "source": [
        "# make the dictionary of the items in the \"purchased\" column\n",
        "purchases = {\"Not Purchased\":0, \"Purchased\":1}\n",
        "data[\"Purchased\"] = data[\"Purchased\"].map(purchases)"
      ],
      "metadata": {
        "id": "8XfUGrPez3g5"
      },
      "execution_count": 8,
      "outputs": []
    },
    {
      "cell_type": "markdown",
      "source": [
        "Converting the values of the \"gender\" column"
      ],
      "metadata": {
        "id": "jUi_GEYT0vpR"
      }
    },
    {
      "cell_type": "code",
      "source": [
        "# getting the unique values in the gender column\n",
        "data[\"Gender\"].unique()"
      ],
      "metadata": {
        "id": "Hm1sOpyI1P_y",
        "colab": {
          "base_uri": "https://localhost:8080/"
        },
        "outputId": "6d7dba4a-2b9d-4732-d6e9-20cd3061ad5a"
      },
      "execution_count": 9,
      "outputs": [
        {
          "output_type": "execute_result",
          "data": {
            "text/plain": [
              "array(['Male', 'Female'], dtype=object)"
            ]
          },
          "metadata": {},
          "execution_count": 9
        }
      ]
    },
    {
      "cell_type": "code",
      "source": [
        "gender = {\"Male\":0, \"Female\":1}\n",
        "data['Gender'] = data['Gender'].map(gender)\n",
        "data['Gender'].head()"
      ],
      "metadata": {
        "colab": {
          "base_uri": "https://localhost:8080/"
        },
        "id": "I2-oG5t80usq",
        "outputId": "006937fd-015d-4412-80f9-2a4285ec14a6"
      },
      "execution_count": 10,
      "outputs": [
        {
          "output_type": "execute_result",
          "data": {
            "text/plain": [
              "0    0\n",
              "1    0\n",
              "2    1\n",
              "3    1\n",
              "4    0\n",
              "Name: Gender, dtype: int64"
            ]
          },
          "metadata": {},
          "execution_count": 10
        }
      ]
    },
    {
      "cell_type": "markdown",
      "source": [
        "Let's check the dataset to see if chanages are applied"
      ],
      "metadata": {
        "id": "ZKAftA5l1q3z"
      }
    },
    {
      "cell_type": "code",
      "source": [
        "data.info()"
      ],
      "metadata": {
        "colab": {
          "base_uri": "https://localhost:8080/"
        },
        "id": "fnfVls8V1mT3",
        "outputId": "f7fb1a8a-0562-4c11-8764-35c9c96b30ba"
      },
      "execution_count": 11,
      "outputs": [
        {
          "output_type": "stream",
          "name": "stdout",
          "text": [
            "<class 'pandas.core.frame.DataFrame'>\n",
            "RangeIndex: 400 entries, 0 to 399\n",
            "Data columns (total 5 columns):\n",
            " #   Column           Non-Null Count  Dtype\n",
            "---  ------           --------------  -----\n",
            " 0   UserID           400 non-null    int64\n",
            " 1   Gender           400 non-null    int64\n",
            " 2   Age              400 non-null    int64\n",
            " 3   EstimatedSalary  400 non-null    int64\n",
            " 4   Purchased        400 non-null    int64\n",
            "dtypes: int64(5)\n",
            "memory usage: 15.8 KB\n"
          ]
        }
      ]
    },
    {
      "cell_type": "markdown",
      "source": [
        "### Cleaning the data from the outliers"
      ],
      "metadata": {
        "id": "1A4r-jZDQ_i4"
      }
    },
    {
      "cell_type": "markdown",
      "source": [
        "Box plots before cleaning the data"
      ],
      "metadata": {
        "id": "Xoz76-AyZwaq"
      }
    },
    {
      "cell_type": "code",
      "source": [
        "sb.boxplot(x='Purchased', y='Age', data=data)"
      ],
      "metadata": {
        "colab": {
          "base_uri": "https://localhost:8080/",
          "height": 171
        },
        "id": "TpRb5KguZlrC",
        "outputId": "005256b2-27a9-4ac0-d3db-f15305b5a4a3"
      },
      "execution_count": 12,
      "outputs": [
        {
          "output_type": "error",
          "ename": "NameError",
          "evalue": "ignored",
          "traceback": [
            "\u001b[0;31m---------------------------------------------------------------------------\u001b[0m",
            "\u001b[0;31mNameError\u001b[0m                                 Traceback (most recent call last)",
            "\u001b[0;32m<ipython-input-12-7df7d5a02f7c>\u001b[0m in \u001b[0;36m<module>\u001b[0;34m\u001b[0m\n\u001b[0;32m----> 1\u001b[0;31m \u001b[0msb\u001b[0m\u001b[0;34m.\u001b[0m\u001b[0mboxplot\u001b[0m\u001b[0;34m(\u001b[0m\u001b[0mx\u001b[0m\u001b[0;34m=\u001b[0m\u001b[0;34m'Purchased'\u001b[0m\u001b[0;34m,\u001b[0m \u001b[0my\u001b[0m\u001b[0;34m=\u001b[0m\u001b[0;34m'Age'\u001b[0m\u001b[0;34m,\u001b[0m \u001b[0mdata\u001b[0m\u001b[0;34m=\u001b[0m\u001b[0mdata\u001b[0m\u001b[0;34m)\u001b[0m\u001b[0;34m\u001b[0m\u001b[0;34m\u001b[0m\u001b[0m\n\u001b[0m",
            "\u001b[0;31mNameError\u001b[0m: name 'sb' is not defined"
          ]
        }
      ]
    },
    {
      "cell_type": "code",
      "source": [
        "sb.boxplot(x='Purchased', y='EstimatedSalary', data=data)"
      ],
      "metadata": {
        "id": "hhJbnRTbZpcq"
      },
      "execution_count": null,
      "outputs": []
    },
    {
      "cell_type": "markdown",
      "source": [
        "Now, let's clean the data"
      ],
      "metadata": {
        "id": "eXM3ZOaoZy7K"
      }
    },
    {
      "cell_type": "code",
      "source": [
        "data = data[((data['Age']<55) & (data['Purchased']==0)) | (data['Purchased']==1)]"
      ],
      "metadata": {
        "id": "H3FDb_hLNkg3"
      },
      "execution_count": null,
      "outputs": []
    },
    {
      "cell_type": "code",
      "source": [
        "import seaborn as sb\n",
        "sb.boxplot(x='Purchased', y='Age', data=data)"
      ],
      "metadata": {
        "id": "z-1qX2jNNq8L"
      },
      "execution_count": null,
      "outputs": []
    },
    {
      "cell_type": "code",
      "source": [
        "data = data[ ((data['EstimatedSalary']<120000) & (data['Purchased']==0)) | (data['Purchased']==1)]"
      ],
      "metadata": {
        "id": "WPtRk1iS6j9t"
      },
      "execution_count": null,
      "outputs": []
    },
    {
      "cell_type": "code",
      "source": [
        "sb.boxplot(x='Purchased', y='EstimatedSalary', data=data)"
      ],
      "metadata": {
        "id": "gFriqjcrVcI6"
      },
      "execution_count": null,
      "outputs": []
    },
    {
      "cell_type": "markdown",
      "source": [
        "### Exploring the data\n",
        "\n",
        "Here, we will check the correlation between \"Purchased\" column and the other colunms\n",
        "\n",
        "You can find more info about the heatmap function in Seaborn [here](https://seaborn.pydata.org/generated/seaborn.heatmap.html)."
      ],
      "metadata": {
        "id": "es7Zx-36107N"
      }
    },
    {
      "cell_type": "code",
      "source": [
        "# creating the correlation matrix\n",
        "\n",
        "corr_matrix = data.corr()\n",
        "\n",
        "\n",
        "# visualizing the correlation matrix\n",
        "mask = np.triu(np.ones_like(corr_matrix, dtype=bool))  \n",
        "plt.figure(figsize=(12, 6))  # to set the figure size\n",
        "heatmap(corr_matrix, mask=mask, annot=False, lw=0, linecolor='white', cmap='magma', fmt='0.2f')\n",
        "plt.title(\"Correlation Matrix\")  # to add title \n",
        "plt.xticks(rotation=90)\n",
        "plt.yticks(rotation=0)\n",
        "\n",
        "# getting the correlation values with the purchased column\n",
        "\n",
        "  \n",
        "corr_matrix['Purchased'].sort_values(ascending=False)  "
      ],
      "metadata": {
        "id": "IcHm1wM-1vb6"
      },
      "execution_count": null,
      "outputs": []
    },
    {
      "cell_type": "markdown",
      "source": [
        "### Splitting the train and test data"
      ],
      "metadata": {
        "id": "96W_Q5zv5zjF"
      }
    },
    {
      "cell_type": "code",
      "source": [
        "train_data, test_data = train_test_split(data, test_size=0.2)\n",
        "\n",
        "# splitting the input and the output from the trainining set\n",
        "Y_train = train_data[['Purchased']].copy()\n",
        "\n",
        "# removing the useless features and the output from the dataset\n",
        "X_train = train_data.drop(['Purchased', 'UserID', \"Gender\"], axis=1)  # drop \"Purchased\", \"UserID\", and 'Gender'"
      ],
      "metadata": {
        "id": "g6qMz7Dt2VKr"
      },
      "execution_count": null,
      "outputs": []
    },
    {
      "cell_type": "markdown",
      "source": [
        "Let's check the type of the data "
      ],
      "metadata": {
        "id": "iM9OzVtS8P7g"
      }
    },
    {
      "cell_type": "code",
      "source": [
        "print(type(X_train))\n",
        "print(type(Y_train))"
      ],
      "metadata": {
        "id": "1rmJ2oX96PTj"
      },
      "execution_count": null,
      "outputs": []
    },
    {
      "cell_type": "markdown",
      "source": [
        "### data visualization"
      ],
      "metadata": {
        "id": "70OIRrU98qxq"
      }
    },
    {
      "cell_type": "code",
      "source": [
        "# making a function to plot the data\n",
        "def plot_scatter_with_labels(X1, X2, Y, xlabel='Age', ylabel='Estimated Salary'):\n",
        "  df = pd.DataFrame(dict(x1=X1, x2=X2, label=Y))\n",
        "  groups = df.groupby('label')\n",
        "  for number, group in groups:\n",
        "    if number == 0:\n",
        "      name = 'Not Purchased'\n",
        "    elif number == 1:\n",
        "      name = 'Purchased'\n",
        "    plt.plot(group.x1, group.x2, marker='o', linestyle='', ms=3, label=name)\n",
        "\n",
        "  plt.legend()\n",
        "  plt.xlabel(xlabel)\n",
        "  plt.ylabel(ylabel)\n"
      ],
      "metadata": {
        "id": "dI9FqIEN8svv"
      },
      "execution_count": null,
      "outputs": []
    },
    {
      "cell_type": "code",
      "source": [
        "plot_scatter_with_labels(train_data['Age'], train_data['EstimatedSalary'], train_data['Purchased'])"
      ],
      "metadata": {
        "id": "Utmvds0L90ZR"
      },
      "execution_count": null,
      "outputs": []
    },
    {
      "cell_type": "markdown",
      "source": [
        "### Scaling the features\n",
        "\n",
        "We standardize all the data using their mean and standard deviation\n",
        "\n",
        "$$ \\hat{x_i} = \\frac{x_i-\\mu}{\\sigma_i}$$"
      ],
      "metadata": {
        "id": "LZvOJvaK-jyT"
      }
    },
    {
      "cell_type": "code",
      "source": [
        "print(type(X_train))"
      ],
      "metadata": {
        "id": "gpagsBUz-7dt"
      },
      "execution_count": null,
      "outputs": []
    },
    {
      "cell_type": "code",
      "source": [
        "scaler = StandardScaler()\n",
        "X_train = scaler.fit_transform(X_train)\n",
        "print(type(X_train))"
      ],
      "metadata": {
        "id": "vKxjRS4O-brY"
      },
      "execution_count": null,
      "outputs": []
    },
    {
      "cell_type": "markdown",
      "source": [
        "### Exploring different machine learning tools"
      ],
      "metadata": {
        "id": "pA3oMFS0_JUe"
      }
    },
    {
      "cell_type": "code",
      "source": [
        "from sklearn.model_selection import cross_val_score\n",
        "# importing the models\n",
        "from sklearn.discriminant_analysis import LinearDiscriminantAnalysis\n",
        "from sklearn.naive_bayes import GaussianNB\n",
        "from sklearn.neighbors import KNeighborsClassifier\n",
        "from sklearn.svm import SVC\n",
        "from sklearn.svm import SVC\n",
        "from sklearn.tree import DecisionTreeClassifier"
      ],
      "metadata": {
        "id": "TDdtW_b6_y4P"
      },
      "execution_count": null,
      "outputs": []
    },
    {
      "cell_type": "markdown",
      "source": [
        "Converting the output to numpy array and changing the shape"
      ],
      "metadata": {
        "id": "WgK0wRHzASOT"
      }
    },
    {
      "cell_type": "code",
      "source": [
        "Y_train = Y_train.to_numpy()\n",
        "Y_train = Y_train.ravel()"
      ],
      "metadata": {
        "id": "MEs7kN_e_fMs"
      },
      "execution_count": null,
      "outputs": []
    },
    {
      "cell_type": "markdown",
      "source": [
        "#### Discriminant Analysis Classifier"
      ],
      "metadata": {
        "id": "6vTO4tEUAcO9"
      }
    },
    {
      "cell_type": "code",
      "source": [
        "da_clf = LinearDiscriminantAnalysis()\n",
        "da_clf.fit(X_train, Y_train)"
      ],
      "metadata": {
        "id": "Qfu-JgVd_RWZ"
      },
      "execution_count": null,
      "outputs": []
    },
    {
      "cell_type": "code",
      "source": [
        "from sklearn.model_selection import cross_val_score\n",
        "scores = cross_val_score(da_clf, X_train, Y_train, scoring='accuracy', cv=5)  # 5-fold\n",
        "print(scores)\n",
        "print('Averaged prediction accuracy = ', np.average(scores))\n",
        "avg_cv_scores = {}\n",
        "avg_cv_scores['DA'] = np.average(scores)"
      ],
      "metadata": {
        "id": "Cswi9cTd_G5s"
      },
      "execution_count": null,
      "outputs": []
    },
    {
      "cell_type": "code",
      "source": [
        "def plot_decision_boundary(clf, axes, inverse_transform=False):\n",
        "    x0s = np.linspace(axes[0], axes[1], 100)\n",
        "    x1s = np.linspace(axes[2], axes[3], 100)\n",
        "    x0, x1 = np.meshgrid(x0s, x1s)\n",
        "    X = np.c_[x0.ravel(), x1.ravel()]\n",
        "    y_pred = clf.predict(X).reshape(100, 100)\n",
        "    if inverse_transform:\n",
        "        X = scaler.inverse_transform(np.c_[x0s, x1s])\n",
        "        x0, x1 = np.meshgrid(X[:,0], X[:,1])\n",
        "    plt.contourf(x0, x1, y_pred, cmap=plt.cm.brg, alpha=0.2)\n",
        "\n",
        "def plot_prediction_results(clf, X, Y):\n",
        "    plot_decision_boundary(clf, [-3, 3, -3, 3])\n",
        "    plot_scatter_with_labels(X[:,0], X[:,1], Y, xlabel='Scaled Age', ylabel='Scaled Salary')\n",
        "    \n",
        "plot_prediction_results(da_clf, X_train, Y_train)"
      ],
      "metadata": {
        "id": "xvMDI7MO_TG0"
      },
      "execution_count": null,
      "outputs": []
    },
    {
      "cell_type": "markdown",
      "source": [
        "#### Naive Bayes Classifier"
      ],
      "metadata": {
        "id": "l1TQ632QAig_"
      }
    },
    {
      "cell_type": "code",
      "source": [
        "nb_clf = GaussianNB()\n",
        "nb_clf.fit(X_train, Y_train)\n",
        "scores = cross_val_score(nb_clf, X_train, Y_train, scoring='accuracy', cv=5)\n",
        "print(scores)\n",
        "print('Averaged prediction accuracy = ', np.average(scores))\n",
        "avg_cv_scores['NB'] = np.average(scores)\n",
        "plot_prediction_results(nb_clf, X_train, Y_train)"
      ],
      "metadata": {
        "id": "OH55XNSGAkK9"
      },
      "execution_count": null,
      "outputs": []
    },
    {
      "cell_type": "markdown",
      "source": [
        "#### K-Nearst Neighbors"
      ],
      "metadata": {
        "id": "mpzc6ngnAq1C"
      }
    },
    {
      "cell_type": "code",
      "source": [
        "knn_clf = KNeighborsClassifier(n_neighbors=5) # change n_neighbors; boundary becomes smoother with increasing value of K\n",
        "knn_clf.fit(X_train, Y_train)\n",
        "scores = cross_val_score(knn_clf, X_train, Y_train, scoring='accuracy', cv=5)\n",
        "print(scores)\n",
        "print('Averaged prediction accuracy = ', np.average(scores))\n",
        "avg_cv_scores['KNN'] = np.average(scores)\n",
        "plot_prediction_results(knn_clf, X_train, Y_train)"
      ],
      "metadata": {
        "id": "UvKZDd4jApj_"
      },
      "execution_count": null,
      "outputs": []
    },
    {
      "cell_type": "markdown",
      "source": [
        "#### Linear SVM"
      ],
      "metadata": {
        "id": "iFMX7hjaAxT2"
      }
    },
    {
      "cell_type": "code",
      "source": [
        "svmln_clf = SVC(kernel='linear')\n",
        "svmln_clf.fit(X_train, Y_train)\n",
        "scores = cross_val_score(svmln_clf, X_train, Y_train, scoring='accuracy', cv=5)\n",
        "print(scores)\n",
        "print('Averaged prediction accuracy = ', np.average(scores))\n",
        "avg_cv_scores['SVM-linear'] = np.average(scores)\n",
        "plot_prediction_results(svmln_clf, X_train, Y_train)"
      ],
      "metadata": {
        "id": "nTr8DZe5Au3l"
      },
      "execution_count": null,
      "outputs": []
    },
    {
      "cell_type": "markdown",
      "source": [
        "#### Nonlinear SVM (Gaussian Kernel)"
      ],
      "metadata": {
        "id": "BVybVbYLA2kX"
      }
    },
    {
      "cell_type": "code",
      "source": [
        "svmrbf_clf = SVC(kernel='rbf')\n",
        "svmrbf_clf.fit(X_train, Y_train)\n",
        "scores = cross_val_score(svmrbf_clf, X_train, Y_train, scoring='accuracy', cv=5)\n",
        "print(scores)\n",
        "print('Averaged prediction accuracy = ', np.average(scores))\n",
        "avg_cv_scores['SVM-nonlinear'] = np.average(scores)\n",
        "plot_prediction_results(svmrbf_clf, X_train, Y_train)"
      ],
      "metadata": {
        "id": "-jUY94U5A0kR"
      },
      "execution_count": null,
      "outputs": []
    },
    {
      "cell_type": "markdown",
      "source": [
        "#### Decision Tree"
      ],
      "metadata": {
        "id": "14MgPDS5A7TL"
      }
    },
    {
      "cell_type": "code",
      "source": [
        "tree_clf = DecisionTreeClassifier(max_depth=3) # Play with hyperparameter\n",
        "tree_clf.fit(X_train, Y_train)\n",
        "scores = cross_val_score(tree_clf, X_train, Y_train, scoring='accuracy', cv=5)\n",
        "print(scores)\n",
        "print('Averaged prediction accuracy = ', np.average(scores))\n",
        "avg_cv_scores['Decision Tree'] = np.average(scores)\n",
        "plot_prediction_results(tree_clf, X_train, Y_train)"
      ],
      "metadata": {
        "id": "9X0DorPpA6Lx"
      },
      "execution_count": null,
      "outputs": []
    },
    {
      "cell_type": "code",
      "source": [
        "sorted_scores = sorted(avg_cv_scores.items(), key=lambda X:X[1], reverse=True)\n",
        "sorted_scores"
      ],
      "metadata": {
        "id": "SsKtCmdUA-a8"
      },
      "execution_count": null,
      "outputs": []
    },
    {
      "cell_type": "markdown",
      "source": [
        "#### using the models to predict the testset"
      ],
      "metadata": {
        "id": "fVjv9efuBjkp"
      }
    },
    {
      "cell_type": "code",
      "source": [
        "X_test = scaler.transform(test_data[['Age', 'EstimatedSalary']])\n",
        "# X_test = X_test.to_numpy()"
      ],
      "metadata": {
        "id": "XVKh-aVYBN2m"
      },
      "execution_count": null,
      "outputs": []
    },
    {
      "cell_type": "code",
      "source": [
        "Y_test = test_data['Purchased']"
      ],
      "metadata": {
        "id": "vgpUFyeyFNJ6"
      },
      "execution_count": null,
      "outputs": []
    },
    {
      "cell_type": "markdown",
      "source": [
        "Using the trained models to do prediction on the test set"
      ],
      "metadata": {
        "id": "PMLHvYDqHi_G"
      }
    },
    {
      "cell_type": "code",
      "source": [
        "test_pred_score = {}"
      ],
      "metadata": {
        "id": "kiBUHcvIHzh1"
      },
      "execution_count": null,
      "outputs": []
    },
    {
      "cell_type": "code",
      "source": [
        "# Discriminant Analysis Classifier\n",
        "Y_test_pred_da = da_clf.predict(X_test)\n",
        "test_pred_score['DA'] = accuracy_score(Y_test, Y_test_pred_da)\n",
        "\n",
        "# Naive Bayes Classifier\n",
        "Y_test_pred_nb = nb_clf.predict(X_test)\n",
        "test_pred_score['NB'] = accuracy_score(Y_test, Y_test_pred_nb)\n",
        "\n",
        "# K-Nearst Neighbors\n",
        "Y_test_pred_knn = knn_clf.predict(X_test)\n",
        "test_pred_score['KNN'] = accuracy_score(Y_test, Y_test_pred_knn)\n",
        "\n",
        "# Linear SVM\n",
        "Y_test_pred_svmln = svmln_clf.predict(X_test)\n",
        "test_pred_score['SVM_Linear'] = accuracy_score(Y_test, Y_test_pred_svmln)\n",
        "\n",
        "# Nonlinear SVM (Gaussian Kernel)\n",
        "Y_test_pred_svmrbf = svmrbf_clf.predict(X_test)\n",
        "test_pred_score['SVM_nonlinear'] = accuracy_score(Y_test, Y_test_pred_svmrbf)\n",
        "\n",
        "# Decision Tree\n",
        "Y_test_pred_tree_clf = tree_clf.predict(X_test)\n",
        "test_pred_score['Decision Tree'] = accuracy_score(Y_test, Y_test_pred_tree_clf)"
      ],
      "metadata": {
        "id": "TSQXGpWkHnnY"
      },
      "execution_count": null,
      "outputs": []
    },
    {
      "cell_type": "code",
      "source": [
        "sorted_scores = sorted(test_pred_score.items(), key=lambda X:X[1], reverse=True)\n",
        "sorted_scores"
      ],
      "metadata": {
        "id": "29LRZ44DHnsc"
      },
      "execution_count": null,
      "outputs": []
    },
    {
      "cell_type": "code",
      "source": [],
      "metadata": {
        "id": "ugjLeCoPVgUC"
      },
      "execution_count": null,
      "outputs": []
    }
  ]
}
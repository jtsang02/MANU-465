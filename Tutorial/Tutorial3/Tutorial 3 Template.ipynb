{
 "cells": [
  {
   "cell_type": "markdown",
   "id": "56a9fd9c-939e-41b1-ac2b-49aba0dc0181",
   "metadata": {},
   "source": [
    "# Tutorial 3 Car Purchase\n",
    "In this tutorial, we will build machine learning models to help a car retail company to \"learn\" their customer behaviour. \n",
    "They have collected some data on their previous customers and listed in \"Car_Advertisement.csv\". In the datasheet, you can see 5 columns:\n",
    "+ User ID (instead of names, the company is using an ID to protect their privacy!)\n",
    "+ Gender \n",
    "+ Age\n",
    "+ Salary\n",
    "+ Purchased (whether or not they purchased a car - this is the target for our predictions)\n",
    "Using these data, the company want to be build a ML model that can predict if a new customer will purchase a car based on their gender, age and salary."
   ]
  },
  {
   "cell_type": "markdown",
   "id": "270c267e-893a-47f5-8c94-37af305c84f1",
   "metadata": {},
   "source": [
    "## 1. Importing Basic Libraries"
   ]
  },
  {
   "cell_type": "code",
   "execution_count": null,
   "id": "723d7ddf-7111-4dad-a07f-91bc9c3bba4d",
   "metadata": {},
   "outputs": [],
   "source": [
    "import numpy as np \n",
    "import pandas as pd \n",
    "import matplotlib.pyplot as plt "
   ]
  },
  {
   "cell_type": "markdown",
   "id": "462bd8d2-2ec0-42dd-9041-8934ac7075dd",
   "metadata": {},
   "source": [
    "## 2. Importing the Data"
   ]
  },
  {
   "cell_type": "code",
   "execution_count": null,
   "id": "d5d4e1db-4cc4-41bc-a153-dfa5456ffc2a",
   "metadata": {},
   "outputs": [],
   "source": [
    "data = pd.read_csv('Car_Advertisement.csv')"
   ]
  },
  {
   "cell_type": "markdown",
   "id": "06ff010d-942b-4e1d-9e9e-1d7a6c20b9ef",
   "metadata": {},
   "source": [
    "## 3. Converting the Catogorical Data to Numerical Data"
   ]
  },
  {
   "cell_type": "code",
   "execution_count": null,
   "id": "736ab46e-2d32-40b2-94bb-ac483f66c91b",
   "metadata": {},
   "outputs": [],
   "source": [
    "data.info()"
   ]
  },
  {
   "cell_type": "code",
   "execution_count": null,
   "id": "fd598bec-19ff-4d57-91e1-b2be8b2baa6c",
   "metadata": {},
   "outputs": [],
   "source": [
    "purchases = {'Not Purchased': 0, 'Purchased': 1}\n",
    "data['Purchased'] = data['Purchased'].map(purchases)\n",
    "pd.DataFrame(data['Purchased'])"
   ]
  },
  {
   "cell_type": "code",
   "execution_count": null,
   "id": "250253b0-6757-4fa3-b557-a0d30152fc1e",
   "metadata": {},
   "outputs": [],
   "source": [
    "# Encoding the gender here"
   ]
  },
  {
   "cell_type": "code",
   "execution_count": null,
   "id": "888e46fd-9209-414a-bc99-aa53729bc065",
   "metadata": {},
   "outputs": [],
   "source": [
    "data.info()"
   ]
  },
  {
   "cell_type": "markdown",
   "id": "1a3685de-aeca-42da-abee-5f56015d6849",
   "metadata": {},
   "source": [
    "## 4. Exploring the Data\n",
    "#### Checking the correlations between the output parameter 'Purchased' and input features"
   ]
  },
  {
   "cell_type": "code",
   "execution_count": null,
   "id": "b71babce-a0a2-4d78-b229-68e5db9473c2",
   "metadata": {},
   "outputs": [],
   "source": []
  },
  {
   "cell_type": "markdown",
   "id": "fb002929-5952-4c48-80a5-419b253776fa",
   "metadata": {},
   "source": [
    "Due to the low correlations, we will drop the UserID and Gender parameters later before training."
   ]
  },
  {
   "cell_type": "markdown",
   "id": "5ba68a76-3e18-44c2-8166-2ddfc8d28967",
   "metadata": {},
   "source": [
    "## 4. Splitting the Test and Train Data"
   ]
  },
  {
   "cell_type": "code",
   "execution_count": null,
   "id": "09646be3-b532-48be-8c46-30d02dc8414b",
   "metadata": {},
   "outputs": [],
   "source": []
  },
  {
   "cell_type": "markdown",
   "id": "e015c8ee-7a3b-4a2a-bb3d-5c1ffd7de38b",
   "metadata": {},
   "source": [
    "## 5. Visualizing the Data"
   ]
  },
  {
   "cell_type": "code",
   "execution_count": null,
   "id": "6b7556f5-9ee5-43bc-aa0e-4cbedb245605",
   "metadata": {},
   "outputs": [],
   "source": []
  },
  {
   "cell_type": "markdown",
   "id": "a92dc2aa-5091-450f-9ea4-c3b0a9899db4",
   "metadata": {},
   "source": [
    "## 6. Scaling the Features\n",
    "We standardize all the data using their mean and standard deviation\n",
    "\n",
    "$$ \\hat{x_i} = \\frac{x_i-\\mu}{\\sigma_i}$$"
   ]
  },
  {
   "cell_type": "code",
   "execution_count": null,
   "id": "fbe78d87-e10b-4dfc-872a-88044bf0a5e8",
   "metadata": {},
   "outputs": [],
   "source": []
  },
  {
   "cell_type": "markdown",
   "id": "abf93481-d8d0-4ffc-8e96-c60a8913100e",
   "metadata": {},
   "source": [
    "## 7. Exploring Different Machine Learning Models"
   ]
  },
  {
   "cell_type": "markdown",
   "id": "1c5616b4-1594-4e66-a06f-2ce6e2996fcb",
   "metadata": {},
   "source": [
    "### 7.1. Discriminant Analysis Classifier"
   ]
  },
  {
   "cell_type": "code",
   "execution_count": null,
   "id": "fd4e3036-afc1-44f2-9ce4-9441f015999f",
   "metadata": {},
   "outputs": [],
   "source": []
  },
  {
   "cell_type": "markdown",
   "id": "3be82451-c920-483a-b4ce-a02115a164c7",
   "metadata": {},
   "source": [
    "#### Cross validation"
   ]
  },
  {
   "cell_type": "code",
   "execution_count": null,
   "id": "7ea8a942-81b8-4dac-aa6a-704375ee09e8",
   "metadata": {},
   "outputs": [],
   "source": []
  },
  {
   "cell_type": "markdown",
   "id": "7c9f6431-9cff-4d94-960a-3bd0efefebfe",
   "metadata": {},
   "source": [
    "#### Visualization"
   ]
  },
  {
   "cell_type": "code",
   "execution_count": null,
   "id": "4f7927e1-dc97-4d01-94cf-e2caaf77b4f2",
   "metadata": {},
   "outputs": [],
   "source": []
  },
  {
   "cell_type": "markdown",
   "id": "832d7748-4efc-4276-8394-aa0ec6424ac8",
   "metadata": {},
   "source": [
    "### 7.2. Naive Bayes Classifier "
   ]
  },
  {
   "cell_type": "code",
   "execution_count": null,
   "id": "487cf31d-2763-46c4-b14a-b693456822eb",
   "metadata": {},
   "outputs": [],
   "source": []
  },
  {
   "cell_type": "markdown",
   "id": "ff922b3e-1ec1-4d3b-8100-c2a235612fee",
   "metadata": {},
   "source": [
    "### 7.3. K-Nearst Neighbors"
   ]
  },
  {
   "cell_type": "code",
   "execution_count": null,
   "id": "fdb429cc-7e74-42c8-b364-bbeadf08ae56",
   "metadata": {},
   "outputs": [],
   "source": []
  },
  {
   "cell_type": "markdown",
   "id": "4e0418a0-8840-4bea-ad6d-88ce9b2bc138",
   "metadata": {},
   "source": [
    "### 7.4. Linear SVM"
   ]
  },
  {
   "cell_type": "code",
   "execution_count": null,
   "id": "a3345101-0759-4692-9c29-99c80f5cbe98",
   "metadata": {},
   "outputs": [],
   "source": []
  },
  {
   "cell_type": "markdown",
   "id": "f4bba787-2150-4487-8980-75d6b3ef47cb",
   "metadata": {},
   "source": [
    "### 7.5. Nonlinear SVM (Gaussian Kernel)"
   ]
  },
  {
   "cell_type": "code",
   "execution_count": null,
   "id": "ec54f5ea-5d96-4f03-aeb6-617f04c83ef1",
   "metadata": {},
   "outputs": [],
   "source": []
  },
  {
   "cell_type": "markdown",
   "id": "11403235-de98-4ab0-afe5-645e00f371de",
   "metadata": {},
   "source": [
    "### 7.6. Decision Tree"
   ]
  },
  {
   "cell_type": "code",
   "execution_count": null,
   "id": "52bb1360-8183-40d8-ac36-0749b36d9920",
   "metadata": {},
   "outputs": [],
   "source": []
  },
  {
   "cell_type": "markdown",
   "id": "fb521aad-7832-41a9-9805-dac253f5882e",
   "metadata": {},
   "source": [
    "### 7.7. Comparing and Selecting the Models"
   ]
  },
  {
   "cell_type": "code",
   "execution_count": null,
   "id": "9a4f2e43-a2c9-475f-b708-360796ba4019",
   "metadata": {},
   "outputs": [],
   "source": []
  }
 ],
 "metadata": {
  "kernelspec": {
   "display_name": "Python 3 (ipykernel)",
   "language": "python",
   "name": "python3"
  },
  "language_info": {
   "codemirror_mode": {
    "name": "ipython",
    "version": 3
   },
   "file_extension": ".py",
   "mimetype": "text/x-python",
   "name": "python",
   "nbconvert_exporter": "python",
   "pygments_lexer": "ipython3",
   "version": "3.9.0"
  }
 },
 "nbformat": 4,
 "nbformat_minor": 5
}

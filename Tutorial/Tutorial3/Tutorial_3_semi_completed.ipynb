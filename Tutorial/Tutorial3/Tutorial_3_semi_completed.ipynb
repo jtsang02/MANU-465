{
 "cells": [
  {
   "cell_type": "markdown",
   "metadata": {
    "id": "fXNSQNMMw8QK"
   },
   "source": [
    "### Connecting GoogleColab with GoogleDrive"
   ]
  },
  {
   "cell_type": "markdown",
   "metadata": {
    "id": "6eguLfgdyoYw"
   },
   "source": [
    "### Importing the basic libraries"
   ]
  },
  {
   "cell_type": "code",
   "execution_count": 2,
   "metadata": {
    "id": "kY7AY0ZqytMg"
   },
   "outputs": [],
   "source": [
    "import numpy as np\n",
    "import pandas as pd\n",
    "import matplotlib.pyplot as plt\n",
    "from seaborn import heatmap\n",
    "from sklearn.model_selection import train_test_split\n",
    "from sklearn.preprocessing import StandardScaler\n",
    "from sklearn.metrics import accuracy_score\n",
    "import seaborn as sb"
   ]
  },
  {
   "cell_type": "markdown",
   "metadata": {
    "id": "-ixqrGooyyiS"
   },
   "source": [
    "### Importing the data"
   ]
  },
  {
   "cell_type": "code",
   "execution_count": 24,
   "metadata": {
    "id": "PeSpLStXyxdF"
   },
   "outputs": [],
   "source": [
    "data = pd.read_csv(\"Car_Advertisement.csv\")"
   ]
  },
  {
   "cell_type": "markdown",
   "metadata": {
    "id": "9IKPonIezDCb"
   },
   "source": [
    "### Converting the categorical data to numerical data"
   ]
  },
  {
   "cell_type": "markdown",
   "metadata": {
    "id": "nWNFOHWgzNCV"
   },
   "source": [
    "In the data,  there are 2 columns with the catergorical values that need to be converted to numerical values. \n",
    "\n",
    "* Gender\n",
    "* Purchased\n",
    "\n",
    "Also, the dataset is complete and there is no null cell :))"
   ]
  },
  {
   "cell_type": "code",
   "execution_count": 25,
   "metadata": {
    "colab": {
     "base_uri": "https://localhost:8080/"
    },
    "id": "R0FxO_JQy2ch",
    "outputId": "e10952d7-2c64-43e2-b37e-4009982bfc7d"
   },
   "outputs": [
    {
     "name": "stdout",
     "output_type": "stream",
     "text": [
      "<class 'pandas.core.frame.DataFrame'>\n",
      "RangeIndex: 400 entries, 0 to 399\n",
      "Data columns (total 5 columns):\n",
      " #   Column           Non-Null Count  Dtype \n",
      "---  ------           --------------  ----- \n",
      " 0   UserID           400 non-null    int64 \n",
      " 1   Gender           400 non-null    object\n",
      " 2   Age              400 non-null    int64 \n",
      " 3   EstimatedSalary  400 non-null    int64 \n",
      " 4   Purchased        400 non-null    object\n",
      "dtypes: int64(3), object(2)\n",
      "memory usage: 15.8+ KB\n"
     ]
    }
   ],
   "source": [
    "data.info()"
   ]
  },
  {
   "cell_type": "markdown",
   "metadata": {
    "id": "pje305YgzpXO"
   },
   "source": [
    "Converting the values of the \"purchased\" column"
   ]
  },
  {
   "cell_type": "code",
   "execution_count": 26,
   "metadata": {
    "id": "Di7aPhD8zLJt"
   },
   "outputs": [
    {
     "data": {
      "text/plain": [
       "array(['Not Purchased', 'Purchased'], dtype=object)"
      ]
     },
     "execution_count": 26,
     "metadata": {},
     "output_type": "execute_result"
    }
   ],
   "source": [
    "# getting the unique values in the purchase column\n",
    "data['Purchased'].unique()"
   ]
  },
  {
   "cell_type": "code",
   "execution_count": 27,
   "metadata": {
    "id": "8XfUGrPez3g5"
   },
   "outputs": [
    {
     "data": {
      "text/plain": [
       "0    0\n",
       "1    0\n",
       "2    0\n",
       "3    0\n",
       "4    0\n",
       "Name: Purchased, dtype: int64"
      ]
     },
     "execution_count": 27,
     "metadata": {},
     "output_type": "execute_result"
    }
   ],
   "source": [
    "# make the dictionary of the items in the \"purchased\" column\n",
    "purchases = {\"Not Purchased\": 0, \"Purchased\": 1}\n",
    "data[\"Purchased\"] = data[\"Purchased\"].map(purchases)\n",
    "data[\"Purchased\"].head()  # checking if the changes are applied"
   ]
  },
  {
   "cell_type": "markdown",
   "metadata": {
    "id": "jUi_GEYT0vpR"
   },
   "source": [
    "Converting the values of the \"gender\" column"
   ]
  },
  {
   "cell_type": "code",
   "execution_count": 28,
   "metadata": {
    "id": "Hm1sOpyI1P_y"
   },
   "outputs": [
    {
     "data": {
      "text/plain": [
       "array(['Male', 'Female'], dtype=object)"
      ]
     },
     "execution_count": 28,
     "metadata": {},
     "output_type": "execute_result"
    }
   ],
   "source": [
    "# getting the unique values in the gender column\n",
    "data[\"Gender\"].unique()"
   ]
  },
  {
   "cell_type": "code",
   "execution_count": 29,
   "metadata": {
    "id": "I2-oG5t80usq"
   },
   "outputs": [
    {
     "data": {
      "text/plain": [
       "0    0\n",
       "1    0\n",
       "2    1\n",
       "3    1\n",
       "4    0\n",
       "Name: Gender, dtype: int64"
      ]
     },
     "execution_count": 29,
     "metadata": {},
     "output_type": "execute_result"
    }
   ],
   "source": [
    "gender = {\"Male\":0, \"Female\":1}\n",
    "data['Gender'] = data['Gender'].map(gender)\n",
    "data['Gender'].head()"
   ]
  },
  {
   "cell_type": "markdown",
   "metadata": {
    "id": "ZKAftA5l1q3z"
   },
   "source": [
    "Let's check the dataset to see if chanages are applied"
   ]
  },
  {
   "cell_type": "code",
   "execution_count": 30,
   "metadata": {
    "colab": {
     "base_uri": "https://localhost:8080/"
    },
    "id": "fnfVls8V1mT3",
    "outputId": "1a5b02f4-0061-4ba0-aff6-e24853916456"
   },
   "outputs": [
    {
     "name": "stdout",
     "output_type": "stream",
     "text": [
      "<class 'pandas.core.frame.DataFrame'>\n",
      "RangeIndex: 400 entries, 0 to 399\n",
      "Data columns (total 5 columns):\n",
      " #   Column           Non-Null Count  Dtype\n",
      "---  ------           --------------  -----\n",
      " 0   UserID           400 non-null    int64\n",
      " 1   Gender           400 non-null    int64\n",
      " 2   Age              400 non-null    int64\n",
      " 3   EstimatedSalary  400 non-null    int64\n",
      " 4   Purchased        400 non-null    int64\n",
      "dtypes: int64(5)\n",
      "memory usage: 15.8 KB\n"
     ]
    }
   ],
   "source": [
    "data.info()"
   ]
  },
  {
   "cell_type": "markdown",
   "metadata": {
    "id": "r-ihPVxjbynW"
   },
   "source": [
    "### Cleaning the data from the outliers"
   ]
  },
  {
   "cell_type": "markdown",
   "metadata": {
    "id": "H_x8nuqWb1Ro"
   },
   "source": [
    "Box plots before cleaning the data"
   ]
  },
  {
   "cell_type": "code",
   "execution_count": 31,
   "metadata": {
    "id": "fIiEtitDbs9v"
   },
   "outputs": [
    {
     "data": {
      "text/plain": [
       "<AxesSubplot:xlabel='Purchased', ylabel='Age'>"
      ]
     },
     "execution_count": 31,
     "metadata": {},
     "output_type": "execute_result"
    },
    {
     "data": {
      "image/png": "[encoded data removed]",
      "text/plain": [
       "<Figure size 432x288 with 1 Axes>"
      ]
     },
     "metadata": {
      "needs_background": "light"
     },
     "output_type": "display_data"
    }
   ],
   "source": [
    "sb.boxplot(x='Purchased', y='Age', data=data)"
   ]
  },
  {
   "cell_type": "code",
   "execution_count": 32,
   "metadata": {
    "id": "7I4hCgR_bs_-"
   },
   "outputs": [
    {
     "data": {
      "text/plain": [
       "<AxesSubplot:xlabel='Purchased', ylabel='EstimatedSalary'>"
      ]
     },
     "execution_count": 32,
     "metadata": {},
     "output_type": "execute_result"
    },
    {
     "data": {
      "image/png": "[encoded data removed]",
      "text/plain": [
       "<Figure size 432x288 with 1 Axes>"
      ]
     },
     "metadata": {
      "needs_background": "light"
     },
     "output_type": "display_data"
    }
   ],
   "source": [
    "sb.boxplot(x='Purchased', y='EstimatedSalary', data=data)"
   ]
  },
  {
   "cell_type": "markdown",
   "metadata": {
    "id": "JqFXdLBmcaWY"
   },
   "source": [
    "Now, let's clean the data"
   ]
  },
  {
   "cell_type": "code",
   "execution_count": 34,
   "metadata": {
    "id": "On3AcI2obtDO"
   },
   "outputs": [],
   "source": [
    "data = data[((data['Age']<55) & (data['Purchased']==0)) | (data['Purchased']==1)]"
   ]
  },
  {
   "cell_type": "code",
   "execution_count": 35,
   "metadata": {
    "id": "x2953DqLbtF0"
   },
   "outputs": [
    {
     "data": {
      "text/plain": [
       "<AxesSubplot:xlabel='Purchased', ylabel='Age'>"
      ]
     },
     "execution_count": 35,
     "metadata": {},
     "output_type": "execute_result"
    },
    {
     "data": {
      "image/png": "[encoded data removed]",
      "text/plain": [
       "<Figure size 432x288 with 1 Axes>"
      ]
     },
     "metadata": {
      "needs_background": "light"
     },
     "output_type": "display_data"
    }
   ],
   "source": [
    "sb.boxplot(x='Purchased', y='Age', data=data)"
   ]
  },
  {
   "cell_type": "code",
   "execution_count": 36,
   "metadata": {
    "id": "9Fllo6debtIK"
   },
   "outputs": [],
   "source": [
    "data = data[ ((data['EstimatedSalary']<120000) & (data['Purchased']==0)) | (data['Purchased']==1)]"
   ]
  },
  {
   "cell_type": "code",
   "execution_count": 37,
   "metadata": {
    "id": "WYhP6IzdbtKo"
   },
   "outputs": [
    {
     "data": {
      "text/plain": [
       "<AxesSubplot:xlabel='Purchased', ylabel='EstimatedSalary'>"
      ]
     },
     "execution_count": 37,
     "metadata": {},
     "output_type": "execute_result"
    },
    {
     "data": {
      "image/png": "[encoded data removed]",
      "text/plain": [
       "<Figure size 432x288 with 1 Axes>"
      ]
     },
     "metadata": {
      "needs_background": "light"
     },
     "output_type": "display_data"
    }
   ],
   "source": [
    "sb.boxplot(x='Purchased', y='EstimatedSalary', data=data)"
   ]
  },
  {
   "cell_type": "markdown",
   "metadata": {
    "id": "es7Zx-36107N"
   },
   "source": [
    "### Exploring the data\n",
    "\n",
    "Here, we will check the correlation between \"Purchased\" column and the other colunms\n",
    "\n",
    "You can find more info about the heatmap function in Seaborn [here](https://seaborn.pydata.org/generated/seaborn.heatmap.html)."
   ]
  },
  {
   "cell_type": "code",
   "execution_count": 40,
   "metadata": {
    "colab": {
     "base_uri": "https://localhost:8080/",
     "height": 566
    },
    "id": "IcHm1wM-1vb6",
    "outputId": "a5a4ec7e-cfaa-439f-8707-6dad4d7de468"
   },
   "outputs": [
    {
     "data": {
      "text/plain": [
       "Purchased          1.000000\n",
       "Age                0.646837\n",
       "EstimatedSalary    0.379491\n",
       "Gender             0.048415\n",
       "UserID             0.001279\n",
       "Name: Purchased, dtype: float64"
      ]
     },
     "execution_count": 40,
     "metadata": {},
     "output_type": "execute_result"
    },
    {
     "data": {
      "image/png": "[encoded data removed]",
      "text/plain": [
       "<Figure size 864x432 with 2 Axes>"
      ]
     },
     "metadata": {
      "needs_background": "light"
     },
     "output_type": "display_data"
    }
   ],
   "source": [
    "# creating the correlation matrix\n",
    "##  start the code here\n",
    "corr_matrix = data.corr()\n",
    "## End\n",
    "\n",
    "# visualizing the correlation matrix\n",
    "mask = np.triu(np.ones_like(corr_matrix, dtype=bool))  \n",
    "plt.figure(figsize=(12, 6))  # to set the figure size\n",
    "heatmap(corr_matrix, mask=mask, annot=False, lw=0, linecolor='white', cmap='magma', fmt='0.2f')\n",
    "plt.title(\"Correlation Matrix\")  # to add title \n",
    "plt.xticks(rotation=90)\n",
    "plt.yticks(rotation=0)\n",
    "\n",
    "# getting the correlation values with the purchased column\n",
    "## Start the code here\n",
    "corr_matrix['Purchased'].sort_values(ascending=False)\n",
    "## End"
   ]
  },
  {
   "cell_type": "markdown",
   "metadata": {
    "id": "96W_Q5zv5zjF"
   },
   "source": [
    "### Splitting the train and test data"
   ]
  },
  {
   "cell_type": "code",
   "execution_count": 44,
   "metadata": {
    "id": "g6qMz7Dt2VKr"
   },
   "outputs": [],
   "source": [
    "## Code here\n",
    "train_data, test_data = train_test_split(data, test_size=0.2)\n",
    "## End\n",
    "\n",
    "# splitting the input and the output from the trainining set\n",
    "Y_train = train_data[['Purchased']].copy()\n",
    "\n",
    "# removing the useless features and the output from the dataset\n",
    "X_train = train_data.drop(['Purchased', 'UserID', 'Gender'], axis=1)  # drop \"Purchased\", \"UserID\", and 'Gender'"
   ]
  },
  {
   "cell_type": "markdown",
   "metadata": {
    "id": "iM9OzVtS8P7g"
   },
   "source": [
    "Let's check the type of the data "
   ]
  },
  {
   "cell_type": "code",
   "execution_count": 45,
   "metadata": {
    "colab": {
     "base_uri": "https://localhost:8080/"
    },
    "id": "1rmJ2oX96PTj",
    "outputId": "c5dfc47c-682f-4b55-95f4-bcf15f82b77a"
   },
   "outputs": [
    {
     "name": "stdout",
     "output_type": "stream",
     "text": [
      "<class 'pandas.core.frame.DataFrame'>\n",
      "<class 'pandas.core.frame.DataFrame'>\n"
     ]
    }
   ],
   "source": [
    "print(type(X_train))\n",
    "print(type(Y_train))"
   ]
  },
  {
   "cell_type": "markdown",
   "metadata": {
    "id": "70OIRrU98qxq"
   },
   "source": [
    "### Data visualization"
   ]
  },
  {
   "cell_type": "code",
   "execution_count": 46,
   "metadata": {
    "id": "dI9FqIEN8svv"
   },
   "outputs": [],
   "source": [
    "# making a function to plot the data\n",
    "def plot_scatter_with_labels(X1, X2, Y, xlabel='Age', ylabel='Estimated Salary'):\n",
    "  df = pd.DataFrame(dict(x1=X1, x2=X2, label=Y))\n",
    "  groups = df.groupby('label')\n",
    "  for number, group in groups:\n",
    "    if number == 0:\n",
    "      name = 'Not Purchased'\n",
    "    elif number == 1:\n",
    "      name = 'Purchased'\n",
    "    plt.plot(group.x1, group.x2, marker='o', linestyle='', ms=3, label=name)\n",
    "\n",
    "  plt.legend()\n",
    "  plt.xlabel(xlabel)\n",
    "  plt.ylabel(ylabel)\n"
   ]
  },
  {
   "cell_type": "code",
   "execution_count": 48,
   "metadata": {
    "colab": {
     "base_uri": "https://localhost:8080/",
     "height": 279
    },
    "id": "Utmvds0L90ZR",
    "outputId": "09730204-5ac7-488e-d74f-2c53d872ba55"
   },
   "outputs": [
    {
     "data": {
      "image/png": "[encoded data removed]",
      "text/plain": [
       "<Figure size 432x288 with 1 Axes>"
      ]
     },
     "metadata": {
      "needs_background": "light"
     },
     "output_type": "display_data"
    }
   ],
   "source": [
    "plot_scatter_with_labels(train_data['Age'], train_data['EstimatedSalary'], train_data['Purchased'])"
   ]
  },
  {
   "cell_type": "markdown",
   "metadata": {
    "id": "LZvOJvaK-jyT"
   },
   "source": [
    "### Scaling the features\n",
    "\n",
    "We standardize all the data using their mean and standard deviation\n",
    "\n",
    "$$ \\hat{x_i} = \\frac{x_i-\\mu}{\\sigma_i}$$"
   ]
  },
  {
   "cell_type": "code",
   "execution_count": 50,
   "metadata": {},
   "outputs": [
    {
     "name": "stdout",
     "output_type": "stream",
     "text": [
      "<class 'pandas.core.frame.DataFrame'>\n"
     ]
    }
   ],
   "source": [
    "print(type(X_train))"
   ]
  },
  {
   "cell_type": "code",
   "execution_count": 51,
   "metadata": {
    "colab": {
     "base_uri": "https://localhost:8080/"
    },
    "id": "vKxjRS4O-brY",
    "outputId": "f2e3cf8d-88bb-4b66-9bec-7c2a2bf90d5d"
   },
   "outputs": [
    {
     "name": "stdout",
     "output_type": "stream",
     "text": [
      "<class 'numpy.ndarray'>\n"
     ]
    }
   ],
   "source": [
    "## Code here\n",
    "scaler = StandardScaler()\n",
    "X_train = scaler.fit_transform(X_train)\n",
    "print(type(X_train))\n",
    "## end"
   ]
  },
  {
   "cell_type": "markdown",
   "metadata": {
    "id": "pA3oMFS0_JUe"
   },
   "source": [
    "### Exploring different machine learning tools"
   ]
  },
  {
   "cell_type": "code",
   "execution_count": 52,
   "metadata": {
    "id": "TDdtW_b6_y4P"
   },
   "outputs": [],
   "source": [
    "from sklearn.model_selection import cross_val_score\n",
    "# importing the models\n",
    "from sklearn.discriminant_analysis import LinearDiscriminantAnalysis\n",
    "from sklearn.naive_bayes import GaussianNB\n",
    "from sklearn.neighbors import KNeighborsClassifier\n",
    "from sklearn.svm import SVC\n",
    "from sklearn.svm import SVC\n",
    "from sklearn.tree import DecisionTreeClassifier"
   ]
  },
  {
   "cell_type": "markdown",
   "metadata": {
    "id": "WgK0wRHzASOT"
   },
   "source": [
    "Converting the output to numpy array and changing the shape"
   ]
  },
  {
   "cell_type": "code",
   "execution_count": 53,
   "metadata": {
    "id": "MEs7kN_e_fMs"
   },
   "outputs": [],
   "source": [
    "Y_train = Y_train.to_numpy()\n",
    "Y_train = Y_train.ravel()"
   ]
  },
  {
   "cell_type": "markdown",
   "metadata": {
    "id": "6vTO4tEUAcO9"
   },
   "source": [
    "#### Discriminant Analysis Classifier"
   ]
  },
  {
   "cell_type": "code",
   "execution_count": 54,
   "metadata": {
    "colab": {
     "base_uri": "https://localhost:8080/"
    },
    "id": "Qfu-JgVd_RWZ",
    "outputId": "00f2eb7c-8762-47e4-d57a-f893ba3f234d"
   },
   "outputs": [
    {
     "data": {
      "text/plain": [
       "LinearDiscriminantAnalysis()"
      ]
     },
     "execution_count": 54,
     "metadata": {},
     "output_type": "execute_result"
    }
   ],
   "source": [
    "da_clf = LinearDiscriminantAnalysis()\n",
    "da_clf.fit(X_train, Y_train)"
   ]
  },
  {
   "cell_type": "code",
   "execution_count": 59,
   "metadata": {
    "colab": {
     "base_uri": "https://localhost:8080/"
    },
    "id": "Cswi9cTd_G5s",
    "outputId": "6d2f716b-3d2e-4e1c-9d37-28e88a3eb779"
   },
   "outputs": [
    {
     "name": "stdout",
     "output_type": "stream",
     "text": [
      "[0.890625   0.87301587 0.84126984 0.85714286 0.88888889]\n",
      "Averaged prediction accuracy =  0.8701884920634921\n"
     ]
    }
   ],
   "source": [
    "from sklearn.model_selection import cross_val_score\n",
    "scores = cross_val_score(da_clf, X_train, Y_train, scoring='accuracy', cv=5)  # 5-fold\n",
    "print(scores)\n",
    "print('Averaged prediction accuracy = ', np.average(scores))\n",
    "avg_cv_scores = {}\n",
    "avg_cv_scores['DA'] = np.average(scores)"
   ]
  },
  {
   "cell_type": "code",
   "execution_count": 58,
   "metadata": {
    "colab": {
     "base_uri": "https://localhost:8080/",
     "height": 283
    },
    "id": "xvMDI7MO_TG0",
    "outputId": "ab18e85e-bab3-4e44-eed4-ee1eac599b11"
   },
   "outputs": [
    {
     "data": {
      "image/png": "[encoded data removed]",
      "text/plain": [
       "<Figure size 432x288 with 1 Axes>"
      ]
     },
     "metadata": {
      "needs_background": "light"
     },
     "output_type": "display_data"
    }
   ],
   "source": [
    "def plot_decision_boundary(clf, axes, inverse_transform=False):\n",
    "    x0s = np.linspace(axes[0], axes[1], 100)\n",
    "    x1s = np.linspace(axes[2], axes[3], 100)\n",
    "    x0, x1 = np.meshgrid(x0s, x1s)\n",
    "    X = np.c_[x0.ravel(), x1.ravel()]\n",
    "    y_pred = clf.predict(X).reshape(100, 100)\n",
    "    if inverse_transform:\n",
    "        X = scaler.inverse_transform(np.c_[x0s, x1s])\n",
    "        x0, x1 = np.meshgrid(X[:,0], X[:,1])\n",
    "    plt.contourf(x0, x1, y_pred, cmap=plt.cm.brg, alpha=0.2)\n",
    "\n",
    "def plot_prediction_results(clf, X, Y):\n",
    "    plot_decision_boundary(clf, [-3, 3, -3, 3])\n",
    "    plot_scatter_with_labels(X[:,0], X[:,1], Y, xlabel='Scaled Age', ylabel='Scaled Salary')\n",
    "    \n",
    "plot_prediction_results(da_clf, X_train, Y_train)"
   ]
  },
  {
   "cell_type": "markdown",
   "metadata": {
    "id": "l1TQ632QAig_"
   },
   "source": [
    "#### Naive Bayes Classifier"
   ]
  },
  {
   "cell_type": "code",
   "execution_count": 60,
   "metadata": {
    "colab": {
     "base_uri": "https://localhost:8080/",
     "height": 318
    },
    "id": "OH55XNSGAkK9",
    "outputId": "4703b6c1-60f0-4452-f679-62cce3c64d31"
   },
   "outputs": [
    {
     "name": "stdout",
     "output_type": "stream",
     "text": [
      "[0.90625    0.9047619  0.93650794 0.84126984 0.93650794]\n",
      "Averaged prediction accuracy =  0.9050595238095237\n"
     ]
    },
    {
     "data": {
      "image/png": "[encoded data removed]",
      "text/plain": [
       "<Figure size 432x288 with 1 Axes>"
      ]
     },
     "metadata": {
      "needs_background": "light"
     },
     "output_type": "display_data"
    }
   ],
   "source": [
    "nb_clf = GaussianNB()\n",
    "nb_clf.fit(X_train, Y_train)\n",
    "scores = cross_val_score(nb_clf, X_train, Y_train, scoring='accuracy', cv=5)\n",
    "print(scores)\n",
    "print('Averaged prediction accuracy = ', np.average(scores))\n",
    "avg_cv_scores['NB'] = np.average(scores)\n",
    "plot_prediction_results(nb_clf, X_train, Y_train)"
   ]
  },
  {
   "cell_type": "markdown",
   "metadata": {
    "id": "mpzc6ngnAq1C"
   },
   "source": [
    "#### K-Nearst Neighbors"
   ]
  },
  {
   "cell_type": "code",
   "execution_count": 61,
   "metadata": {
    "colab": {
     "base_uri": "https://localhost:8080/",
     "height": 318
    },
    "id": "UvKZDd4jApj_",
    "outputId": "a7901d81-a8be-4acd-daac-6dbcdd74edc3"
   },
   "outputs": [
    {
     "name": "stdout",
     "output_type": "stream",
     "text": [
      "[0.90625    0.93650794 0.95238095 0.92063492 0.95238095]\n",
      "Averaged prediction accuracy =  0.9336309523809524\n"
     ]
    },
    {
     "data": {
      "image/png": "[encoded data removed]",
      "text/plain": [
       "<Figure size 432x288 with 1 Axes>"
      ]
     },
     "metadata": {
      "needs_background": "light"
     },
     "output_type": "display_data"
    }
   ],
   "source": [
    "knn_clf = KNeighborsClassifier(n_neighbors=5) # change n_neighbors; boundary becomes smoother with increasing value of K\n",
    "knn_clf.fit(X_train, Y_train)\n",
    "scores = cross_val_score(knn_clf, X_train, Y_train, scoring='accuracy', cv=5)\n",
    "print(scores)\n",
    "print('Averaged prediction accuracy = ', np.average(scores))\n",
    "avg_cv_scores['KNN'] = np.average(scores)\n",
    "plot_prediction_results(knn_clf, X_train, Y_train)"
   ]
  },
  {
   "cell_type": "markdown",
   "metadata": {
    "id": "iFMX7hjaAxT2"
   },
   "source": [
    "#### Linear SVM"
   ]
  },
  {
   "cell_type": "code",
   "execution_count": 63,
   "metadata": {
    "colab": {
     "base_uri": "https://localhost:8080/",
     "height": 318
    },
    "id": "nTr8DZe5Au3l",
    "outputId": "1fb5f9b6-3e77-418d-c908-ffa43a23eceb"
   },
   "outputs": [
    {
     "name": "stdout",
     "output_type": "stream",
     "text": [
      "[0.859375   0.9047619  0.84126984 0.84126984 0.87301587]\n",
      "Averaged prediction accuracy =  0.863938492063492\n"
     ]
    },
    {
     "data": {
      "image/png": "[encoded data removed]",
      "text/plain": [
       "<Figure size 432x288 with 1 Axes>"
      ]
     },
     "metadata": {
      "needs_background": "light"
     },
     "output_type": "display_data"
    }
   ],
   "source": [
    "svmln_clf = SVC(kernel='linear')\n",
    "svmln_clf.fit(X_train, Y_train)\n",
    "scores = cross_val_score(svmln_clf, X_train, Y_train, scoring='accuracy', cv=5)\n",
    "print(scores)\n",
    "print('Averaged prediction accuracy = ', np.average(scores))\n",
    "avg_cv_scores['SVM-linear'] = np.average(scores)\n",
    "plot_prediction_results(svmln_clf, X_train, Y_train)"
   ]
  },
  {
   "cell_type": "markdown",
   "metadata": {
    "id": "BVybVbYLA2kX"
   },
   "source": [
    "#### Nonlinear SVM (Gaussian Kernel)"
   ]
  },
  {
   "cell_type": "code",
   "execution_count": 64,
   "metadata": {
    "colab": {
     "base_uri": "https://localhost:8080/",
     "height": 318
    },
    "id": "-jUY94U5A0kR",
    "outputId": "4b735c91-7380-4c15-e9c4-e37bebae0850"
   },
   "outputs": [
    {
     "name": "stdout",
     "output_type": "stream",
     "text": [
      "[0.90625    0.88888889 0.95238095 0.9047619  0.95238095]\n",
      "Averaged prediction accuracy =  0.9209325396825395\n"
     ]
    },
    {
     "data": {
      "image/png": "[encoded data removed]",
      "text/plain": [
       "<Figure size 432x288 with 1 Axes>"
      ]
     },
     "metadata": {
      "needs_background": "light"
     },
     "output_type": "display_data"
    }
   ],
   "source": [
    "svmrbf_clf = SVC(kernel='rbf')\n",
    "svmrbf_clf.fit(X_train, Y_train)\n",
    "scores = cross_val_score(svmrbf_clf, X_train, Y_train, scoring='accuracy', cv=5)\n",
    "print(scores)\n",
    "print('Averaged prediction accuracy = ', np.average(scores))\n",
    "avg_cv_scores['SVM-nonlinear'] = np.average(scores)\n",
    "plot_prediction_results(svmrbf_clf, X_train, Y_train)"
   ]
  },
  {
   "cell_type": "markdown",
   "metadata": {
    "id": "14MgPDS5A7TL"
   },
   "source": [
    "#### Decision Tree"
   ]
  },
  {
   "cell_type": "code",
   "execution_count": 75,
   "metadata": {
    "colab": {
     "base_uri": "https://localhost:8080/",
     "height": 318
    },
    "id": "9X0DorPpA6Lx",
    "outputId": "366315d8-9034-4dcd-80c5-9b7cf00c2ccb"
   },
   "outputs": [
    {
     "name": "stdout",
     "output_type": "stream",
     "text": [
      "[0.90625    0.85714286 0.93650794 0.87301587 0.95238095]\n",
      "Averaged prediction accuracy =  0.9050595238095237\n"
     ]
    },
    {
     "data": {
      "image/png": "[encoded data removed]",
      "text/plain": [
       "<Figure size 432x288 with 1 Axes>"
      ]
     },
     "metadata": {
      "needs_background": "light"
     },
     "output_type": "display_data"
    }
   ],
   "source": [
    "tree_clf = DecisionTreeClassifier(max_depth=3) # Play with hyperparameter\n",
    "tree_clf.fit(X_train, Y_train)\n",
    "scores = cross_val_score(tree_clf, X_train, Y_train, scoring='accuracy', cv=5)\n",
    "print(scores)\n",
    "print('Averaged prediction accuracy = ', np.average(scores))\n",
    "avg_cv_scores['Decision Tree'] = np.average(scores)\n",
    "plot_prediction_results(tree_clf, X_train, Y_train)"
   ]
  },
  {
   "cell_type": "code",
   "execution_count": 76,
   "metadata": {
    "colab": {
     "base_uri": "https://localhost:8080/"
    },
    "id": "SsKtCmdUA-a8",
    "outputId": "5bdab0ee-6f3f-433e-eae5-1caa3c4b4a18"
   },
   "outputs": [
    {
     "data": {
      "text/plain": [
       "[('KNN', 0.9336309523809524),\n",
       " ('SVM-nonlinear', 0.9209325396825395),\n",
       " ('NB', 0.9050595238095237),\n",
       " ('Decision Tree', 0.9050595238095237),\n",
       " ('DA', 0.8701884920634921),\n",
       " ('SVM-linear', 0.863938492063492)]"
      ]
     },
     "execution_count": 76,
     "metadata": {},
     "output_type": "execute_result"
    }
   ],
   "source": [
    "sorted_scores = sorted(avg_cv_scores.items(), key=lambda X:X[1], reverse=True)\n",
    "sorted_scores"
   ]
  },
  {
   "cell_type": "markdown",
   "metadata": {
    "id": "fVjv9efuBjkp"
   },
   "source": [
    "#### using the models to predict the testset"
   ]
  },
  {
   "cell_type": "code",
   "execution_count": 77,
   "metadata": {
    "id": "XVKh-aVYBN2m"
   },
   "outputs": [],
   "source": [
    "X_test = scaler.transform(test_data[['Age', 'EstimatedSalary']])\n",
    "# X_test = X_test.to_numpy()"
   ]
  },
  {
   "cell_type": "code",
   "execution_count": 78,
   "metadata": {
    "id": "vgpUFyeyFNJ6"
   },
   "outputs": [],
   "source": [
    "Y_test = test_data['Purchased']"
   ]
  },
  {
   "cell_type": "markdown",
   "metadata": {
    "id": "PMLHvYDqHi_G"
   },
   "source": [
    "Using the trained models to do prediction on the test set"
   ]
  },
  {
   "cell_type": "code",
   "execution_count": 79,
   "metadata": {
    "id": "kiBUHcvIHzh1"
   },
   "outputs": [],
   "source": [
    "test_pred_score = {}"
   ]
  },
  {
   "cell_type": "code",
   "execution_count": 80,
   "metadata": {
    "id": "TSQXGpWkHnnY"
   },
   "outputs": [],
   "source": [
    "# Discriminant Analysis Classifier\n",
    "Y_test_pred_da = da_clf.predict(X_test)\n",
    "test_pred_score['DA'] = accuracy_score(Y_test, Y_test_pred_da)\n",
    "\n",
    "# Naive Bayes Classifier\n",
    "Y_test_pred_nb = nb_clf.predict(X_test)\n",
    "test_pred_score['NB'] = accuracy_score(Y_test, Y_test_pred_nb)\n",
    "\n",
    "# K-Nearst Neighbors\n",
    "Y_test_pred_knn = knn_clf.predict(X_test)\n",
    "test_pred_score['KNN'] = accuracy_score(Y_test, Y_test_pred_knn)\n",
    "\n",
    "# Linear SVM\n",
    "Y_test_pred_svmln = svmln_clf.predict(X_test)\n",
    "test_pred_score['SVM_Linear'] = accuracy_score(Y_test, Y_test_pred_svmln)\n",
    "\n",
    "# Nonlinear SVM (Gaussian Kernel)\n",
    "Y_test_pred_svmrbf = svmrbf_clf.predict(X_test)\n",
    "test_pred_score['SVM_nonlinear'] = accuracy_score(Y_test, Y_test_pred_svmrbf)\n",
    "\n",
    "# Decision Tree\n",
    "Y_test_pred_tree_clf = tree_clf.predict(X_test)\n",
    "test_pred_score['Decision Tree'] = accuracy_score(Y_test, Y_test_pred_tree_clf)"
   ]
  },
  {
   "cell_type": "code",
   "execution_count": 81,
   "metadata": {
    "colab": {
     "base_uri": "https://localhost:8080/"
    },
    "id": "29LRZ44DHnsc",
    "outputId": "8d993de5-b344-47ed-d891-db83e6349b4f"
   },
   "outputs": [
    {
     "data": {
      "text/plain": [
       "[('SVM_nonlinear', 0.9367088607594937),\n",
       " ('Decision Tree', 0.9240506329113924),\n",
       " ('NB', 0.9113924050632911),\n",
       " ('KNN', 0.8734177215189873),\n",
       " ('DA', 0.8227848101265823),\n",
       " ('SVM_Linear', 0.7974683544303798)]"
      ]
     },
     "execution_count": 81,
     "metadata": {},
     "output_type": "execute_result"
    }
   ],
   "source": [
    "sorted_scores = sorted(test_pred_score.items(), key=lambda X:X[1], reverse=True)\n",
    "sorted_scores"
   ]
  },
  {
   "cell_type": "code",
   "execution_count": null,
   "metadata": {},
   "outputs": [],
   "source": []
  }
 ],
 "metadata": {
  "colab": {
   "collapsed_sections": [
    "6vTO4tEUAcO9",
    "l1TQ632QAig_",
    "mpzc6ngnAq1C",
    "iFMX7hjaAxT2",
    "BVybVbYLA2kX",
    "14MgPDS5A7TL",
    "fVjv9efuBjkp"
   ],
   "provenance": []
  },
  "kernelspec": {
   "display_name": "Python 3 (ipykernel)",
   "language": "python",
   "name": "python3"
  },
  "language_info": {
   "codemirror_mode": {
    "name": "ipython",
    "version": 3
   },
   "file_extension": ".py",
   "mimetype": "text/x-python",
   "name": "python",
   "nbconvert_exporter": "python",
   "pygments_lexer": "ipython3",
   "version": "3.9.7"
  },
  "toc": {
   "base_numbering": 1,
   "nav_menu": {},
   "number_sections": true,
   "sideBar": true,
   "skip_h1_title": false,
   "title_cell": "Table of Contents",
   "title_sidebar": "Contents",
   "toc_cell": false,
   "toc_position": {},
   "toc_section_display": true,
   "toc_window_display": false
  }
 },
 "nbformat": 4,
 "nbformat_minor": 1
}

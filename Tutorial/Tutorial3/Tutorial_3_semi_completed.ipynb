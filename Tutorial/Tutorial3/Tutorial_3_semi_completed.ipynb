{
  "nbformat": 4,
  "nbformat_minor": 0,
  "metadata": {
    "colab": {
      "provenance": [],
      "collapsed_sections": [
        "6vTO4tEUAcO9",
        "l1TQ632QAig_",
        "mpzc6ngnAq1C",
        "iFMX7hjaAxT2",
        "BVybVbYLA2kX",
        "14MgPDS5A7TL",
        "fVjv9efuBjkp"
      ]
    },
    "kernelspec": {
      "name": "python3",
      "display_name": "Python 3"
    },
    "language_info": {
      "name": "python"
    }
  },
  "cells": [
    {
      "cell_type": "markdown",
      "source": [
        "### Connecting GoogleColab with GoogleDrive"
      ],
      "metadata": {
        "id": "fXNSQNMMw8QK"
      }
    },
    {
      "cell_type": "code",
      "execution_count": null,
      "metadata": {
        "colab": {
          "base_uri": "https://localhost:8080/"
        },
        "id": "TIDAe2RFw7n2",
        "outputId": "3b8a58fd-bec5-4ad6-cdc3-4988f208e741"
      },
      "outputs": [
        {
          "output_type": "stream",
          "name": "stdout",
          "text": [
            "Drive already mounted at /content/drive/; to attempt to forcibly remount, call drive.mount(\"/content/drive/\", force_remount=True).\n"
          ]
        }
      ],
      "source": [
        "from google.colab import drive\n",
        "drive.mount(\"/content/drive/\")"
      ]
    },
    {
      "cell_type": "markdown",
      "source": [
        "Changing the directory"
      ],
      "metadata": {
        "id": "OS69SqPwyfP1"
      }
    },
    {
      "cell_type": "code",
      "source": [
        "%cd /content/drive/MyDrive/Tutorials/Tutorial 3"
      ],
      "metadata": {
        "colab": {
          "base_uri": "https://localhost:8080/"
        },
        "id": "BPyXyV8xyGcX",
        "outputId": "1c33dadc-d5ba-479a-e04b-990420f9e3ad"
      },
      "execution_count": null,
      "outputs": [
        {
          "output_type": "stream",
          "name": "stdout",
          "text": [
            "/content/drive/MyDrive/Tutorials/Tutorial 3\n"
          ]
        }
      ]
    },
    {
      "cell_type": "markdown",
      "source": [
        "Checking the content of the current directory"
      ],
      "metadata": {
        "id": "c3lE6IVzyjRy"
      }
    },
    {
      "cell_type": "code",
      "source": [
        "!ls"
      ],
      "metadata": {
        "colab": {
          "base_uri": "https://localhost:8080/"
        },
        "id": "3vFscrWuySGJ",
        "outputId": "2efdaab8-3b1b-4794-ce84-9c48f77e75ac"
      },
      "execution_count": null,
      "outputs": [
        {
          "output_type": "stream",
          "name": "stdout",
          "text": [
            " Car_Advertisement.csv\t     'Tutorial 3 Template.ipynb'\n",
            "'Tutorial 3 Solution.ipynb'\n"
          ]
        }
      ]
    },
    {
      "cell_type": "markdown",
      "source": [
        "### Importing the basic libraries"
      ],
      "metadata": {
        "id": "6eguLfgdyoYw"
      }
    },
    {
      "cell_type": "code",
      "source": [
        "import numpy as np\n",
        "import pandas as pd\n",
        "import matplotlib.pyplot as plt\n",
        "from seaborn import heatmap\n",
        "from sklearn.model_selection import train_test_split\n",
        "from sklearn.preprocessing import StandardScaler\n",
        "from sklearn.metrics import accuracy_score\n",
        "import seaborn as sb"
      ],
      "metadata": {
        "id": "kY7AY0ZqytMg"
      },
      "execution_count": null,
      "outputs": []
    },
    {
      "cell_type": "markdown",
      "source": [
        "### Importing the data"
      ],
      "metadata": {
        "id": "-ixqrGooyyiS"
      }
    },
    {
      "cell_type": "code",
      "source": [
        "data = pd.read_csv(\"\")"
      ],
      "metadata": {
        "id": "PeSpLStXyxdF"
      },
      "execution_count": null,
      "outputs": []
    },
    {
      "cell_type": "markdown",
      "source": [
        "### Converting the categorical data to numerical data"
      ],
      "metadata": {
        "id": "9IKPonIezDCb"
      }
    },
    {
      "cell_type": "markdown",
      "source": [
        "In the data,  there are 2 columns with the catergorical values that need to be converted to numerical values. \n",
        "\n",
        "* Gender\n",
        "* Purchased\n",
        "\n",
        "Also, the dataset is complete and there is no null cell :))"
      ],
      "metadata": {
        "id": "nWNFOHWgzNCV"
      }
    },
    {
      "cell_type": "code",
      "source": [
        "data.info()"
      ],
      "metadata": {
        "colab": {
          "base_uri": "https://localhost:8080/"
        },
        "id": "R0FxO_JQy2ch",
        "outputId": "e10952d7-2c64-43e2-b37e-4009982bfc7d"
      },
      "execution_count": null,
      "outputs": [
        {
          "output_type": "stream",
          "name": "stdout",
          "text": [
            "<class 'pandas.core.frame.DataFrame'>\n",
            "RangeIndex: 400 entries, 0 to 399\n",
            "Data columns (total 5 columns):\n",
            " #   Column           Non-Null Count  Dtype \n",
            "---  ------           --------------  ----- \n",
            " 0   UserID           400 non-null    int64 \n",
            " 1   Gender           400 non-null    object\n",
            " 2   Age              400 non-null    int64 \n",
            " 3   EstimatedSalary  400 non-null    int64 \n",
            " 4   Purchased        400 non-null    object\n",
            "dtypes: int64(3), object(2)\n",
            "memory usage: 15.8+ KB\n"
          ]
        }
      ]
    },
    {
      "cell_type": "markdown",
      "source": [
        "Converting the values of the \"purchased\" column"
      ],
      "metadata": {
        "id": "pje305YgzpXO"
      }
    },
    {
      "cell_type": "code",
      "source": [
        "# getting the unique values in the purchase column\n",
        "data[''].unique()"
      ],
      "metadata": {
        "id": "Di7aPhD8zLJt"
      },
      "execution_count": null,
      "outputs": []
    },
    {
      "cell_type": "code",
      "source": [
        "# make the dictionary of the items in the \"purchased\" column\n",
        "purchases = {}\n",
        "data[''] = data[''].map()\n",
        "data[''].head()  # checking if the changes are applied"
      ],
      "metadata": {
        "id": "8XfUGrPez3g5"
      },
      "execution_count": null,
      "outputs": []
    },
    {
      "cell_type": "markdown",
      "source": [
        "Converting the values of the \"gender\" column"
      ],
      "metadata": {
        "id": "jUi_GEYT0vpR"
      }
    },
    {
      "cell_type": "code",
      "source": [
        "# getting the unique values in the gender column\n",
        "data[\"\"].unique()"
      ],
      "metadata": {
        "id": "Hm1sOpyI1P_y"
      },
      "execution_count": null,
      "outputs": []
    },
    {
      "cell_type": "code",
      "source": [
        "gender = {}\n",
        "data[''] = data[''].map()\n",
        "data[''].head()"
      ],
      "metadata": {
        "id": "I2-oG5t80usq"
      },
      "execution_count": null,
      "outputs": []
    },
    {
      "cell_type": "markdown",
      "source": [
        "Let's check the dataset to see if chanages are applied"
      ],
      "metadata": {
        "id": "ZKAftA5l1q3z"
      }
    },
    {
      "cell_type": "code",
      "source": [
        "data.info()"
      ],
      "metadata": {
        "colab": {
          "base_uri": "https://localhost:8080/"
        },
        "id": "fnfVls8V1mT3",
        "outputId": "1a5b02f4-0061-4ba0-aff6-e24853916456"
      },
      "execution_count": null,
      "outputs": [
        {
          "output_type": "stream",
          "name": "stdout",
          "text": [
            "<class 'pandas.core.frame.DataFrame'>\n",
            "RangeIndex: 400 entries, 0 to 399\n",
            "Data columns (total 5 columns):\n",
            " #   Column           Non-Null Count  Dtype\n",
            "---  ------           --------------  -----\n",
            " 0   UserID           400 non-null    int64\n",
            " 1   Gender           400 non-null    int64\n",
            " 2   Age              400 non-null    int64\n",
            " 3   EstimatedSalary  400 non-null    int64\n",
            " 4   Purchased        400 non-null    int64\n",
            "dtypes: int64(5)\n",
            "memory usage: 15.8 KB\n"
          ]
        }
      ]
    },
    {
      "cell_type": "markdown",
      "source": [
        "### Cleaning the data from the outliers"
      ],
      "metadata": {
        "id": "r-ihPVxjbynW"
      }
    },
    {
      "cell_type": "markdown",
      "source": [
        "Box plots before cleaning the data"
      ],
      "metadata": {
        "id": "H_x8nuqWb1Ro"
      }
    },
    {
      "cell_type": "code",
      "source": [
        "sb.boxplot(x='Purchased', y='Age', data=data)"
      ],
      "metadata": {
        "id": "fIiEtitDbs9v"
      },
      "execution_count": null,
      "outputs": []
    },
    {
      "cell_type": "code",
      "source": [
        "sb.boxplot(x='Purchased', y='EstimatedSalary', data=data)"
      ],
      "metadata": {
        "id": "7I4hCgR_bs_-"
      },
      "execution_count": null,
      "outputs": []
    },
    {
      "cell_type": "markdown",
      "source": [
        "Now, let's clean the data"
      ],
      "metadata": {
        "id": "JqFXdLBmcaWY"
      }
    },
    {
      "cell_type": "code",
      "source": [
        "data = data[((data['Age']<55) & (data['Purchased']==0)) | (data['Purchased']==1)]"
      ],
      "metadata": {
        "id": "On3AcI2obtDO"
      },
      "execution_count": null,
      "outputs": []
    },
    {
      "cell_type": "code",
      "source": [
        "sb.boxplot(x='Purchased', y='Age', data=data)"
      ],
      "metadata": {
        "id": "x2953DqLbtF0"
      },
      "execution_count": null,
      "outputs": []
    },
    {
      "cell_type": "code",
      "source": [
        "data = data[ ((data['EstimatedSalary']<120000) & (data['Purchased']==0)) | (data['Purchased']==1)]"
      ],
      "metadata": {
        "id": "9Fllo6debtIK"
      },
      "execution_count": null,
      "outputs": []
    },
    {
      "cell_type": "code",
      "source": [
        "sb.boxplot(x='Purchased', y='EstimatedSalary', data=data)"
      ],
      "metadata": {
        "id": "WYhP6IzdbtKo"
      },
      "execution_count": null,
      "outputs": []
    },
    {
      "cell_type": "markdown",
      "source": [
        "### Exploring the data\n",
        "\n",
        "Here, we will check the correlation between \"Purchased\" column and the other colunms\n",
        "\n",
        "You can find more info about the heatmap function in Seaborn [here](https://seaborn.pydata.org/generated/seaborn.heatmap.html)."
      ],
      "metadata": {
        "id": "es7Zx-36107N"
      }
    },
    {
      "cell_type": "code",
      "source": [
        "# creating the correlation matrix\n",
        "##  start the code here\n",
        "\n",
        "## End\n",
        "\n",
        "# visualizing the correlation matrix\n",
        "mask = np.triu(np.ones_like(corr_matrix, dtype=bool))  \n",
        "plt.figure(figsize=(12, 6))  # to set the figure size\n",
        "heatmap(corr_matrix, mask=mask, annot=False, lw=0, linecolor='white', cmap='magma', fmt='0.2f')\n",
        "plt.title(\"Correlation Matrix\")  # to add title \n",
        "plt.xticks(rotation=90)\n",
        "plt.yticks(rotation=0)\n",
        "\n",
        "# getting the correlation values with the purchased column\n",
        "## Start the code here\n",
        "\n",
        "## End"
      ],
      "metadata": {
        "colab": {
          "base_uri": "https://localhost:8080/",
          "height": 566
        },
        "id": "IcHm1wM-1vb6",
        "outputId": "a5a4ec7e-cfaa-439f-8707-6dad4d7de468"
      },
      "execution_count": null,
      "outputs": [
        {
          "output_type": "execute_result",
          "data": {
            "text/plain": [
              "Purchased          1.000000\n",
              "Age                0.622454\n",
              "EstimatedSalary    0.362083\n",
              "Gender             0.042469\n",
              "UserID             0.007120\n",
              "Name: Purchased, dtype: float64"
            ]
          },
          "metadata": {},
          "execution_count": 171
        },
        {
          "output_type": "display_data",
          "data": {
            "text/plain": [
              "<Figure size 864x432 with 2 Axes>"
            ],
            "image/png": "[encoded data removed]"
          },
          "metadata": {
            "needs_background": "light"
          }
        }
      ]
    },
    {
      "cell_type": "markdown",
      "source": [
        "### Splitting the train and test data"
      ],
      "metadata": {
        "id": "96W_Q5zv5zjF"
      }
    },
    {
      "cell_type": "code",
      "source": [
        "## Code here\n",
        "\n",
        "## End\n",
        "\n",
        "# splitting the input and the output from the trainining set\n",
        "Y_train = train_data[['Purchased']].copy()\n",
        "\n",
        "# removing the useless features and the output from the dataset\n",
        "X_train = train_data.drop()  # drop \"Purchased\", \"UserID\", and 'Gender'"
      ],
      "metadata": {
        "id": "g6qMz7Dt2VKr"
      },
      "execution_count": null,
      "outputs": []
    },
    {
      "cell_type": "markdown",
      "source": [
        "Let's check the type of the data "
      ],
      "metadata": {
        "id": "iM9OzVtS8P7g"
      }
    },
    {
      "cell_type": "code",
      "source": [
        "print(type(X_train))\n",
        "print(type(Y_train))"
      ],
      "metadata": {
        "colab": {
          "base_uri": "https://localhost:8080/"
        },
        "id": "1rmJ2oX96PTj",
        "outputId": "c5dfc47c-682f-4b55-95f4-bcf15f82b77a"
      },
      "execution_count": null,
      "outputs": [
        {
          "output_type": "stream",
          "name": "stdout",
          "text": [
            "<class 'pandas.core.frame.DataFrame'>\n",
            "<class 'pandas.core.frame.DataFrame'>\n"
          ]
        }
      ]
    },
    {
      "cell_type": "markdown",
      "source": [
        "### data visualization"
      ],
      "metadata": {
        "id": "70OIRrU98qxq"
      }
    },
    {
      "cell_type": "code",
      "source": [
        "# making a function to plot the data\n",
        "def plot_scatter_with_labels(X1, X2, Y, xlabel='Age', ylabel='Estimated Salary'):\n",
        "  df = pd.DataFrame(dict(x1=X1, x2=X2, label=Y))\n",
        "  groups = df.groupby('label')\n",
        "  for number, group in groups:\n",
        "    if number == 0:\n",
        "      name = 'Not Purchased'\n",
        "    elif number == 1:\n",
        "      name = 'Purchased'\n",
        "    plt.plot(group.x1, group.x2, marker='o', linestyle='', ms=3, label=name)\n",
        "\n",
        "  plt.legend()\n",
        "  plt.xlabel(xlabel)\n",
        "  plt.ylabel(ylabel)\n"
      ],
      "metadata": {
        "id": "dI9FqIEN8svv"
      },
      "execution_count": null,
      "outputs": []
    },
    {
      "cell_type": "code",
      "source": [
        "plot_scatter_with_labels(train_data['Age'], train_data['EstimatedSalary'], train_data['Purchased'])"
      ],
      "metadata": {
        "colab": {
          "base_uri": "https://localhost:8080/",
          "height": 279
        },
        "id": "Utmvds0L90ZR",
        "outputId": "09730204-5ac7-488e-d74f-2c53d872ba55"
      },
      "execution_count": null,
      "outputs": [
        {
          "output_type": "display_data",
          "data": {
            "text/plain": [
              "<Figure size 432x288 with 1 Axes>"
            ],
            "image/png": "[encoded data removed]"
          },
          "metadata": {
            "needs_background": "light"
          }
        }
      ]
    },
    {
      "cell_type": "markdown",
      "source": [
        "### Scaling the features\n",
        "\n",
        "We standardize all the data using their mean and standard deviation\n",
        "\n",
        "$$ \\hat{x_i} = \\frac{x_i-\\mu}{\\sigma_i}$$"
      ],
      "metadata": {
        "id": "LZvOJvaK-jyT"
      }
    },
    {
      "cell_type": "code",
      "source": [
        "## Code here\n",
        "\n",
        "\n",
        "## end"
      ],
      "metadata": {
        "colab": {
          "base_uri": "https://localhost:8080/"
        },
        "id": "vKxjRS4O-brY",
        "outputId": "f2e3cf8d-88bb-4b66-9bec-7c2a2bf90d5d"
      },
      "execution_count": null,
      "outputs": [
        {
          "output_type": "stream",
          "name": "stdout",
          "text": [
            "<class 'numpy.ndarray'>\n"
          ]
        }
      ]
    },
    {
      "cell_type": "markdown",
      "source": [
        "### Exploring different machine learning tools"
      ],
      "metadata": {
        "id": "pA3oMFS0_JUe"
      }
    },
    {
      "cell_type": "code",
      "source": [
        "from sklearn.model_selection import cross_val_score\n",
        "# importing the models\n",
        "from sklearn.discriminant_analysis import LinearDiscriminantAnalysis\n",
        "from sklearn.naive_bayes import GaussianNB\n",
        "from sklearn.neighbors import KNeighborsClassifier\n",
        "from sklearn.svm import SVC\n",
        "from sklearn.svm import SVC\n",
        "from sklearn.tree import DecisionTreeClassifier"
      ],
      "metadata": {
        "id": "TDdtW_b6_y4P"
      },
      "execution_count": null,
      "outputs": []
    },
    {
      "cell_type": "markdown",
      "source": [
        "Converting the output to numpy array and changing the shape"
      ],
      "metadata": {
        "id": "WgK0wRHzASOT"
      }
    },
    {
      "cell_type": "code",
      "source": [
        "Y_train = Y_train.to_numpy()\n",
        "Y_train = Y_train.ravel()"
      ],
      "metadata": {
        "id": "MEs7kN_e_fMs"
      },
      "execution_count": null,
      "outputs": []
    },
    {
      "cell_type": "markdown",
      "source": [
        "#### Discriminant Analysis Classifier"
      ],
      "metadata": {
        "id": "6vTO4tEUAcO9"
      }
    },
    {
      "cell_type": "code",
      "source": [
        "da_clf = LinearDiscriminantAnalysis()\n",
        "da_clf.fit(X_train, Y_train)"
      ],
      "metadata": {
        "colab": {
          "base_uri": "https://localhost:8080/"
        },
        "id": "Qfu-JgVd_RWZ",
        "outputId": "00f2eb7c-8762-47e4-d57a-f893ba3f234d"
      },
      "execution_count": null,
      "outputs": [
        {
          "output_type": "execute_result",
          "data": {
            "text/plain": [
              "LinearDiscriminantAnalysis()"
            ]
          },
          "metadata": {},
          "execution_count": 180
        }
      ]
    },
    {
      "cell_type": "code",
      "source": [
        "from sklearn.model_selection import cross_val_score\n",
        "scores = cross_val_score(da_clf, X_train, Y_train, scoring='accuracy', cv=5)  # 5-fold\n",
        "print(scores)\n",
        "print('Averaged prediction accuracy = ', np.average(scores))\n",
        "avg_cv_scores = {}\n",
        "avg_cv_scores['DA'] = np.average(scores)"
      ],
      "metadata": {
        "colab": {
          "base_uri": "https://localhost:8080/"
        },
        "id": "Cswi9cTd_G5s",
        "outputId": "6d2f716b-3d2e-4e1c-9d37-28e88a3eb779"
      },
      "execution_count": null,
      "outputs": [
        {
          "output_type": "stream",
          "name": "stdout",
          "text": [
            "[0.84375  0.8125   0.84375  0.90625  0.828125]\n",
            "Averaged prediction accuracy =  0.846875\n"
          ]
        }
      ]
    },
    {
      "cell_type": "code",
      "source": [
        "def plot_decision_boundary(clf, axes, inverse_transform=False):\n",
        "    x0s = np.linspace(axes[0], axes[1], 100)\n",
        "    x1s = np.linspace(axes[2], axes[3], 100)\n",
        "    x0, x1 = np.meshgrid(x0s, x1s)\n",
        "    X = np.c_[x0.ravel(), x1.ravel()]\n",
        "    y_pred = clf.predict(X).reshape(100, 100)\n",
        "    if inverse_transform:\n",
        "        X = scaler.inverse_transform(np.c_[x0s, x1s])\n",
        "        x0, x1 = np.meshgrid(X[:,0], X[:,1])\n",
        "    plt.contourf(x0, x1, y_pred, cmap=plt.cm.brg, alpha=0.2)\n",
        "\n",
        "def plot_prediction_results(clf, X, Y):\n",
        "    plot_decision_boundary(clf, [-3, 3, -3, 3])\n",
        "    plot_scatter_with_labels(X[:,0], X[:,1], Y, xlabel='Scaled Age', ylabel='Scaled Salary')\n",
        "    \n",
        "plot_prediction_results(da_clf, X_train, Y_train)"
      ],
      "metadata": {
        "colab": {
          "base_uri": "https://localhost:8080/",
          "height": 283
        },
        "id": "xvMDI7MO_TG0",
        "outputId": "ab18e85e-bab3-4e44-eed4-ee1eac599b11"
      },
      "execution_count": null,
      "outputs": [
        {
          "output_type": "display_data",
          "data": {
            "text/plain": [
              "<Figure size 432x288 with 1 Axes>"
            ],
            "image/png": "[encoded data removed]"
          },
          "metadata": {
            "needs_background": "light"
          }
        }
      ]
    },
    {
      "cell_type": "markdown",
      "source": [
        "#### Naive Bayes Classifier"
      ],
      "metadata": {
        "id": "l1TQ632QAig_"
      }
    },
    {
      "cell_type": "code",
      "source": [
        "nb_clf = GaussianNB()\n",
        "nb_clf.fit(X_train, Y_train)\n",
        "scores = cross_val_score(nb_clf, X_train, Y_train, scoring='accuracy', cv=5)\n",
        "print(scores)\n",
        "print('Averaged prediction accuracy = ', np.average(scores))\n",
        "avg_cv_scores['NB'] = np.average(scores)\n",
        "plot_prediction_results(nb_clf, X_train, Y_train)"
      ],
      "metadata": {
        "colab": {
          "base_uri": "https://localhost:8080/",
          "height": 318
        },
        "id": "OH55XNSGAkK9",
        "outputId": "4703b6c1-60f0-4452-f679-62cce3c64d31"
      },
      "execution_count": null,
      "outputs": [
        {
          "output_type": "stream",
          "name": "stdout",
          "text": [
            "[0.890625 0.921875 0.875    0.9375   0.90625 ]\n",
            "Averaged prediction accuracy =  0.90625\n"
          ]
        },
        {
          "output_type": "display_data",
          "data": {
            "text/plain": [
              "<Figure size 432x288 with 1 Axes>"
            ],
            "image/png": "[encoded data removed]"
          },
          "metadata": {
            "needs_background": "light"
          }
        }
      ]
    },
    {
      "cell_type": "markdown",
      "source": [
        "#### K-Nearst Neighbors"
      ],
      "metadata": {
        "id": "mpzc6ngnAq1C"
      }
    },
    {
      "cell_type": "code",
      "source": [
        "knn_clf = KNeighborsClassifier(n_neighbors=5) # change n_neighbors; boundary becomes smoother with increasing value of K\n",
        "knn_clf.fit(X_train, Y_train)\n",
        "scores = cross_val_score(knn_clf, X_train, Y_train, scoring='accuracy', cv=5)\n",
        "print(scores)\n",
        "print('Averaged prediction accuracy = ', np.average(scores))\n",
        "avg_cv_scores['KNN'] = np.average(scores)\n",
        "plot_prediction_results(knn_clf, X_train, Y_train)"
      ],
      "metadata": {
        "colab": {
          "base_uri": "https://localhost:8080/",
          "height": 318
        },
        "id": "UvKZDd4jApj_",
        "outputId": "a7901d81-a8be-4acd-daac-6dbcdd74edc3"
      },
      "execution_count": null,
      "outputs": [
        {
          "output_type": "stream",
          "name": "stdout",
          "text": [
            "[0.890625 0.875    0.890625 0.953125 0.90625 ]\n",
            "Averaged prediction accuracy =  0.903125\n"
          ]
        },
        {
          "output_type": "display_data",
          "data": {
            "text/plain": [
              "<Figure size 432x288 with 1 Axes>"
            ],
            "image/png": "[encoded data removed]"
          },
          "metadata": {
            "needs_background": "light"
          }
        }
      ]
    },
    {
      "cell_type": "markdown",
      "source": [
        "#### Linear SVM"
      ],
      "metadata": {
        "id": "iFMX7hjaAxT2"
      }
    },
    {
      "cell_type": "code",
      "source": [
        "svmln_clf = SVC(kernel='linear')\n",
        "svmln_clf.fit(X_train, Y_train)\n",
        "scores = cross_val_score(svmln_clf, X_train, Y_train, scoring='accuracy', cv=5)\n",
        "print(scores)\n",
        "print('Averaged prediction accuracy = ', np.average(scores))\n",
        "avg_cv_scores['SVM-linear'] = np.average(scores)\n",
        "plot_prediction_results(svmln_clf, X_train, Y_train)"
      ],
      "metadata": {
        "colab": {
          "base_uri": "https://localhost:8080/",
          "height": 318
        },
        "id": "nTr8DZe5Au3l",
        "outputId": "1fb5f9b6-3e77-418d-c908-ffa43a23eceb"
      },
      "execution_count": null,
      "outputs": [
        {
          "output_type": "stream",
          "name": "stdout",
          "text": [
            "[0.84375  0.8125   0.8125   0.921875 0.828125]\n",
            "Averaged prediction accuracy =  0.84375\n"
          ]
        },
        {
          "output_type": "display_data",
          "data": {
            "text/plain": [
              "<Figure size 432x288 with 1 Axes>"
            ],
            "image/png": "[encoded data removed]"
          },
          "metadata": {
            "needs_background": "light"
          }
        }
      ]
    },
    {
      "cell_type": "markdown",
      "source": [
        "#### Nonlinear SVM (Gaussian Kernel)"
      ],
      "metadata": {
        "id": "BVybVbYLA2kX"
      }
    },
    {
      "cell_type": "code",
      "source": [
        "svmrbf_clf = SVC(kernel='rbf')\n",
        "svmrbf_clf.fit(X_train, Y_train)\n",
        "scores = cross_val_score(svmrbf_clf, X_train, Y_train, scoring='accuracy', cv=5)\n",
        "print(scores)\n",
        "print('Averaged prediction accuracy = ', np.average(scores))\n",
        "avg_cv_scores['SVM-nonlinear'] = np.average(scores)\n",
        "plot_prediction_results(svmrbf_clf, X_train, Y_train)"
      ],
      "metadata": {
        "colab": {
          "base_uri": "https://localhost:8080/",
          "height": 318
        },
        "id": "-jUY94U5A0kR",
        "outputId": "4b735c91-7380-4c15-e9c4-e37bebae0850"
      },
      "execution_count": null,
      "outputs": [
        {
          "output_type": "stream",
          "name": "stdout",
          "text": [
            "[0.90625  0.921875 0.90625  0.953125 0.90625 ]\n",
            "Averaged prediction accuracy =  0.91875\n"
          ]
        },
        {
          "output_type": "display_data",
          "data": {
            "text/plain": [
              "<Figure size 432x288 with 1 Axes>"
            ],
            "image/png": "[encoded data removed]"
          },
          "metadata": {
            "needs_background": "light"
          }
        }
      ]
    },
    {
      "cell_type": "markdown",
      "source": [
        "#### Decision Tree"
      ],
      "metadata": {
        "id": "14MgPDS5A7TL"
      }
    },
    {
      "cell_type": "code",
      "source": [
        "tree_clf = DecisionTreeClassifier(max_depth=3) # Play with hyperparameter\n",
        "tree_clf.fit(X_train, Y_train)\n",
        "scores = cross_val_score(tree_clf, X_train, Y_train, scoring='accuracy', cv=5)\n",
        "print(scores)\n",
        "print('Averaged prediction accuracy = ', np.average(scores))\n",
        "avg_cv_scores['Decision Tree'] = np.average(scores)\n",
        "plot_prediction_results(tree_clf, X_train, Y_train)"
      ],
      "metadata": {
        "colab": {
          "base_uri": "https://localhost:8080/",
          "height": 318
        },
        "id": "9X0DorPpA6Lx",
        "outputId": "366315d8-9034-4dcd-80c5-9b7cf00c2ccb"
      },
      "execution_count": null,
      "outputs": [
        {
          "output_type": "stream",
          "name": "stdout",
          "text": [
            "[0.890625 0.90625  0.890625 0.96875  0.921875]\n",
            "Averaged prediction accuracy =  0.915625\n"
          ]
        },
        {
          "output_type": "display_data",
          "data": {
            "text/plain": [
              "<Figure size 432x288 with 1 Axes>"
            ],
            "image/png": "[encoded data removed]"
          },
          "metadata": {
            "needs_background": "light"
          }
        }
      ]
    },
    {
      "cell_type": "code",
      "source": [
        "sorted_scores = sorted(avg_cv_scores.items(), key=lambda X:X[1], reverse=True)\n",
        "sorted_scores"
      ],
      "metadata": {
        "colab": {
          "base_uri": "https://localhost:8080/"
        },
        "id": "SsKtCmdUA-a8",
        "outputId": "5bdab0ee-6f3f-433e-eae5-1caa3c4b4a18"
      },
      "execution_count": null,
      "outputs": [
        {
          "output_type": "execute_result",
          "data": {
            "text/plain": [
              "[('SVM-nonlinear', 0.91875),\n",
              " ('Decision Tree', 0.915625),\n",
              " ('NB', 0.90625),\n",
              " ('KNN', 0.903125),\n",
              " ('DA', 0.846875),\n",
              " ('SVM-linear', 0.84375)]"
            ]
          },
          "metadata": {},
          "execution_count": 188
        }
      ]
    },
    {
      "cell_type": "markdown",
      "source": [
        "#### using the models to predict the testset"
      ],
      "metadata": {
        "id": "fVjv9efuBjkp"
      }
    },
    {
      "cell_type": "code",
      "source": [
        "X_test = scaler.transform(test_data[['Age', 'EstimatedSalary']])\n",
        "# X_test = X_test.to_numpy()"
      ],
      "metadata": {
        "id": "XVKh-aVYBN2m"
      },
      "execution_count": null,
      "outputs": []
    },
    {
      "cell_type": "code",
      "source": [
        "Y_test = test_data['Purchased']"
      ],
      "metadata": {
        "id": "vgpUFyeyFNJ6"
      },
      "execution_count": null,
      "outputs": []
    },
    {
      "cell_type": "markdown",
      "source": [
        "Using the trained models to do prediction on the test set"
      ],
      "metadata": {
        "id": "PMLHvYDqHi_G"
      }
    },
    {
      "cell_type": "code",
      "source": [
        "test_pred_score = {}"
      ],
      "metadata": {
        "id": "kiBUHcvIHzh1"
      },
      "execution_count": null,
      "outputs": []
    },
    {
      "cell_type": "code",
      "source": [
        "# Discriminant Analysis Classifier\n",
        "Y_test_pred_da = da_clf.predict(X_test)\n",
        "test_pred_score['DA'] = accuracy_score(Y_test, Y_test_pred_da)\n",
        "\n",
        "# Naive Bayes Classifier\n",
        "Y_test_pred_nb = nb_clf.predict(X_test)\n",
        "test_pred_score['NB'] = accuracy_score(Y_test, Y_test_pred_nb)\n",
        "\n",
        "# K-Nearst Neighbors\n",
        "Y_test_pred_knn = knn_clf.predict(X_test)\n",
        "test_pred_score['KNN'] = accuracy_score(Y_test, Y_test_pred_knn)\n",
        "\n",
        "# Linear SVM\n",
        "Y_test_pred_svmln = svmln_clf.predict(X_test)\n",
        "test_pred_score['SVM_Linear'] = accuracy_score(Y_test, Y_test_pred_svmln)\n",
        "\n",
        "# Nonlinear SVM (Gaussian Kernel)\n",
        "Y_test_pred_svmrbf = svmrbf_clf.predict(X_test)\n",
        "test_pred_score['SVM_nonlinear'] = accuracy_score(Y_test, Y_test_pred_svmrbf)\n",
        "\n",
        "# Decision Tree\n",
        "Y_test_pred_tree_clf = tree_clf.predict(X_test)\n",
        "test_pred_score['Decision Tree'] = accuracy_score(Y_test, Y_test_pred_tree_clf)"
      ],
      "metadata": {
        "id": "TSQXGpWkHnnY"
      },
      "execution_count": null,
      "outputs": []
    },
    {
      "cell_type": "code",
      "source": [
        "sorted_scores = sorted(test_pred_score.items(), key=lambda X:X[1], reverse=True)\n",
        "sorted_scores"
      ],
      "metadata": {
        "colab": {
          "base_uri": "https://localhost:8080/"
        },
        "id": "29LRZ44DHnsc",
        "outputId": "8d993de5-b344-47ed-d891-db83e6349b4f"
      },
      "execution_count": null,
      "outputs": [
        {
          "output_type": "execute_result",
          "data": {
            "text/plain": [
              "[('SVM_nonlinear', 0.875),\n",
              " ('NB', 0.8625),\n",
              " ('KNN', 0.8625),\n",
              " ('Decision Tree', 0.85),\n",
              " ('SVM_Linear', 0.8375),\n",
              " ('DA', 0.825)]"
            ]
          },
          "metadata": {},
          "execution_count": 239
        }
      ]
    }
  ]
}
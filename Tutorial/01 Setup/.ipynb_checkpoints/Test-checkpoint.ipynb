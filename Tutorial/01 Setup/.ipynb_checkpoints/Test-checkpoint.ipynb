{
 "cells": [
  {
   "cell_type": "markdown",
   "id": "1de94c50",
   "metadata": {},
   "source": [
    "# Practice\n",
    "## Step 1. Import Libraries"
   ]
  },
  {
   "cell_type": "code",
   "execution_count": 2,
   "id": "5ead10bb",
   "metadata": {},
   "outputs": [],
   "source": [
    "import numpy as np\n",
    "import pandas as pd\n",
    "import matplotlib.pyplot as plt"
   ]
  },
  {
   "cell_type": "markdown",
   "id": "dd479ef6",
   "metadata": {},
   "source": [
    "### Step 2. Create Some Data"
   ]
  },
  {
   "cell_type": "code",
   "execution_count": 6,
   "id": "dbb88d18",
   "metadata": {},
   "outputs": [],
   "source": [
    "X = np.random.rand(50)\n",
    "Y = np.random.rand(50)"
   ]
  },
  {
   "cell_type": "markdown",
   "id": "8f6af6be",
   "metadata": {},
   "source": [
    "### Checking the Data"
   ]
  },
  {
   "cell_type": "code",
   "execution_count": 7,
   "id": "e5b3499c",
   "metadata": {},
   "outputs": [
    {
     "data": {
      "text/plain": [
       "array([0.12792181, 0.44537472, 0.8778358 , 0.23220011, 0.92120156,\n",
       "       0.62839821, 0.4132792 , 0.69835112, 0.11828059, 0.76894895,\n",
       "       0.74217698, 0.15536509, 0.72303614, 0.93576637, 0.68384616,\n",
       "       0.24051124, 0.73153673, 0.60512399, 0.52343667, 0.74097526,\n",
       "       0.93564085, 0.37827265, 0.72853283, 0.61667452, 0.2005147 ,\n",
       "       0.47546201, 0.50167901, 0.26700625, 0.44396472, 0.36640244,\n",
       "       0.68527667, 0.43576923, 0.7677774 , 0.44476331, 0.34044979,\n",
       "       0.93257434, 0.39130473, 0.02607465, 0.52577718, 0.94396268,\n",
       "       0.55619538, 0.88228308, 0.81266247, 0.34172662, 0.70629682,\n",
       "       0.95959479, 0.86694476, 0.79373076, 0.98729312, 0.0781948 ])"
      ]
     },
     "execution_count": 7,
     "metadata": {},
     "output_type": "execute_result"
    }
   ],
   "source": [
    "X"
   ]
  },
  {
   "cell_type": "code",
   "execution_count": 8,
   "id": "1cb3a6a1",
   "metadata": {},
   "outputs": [
    {
     "data": {
      "text/plain": [
       "50"
      ]
     },
     "execution_count": 8,
     "metadata": {},
     "output_type": "execute_result"
    }
   ],
   "source": [
    "len(X)"
   ]
  },
  {
   "cell_type": "code",
   "execution_count": 10,
   "id": "d1b7284a",
   "metadata": {},
   "outputs": [
    {
     "data": {
      "text/html": [
       "<div>\n",
       "<style scoped>\n",
       "    .dataframe tbody tr th:only-of-type {\n",
       "        vertical-align: middle;\n",
       "    }\n",
       "\n",
       "    .dataframe tbody tr th {\n",
       "        vertical-align: top;\n",
       "    }\n",
       "\n",
       "    .dataframe thead th {\n",
       "        text-align: right;\n",
       "    }\n",
       "</style>\n",
       "<table border=\"1\" class=\"dataframe\">\n",
       "  <thead>\n",
       "    <tr style=\"text-align: right;\">\n",
       "      <th></th>\n",
       "      <th>0</th>\n",
       "    </tr>\n",
       "  </thead>\n",
       "  <tbody>\n",
       "    <tr>\n",
       "      <th>0.791315</th>\n",
       "      <td>0.127922</td>\n",
       "    </tr>\n",
       "    <tr>\n",
       "      <th>0.375906</th>\n",
       "      <td>0.445375</td>\n",
       "    </tr>\n",
       "    <tr>\n",
       "      <th>0.601683</th>\n",
       "      <td>0.877836</td>\n",
       "    </tr>\n",
       "    <tr>\n",
       "      <th>0.859629</th>\n",
       "      <td>0.232200</td>\n",
       "    </tr>\n",
       "    <tr>\n",
       "      <th>0.111053</th>\n",
       "      <td>0.921202</td>\n",
       "    </tr>\n",
       "    <tr>\n",
       "      <th>0.481359</th>\n",
       "      <td>0.628398</td>\n",
       "    </tr>\n",
       "    <tr>\n",
       "      <th>0.743886</th>\n",
       "      <td>0.413279</td>\n",
       "    </tr>\n",
       "    <tr>\n",
       "      <th>0.414939</th>\n",
       "      <td>0.698351</td>\n",
       "    </tr>\n",
       "    <tr>\n",
       "      <th>0.454412</th>\n",
       "      <td>0.118281</td>\n",
       "    </tr>\n",
       "    <tr>\n",
       "      <th>0.108731</th>\n",
       "      <td>0.768949</td>\n",
       "    </tr>\n",
       "    <tr>\n",
       "      <th>0.512433</th>\n",
       "      <td>0.742177</td>\n",
       "    </tr>\n",
       "    <tr>\n",
       "      <th>0.744879</th>\n",
       "      <td>0.155365</td>\n",
       "    </tr>\n",
       "    <tr>\n",
       "      <th>0.143594</th>\n",
       "      <td>0.723036</td>\n",
       "    </tr>\n",
       "    <tr>\n",
       "      <th>0.052836</th>\n",
       "      <td>0.935766</td>\n",
       "    </tr>\n",
       "    <tr>\n",
       "      <th>0.072167</th>\n",
       "      <td>0.683846</td>\n",
       "    </tr>\n",
       "    <tr>\n",
       "      <th>0.146637</th>\n",
       "      <td>0.240511</td>\n",
       "    </tr>\n",
       "    <tr>\n",
       "      <th>0.090656</th>\n",
       "      <td>0.731537</td>\n",
       "    </tr>\n",
       "    <tr>\n",
       "      <th>0.846335</th>\n",
       "      <td>0.605124</td>\n",
       "    </tr>\n",
       "    <tr>\n",
       "      <th>0.621025</th>\n",
       "      <td>0.523437</td>\n",
       "    </tr>\n",
       "    <tr>\n",
       "      <th>0.223929</th>\n",
       "      <td>0.740975</td>\n",
       "    </tr>\n",
       "    <tr>\n",
       "      <th>0.099515</th>\n",
       "      <td>0.935641</td>\n",
       "    </tr>\n",
       "    <tr>\n",
       "      <th>0.445426</th>\n",
       "      <td>0.378273</td>\n",
       "    </tr>\n",
       "    <tr>\n",
       "      <th>0.149785</th>\n",
       "      <td>0.728533</td>\n",
       "    </tr>\n",
       "    <tr>\n",
       "      <th>0.475239</th>\n",
       "      <td>0.616675</td>\n",
       "    </tr>\n",
       "    <tr>\n",
       "      <th>0.459834</th>\n",
       "      <td>0.200515</td>\n",
       "    </tr>\n",
       "    <tr>\n",
       "      <th>0.338669</th>\n",
       "      <td>0.475462</td>\n",
       "    </tr>\n",
       "    <tr>\n",
       "      <th>0.137629</th>\n",
       "      <td>0.501679</td>\n",
       "    </tr>\n",
       "    <tr>\n",
       "      <th>0.507299</th>\n",
       "      <td>0.267006</td>\n",
       "    </tr>\n",
       "    <tr>\n",
       "      <th>0.096147</th>\n",
       "      <td>0.443965</td>\n",
       "    </tr>\n",
       "    <tr>\n",
       "      <th>0.527319</th>\n",
       "      <td>0.366402</td>\n",
       "    </tr>\n",
       "    <tr>\n",
       "      <th>0.811937</th>\n",
       "      <td>0.685277</td>\n",
       "    </tr>\n",
       "    <tr>\n",
       "      <th>0.770130</th>\n",
       "      <td>0.435769</td>\n",
       "    </tr>\n",
       "    <tr>\n",
       "      <th>0.357016</th>\n",
       "      <td>0.767777</td>\n",
       "    </tr>\n",
       "    <tr>\n",
       "      <th>0.461326</th>\n",
       "      <td>0.444763</td>\n",
       "    </tr>\n",
       "    <tr>\n",
       "      <th>0.812430</th>\n",
       "      <td>0.340450</td>\n",
       "    </tr>\n",
       "    <tr>\n",
       "      <th>0.884793</th>\n",
       "      <td>0.932574</td>\n",
       "    </tr>\n",
       "    <tr>\n",
       "      <th>0.007209</th>\n",
       "      <td>0.391305</td>\n",
       "    </tr>\n",
       "    <tr>\n",
       "      <th>0.094529</th>\n",
       "      <td>0.026075</td>\n",
       "    </tr>\n",
       "    <tr>\n",
       "      <th>0.353690</th>\n",
       "      <td>0.525777</td>\n",
       "    </tr>\n",
       "    <tr>\n",
       "      <th>0.336418</th>\n",
       "      <td>0.943963</td>\n",
       "    </tr>\n",
       "    <tr>\n",
       "      <th>0.579902</th>\n",
       "      <td>0.556195</td>\n",
       "    </tr>\n",
       "    <tr>\n",
       "      <th>0.764847</th>\n",
       "      <td>0.882283</td>\n",
       "    </tr>\n",
       "    <tr>\n",
       "      <th>0.871531</th>\n",
       "      <td>0.812662</td>\n",
       "    </tr>\n",
       "    <tr>\n",
       "      <th>0.270180</th>\n",
       "      <td>0.341727</td>\n",
       "    </tr>\n",
       "    <tr>\n",
       "      <th>0.139919</th>\n",
       "      <td>0.706297</td>\n",
       "    </tr>\n",
       "    <tr>\n",
       "      <th>0.187725</th>\n",
       "      <td>0.959595</td>\n",
       "    </tr>\n",
       "    <tr>\n",
       "      <th>0.608981</th>\n",
       "      <td>0.866945</td>\n",
       "    </tr>\n",
       "    <tr>\n",
       "      <th>0.437861</th>\n",
       "      <td>0.793731</td>\n",
       "    </tr>\n",
       "    <tr>\n",
       "      <th>0.307150</th>\n",
       "      <td>0.987293</td>\n",
       "    </tr>\n",
       "    <tr>\n",
       "      <th>0.396425</th>\n",
       "      <td>0.078195</td>\n",
       "    </tr>\n",
       "  </tbody>\n",
       "</table>\n",
       "</div>"
      ],
      "text/plain": [
       "                 0\n",
       "0.791315  0.127922\n",
       "0.375906  0.445375\n",
       "0.601683  0.877836\n",
       "0.859629  0.232200\n",
       "0.111053  0.921202\n",
       "0.481359  0.628398\n",
       "0.743886  0.413279\n",
       "0.414939  0.698351\n",
       "0.454412  0.118281\n",
       "0.108731  0.768949\n",
       "0.512433  0.742177\n",
       "0.744879  0.155365\n",
       "0.143594  0.723036\n",
       "0.052836  0.935766\n",
       "0.072167  0.683846\n",
       "0.146637  0.240511\n",
       "0.090656  0.731537\n",
       "0.846335  0.605124\n",
       "0.621025  0.523437\n",
       "0.223929  0.740975\n",
       "0.099515  0.935641\n",
       "0.445426  0.378273\n",
       "0.149785  0.728533\n",
       "0.475239  0.616675\n",
       "0.459834  0.200515\n",
       "0.338669  0.475462\n",
       "0.137629  0.501679\n",
       "0.507299  0.267006\n",
       "0.096147  0.443965\n",
       "0.527319  0.366402\n",
       "0.811937  0.685277\n",
       "0.770130  0.435769\n",
       "0.357016  0.767777\n",
       "0.461326  0.444763\n",
       "0.812430  0.340450\n",
       "0.884793  0.932574\n",
       "0.007209  0.391305\n",
       "0.094529  0.026075\n",
       "0.353690  0.525777\n",
       "0.336418  0.943963\n",
       "0.579902  0.556195\n",
       "0.764847  0.882283\n",
       "0.871531  0.812662\n",
       "0.270180  0.341727\n",
       "0.139919  0.706297\n",
       "0.187725  0.959595\n",
       "0.608981  0.866945\n",
       "0.437861  0.793731\n",
       "0.307150  0.987293\n",
       "0.396425  0.078195"
      ]
     },
     "execution_count": 10,
     "metadata": {},
     "output_type": "execute_result"
    }
   ],
   "source": [
    "pd.DataFrame(X, Y)"
   ]
  },
  {
   "cell_type": "markdown",
   "id": "5dde6572",
   "metadata": {},
   "source": [
    "## Visualizing the Data"
   ]
  },
  {
   "cell_type": "code",
   "execution_count": 11,
   "id": "c8eee10c",
   "metadata": {
    "scrolled": true
   },
   "outputs": [
    {
     "data": {
      "text/plain": [
       "[<matplotlib.lines.Line2D at 0x169964ba5b0>]"
      ]
     },
     "execution_count": 11,
     "metadata": {},
     "output_type": "execute_result"
    },
    {
     "data": {
      "image/png": "[encoded data removed]",
      "text/plain": [
       "<Figure size 432x288 with 1 Axes>"
      ]
     },
     "metadata": {
      "needs_background": "light"
     },
     "output_type": "display_data"
    }
   ],
   "source": [
    "plt.plot(X, Y)"
   ]
  },
  {
   "cell_type": "markdown",
   "id": "d1c9e35d",
   "metadata": {},
   "source": [
    "<font color = 'red'> this is red font"
   ]
  },
  {
   "cell_type": "markdown",
   "id": "6c23a368",
   "metadata": {},
   "source": [
    "##### here we create a scatter"
   ]
  },
  {
   "cell_type": "code",
   "execution_count": 12,
   "id": "67b30799",
   "metadata": {
    "scrolled": false
   },
   "outputs": [
    {
     "data": {
      "text/plain": [
       "<matplotlib.collections.PathCollection at 0x16996c4de20>"
      ]
     },
     "execution_count": 12,
     "metadata": {},
     "output_type": "execute_result"
    },
    {
     "data": {
      "image/png": "[encoded data removed]",
      "text/plain": [
       "<Figure size 432x288 with 1 Axes>"
      ]
     },
     "metadata": {
      "needs_background": "light"
     },
     "output_type": "display_data"
    }
   ],
   "source": [
    "plt.scatter(X,Y)"
   ]
  },
  {
   "cell_type": "markdown",
   "id": "6cfd5285",
   "metadata": {},
   "source": [
    "https://stackoverflow.com/questions/55078484/open-jupyter-notebook-from-a-drive-other-than-c-drive"
   ]
  },
  {
   "cell_type": "code",
   "execution_count": null,
   "id": "03a5481c",
   "metadata": {},
   "outputs": [],
   "source": []
  }
 ],
 "metadata": {
  "kernelspec": {
   "display_name": "Python 3 (ipykernel)",
   "language": "python",
   "name": "python3"
  },
  "language_info": {
   "codemirror_mode": {
    "name": "ipython",
    "version": 3
   },
   "file_extension": ".py",
   "mimetype": "text/x-python",
   "name": "python",
   "nbconvert_exporter": "python",
   "pygments_lexer": "ipython3",
   "version": "3.9.7"
  },
  "toc": {
   "base_numbering": 1,
   "nav_menu": {},
   "number_sections": true,
   "sideBar": true,
   "skip_h1_title": false,
   "title_cell": "Table of Contents",
   "title_sidebar": "Contents",
   "toc_cell": false,
   "toc_position": {
    "height": "calc(100% - 180px)",
    "left": "10px",
    "top": "150px",
    "width": "183.2px"
   },
   "toc_section_display": true,
   "toc_window_display": true
  }
 },
 "nbformat": 4,
 "nbformat_minor": 5
}

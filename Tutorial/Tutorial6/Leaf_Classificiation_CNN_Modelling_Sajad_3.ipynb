{
  "cells": [
    {
      "cell_type": "markdown",
      "metadata": {
        "id": "3DR-eO17geWu"
      },
      "source": [
        "\n",
        "<font size=\"7\">__Leaf Identification Model__</font>\n"
      ]
    },
    {
      "cell_type": "markdown",
      "metadata": {
        "id": "yJ1K3EOeN_jC"
      },
      "source": [
        "## Project Description\n",
        "<img src='Leaves.jpg' width=800 height=600/></a>\n",
        "In this Machine Learning project, there are six sets of totally different images. All sets have 100 images each of Cherry Blossom, Gingko, Japanese Maple, Red Oak, Silver Birch and Sweet Gum leaves. All these images are in the Folder, /Images.\n",
        "\n",
        "A model was built such that it is capable of recognizing an unknown leaf and distinguish it accurately.<br>\n",
        "\n",
        "There is also a Test_Set, containing six Folders each containing images of differenr type of leaves. So, model accuracy can be evaluated with this test_set. Later, model will be used to predict if a single unknown image is of what specie of leaf.<br>\n",
        "\n",
        "\n",
        "In this exercise our objective is to perform the following tasks:\n",
        "\n",
        "1. Import the set of images\n",
        "2. Building an appropriate CNN model\n",
        "3. Training the CNN model\n",
        "4. Making Prediction off the trained model\n",
        "7. Checking Accuracy of Model"
      ]
    },
    {
      "cell_type": "markdown",
      "metadata": {
        "id": "EMefrVPCg-60"
      },
      "source": [
        "## Importing the Libraries"
      ]
    },
    {
      "cell_type": "code",
      "execution_count": 1,
      "metadata": {
        "colab": {
          "base_uri": "https://localhost:8080/"
        },
        "id": "7yrtJfuQPceY",
        "outputId": "f6886a36-5a3b-4683-9287-6ce28d544dca"
      },
      "outputs": [
        {
          "ename": "ModuleNotFoundError",
          "evalue": "No module named 'google.colab'",
          "output_type": "error",
          "traceback": [
            "\u001b[1;31m---------------------------------------------------------------------------\u001b[0m",
            "\u001b[1;31mModuleNotFoundError\u001b[0m                       Traceback (most recent call last)",
            "\u001b[1;32md:\\Documents\\UBC\\MANU 465\\MANU-465\\Tutorial\\Tutorial6\\Leaf_Classificiation_CNN_Modelling_Sajad_3.ipynb Cell 4\u001b[0m in \u001b[0;36m<module>\u001b[1;34m\u001b[0m\n\u001b[1;32m----> <a href='vscode-notebook-cell:/d%3A/Documents/UBC/MANU%20465/MANU-465/Tutorial/Tutorial6/Leaf_Classificiation_CNN_Modelling_Sajad_3.ipynb#W3sZmlsZQ%3D%3D?line=0'>1</a>\u001b[0m \u001b[39mfrom\u001b[39;00m \u001b[39mgoogle\u001b[39;00m\u001b[39m.\u001b[39;00m\u001b[39mcolab\u001b[39;00m \u001b[39mimport\u001b[39;00m drive\n\u001b[0;32m      <a href='vscode-notebook-cell:/d%3A/Documents/UBC/MANU%20465/MANU-465/Tutorial/Tutorial6/Leaf_Classificiation_CNN_Modelling_Sajad_3.ipynb#W3sZmlsZQ%3D%3D?line=1'>2</a>\u001b[0m drive\u001b[39m.\u001b[39mmount(\u001b[39m'\u001b[39m\u001b[39m/content/gdrive\u001b[39m\u001b[39m'\u001b[39m)\n",
            "\u001b[1;31mModuleNotFoundError\u001b[0m: No module named 'google.colab'"
          ]
        }
      ],
      "source": [
        "from google.colab import drive\n",
        "drive.mount('/content/gdrive')"
      ]
    },
    {
      "cell_type": "code",
      "execution_count": null,
      "metadata": {
        "id": "sCV30xyVhFbE"
      },
      "outputs": [],
      "source": [
        "import tensorflow as tf\n",
        "from keras.preprocessing.image import ImageDataGenerator"
      ]
    },
    {
      "cell_type": "markdown",
      "metadata": {
        "id": "oxQxCBWyoGPE"
      },
      "source": [
        "## Data Preprocessing"
      ]
    },
    {
      "cell_type": "markdown",
      "metadata": {
        "id": "MvE-heJNo3GG"
      },
      "source": [
        "### Preprocessing the Training Set"
      ]
    },
    {
      "cell_type": "code",
      "execution_count": null,
      "metadata": {
        "colab": {
          "base_uri": "https://localhost:8080/"
        },
        "id": "0koUcJMJpEBD",
        "outputId": "d039c61a-874f-4d67-b2e1-37cf3b2e5bf0"
      },
      "outputs": [
        {
          "name": "stdout",
          "output_type": "stream",
          "text": [
            "Found 420 images belonging to 6 classes.\n"
          ]
        }
      ],
      "source": [
        "train_datagen = ImageDataGenerator(rescale = 1./255,\n",
        "                                   shear_range = 0.2,\n",
        "                                   zoom_range = 0.2,\n",
        "                                   horizontal_flip = True)\n",
        "training_set = train_datagen.flow_from_directory('/content/gdrive/MyDrive/Colab Notebooks/Leaves/Images/Train',\n",
        "                                                 target_size = (64, 64),\n",
        "                                                 batch_size = 32,\n",
        "                                                 class_mode = 'categorical')"
      ]
    },
    {
      "cell_type": "markdown",
      "metadata": {
        "id": "mrCMmGw9pHys"
      },
      "source": [
        "### Preprocessing the Test Set"
      ]
    },
    {
      "cell_type": "code",
      "execution_count": null,
      "metadata": {
        "colab": {
          "base_uri": "https://localhost:8080/"
        },
        "id": "SH4WzfOhpKc3",
        "outputId": "b231d5dd-d909-495a-c904-6c0fb324df06"
      },
      "outputs": [
        {
          "name": "stdout",
          "output_type": "stream",
          "text": [
            "Found 190 images belonging to 6 classes.\n"
          ]
        }
      ],
      "source": [
        "test_datagen = ImageDataGenerator(rescale = 1./255)\n",
        "test_set = test_datagen.flow_from_directory('/content/gdrive/MyDrive/Colab Notebooks/Leaves/Images/Test',\n",
        "                                            target_size = (64, 64),\n",
        "                                            batch_size = 32,\n",
        "                                            class_mode = 'categorical')"
      ]
    },
    {
      "cell_type": "markdown",
      "metadata": {
        "id": "af8O4l90gk7B"
      },
      "source": [
        "## Building the CNN Model"
      ]
    },
    {
      "cell_type": "markdown",
      "metadata": {
        "id": "ces1gXY2lmoX"
      },
      "source": [
        "### Step 1 - Initialising the Model"
      ]
    },
    {
      "cell_type": "code",
      "execution_count": null,
      "metadata": {
        "id": "SAUt4UMPlhLS"
      },
      "outputs": [],
      "source": [
        "Model = tf.keras.models.Sequential()"
      ]
    },
    {
      "cell_type": "markdown",
      "metadata": {
        "id": "u5YJj_XMl5LF"
      },
      "source": [
        "### Step 2 - Adding First Convolution Layer \n",
        "The number of filters directly affects the accuracy level of the model, increasing it will increase the accuracy."
      ]
    },
    {
      "cell_type": "code",
      "execution_count": null,
      "metadata": {
        "id": "XPzPrMckl-hV"
      },
      "outputs": [],
      "source": [
        "Model.add(tf.keras.layers.Conv2D(filters=10, kernel_size=5, activation='relu', input_shape=[64, 64, 3]))"
      ]
    },
    {
      "cell_type": "markdown",
      "metadata": {
        "id": "tf87FpvxmNOJ"
      },
      "source": [
        "### Step 3 - Pooling the First Layer"
      ]
    },
    {
      "cell_type": "code",
      "execution_count": null,
      "metadata": {
        "id": "ncpqPl69mOac"
      },
      "outputs": [],
      "source": [
        "Model.add(tf.keras.layers.MaxPool2D(pool_size=4, strides=2))"
      ]
    },
    {
      "cell_type": "markdown",
      "metadata": {
        "id": "xaTOgD8rm4mU"
      },
      "source": [
        "### Step 4 - Adding a Second Convolutional Layer"
      ]
    },
    {
      "cell_type": "code",
      "execution_count": null,
      "metadata": {
        "id": "i_-FZjn_m8gk"
      },
      "outputs": [],
      "source": [
        "Model.add(tf.keras.layers.Conv2D(filters=10, kernel_size=5, activation='relu'))"
      ]
    },
    {
      "cell_type": "markdown",
      "metadata": {
        "id": "FB_oQQ73N_jS"
      },
      "source": [
        "### Step 5 - Pooling the Second Layer"
      ]
    },
    {
      "cell_type": "code",
      "execution_count": null,
      "metadata": {
        "id": "dx8E_g1LN_jS"
      },
      "outputs": [],
      "source": [
        "Model.add(tf.keras.layers.MaxPool2D(pool_size=4, strides=2))"
      ]
    },
    {
      "cell_type": "markdown",
      "metadata": {
        "id": "tmiEuvTunKfk"
      },
      "source": [
        "### Step 6 - Flattening"
      ]
    },
    {
      "cell_type": "code",
      "execution_count": null,
      "metadata": {
        "id": "6AZeOGCvnNZn"
      },
      "outputs": [],
      "source": [
        "Model.add(tf.keras.layers.Flatten())"
      ]
    },
    {
      "cell_type": "markdown",
      "metadata": {
        "id": "dAoSECOm203v"
      },
      "source": [
        "### Step 7 - Full Connection"
      ]
    },
    {
      "cell_type": "code",
      "execution_count": null,
      "metadata": {
        "id": "8GtmUlLd26Nq"
      },
      "outputs": [],
      "source": [
        "Model.add(tf.keras.layers.Dense(units=128, activation='relu'))"
      ]
    },
    {
      "cell_type": "markdown",
      "metadata": {
        "id": "yTldFvbX28Na"
      },
      "source": [
        "### Step 8 - Output Layer\n",
        "For classes greater than two, a softmax activation function is used"
      ]
    },
    {
      "cell_type": "code",
      "execution_count": null,
      "metadata": {
        "id": "OfXDavH2N_jU"
      },
      "outputs": [],
      "source": [
        "Model.add(tf.keras.layers.Dense(units=6, activation='softmax')) # units = number of classes"
      ]
    },
    {
      "cell_type": "markdown",
      "metadata": {
        "id": "vfrFQACEnc6i"
      },
      "source": [
        "### Step 9 - Compiling the CNN\n",
        "In case of N-classes, categorical crossentropy method is used, with nadam optimizer"
      ]
    },
    {
      "cell_type": "code",
      "execution_count": null,
      "metadata": {
        "id": "fm8vuAXDN_jU"
      },
      "outputs": [],
      "source": [
        "Model.compile(loss='categorical_crossentropy', optimizer='nadam',metrics=['accuracy'])"
      ]
    },
    {
      "cell_type": "markdown",
      "metadata": {
        "id": "D6XkI90snSDl"
      },
      "source": [
        "## Training the CNN and Evaluation"
      ]
    },
    {
      "cell_type": "code",
      "execution_count": null,
      "metadata": {
        "colab": {
          "background_save": true,
          "base_uri": "https://localhost:8080/"
        },
        "id": "XUj1W4PJptta",
        "outputId": "ae0285fa-0f2d-4ca5-dab3-743efa237d78",
        "scrolled": true
      },
      "outputs": [
        {
          "name": "stdout",
          "output_type": "stream",
          "text": [
            "Epoch 1/25\n",
            "14/14 [==============================] - 351s 25s/step - loss: 1.7234 - accuracy: 0.2690 - val_loss: 1.6037 - val_accuracy: 0.4842\n",
            "Epoch 2/25\n",
            "14/14 [==============================] - 196s 14s/step - loss: 1.3679 - accuracy: 0.4714 - val_loss: 1.2855 - val_accuracy: 0.5158\n",
            "Epoch 3/25\n",
            "14/14 [==============================] - 193s 14s/step - loss: 0.9706 - accuracy: 0.6524 - val_loss: 2.7800 - val_accuracy: 0.1737\n",
            "Epoch 4/25\n",
            "14/14 [==============================] - 193s 14s/step - loss: 0.9599 - accuracy: 0.6833 - val_loss: 0.8053 - val_accuracy: 0.7684\n",
            "Epoch 5/25\n",
            "14/14 [==============================] - 196s 15s/step - loss: 0.5919 - accuracy: 0.7929 - val_loss: 1.1313 - val_accuracy: 0.5737\n",
            "Epoch 6/25\n",
            "14/14 [==============================] - 194s 14s/step - loss: 0.4893 - accuracy: 0.8381 - val_loss: 0.6298 - val_accuracy: 0.8158\n",
            "Epoch 7/25\n",
            "14/14 [==============================] - 192s 14s/step - loss: 0.4335 - accuracy: 0.8571 - val_loss: 0.5415 - val_accuracy: 0.8579\n",
            "Epoch 8/25\n",
            "14/14 [==============================] - 199s 14s/step - loss: 0.4554 - accuracy: 0.8476 - val_loss: 0.5092 - val_accuracy: 0.8737\n",
            "Epoch 9/25\n",
            "14/14 [==============================] - 196s 14s/step - loss: 0.3940 - accuracy: 0.8786 - val_loss: 0.4886 - val_accuracy: 0.8684\n",
            "Epoch 10/25\n",
            "14/14 [==============================] - 195s 14s/step - loss: 0.2675 - accuracy: 0.9119 - val_loss: 0.4752 - val_accuracy: 0.8632\n",
            "Epoch 11/25\n",
            "14/14 [==============================] - 199s 15s/step - loss: 0.2605 - accuracy: 0.9048 - val_loss: 0.3942 - val_accuracy: 0.8789\n",
            "Epoch 12/25\n",
            "14/14 [==============================] - 197s 14s/step - loss: 0.1969 - accuracy: 0.9548 - val_loss: 0.3501 - val_accuracy: 0.8895\n",
            "Epoch 13/25\n",
            "14/14 [==============================] - 193s 14s/step - loss: 0.3999 - accuracy: 0.9048 - val_loss: 0.8776 - val_accuracy: 0.7579\n",
            "Epoch 14/25\n",
            "14/14 [==============================] - 198s 14s/step - loss: 0.2486 - accuracy: 0.9286 - val_loss: 0.2755 - val_accuracy: 0.9368\n",
            "Epoch 15/25\n",
            "14/14 [==============================] - 195s 14s/step - loss: 0.1699 - accuracy: 0.9595 - val_loss: 0.2789 - val_accuracy: 0.9368\n",
            "Epoch 16/25\n",
            "14/14 [==============================] - 193s 14s/step - loss: 0.1435 - accuracy: 0.9690 - val_loss: 0.2781 - val_accuracy: 0.9263\n",
            "Epoch 17/25\n",
            "14/14 [==============================] - 199s 15s/step - loss: 0.1146 - accuracy: 0.9762 - val_loss: 0.1860 - val_accuracy: 0.9421\n",
            "Epoch 18/25\n",
            "14/14 [==============================] - 198s 14s/step - loss: 0.2604 - accuracy: 0.9071 - val_loss: 0.1820 - val_accuracy: 0.9579\n",
            "Epoch 19/25\n",
            "14/14 [==============================] - 193s 14s/step - loss: 0.1108 - accuracy: 0.9714 - val_loss: 0.1529 - val_accuracy: 0.9684\n",
            "Epoch 20/25\n",
            "14/14 [==============================] - 199s 14s/step - loss: 0.0819 - accuracy: 0.9786 - val_loss: 0.1981 - val_accuracy: 0.9263\n",
            "Epoch 21/25\n",
            "14/14 [==============================] - 195s 14s/step - loss: 0.0758 - accuracy: 0.9833 - val_loss: 0.2579 - val_accuracy: 0.9211\n",
            "Epoch 22/25\n",
            "14/14 [==============================] - 194s 14s/step - loss: 0.0771 - accuracy: 0.9810 - val_loss: 0.2325 - val_accuracy: 0.9474\n",
            "Epoch 23/25\n",
            "14/14 [==============================] - 198s 14s/step - loss: 0.0636 - accuracy: 0.9810 - val_loss: 0.1862 - val_accuracy: 0.9474\n",
            "Epoch 24/25\n",
            "14/14 [==============================] - 196s 14s/step - loss: 0.0618 - accuracy: 0.9833 - val_loss: 0.1630 - val_accuracy: 0.9474\n",
            "Epoch 25/25\n",
            "14/14 [==============================] - 193s 14s/step - loss: 0.0558 - accuracy: 0.9857 - val_loss: 0.2244 - val_accuracy: 0.9421\n"
          ]
        },
        {
          "data": {
            "text/plain": [
              "<keras.callbacks.History at 0x7fafd60df850>"
            ]
          },
          "execution_count": 14,
          "metadata": {},
          "output_type": "execute_result"
        }
      ],
      "source": [
        "Model.fit(x = training_set, validation_data = test_set, epochs = 25) #check with 20, 25 and 30"
      ]
    },
    {
      "cell_type": "markdown",
      "metadata": {
        "id": "U3PZasO0006Z"
      },
      "source": [
        "## Making a Prediction"
      ]
    },
    {
      "cell_type": "code",
      "execution_count": 2,
      "metadata": {
        "colab": {
          "background_save": true
        },
        "id": "gsSiWEJY1BPB",
        "outputId": "62d166e4-72af-4747-9985-5fd231889168"
      },
      "outputs": [
        {
          "ename": "ModuleNotFoundError",
          "evalue": "No module named 'tensorflow.python'",
          "output_type": "error",
          "traceback": [
            "\u001b[1;31m---------------------------------------------------------------------------\u001b[0m",
            "\u001b[1;31mModuleNotFoundError\u001b[0m                       Traceback (most recent call last)",
            "\u001b[1;32md:\\Documents\\UBC\\MANU 465\\MANU-465\\Tutorial\\Tutorial6\\Leaf_Classificiation_CNN_Modelling_Sajad_3.ipynb Cell 33\u001b[0m in \u001b[0;36m<module>\u001b[1;34m\u001b[0m\n\u001b[0;32m      <a href='vscode-notebook-cell:/d%3A/Documents/UBC/MANU%20465/MANU-465/Tutorial/Tutorial6/Leaf_Classificiation_CNN_Modelling_Sajad_3.ipynb#X44sZmlsZQ%3D%3D?line=0'>1</a>\u001b[0m \u001b[39mimport\u001b[39;00m \u001b[39mnumpy\u001b[39;00m \u001b[39mas\u001b[39;00m \u001b[39mnp\u001b[39;00m\n\u001b[0;32m      <a href='vscode-notebook-cell:/d%3A/Documents/UBC/MANU%20465/MANU-465/Tutorial/Tutorial6/Leaf_Classificiation_CNN_Modelling_Sajad_3.ipynb#X44sZmlsZQ%3D%3D?line=1'>2</a>\u001b[0m \u001b[39mimport\u001b[39;00m \u001b[39mos\u001b[39;00m\n\u001b[1;32m----> <a href='vscode-notebook-cell:/d%3A/Documents/UBC/MANU%20465/MANU-465/Tutorial/Tutorial6/Leaf_Classificiation_CNN_Modelling_Sajad_3.ipynb#X44sZmlsZQ%3D%3D?line=2'>3</a>\u001b[0m \u001b[39mfrom\u001b[39;00m \u001b[39mkeras\u001b[39;00m\u001b[39m.\u001b[39;00m\u001b[39mpreprocessing\u001b[39;00m \u001b[39mimport\u001b[39;00m image\n\u001b[0;32m      <a href='vscode-notebook-cell:/d%3A/Documents/UBC/MANU%20465/MANU-465/Tutorial/Tutorial6/Leaf_Classificiation_CNN_Modelling_Sajad_3.ipynb#X44sZmlsZQ%3D%3D?line=3'>4</a>\u001b[0m \u001b[39mimport\u001b[39;00m \u001b[39mkeras\u001b[39;00m\u001b[39m.\u001b[39;00m\u001b[39mutils\u001b[39;00m\n\u001b[0;32m      <a href='vscode-notebook-cell:/d%3A/Documents/UBC/MANU%20465/MANU-465/Tutorial/Tutorial6/Leaf_Classificiation_CNN_Modelling_Sajad_3.ipynb#X44sZmlsZQ%3D%3D?line=4'>5</a>\u001b[0m result \u001b[39m=\u001b[39m[]\n",
            "File \u001b[1;32m~\\AppData\\Local\\Packages\\PythonSoftwareFoundation.Python.3.9_qbz5n2kfra8p0\\LocalCache\\local-packages\\Python39\\site-packages\\keras\\__init__.py:20\u001b[0m, in \u001b[0;36m<module>\u001b[1;34m\u001b[0m\n\u001b[0;32m      1\u001b[0m \u001b[39m# Copyright 2015 The TensorFlow Authors. All Rights Reserved.\u001b[39;00m\n\u001b[0;32m      2\u001b[0m \u001b[39m#\u001b[39;00m\n\u001b[0;32m      3\u001b[0m \u001b[39m# Licensed under the Apache License, Version 2.0 (the \"License\");\u001b[39;00m\n\u001b[1;32m   (...)\u001b[0m\n\u001b[0;32m     13\u001b[0m \u001b[39m# limitations under the License.\u001b[39;00m\n\u001b[0;32m     14\u001b[0m \u001b[39m# ==============================================================================\u001b[39;00m\n\u001b[0;32m     15\u001b[0m \u001b[39m\"\"\"Implementation of the Keras API, the high-level API of TensorFlow.\u001b[39;00m\n\u001b[0;32m     16\u001b[0m \n\u001b[0;32m     17\u001b[0m \u001b[39mDetailed documentation and user guides are available at\u001b[39;00m\n\u001b[0;32m     18\u001b[0m \u001b[39m[keras.io](https://keras.io).\u001b[39;00m\n\u001b[0;32m     19\u001b[0m \u001b[39m\"\"\"\u001b[39;00m\n\u001b[1;32m---> 20\u001b[0m \u001b[39mfrom\u001b[39;00m \u001b[39mkeras\u001b[39;00m \u001b[39mimport\u001b[39;00m distribute\n\u001b[0;32m     21\u001b[0m \u001b[39mfrom\u001b[39;00m \u001b[39mkeras\u001b[39;00m \u001b[39mimport\u001b[39;00m models\n\u001b[0;32m     22\u001b[0m \u001b[39mfrom\u001b[39;00m \u001b[39mkeras\u001b[39;00m\u001b[39m.\u001b[39;00m\u001b[39mengine\u001b[39;00m\u001b[39m.\u001b[39;00m\u001b[39minput_layer\u001b[39;00m \u001b[39mimport\u001b[39;00m Input\n",
            "File \u001b[1;32m~\\AppData\\Local\\Packages\\PythonSoftwareFoundation.Python.3.9_qbz5n2kfra8p0\\LocalCache\\local-packages\\Python39\\site-packages\\keras\\distribute\\__init__.py:18\u001b[0m, in \u001b[0;36m<module>\u001b[1;34m\u001b[0m\n\u001b[0;32m      1\u001b[0m \u001b[39m# Copyright 2019 The TensorFlow Authors. All Rights Reserved.\u001b[39;00m\n\u001b[0;32m      2\u001b[0m \u001b[39m#\u001b[39;00m\n\u001b[0;32m      3\u001b[0m \u001b[39m# Licensed under the Apache License, Version 2.0 (the \"License\");\u001b[39;00m\n\u001b[1;32m   (...)\u001b[0m\n\u001b[0;32m     13\u001b[0m \u001b[39m# limitations under the License.\u001b[39;00m\n\u001b[0;32m     14\u001b[0m \u001b[39m# ==============================================================================\u001b[39;00m\n\u001b[0;32m     15\u001b[0m \u001b[39m\"\"\"Keras' Distribution Strategy library.\"\"\"\u001b[39;00m\n\u001b[1;32m---> 18\u001b[0m \u001b[39mfrom\u001b[39;00m \u001b[39mkeras\u001b[39;00m\u001b[39m.\u001b[39;00m\u001b[39mdistribute\u001b[39;00m \u001b[39mimport\u001b[39;00m sidecar_evaluator\n",
            "File \u001b[1;32m~\\AppData\\Local\\Packages\\PythonSoftwareFoundation.Python.3.9_qbz5n2kfra8p0\\LocalCache\\local-packages\\Python39\\site-packages\\keras\\distribute\\sidecar_evaluator.py:17\u001b[0m, in \u001b[0;36m<module>\u001b[1;34m\u001b[0m\n\u001b[0;32m      1\u001b[0m \u001b[39m# Copyright 2020 The TensorFlow Authors. All Rights Reserved.\u001b[39;00m\n\u001b[0;32m      2\u001b[0m \u001b[39m#\u001b[39;00m\n\u001b[0;32m      3\u001b[0m \u001b[39m# Licensed under the Apache License, Version 2.0 (the \"License\");\u001b[39;00m\n\u001b[1;32m   (...)\u001b[0m\n\u001b[0;32m     13\u001b[0m \u001b[39m# limitations under the License.\u001b[39;00m\n\u001b[0;32m     14\u001b[0m \u001b[39m# ==============================================================================\u001b[39;00m\n\u001b[0;32m     15\u001b[0m \u001b[39m\"\"\"Python module for evaluation loop.\"\"\"\u001b[39;00m\n\u001b[1;32m---> 17\u001b[0m \u001b[39mimport\u001b[39;00m \u001b[39mtensorflow\u001b[39;00m\u001b[39m.\u001b[39;00m\u001b[39mcompat\u001b[39;00m\u001b[39m.\u001b[39;00m\u001b[39mv2\u001b[39;00m \u001b[39mas\u001b[39;00m \u001b[39mtf\u001b[39;00m\n\u001b[0;32m     19\u001b[0m \u001b[39m# isort: off\u001b[39;00m\n\u001b[0;32m     20\u001b[0m \u001b[39mfrom\u001b[39;00m \u001b[39mtensorflow\u001b[39;00m\u001b[39m.\u001b[39;00m\u001b[39mpython\u001b[39;00m\u001b[39m.\u001b[39;00m\u001b[39mplatform\u001b[39;00m \u001b[39mimport\u001b[39;00m tf_logging \u001b[39mas\u001b[39;00m logging\n",
            "File \u001b[1;32m~\\AppData\\Local\\Packages\\PythonSoftwareFoundation.Python.3.9_qbz5n2kfra8p0\\LocalCache\\local-packages\\Python39\\site-packages\\tensorflow\\__init__.py:37\u001b[0m, in \u001b[0;36m<module>\u001b[1;34m\u001b[0m\n\u001b[0;32m     34\u001b[0m \u001b[39mimport\u001b[39;00m \u001b[39msys\u001b[39;00m \u001b[39mas\u001b[39;00m \u001b[39m_sys\u001b[39;00m\n\u001b[0;32m     35\u001b[0m \u001b[39mimport\u001b[39;00m \u001b[39mtyping\u001b[39;00m \u001b[39mas\u001b[39;00m \u001b[39m_typing\u001b[39;00m\n\u001b[1;32m---> 37\u001b[0m \u001b[39mfrom\u001b[39;00m \u001b[39mtensorflow\u001b[39;00m\u001b[39m.\u001b[39;00m\u001b[39mpython\u001b[39;00m\u001b[39m.\u001b[39;00m\u001b[39mtools\u001b[39;00m \u001b[39mimport\u001b[39;00m module_util \u001b[39mas\u001b[39;00m _module_util\n\u001b[0;32m     38\u001b[0m \u001b[39mfrom\u001b[39;00m \u001b[39mtensorflow\u001b[39;00m\u001b[39m.\u001b[39;00m\u001b[39mpython\u001b[39;00m\u001b[39m.\u001b[39;00m\u001b[39mutil\u001b[39;00m\u001b[39m.\u001b[39;00m\u001b[39mlazy_loader\u001b[39;00m \u001b[39mimport\u001b[39;00m LazyLoader \u001b[39mas\u001b[39;00m _LazyLoader\n\u001b[0;32m     40\u001b[0m \u001b[39m# Make sure code inside the TensorFlow codebase can use tf2.enabled() at import.\u001b[39;00m\n",
            "\u001b[1;31mModuleNotFoundError\u001b[0m: No module named 'tensorflow.python'"
          ]
        }
      ],
      "source": [
        "import numpy as np\n",
        "import os\n",
        "from keras.preprocessing import image\n",
        "import keras.utils\n",
        "result =[]\n",
        "path = '/content/gdrive/MyDrive/Colab Notebooks/Leaves/Unkown/Leaf'\n",
        "for img in os.listdir(path):\n",
        "    test_image = keras.utils.load_img(path+\"/\"+img, target_size = (64, 64))\n",
        "    test_image = keras.utils.img_to_array(test_image)\n",
        "    test_image = np.expand_dims(test_image, axis = 0)\n",
        "    result.append(Model.predict(test_image))\n",
        "    predict = Model.predict(test_image)\n",
        "    #print (result[i][0][0])\n",
        "    if predict[0][0] == 1:\n",
        "        prediction = 'Cherry Blossom'\n",
        "    elif predict[0][1] == 1:\n",
        "        prediction = 'Gingko'\n",
        "    elif predict[0][2] == 1:\n",
        "        prediction = 'Japanese Maple'\n",
        "    elif predict[0][3] == 1:\n",
        "        prediction = 'Red Oak'\n",
        "    elif predict[0][4] == 1:\n",
        "        prediction = 'Silver Birch'\n",
        "    elif predict[0][5] == 1:\n",
        "        prediction = \"Sweet Gum\"\n",
        "    print(img + \" = \"+ prediction)"
      ]
    },
    {
      "cell_type": "code",
      "execution_count": null,
      "metadata": {
        "colab": {
          "background_save": true
        },
        "id": "nSjwSIwsN_jV",
        "outputId": "90aad194-b927-4ecd-86b8-f320745a3bb5"
      },
      "outputs": [
        {
          "name": "stdout",
          "output_type": "stream",
          "text": [
            "1/1 [==============================] - 0s 19ms/step\n",
            "Sweet Gum\n"
          ]
        }
      ],
      "source": [
        "test_image = keras.utils.load_img('/content/gdrive/MyDrive/Colab Notebooks/Leaves/Unkown/Leaf/Leaf_12.jpg', target_size = (64, 64))\n",
        "test_image = keras.utils.img_to_array(test_image)\n",
        "test_image = np.expand_dims(test_image, axis = 0)\n",
        "predicting = Model.predict(test_image)\n",
        "training_set.class_indices\n",
        "if predict[0][0] == 1:\n",
        "    prediction = 'Cherry Blossom'\n",
        "elif predict[0][1] == 1:\n",
        "    prediction = 'Gingko'\n",
        "elif predict[0][2] == 1:\n",
        "    prediction = 'Japanese Maple'\n",
        "elif predict[0][3] == 1:\n",
        "    prediction = 'Red Oak'\n",
        "elif predict[0][4] == 1:\n",
        "    prediction = 'Silver Birch'\n",
        "elif predict[0][5] == 1:\n",
        "    prediction = \"Sweet Gum\"\n",
        "print(prediction)"
      ]
    },
    {
      "cell_type": "markdown",
      "metadata": {
        "id": "T12MhWqhN_jV"
      },
      "source": [
        "## Model Accuracy"
      ]
    },
    {
      "cell_type": "code",
      "execution_count": null,
      "metadata": {
        "colab": {
          "background_save": true
        },
        "id": "-LNnrY4QN_jV",
        "outputId": "0e04097e-d94d-4353-aa72-b6a8efdce6cb"
      },
      "outputs": [
        {
          "name": "stdout",
          "output_type": "stream",
          "text": [
            "14/14 [==============================] - 135s 10s/step - loss: 0.0515 - accuracy: 0.9833\n"
          ]
        },
        {
          "data": {
            "text/plain": [
              "[0.05151832848787308, 0.9833333492279053]"
            ]
          },
          "execution_count": 17,
          "metadata": {},
          "output_type": "execute_result"
        }
      ],
      "source": [
        "Model.evaluate(training_set)"
      ]
    },
    {
      "cell_type": "code",
      "execution_count": null,
      "metadata": {
        "colab": {
          "background_save": true
        },
        "id": "VZUP50JyN_jW",
        "outputId": "6310af7b-f78e-4470-d88a-c469e1b40d65",
        "scrolled": true
      },
      "outputs": [
        {
          "name": "stdout",
          "output_type": "stream",
          "text": [
            "6/6 [==============================] - 66s 11s/step - loss: 0.2244 - accuracy: 0.9421\n"
          ]
        },
        {
          "data": {
            "text/plain": [
              "[0.22438454627990723, 0.942105233669281]"
            ]
          },
          "execution_count": 18,
          "metadata": {},
          "output_type": "execute_result"
        }
      ],
      "source": [
        "Model.evaluate(test_set)"
      ]
    },
    {
      "cell_type": "markdown",
      "metadata": {
        "id": "xb0r49CCN_jW"
      },
      "source": [
        "The CNN classification model was found to be 98.33 % accurate on training set and 94.21 % accurate on validation set. "
      ]
    },
    {
      "cell_type": "markdown",
      "metadata": {
        "id": "_72IfPNtN_jW"
      },
      "source": [
        "##### End"
      ]
    }
  ],
  "metadata": {
    "colab": {
      "collapsed_sections": [],
      "provenance": [],
      "toc_visible": true
    },
    "kernelspec": {
      "display_name": "Python 3.9.13 64-bit (microsoft store)",
      "language": "python",
      "name": "python3"
    },
    "language_info": {
      "codemirror_mode": {
        "name": "ipython",
        "version": 3
      },
      "file_extension": ".py",
      "mimetype": "text/x-python",
      "name": "python",
      "nbconvert_exporter": "python",
      "pygments_lexer": "ipython3",
      "version": "3.9.13"
    },
    "toc": {
      "base_numbering": 1,
      "nav_menu": {},
      "number_sections": true,
      "sideBar": true,
      "skip_h1_title": false,
      "title_cell": "Table of Contents",
      "title_sidebar": "Contents",
      "toc_cell": false,
      "toc_position": {},
      "toc_section_display": true,
      "toc_window_display": false
    },
    "varInspector": {
      "cols": {
        "lenName": 16,
        "lenType": 16,
        "lenVar": 40
      },
      "kernels_config": {
        "python": {
          "delete_cmd_postfix": "",
          "delete_cmd_prefix": "del ",
          "library": "var_list.py",
          "varRefreshCmd": "print(var_dic_list())"
        },
        "r": {
          "delete_cmd_postfix": ") ",
          "delete_cmd_prefix": "rm(",
          "library": "var_list.r",
          "varRefreshCmd": "cat(var_dic_list()) "
        }
      },
      "types_to_exclude": [
        "module",
        "function",
        "builtin_function_or_method",
        "instance",
        "_Feature"
      ],
      "window_display": false
    },
    "vscode": {
      "interpreter": {
        "hash": "6977368cdbc9e31a15f3a50e1f78967c3e0a230b0d574c6eb45f9c1aee39a130"
      }
    }
  },
  "nbformat": 4,
  "nbformat_minor": 0
}

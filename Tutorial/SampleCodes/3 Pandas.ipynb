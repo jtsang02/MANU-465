{
 "cells": [
  {
   "cell_type": "markdown",
   "id": "bd106a0b",
   "metadata": {},
   "source": [
    "____\n",
    "<a href='https://aintelligentmanufacturing.com/'><img src='Files\\MANU465Logo2.png' width=250 height=250/></a>"
   ]
  },
  {
   "cell_type": "markdown",
   "id": "85693dba",
   "metadata": {},
   "source": [
    "# Pandas Documentation\n",
    "<a href='https://pandas.pydata.org/pandas-docs/stable/getting_started/index.html#getting-started'><img src='Files\\pandaslogo.jpg' width=250 height=250/></a>"
   ]
  },
  {
   "cell_type": "markdown",
   "id": "61571f40",
   "metadata": {},
   "source": [
    "# Install Panda Library\n",
    "Run Anaconda Prompt, then type:\n",
    "> conda install pandas\n",
    "\n",
    "> pip install pandas"
   ]
  },
  {
   "cell_type": "code",
   "execution_count": 1,
   "id": "0cd7ec7d",
   "metadata": {},
   "outputs": [],
   "source": [
    "import numpy as np\n",
    "import pandas as pd"
   ]
  },
  {
   "cell_type": "markdown",
   "id": "01618027",
   "metadata": {},
   "source": [
    "# Series"
   ]
  },
  {
   "cell_type": "code",
   "execution_count": 2,
   "id": "84f33e16",
   "metadata": {},
   "outputs": [],
   "source": [
    "X=np.array([5,10,15,20])\n",
    "A=pd.Series(data= X)"
   ]
  },
  {
   "cell_type": "code",
   "execution_count": 3,
   "id": "7d3c92b0",
   "metadata": {},
   "outputs": [
    {
     "name": "stdout",
     "output_type": "stream",
     "text": [
      "[ 5 10 15 20]\n"
     ]
    }
   ],
   "source": [
    "print(X)"
   ]
  },
  {
   "cell_type": "code",
   "execution_count": 4,
   "id": "0a5ef817",
   "metadata": {},
   "outputs": [
    {
     "name": "stdout",
     "output_type": "stream",
     "text": [
      "0     5\n",
      "1    10\n",
      "2    15\n",
      "3    20\n",
      "dtype: int32\n"
     ]
    }
   ],
   "source": [
    "print(A)  # Note, Panda gives index to the data, and it is called a Series"
   ]
  },
  {
   "cell_type": "code",
   "execution_count": 5,
   "id": "94b3a8e7",
   "metadata": {},
   "outputs": [],
   "source": [
    "# Instead of index, we can have labels \n",
    "Labels=['a','b','c','d']\n",
    "B=pd.Series(data= X, index=Labels)"
   ]
  },
  {
   "cell_type": "code",
   "execution_count": 6,
   "id": "056941bb",
   "metadata": {},
   "outputs": [
    {
     "name": "stdout",
     "output_type": "stream",
     "text": [
      "a     5\n",
      "b    10\n",
      "c    15\n",
      "d    20\n",
      "dtype: int32\n"
     ]
    }
   ],
   "source": [
    "print(B)"
   ]
  },
  {
   "cell_type": "code",
   "execution_count": 7,
   "id": "28482ed1",
   "metadata": {},
   "outputs": [
    {
     "name": "stdout",
     "output_type": "stream",
     "text": [
      "Ahmad    120\n",
      "Ali       75\n",
      "Alex      50\n",
      "Amy       20\n",
      "dtype: int64\n"
     ]
    }
   ],
   "source": [
    "# Example\n",
    "Names=['Ahmad', 'Ali', 'Alex', 'Amy']\n",
    "Salary=[120, 75, 50, 20]  # Note that this is a list and not an Array, but for Pandas it is Okay. \n",
    "Table=pd.Series(data=Salary, index=Names)\n",
    "print(Table)"
   ]
  },
  {
   "cell_type": "code",
   "execution_count": 8,
   "id": "89e1e58b",
   "metadata": {},
   "outputs": [],
   "source": [
    "# Or simply, you can write it as\n",
    "Table=pd.Series(Salary, Names)"
   ]
  },
  {
   "cell_type": "code",
   "execution_count": 9,
   "id": "90d42cbe",
   "metadata": {},
   "outputs": [
    {
     "data": {
      "text/plain": [
       "Ahmad    120\n",
       "Ali       75\n",
       "Alex      50\n",
       "Amy       20\n",
       "dtype: int64"
      ]
     },
     "execution_count": 9,
     "metadata": {},
     "output_type": "execute_result"
    }
   ],
   "source": [
    "Table"
   ]
  },
  {
   "cell_type": "code",
   "execution_count": 10,
   "id": "0af56417",
   "metadata": {},
   "outputs": [
    {
     "data": {
      "text/plain": [
       "120"
      ]
     },
     "execution_count": 10,
     "metadata": {},
     "output_type": "execute_result"
    }
   ],
   "source": [
    "# Grab information from a Panda Series:\n",
    "Table['Ahmad']"
   ]
  },
  {
   "cell_type": "code",
   "execution_count": 11,
   "id": "472f9b65",
   "metadata": {},
   "outputs": [
    {
     "data": {
      "text/plain": [
       "20"
      ]
     },
     "execution_count": 11,
     "metadata": {},
     "output_type": "execute_result"
    }
   ],
   "source": [
    "Table['Amy']"
   ]
  },
  {
   "cell_type": "code",
   "execution_count": 12,
   "id": "4ee46385",
   "metadata": {},
   "outputs": [
    {
     "data": {
      "text/plain": [
       "0     5\n",
       "1    10\n",
       "2    15\n",
       "3    20\n",
       "dtype: int32"
      ]
     },
     "execution_count": 12,
     "metadata": {},
     "output_type": "execute_result"
    }
   ],
   "source": [
    "# or you grab data by index; for exampel, let's consider A, which we created above\n",
    "A"
   ]
  },
  {
   "cell_type": "code",
   "execution_count": 13,
   "id": "2e9b4afd",
   "metadata": {},
   "outputs": [
    {
     "data": {
      "text/plain": [
       "5"
      ]
     },
     "execution_count": 13,
     "metadata": {},
     "output_type": "execute_result"
    }
   ],
   "source": [
    "A[0]"
   ]
  },
  {
   "cell_type": "code",
   "execution_count": 14,
   "id": "36e450fc",
   "metadata": {},
   "outputs": [
    {
     "data": {
      "text/plain": [
       "20"
      ]
     },
     "execution_count": 14,
     "metadata": {},
     "output_type": "execute_result"
    }
   ],
   "source": [
    "A[3]"
   ]
  },
  {
   "cell_type": "markdown",
   "id": "d8ea878d",
   "metadata": {},
   "source": [
    "# DataFrame"
   ]
  },
  {
   "cell_type": "code",
   "execution_count": 15,
   "id": "d7f08048",
   "metadata": {},
   "outputs": [],
   "source": [
    "# Let's create some random data\n",
    "MyData=[[25,30,50,75,32],[20,11,17,19,19],[8,42,25,9,74],[33,82,14,7,2]]"
   ]
  },
  {
   "cell_type": "code",
   "execution_count": 16,
   "id": "35da9ede",
   "metadata": {},
   "outputs": [
    {
     "data": {
      "text/plain": [
       "[[25, 30, 50, 75, 32],\n",
       " [20, 11, 17, 19, 19],\n",
       " [8, 42, 25, 9, 74],\n",
       " [33, 82, 14, 7, 2]]"
      ]
     },
     "execution_count": 16,
     "metadata": {},
     "output_type": "execute_result"
    }
   ],
   "source": [
    "MyData"
   ]
  },
  {
   "cell_type": "code",
   "execution_count": 17,
   "id": "51fcf97e",
   "metadata": {},
   "outputs": [],
   "source": [
    "# for example, let's say this values are Wood density in differnet countries,\n",
    "WD=pd.DataFrame(MyData, ['Canada','USA','Brezil','Mexico'],['Pine','Oak','Arbutus','Cedar','Elm'])"
   ]
  },
  {
   "cell_type": "code",
   "execution_count": 18,
   "id": "a37339b4",
   "metadata": {},
   "outputs": [
    {
     "data": {
      "text/html": [
       "<div>\n",
       "<style scoped>\n",
       "    .dataframe tbody tr th:only-of-type {\n",
       "        vertical-align: middle;\n",
       "    }\n",
       "\n",
       "    .dataframe tbody tr th {\n",
       "        vertical-align: top;\n",
       "    }\n",
       "\n",
       "    .dataframe thead th {\n",
       "        text-align: right;\n",
       "    }\n",
       "</style>\n",
       "<table border=\"1\" class=\"dataframe\">\n",
       "  <thead>\n",
       "    <tr style=\"text-align: right;\">\n",
       "      <th></th>\n",
       "      <th>Pine</th>\n",
       "      <th>Oak</th>\n",
       "      <th>Arbutus</th>\n",
       "      <th>Cedar</th>\n",
       "      <th>Elm</th>\n",
       "    </tr>\n",
       "  </thead>\n",
       "  <tbody>\n",
       "    <tr>\n",
       "      <th>Canada</th>\n",
       "      <td>25</td>\n",
       "      <td>30</td>\n",
       "      <td>50</td>\n",
       "      <td>75</td>\n",
       "      <td>32</td>\n",
       "    </tr>\n",
       "    <tr>\n",
       "      <th>USA</th>\n",
       "      <td>20</td>\n",
       "      <td>11</td>\n",
       "      <td>17</td>\n",
       "      <td>19</td>\n",
       "      <td>19</td>\n",
       "    </tr>\n",
       "    <tr>\n",
       "      <th>Brezil</th>\n",
       "      <td>8</td>\n",
       "      <td>42</td>\n",
       "      <td>25</td>\n",
       "      <td>9</td>\n",
       "      <td>74</td>\n",
       "    </tr>\n",
       "    <tr>\n",
       "      <th>Mexico</th>\n",
       "      <td>33</td>\n",
       "      <td>82</td>\n",
       "      <td>14</td>\n",
       "      <td>7</td>\n",
       "      <td>2</td>\n",
       "    </tr>\n",
       "  </tbody>\n",
       "</table>\n",
       "</div>"
      ],
      "text/plain": [
       "        Pine  Oak  Arbutus  Cedar  Elm\n",
       "Canada    25   30       50     75   32\n",
       "USA       20   11       17     19   19\n",
       "Brezil     8   42       25      9   74\n",
       "Mexico    33   82       14      7    2"
      ]
     },
     "execution_count": 18,
     "metadata": {},
     "output_type": "execute_result"
    }
   ],
   "source": [
    "WD"
   ]
  },
  {
   "cell_type": "code",
   "execution_count": 19,
   "id": "60f8a2c6",
   "metadata": {},
   "outputs": [
    {
     "data": {
      "text/plain": [
       "Canada    25\n",
       "USA       20\n",
       "Brezil     8\n",
       "Mexico    33\n",
       "Name: Pine, dtype: int64"
      ]
     },
     "execution_count": 19,
     "metadata": {},
     "output_type": "execute_result"
    }
   ],
   "source": [
    "# To call a column from a Data Frame, Method 1\n",
    "WD['Pine']"
   ]
  },
  {
   "cell_type": "code",
   "execution_count": 20,
   "id": "1df6e7ae",
   "metadata": {},
   "outputs": [
    {
     "data": {
      "text/plain": [
       "pandas.core.frame.DataFrame"
      ]
     },
     "execution_count": 20,
     "metadata": {},
     "output_type": "execute_result"
    }
   ],
   "source": [
    "type(WD)"
   ]
  },
  {
   "cell_type": "code",
   "execution_count": 21,
   "id": "398460db",
   "metadata": {},
   "outputs": [
    {
     "data": {
      "text/plain": [
       "pandas.core.series.Series"
      ]
     },
     "execution_count": 21,
     "metadata": {},
     "output_type": "execute_result"
    }
   ],
   "source": [
    "type(WD['Pine']) # So, each column is a Series "
   ]
  },
  {
   "cell_type": "code",
   "execution_count": 22,
   "id": "d40795e3",
   "metadata": {},
   "outputs": [
    {
     "data": {
      "text/plain": [
       "Canada    25\n",
       "USA       20\n",
       "Brezil     8\n",
       "Mexico    33\n",
       "Name: Pine, dtype: int64"
      ]
     },
     "execution_count": 22,
     "metadata": {},
     "output_type": "execute_result"
    }
   ],
   "source": [
    "# Another method to call a column, Method 2\n",
    "WD.Pine"
   ]
  },
  {
   "cell_type": "code",
   "execution_count": 23,
   "id": "9b96192c",
   "metadata": {},
   "outputs": [],
   "source": [
    "# But, Method 1 is better (i.e. less confusing)"
   ]
  },
  {
   "cell_type": "code",
   "execution_count": 24,
   "id": "ec5c07b9",
   "metadata": {},
   "outputs": [
    {
     "data": {
      "text/html": [
       "<div>\n",
       "<style scoped>\n",
       "    .dataframe tbody tr th:only-of-type {\n",
       "        vertical-align: middle;\n",
       "    }\n",
       "\n",
       "    .dataframe tbody tr th {\n",
       "        vertical-align: top;\n",
       "    }\n",
       "\n",
       "    .dataframe thead th {\n",
       "        text-align: right;\n",
       "    }\n",
       "</style>\n",
       "<table border=\"1\" class=\"dataframe\">\n",
       "  <thead>\n",
       "    <tr style=\"text-align: right;\">\n",
       "      <th></th>\n",
       "      <th>Oak</th>\n",
       "      <th>Elm</th>\n",
       "    </tr>\n",
       "  </thead>\n",
       "  <tbody>\n",
       "    <tr>\n",
       "      <th>Canada</th>\n",
       "      <td>30</td>\n",
       "      <td>32</td>\n",
       "    </tr>\n",
       "    <tr>\n",
       "      <th>USA</th>\n",
       "      <td>11</td>\n",
       "      <td>19</td>\n",
       "    </tr>\n",
       "    <tr>\n",
       "      <th>Brezil</th>\n",
       "      <td>42</td>\n",
       "      <td>74</td>\n",
       "    </tr>\n",
       "    <tr>\n",
       "      <th>Mexico</th>\n",
       "      <td>82</td>\n",
       "      <td>2</td>\n",
       "    </tr>\n",
       "  </tbody>\n",
       "</table>\n",
       "</div>"
      ],
      "text/plain": [
       "        Oak  Elm\n",
       "Canada   30   32\n",
       "USA      11   19\n",
       "Brezil   42   74\n",
       "Mexico   82    2"
      ]
     },
     "execution_count": 24,
     "metadata": {},
     "output_type": "execute_result"
    }
   ],
   "source": [
    "# Calling 2 columns \n",
    "WD[['Oak','Elm']]"
   ]
  },
  {
   "cell_type": "code",
   "execution_count": 25,
   "id": "6174eafd",
   "metadata": {},
   "outputs": [],
   "source": [
    "# Adding a new Column\n",
    "WD['Maple']=[22,91,14,12]"
   ]
  },
  {
   "cell_type": "code",
   "execution_count": 26,
   "id": "6e33d4a6",
   "metadata": {},
   "outputs": [
    {
     "data": {
      "text/html": [
       "<div>\n",
       "<style scoped>\n",
       "    .dataframe tbody tr th:only-of-type {\n",
       "        vertical-align: middle;\n",
       "    }\n",
       "\n",
       "    .dataframe tbody tr th {\n",
       "        vertical-align: top;\n",
       "    }\n",
       "\n",
       "    .dataframe thead th {\n",
       "        text-align: right;\n",
       "    }\n",
       "</style>\n",
       "<table border=\"1\" class=\"dataframe\">\n",
       "  <thead>\n",
       "    <tr style=\"text-align: right;\">\n",
       "      <th></th>\n",
       "      <th>Pine</th>\n",
       "      <th>Oak</th>\n",
       "      <th>Arbutus</th>\n",
       "      <th>Cedar</th>\n",
       "      <th>Elm</th>\n",
       "      <th>Maple</th>\n",
       "    </tr>\n",
       "  </thead>\n",
       "  <tbody>\n",
       "    <tr>\n",
       "      <th>Canada</th>\n",
       "      <td>25</td>\n",
       "      <td>30</td>\n",
       "      <td>50</td>\n",
       "      <td>75</td>\n",
       "      <td>32</td>\n",
       "      <td>22</td>\n",
       "    </tr>\n",
       "    <tr>\n",
       "      <th>USA</th>\n",
       "      <td>20</td>\n",
       "      <td>11</td>\n",
       "      <td>17</td>\n",
       "      <td>19</td>\n",
       "      <td>19</td>\n",
       "      <td>91</td>\n",
       "    </tr>\n",
       "    <tr>\n",
       "      <th>Brezil</th>\n",
       "      <td>8</td>\n",
       "      <td>42</td>\n",
       "      <td>25</td>\n",
       "      <td>9</td>\n",
       "      <td>74</td>\n",
       "      <td>14</td>\n",
       "    </tr>\n",
       "    <tr>\n",
       "      <th>Mexico</th>\n",
       "      <td>33</td>\n",
       "      <td>82</td>\n",
       "      <td>14</td>\n",
       "      <td>7</td>\n",
       "      <td>2</td>\n",
       "      <td>12</td>\n",
       "    </tr>\n",
       "  </tbody>\n",
       "</table>\n",
       "</div>"
      ],
      "text/plain": [
       "        Pine  Oak  Arbutus  Cedar  Elm  Maple\n",
       "Canada    25   30       50     75   32     22\n",
       "USA       20   11       17     19   19     91\n",
       "Brezil     8   42       25      9   74     14\n",
       "Mexico    33   82       14      7    2     12"
      ]
     },
     "execution_count": 26,
     "metadata": {},
     "output_type": "execute_result"
    }
   ],
   "source": [
    "WD"
   ]
  },
  {
   "cell_type": "code",
   "execution_count": 27,
   "id": "9809e333",
   "metadata": {},
   "outputs": [],
   "source": [
    "# Drop a column\n",
    "WD2=WD.drop('Maple', axis=1) # Note: axis=0 refers to rows, and axis=1 referes to columns "
   ]
  },
  {
   "cell_type": "code",
   "execution_count": 28,
   "id": "bc00ce07",
   "metadata": {},
   "outputs": [
    {
     "data": {
      "text/html": [
       "<div>\n",
       "<style scoped>\n",
       "    .dataframe tbody tr th:only-of-type {\n",
       "        vertical-align: middle;\n",
       "    }\n",
       "\n",
       "    .dataframe tbody tr th {\n",
       "        vertical-align: top;\n",
       "    }\n",
       "\n",
       "    .dataframe thead th {\n",
       "        text-align: right;\n",
       "    }\n",
       "</style>\n",
       "<table border=\"1\" class=\"dataframe\">\n",
       "  <thead>\n",
       "    <tr style=\"text-align: right;\">\n",
       "      <th></th>\n",
       "      <th>Pine</th>\n",
       "      <th>Oak</th>\n",
       "      <th>Arbutus</th>\n",
       "      <th>Cedar</th>\n",
       "      <th>Elm</th>\n",
       "    </tr>\n",
       "  </thead>\n",
       "  <tbody>\n",
       "    <tr>\n",
       "      <th>Canada</th>\n",
       "      <td>25</td>\n",
       "      <td>30</td>\n",
       "      <td>50</td>\n",
       "      <td>75</td>\n",
       "      <td>32</td>\n",
       "    </tr>\n",
       "    <tr>\n",
       "      <th>USA</th>\n",
       "      <td>20</td>\n",
       "      <td>11</td>\n",
       "      <td>17</td>\n",
       "      <td>19</td>\n",
       "      <td>19</td>\n",
       "    </tr>\n",
       "    <tr>\n",
       "      <th>Brezil</th>\n",
       "      <td>8</td>\n",
       "      <td>42</td>\n",
       "      <td>25</td>\n",
       "      <td>9</td>\n",
       "      <td>74</td>\n",
       "    </tr>\n",
       "    <tr>\n",
       "      <th>Mexico</th>\n",
       "      <td>33</td>\n",
       "      <td>82</td>\n",
       "      <td>14</td>\n",
       "      <td>7</td>\n",
       "      <td>2</td>\n",
       "    </tr>\n",
       "  </tbody>\n",
       "</table>\n",
       "</div>"
      ],
      "text/plain": [
       "        Pine  Oak  Arbutus  Cedar  Elm\n",
       "Canada    25   30       50     75   32\n",
       "USA       20   11       17     19   19\n",
       "Brezil     8   42       25      9   74\n",
       "Mexico    33   82       14      7    2"
      ]
     },
     "execution_count": 28,
     "metadata": {},
     "output_type": "execute_result"
    }
   ],
   "source": [
    "WD2"
   ]
  },
  {
   "cell_type": "code",
   "execution_count": 29,
   "id": "4866f810",
   "metadata": {},
   "outputs": [
    {
     "data": {
      "text/html": [
       "<div>\n",
       "<style scoped>\n",
       "    .dataframe tbody tr th:only-of-type {\n",
       "        vertical-align: middle;\n",
       "    }\n",
       "\n",
       "    .dataframe tbody tr th {\n",
       "        vertical-align: top;\n",
       "    }\n",
       "\n",
       "    .dataframe thead th {\n",
       "        text-align: right;\n",
       "    }\n",
       "</style>\n",
       "<table border=\"1\" class=\"dataframe\">\n",
       "  <thead>\n",
       "    <tr style=\"text-align: right;\">\n",
       "      <th></th>\n",
       "      <th>Pine</th>\n",
       "      <th>Oak</th>\n",
       "      <th>Arbutus</th>\n",
       "      <th>Cedar</th>\n",
       "      <th>Elm</th>\n",
       "      <th>Maple</th>\n",
       "    </tr>\n",
       "  </thead>\n",
       "  <tbody>\n",
       "    <tr>\n",
       "      <th>Canada</th>\n",
       "      <td>25</td>\n",
       "      <td>30</td>\n",
       "      <td>50</td>\n",
       "      <td>75</td>\n",
       "      <td>32</td>\n",
       "      <td>22</td>\n",
       "    </tr>\n",
       "    <tr>\n",
       "      <th>USA</th>\n",
       "      <td>20</td>\n",
       "      <td>11</td>\n",
       "      <td>17</td>\n",
       "      <td>19</td>\n",
       "      <td>19</td>\n",
       "      <td>91</td>\n",
       "    </tr>\n",
       "    <tr>\n",
       "      <th>Brezil</th>\n",
       "      <td>8</td>\n",
       "      <td>42</td>\n",
       "      <td>25</td>\n",
       "      <td>9</td>\n",
       "      <td>74</td>\n",
       "      <td>14</td>\n",
       "    </tr>\n",
       "    <tr>\n",
       "      <th>Mexico</th>\n",
       "      <td>33</td>\n",
       "      <td>82</td>\n",
       "      <td>14</td>\n",
       "      <td>7</td>\n",
       "      <td>2</td>\n",
       "      <td>12</td>\n",
       "    </tr>\n",
       "  </tbody>\n",
       "</table>\n",
       "</div>"
      ],
      "text/plain": [
       "        Pine  Oak  Arbutus  Cedar  Elm  Maple\n",
       "Canada    25   30       50     75   32     22\n",
       "USA       20   11       17     19   19     91\n",
       "Brezil     8   42       25      9   74     14\n",
       "Mexico    33   82       14      7    2     12"
      ]
     },
     "execution_count": 29,
     "metadata": {},
     "output_type": "execute_result"
    }
   ],
   "source": [
    "WD"
   ]
  },
  {
   "cell_type": "code",
   "execution_count": 30,
   "id": "65e67050",
   "metadata": {},
   "outputs": [],
   "source": [
    "# But, if you want the \"Maple\" permanently drops from your original data, you need to write:\n",
    "WD.drop('Maple', axis=1, inplace=True)"
   ]
  },
  {
   "cell_type": "code",
   "execution_count": 31,
   "id": "18cdadc8",
   "metadata": {},
   "outputs": [
    {
     "data": {
      "text/html": [
       "<div>\n",
       "<style scoped>\n",
       "    .dataframe tbody tr th:only-of-type {\n",
       "        vertical-align: middle;\n",
       "    }\n",
       "\n",
       "    .dataframe tbody tr th {\n",
       "        vertical-align: top;\n",
       "    }\n",
       "\n",
       "    .dataframe thead th {\n",
       "        text-align: right;\n",
       "    }\n",
       "</style>\n",
       "<table border=\"1\" class=\"dataframe\">\n",
       "  <thead>\n",
       "    <tr style=\"text-align: right;\">\n",
       "      <th></th>\n",
       "      <th>Pine</th>\n",
       "      <th>Oak</th>\n",
       "      <th>Arbutus</th>\n",
       "      <th>Cedar</th>\n",
       "      <th>Elm</th>\n",
       "    </tr>\n",
       "  </thead>\n",
       "  <tbody>\n",
       "    <tr>\n",
       "      <th>Canada</th>\n",
       "      <td>25</td>\n",
       "      <td>30</td>\n",
       "      <td>50</td>\n",
       "      <td>75</td>\n",
       "      <td>32</td>\n",
       "    </tr>\n",
       "    <tr>\n",
       "      <th>USA</th>\n",
       "      <td>20</td>\n",
       "      <td>11</td>\n",
       "      <td>17</td>\n",
       "      <td>19</td>\n",
       "      <td>19</td>\n",
       "    </tr>\n",
       "    <tr>\n",
       "      <th>Brezil</th>\n",
       "      <td>8</td>\n",
       "      <td>42</td>\n",
       "      <td>25</td>\n",
       "      <td>9</td>\n",
       "      <td>74</td>\n",
       "    </tr>\n",
       "    <tr>\n",
       "      <th>Mexico</th>\n",
       "      <td>33</td>\n",
       "      <td>82</td>\n",
       "      <td>14</td>\n",
       "      <td>7</td>\n",
       "      <td>2</td>\n",
       "    </tr>\n",
       "  </tbody>\n",
       "</table>\n",
       "</div>"
      ],
      "text/plain": [
       "        Pine  Oak  Arbutus  Cedar  Elm\n",
       "Canada    25   30       50     75   32\n",
       "USA       20   11       17     19   19\n",
       "Brezil     8   42       25      9   74\n",
       "Mexico    33   82       14      7    2"
      ]
     },
     "execution_count": 31,
     "metadata": {},
     "output_type": "execute_result"
    }
   ],
   "source": [
    "WD"
   ]
  },
  {
   "cell_type": "code",
   "execution_count": 32,
   "id": "dc645400",
   "metadata": {},
   "outputs": [
    {
     "data": {
      "text/html": [
       "<div>\n",
       "<style scoped>\n",
       "    .dataframe tbody tr th:only-of-type {\n",
       "        vertical-align: middle;\n",
       "    }\n",
       "\n",
       "    .dataframe tbody tr th {\n",
       "        vertical-align: top;\n",
       "    }\n",
       "\n",
       "    .dataframe thead th {\n",
       "        text-align: right;\n",
       "    }\n",
       "</style>\n",
       "<table border=\"1\" class=\"dataframe\">\n",
       "  <thead>\n",
       "    <tr style=\"text-align: right;\">\n",
       "      <th></th>\n",
       "      <th>Pine</th>\n",
       "      <th>Oak</th>\n",
       "      <th>Arbutus</th>\n",
       "      <th>Cedar</th>\n",
       "      <th>Elm</th>\n",
       "    </tr>\n",
       "  </thead>\n",
       "  <tbody>\n",
       "    <tr>\n",
       "      <th>Canada</th>\n",
       "      <td>25</td>\n",
       "      <td>30</td>\n",
       "      <td>50</td>\n",
       "      <td>75</td>\n",
       "      <td>32</td>\n",
       "    </tr>\n",
       "    <tr>\n",
       "      <th>USA</th>\n",
       "      <td>20</td>\n",
       "      <td>11</td>\n",
       "      <td>17</td>\n",
       "      <td>19</td>\n",
       "      <td>19</td>\n",
       "    </tr>\n",
       "    <tr>\n",
       "      <th>Brezil</th>\n",
       "      <td>8</td>\n",
       "      <td>42</td>\n",
       "      <td>25</td>\n",
       "      <td>9</td>\n",
       "      <td>74</td>\n",
       "    </tr>\n",
       "  </tbody>\n",
       "</table>\n",
       "</div>"
      ],
      "text/plain": [
       "        Pine  Oak  Arbutus  Cedar  Elm\n",
       "Canada    25   30       50     75   32\n",
       "USA       20   11       17     19   19\n",
       "Brezil     8   42       25      9   74"
      ]
     },
     "execution_count": 32,
     "metadata": {},
     "output_type": "execute_result"
    }
   ],
   "source": [
    "# to drop a row\n",
    "WD.drop('Mexico')"
   ]
  },
  {
   "cell_type": "code",
   "execution_count": 33,
   "id": "395c7f00",
   "metadata": {},
   "outputs": [
    {
     "data": {
      "text/plain": [
       "(4, 5)"
      ]
     },
     "execution_count": 33,
     "metadata": {},
     "output_type": "execute_result"
    }
   ],
   "source": [
    "WD.shape"
   ]
  },
  {
   "cell_type": "code",
   "execution_count": 34,
   "id": "4e15d225",
   "metadata": {},
   "outputs": [
    {
     "data": {
      "text/html": [
       "<div>\n",
       "<style scoped>\n",
       "    .dataframe tbody tr th:only-of-type {\n",
       "        vertical-align: middle;\n",
       "    }\n",
       "\n",
       "    .dataframe tbody tr th {\n",
       "        vertical-align: top;\n",
       "    }\n",
       "\n",
       "    .dataframe thead th {\n",
       "        text-align: right;\n",
       "    }\n",
       "</style>\n",
       "<table border=\"1\" class=\"dataframe\">\n",
       "  <thead>\n",
       "    <tr style=\"text-align: right;\">\n",
       "      <th></th>\n",
       "      <th>Pine</th>\n",
       "      <th>Oak</th>\n",
       "      <th>Arbutus</th>\n",
       "      <th>Cedar</th>\n",
       "      <th>Elm</th>\n",
       "    </tr>\n",
       "  </thead>\n",
       "  <tbody>\n",
       "    <tr>\n",
       "      <th>Canada</th>\n",
       "      <td>25</td>\n",
       "      <td>30</td>\n",
       "      <td>50</td>\n",
       "      <td>75</td>\n",
       "      <td>32</td>\n",
       "    </tr>\n",
       "    <tr>\n",
       "      <th>USA</th>\n",
       "      <td>20</td>\n",
       "      <td>11</td>\n",
       "      <td>17</td>\n",
       "      <td>19</td>\n",
       "      <td>19</td>\n",
       "    </tr>\n",
       "    <tr>\n",
       "      <th>Brezil</th>\n",
       "      <td>8</td>\n",
       "      <td>42</td>\n",
       "      <td>25</td>\n",
       "      <td>9</td>\n",
       "      <td>74</td>\n",
       "    </tr>\n",
       "    <tr>\n",
       "      <th>Mexico</th>\n",
       "      <td>33</td>\n",
       "      <td>82</td>\n",
       "      <td>14</td>\n",
       "      <td>7</td>\n",
       "      <td>2</td>\n",
       "    </tr>\n",
       "  </tbody>\n",
       "</table>\n",
       "</div>"
      ],
      "text/plain": [
       "        Pine  Oak  Arbutus  Cedar  Elm\n",
       "Canada    25   30       50     75   32\n",
       "USA       20   11       17     19   19\n",
       "Brezil     8   42       25      9   74\n",
       "Mexico    33   82       14      7    2"
      ]
     },
     "execution_count": 34,
     "metadata": {},
     "output_type": "execute_result"
    }
   ],
   "source": [
    "WD"
   ]
  },
  {
   "cell_type": "code",
   "execution_count": 35,
   "id": "622abb32",
   "metadata": {},
   "outputs": [
    {
     "data": {
      "text/plain": [
       "Pine       25\n",
       "Oak        30\n",
       "Arbutus    50\n",
       "Cedar      75\n",
       "Elm        32\n",
       "Name: Canada, dtype: int64"
      ]
     },
     "execution_count": 35,
     "metadata": {},
     "output_type": "execute_result"
    }
   ],
   "source": [
    "# To call a Row \n",
    "#Method 1, Based on index\n",
    "WD.iloc[0]"
   ]
  },
  {
   "cell_type": "code",
   "execution_count": 36,
   "id": "986f77ae",
   "metadata": {},
   "outputs": [
    {
     "data": {
      "text/plain": [
       "Pine       25\n",
       "Oak        30\n",
       "Arbutus    50\n",
       "Cedar      75\n",
       "Elm        32\n",
       "Name: Canada, dtype: int64"
      ]
     },
     "execution_count": 36,
     "metadata": {},
     "output_type": "execute_result"
    }
   ],
   "source": [
    "# Method 2, Based on the label\n",
    "WD.loc['Canada']"
   ]
  },
  {
   "cell_type": "code",
   "execution_count": 37,
   "id": "d3a7832c",
   "metadata": {},
   "outputs": [
    {
     "data": {
      "text/plain": [
       "25"
      ]
     },
     "execution_count": 37,
     "metadata": {},
     "output_type": "execute_result"
    }
   ],
   "source": [
    "WD.loc['Brezil','Arbutus']"
   ]
  },
  {
   "cell_type": "code",
   "execution_count": 38,
   "id": "df4cf56b",
   "metadata": {},
   "outputs": [
    {
     "data": {
      "text/html": [
       "<div>\n",
       "<style scoped>\n",
       "    .dataframe tbody tr th:only-of-type {\n",
       "        vertical-align: middle;\n",
       "    }\n",
       "\n",
       "    .dataframe tbody tr th {\n",
       "        vertical-align: top;\n",
       "    }\n",
       "\n",
       "    .dataframe thead th {\n",
       "        text-align: right;\n",
       "    }\n",
       "</style>\n",
       "<table border=\"1\" class=\"dataframe\">\n",
       "  <thead>\n",
       "    <tr style=\"text-align: right;\">\n",
       "      <th></th>\n",
       "      <th>Arbutus</th>\n",
       "    </tr>\n",
       "  </thead>\n",
       "  <tbody>\n",
       "    <tr>\n",
       "      <th>Brezil</th>\n",
       "      <td>25</td>\n",
       "    </tr>\n",
       "    <tr>\n",
       "      <th>Mexico</th>\n",
       "      <td>14</td>\n",
       "    </tr>\n",
       "  </tbody>\n",
       "</table>\n",
       "</div>"
      ],
      "text/plain": [
       "        Arbutus\n",
       "Brezil       25\n",
       "Mexico       14"
      ]
     },
     "execution_count": 38,
     "metadata": {},
     "output_type": "execute_result"
    }
   ],
   "source": [
    "WD.loc[['Brezil','Mexico'],['Arbutus']]"
   ]
  },
  {
   "cell_type": "code",
   "execution_count": 39,
   "id": "73d58ae2",
   "metadata": {},
   "outputs": [
    {
     "data": {
      "text/html": [
       "<div>\n",
       "<style scoped>\n",
       "    .dataframe tbody tr th:only-of-type {\n",
       "        vertical-align: middle;\n",
       "    }\n",
       "\n",
       "    .dataframe tbody tr th {\n",
       "        vertical-align: top;\n",
       "    }\n",
       "\n",
       "    .dataframe thead th {\n",
       "        text-align: right;\n",
       "    }\n",
       "</style>\n",
       "<table border=\"1\" class=\"dataframe\">\n",
       "  <thead>\n",
       "    <tr style=\"text-align: right;\">\n",
       "      <th></th>\n",
       "      <th>Arbutus</th>\n",
       "      <th>Elm</th>\n",
       "    </tr>\n",
       "  </thead>\n",
       "  <tbody>\n",
       "    <tr>\n",
       "      <th>Brezil</th>\n",
       "      <td>25</td>\n",
       "      <td>74</td>\n",
       "    </tr>\n",
       "    <tr>\n",
       "      <th>Mexico</th>\n",
       "      <td>14</td>\n",
       "      <td>2</td>\n",
       "    </tr>\n",
       "  </tbody>\n",
       "</table>\n",
       "</div>"
      ],
      "text/plain": [
       "        Arbutus  Elm\n",
       "Brezil       25   74\n",
       "Mexico       14    2"
      ]
     },
     "execution_count": 39,
     "metadata": {},
     "output_type": "execute_result"
    }
   ],
   "source": [
    "WD.loc[['Brezil','Mexico'],['Arbutus','Elm']]"
   ]
  },
  {
   "cell_type": "markdown",
   "id": "0bf36d15",
   "metadata": {},
   "source": [
    "# Conditional Selection"
   ]
  },
  {
   "cell_type": "code",
   "execution_count": 40,
   "id": "a923a691",
   "metadata": {},
   "outputs": [
    {
     "data": {
      "text/html": [
       "<div>\n",
       "<style scoped>\n",
       "    .dataframe tbody tr th:only-of-type {\n",
       "        vertical-align: middle;\n",
       "    }\n",
       "\n",
       "    .dataframe tbody tr th {\n",
       "        vertical-align: top;\n",
       "    }\n",
       "\n",
       "    .dataframe thead th {\n",
       "        text-align: right;\n",
       "    }\n",
       "</style>\n",
       "<table border=\"1\" class=\"dataframe\">\n",
       "  <thead>\n",
       "    <tr style=\"text-align: right;\">\n",
       "      <th></th>\n",
       "      <th>Pine</th>\n",
       "      <th>Oak</th>\n",
       "      <th>Arbutus</th>\n",
       "      <th>Cedar</th>\n",
       "      <th>Elm</th>\n",
       "    </tr>\n",
       "  </thead>\n",
       "  <tbody>\n",
       "    <tr>\n",
       "      <th>Canada</th>\n",
       "      <td>True</td>\n",
       "      <td>True</td>\n",
       "      <td>True</td>\n",
       "      <td>True</td>\n",
       "      <td>True</td>\n",
       "    </tr>\n",
       "    <tr>\n",
       "      <th>USA</th>\n",
       "      <td>False</td>\n",
       "      <td>False</td>\n",
       "      <td>False</td>\n",
       "      <td>False</td>\n",
       "      <td>False</td>\n",
       "    </tr>\n",
       "    <tr>\n",
       "      <th>Brezil</th>\n",
       "      <td>False</td>\n",
       "      <td>True</td>\n",
       "      <td>True</td>\n",
       "      <td>False</td>\n",
       "      <td>True</td>\n",
       "    </tr>\n",
       "    <tr>\n",
       "      <th>Mexico</th>\n",
       "      <td>True</td>\n",
       "      <td>True</td>\n",
       "      <td>False</td>\n",
       "      <td>False</td>\n",
       "      <td>False</td>\n",
       "    </tr>\n",
       "  </tbody>\n",
       "</table>\n",
       "</div>"
      ],
      "text/plain": [
       "         Pine    Oak  Arbutus  Cedar    Elm\n",
       "Canada   True   True     True   True   True\n",
       "USA     False  False    False  False  False\n",
       "Brezil  False   True     True  False   True\n",
       "Mexico   True   True    False  False  False"
      ]
     },
     "execution_count": 40,
     "metadata": {},
     "output_type": "execute_result"
    }
   ],
   "source": [
    "WD>20"
   ]
  },
  {
   "cell_type": "code",
   "execution_count": 41,
   "id": "c6c8f97f",
   "metadata": {},
   "outputs": [],
   "source": [
    "WD20=WD[WD>20]"
   ]
  },
  {
   "cell_type": "code",
   "execution_count": 42,
   "id": "55fe88ad",
   "metadata": {},
   "outputs": [
    {
     "data": {
      "text/html": [
       "<div>\n",
       "<style scoped>\n",
       "    .dataframe tbody tr th:only-of-type {\n",
       "        vertical-align: middle;\n",
       "    }\n",
       "\n",
       "    .dataframe tbody tr th {\n",
       "        vertical-align: top;\n",
       "    }\n",
       "\n",
       "    .dataframe thead th {\n",
       "        text-align: right;\n",
       "    }\n",
       "</style>\n",
       "<table border=\"1\" class=\"dataframe\">\n",
       "  <thead>\n",
       "    <tr style=\"text-align: right;\">\n",
       "      <th></th>\n",
       "      <th>Pine</th>\n",
       "      <th>Oak</th>\n",
       "      <th>Arbutus</th>\n",
       "      <th>Cedar</th>\n",
       "      <th>Elm</th>\n",
       "    </tr>\n",
       "  </thead>\n",
       "  <tbody>\n",
       "    <tr>\n",
       "      <th>Canada</th>\n",
       "      <td>25.0</td>\n",
       "      <td>30.0</td>\n",
       "      <td>50.0</td>\n",
       "      <td>75.0</td>\n",
       "      <td>32.0</td>\n",
       "    </tr>\n",
       "    <tr>\n",
       "      <th>USA</th>\n",
       "      <td>NaN</td>\n",
       "      <td>NaN</td>\n",
       "      <td>NaN</td>\n",
       "      <td>NaN</td>\n",
       "      <td>NaN</td>\n",
       "    </tr>\n",
       "    <tr>\n",
       "      <th>Brezil</th>\n",
       "      <td>NaN</td>\n",
       "      <td>42.0</td>\n",
       "      <td>25.0</td>\n",
       "      <td>NaN</td>\n",
       "      <td>74.0</td>\n",
       "    </tr>\n",
       "    <tr>\n",
       "      <th>Mexico</th>\n",
       "      <td>33.0</td>\n",
       "      <td>82.0</td>\n",
       "      <td>NaN</td>\n",
       "      <td>NaN</td>\n",
       "      <td>NaN</td>\n",
       "    </tr>\n",
       "  </tbody>\n",
       "</table>\n",
       "</div>"
      ],
      "text/plain": [
       "        Pine   Oak  Arbutus  Cedar   Elm\n",
       "Canada  25.0  30.0     50.0   75.0  32.0\n",
       "USA      NaN   NaN      NaN    NaN   NaN\n",
       "Brezil   NaN  42.0     25.0    NaN  74.0\n",
       "Mexico  33.0  82.0      NaN    NaN   NaN"
      ]
     },
     "execution_count": 42,
     "metadata": {},
     "output_type": "execute_result"
    }
   ],
   "source": [
    "WD20"
   ]
  },
  {
   "cell_type": "code",
   "execution_count": 43,
   "id": "bcecf1c8",
   "metadata": {},
   "outputs": [
    {
     "data": {
      "text/html": [
       "<div>\n",
       "<style scoped>\n",
       "    .dataframe tbody tr th:only-of-type {\n",
       "        vertical-align: middle;\n",
       "    }\n",
       "\n",
       "    .dataframe tbody tr th {\n",
       "        vertical-align: top;\n",
       "    }\n",
       "\n",
       "    .dataframe thead th {\n",
       "        text-align: right;\n",
       "    }\n",
       "</style>\n",
       "<table border=\"1\" class=\"dataframe\">\n",
       "  <thead>\n",
       "    <tr style=\"text-align: right;\">\n",
       "      <th></th>\n",
       "      <th>Pine</th>\n",
       "      <th>Oak</th>\n",
       "      <th>Arbutus</th>\n",
       "      <th>Cedar</th>\n",
       "      <th>Elm</th>\n",
       "    </tr>\n",
       "  </thead>\n",
       "  <tbody>\n",
       "    <tr>\n",
       "      <th>Canada</th>\n",
       "      <td>25</td>\n",
       "      <td>30</td>\n",
       "      <td>50</td>\n",
       "      <td>75</td>\n",
       "      <td>32</td>\n",
       "    </tr>\n",
       "    <tr>\n",
       "      <th>Mexico</th>\n",
       "      <td>33</td>\n",
       "      <td>82</td>\n",
       "      <td>14</td>\n",
       "      <td>7</td>\n",
       "      <td>2</td>\n",
       "    </tr>\n",
       "  </tbody>\n",
       "</table>\n",
       "</div>"
      ],
      "text/plain": [
       "        Pine  Oak  Arbutus  Cedar  Elm\n",
       "Canada    25   30       50     75   32\n",
       "Mexico    33   82       14      7    2"
      ]
     },
     "execution_count": 43,
     "metadata": {},
     "output_type": "execute_result"
    }
   ],
   "source": [
    "WD[WD['Pine']>20]"
   ]
  },
  {
   "cell_type": "code",
   "execution_count": 44,
   "id": "2e1b6773",
   "metadata": {},
   "outputs": [
    {
     "data": {
      "text/html": [
       "<div>\n",
       "<style scoped>\n",
       "    .dataframe tbody tr th:only-of-type {\n",
       "        vertical-align: middle;\n",
       "    }\n",
       "\n",
       "    .dataframe tbody tr th {\n",
       "        vertical-align: top;\n",
       "    }\n",
       "\n",
       "    .dataframe thead th {\n",
       "        text-align: right;\n",
       "    }\n",
       "</style>\n",
       "<table border=\"1\" class=\"dataframe\">\n",
       "  <thead>\n",
       "    <tr style=\"text-align: right;\">\n",
       "      <th></th>\n",
       "      <th>Pine</th>\n",
       "      <th>Oak</th>\n",
       "      <th>Arbutus</th>\n",
       "      <th>Cedar</th>\n",
       "      <th>Elm</th>\n",
       "    </tr>\n",
       "  </thead>\n",
       "  <tbody>\n",
       "    <tr>\n",
       "      <th>Mexico</th>\n",
       "      <td>33</td>\n",
       "      <td>82</td>\n",
       "      <td>14</td>\n",
       "      <td>7</td>\n",
       "      <td>2</td>\n",
       "    </tr>\n",
       "  </tbody>\n",
       "</table>\n",
       "</div>"
      ],
      "text/plain": [
       "        Pine  Oak  Arbutus  Cedar  Elm\n",
       "Mexico    33   82       14      7    2"
      ]
     },
     "execution_count": 44,
     "metadata": {},
     "output_type": "execute_result"
    }
   ],
   "source": [
    "# 'and' operation\n",
    "WD[(WD['Pine']>20) & (WD['Elm']<10)]"
   ]
  },
  {
   "cell_type": "code",
   "execution_count": 45,
   "id": "1e89c112",
   "metadata": {},
   "outputs": [
    {
     "data": {
      "text/html": [
       "<div>\n",
       "<style scoped>\n",
       "    .dataframe tbody tr th:only-of-type {\n",
       "        vertical-align: middle;\n",
       "    }\n",
       "\n",
       "    .dataframe tbody tr th {\n",
       "        vertical-align: top;\n",
       "    }\n",
       "\n",
       "    .dataframe thead th {\n",
       "        text-align: right;\n",
       "    }\n",
       "</style>\n",
       "<table border=\"1\" class=\"dataframe\">\n",
       "  <thead>\n",
       "    <tr style=\"text-align: right;\">\n",
       "      <th></th>\n",
       "      <th>Pine</th>\n",
       "      <th>Oak</th>\n",
       "      <th>Arbutus</th>\n",
       "      <th>Cedar</th>\n",
       "      <th>Elm</th>\n",
       "    </tr>\n",
       "  </thead>\n",
       "  <tbody>\n",
       "    <tr>\n",
       "      <th>Canada</th>\n",
       "      <td>25</td>\n",
       "      <td>30</td>\n",
       "      <td>50</td>\n",
       "      <td>75</td>\n",
       "      <td>32</td>\n",
       "    </tr>\n",
       "    <tr>\n",
       "      <th>Mexico</th>\n",
       "      <td>33</td>\n",
       "      <td>82</td>\n",
       "      <td>14</td>\n",
       "      <td>7</td>\n",
       "      <td>2</td>\n",
       "    </tr>\n",
       "  </tbody>\n",
       "</table>\n",
       "</div>"
      ],
      "text/plain": [
       "        Pine  Oak  Arbutus  Cedar  Elm\n",
       "Canada    25   30       50     75   32\n",
       "Mexico    33   82       14      7    2"
      ]
     },
     "execution_count": 45,
     "metadata": {},
     "output_type": "execute_result"
    }
   ],
   "source": [
    "# 'or' operation\n",
    "WD[(WD['Pine']>20) | (WD['Elm']<10)]"
   ]
  },
  {
   "cell_type": "code",
   "execution_count": 46,
   "id": "ea12c0a7",
   "metadata": {},
   "outputs": [
    {
     "data": {
      "text/html": [
       "<div>\n",
       "<style scoped>\n",
       "    .dataframe tbody tr th:only-of-type {\n",
       "        vertical-align: middle;\n",
       "    }\n",
       "\n",
       "    .dataframe tbody tr th {\n",
       "        vertical-align: top;\n",
       "    }\n",
       "\n",
       "    .dataframe thead th {\n",
       "        text-align: right;\n",
       "    }\n",
       "</style>\n",
       "<table border=\"1\" class=\"dataframe\">\n",
       "  <thead>\n",
       "    <tr style=\"text-align: right;\">\n",
       "      <th></th>\n",
       "      <th>Pine</th>\n",
       "      <th>Oak</th>\n",
       "    </tr>\n",
       "  </thead>\n",
       "  <tbody>\n",
       "    <tr>\n",
       "      <th>Canada</th>\n",
       "      <td>25</td>\n",
       "      <td>30</td>\n",
       "    </tr>\n",
       "    <tr>\n",
       "      <th>USA</th>\n",
       "      <td>20</td>\n",
       "      <td>11</td>\n",
       "    </tr>\n",
       "    <tr>\n",
       "      <th>Brezil</th>\n",
       "      <td>8</td>\n",
       "      <td>42</td>\n",
       "    </tr>\n",
       "  </tbody>\n",
       "</table>\n",
       "</div>"
      ],
      "text/plain": [
       "        Pine  Oak\n",
       "Canada    25   30\n",
       "USA       20   11\n",
       "Brezil     8   42"
      ]
     },
     "execution_count": 46,
     "metadata": {},
     "output_type": "execute_result"
    }
   ],
   "source": [
    "# You can write this in multiple lines if it make it easier for you! \n",
    "WD[WD['Elm']>10][['Pine','Oak']]"
   ]
  },
  {
   "cell_type": "markdown",
   "id": "a486ae45",
   "metadata": {},
   "source": [
    "# Convert Back DataFrame to Array"
   ]
  },
  {
   "cell_type": "code",
   "execution_count": 47,
   "id": "c16bf608",
   "metadata": {},
   "outputs": [],
   "source": [
    "WD_Arr=WD.to_numpy()"
   ]
  },
  {
   "cell_type": "code",
   "execution_count": 48,
   "id": "dce5e121",
   "metadata": {},
   "outputs": [
    {
     "data": {
      "text/html": [
       "<div>\n",
       "<style scoped>\n",
       "    .dataframe tbody tr th:only-of-type {\n",
       "        vertical-align: middle;\n",
       "    }\n",
       "\n",
       "    .dataframe tbody tr th {\n",
       "        vertical-align: top;\n",
       "    }\n",
       "\n",
       "    .dataframe thead th {\n",
       "        text-align: right;\n",
       "    }\n",
       "</style>\n",
       "<table border=\"1\" class=\"dataframe\">\n",
       "  <thead>\n",
       "    <tr style=\"text-align: right;\">\n",
       "      <th></th>\n",
       "      <th>Pine</th>\n",
       "      <th>Oak</th>\n",
       "      <th>Arbutus</th>\n",
       "      <th>Cedar</th>\n",
       "      <th>Elm</th>\n",
       "    </tr>\n",
       "  </thead>\n",
       "  <tbody>\n",
       "    <tr>\n",
       "      <th>Canada</th>\n",
       "      <td>25</td>\n",
       "      <td>30</td>\n",
       "      <td>50</td>\n",
       "      <td>75</td>\n",
       "      <td>32</td>\n",
       "    </tr>\n",
       "    <tr>\n",
       "      <th>USA</th>\n",
       "      <td>20</td>\n",
       "      <td>11</td>\n",
       "      <td>17</td>\n",
       "      <td>19</td>\n",
       "      <td>19</td>\n",
       "    </tr>\n",
       "    <tr>\n",
       "      <th>Brezil</th>\n",
       "      <td>8</td>\n",
       "      <td>42</td>\n",
       "      <td>25</td>\n",
       "      <td>9</td>\n",
       "      <td>74</td>\n",
       "    </tr>\n",
       "    <tr>\n",
       "      <th>Mexico</th>\n",
       "      <td>33</td>\n",
       "      <td>82</td>\n",
       "      <td>14</td>\n",
       "      <td>7</td>\n",
       "      <td>2</td>\n",
       "    </tr>\n",
       "  </tbody>\n",
       "</table>\n",
       "</div>"
      ],
      "text/plain": [
       "        Pine  Oak  Arbutus  Cedar  Elm\n",
       "Canada    25   30       50     75   32\n",
       "USA       20   11       17     19   19\n",
       "Brezil     8   42       25      9   74\n",
       "Mexico    33   82       14      7    2"
      ]
     },
     "execution_count": 48,
     "metadata": {},
     "output_type": "execute_result"
    }
   ],
   "source": [
    "WD"
   ]
  },
  {
   "cell_type": "code",
   "execution_count": 49,
   "id": "f80d76fa",
   "metadata": {},
   "outputs": [
    {
     "data": {
      "text/plain": [
       "array([[25, 30, 50, 75, 32],\n",
       "       [20, 11, 17, 19, 19],\n",
       "       [ 8, 42, 25,  9, 74],\n",
       "       [33, 82, 14,  7,  2]], dtype=int64)"
      ]
     },
     "execution_count": 49,
     "metadata": {},
     "output_type": "execute_result"
    }
   ],
   "source": [
    "WD_Arr"
   ]
  },
  {
   "cell_type": "markdown",
   "id": "869ca54d",
   "metadata": {},
   "source": [
    "# Missing Data\n",
    "<font color='blue'> We will learn more on this in \"Data Preprocessing\" Lecture."
   ]
  },
  {
   "cell_type": "code",
   "execution_count": 50,
   "id": "c87411de",
   "metadata": {},
   "outputs": [],
   "source": [
    "SomeData=[[25,30,np.nan,75,32],[np.nan,11,17,19,19],[8,42,25,9,74],[33,82,14,7,np.nan]]"
   ]
  },
  {
   "cell_type": "code",
   "execution_count": 51,
   "id": "e83a05eb",
   "metadata": {},
   "outputs": [],
   "source": [
    "Data=pd.DataFrame(SomeData, ['Canada','USA','Brezil','Mexico'],['Pine','Oak','Arbutus','Cedar','Elm'])"
   ]
  },
  {
   "cell_type": "code",
   "execution_count": 52,
   "id": "13ee6d56",
   "metadata": {},
   "outputs": [
    {
     "data": {
      "text/html": [
       "<div>\n",
       "<style scoped>\n",
       "    .dataframe tbody tr th:only-of-type {\n",
       "        vertical-align: middle;\n",
       "    }\n",
       "\n",
       "    .dataframe tbody tr th {\n",
       "        vertical-align: top;\n",
       "    }\n",
       "\n",
       "    .dataframe thead th {\n",
       "        text-align: right;\n",
       "    }\n",
       "</style>\n",
       "<table border=\"1\" class=\"dataframe\">\n",
       "  <thead>\n",
       "    <tr style=\"text-align: right;\">\n",
       "      <th></th>\n",
       "      <th>Pine</th>\n",
       "      <th>Oak</th>\n",
       "      <th>Arbutus</th>\n",
       "      <th>Cedar</th>\n",
       "      <th>Elm</th>\n",
       "    </tr>\n",
       "  </thead>\n",
       "  <tbody>\n",
       "    <tr>\n",
       "      <th>Canada</th>\n",
       "      <td>25.0</td>\n",
       "      <td>30</td>\n",
       "      <td>NaN</td>\n",
       "      <td>75</td>\n",
       "      <td>32.0</td>\n",
       "    </tr>\n",
       "    <tr>\n",
       "      <th>USA</th>\n",
       "      <td>NaN</td>\n",
       "      <td>11</td>\n",
       "      <td>17.0</td>\n",
       "      <td>19</td>\n",
       "      <td>19.0</td>\n",
       "    </tr>\n",
       "    <tr>\n",
       "      <th>Brezil</th>\n",
       "      <td>8.0</td>\n",
       "      <td>42</td>\n",
       "      <td>25.0</td>\n",
       "      <td>9</td>\n",
       "      <td>74.0</td>\n",
       "    </tr>\n",
       "    <tr>\n",
       "      <th>Mexico</th>\n",
       "      <td>33.0</td>\n",
       "      <td>82</td>\n",
       "      <td>14.0</td>\n",
       "      <td>7</td>\n",
       "      <td>NaN</td>\n",
       "    </tr>\n",
       "  </tbody>\n",
       "</table>\n",
       "</div>"
      ],
      "text/plain": [
       "        Pine  Oak  Arbutus  Cedar   Elm\n",
       "Canada  25.0   30      NaN     75  32.0\n",
       "USA      NaN   11     17.0     19  19.0\n",
       "Brezil   8.0   42     25.0      9  74.0\n",
       "Mexico  33.0   82     14.0      7   NaN"
      ]
     },
     "execution_count": 52,
     "metadata": {},
     "output_type": "execute_result"
    }
   ],
   "source": [
    "# As you can see below, some of the data are shown as 'NaN'\n",
    "Data"
   ]
  },
  {
   "cell_type": "markdown",
   "id": "1e76c6ee",
   "metadata": {},
   "source": [
    "## Method 1, Drop all rows or columns containing the NaN value"
   ]
  },
  {
   "cell_type": "code",
   "execution_count": 53,
   "id": "2dbdb4b2",
   "metadata": {},
   "outputs": [
    {
     "data": {
      "text/html": [
       "<div>\n",
       "<style scoped>\n",
       "    .dataframe tbody tr th:only-of-type {\n",
       "        vertical-align: middle;\n",
       "    }\n",
       "\n",
       "    .dataframe tbody tr th {\n",
       "        vertical-align: top;\n",
       "    }\n",
       "\n",
       "    .dataframe thead th {\n",
       "        text-align: right;\n",
       "    }\n",
       "</style>\n",
       "<table border=\"1\" class=\"dataframe\">\n",
       "  <thead>\n",
       "    <tr style=\"text-align: right;\">\n",
       "      <th></th>\n",
       "      <th>Pine</th>\n",
       "      <th>Oak</th>\n",
       "      <th>Arbutus</th>\n",
       "      <th>Cedar</th>\n",
       "      <th>Elm</th>\n",
       "    </tr>\n",
       "  </thead>\n",
       "  <tbody>\n",
       "    <tr>\n",
       "      <th>Brezil</th>\n",
       "      <td>8.0</td>\n",
       "      <td>42</td>\n",
       "      <td>25.0</td>\n",
       "      <td>9</td>\n",
       "      <td>74.0</td>\n",
       "    </tr>\n",
       "  </tbody>\n",
       "</table>\n",
       "</div>"
      ],
      "text/plain": [
       "        Pine  Oak  Arbutus  Cedar   Elm\n",
       "Brezil   8.0   42     25.0      9  74.0"
      ]
     },
     "execution_count": 53,
     "metadata": {},
     "output_type": "execute_result"
    }
   ],
   "source": [
    "Data.dropna() # it drops any row contains NaN"
   ]
  },
  {
   "cell_type": "code",
   "execution_count": 54,
   "id": "1843cf6f",
   "metadata": {},
   "outputs": [
    {
     "data": {
      "text/html": [
       "<div>\n",
       "<style scoped>\n",
       "    .dataframe tbody tr th:only-of-type {\n",
       "        vertical-align: middle;\n",
       "    }\n",
       "\n",
       "    .dataframe tbody tr th {\n",
       "        vertical-align: top;\n",
       "    }\n",
       "\n",
       "    .dataframe thead th {\n",
       "        text-align: right;\n",
       "    }\n",
       "</style>\n",
       "<table border=\"1\" class=\"dataframe\">\n",
       "  <thead>\n",
       "    <tr style=\"text-align: right;\">\n",
       "      <th></th>\n",
       "      <th>Oak</th>\n",
       "      <th>Cedar</th>\n",
       "    </tr>\n",
       "  </thead>\n",
       "  <tbody>\n",
       "    <tr>\n",
       "      <th>Canada</th>\n",
       "      <td>30</td>\n",
       "      <td>75</td>\n",
       "    </tr>\n",
       "    <tr>\n",
       "      <th>USA</th>\n",
       "      <td>11</td>\n",
       "      <td>19</td>\n",
       "    </tr>\n",
       "    <tr>\n",
       "      <th>Brezil</th>\n",
       "      <td>42</td>\n",
       "      <td>9</td>\n",
       "    </tr>\n",
       "    <tr>\n",
       "      <th>Mexico</th>\n",
       "      <td>82</td>\n",
       "      <td>7</td>\n",
       "    </tr>\n",
       "  </tbody>\n",
       "</table>\n",
       "</div>"
      ],
      "text/plain": [
       "        Oak  Cedar\n",
       "Canada   30     75\n",
       "USA      11     19\n",
       "Brezil   42      9\n",
       "Mexico   82      7"
      ]
     },
     "execution_count": 54,
     "metadata": {},
     "output_type": "execute_result"
    }
   ],
   "source": [
    "Data.dropna(axis=1) # it drops any column contains NaN"
   ]
  },
  {
   "cell_type": "markdown",
   "id": "9e07fdb1",
   "metadata": {},
   "source": [
    "## Method 2, Replace the Nan with a certain value or string"
   ]
  },
  {
   "cell_type": "code",
   "execution_count": 55,
   "id": "4c0ffdef",
   "metadata": {},
   "outputs": [
    {
     "data": {
      "text/html": [
       "<div>\n",
       "<style scoped>\n",
       "    .dataframe tbody tr th:only-of-type {\n",
       "        vertical-align: middle;\n",
       "    }\n",
       "\n",
       "    .dataframe tbody tr th {\n",
       "        vertical-align: top;\n",
       "    }\n",
       "\n",
       "    .dataframe thead th {\n",
       "        text-align: right;\n",
       "    }\n",
       "</style>\n",
       "<table border=\"1\" class=\"dataframe\">\n",
       "  <thead>\n",
       "    <tr style=\"text-align: right;\">\n",
       "      <th></th>\n",
       "      <th>Pine</th>\n",
       "      <th>Oak</th>\n",
       "      <th>Arbutus</th>\n",
       "      <th>Cedar</th>\n",
       "      <th>Elm</th>\n",
       "    </tr>\n",
       "  </thead>\n",
       "  <tbody>\n",
       "    <tr>\n",
       "      <th>Canada</th>\n",
       "      <td>25.0</td>\n",
       "      <td>30</td>\n",
       "      <td>100.0</td>\n",
       "      <td>75</td>\n",
       "      <td>32.0</td>\n",
       "    </tr>\n",
       "    <tr>\n",
       "      <th>USA</th>\n",
       "      <td>100.0</td>\n",
       "      <td>11</td>\n",
       "      <td>17.0</td>\n",
       "      <td>19</td>\n",
       "      <td>19.0</td>\n",
       "    </tr>\n",
       "    <tr>\n",
       "      <th>Brezil</th>\n",
       "      <td>8.0</td>\n",
       "      <td>42</td>\n",
       "      <td>25.0</td>\n",
       "      <td>9</td>\n",
       "      <td>74.0</td>\n",
       "    </tr>\n",
       "    <tr>\n",
       "      <th>Mexico</th>\n",
       "      <td>33.0</td>\n",
       "      <td>82</td>\n",
       "      <td>14.0</td>\n",
       "      <td>7</td>\n",
       "      <td>100.0</td>\n",
       "    </tr>\n",
       "  </tbody>\n",
       "</table>\n",
       "</div>"
      ],
      "text/plain": [
       "         Pine  Oak  Arbutus  Cedar    Elm\n",
       "Canada   25.0   30    100.0     75   32.0\n",
       "USA     100.0   11     17.0     19   19.0\n",
       "Brezil    8.0   42     25.0      9   74.0\n",
       "Mexico   33.0   82     14.0      7  100.0"
      ]
     },
     "execution_count": 55,
     "metadata": {},
     "output_type": "execute_result"
    }
   ],
   "source": [
    "Data.fillna(100)"
   ]
  },
  {
   "cell_type": "markdown",
   "id": "d059f7a0",
   "metadata": {},
   "source": [
    "## Method 3, Replace the Nan with a mean of that column"
   ]
  },
  {
   "cell_type": "code",
   "execution_count": 56,
   "id": "57b8be82",
   "metadata": {},
   "outputs": [],
   "source": [
    "Data['Pine'].fillna(value=Data['Pine'].mean(), inplace=True) # Note: \"inplace=True\" permanently replaces the missing value"
   ]
  },
  {
   "cell_type": "code",
   "execution_count": 57,
   "id": "4b9e5016",
   "metadata": {},
   "outputs": [
    {
     "data": {
      "text/plain": [
       "22.0"
      ]
     },
     "execution_count": 57,
     "metadata": {},
     "output_type": "execute_result"
    }
   ],
   "source": [
    "# We can quickly double check and find out the Mean of \"Pine\" column. Then Notice, in the new dataset below\n",
    "(25+8+33)/3"
   ]
  },
  {
   "cell_type": "code",
   "execution_count": 58,
   "id": "afd40a74",
   "metadata": {},
   "outputs": [
    {
     "data": {
      "text/html": [
       "<div>\n",
       "<style scoped>\n",
       "    .dataframe tbody tr th:only-of-type {\n",
       "        vertical-align: middle;\n",
       "    }\n",
       "\n",
       "    .dataframe tbody tr th {\n",
       "        vertical-align: top;\n",
       "    }\n",
       "\n",
       "    .dataframe thead th {\n",
       "        text-align: right;\n",
       "    }\n",
       "</style>\n",
       "<table border=\"1\" class=\"dataframe\">\n",
       "  <thead>\n",
       "    <tr style=\"text-align: right;\">\n",
       "      <th></th>\n",
       "      <th>Pine</th>\n",
       "      <th>Oak</th>\n",
       "      <th>Arbutus</th>\n",
       "      <th>Cedar</th>\n",
       "      <th>Elm</th>\n",
       "    </tr>\n",
       "  </thead>\n",
       "  <tbody>\n",
       "    <tr>\n",
       "      <th>Canada</th>\n",
       "      <td>25.0</td>\n",
       "      <td>30</td>\n",
       "      <td>NaN</td>\n",
       "      <td>75</td>\n",
       "      <td>32.0</td>\n",
       "    </tr>\n",
       "    <tr>\n",
       "      <th>USA</th>\n",
       "      <td>22.0</td>\n",
       "      <td>11</td>\n",
       "      <td>17.0</td>\n",
       "      <td>19</td>\n",
       "      <td>19.0</td>\n",
       "    </tr>\n",
       "    <tr>\n",
       "      <th>Brezil</th>\n",
       "      <td>8.0</td>\n",
       "      <td>42</td>\n",
       "      <td>25.0</td>\n",
       "      <td>9</td>\n",
       "      <td>74.0</td>\n",
       "    </tr>\n",
       "    <tr>\n",
       "      <th>Mexico</th>\n",
       "      <td>33.0</td>\n",
       "      <td>82</td>\n",
       "      <td>14.0</td>\n",
       "      <td>7</td>\n",
       "      <td>NaN</td>\n",
       "    </tr>\n",
       "  </tbody>\n",
       "</table>\n",
       "</div>"
      ],
      "text/plain": [
       "        Pine  Oak  Arbutus  Cedar   Elm\n",
       "Canada  25.0   30      NaN     75  32.0\n",
       "USA     22.0   11     17.0     19  19.0\n",
       "Brezil   8.0   42     25.0      9  74.0\n",
       "Mexico  33.0   82     14.0      7   NaN"
      ]
     },
     "execution_count": 58,
     "metadata": {},
     "output_type": "execute_result"
    }
   ],
   "source": [
    "Data"
   ]
  },
  {
   "cell_type": "markdown",
   "id": "c8f82d9c",
   "metadata": {},
   "source": [
    "# A Quick Check of Dataset Basic Statistics"
   ]
  },
  {
   "cell_type": "code",
   "execution_count": 59,
   "id": "791b168f",
   "metadata": {},
   "outputs": [
    {
     "data": {
      "text/html": [
       "<div>\n",
       "<style scoped>\n",
       "    .dataframe tbody tr th:only-of-type {\n",
       "        vertical-align: middle;\n",
       "    }\n",
       "\n",
       "    .dataframe tbody tr th {\n",
       "        vertical-align: top;\n",
       "    }\n",
       "\n",
       "    .dataframe thead th {\n",
       "        text-align: right;\n",
       "    }\n",
       "</style>\n",
       "<table border=\"1\" class=\"dataframe\">\n",
       "  <thead>\n",
       "    <tr style=\"text-align: right;\">\n",
       "      <th></th>\n",
       "      <th>Pine</th>\n",
       "      <th>Oak</th>\n",
       "      <th>Arbutus</th>\n",
       "      <th>Cedar</th>\n",
       "      <th>Elm</th>\n",
       "    </tr>\n",
       "  </thead>\n",
       "  <tbody>\n",
       "    <tr>\n",
       "      <th>count</th>\n",
       "      <td>4.000000</td>\n",
       "      <td>4.000000</td>\n",
       "      <td>3.000000</td>\n",
       "      <td>4.000000</td>\n",
       "      <td>3.000000</td>\n",
       "    </tr>\n",
       "    <tr>\n",
       "      <th>mean</th>\n",
       "      <td>22.000000</td>\n",
       "      <td>41.250000</td>\n",
       "      <td>18.666667</td>\n",
       "      <td>27.500000</td>\n",
       "      <td>41.666667</td>\n",
       "    </tr>\n",
       "    <tr>\n",
       "      <th>std</th>\n",
       "      <td>10.424331</td>\n",
       "      <td>30.015274</td>\n",
       "      <td>5.686241</td>\n",
       "      <td>32.098806</td>\n",
       "      <td>28.746014</td>\n",
       "    </tr>\n",
       "    <tr>\n",
       "      <th>min</th>\n",
       "      <td>8.000000</td>\n",
       "      <td>11.000000</td>\n",
       "      <td>14.000000</td>\n",
       "      <td>7.000000</td>\n",
       "      <td>19.000000</td>\n",
       "    </tr>\n",
       "    <tr>\n",
       "      <th>25%</th>\n",
       "      <td>18.500000</td>\n",
       "      <td>25.250000</td>\n",
       "      <td>15.500000</td>\n",
       "      <td>8.500000</td>\n",
       "      <td>25.500000</td>\n",
       "    </tr>\n",
       "    <tr>\n",
       "      <th>50%</th>\n",
       "      <td>23.500000</td>\n",
       "      <td>36.000000</td>\n",
       "      <td>17.000000</td>\n",
       "      <td>14.000000</td>\n",
       "      <td>32.000000</td>\n",
       "    </tr>\n",
       "    <tr>\n",
       "      <th>75%</th>\n",
       "      <td>27.000000</td>\n",
       "      <td>52.000000</td>\n",
       "      <td>21.000000</td>\n",
       "      <td>33.000000</td>\n",
       "      <td>53.000000</td>\n",
       "    </tr>\n",
       "    <tr>\n",
       "      <th>max</th>\n",
       "      <td>33.000000</td>\n",
       "      <td>82.000000</td>\n",
       "      <td>25.000000</td>\n",
       "      <td>75.000000</td>\n",
       "      <td>74.000000</td>\n",
       "    </tr>\n",
       "  </tbody>\n",
       "</table>\n",
       "</div>"
      ],
      "text/plain": [
       "            Pine        Oak    Arbutus      Cedar        Elm\n",
       "count   4.000000   4.000000   3.000000   4.000000   3.000000\n",
       "mean   22.000000  41.250000  18.666667  27.500000  41.666667\n",
       "std    10.424331  30.015274   5.686241  32.098806  28.746014\n",
       "min     8.000000  11.000000  14.000000   7.000000  19.000000\n",
       "25%    18.500000  25.250000  15.500000   8.500000  25.500000\n",
       "50%    23.500000  36.000000  17.000000  14.000000  32.000000\n",
       "75%    27.000000  52.000000  21.000000  33.000000  53.000000\n",
       "max    33.000000  82.000000  25.000000  75.000000  74.000000"
      ]
     },
     "execution_count": 59,
     "metadata": {},
     "output_type": "execute_result"
    }
   ],
   "source": [
    "Data.describe()"
   ]
  },
  {
   "cell_type": "markdown",
   "id": "204f8c23",
   "metadata": {},
   "source": [
    "# Concatenation\n",
    "Combining Two Different Data Frames"
   ]
  },
  {
   "cell_type": "code",
   "execution_count": 60,
   "id": "9c725e63",
   "metadata": {},
   "outputs": [
    {
     "data": {
      "text/html": [
       "<div>\n",
       "<style scoped>\n",
       "    .dataframe tbody tr th:only-of-type {\n",
       "        vertical-align: middle;\n",
       "    }\n",
       "\n",
       "    .dataframe tbody tr th {\n",
       "        vertical-align: top;\n",
       "    }\n",
       "\n",
       "    .dataframe thead th {\n",
       "        text-align: right;\n",
       "    }\n",
       "</style>\n",
       "<table border=\"1\" class=\"dataframe\">\n",
       "  <thead>\n",
       "    <tr style=\"text-align: right;\">\n",
       "      <th></th>\n",
       "      <th>Pine</th>\n",
       "      <th>Oak</th>\n",
       "      <th>Arbutus</th>\n",
       "      <th>Cedar</th>\n",
       "      <th>Elm</th>\n",
       "    </tr>\n",
       "  </thead>\n",
       "  <tbody>\n",
       "    <tr>\n",
       "      <th>Japan</th>\n",
       "      <td>7</td>\n",
       "      <td>8</td>\n",
       "      <td>10</td>\n",
       "      <td>15</td>\n",
       "      <td>17</td>\n",
       "    </tr>\n",
       "    <tr>\n",
       "      <th>China</th>\n",
       "      <td>9</td>\n",
       "      <td>24</td>\n",
       "      <td>11</td>\n",
       "      <td>13</td>\n",
       "      <td>13</td>\n",
       "    </tr>\n",
       "  </tbody>\n",
       "</table>\n",
       "</div>"
      ],
      "text/plain": [
       "       Pine  Oak  Arbutus  Cedar  Elm\n",
       "Japan     7    8       10     15   17\n",
       "China     9   24       11     13   13"
      ]
     },
     "execution_count": 60,
     "metadata": {},
     "output_type": "execute_result"
    }
   ],
   "source": [
    "# Let's create a second dataset\n",
    "BunchofData=[[7,8,10,15,17],[9,24,11,13,13]]\n",
    "WD2=pd.DataFrame(BunchofData, ['Japan','China'],['Pine','Oak','Arbutus','Cedar','Elm'])\n",
    "WD2"
   ]
  },
  {
   "cell_type": "code",
   "execution_count": 61,
   "id": "3f763439",
   "metadata": {},
   "outputs": [],
   "source": [
    "New_WD=pd.concat([WD,WD2])"
   ]
  },
  {
   "cell_type": "code",
   "execution_count": 62,
   "id": "8a4fb192",
   "metadata": {},
   "outputs": [
    {
     "data": {
      "text/html": [
       "<div>\n",
       "<style scoped>\n",
       "    .dataframe tbody tr th:only-of-type {\n",
       "        vertical-align: middle;\n",
       "    }\n",
       "\n",
       "    .dataframe tbody tr th {\n",
       "        vertical-align: top;\n",
       "    }\n",
       "\n",
       "    .dataframe thead th {\n",
       "        text-align: right;\n",
       "    }\n",
       "</style>\n",
       "<table border=\"1\" class=\"dataframe\">\n",
       "  <thead>\n",
       "    <tr style=\"text-align: right;\">\n",
       "      <th></th>\n",
       "      <th>Pine</th>\n",
       "      <th>Oak</th>\n",
       "      <th>Arbutus</th>\n",
       "      <th>Cedar</th>\n",
       "      <th>Elm</th>\n",
       "    </tr>\n",
       "  </thead>\n",
       "  <tbody>\n",
       "    <tr>\n",
       "      <th>Canada</th>\n",
       "      <td>25</td>\n",
       "      <td>30</td>\n",
       "      <td>50</td>\n",
       "      <td>75</td>\n",
       "      <td>32</td>\n",
       "    </tr>\n",
       "    <tr>\n",
       "      <th>USA</th>\n",
       "      <td>20</td>\n",
       "      <td>11</td>\n",
       "      <td>17</td>\n",
       "      <td>19</td>\n",
       "      <td>19</td>\n",
       "    </tr>\n",
       "    <tr>\n",
       "      <th>Brezil</th>\n",
       "      <td>8</td>\n",
       "      <td>42</td>\n",
       "      <td>25</td>\n",
       "      <td>9</td>\n",
       "      <td>74</td>\n",
       "    </tr>\n",
       "    <tr>\n",
       "      <th>Mexico</th>\n",
       "      <td>33</td>\n",
       "      <td>82</td>\n",
       "      <td>14</td>\n",
       "      <td>7</td>\n",
       "      <td>2</td>\n",
       "    </tr>\n",
       "    <tr>\n",
       "      <th>Japan</th>\n",
       "      <td>7</td>\n",
       "      <td>8</td>\n",
       "      <td>10</td>\n",
       "      <td>15</td>\n",
       "      <td>17</td>\n",
       "    </tr>\n",
       "    <tr>\n",
       "      <th>China</th>\n",
       "      <td>9</td>\n",
       "      <td>24</td>\n",
       "      <td>11</td>\n",
       "      <td>13</td>\n",
       "      <td>13</td>\n",
       "    </tr>\n",
       "  </tbody>\n",
       "</table>\n",
       "</div>"
      ],
      "text/plain": [
       "        Pine  Oak  Arbutus  Cedar  Elm\n",
       "Canada    25   30       50     75   32\n",
       "USA       20   11       17     19   19\n",
       "Brezil     8   42       25      9   74\n",
       "Mexico    33   82       14      7    2\n",
       "Japan      7    8       10     15   17\n",
       "China      9   24       11     13   13"
      ]
     },
     "execution_count": 62,
     "metadata": {},
     "output_type": "execute_result"
    }
   ],
   "source": [
    "New_WD"
   ]
  },
  {
   "cell_type": "markdown",
   "id": "a5d36a7e",
   "metadata": {},
   "source": [
    "# Saving a DataFrame as CSV Output"
   ]
  },
  {
   "cell_type": "code",
   "execution_count": 63,
   "id": "0eb2e29d",
   "metadata": {},
   "outputs": [],
   "source": [
    "New_WD.to_csv('Files\\WoodDensity.csv')"
   ]
  },
  {
   "cell_type": "code",
   "execution_count": 64,
   "id": "ef48cc72",
   "metadata": {},
   "outputs": [
    {
     "data": {
      "text/html": [
       "<div>\n",
       "<style scoped>\n",
       "    .dataframe tbody tr th:only-of-type {\n",
       "        vertical-align: middle;\n",
       "    }\n",
       "\n",
       "    .dataframe tbody tr th {\n",
       "        vertical-align: top;\n",
       "    }\n",
       "\n",
       "    .dataframe thead th {\n",
       "        text-align: right;\n",
       "    }\n",
       "</style>\n",
       "<table border=\"1\" class=\"dataframe\">\n",
       "  <thead>\n",
       "    <tr style=\"text-align: right;\">\n",
       "      <th></th>\n",
       "      <th>Larch</th>\n",
       "      <th>Spruce</th>\n",
       "    </tr>\n",
       "  </thead>\n",
       "  <tbody>\n",
       "    <tr>\n",
       "      <th>Canada</th>\n",
       "      <td>11</td>\n",
       "      <td>17</td>\n",
       "    </tr>\n",
       "    <tr>\n",
       "      <th>USA</th>\n",
       "      <td>19</td>\n",
       "      <td>21</td>\n",
       "    </tr>\n",
       "    <tr>\n",
       "      <th>Brezil</th>\n",
       "      <td>32</td>\n",
       "      <td>14</td>\n",
       "    </tr>\n",
       "    <tr>\n",
       "      <th>Mexico</th>\n",
       "      <td>18</td>\n",
       "      <td>19</td>\n",
       "    </tr>\n",
       "    <tr>\n",
       "      <th>Japan</th>\n",
       "      <td>2</td>\n",
       "      <td>1</td>\n",
       "    </tr>\n",
       "    <tr>\n",
       "      <th>China</th>\n",
       "      <td>25</td>\n",
       "      <td>22</td>\n",
       "    </tr>\n",
       "  </tbody>\n",
       "</table>\n",
       "</div>"
      ],
      "text/plain": [
       "        Larch  Spruce\n",
       "Canada     11      17\n",
       "USA        19      21\n",
       "Brezil     32      14\n",
       "Mexico     18      19\n",
       "Japan       2       1\n",
       "China      25      22"
      ]
     },
     "execution_count": 64,
     "metadata": {},
     "output_type": "execute_result"
    }
   ],
   "source": [
    "# Or is you need to add comumns\n",
    "# Let's create another DataFrame\n",
    "OtherData=[[11,17],[19,21],[32,14],[18,19],[2,1],[25,22]]\n",
    "WD3=pd.DataFrame(OtherData, ['Canada','USA','Brezil','Mexico','Japan','China'],['Larch','Spruce'])\n",
    "WD3"
   ]
  },
  {
   "cell_type": "code",
   "execution_count": 65,
   "id": "6988683a",
   "metadata": {},
   "outputs": [],
   "source": [
    "New_WD2=pd.concat([New_WD,WD3],axis=1)"
   ]
  },
  {
   "cell_type": "code",
   "execution_count": 66,
   "id": "8b729d35",
   "metadata": {},
   "outputs": [
    {
     "data": {
      "text/html": [
       "<div>\n",
       "<style scoped>\n",
       "    .dataframe tbody tr th:only-of-type {\n",
       "        vertical-align: middle;\n",
       "    }\n",
       "\n",
       "    .dataframe tbody tr th {\n",
       "        vertical-align: top;\n",
       "    }\n",
       "\n",
       "    .dataframe thead th {\n",
       "        text-align: right;\n",
       "    }\n",
       "</style>\n",
       "<table border=\"1\" class=\"dataframe\">\n",
       "  <thead>\n",
       "    <tr style=\"text-align: right;\">\n",
       "      <th></th>\n",
       "      <th>Pine</th>\n",
       "      <th>Oak</th>\n",
       "      <th>Arbutus</th>\n",
       "      <th>Cedar</th>\n",
       "      <th>Elm</th>\n",
       "      <th>Larch</th>\n",
       "      <th>Spruce</th>\n",
       "    </tr>\n",
       "  </thead>\n",
       "  <tbody>\n",
       "    <tr>\n",
       "      <th>Canada</th>\n",
       "      <td>25</td>\n",
       "      <td>30</td>\n",
       "      <td>50</td>\n",
       "      <td>75</td>\n",
       "      <td>32</td>\n",
       "      <td>11</td>\n",
       "      <td>17</td>\n",
       "    </tr>\n",
       "    <tr>\n",
       "      <th>USA</th>\n",
       "      <td>20</td>\n",
       "      <td>11</td>\n",
       "      <td>17</td>\n",
       "      <td>19</td>\n",
       "      <td>19</td>\n",
       "      <td>19</td>\n",
       "      <td>21</td>\n",
       "    </tr>\n",
       "    <tr>\n",
       "      <th>Brezil</th>\n",
       "      <td>8</td>\n",
       "      <td>42</td>\n",
       "      <td>25</td>\n",
       "      <td>9</td>\n",
       "      <td>74</td>\n",
       "      <td>32</td>\n",
       "      <td>14</td>\n",
       "    </tr>\n",
       "    <tr>\n",
       "      <th>Mexico</th>\n",
       "      <td>33</td>\n",
       "      <td>82</td>\n",
       "      <td>14</td>\n",
       "      <td>7</td>\n",
       "      <td>2</td>\n",
       "      <td>18</td>\n",
       "      <td>19</td>\n",
       "    </tr>\n",
       "    <tr>\n",
       "      <th>Japan</th>\n",
       "      <td>7</td>\n",
       "      <td>8</td>\n",
       "      <td>10</td>\n",
       "      <td>15</td>\n",
       "      <td>17</td>\n",
       "      <td>2</td>\n",
       "      <td>1</td>\n",
       "    </tr>\n",
       "    <tr>\n",
       "      <th>China</th>\n",
       "      <td>9</td>\n",
       "      <td>24</td>\n",
       "      <td>11</td>\n",
       "      <td>13</td>\n",
       "      <td>13</td>\n",
       "      <td>25</td>\n",
       "      <td>22</td>\n",
       "    </tr>\n",
       "  </tbody>\n",
       "</table>\n",
       "</div>"
      ],
      "text/plain": [
       "        Pine  Oak  Arbutus  Cedar  Elm  Larch  Spruce\n",
       "Canada    25   30       50     75   32     11      17\n",
       "USA       20   11       17     19   19     19      21\n",
       "Brezil     8   42       25      9   74     32      14\n",
       "Mexico    33   82       14      7    2     18      19\n",
       "Japan      7    8       10     15   17      2       1\n",
       "China      9   24       11     13   13     25      22"
      ]
     },
     "execution_count": 66,
     "metadata": {},
     "output_type": "execute_result"
    }
   ],
   "source": [
    "New_WD2"
   ]
  },
  {
   "cell_type": "code",
   "execution_count": 67,
   "id": "b01291f3",
   "metadata": {},
   "outputs": [],
   "source": [
    "# Let's add a categorical column to the Data\n",
    "New_WD2['Condition']=['Good','Good','Good','Bad','Bad','Good']"
   ]
  },
  {
   "cell_type": "code",
   "execution_count": 68,
   "id": "42b17d4a",
   "metadata": {},
   "outputs": [
    {
     "data": {
      "text/html": [
       "<div>\n",
       "<style scoped>\n",
       "    .dataframe tbody tr th:only-of-type {\n",
       "        vertical-align: middle;\n",
       "    }\n",
       "\n",
       "    .dataframe tbody tr th {\n",
       "        vertical-align: top;\n",
       "    }\n",
       "\n",
       "    .dataframe thead th {\n",
       "        text-align: right;\n",
       "    }\n",
       "</style>\n",
       "<table border=\"1\" class=\"dataframe\">\n",
       "  <thead>\n",
       "    <tr style=\"text-align: right;\">\n",
       "      <th></th>\n",
       "      <th>Pine</th>\n",
       "      <th>Oak</th>\n",
       "      <th>Arbutus</th>\n",
       "      <th>Cedar</th>\n",
       "      <th>Elm</th>\n",
       "      <th>Larch</th>\n",
       "      <th>Spruce</th>\n",
       "      <th>Condition</th>\n",
       "    </tr>\n",
       "  </thead>\n",
       "  <tbody>\n",
       "    <tr>\n",
       "      <th>Canada</th>\n",
       "      <td>25</td>\n",
       "      <td>30</td>\n",
       "      <td>50</td>\n",
       "      <td>75</td>\n",
       "      <td>32</td>\n",
       "      <td>11</td>\n",
       "      <td>17</td>\n",
       "      <td>Good</td>\n",
       "    </tr>\n",
       "    <tr>\n",
       "      <th>USA</th>\n",
       "      <td>20</td>\n",
       "      <td>11</td>\n",
       "      <td>17</td>\n",
       "      <td>19</td>\n",
       "      <td>19</td>\n",
       "      <td>19</td>\n",
       "      <td>21</td>\n",
       "      <td>Good</td>\n",
       "    </tr>\n",
       "    <tr>\n",
       "      <th>Brezil</th>\n",
       "      <td>8</td>\n",
       "      <td>42</td>\n",
       "      <td>25</td>\n",
       "      <td>9</td>\n",
       "      <td>74</td>\n",
       "      <td>32</td>\n",
       "      <td>14</td>\n",
       "      <td>Good</td>\n",
       "    </tr>\n",
       "    <tr>\n",
       "      <th>Mexico</th>\n",
       "      <td>33</td>\n",
       "      <td>82</td>\n",
       "      <td>14</td>\n",
       "      <td>7</td>\n",
       "      <td>2</td>\n",
       "      <td>18</td>\n",
       "      <td>19</td>\n",
       "      <td>Bad</td>\n",
       "    </tr>\n",
       "    <tr>\n",
       "      <th>Japan</th>\n",
       "      <td>7</td>\n",
       "      <td>8</td>\n",
       "      <td>10</td>\n",
       "      <td>15</td>\n",
       "      <td>17</td>\n",
       "      <td>2</td>\n",
       "      <td>1</td>\n",
       "      <td>Bad</td>\n",
       "    </tr>\n",
       "    <tr>\n",
       "      <th>China</th>\n",
       "      <td>9</td>\n",
       "      <td>24</td>\n",
       "      <td>11</td>\n",
       "      <td>13</td>\n",
       "      <td>13</td>\n",
       "      <td>25</td>\n",
       "      <td>22</td>\n",
       "      <td>Good</td>\n",
       "    </tr>\n",
       "  </tbody>\n",
       "</table>\n",
       "</div>"
      ],
      "text/plain": [
       "        Pine  Oak  Arbutus  Cedar  Elm  Larch  Spruce Condition\n",
       "Canada    25   30       50     75   32     11      17      Good\n",
       "USA       20   11       17     19   19     19      21      Good\n",
       "Brezil     8   42       25      9   74     32      14      Good\n",
       "Mexico    33   82       14      7    2     18      19       Bad\n",
       "Japan      7    8       10     15   17      2       1       Bad\n",
       "China      9   24       11     13   13     25      22      Good"
      ]
     },
     "execution_count": 68,
     "metadata": {},
     "output_type": "execute_result"
    }
   ],
   "source": [
    "New_WD2"
   ]
  },
  {
   "cell_type": "markdown",
   "id": "8c194ad3",
   "metadata": {},
   "source": [
    "# Operations"
   ]
  },
  {
   "cell_type": "markdown",
   "id": "9910de25",
   "metadata": {},
   "source": [
    "## Applying a Function to DataFrame"
   ]
  },
  {
   "cell_type": "code",
   "execution_count": 69,
   "id": "eb2b621f",
   "metadata": {},
   "outputs": [
    {
     "data": {
      "text/plain": [
       "17.0"
      ]
     },
     "execution_count": 69,
     "metadata": {},
     "output_type": "execute_result"
    }
   ],
   "source": [
    "New_WD2['Pine'].mean()"
   ]
  },
  {
   "cell_type": "code",
   "execution_count": 70,
   "id": "fd655f6a",
   "metadata": {},
   "outputs": [],
   "source": [
    "# Let's create a function of our own\n",
    "def f(x):\n",
    "    return 1.2*x"
   ]
  },
  {
   "cell_type": "code",
   "execution_count": 71,
   "id": "0dc86746",
   "metadata": {},
   "outputs": [
    {
     "data": {
      "text/plain": [
       "Canada    30.0\n",
       "USA       24.0\n",
       "Brezil     9.6\n",
       "Mexico    39.6\n",
       "Japan      8.4\n",
       "China     10.8\n",
       "Name: Pine, dtype: float64"
      ]
     },
     "execution_count": 71,
     "metadata": {},
     "output_type": "execute_result"
    }
   ],
   "source": [
    "New_WD2['Pine'].apply(f)"
   ]
  },
  {
   "cell_type": "markdown",
   "id": "f378dddf",
   "metadata": {},
   "source": [
    "## Using Lambda"
   ]
  },
  {
   "cell_type": "code",
   "execution_count": 72,
   "id": "ac36307a",
   "metadata": {},
   "outputs": [
    {
     "data": {
      "text/plain": [
       "Canada    30.0\n",
       "USA       24.0\n",
       "Brezil     9.6\n",
       "Mexico    39.6\n",
       "Japan      8.4\n",
       "China     10.8\n",
       "Name: Pine, dtype: float64"
      ]
     },
     "execution_count": 72,
     "metadata": {},
     "output_type": "execute_result"
    }
   ],
   "source": [
    "# Do it all together using Lambda\n",
    "New_WD2['Pine'].apply(lambda x:1.2*x)"
   ]
  },
  {
   "cell_type": "code",
   "execution_count": 73,
   "id": "5a63c732",
   "metadata": {},
   "outputs": [
    {
     "data": {
      "text/html": [
       "<div>\n",
       "<style scoped>\n",
       "    .dataframe tbody tr th:only-of-type {\n",
       "        vertical-align: middle;\n",
       "    }\n",
       "\n",
       "    .dataframe tbody tr th {\n",
       "        vertical-align: top;\n",
       "    }\n",
       "\n",
       "    .dataframe thead th {\n",
       "        text-align: right;\n",
       "    }\n",
       "</style>\n",
       "<table border=\"1\" class=\"dataframe\">\n",
       "  <thead>\n",
       "    <tr style=\"text-align: right;\">\n",
       "      <th></th>\n",
       "      <th>Pine</th>\n",
       "      <th>Oak</th>\n",
       "      <th>Arbutus</th>\n",
       "      <th>Cedar</th>\n",
       "      <th>Elm</th>\n",
       "      <th>Larch</th>\n",
       "      <th>Spruce</th>\n",
       "      <th>Condition</th>\n",
       "    </tr>\n",
       "  </thead>\n",
       "  <tbody>\n",
       "    <tr>\n",
       "      <th>Japan</th>\n",
       "      <td>7</td>\n",
       "      <td>8</td>\n",
       "      <td>10</td>\n",
       "      <td>15</td>\n",
       "      <td>17</td>\n",
       "      <td>2</td>\n",
       "      <td>1</td>\n",
       "      <td>Bad</td>\n",
       "    </tr>\n",
       "    <tr>\n",
       "      <th>Brezil</th>\n",
       "      <td>8</td>\n",
       "      <td>42</td>\n",
       "      <td>25</td>\n",
       "      <td>9</td>\n",
       "      <td>74</td>\n",
       "      <td>32</td>\n",
       "      <td>14</td>\n",
       "      <td>Good</td>\n",
       "    </tr>\n",
       "    <tr>\n",
       "      <th>China</th>\n",
       "      <td>9</td>\n",
       "      <td>24</td>\n",
       "      <td>11</td>\n",
       "      <td>13</td>\n",
       "      <td>13</td>\n",
       "      <td>25</td>\n",
       "      <td>22</td>\n",
       "      <td>Good</td>\n",
       "    </tr>\n",
       "    <tr>\n",
       "      <th>USA</th>\n",
       "      <td>20</td>\n",
       "      <td>11</td>\n",
       "      <td>17</td>\n",
       "      <td>19</td>\n",
       "      <td>19</td>\n",
       "      <td>19</td>\n",
       "      <td>21</td>\n",
       "      <td>Good</td>\n",
       "    </tr>\n",
       "    <tr>\n",
       "      <th>Canada</th>\n",
       "      <td>25</td>\n",
       "      <td>30</td>\n",
       "      <td>50</td>\n",
       "      <td>75</td>\n",
       "      <td>32</td>\n",
       "      <td>11</td>\n",
       "      <td>17</td>\n",
       "      <td>Good</td>\n",
       "    </tr>\n",
       "    <tr>\n",
       "      <th>Mexico</th>\n",
       "      <td>33</td>\n",
       "      <td>82</td>\n",
       "      <td>14</td>\n",
       "      <td>7</td>\n",
       "      <td>2</td>\n",
       "      <td>18</td>\n",
       "      <td>19</td>\n",
       "      <td>Bad</td>\n",
       "    </tr>\n",
       "  </tbody>\n",
       "</table>\n",
       "</div>"
      ],
      "text/plain": [
       "        Pine  Oak  Arbutus  Cedar  Elm  Larch  Spruce Condition\n",
       "Japan      7    8       10     15   17      2       1       Bad\n",
       "Brezil     8   42       25      9   74     32      14      Good\n",
       "China      9   24       11     13   13     25      22      Good\n",
       "USA       20   11       17     19   19     19      21      Good\n",
       "Canada    25   30       50     75   32     11      17      Good\n",
       "Mexico    33   82       14      7    2     18      19       Bad"
      ]
     },
     "execution_count": 73,
     "metadata": {},
     "output_type": "execute_result"
    }
   ],
   "source": [
    "# We can do sorting\n",
    "New_WD2.sort_values('Pine')"
   ]
  },
  {
   "cell_type": "markdown",
   "id": "f258a767",
   "metadata": {},
   "source": [
    "# Import Dataset (CSV, Excel, Txt)\n",
    "\n",
    "<img src='Files\\csvImport.jpg' width=600 height=500/></a>"
   ]
  },
  {
   "cell_type": "markdown",
   "id": "a6e800c2",
   "metadata": {},
   "source": [
    "# Import Your Data\n",
    "<font color='red'> Use Tab to see differnt format you can read, after you type pd.read_"
   ]
  },
  {
   "cell_type": "markdown",
   "id": "65e0a850",
   "metadata": {},
   "source": [
    "## Import CSV"
   ]
  },
  {
   "cell_type": "code",
   "execution_count": 74,
   "id": "a6595a6e",
   "metadata": {},
   "outputs": [],
   "source": [
    "MyData=pd.read_csv('Files\\WoodInfo.csv')"
   ]
  },
  {
   "cell_type": "code",
   "execution_count": 75,
   "id": "3b80a6c8",
   "metadata": {},
   "outputs": [
    {
     "data": {
      "text/html": [
       "<div>\n",
       "<style scoped>\n",
       "    .dataframe tbody tr th:only-of-type {\n",
       "        vertical-align: middle;\n",
       "    }\n",
       "\n",
       "    .dataframe tbody tr th {\n",
       "        vertical-align: top;\n",
       "    }\n",
       "\n",
       "    .dataframe thead th {\n",
       "        text-align: right;\n",
       "    }\n",
       "</style>\n",
       "<table border=\"1\" class=\"dataframe\">\n",
       "  <thead>\n",
       "    <tr style=\"text-align: right;\">\n",
       "      <th></th>\n",
       "      <th>Unnamed: 0</th>\n",
       "      <th>Pine</th>\n",
       "      <th>Oak</th>\n",
       "      <th>Arbutus</th>\n",
       "      <th>Cedar</th>\n",
       "      <th>Elm</th>\n",
       "    </tr>\n",
       "  </thead>\n",
       "  <tbody>\n",
       "    <tr>\n",
       "      <th>0</th>\n",
       "      <td>Canada</td>\n",
       "      <td>25</td>\n",
       "      <td>30</td>\n",
       "      <td>50</td>\n",
       "      <td>75</td>\n",
       "      <td>32</td>\n",
       "    </tr>\n",
       "    <tr>\n",
       "      <th>1</th>\n",
       "      <td>USA</td>\n",
       "      <td>20</td>\n",
       "      <td>11</td>\n",
       "      <td>17</td>\n",
       "      <td>19</td>\n",
       "      <td>19</td>\n",
       "    </tr>\n",
       "    <tr>\n",
       "      <th>2</th>\n",
       "      <td>Brezil</td>\n",
       "      <td>8</td>\n",
       "      <td>42</td>\n",
       "      <td>25</td>\n",
       "      <td>9</td>\n",
       "      <td>74</td>\n",
       "    </tr>\n",
       "    <tr>\n",
       "      <th>3</th>\n",
       "      <td>Mexico</td>\n",
       "      <td>33</td>\n",
       "      <td>82</td>\n",
       "      <td>14</td>\n",
       "      <td>7</td>\n",
       "      <td>2</td>\n",
       "    </tr>\n",
       "  </tbody>\n",
       "</table>\n",
       "</div>"
      ],
      "text/plain": [
       "  Unnamed: 0  Pine  Oak  Arbutus  Cedar  Elm\n",
       "0     Canada    25   30       50     75   32\n",
       "1        USA    20   11       17     19   19\n",
       "2     Brezil     8   42       25      9   74\n",
       "3     Mexico    33   82       14      7    2"
      ]
     },
     "execution_count": 75,
     "metadata": {},
     "output_type": "execute_result"
    }
   ],
   "source": [
    "MyData"
   ]
  },
  {
   "cell_type": "markdown",
   "id": "2c161cae",
   "metadata": {},
   "source": [
    "## Import Excel"
   ]
  },
  {
   "cell_type": "code",
   "execution_count": 76,
   "id": "fc7bc72e",
   "metadata": {},
   "outputs": [
    {
     "data": {
      "text/html": [
       "<div>\n",
       "<style scoped>\n",
       "    .dataframe tbody tr th:only-of-type {\n",
       "        vertical-align: middle;\n",
       "    }\n",
       "\n",
       "    .dataframe tbody tr th {\n",
       "        vertical-align: top;\n",
       "    }\n",
       "\n",
       "    .dataframe thead th {\n",
       "        text-align: right;\n",
       "    }\n",
       "</style>\n",
       "<table border=\"1\" class=\"dataframe\">\n",
       "  <thead>\n",
       "    <tr style=\"text-align: right;\">\n",
       "      <th></th>\n",
       "      <th>Unnamed: 0</th>\n",
       "      <th>Pine</th>\n",
       "      <th>Oak</th>\n",
       "      <th>Arbutus</th>\n",
       "      <th>Cedar</th>\n",
       "      <th>Elm</th>\n",
       "    </tr>\n",
       "  </thead>\n",
       "  <tbody>\n",
       "    <tr>\n",
       "      <th>0</th>\n",
       "      <td>Canada</td>\n",
       "      <td>25</td>\n",
       "      <td>30</td>\n",
       "      <td>50</td>\n",
       "      <td>75</td>\n",
       "      <td>32</td>\n",
       "    </tr>\n",
       "    <tr>\n",
       "      <th>1</th>\n",
       "      <td>USA</td>\n",
       "      <td>20</td>\n",
       "      <td>11</td>\n",
       "      <td>17</td>\n",
       "      <td>19</td>\n",
       "      <td>19</td>\n",
       "    </tr>\n",
       "    <tr>\n",
       "      <th>2</th>\n",
       "      <td>Brezil</td>\n",
       "      <td>8</td>\n",
       "      <td>42</td>\n",
       "      <td>25</td>\n",
       "      <td>9</td>\n",
       "      <td>74</td>\n",
       "    </tr>\n",
       "    <tr>\n",
       "      <th>3</th>\n",
       "      <td>Mexico</td>\n",
       "      <td>33</td>\n",
       "      <td>82</td>\n",
       "      <td>14</td>\n",
       "      <td>7</td>\n",
       "      <td>2</td>\n",
       "    </tr>\n",
       "  </tbody>\n",
       "</table>\n",
       "</div>"
      ],
      "text/plain": [
       "  Unnamed: 0  Pine  Oak  Arbutus  Cedar  Elm\n",
       "0     Canada    25   30       50     75   32\n",
       "1        USA    20   11       17     19   19\n",
       "2     Brezil     8   42       25      9   74\n",
       "3     Mexico    33   82       14      7    2"
      ]
     },
     "execution_count": 76,
     "metadata": {},
     "output_type": "execute_result"
    }
   ],
   "source": [
    "pd.read_excel('Files\\WoodInfo.xlsx')\n",
    "\n",
    "# \n",
    "#Note: It is rare, but in case, you could not read Excel files, that might be \n",
    "#because the Library has not been installed; simply go to your Anaconda \n",
    "#Prompt, and insatll this:\n",
    "#conda install xlrd"
   ]
  },
  {
   "cell_type": "markdown",
   "id": "04bc8f27",
   "metadata": {},
   "source": [
    "## Excel File with Multiple Sheets"
   ]
  },
  {
   "cell_type": "code",
   "execution_count": 77,
   "id": "ba9a9418",
   "metadata": {},
   "outputs": [],
   "source": [
    "W1=pd.read_excel('Files\\WoodInfoTwo.xlsx', sheet_name='Sheet1')\n",
    "W2=pd.read_excel('Files\\WoodInfoTwo.xlsx', sheet_name='Sheet2')"
   ]
  },
  {
   "cell_type": "code",
   "execution_count": 78,
   "id": "9071a87f",
   "metadata": {},
   "outputs": [
    {
     "data": {
      "text/html": [
       "<div>\n",
       "<style scoped>\n",
       "    .dataframe tbody tr th:only-of-type {\n",
       "        vertical-align: middle;\n",
       "    }\n",
       "\n",
       "    .dataframe tbody tr th {\n",
       "        vertical-align: top;\n",
       "    }\n",
       "\n",
       "    .dataframe thead th {\n",
       "        text-align: right;\n",
       "    }\n",
       "</style>\n",
       "<table border=\"1\" class=\"dataframe\">\n",
       "  <thead>\n",
       "    <tr style=\"text-align: right;\">\n",
       "      <th></th>\n",
       "      <th>Unnamed: 0</th>\n",
       "      <th>Pine</th>\n",
       "      <th>Oak</th>\n",
       "      <th>Arbutus</th>\n",
       "      <th>Cedar</th>\n",
       "      <th>Elm</th>\n",
       "    </tr>\n",
       "  </thead>\n",
       "  <tbody>\n",
       "    <tr>\n",
       "      <th>0</th>\n",
       "      <td>Canada</td>\n",
       "      <td>25</td>\n",
       "      <td>30</td>\n",
       "      <td>50</td>\n",
       "      <td>75</td>\n",
       "      <td>32</td>\n",
       "    </tr>\n",
       "    <tr>\n",
       "      <th>1</th>\n",
       "      <td>USA</td>\n",
       "      <td>20</td>\n",
       "      <td>11</td>\n",
       "      <td>17</td>\n",
       "      <td>19</td>\n",
       "      <td>19</td>\n",
       "    </tr>\n",
       "    <tr>\n",
       "      <th>2</th>\n",
       "      <td>Brezil</td>\n",
       "      <td>8</td>\n",
       "      <td>42</td>\n",
       "      <td>25</td>\n",
       "      <td>9</td>\n",
       "      <td>74</td>\n",
       "    </tr>\n",
       "    <tr>\n",
       "      <th>3</th>\n",
       "      <td>Mexico</td>\n",
       "      <td>33</td>\n",
       "      <td>82</td>\n",
       "      <td>14</td>\n",
       "      <td>7</td>\n",
       "      <td>2</td>\n",
       "    </tr>\n",
       "  </tbody>\n",
       "</table>\n",
       "</div>"
      ],
      "text/plain": [
       "  Unnamed: 0  Pine  Oak  Arbutus  Cedar  Elm\n",
       "0     Canada    25   30       50     75   32\n",
       "1        USA    20   11       17     19   19\n",
       "2     Brezil     8   42       25      9   74\n",
       "3     Mexico    33   82       14      7    2"
      ]
     },
     "execution_count": 78,
     "metadata": {},
     "output_type": "execute_result"
    }
   ],
   "source": [
    "W1"
   ]
  },
  {
   "cell_type": "code",
   "execution_count": 79,
   "id": "0d43cbef",
   "metadata": {},
   "outputs": [
    {
     "data": {
      "text/html": [
       "<div>\n",
       "<style scoped>\n",
       "    .dataframe tbody tr th:only-of-type {\n",
       "        vertical-align: middle;\n",
       "    }\n",
       "\n",
       "    .dataframe tbody tr th {\n",
       "        vertical-align: top;\n",
       "    }\n",
       "\n",
       "    .dataframe thead th {\n",
       "        text-align: right;\n",
       "    }\n",
       "</style>\n",
       "<table border=\"1\" class=\"dataframe\">\n",
       "  <thead>\n",
       "    <tr style=\"text-align: right;\">\n",
       "      <th></th>\n",
       "      <th>Unnamed: 0</th>\n",
       "      <th>Pine</th>\n",
       "      <th>Oak</th>\n",
       "      <th>Arbutus</th>\n",
       "      <th>Cedar</th>\n",
       "      <th>Elm</th>\n",
       "    </tr>\n",
       "  </thead>\n",
       "  <tbody>\n",
       "    <tr>\n",
       "      <th>0</th>\n",
       "      <td>Japan</td>\n",
       "      <td>11</td>\n",
       "      <td>14</td>\n",
       "      <td>32</td>\n",
       "      <td>32</td>\n",
       "      <td>43</td>\n",
       "    </tr>\n",
       "    <tr>\n",
       "      <th>1</th>\n",
       "      <td>China</td>\n",
       "      <td>15</td>\n",
       "      <td>11</td>\n",
       "      <td>17</td>\n",
       "      <td>19</td>\n",
       "      <td>19</td>\n",
       "    </tr>\n",
       "    <tr>\n",
       "      <th>2</th>\n",
       "      <td>Germany</td>\n",
       "      <td>18</td>\n",
       "      <td>18</td>\n",
       "      <td>25</td>\n",
       "      <td>17</td>\n",
       "      <td>25</td>\n",
       "    </tr>\n",
       "    <tr>\n",
       "      <th>3</th>\n",
       "      <td>Italy</td>\n",
       "      <td>25</td>\n",
       "      <td>19</td>\n",
       "      <td>19</td>\n",
       "      <td>11</td>\n",
       "      <td>12</td>\n",
       "    </tr>\n",
       "  </tbody>\n",
       "</table>\n",
       "</div>"
      ],
      "text/plain": [
       "  Unnamed: 0  Pine  Oak  Arbutus  Cedar  Elm\n",
       "0      Japan    11   14       32     32   43\n",
       "1      China    15   11       17     19   19\n",
       "2    Germany    18   18       25     17   25\n",
       "3      Italy    25   19       19     11   12"
      ]
     },
     "execution_count": 79,
     "metadata": {},
     "output_type": "execute_result"
    }
   ],
   "source": [
    "W2"
   ]
  },
  {
   "cell_type": "markdown",
   "id": "74bab697",
   "metadata": {},
   "source": [
    "# Export Your Data"
   ]
  },
  {
   "cell_type": "code",
   "execution_count": 80,
   "id": "d22b9cc9",
   "metadata": {},
   "outputs": [
    {
     "data": {
      "text/html": [
       "<div>\n",
       "<style scoped>\n",
       "    .dataframe tbody tr th:only-of-type {\n",
       "        vertical-align: middle;\n",
       "    }\n",
       "\n",
       "    .dataframe tbody tr th {\n",
       "        vertical-align: top;\n",
       "    }\n",
       "\n",
       "    .dataframe thead th {\n",
       "        text-align: right;\n",
       "    }\n",
       "</style>\n",
       "<table border=\"1\" class=\"dataframe\">\n",
       "  <thead>\n",
       "    <tr style=\"text-align: right;\">\n",
       "      <th></th>\n",
       "      <th>Pine</th>\n",
       "      <th>Oak</th>\n",
       "      <th>Arbutus</th>\n",
       "      <th>Cedar</th>\n",
       "      <th>Elm</th>\n",
       "    </tr>\n",
       "  </thead>\n",
       "  <tbody>\n",
       "    <tr>\n",
       "      <th>Canada</th>\n",
       "      <td>25</td>\n",
       "      <td>30</td>\n",
       "      <td>50</td>\n",
       "      <td>75</td>\n",
       "      <td>32</td>\n",
       "    </tr>\n",
       "    <tr>\n",
       "      <th>USA</th>\n",
       "      <td>20</td>\n",
       "      <td>11</td>\n",
       "      <td>17</td>\n",
       "      <td>19</td>\n",
       "      <td>19</td>\n",
       "    </tr>\n",
       "    <tr>\n",
       "      <th>Brezil</th>\n",
       "      <td>8</td>\n",
       "      <td>42</td>\n",
       "      <td>25</td>\n",
       "      <td>9</td>\n",
       "      <td>74</td>\n",
       "    </tr>\n",
       "    <tr>\n",
       "      <th>Mexico</th>\n",
       "      <td>33</td>\n",
       "      <td>82</td>\n",
       "      <td>14</td>\n",
       "      <td>7</td>\n",
       "      <td>2</td>\n",
       "    </tr>\n",
       "  </tbody>\n",
       "</table>\n",
       "</div>"
      ],
      "text/plain": [
       "        Pine  Oak  Arbutus  Cedar  Elm\n",
       "Canada    25   30       50     75   32\n",
       "USA       20   11       17     19   19\n",
       "Brezil     8   42       25      9   74\n",
       "Mexico    33   82       14      7    2"
      ]
     },
     "execution_count": 80,
     "metadata": {},
     "output_type": "execute_result"
    }
   ],
   "source": [
    "# Let's create some data\n",
    "Data=[[25,30,50,75,32],[20,11,17,19,19],[8,42,25,9,74],[33,82,14,7,2]]\n",
    "WD=pd.DataFrame(Data, ['Canada','USA','Brezil','Mexico'],['Pine','Oak','Arbutus','Cedar','Elm'])\n",
    "WD"
   ]
  },
  {
   "cell_type": "code",
   "execution_count": 81,
   "id": "59b3fb31",
   "metadata": {},
   "outputs": [],
   "source": [
    "WD.to_csv('Files\\WoodInfo2.csv')"
   ]
  },
  {
   "cell_type": "code",
   "execution_count": 82,
   "id": "e60e0ebe",
   "metadata": {},
   "outputs": [],
   "source": [
    "WD.to_excel('Files\\WoodInfo2.xlsx', sheet_name='New Sheet')"
   ]
  },
  {
   "cell_type": "code",
   "execution_count": 83,
   "id": "035151dc",
   "metadata": {},
   "outputs": [],
   "source": [
    "# If you don't want to save the index\n",
    "WD.to_csv('Files\\Output.csv', index=False)"
   ]
  },
  {
   "cell_type": "markdown",
   "id": "f859baf2",
   "metadata": {},
   "source": [
    "# Data Visualization with Pandas\n",
    "\n",
    "<font color='red'> Pandas has some very basic tools for plotting, but we will learn more advanced plotting with MatPlotLib and SeaBorn in next files. <br>\n",
    "             \n",
    "<a href='https://pandas.pydata.org/pandas-docs/stable/getting_started/intro_tutorials/04_plotting.html#min-tut-04-plotting'><img src='Files\\Pandalogo.jpg' width=250 height=250/></a>"
   ]
  },
  {
   "cell_type": "code",
   "execution_count": 84,
   "id": "8ef6247e",
   "metadata": {},
   "outputs": [],
   "source": [
    "# Let's Import Some data\n",
    "Sto=pd.read_csv('Files\\StockFluctuation.csv', index_col=0) \n",
    "# Since the dataset already has index in first column, we simply add 'index_col=0', to remove it. "
   ]
  },
  {
   "cell_type": "code",
   "execution_count": 85,
   "id": "994d3d64",
   "metadata": {},
   "outputs": [
    {
     "data": {
      "text/html": [
       "<div>\n",
       "<style scoped>\n",
       "    .dataframe tbody tr th:only-of-type {\n",
       "        vertical-align: middle;\n",
       "    }\n",
       "\n",
       "    .dataframe tbody tr th {\n",
       "        vertical-align: top;\n",
       "    }\n",
       "\n",
       "    .dataframe thead th {\n",
       "        text-align: right;\n",
       "    }\n",
       "</style>\n",
       "<table border=\"1\" class=\"dataframe\">\n",
       "  <thead>\n",
       "    <tr style=\"text-align: right;\">\n",
       "      <th></th>\n",
       "      <th>Unnamed: 0.1</th>\n",
       "      <th>Stock1</th>\n",
       "      <th>Stock2</th>\n",
       "      <th>Stock3</th>\n",
       "      <th>Stock4</th>\n",
       "    </tr>\n",
       "  </thead>\n",
       "  <tbody>\n",
       "    <tr>\n",
       "      <th>0</th>\n",
       "      <td>2000-01-01</td>\n",
       "      <td>1.339091</td>\n",
       "      <td>-0.163643</td>\n",
       "      <td>-0.646443</td>\n",
       "      <td>1.041233</td>\n",
       "    </tr>\n",
       "    <tr>\n",
       "      <th>1</th>\n",
       "      <td>2000-01-02</td>\n",
       "      <td>-0.774984</td>\n",
       "      <td>0.137034</td>\n",
       "      <td>-0.882716</td>\n",
       "      <td>-2.253382</td>\n",
       "    </tr>\n",
       "    <tr>\n",
       "      <th>2</th>\n",
       "      <td>2000-01-03</td>\n",
       "      <td>-0.921037</td>\n",
       "      <td>-0.482943</td>\n",
       "      <td>-0.417100</td>\n",
       "      <td>0.478638</td>\n",
       "    </tr>\n",
       "    <tr>\n",
       "      <th>3</th>\n",
       "      <td>2000-01-04</td>\n",
       "      <td>-1.738808</td>\n",
       "      <td>-0.072973</td>\n",
       "      <td>0.056517</td>\n",
       "      <td>0.015085</td>\n",
       "    </tr>\n",
       "    <tr>\n",
       "      <th>4</th>\n",
       "      <td>2000-01-05</td>\n",
       "      <td>-0.905980</td>\n",
       "      <td>1.778576</td>\n",
       "      <td>0.381918</td>\n",
       "      <td>0.291436</td>\n",
       "    </tr>\n",
       "    <tr>\n",
       "      <th>...</th>\n",
       "      <td>...</td>\n",
       "      <td>...</td>\n",
       "      <td>...</td>\n",
       "      <td>...</td>\n",
       "      <td>...</td>\n",
       "    </tr>\n",
       "    <tr>\n",
       "      <th>995</th>\n",
       "      <td>2002-09-22</td>\n",
       "      <td>1.013897</td>\n",
       "      <td>-0.288680</td>\n",
       "      <td>-0.342295</td>\n",
       "      <td>-0.638537</td>\n",
       "    </tr>\n",
       "    <tr>\n",
       "      <th>996</th>\n",
       "      <td>2002-09-23</td>\n",
       "      <td>-0.642659</td>\n",
       "      <td>-0.104725</td>\n",
       "      <td>-0.631829</td>\n",
       "      <td>-0.909483</td>\n",
       "    </tr>\n",
       "    <tr>\n",
       "      <th>997</th>\n",
       "      <td>2002-09-24</td>\n",
       "      <td>0.370136</td>\n",
       "      <td>0.233219</td>\n",
       "      <td>0.535897</td>\n",
       "      <td>-1.552605</td>\n",
       "    </tr>\n",
       "    <tr>\n",
       "      <th>998</th>\n",
       "      <td>2002-09-25</td>\n",
       "      <td>0.183339</td>\n",
       "      <td>1.285783</td>\n",
       "      <td>-1.052593</td>\n",
       "      <td>-2.565844</td>\n",
       "    </tr>\n",
       "    <tr>\n",
       "      <th>999</th>\n",
       "      <td>2002-09-26</td>\n",
       "      <td>0.775133</td>\n",
       "      <td>-0.850374</td>\n",
       "      <td>0.486728</td>\n",
       "      <td>-1.053427</td>\n",
       "    </tr>\n",
       "  </tbody>\n",
       "</table>\n",
       "<p>1000 rows × 5 columns</p>\n",
       "</div>"
      ],
      "text/plain": [
       "    Unnamed: 0.1    Stock1    Stock2    Stock3    Stock4\n",
       "0     2000-01-01  1.339091 -0.163643 -0.646443  1.041233\n",
       "1     2000-01-02 -0.774984  0.137034 -0.882716 -2.253382\n",
       "2     2000-01-03 -0.921037 -0.482943 -0.417100  0.478638\n",
       "3     2000-01-04 -1.738808 -0.072973  0.056517  0.015085\n",
       "4     2000-01-05 -0.905980  1.778576  0.381918  0.291436\n",
       "..           ...       ...       ...       ...       ...\n",
       "995   2002-09-22  1.013897 -0.288680 -0.342295 -0.638537\n",
       "996   2002-09-23 -0.642659 -0.104725 -0.631829 -0.909483\n",
       "997   2002-09-24  0.370136  0.233219  0.535897 -1.552605\n",
       "998   2002-09-25  0.183339  1.285783 -1.052593 -2.565844\n",
       "999   2002-09-26  0.775133 -0.850374  0.486728 -1.053427\n",
       "\n",
       "[1000 rows x 5 columns]"
      ]
     },
     "execution_count": 85,
     "metadata": {},
     "output_type": "execute_result"
    }
   ],
   "source": [
    "Sto"
   ]
  },
  {
   "cell_type": "code",
   "execution_count": 86,
   "id": "9533065c",
   "metadata": {},
   "outputs": [
    {
     "data": {
      "text/plain": [
       "<AxesSubplot:>"
      ]
     },
     "execution_count": 86,
     "metadata": {},
     "output_type": "execute_result"
    },
    {
     "data": {
      "image/png": "[encoded data removed]",
      "text/plain": [
       "<Figure size 432x288 with 1 Axes>"
      ]
     },
     "metadata": {
      "needs_background": "light"
     },
     "output_type": "display_data"
    }
   ],
   "source": [
    "Sto['Stock1'].hist(bins=20)"
   ]
  },
  {
   "cell_type": "code",
   "execution_count": 87,
   "id": "2d73f7a7",
   "metadata": {},
   "outputs": [
    {
     "data": {
      "text/plain": [
       "<AxesSubplot:xlabel='Stock1', ylabel='Stock2'>"
      ]
     },
     "execution_count": 87,
     "metadata": {},
     "output_type": "execute_result"
    },
    {
     "data": {
      "image/png": "[encoded data removed]",
      "text/plain": [
       "<Figure size 432x288 with 1 Axes>"
      ]
     },
     "metadata": {
      "needs_background": "light"
     },
     "output_type": "display_data"
    }
   ],
   "source": [
    "Sto.plot.scatter(x='Stock1', y='Stock2')"
   ]
  },
  {
   "cell_type": "code",
   "execution_count": 88,
   "id": "24a1b074",
   "metadata": {},
   "outputs": [
    {
     "data": {
      "text/plain": [
       "<AxesSubplot:>"
      ]
     },
     "execution_count": 88,
     "metadata": {},
     "output_type": "execute_result"
    },
    {
     "data": {
      "image/png": "[encoded data removed]",
      "text/plain": [
       "<Figure size 432x288 with 1 Axes>"
      ]
     },
     "metadata": {
      "needs_background": "light"
     },
     "output_type": "display_data"
    }
   ],
   "source": [
    "Sto.plot.box()"
   ]
  },
  {
   "cell_type": "code",
   "execution_count": 89,
   "id": "28b10753",
   "metadata": {},
   "outputs": [
    {
     "data": {
      "text/plain": [
       "<AxesSubplot:ylabel='Density'>"
      ]
     },
     "execution_count": 89,
     "metadata": {},
     "output_type": "execute_result"
    },
    {
     "data": {
      "image/png": "[encoded data removed]",
      "text/plain": [
       "<Figure size 432x288 with 1 Axes>"
      ]
     },
     "metadata": {
      "needs_background": "light"
     },
     "output_type": "display_data"
    }
   ],
   "source": [
    "Sto.plot.density()"
   ]
  },
  {
   "cell_type": "code",
   "execution_count": 90,
   "id": "b3302d28",
   "metadata": {},
   "outputs": [],
   "source": [
    "# Another Example\n",
    "Wood=pd.read_csv('Files\\WoodDensity.csv')"
   ]
  },
  {
   "cell_type": "code",
   "execution_count": 91,
   "id": "5411c5ab",
   "metadata": {},
   "outputs": [
    {
     "data": {
      "text/plain": [
       "<AxesSubplot:>"
      ]
     },
     "execution_count": 91,
     "metadata": {},
     "output_type": "execute_result"
    },
    {
     "data": {
      "image/png": "[encoded data removed]",
      "text/plain": [
       "<Figure size 432x288 with 1 Axes>"
      ]
     },
     "metadata": {
      "needs_background": "light"
     },
     "output_type": "display_data"
    }
   ],
   "source": [
    "Wood.plot.bar()"
   ]
  },
  {
   "cell_type": "markdown",
   "id": "334520a6",
   "metadata": {},
   "source": [
    "##### End"
   ]
  }
 ],
 "metadata": {
  "kernelspec": {
   "display_name": "Python 3",
   "language": "python",
   "name": "python3"
  },
  "language_info": {
   "codemirror_mode": {
    "name": "ipython",
    "version": 3
   },
   "file_extension": ".py",
   "mimetype": "text/x-python",
   "name": "python",
   "nbconvert_exporter": "python",
   "pygments_lexer": "ipython3",
   "version": "3.8.8"
  },
  "toc": {
   "base_numbering": 1,
   "nav_menu": {},
   "number_sections": true,
   "sideBar": true,
   "skip_h1_title": false,
   "title_cell": "Table of Contents",
   "title_sidebar": "Contents",
   "toc_cell": false,
   "toc_position": {
    "height": "calc(100% - 180px)",
    "left": "10px",
    "top": "150px",
    "width": "384px"
   },
   "toc_section_display": true,
   "toc_window_display": true
  }
 },
 "nbformat": 4,
 "nbformat_minor": 5
}

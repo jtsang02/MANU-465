{
 "cells": [
  {
   "cell_type": "markdown",
   "id": "768d45a1",
   "metadata": {},
   "source": [
    "____\n",
    "<a href='https://aintelligentmanufacturing.com/'><img src='Files\\MANU465Logo2.png' width=250 height=250/></a>"
   ]
  },
  {
   "cell_type": "markdown",
   "id": "500bb01b",
   "metadata": {},
   "source": [
    "# Python Intro (A Brief Review)\n",
    "<img src='Files\\PythonLogo.jpg' width=1000 height=250/></a>"
   ]
  },
  {
   "cell_type": "markdown",
   "id": "c743f84a",
   "metadata": {},
   "source": [
    "# Markdown\n",
    "<font color='red'> Use this menu at the above to change a cell to Markdown\n",
    "<img src='Files\\markdown.jpg' width=600 height=600/></a>"
   ]
  },
  {
   "cell_type": "markdown",
   "id": "bd652d46",
   "metadata": {},
   "source": [
    "## Title\n",
    "* Bullet\n",
    "    * indentation\n",
    "    \n",
    "**Make it Bold**\n",
    "\n",
    "<font color='red'> \"Double Click on the Markdown Cells to see the Details\" <br>\n",
    "    \n",
    "<font color='blue'> How o change the color ...."
   ]
  },
  {
   "cell_type": "markdown",
   "id": "1992ed19",
   "metadata": {},
   "source": [
    "# Links\n",
    "<font color='magenta'> How to add a link: <br>\n",
    "[What is MANU 465](https://www.youtube.com/watch?v=bRDxBGfK1oo&t=48s)"
   ]
  },
  {
   "cell_type": "markdown",
   "id": "fd345b58",
   "metadata": {},
   "source": [
    "## Embed Image in a Code Cell "
   ]
  },
  {
   "cell_type": "code",
   "execution_count": 1,
   "id": "1c192828",
   "metadata": {},
   "outputs": [
    {
     "data": {
      "text/html": [
       "<img src=\"Files\\Ahmad in the Class.jpg\" width=\"1000\" height=\"1000\"/>"
      ],
      "text/plain": [
       "<IPython.core.display.Image object>"
      ]
     },
     "execution_count": 1,
     "metadata": {},
     "output_type": "execute_result"
    }
   ],
   "source": [
    "from IPython.display import Image\n",
    "Image(url= \"Files\\Ahmad in the Class.jpg\", width=1000, height=1000)"
   ]
  },
  {
   "cell_type": "markdown",
   "id": "0850ef49",
   "metadata": {},
   "source": [
    "## Print vs Output"
   ]
  },
  {
   "cell_type": "code",
   "execution_count": 2,
   "id": "1c42fd6e",
   "metadata": {},
   "outputs": [
    {
     "data": {
      "text/plain": [
       "2"
      ]
     },
     "execution_count": 2,
     "metadata": {},
     "output_type": "execute_result"
    }
   ],
   "source": [
    "1+1"
   ]
  },
  {
   "cell_type": "code",
   "execution_count": 4,
   "id": "6a561476",
   "metadata": {},
   "outputs": [
    {
     "name": "stdout",
     "output_type": "stream",
     "text": [
      "2\n"
     ]
    }
   ],
   "source": [
    "print(1+1)"
   ]
  },
  {
   "cell_type": "markdown",
   "id": "9a92e9a4",
   "metadata": {},
   "source": [
    "## Short Keys"
   ]
  },
  {
   "cell_type": "code",
   "execution_count": 4,
   "id": "57a71239",
   "metadata": {},
   "outputs": [
    {
     "data": {
      "text/plain": [
       "'Shift+Enter'"
      ]
     },
     "execution_count": 4,
     "metadata": {},
     "output_type": "execute_result"
    }
   ],
   "source": [
    "\"Shift+Enter\" # to run a line"
   ]
  },
  {
   "cell_type": "code",
   "execution_count": 10,
   "id": "1dd64662",
   "metadata": {},
   "outputs": [
    {
     "data": {
      "text/plain": [
       "'Alt+Enter'"
      ]
     },
     "execution_count": 10,
     "metadata": {},
     "output_type": "execute_result"
    }
   ],
   "source": [
    "\"Alt+Enter\" # to run and add a new cell"
   ]
  },
  {
   "cell_type": "markdown",
   "id": "f019a92d",
   "metadata": {},
   "source": [
    "# Basic Arithmetics"
   ]
  },
  {
   "cell_type": "code",
   "execution_count": 10,
   "id": "0882e8d3",
   "metadata": {},
   "outputs": [
    {
     "data": {
      "text/plain": [
       "1"
      ]
     },
     "execution_count": 10,
     "metadata": {},
     "output_type": "execute_result"
    }
   ],
   "source": [
    "2+2\n",
    "2*2\n",
    "2/2\n",
    "2**2\n",
    "5%2"
   ]
  },
  {
   "cell_type": "code",
   "execution_count": 11,
   "id": "5161d199",
   "metadata": {},
   "outputs": [],
   "source": [
    "x=2\n",
    "y=5"
   ]
  },
  {
   "cell_type": "code",
   "execution_count": 12,
   "id": "bec2621a",
   "metadata": {},
   "outputs": [
    {
     "name": "stdout",
     "output_type": "stream",
     "text": [
      "2\n"
     ]
    }
   ],
   "source": [
    "print(x)"
   ]
  },
  {
   "cell_type": "code",
   "execution_count": 13,
   "id": "c1147d9e",
   "metadata": {},
   "outputs": [
    {
     "data": {
      "text/plain": [
       "32"
      ]
     },
     "execution_count": 13,
     "metadata": {},
     "output_type": "execute_result"
    }
   ],
   "source": [
    "x**y"
   ]
  },
  {
   "cell_type": "markdown",
   "id": "f2c52ab5",
   "metadata": {},
   "source": [
    "# Strings"
   ]
  },
  {
   "cell_type": "code",
   "execution_count": 16,
   "id": "33bbc1ce",
   "metadata": {},
   "outputs": [],
   "source": [
    "C=\"MANU 465 is a cool course!\""
   ]
  },
  {
   "cell_type": "code",
   "execution_count": 17,
   "id": "5444ddfd",
   "metadata": {},
   "outputs": [
    {
     "name": "stdout",
     "output_type": "stream",
     "text": [
      "MANU 465 is a cool course!\n"
     ]
    }
   ],
   "source": [
    "print(C)"
   ]
  },
  {
   "cell_type": "code",
   "execution_count": 18,
   "id": "edce0d94",
   "metadata": {},
   "outputs": [],
   "source": [
    "Name='Ahmad'\n",
    "Age=40"
   ]
  },
  {
   "cell_type": "code",
   "execution_count": 20,
   "id": "faa8cdae",
   "metadata": {},
   "outputs": [
    {
     "data": {
      "text/plain": [
       "'My name is Ahmad and I am 40 years old'"
      ]
     },
     "execution_count": 20,
     "metadata": {},
     "output_type": "execute_result"
    }
   ],
   "source": [
    "'My name is {} and I am {} years old'.format(Name, Age)"
   ]
  },
  {
   "cell_type": "code",
   "execution_count": 24,
   "id": "01879f7f",
   "metadata": {},
   "outputs": [
    {
     "data": {
      "text/plain": [
       "'My name is Ahmad and I am 40 years old; my brother is also 40'"
      ]
     },
     "execution_count": 24,
     "metadata": {},
     "output_type": "execute_result"
    }
   ],
   "source": [
    "# Order doesn't matter.\n",
    "'My name is {X1} and I am {X2} years old; my brother is also {X2}'.format(X2=Age, X1=Name)"
   ]
  },
  {
   "cell_type": "code",
   "execution_count": 7,
   "id": "49fe0088",
   "metadata": {},
   "outputs": [],
   "source": [
    "S='MANU 465'"
   ]
  },
  {
   "cell_type": "code",
   "execution_count": 8,
   "id": "ed42fa84",
   "metadata": {},
   "outputs": [
    {
     "data": {
      "text/plain": [
       "'U'"
      ]
     },
     "execution_count": 8,
     "metadata": {},
     "output_type": "execute_result"
    }
   ],
   "source": [
    "# Grab the 4th element in a string (start from 0)\n",
    "S[3]"
   ]
  },
  {
   "cell_type": "code",
   "execution_count": 9,
   "id": "41e3dfee",
   "metadata": {},
   "outputs": [
    {
     "data": {
      "text/plain": [
       "'4'"
      ]
     },
     "execution_count": 9,
     "metadata": {},
     "output_type": "execute_result"
    }
   ],
   "source": [
    "S[5]"
   ]
  },
  {
   "cell_type": "code",
   "execution_count": 29,
   "id": "1e3d9c28",
   "metadata": {},
   "outputs": [
    {
     "data": {
      "text/plain": [
       "'M'"
      ]
     },
     "execution_count": 29,
     "metadata": {},
     "output_type": "execute_result"
    }
   ],
   "source": [
    "# Index in Python starts from Zero. \n",
    "S[0]"
   ]
  },
  {
   "cell_type": "code",
   "execution_count": 36,
   "id": "c1717c70",
   "metadata": {},
   "outputs": [],
   "source": [
    "Z=\"abcdefghi\""
   ]
  },
  {
   "cell_type": "code",
   "execution_count": 37,
   "id": "c7a1ecc0",
   "metadata": {},
   "outputs": [
    {
     "data": {
      "text/plain": [
       "'abcdefghi'"
      ]
     },
     "execution_count": 37,
     "metadata": {},
     "output_type": "execute_result"
    }
   ],
   "source": [
    "Z[0:] # Grab everything beyond 0 place"
   ]
  },
  {
   "cell_type": "code",
   "execution_count": 38,
   "id": "e59abe4f",
   "metadata": {},
   "outputs": [
    {
     "data": {
      "text/plain": [
       "'abc'"
      ]
     },
     "execution_count": 38,
     "metadata": {},
     "output_type": "execute_result"
    }
   ],
   "source": [
    "Z[:3] # Grab everything from the begining to (3-1)th character (Note: Start countign from Zero)"
   ]
  },
  {
   "cell_type": "code",
   "execution_count": 39,
   "id": "518fc9ea",
   "metadata": {},
   "outputs": [
    {
     "data": {
      "text/plain": [
       "'abcd'"
      ]
     },
     "execution_count": 39,
     "metadata": {},
     "output_type": "execute_result"
    }
   ],
   "source": [
    "Z[:4]"
   ]
  },
  {
   "cell_type": "code",
   "execution_count": 41,
   "id": "fa28d56d",
   "metadata": {},
   "outputs": [
    {
     "data": {
      "text/plain": [
       "'cde'"
      ]
     },
     "execution_count": 41,
     "metadata": {},
     "output_type": "execute_result"
    }
   ],
   "source": [
    "Z[2:5] # Grab everything from 2nd to (5-1)th"
   ]
  },
  {
   "cell_type": "code",
   "execution_count": 42,
   "id": "cd32ac6a",
   "metadata": {},
   "outputs": [
    {
     "data": {
      "text/plain": [
       "'abcdefgh'"
      ]
     },
     "execution_count": 42,
     "metadata": {},
     "output_type": "execute_result"
    }
   ],
   "source": [
    "Z[:-1] # All but the last column"
   ]
  },
  {
   "cell_type": "code",
   "execution_count": 43,
   "id": "5a914b11",
   "metadata": {},
   "outputs": [
    {
     "data": {
      "text/plain": [
       "'i'"
      ]
     },
     "execution_count": 43,
     "metadata": {},
     "output_type": "execute_result"
    }
   ],
   "source": [
    "Z[-1:] # Only last column"
   ]
  },
  {
   "cell_type": "code",
   "execution_count": 44,
   "id": "a788f69b",
   "metadata": {},
   "outputs": [
    {
     "data": {
      "text/plain": [
       "'a'"
      ]
     },
     "execution_count": 44,
     "metadata": {},
     "output_type": "execute_result"
    }
   ],
   "source": [
    "Z[0]  # Only the first column"
   ]
  },
  {
   "cell_type": "markdown",
   "id": "31cb9af9",
   "metadata": {},
   "source": [
    "# List"
   ]
  },
  {
   "cell_type": "code",
   "execution_count": 47,
   "id": "065dd8b4",
   "metadata": {},
   "outputs": [],
   "source": [
    "My_List=['a' ,'b', 'c' ,'d']"
   ]
  },
  {
   "cell_type": "code",
   "execution_count": 48,
   "id": "14c5b552",
   "metadata": {},
   "outputs": [
    {
     "name": "stdout",
     "output_type": "stream",
     "text": [
      "['a', 'b', 'c', 'd']\n"
     ]
    }
   ],
   "source": [
    "print(My_List)"
   ]
  },
  {
   "cell_type": "code",
   "execution_count": 49,
   "id": "36861fd7",
   "metadata": {},
   "outputs": [],
   "source": [
    "My_List.append('e')"
   ]
  },
  {
   "cell_type": "code",
   "execution_count": 50,
   "id": "5f9b6a21",
   "metadata": {},
   "outputs": [
    {
     "data": {
      "text/plain": [
       "['a', 'b', 'c', 'd', 'e']"
      ]
     },
     "execution_count": 50,
     "metadata": {},
     "output_type": "execute_result"
    }
   ],
   "source": [
    "My_List"
   ]
  },
  {
   "cell_type": "code",
   "execution_count": 51,
   "id": "a8be3de9",
   "metadata": {},
   "outputs": [
    {
     "data": {
      "text/plain": [
       "'a'"
      ]
     },
     "execution_count": 51,
     "metadata": {},
     "output_type": "execute_result"
    }
   ],
   "source": [
    "My_List[0]"
   ]
  },
  {
   "cell_type": "code",
   "execution_count": 52,
   "id": "99e2ca12",
   "metadata": {},
   "outputs": [
    {
     "data": {
      "text/plain": [
       "['c', 'd']"
      ]
     },
     "execution_count": 52,
     "metadata": {},
     "output_type": "execute_result"
    }
   ],
   "source": [
    "My_List[2:4]"
   ]
  },
  {
   "cell_type": "code",
   "execution_count": 53,
   "id": "622ce295",
   "metadata": {},
   "outputs": [],
   "source": [
    "My_List[0]='New'"
   ]
  },
  {
   "cell_type": "code",
   "execution_count": 54,
   "id": "3b2fd84f",
   "metadata": {},
   "outputs": [
    {
     "data": {
      "text/plain": [
       "['New', 'b', 'c', 'd', 'e']"
      ]
     },
     "execution_count": 54,
     "metadata": {},
     "output_type": "execute_result"
    }
   ],
   "source": [
    "My_List"
   ]
  },
  {
   "cell_type": "code",
   "execution_count": 55,
   "id": "86364ce9",
   "metadata": {},
   "outputs": [],
   "source": [
    "Nest=['a', 'b', 'c','d', ['y','w','z']] # A list inside a list"
   ]
  },
  {
   "cell_type": "code",
   "execution_count": 56,
   "id": "b23eb690",
   "metadata": {},
   "outputs": [
    {
     "data": {
      "text/plain": [
       "'d'"
      ]
     },
     "execution_count": 56,
     "metadata": {},
     "output_type": "execute_result"
    }
   ],
   "source": [
    "Nest[3]"
   ]
  },
  {
   "cell_type": "code",
   "execution_count": 58,
   "id": "5e19c2de",
   "metadata": {},
   "outputs": [
    {
     "data": {
      "text/plain": [
       "['y', 'w', 'z']"
      ]
     },
     "execution_count": 58,
     "metadata": {},
     "output_type": "execute_result"
    }
   ],
   "source": [
    "Nest[4]"
   ]
  },
  {
   "cell_type": "code",
   "execution_count": 59,
   "id": "a9474a2d",
   "metadata": {},
   "outputs": [
    {
     "data": {
      "text/plain": [
       "'y'"
      ]
     },
     "execution_count": 59,
     "metadata": {},
     "output_type": "execute_result"
    }
   ],
   "source": [
    "Nest[4][0]"
   ]
  },
  {
   "cell_type": "code",
   "execution_count": 60,
   "id": "f60d292e",
   "metadata": {},
   "outputs": [
    {
     "data": {
      "text/plain": [
       "'z'"
      ]
     },
     "execution_count": 60,
     "metadata": {},
     "output_type": "execute_result"
    }
   ],
   "source": [
    "Nest[4][2]"
   ]
  },
  {
   "cell_type": "code",
   "execution_count": 61,
   "id": "29476148",
   "metadata": {},
   "outputs": [],
   "source": [
    "Num_List=[1,2,3,4,5]"
   ]
  },
  {
   "cell_type": "code",
   "execution_count": 62,
   "id": "88bcc5a0",
   "metadata": {},
   "outputs": [
    {
     "data": {
      "text/plain": [
       "1"
      ]
     },
     "execution_count": 62,
     "metadata": {},
     "output_type": "execute_result"
    }
   ],
   "source": [
    "Num_List[0]"
   ]
  },
  {
   "cell_type": "code",
   "execution_count": 64,
   "id": "44bf6e08",
   "metadata": {},
   "outputs": [
    {
     "data": {
      "text/plain": [
       "17"
      ]
     },
     "execution_count": 64,
     "metadata": {},
     "output_type": "execute_result"
    }
   ],
   "source": [
    "Num_List[1]+5*Num_List[2]"
   ]
  },
  {
   "cell_type": "markdown",
   "id": "d6194515",
   "metadata": {},
   "source": [
    "# Dictionary"
   ]
  },
  {
   "cell_type": "code",
   "execution_count": 4,
   "id": "11187c10",
   "metadata": {},
   "outputs": [],
   "source": [
    "d={'A':'Age', 'B':'Book', 'C':44, 'D':[1,2,3]}"
   ]
  },
  {
   "cell_type": "code",
   "execution_count": 5,
   "id": "d0fc8ea0",
   "metadata": {},
   "outputs": [
    {
     "data": {
      "text/plain": [
       "'Age'"
      ]
     },
     "execution_count": 5,
     "metadata": {},
     "output_type": "execute_result"
    }
   ],
   "source": [
    "d['A']"
   ]
  },
  {
   "cell_type": "code",
   "execution_count": 6,
   "id": "a340b9a7",
   "metadata": {},
   "outputs": [
    {
     "data": {
      "text/plain": [
       "44"
      ]
     },
     "execution_count": 6,
     "metadata": {},
     "output_type": "execute_result"
    }
   ],
   "source": [
    "d['C']"
   ]
  },
  {
   "cell_type": "code",
   "execution_count": 7,
   "id": "76c282a2",
   "metadata": {},
   "outputs": [
    {
     "data": {
      "text/plain": [
       "[1, 2, 3]"
      ]
     },
     "execution_count": 7,
     "metadata": {},
     "output_type": "execute_result"
    }
   ],
   "source": [
    "d['D'] # it is a list."
   ]
  },
  {
   "cell_type": "code",
   "execution_count": 8,
   "id": "b526ca67",
   "metadata": {},
   "outputs": [
    {
     "data": {
      "text/plain": [
       "2"
      ]
     },
     "execution_count": 8,
     "metadata": {},
     "output_type": "execute_result"
    }
   ],
   "source": [
    "d['D'][1] # call a value from a list inside a Dictionary"
   ]
  },
  {
   "cell_type": "markdown",
   "id": "0b685d7d",
   "metadata": {},
   "source": [
    "# Booleans"
   ]
  },
  {
   "cell_type": "code",
   "execution_count": 9,
   "id": "cba95d38",
   "metadata": {},
   "outputs": [
    {
     "data": {
      "text/plain": [
       "True"
      ]
     },
     "execution_count": 9,
     "metadata": {},
     "output_type": "execute_result"
    }
   ],
   "source": [
    "True"
   ]
  },
  {
   "cell_type": "code",
   "execution_count": 19,
   "id": "27e9a136",
   "metadata": {},
   "outputs": [
    {
     "data": {
      "text/plain": [
       "False"
      ]
     },
     "execution_count": 19,
     "metadata": {},
     "output_type": "execute_result"
    }
   ],
   "source": [
    "False"
   ]
  },
  {
   "cell_type": "code",
   "execution_count": 22,
   "id": "0373b397",
   "metadata": {},
   "outputs": [
    {
     "data": {
      "text/plain": [
       "True"
      ]
     },
     "execution_count": 22,
     "metadata": {},
     "output_type": "execute_result"
    }
   ],
   "source": [
    "2>1"
   ]
  },
  {
   "cell_type": "code",
   "execution_count": 23,
   "id": "a0b60f9f",
   "metadata": {},
   "outputs": [
    {
     "data": {
      "text/plain": [
       "True"
      ]
     },
     "execution_count": 23,
     "metadata": {},
     "output_type": "execute_result"
    }
   ],
   "source": [
    "1==1"
   ]
  },
  {
   "cell_type": "code",
   "execution_count": 24,
   "id": "62a20484",
   "metadata": {},
   "outputs": [
    {
     "data": {
      "text/plain": [
       "True"
      ]
     },
     "execution_count": 24,
     "metadata": {},
     "output_type": "execute_result"
    }
   ],
   "source": [
    "4>=3"
   ]
  },
  {
   "cell_type": "code",
   "execution_count": 25,
   "id": "efd17d02",
   "metadata": {},
   "outputs": [
    {
     "data": {
      "text/plain": [
       "True"
      ]
     },
     "execution_count": 25,
     "metadata": {},
     "output_type": "execute_result"
    }
   ],
   "source": [
    "5!=3  # Not Equal"
   ]
  },
  {
   "cell_type": "code",
   "execution_count": 26,
   "id": "57b9edf7",
   "metadata": {},
   "outputs": [
    {
     "data": {
      "text/plain": [
       "True"
      ]
     },
     "execution_count": 26,
     "metadata": {},
     "output_type": "execute_result"
    }
   ],
   "source": [
    "'hate' !='love'"
   ]
  },
  {
   "cell_type": "code",
   "execution_count": 27,
   "id": "9923f485",
   "metadata": {},
   "outputs": [
    {
     "data": {
      "text/plain": [
       "True"
      ]
     },
     "execution_count": 27,
     "metadata": {},
     "output_type": "execute_result"
    }
   ],
   "source": [
    "4>2 and 3>1"
   ]
  },
  {
   "cell_type": "code",
   "execution_count": 28,
   "id": "a01d5cfe",
   "metadata": {},
   "outputs": [
    {
     "data": {
      "text/plain": [
       "True"
      ]
     },
     "execution_count": 28,
     "metadata": {},
     "output_type": "execute_result"
    }
   ],
   "source": [
    "# Better to write like:\n",
    "(4>2) and (3>1)"
   ]
  },
  {
   "cell_type": "code",
   "execution_count": 29,
   "id": "6f58574b",
   "metadata": {},
   "outputs": [
    {
     "data": {
      "text/plain": [
       "True"
      ]
     },
     "execution_count": 29,
     "metadata": {},
     "output_type": "execute_result"
    }
   ],
   "source": [
    "(4>2) or (7>11)"
   ]
  },
  {
   "cell_type": "markdown",
   "id": "a0a62547",
   "metadata": {},
   "source": [
    "# Tuples"
   ]
  },
  {
   "cell_type": "code",
   "execution_count": 11,
   "id": "30eb0d6a",
   "metadata": {},
   "outputs": [],
   "source": [
    "t=(1,2,3)"
   ]
  },
  {
   "cell_type": "code",
   "execution_count": 12,
   "id": "d6fa1853",
   "metadata": {},
   "outputs": [
    {
     "data": {
      "text/plain": [
       "1"
      ]
     },
     "execution_count": 12,
     "metadata": {},
     "output_type": "execute_result"
    }
   ],
   "source": [
    "t[0]"
   ]
  },
  {
   "cell_type": "markdown",
   "id": "edb257c2",
   "metadata": {},
   "source": [
    "## Tuple vs List\n",
    "You <font color='red'> cannot <font color='black'>reasign a new value/string to the element of a tuple, unlike list."
   ]
  },
  {
   "cell_type": "code",
   "execution_count": 13,
   "id": "7c08d3a4",
   "metadata": {},
   "outputs": [],
   "source": [
    "List=[1,2,3]"
   ]
  },
  {
   "cell_type": "code",
   "execution_count": 14,
   "id": "6c46ec9e",
   "metadata": {},
   "outputs": [],
   "source": [
    "List[0]=5"
   ]
  },
  {
   "cell_type": "code",
   "execution_count": 15,
   "id": "8373b8d8",
   "metadata": {},
   "outputs": [
    {
     "data": {
      "text/plain": [
       "[5, 2, 3]"
      ]
     },
     "execution_count": 15,
     "metadata": {},
     "output_type": "execute_result"
    }
   ],
   "source": [
    "List"
   ]
  },
  {
   "cell_type": "code",
   "execution_count": 16,
   "id": "7201a371",
   "metadata": {},
   "outputs": [],
   "source": [
    "Tuple=(1,2,3)"
   ]
  },
  {
   "cell_type": "code",
   "execution_count": 17,
   "id": "c7c20d04",
   "metadata": {},
   "outputs": [
    {
     "ename": "TypeError",
     "evalue": "'tuple' object does not support item assignment",
     "output_type": "error",
     "traceback": [
      "\u001b[1;31m---------------------------------------------------------------------------\u001b[0m",
      "\u001b[1;31mTypeError\u001b[0m                                 Traceback (most recent call last)",
      "\u001b[1;32m<ipython-input-17-9918f55cc80a>\u001b[0m in \u001b[0;36m<module>\u001b[1;34m\u001b[0m\n\u001b[1;32m----> 1\u001b[1;33m \u001b[0mTuple\u001b[0m\u001b[1;33m[\u001b[0m\u001b[1;36m0\u001b[0m\u001b[1;33m]\u001b[0m\u001b[1;33m=\u001b[0m\u001b[1;36m5\u001b[0m\u001b[1;33m\u001b[0m\u001b[1;33m\u001b[0m\u001b[0m\n\u001b[0m",
      "\u001b[1;31mTypeError\u001b[0m: 'tuple' object does not support item assignment"
     ]
    }
   ],
   "source": [
    "Tuple[0]=5  # As you can see, we get an Error, and we are not allowed to change the tuple."
   ]
  },
  {
   "cell_type": "markdown",
   "id": "3fb4759d",
   "metadata": {},
   "source": [
    "# If, Esle If"
   ]
  },
  {
   "cell_type": "code",
   "execution_count": 30,
   "id": "aa4f724a",
   "metadata": {},
   "outputs": [
    {
     "name": "stdout",
     "output_type": "stream",
     "text": [
      "Perform the code!\n"
     ]
    }
   ],
   "source": [
    "if True:\n",
    "    print('Perform the code!')"
   ]
  },
  {
   "cell_type": "code",
   "execution_count": 31,
   "id": "e99d20bd",
   "metadata": {},
   "outputs": [
    {
     "name": "stdout",
     "output_type": "stream",
     "text": [
      "You are a genius!\n"
     ]
    }
   ],
   "source": [
    "if 5>3:\n",
    "    print('You are a genius!')"
   ]
  },
  {
   "cell_type": "code",
   "execution_count": 33,
   "id": "6b86c844",
   "metadata": {},
   "outputs": [
    {
     "name": "stdout",
     "output_type": "stream",
     "text": [
      "0\n"
     ]
    }
   ],
   "source": [
    "x=0\n",
    "if 3>5:\n",
    "    x=5+7\n",
    "print(x)"
   ]
  },
  {
   "cell_type": "code",
   "execution_count": 34,
   "id": "e6975d09",
   "metadata": {},
   "outputs": [
    {
     "name": "stdout",
     "output_type": "stream",
     "text": [
      "maybe!\n"
     ]
    }
   ],
   "source": [
    "if 2==3:\n",
    "    print('I am not sure!')\n",
    "else:\n",
    "    print('maybe!')"
   ]
  },
  {
   "cell_type": "code",
   "execution_count": 35,
   "id": "14cb9a66",
   "metadata": {},
   "outputs": [
    {
     "name": "stdout",
     "output_type": "stream",
     "text": [
      "what do you mean!\n"
     ]
    }
   ],
   "source": [
    "if 2==3:\n",
    "    print('I am not sure!')\n",
    "elif 4!=5:\n",
    "    print('what do you mean!')\n",
    "else:\n",
    "    print('maybe!')"
   ]
  },
  {
   "cell_type": "markdown",
   "id": "32761430",
   "metadata": {},
   "source": [
    "# For and While Loops"
   ]
  },
  {
   "cell_type": "code",
   "execution_count": 37,
   "id": "135f0f32",
   "metadata": {},
   "outputs": [
    {
     "name": "stdout",
     "output_type": "stream",
     "text": [
      "25\n",
      "49\n",
      "81\n",
      "121\n",
      "169\n"
     ]
    }
   ],
   "source": [
    "List=[5,7,9,11,13]\n",
    "for number in List:\n",
    "    y=number**2\n",
    "    print(y)"
   ]
  },
  {
   "cell_type": "code",
   "execution_count": 40,
   "id": "c1253978",
   "metadata": {},
   "outputs": [],
   "source": [
    "New_List=[]\n",
    "List=[5,7,9,11,13]\n",
    "for number in List:\n",
    "    y=number**2\n",
    "    New_List.append(y)"
   ]
  },
  {
   "cell_type": "code",
   "execution_count": 41,
   "id": "ff24da91",
   "metadata": {},
   "outputs": [
    {
     "data": {
      "text/plain": [
       "[25, 49, 81, 121, 169]"
      ]
     },
     "execution_count": 41,
     "metadata": {},
     "output_type": "execute_result"
    }
   ],
   "source": [
    "New_List"
   ]
  },
  {
   "cell_type": "code",
   "execution_count": 43,
   "id": "f83363cf",
   "metadata": {},
   "outputs": [
    {
     "name": "stdout",
     "output_type": "stream",
     "text": [
      "[1, 3, 5, 7, 9]\n"
     ]
    }
   ],
   "source": [
    "L=[]\n",
    "i=1\n",
    "while i<10:\n",
    "    L.append(i)\n",
    "    i=i+2\n",
    "print(L)"
   ]
  },
  {
   "cell_type": "code",
   "execution_count": 44,
   "id": "d776b26f",
   "metadata": {},
   "outputs": [
    {
     "name": "stdout",
     "output_type": "stream",
     "text": [
      "0\n",
      "1\n",
      "2\n",
      "3\n",
      "4\n",
      "5\n",
      "6\n",
      "7\n",
      "8\n",
      "9\n"
     ]
    }
   ],
   "source": [
    "for x in range(0,10):\n",
    "    print(x)"
   ]
  },
  {
   "cell_type": "code",
   "execution_count": 53,
   "id": "aaebd608",
   "metadata": {},
   "outputs": [],
   "source": [
    "LL=range(0,7) # gives me a list from 0 to 6"
   ]
  },
  {
   "cell_type": "code",
   "execution_count": 55,
   "id": "6446cf5d",
   "metadata": {},
   "outputs": [
    {
     "data": {
      "text/plain": [
       "0"
      ]
     },
     "execution_count": 55,
     "metadata": {},
     "output_type": "execute_result"
    }
   ],
   "source": [
    "LL[0]"
   ]
  },
  {
   "cell_type": "code",
   "execution_count": 52,
   "id": "25cab3e1",
   "metadata": {},
   "outputs": [
    {
     "data": {
      "text/plain": [
       "6"
      ]
     },
     "execution_count": 52,
     "metadata": {},
     "output_type": "execute_result"
    }
   ],
   "source": [
    "LL[6]"
   ]
  },
  {
   "cell_type": "markdown",
   "id": "be18b1e8",
   "metadata": {},
   "source": [
    "# List Comprehension\n",
    "Instead of using a for loop, like the one below, you simply, write all in one line as shown in the second cell below"
   ]
  },
  {
   "cell_type": "code",
   "execution_count": 57,
   "id": "16d99c32",
   "metadata": {},
   "outputs": [
    {
     "name": "stdout",
     "output_type": "stream",
     "text": [
      "[4, 9, 25, 49]\n"
     ]
    }
   ],
   "source": [
    "# Method 1\n",
    "x=[2,3,5,7]\n",
    "List=[]\n",
    "for num in x:\n",
    "    List.append(num**2)\n",
    "print(List)"
   ]
  },
  {
   "cell_type": "code",
   "execution_count": 59,
   "id": "4bfde89b",
   "metadata": {},
   "outputs": [
    {
     "name": "stdout",
     "output_type": "stream",
     "text": [
      "[4, 9, 25, 49]\n"
     ]
    }
   ],
   "source": [
    "# Methos 2\n",
    "List2=[num**2 for num in x]\n",
    "print(List2)"
   ]
  },
  {
   "cell_type": "markdown",
   "id": "3787ec9e",
   "metadata": {},
   "source": [
    "# Function"
   ]
  },
  {
   "cell_type": "code",
   "execution_count": 11,
   "id": "3ffeed17",
   "metadata": {},
   "outputs": [],
   "source": [
    "def f(x):\n",
    "    return x**3"
   ]
  },
  {
   "cell_type": "code",
   "execution_count": 12,
   "id": "7aeb42f2",
   "metadata": {},
   "outputs": [
    {
     "name": "stdout",
     "output_type": "stream",
     "text": [
      "125\n"
     ]
    }
   ],
   "source": [
    "print(f(5))"
   ]
  },
  {
   "cell_type": "markdown",
   "id": "8f8de241",
   "metadata": {},
   "source": [
    "##### Add a desciption to a function"
   ]
  },
  {
   "cell_type": "code",
   "execution_count": 15,
   "id": "72ae5d19",
   "metadata": {},
   "outputs": [],
   "source": [
    "def g(x):\n",
    "    \"\"\"\n",
    "    This function, gives you the root of a value.\n",
    "    \"\"\"\n",
    "    return x**0.5"
   ]
  },
  {
   "cell_type": "code",
   "execution_count": 17,
   "id": "94b58330",
   "metadata": {},
   "outputs": [
    {
     "data": {
      "text/plain": [
       "2.23606797749979"
      ]
     },
     "execution_count": 17,
     "metadata": {},
     "output_type": "execute_result"
    }
   ],
   "source": [
    "# now, when you SHIFT+TAB in front of this fucntion, Jupyter shows you what this function deos for you. \n",
    "g(5)"
   ]
  },
  {
   "cell_type": "markdown",
   "id": "707f4272",
   "metadata": {},
   "source": [
    "# Apply a Function to a List"
   ]
  },
  {
   "cell_type": "code",
   "execution_count": 8,
   "id": "fe9f6674",
   "metadata": {},
   "outputs": [
    {
     "name": "stdout",
     "output_type": "stream",
     "text": [
      "[0.0, 1.0, 1.4142135623730951, 1.7320508075688772, 2.0, 2.23606797749979]\n"
     ]
    }
   ],
   "source": [
    "# Note: You can do the same thing using for loop and append; but a simpler way is to use map\n",
    "S=[0,1,2,3,4,5]\n",
    "S_Root=list(map(g,S))\n",
    "print(S_Root)"
   ]
  },
  {
   "cell_type": "markdown",
   "id": "04dbc61f",
   "metadata": {},
   "source": [
    "# lambda \n",
    "It condense a function to one line of code"
   ]
  },
  {
   "cell_type": "code",
   "execution_count": 10,
   "id": "1ab3de2e",
   "metadata": {},
   "outputs": [],
   "source": [
    "# Consider this function \n",
    "def f(x):\n",
    "    return 2*x"
   ]
  },
  {
   "cell_type": "code",
   "execution_count": 11,
   "id": "71d4d1fa",
   "metadata": {},
   "outputs": [],
   "source": [
    "# this function can be witten as\n",
    "t=(lambda x:2*x)"
   ]
  },
  {
   "cell_type": "code",
   "execution_count": 12,
   "id": "1607cd2d",
   "metadata": {},
   "outputs": [
    {
     "name": "stdout",
     "output_type": "stream",
     "text": [
      "10\n"
     ]
    }
   ],
   "source": [
    "print(t(5))"
   ]
  },
  {
   "cell_type": "code",
   "execution_count": 18,
   "id": "b61aba2b",
   "metadata": {},
   "outputs": [
    {
     "name": "stdout",
     "output_type": "stream",
     "text": [
      "[2, 4, 6, 8, 10, 12, 14, 16]\n"
     ]
    }
   ],
   "source": [
    "# Try on a list\n",
    "Lis=[1,2,3,4,5,6,7,8]\n",
    "Lis2=list(map(t,Lis))\n",
    "print(Lis2)"
   ]
  },
  {
   "cell_type": "code",
   "execution_count": 19,
   "id": "e0bc6413",
   "metadata": {},
   "outputs": [],
   "source": [
    "# and it can be simplified to:\n",
    "Lis3=list(map(lambda x:2*x,Lis))"
   ]
  },
  {
   "cell_type": "code",
   "execution_count": 20,
   "id": "b8426159",
   "metadata": {},
   "outputs": [
    {
     "name": "stdout",
     "output_type": "stream",
     "text": [
      "[2, 4, 6, 8, 10, 12, 14, 16]\n"
     ]
    }
   ],
   "source": [
    "print(Lis3)"
   ]
  },
  {
   "cell_type": "markdown",
   "id": "169b3a7c",
   "metadata": {},
   "source": [
    "# Filter"
   ]
  },
  {
   "cell_type": "code",
   "execution_count": 28,
   "id": "16a7b127",
   "metadata": {},
   "outputs": [],
   "source": [
    "# For example, we want only the even numbers from this List\n",
    "Lis4=list(filter(lambda x:x%2==0, Lis))"
   ]
  },
  {
   "cell_type": "code",
   "execution_count": 29,
   "id": "50ec7753",
   "metadata": {},
   "outputs": [
    {
     "name": "stdout",
     "output_type": "stream",
     "text": [
      "[2, 4, 6, 8]\n"
     ]
    }
   ],
   "source": [
    "print(Lis4)"
   ]
  },
  {
   "cell_type": "markdown",
   "id": "1d21f3d1",
   "metadata": {},
   "source": [
    "# Method\n",
    "If you type a variable/list, then a dot in front of it, then press \"tab\" on your keyboard; it will show you the available method, you can apply to that variable or list."
   ]
  },
  {
   "cell_type": "code",
   "execution_count": 35,
   "id": "2df40678",
   "metadata": {},
   "outputs": [
    {
     "data": {
      "text/plain": [
       "1"
      ]
     },
     "execution_count": 35,
     "metadata": {},
     "output_type": "execute_result"
    }
   ],
   "source": [
    "Lis.count(3)"
   ]
  },
  {
   "cell_type": "code",
   "execution_count": 36,
   "id": "4c8ff458",
   "metadata": {},
   "outputs": [],
   "source": [
    "Var='My Name is Ahmad.'"
   ]
  },
  {
   "cell_type": "code",
   "execution_count": 37,
   "id": "1424b8db",
   "metadata": {},
   "outputs": [
    {
     "data": {
      "text/plain": [
       "'my name is ahmad.'"
      ]
     },
     "execution_count": 37,
     "metadata": {},
     "output_type": "execute_result"
    }
   ],
   "source": [
    "Var.lower()"
   ]
  },
  {
   "cell_type": "code",
   "execution_count": 38,
   "id": "ec47b17b",
   "metadata": {},
   "outputs": [
    {
     "data": {
      "text/plain": [
       "'MY NAME IS AHMAD.'"
      ]
     },
     "execution_count": 38,
     "metadata": {},
     "output_type": "execute_result"
    }
   ],
   "source": [
    "Var.upper()"
   ]
  },
  {
   "cell_type": "code",
   "execution_count": 39,
   "id": "61723918",
   "metadata": {},
   "outputs": [
    {
     "data": {
      "text/plain": [
       "['My', 'Name', 'is', 'Ahmad.']"
      ]
     },
     "execution_count": 39,
     "metadata": {},
     "output_type": "execute_result"
    }
   ],
   "source": [
    "Var.split()"
   ]
  },
  {
   "cell_type": "code",
   "execution_count": 40,
   "id": "b55da718",
   "metadata": {},
   "outputs": [],
   "source": [
    "Example='My name is Ahmad. I am the instructor of MANU465.'"
   ]
  },
  {
   "cell_type": "code",
   "execution_count": 43,
   "id": "3ba3a00a",
   "metadata": {},
   "outputs": [],
   "source": [
    "Single_Sente=Example.split('.')"
   ]
  },
  {
   "cell_type": "code",
   "execution_count": 44,
   "id": "63fff460",
   "metadata": {},
   "outputs": [
    {
     "data": {
      "text/plain": [
       "['My name is Ahmad', ' I am the instructor of MANU465', '']"
      ]
     },
     "execution_count": 44,
     "metadata": {},
     "output_type": "execute_result"
    }
   ],
   "source": [
    "Single_Sente"
   ]
  },
  {
   "cell_type": "code",
   "execution_count": 45,
   "id": "57c67b47",
   "metadata": {},
   "outputs": [
    {
     "data": {
      "text/plain": [
       "'My name is Ahmad'"
      ]
     },
     "execution_count": 45,
     "metadata": {},
     "output_type": "execute_result"
    }
   ],
   "source": [
    "Single_Sente[0]"
   ]
  },
  {
   "cell_type": "code",
   "execution_count": 46,
   "id": "8f97c77a",
   "metadata": {},
   "outputs": [
    {
     "data": {
      "text/plain": [
       "' I am the instructor of MANU465'"
      ]
     },
     "execution_count": 46,
     "metadata": {},
     "output_type": "execute_result"
    }
   ],
   "source": [
    "Single_Sente[1]"
   ]
  },
  {
   "cell_type": "markdown",
   "id": "db6bb82e",
   "metadata": {},
   "source": [
    "# Other Useful Codes"
   ]
  },
  {
   "cell_type": "code",
   "execution_count": 48,
   "id": "4942c7d3",
   "metadata": {},
   "outputs": [],
   "source": [
    "Dic={'k1':'Ahmad', 'k2':40, 'k3':'Teacher', 'k4':5}"
   ]
  },
  {
   "cell_type": "code",
   "execution_count": 50,
   "id": "d125720b",
   "metadata": {},
   "outputs": [
    {
     "data": {
      "text/plain": [
       "dict_keys(['k1', 'k2', 'k3', 'k4'])"
      ]
     },
     "execution_count": 50,
     "metadata": {},
     "output_type": "execute_result"
    }
   ],
   "source": [
    "Dic.keys()"
   ]
  },
  {
   "cell_type": "code",
   "execution_count": 51,
   "id": "3b441dba",
   "metadata": {},
   "outputs": [
    {
     "data": {
      "text/plain": [
       "dict_items([('k1', 'Ahmad'), ('k2', 40), ('k3', 'Teacher'), ('k4', 5)])"
      ]
     },
     "execution_count": 51,
     "metadata": {},
     "output_type": "execute_result"
    }
   ],
   "source": [
    "Dic.items()"
   ]
  },
  {
   "cell_type": "code",
   "execution_count": 52,
   "id": "fb46cb94",
   "metadata": {},
   "outputs": [
    {
     "data": {
      "text/plain": [
       "dict_values(['Ahmad', 40, 'Teacher', 5])"
      ]
     },
     "execution_count": 52,
     "metadata": {},
     "output_type": "execute_result"
    }
   ],
   "source": [
    "Dic.values()"
   ]
  },
  {
   "cell_type": "code",
   "execution_count": 53,
   "id": "bc8704e7",
   "metadata": {},
   "outputs": [
    {
     "data": {
      "text/plain": [
       "'Ahmad'"
      ]
     },
     "execution_count": 53,
     "metadata": {},
     "output_type": "execute_result"
    }
   ],
   "source": [
    "Dic['k1']"
   ]
  },
  {
   "cell_type": "code",
   "execution_count": 1,
   "id": "19c8abf0",
   "metadata": {},
   "outputs": [],
   "source": [
    "Lis=[1,2,3,4,5]"
   ]
  },
  {
   "cell_type": "code",
   "execution_count": 2,
   "id": "2f2870ba",
   "metadata": {},
   "outputs": [
    {
     "data": {
      "text/plain": [
       "1"
      ]
     },
     "execution_count": 2,
     "metadata": {},
     "output_type": "execute_result"
    }
   ],
   "source": [
    "Lis.pop(0) # pop remove one item; if we don't put an index, the default is the last item"
   ]
  },
  {
   "cell_type": "code",
   "execution_count": 3,
   "id": "8961c904",
   "metadata": {},
   "outputs": [
    {
     "data": {
      "text/plain": [
       "[2, 3, 4, 5]"
      ]
     },
     "execution_count": 3,
     "metadata": {},
     "output_type": "execute_result"
    }
   ],
   "source": [
    "Lis"
   ]
  },
  {
   "cell_type": "code",
   "execution_count": 4,
   "id": "6d73d593",
   "metadata": {},
   "outputs": [
    {
     "data": {
      "text/plain": [
       "5"
      ]
     },
     "execution_count": 4,
     "metadata": {},
     "output_type": "execute_result"
    }
   ],
   "source": [
    "Lis.pop()"
   ]
  },
  {
   "cell_type": "code",
   "execution_count": 5,
   "id": "82a53dfd",
   "metadata": {},
   "outputs": [
    {
     "data": {
      "text/plain": [
       "[2, 3, 4]"
      ]
     },
     "execution_count": 5,
     "metadata": {},
     "output_type": "execute_result"
    }
   ],
   "source": [
    "Lis"
   ]
  },
  {
   "cell_type": "code",
   "execution_count": 6,
   "id": "7fa4bc5a",
   "metadata": {},
   "outputs": [],
   "source": [
    "Lis.append(44)  # append, add a new item to the list"
   ]
  },
  {
   "cell_type": "code",
   "execution_count": 7,
   "id": "0c8edc8d",
   "metadata": {},
   "outputs": [
    {
     "data": {
      "text/plain": [
       "[2, 3, 4, 44]"
      ]
     },
     "execution_count": 7,
     "metadata": {},
     "output_type": "execute_result"
    }
   ],
   "source": [
    "Lis"
   ]
  },
  {
   "cell_type": "code",
   "execution_count": 8,
   "id": "4c95a9df",
   "metadata": {},
   "outputs": [
    {
     "data": {
      "text/plain": [
       "False"
      ]
     },
     "execution_count": 8,
     "metadata": {},
     "output_type": "execute_result"
    }
   ],
   "source": [
    "5 in Lis"
   ]
  },
  {
   "cell_type": "code",
   "execution_count": 9,
   "id": "7e8463e5",
   "metadata": {},
   "outputs": [
    {
     "data": {
      "text/plain": [
       "True"
      ]
     },
     "execution_count": 9,
     "metadata": {},
     "output_type": "execute_result"
    }
   ],
   "source": [
    "4 in Lis"
   ]
  },
  {
   "cell_type": "code",
   "execution_count": 10,
   "id": "58c9756e",
   "metadata": {},
   "outputs": [],
   "source": [
    "Lis2=['A', 'B', 'C', 'D']"
   ]
  },
  {
   "cell_type": "code",
   "execution_count": 11,
   "id": "0986f278",
   "metadata": {},
   "outputs": [
    {
     "data": {
      "text/plain": [
       "True"
      ]
     },
     "execution_count": 11,
     "metadata": {},
     "output_type": "execute_result"
    }
   ],
   "source": [
    "'B' in Lis2"
   ]
  },
  {
   "cell_type": "markdown",
   "id": "60dc42de",
   "metadata": {},
   "source": [
    "##### End"
   ]
  }
 ],
 "metadata": {
  "kernelspec": {
   "display_name": "Python 3.9.13 64-bit (microsoft store)",
   "language": "python",
   "name": "python3"
  },
  "language_info": {
   "codemirror_mode": {
    "name": "ipython",
    "version": 3
   },
   "file_extension": ".py",
   "mimetype": "text/x-python",
   "name": "python",
   "nbconvert_exporter": "python",
   "pygments_lexer": "ipython3",
   "version": "3.9.13"
  },
  "toc": {
   "base_numbering": 1,
   "nav_menu": {},
   "number_sections": true,
   "sideBar": true,
   "skip_h1_title": false,
   "title_cell": "Table of Contents",
   "title_sidebar": "Contents",
   "toc_cell": false,
   "toc_position": {},
   "toc_section_display": true,
   "toc_window_display": true
  },
  "vscode": {
   "interpreter": {
    "hash": "6977368cdbc9e31a15f3a50e1f78967c3e0a230b0d574c6eb45f9c1aee39a130"
   }
  }
 },
 "nbformat": 4,
 "nbformat_minor": 5
}

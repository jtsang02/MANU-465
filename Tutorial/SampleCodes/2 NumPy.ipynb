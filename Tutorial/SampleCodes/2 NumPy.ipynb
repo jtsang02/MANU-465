{
 "cells": [
  {
   "cell_type": "markdown",
   "id": "62d1e64c",
   "metadata": {},
   "source": [
    "____\n",
    "<a href='https://aintelligentmanufacturing.com/'><img src='Files\\MANU465Logo2.png' width=250 height=250/></a>"
   ]
  },
  {
   "cell_type": "markdown",
   "id": "0738fcc1",
   "metadata": {},
   "source": [
    "# NumPy Documentation\n",
    "<a href='https://numpy.org/doc/stable/user/absolute_beginners.html'><img src='Files\\NumPyLogo.jpg' width=250 height=250/></a>"
   ]
  },
  {
   "cell_type": "markdown",
   "id": "4e092461",
   "metadata": {},
   "source": [
    "# To Install Numpy Library\n",
    "Run Anaconda Prompt, then type:\n",
    "> conda install numpy\n",
    "\n",
    "> pip install numpy "
   ]
  },
  {
   "cell_type": "markdown",
   "id": "93f94d55",
   "metadata": {},
   "source": [
    "# Numpy Array"
   ]
  },
  {
   "cell_type": "code",
   "execution_count": 1,
   "id": "1ff7753b",
   "metadata": {},
   "outputs": [],
   "source": [
    "X=[1,2,3,4] # This is a list"
   ]
  },
  {
   "cell_type": "code",
   "execution_count": 2,
   "id": "d7c54470",
   "metadata": {},
   "outputs": [
    {
     "data": {
      "text/plain": [
       "list"
      ]
     },
     "execution_count": 2,
     "metadata": {},
     "output_type": "execute_result"
    }
   ],
   "source": [
    "type(X)"
   ]
  },
  {
   "cell_type": "code",
   "execution_count": 7,
   "id": "eb507792",
   "metadata": {},
   "outputs": [],
   "source": [
    "import numpy as np"
   ]
  },
  {
   "cell_type": "code",
   "execution_count": 8,
   "id": "e98757f6",
   "metadata": {},
   "outputs": [],
   "source": [
    "X=np.array(X) # Convert the list to an Array "
   ]
  },
  {
   "cell_type": "code",
   "execution_count": 9,
   "id": "4b374b6a",
   "metadata": {},
   "outputs": [
    {
     "data": {
      "text/plain": [
       "array([1, 2, 3, 4])"
      ]
     },
     "execution_count": 9,
     "metadata": {},
     "output_type": "execute_result"
    }
   ],
   "source": [
    "X"
   ]
  },
  {
   "cell_type": "code",
   "execution_count": 10,
   "id": "2e9c729c",
   "metadata": {},
   "outputs": [],
   "source": [
    "# A 2D Array (a Matrix)\n",
    "Y=np.array([[1,2,3],[4,5,6],[7,8,9]])"
   ]
  },
  {
   "cell_type": "code",
   "execution_count": 11,
   "id": "cb2969fe",
   "metadata": {},
   "outputs": [
    {
     "data": {
      "text/plain": [
       "array([[1, 2, 3],\n",
       "       [4, 5, 6],\n",
       "       [7, 8, 9]])"
      ]
     },
     "execution_count": 11,
     "metadata": {},
     "output_type": "execute_result"
    }
   ],
   "source": [
    "Y"
   ]
  },
  {
   "cell_type": "code",
   "execution_count": 12,
   "id": "951dcf27",
   "metadata": {},
   "outputs": [
    {
     "data": {
      "text/plain": [
       "(3, 3)"
      ]
     },
     "execution_count": 12,
     "metadata": {},
     "output_type": "execute_result"
    }
   ],
   "source": [
    "# To find the size of an Array\n",
    "Y.shape"
   ]
  },
  {
   "cell_type": "markdown",
   "id": "b9913398",
   "metadata": {},
   "source": [
    "##### Note: You can Shift+Tab to see the documentation of a function \n",
    "For example, Type np.arrange(), then Shift+Tab"
   ]
  },
  {
   "cell_type": "markdown",
   "id": "e384aa1d",
   "metadata": {},
   "source": [
    "# Create an Array"
   ]
  },
  {
   "cell_type": "code",
   "execution_count": 13,
   "id": "4e092e41",
   "metadata": {},
   "outputs": [
    {
     "data": {
      "text/plain": [
       "array([0, 1, 2, 3, 4, 5, 6, 7, 8, 9])"
      ]
     },
     "execution_count": 13,
     "metadata": {},
     "output_type": "execute_result"
    }
   ],
   "source": [
    "np.arange(0,10) # default step is 1"
   ]
  },
  {
   "cell_type": "code",
   "execution_count": 8,
   "id": "7e61a006",
   "metadata": {},
   "outputs": [
    {
     "data": {
      "text/plain": [
       "array([0. , 0.2, 0.4, 0.6, 0.8, 1. , 1.2, 1.4, 1.6, 1.8, 2. , 2.2, 2.4,\n",
       "       2.6, 2.8, 3. , 3.2, 3.4, 3.6, 3.8, 4. , 4.2, 4.4, 4.6, 4.8, 5. ,\n",
       "       5.2, 5.4, 5.6, 5.8, 6. , 6.2, 6.4, 6.6, 6.8, 7. , 7.2, 7.4, 7.6,\n",
       "       7.8, 8. , 8.2, 8.4, 8.6, 8.8, 9. , 9.2, 9.4, 9.6, 9.8])"
      ]
     },
     "execution_count": 8,
     "metadata": {},
     "output_type": "execute_result"
    }
   ],
   "source": [
    "np.arange(0,10, 0.2)  # Create an Array between 0 to 10-step, with step=0.2"
   ]
  },
  {
   "cell_type": "code",
   "execution_count": 14,
   "id": "e6b47beb",
   "metadata": {},
   "outputs": [
    {
     "data": {
      "text/plain": [
       "array([ 0.        ,  0.52631579,  1.05263158,  1.57894737,  2.10526316,\n",
       "        2.63157895,  3.15789474,  3.68421053,  4.21052632,  4.73684211,\n",
       "        5.26315789,  5.78947368,  6.31578947,  6.84210526,  7.36842105,\n",
       "        7.89473684,  8.42105263,  8.94736842,  9.47368421, 10.        ])"
      ]
     },
     "execution_count": 14,
     "metadata": {},
     "output_type": "execute_result"
    }
   ],
   "source": [
    "np.linspace(0,10, 20)  # Create an Array of size 20 between 0 to 10"
   ]
  },
  {
   "cell_type": "code",
   "execution_count": 15,
   "id": "e0eb032f",
   "metadata": {},
   "outputs": [
    {
     "data": {
      "text/plain": [
       "array([[1., 0., 0., 0., 0.],\n",
       "       [0., 1., 0., 0., 0.],\n",
       "       [0., 0., 1., 0., 0.],\n",
       "       [0., 0., 0., 1., 0.],\n",
       "       [0., 0., 0., 0., 1.]])"
      ]
     },
     "execution_count": 15,
     "metadata": {},
     "output_type": "execute_result"
    }
   ],
   "source": [
    "# create an identity matrix\n",
    "np.eye(5)"
   ]
  },
  {
   "cell_type": "code",
   "execution_count": 16,
   "id": "5a5384c9",
   "metadata": {},
   "outputs": [
    {
     "data": {
      "text/plain": [
       "array([6.32554773e-01, 9.85554959e-01, 5.84759088e-01, 1.95388491e-01,\n",
       "       5.04159256e-01, 6.72868242e-01, 7.36657896e-01, 1.55292030e-04,\n",
       "       8.90226994e-01, 7.77401398e-01])"
      ]
     },
     "execution_count": 16,
     "metadata": {},
     "output_type": "execute_result"
    }
   ],
   "source": [
    "# Create a random Array \n",
    "np.random.rand(10)"
   ]
  },
  {
   "cell_type": "code",
   "execution_count": 19,
   "id": "77b58964",
   "metadata": {},
   "outputs": [
    {
     "data": {
      "text/plain": [
       "array([[0.55373261, 0.86286734, 0.82459599, 0.13266039, 0.51913822],\n",
       "       [0.73779917, 0.62531583, 0.38248021, 0.58825354, 0.17643355],\n",
       "       [0.99070977, 0.66425049, 0.57347418, 0.13998098, 0.59540599],\n",
       "       [0.71895653, 0.82227071, 0.934138  , 0.52875518, 0.98095342],\n",
       "       [0.01234742, 0.02466047, 0.95117657, 0.81586192, 0.79193354]])"
      ]
     },
     "execution_count": 19,
     "metadata": {},
     "output_type": "execute_result"
    }
   ],
   "source": [
    "# Create a random 2D Array\n",
    "R=np.random.rand(5,5)\n",
    "R"
   ]
  },
  {
   "cell_type": "code",
   "execution_count": 27,
   "id": "4f3c47b9",
   "metadata": {},
   "outputs": [],
   "source": [
    "# Get a random Array from a Normal Distribution\n",
    "N=np.random.randn(100)"
   ]
  },
  {
   "cell_type": "code",
   "execution_count": 28,
   "id": "435ffbbe",
   "metadata": {},
   "outputs": [
    {
     "data": {
      "text/plain": [
       "array([25, 33, 22, 19, 41,  9, 92,  2, 77, 26])"
      ]
     },
     "execution_count": 28,
     "metadata": {},
     "output_type": "execute_result"
    }
   ],
   "source": [
    "# A Random Array of Integer Numbers\n",
    "np.random.randint(0,100,10)"
   ]
  },
  {
   "cell_type": "markdown",
   "id": "f1505b62",
   "metadata": {},
   "source": [
    "# Reshape an Array"
   ]
  },
  {
   "cell_type": "code",
   "execution_count": 29,
   "id": "cba6919d",
   "metadata": {},
   "outputs": [],
   "source": [
    "a=np.arange(24)"
   ]
  },
  {
   "cell_type": "code",
   "execution_count": 30,
   "id": "311b06ce",
   "metadata": {},
   "outputs": [
    {
     "data": {
      "text/plain": [
       "array([ 0,  1,  2,  3,  4,  5,  6,  7,  8,  9, 10, 11, 12, 13, 14, 15, 16,\n",
       "       17, 18, 19, 20, 21, 22, 23])"
      ]
     },
     "execution_count": 30,
     "metadata": {},
     "output_type": "execute_result"
    }
   ],
   "source": [
    "a"
   ]
  },
  {
   "cell_type": "code",
   "execution_count": 31,
   "id": "5fc34041",
   "metadata": {},
   "outputs": [
    {
     "data": {
      "text/plain": [
       "24"
      ]
     },
     "execution_count": 31,
     "metadata": {},
     "output_type": "execute_result"
    }
   ],
   "source": [
    "len(a)"
   ]
  },
  {
   "cell_type": "code",
   "execution_count": 32,
   "id": "aedefab3",
   "metadata": {},
   "outputs": [],
   "source": [
    "A=a.reshape(4,6)  # Note that (Number of Rows x Number of columns) must be equal to length of a"
   ]
  },
  {
   "cell_type": "code",
   "execution_count": 33,
   "id": "c4bcfdbf",
   "metadata": {},
   "outputs": [
    {
     "data": {
      "text/plain": [
       "array([[ 0,  1,  2,  3,  4,  5],\n",
       "       [ 6,  7,  8,  9, 10, 11],\n",
       "       [12, 13, 14, 15, 16, 17],\n",
       "       [18, 19, 20, 21, 22, 23]])"
      ]
     },
     "execution_count": 33,
     "metadata": {},
     "output_type": "execute_result"
    }
   ],
   "source": [
    "A"
   ]
  },
  {
   "cell_type": "markdown",
   "id": "09289898",
   "metadata": {},
   "source": [
    "# Find Max and Min and their index"
   ]
  },
  {
   "cell_type": "code",
   "execution_count": 34,
   "id": "1aba90d2",
   "metadata": {},
   "outputs": [
    {
     "data": {
      "text/plain": [
       "2.8142591455386348"
      ]
     },
     "execution_count": 34,
     "metadata": {},
     "output_type": "execute_result"
    }
   ],
   "source": [
    "# Consider the array N we created above\n",
    "N.max()"
   ]
  },
  {
   "cell_type": "code",
   "execution_count": 35,
   "id": "b9513c16",
   "metadata": {},
   "outputs": [
    {
     "data": {
      "text/plain": [
       "-2.606131116631663"
      ]
     },
     "execution_count": 35,
     "metadata": {},
     "output_type": "execute_result"
    }
   ],
   "source": [
    "N.min()"
   ]
  },
  {
   "cell_type": "code",
   "execution_count": 41,
   "id": "12fdacd9",
   "metadata": {},
   "outputs": [],
   "source": [
    "E=np.random.randint(0,100,10)"
   ]
  },
  {
   "cell_type": "code",
   "execution_count": 42,
   "id": "a41fa4d5",
   "metadata": {},
   "outputs": [
    {
     "data": {
      "text/plain": [
       "array([70,  0, 52, 33, 13, 38, 66, 16, 72, 40])"
      ]
     },
     "execution_count": 42,
     "metadata": {},
     "output_type": "execute_result"
    }
   ],
   "source": [
    "E"
   ]
  },
  {
   "cell_type": "code",
   "execution_count": 43,
   "id": "e7294292",
   "metadata": {},
   "outputs": [
    {
     "data": {
      "text/plain": [
       "72"
      ]
     },
     "execution_count": 43,
     "metadata": {},
     "output_type": "execute_result"
    }
   ],
   "source": [
    "E.max()"
   ]
  },
  {
   "cell_type": "code",
   "execution_count": 44,
   "id": "d6f99ad0",
   "metadata": {},
   "outputs": [
    {
     "data": {
      "text/plain": [
       "8"
      ]
     },
     "execution_count": 44,
     "metadata": {},
     "output_type": "execute_result"
    }
   ],
   "source": [
    "E.argmax() # Give the Position (index) of the Max Number"
   ]
  },
  {
   "cell_type": "markdown",
   "id": "fb563ba4",
   "metadata": {},
   "source": [
    "# Other Useful Attributes"
   ]
  },
  {
   "cell_type": "code",
   "execution_count": 45,
   "id": "39a560a4",
   "metadata": {},
   "outputs": [
    {
     "data": {
      "text/plain": [
       "(10,)"
      ]
     },
     "execution_count": 45,
     "metadata": {},
     "output_type": "execute_result"
    }
   ],
   "source": [
    "E.shape"
   ]
  },
  {
   "cell_type": "code",
   "execution_count": 46,
   "id": "9adc8829",
   "metadata": {},
   "outputs": [
    {
     "data": {
      "text/plain": [
       "(4, 6)"
      ]
     },
     "execution_count": 46,
     "metadata": {},
     "output_type": "execute_result"
    }
   ],
   "source": [
    "A.shape"
   ]
  },
  {
   "cell_type": "code",
   "execution_count": 47,
   "id": "850c6fdc",
   "metadata": {},
   "outputs": [
    {
     "data": {
      "text/plain": [
       "dtype('int32')"
      ]
     },
     "execution_count": 47,
     "metadata": {},
     "output_type": "execute_result"
    }
   ],
   "source": [
    "A.dtype"
   ]
  },
  {
   "cell_type": "code",
   "execution_count": 48,
   "id": "e5b1a5c5",
   "metadata": {},
   "outputs": [
    {
     "data": {
      "text/plain": [
       "dtype('float64')"
      ]
     },
     "execution_count": 48,
     "metadata": {},
     "output_type": "execute_result"
    }
   ],
   "source": [
    "N.dtype"
   ]
  },
  {
   "cell_type": "markdown",
   "id": "52d27f12",
   "metadata": {},
   "source": [
    "# Numpy Indexing"
   ]
  },
  {
   "cell_type": "code",
   "execution_count": 51,
   "id": "d51aedb9",
   "metadata": {},
   "outputs": [
    {
     "data": {
      "text/plain": [
       "array([  7,  11,  25,   8,  42,  55,   9,   7,   0, -45])"
      ]
     },
     "execution_count": 51,
     "metadata": {},
     "output_type": "execute_result"
    }
   ],
   "source": [
    "X=[7,11,25,8,42,55,9,7,0,-45]\n",
    "X=np.array(X)\n",
    "X"
   ]
  },
  {
   "cell_type": "code",
   "execution_count": 52,
   "id": "6c7f92cd",
   "metadata": {},
   "outputs": [
    {
     "data": {
      "text/plain": [
       "7"
      ]
     },
     "execution_count": 52,
     "metadata": {},
     "output_type": "execute_result"
    }
   ],
   "source": [
    "X[0]"
   ]
  },
  {
   "cell_type": "code",
   "execution_count": 53,
   "id": "12c470ba",
   "metadata": {},
   "outputs": [
    {
     "data": {
      "text/plain": [
       "-45"
      ]
     },
     "execution_count": 53,
     "metadata": {},
     "output_type": "execute_result"
    }
   ],
   "source": [
    "X[9]"
   ]
  },
  {
   "cell_type": "code",
   "execution_count": 54,
   "id": "4f98b516",
   "metadata": {},
   "outputs": [
    {
     "data": {
      "text/plain": [
       "array([ 8, 42, 55,  9,  7])"
      ]
     },
     "execution_count": 54,
     "metadata": {},
     "output_type": "execute_result"
    }
   ],
   "source": [
    "X[3:8] # all values from 3rd to (8-1)th "
   ]
  },
  {
   "cell_type": "code",
   "execution_count": 55,
   "id": "9ffc5fdc",
   "metadata": {},
   "outputs": [
    {
     "data": {
      "text/plain": [
       "array([ 7, 11, 25,  8, 42])"
      ]
     },
     "execution_count": 55,
     "metadata": {},
     "output_type": "execute_result"
    }
   ],
   "source": [
    "X[:5] # defualt start is 0"
   ]
  },
  {
   "cell_type": "code",
   "execution_count": 56,
   "id": "7484b425",
   "metadata": {},
   "outputs": [
    {
     "data": {
      "text/plain": [
       "array([ 42,  55,   9,   7,   0, -45])"
      ]
     },
     "execution_count": 56,
     "metadata": {},
     "output_type": "execute_result"
    }
   ],
   "source": [
    "X[4:] # default end is last one"
   ]
  },
  {
   "cell_type": "code",
   "execution_count": 57,
   "id": "1a8ff51a",
   "metadata": {},
   "outputs": [
    {
     "data": {
      "text/plain": [
       "-45"
      ]
     },
     "execution_count": 57,
     "metadata": {},
     "output_type": "execute_result"
    }
   ],
   "source": [
    "X[-1]  # means last one"
   ]
  },
  {
   "cell_type": "code",
   "execution_count": 58,
   "id": "a8542a42",
   "metadata": {},
   "outputs": [
    {
     "data": {
      "text/plain": [
       "array([ 7, 11, 25,  8, 42, 55,  9,  7,  0])"
      ]
     },
     "execution_count": 58,
     "metadata": {},
     "output_type": "execute_result"
    }
   ],
   "source": [
    "X[:-1] # means all except last one"
   ]
  },
  {
   "cell_type": "code",
   "execution_count": 59,
   "id": "8c851622",
   "metadata": {},
   "outputs": [
    {
     "data": {
      "text/plain": [
       "array([ 11,  25,   8,  42,  55,   9,   7,   0, -45])"
      ]
     },
     "execution_count": 59,
     "metadata": {},
     "output_type": "execute_result"
    }
   ],
   "source": [
    "X[1:] # means all except first"
   ]
  },
  {
   "cell_type": "code",
   "execution_count": 60,
   "id": "35d71235",
   "metadata": {},
   "outputs": [
    {
     "data": {
      "text/plain": [
       "array([100, 100, 100, 100,  42,  55,   9,   7,   0, -45])"
      ]
     },
     "execution_count": 60,
     "metadata": {},
     "output_type": "execute_result"
    }
   ],
   "source": [
    "NewX=X\n",
    "NewX[0:4]=100  # replace from 0 to (4-1)rd elements with 100\n",
    "NewX"
   ]
  },
  {
   "cell_type": "code",
   "execution_count": 62,
   "id": "e0a379ac",
   "metadata": {},
   "outputs": [
    {
     "data": {
      "text/plain": [
       "array([100, 100, 100, 100,  42,  55,   9,   7,   0, -45])"
      ]
     },
     "execution_count": 62,
     "metadata": {},
     "output_type": "execute_result"
    }
   ],
   "source": [
    "X # Note that our original X also has changed; if you want to avoid this you must make a copy of the original\n",
    "#   using the copy method, shown below\n"
   ]
  },
  {
   "cell_type": "code",
   "execution_count": 63,
   "id": "cc4ec601",
   "metadata": {},
   "outputs": [
    {
     "data": {
      "text/plain": [
       "array([  7,  11,  25,   8,  42,  55,   9,   7,   0, -45])"
      ]
     },
     "execution_count": 63,
     "metadata": {},
     "output_type": "execute_result"
    }
   ],
   "source": [
    "# Let's make the X again\n",
    "X=[7,11,25,8,42,55,9,7,0,-45]\n",
    "X=np.array(X)\n",
    "X"
   ]
  },
  {
   "cell_type": "code",
   "execution_count": 64,
   "id": "599a53ba",
   "metadata": {},
   "outputs": [],
   "source": [
    "NewX=X.copy()"
   ]
  },
  {
   "cell_type": "code",
   "execution_count": 65,
   "id": "db3ab4ad",
   "metadata": {},
   "outputs": [
    {
     "data": {
      "text/plain": [
       "array([  7,  11,  25,   8,  42,  55,   9,   7,   0, -45])"
      ]
     },
     "execution_count": 65,
     "metadata": {},
     "output_type": "execute_result"
    }
   ],
   "source": [
    "NewX"
   ]
  },
  {
   "cell_type": "code",
   "execution_count": 66,
   "id": "1318461a",
   "metadata": {},
   "outputs": [
    {
     "data": {
      "text/plain": [
       "array([100, 100, 100, 100,  42,  55,   9,   7,   0, -45])"
      ]
     },
     "execution_count": 66,
     "metadata": {},
     "output_type": "execute_result"
    }
   ],
   "source": [
    "NewX[0:4]=100  # replace from 0 to (4-1)rd elements with 100\n",
    "NewX"
   ]
  },
  {
   "cell_type": "code",
   "execution_count": 67,
   "id": "5cb4b39c",
   "metadata": {},
   "outputs": [
    {
     "data": {
      "text/plain": [
       "array([  7,  11,  25,   8,  42,  55,   9,   7,   0, -45])"
      ]
     },
     "execution_count": 67,
     "metadata": {},
     "output_type": "execute_result"
    }
   ],
   "source": [
    "X # As you can see now, the original X is intact. "
   ]
  },
  {
   "cell_type": "markdown",
   "id": "0675cea5",
   "metadata": {},
   "source": [
    "# Indexing 2D Array"
   ]
  },
  {
   "cell_type": "code",
   "execution_count": 68,
   "id": "af284a1a",
   "metadata": {},
   "outputs": [],
   "source": [
    "A=np.array([[1,2,3],[4,5,6]])"
   ]
  },
  {
   "cell_type": "code",
   "execution_count": 69,
   "id": "631c5147",
   "metadata": {},
   "outputs": [
    {
     "data": {
      "text/plain": [
       "array([[1, 2, 3],\n",
       "       [4, 5, 6]])"
      ]
     },
     "execution_count": 69,
     "metadata": {},
     "output_type": "execute_result"
    }
   ],
   "source": [
    "A"
   ]
  },
  {
   "cell_type": "code",
   "execution_count": 70,
   "id": "35193643",
   "metadata": {},
   "outputs": [
    {
     "data": {
      "text/plain": [
       "(2, 3)"
      ]
     },
     "execution_count": 70,
     "metadata": {},
     "output_type": "execute_result"
    }
   ],
   "source": [
    "A.shape"
   ]
  },
  {
   "cell_type": "markdown",
   "id": "de25b881",
   "metadata": {},
   "source": [
    "## Method 1"
   ]
  },
  {
   "cell_type": "code",
   "execution_count": 75,
   "id": "0c0f0d51",
   "metadata": {},
   "outputs": [
    {
     "data": {
      "text/plain": [
       "1"
      ]
     },
     "execution_count": 75,
     "metadata": {},
     "output_type": "execute_result"
    }
   ],
   "source": [
    "A[0][0]"
   ]
  },
  {
   "cell_type": "code",
   "execution_count": 76,
   "id": "20eb7348",
   "metadata": {},
   "outputs": [
    {
     "data": {
      "text/plain": [
       "3"
      ]
     },
     "execution_count": 76,
     "metadata": {},
     "output_type": "execute_result"
    }
   ],
   "source": [
    "A[0][2]"
   ]
  },
  {
   "cell_type": "code",
   "execution_count": 77,
   "id": "22a72994",
   "metadata": {},
   "outputs": [
    {
     "data": {
      "text/plain": [
       "6"
      ]
     },
     "execution_count": 77,
     "metadata": {},
     "output_type": "execute_result"
    }
   ],
   "source": [
    "A[1][2]"
   ]
  },
  {
   "cell_type": "code",
   "execution_count": 78,
   "id": "4917bef1",
   "metadata": {},
   "outputs": [
    {
     "data": {
      "text/plain": [
       "array([1, 2, 3])"
      ]
     },
     "execution_count": 78,
     "metadata": {},
     "output_type": "execute_result"
    }
   ],
   "source": [
    "A[0]"
   ]
  },
  {
   "cell_type": "markdown",
   "id": "f9047e1e",
   "metadata": {},
   "source": [
    "## A Better Method"
   ]
  },
  {
   "cell_type": "code",
   "execution_count": 79,
   "id": "ed6e5b39",
   "metadata": {},
   "outputs": [
    {
     "data": {
      "text/plain": [
       "3"
      ]
     },
     "execution_count": 79,
     "metadata": {},
     "output_type": "execute_result"
    }
   ],
   "source": [
    "A[0,2]"
   ]
  },
  {
   "cell_type": "code",
   "execution_count": 80,
   "id": "f905a859",
   "metadata": {},
   "outputs": [
    {
     "data": {
      "text/plain": [
       "array([1, 2, 3])"
      ]
     },
     "execution_count": 80,
     "metadata": {},
     "output_type": "execute_result"
    }
   ],
   "source": [
    "A[0,:] # Grab first row"
   ]
  },
  {
   "cell_type": "code",
   "execution_count": 81,
   "id": "16cf348a",
   "metadata": {},
   "outputs": [
    {
     "data": {
      "text/plain": [
       "array([[1, 2],\n",
       "       [4, 5]])"
      ]
     },
     "execution_count": 81,
     "metadata": {},
     "output_type": "execute_result"
    }
   ],
   "source": [
    "A[0:2,0:2]"
   ]
  },
  {
   "cell_type": "code",
   "execution_count": 82,
   "id": "bffe8b3c",
   "metadata": {},
   "outputs": [
    {
     "data": {
      "text/plain": [
       "array([1, 4])"
      ]
     },
     "execution_count": 82,
     "metadata": {},
     "output_type": "execute_result"
    }
   ],
   "source": [
    "A[:,0] # Grab first column"
   ]
  },
  {
   "cell_type": "markdown",
   "id": "78723f3d",
   "metadata": {},
   "source": [
    "# Conditional Selection"
   ]
  },
  {
   "cell_type": "code",
   "execution_count": 83,
   "id": "a60f640c",
   "metadata": {},
   "outputs": [],
   "source": [
    "X=np.array([5,7,1,0,4,-8,11,254,44])"
   ]
  },
  {
   "cell_type": "code",
   "execution_count": 84,
   "id": "c8997201",
   "metadata": {},
   "outputs": [],
   "source": [
    "X5=X[X>5]"
   ]
  },
  {
   "cell_type": "code",
   "execution_count": 85,
   "id": "79af88ab",
   "metadata": {},
   "outputs": [
    {
     "data": {
      "text/plain": [
       "array([  7,  11, 254,  44])"
      ]
     },
     "execution_count": 85,
     "metadata": {},
     "output_type": "execute_result"
    }
   ],
   "source": [
    "X5"
   ]
  },
  {
   "cell_type": "code",
   "execution_count": 87,
   "id": "0f8511a1",
   "metadata": {},
   "outputs": [],
   "source": [
    "B=np.arange(50)"
   ]
  },
  {
   "cell_type": "code",
   "execution_count": 88,
   "id": "eed8a546",
   "metadata": {},
   "outputs": [],
   "source": [
    "B=B.reshape(5,10)"
   ]
  },
  {
   "cell_type": "code",
   "execution_count": 89,
   "id": "b9e4311d",
   "metadata": {},
   "outputs": [
    {
     "data": {
      "text/plain": [
       "array([[ 0,  1,  2,  3,  4,  5,  6,  7,  8,  9],\n",
       "       [10, 11, 12, 13, 14, 15, 16, 17, 18, 19],\n",
       "       [20, 21, 22, 23, 24, 25, 26, 27, 28, 29],\n",
       "       [30, 31, 32, 33, 34, 35, 36, 37, 38, 39],\n",
       "       [40, 41, 42, 43, 44, 45, 46, 47, 48, 49]])"
      ]
     },
     "execution_count": 89,
     "metadata": {},
     "output_type": "execute_result"
    }
   ],
   "source": [
    "B"
   ]
  },
  {
   "cell_type": "code",
   "execution_count": 90,
   "id": "d8002031",
   "metadata": {},
   "outputs": [
    {
     "data": {
      "text/plain": [
       "array([[13, 14],\n",
       "       [23, 24]])"
      ]
     },
     "execution_count": 90,
     "metadata": {},
     "output_type": "execute_result"
    }
   ],
   "source": [
    "B[1:3,3:5]"
   ]
  },
  {
   "cell_type": "code",
   "execution_count": 91,
   "id": "d72c95ec",
   "metadata": {},
   "outputs": [],
   "source": [
    "B10=B[B>10]"
   ]
  },
  {
   "cell_type": "code",
   "execution_count": 92,
   "id": "e44aa5b9",
   "metadata": {},
   "outputs": [
    {
     "data": {
      "text/plain": [
       "array([11, 12, 13, 14, 15, 16, 17, 18, 19, 20, 21, 22, 23, 24, 25, 26, 27,\n",
       "       28, 29, 30, 31, 32, 33, 34, 35, 36, 37, 38, 39, 40, 41, 42, 43, 44,\n",
       "       45, 46, 47, 48, 49])"
      ]
     },
     "execution_count": 92,
     "metadata": {},
     "output_type": "execute_result"
    }
   ],
   "source": [
    "B10"
   ]
  },
  {
   "cell_type": "markdown",
   "id": "9f5ac465",
   "metadata": {},
   "source": [
    "# Array Operations"
   ]
  },
  {
   "cell_type": "code",
   "execution_count": 93,
   "id": "26d35d15",
   "metadata": {},
   "outputs": [],
   "source": [
    "C=np.arange(0,10)"
   ]
  },
  {
   "cell_type": "code",
   "execution_count": 94,
   "id": "6414f6c2",
   "metadata": {},
   "outputs": [
    {
     "data": {
      "text/plain": [
       "array([0, 1, 2, 3, 4, 5, 6, 7, 8, 9])"
      ]
     },
     "execution_count": 94,
     "metadata": {},
     "output_type": "execute_result"
    }
   ],
   "source": [
    "C"
   ]
  },
  {
   "cell_type": "code",
   "execution_count": 95,
   "id": "4a03e1d8",
   "metadata": {},
   "outputs": [
    {
     "name": "stdout",
     "output_type": "stream",
     "text": [
      "[ 0  2  4  6  8 10 12 14 16 18]\n"
     ]
    }
   ],
   "source": [
    "C2=C+C\n",
    "print(C2)"
   ]
  },
  {
   "cell_type": "code",
   "execution_count": 96,
   "id": "ce87bb5d",
   "metadata": {},
   "outputs": [
    {
     "name": "stdout",
     "output_type": "stream",
     "text": [
      "[ 0  1  4  9 16 25 36 49 64 81]\n"
     ]
    }
   ],
   "source": [
    "CM=C*C\n",
    "print(CM)"
   ]
  },
  {
   "cell_type": "code",
   "execution_count": 98,
   "id": "de3dd31b",
   "metadata": {},
   "outputs": [
    {
     "name": "stderr",
     "output_type": "stream",
     "text": [
      "<ipython-input-98-a86c1e558cbe>:1: RuntimeWarning: invalid value encountered in true_divide\n",
      "  CD=C/C  # Note, since we have 0/0 , we get a warning, but still we can run the code\n"
     ]
    }
   ],
   "source": [
    "CD=C/C  # Note, since we have 0/0 , we get a warning"
   ]
  },
  {
   "cell_type": "code",
   "execution_count": 99,
   "id": "184b5b48",
   "metadata": {},
   "outputs": [
    {
     "name": "stdout",
     "output_type": "stream",
     "text": [
      "[nan  1.  1.  1.  1.  1.  1.  1.  1.  1.]\n"
     ]
    }
   ],
   "source": [
    "print(CD)"
   ]
  },
  {
   "cell_type": "code",
   "execution_count": 100,
   "id": "5ccad499",
   "metadata": {},
   "outputs": [
    {
     "name": "stdout",
     "output_type": "stream",
     "text": [
      "[100 101 102 103 104 105 106 107 108 109]\n"
     ]
    }
   ],
   "source": [
    "CA=C+100\n",
    "print(CA)"
   ]
  },
  {
   "cell_type": "code",
   "execution_count": 101,
   "id": "620074d1",
   "metadata": {},
   "outputs": [
    {
     "name": "stderr",
     "output_type": "stream",
     "text": [
      "<ipython-input-101-8f3a4db95573>:1: RuntimeWarning: divide by zero encountered in true_divide\n",
      "  CI=1/C\n"
     ]
    }
   ],
   "source": [
    "CI=1/C"
   ]
  },
  {
   "cell_type": "code",
   "execution_count": 102,
   "id": "a9b4ac5c",
   "metadata": {},
   "outputs": [
    {
     "name": "stdout",
     "output_type": "stream",
     "text": [
      "[       inf 1.         0.5        0.33333333 0.25       0.2\n",
      " 0.16666667 0.14285714 0.125      0.11111111]\n"
     ]
    }
   ],
   "source": [
    "print(CI)"
   ]
  },
  {
   "cell_type": "code",
   "execution_count": 103,
   "id": "b6470a1d",
   "metadata": {},
   "outputs": [
    {
     "name": "stdout",
     "output_type": "stream",
     "text": [
      "[ 0  1  4  9 16 25 36 49 64 81]\n"
     ]
    }
   ],
   "source": [
    "CP=C**2\n",
    "print(CP)"
   ]
  },
  {
   "cell_type": "code",
   "execution_count": 104,
   "id": "251d9b99",
   "metadata": {},
   "outputs": [
    {
     "name": "stdout",
     "output_type": "stream",
     "text": [
      "[0.         1.         1.41421356 1.73205081 2.         2.23606798\n",
      " 2.44948974 2.64575131 2.82842712 3.        ]\n"
     ]
    }
   ],
   "source": [
    "CC=C**0.5\n",
    "print(CC)"
   ]
  },
  {
   "cell_type": "code",
   "execution_count": 105,
   "id": "ef5843a6",
   "metadata": {},
   "outputs": [
    {
     "name": "stdout",
     "output_type": "stream",
     "text": [
      "[0.         1.         1.41421356 1.73205081 2.         2.23606798\n",
      " 2.44948974 2.64575131 2.82842712 3.        ]\n"
     ]
    }
   ],
   "source": [
    "CC2=np.sqrt(C)\n",
    "print(CC2)"
   ]
  },
  {
   "cell_type": "code",
   "execution_count": 107,
   "id": "b51b905b",
   "metadata": {},
   "outputs": [
    {
     "name": "stdout",
     "output_type": "stream",
     "text": [
      "[1.00000000e+00 2.71828183e+00 7.38905610e+00 2.00855369e+01\n",
      " 5.45981500e+01 1.48413159e+02 4.03428793e+02 1.09663316e+03\n",
      " 2.98095799e+03 8.10308393e+03]\n"
     ]
    }
   ],
   "source": [
    "CE=np.exp(C)\n",
    "print(CE)"
   ]
  },
  {
   "cell_type": "code",
   "execution_count": 109,
   "id": "3a14c286",
   "metadata": {},
   "outputs": [
    {
     "name": "stdout",
     "output_type": "stream",
     "text": [
      "Maximum Value of this Array is  9\n"
     ]
    }
   ],
   "source": [
    "CMax=np.max(C)\n",
    "print('Maximum Value of this Array is ', CMax)"
   ]
  },
  {
   "cell_type": "code",
   "execution_count": 112,
   "id": "447c27db",
   "metadata": {},
   "outputs": [
    {
     "data": {
      "text/plain": [
       "array([ 0.        ,  0.84147098,  0.90929743,  0.14112001, -0.7568025 ,\n",
       "       -0.95892427, -0.2794155 ,  0.6569866 ,  0.98935825,  0.41211849])"
      ]
     },
     "execution_count": 112,
     "metadata": {},
     "output_type": "execute_result"
    }
   ],
   "source": [
    "# Apply a Function to an Array\n",
    "CS=np.sin(C)\n",
    "CS"
   ]
  },
  {
   "cell_type": "markdown",
   "id": "b34747a5",
   "metadata": {},
   "source": [
    "____\n",
    "**Here you can find the list of all fuctions in NumPy**\n",
    "<a href='https://numpy.org/doc/stable/reference/routines.math.html'><img src='Files\\NumpyLogo.jpg' width=250 height=250/></a>\n",
    "____"
   ]
  },
  {
   "cell_type": "markdown",
   "id": "63231005",
   "metadata": {},
   "source": [
    "##### End"
   ]
  }
 ],
 "metadata": {
  "kernelspec": {
   "display_name": "Python 3",
   "language": "python",
   "name": "python3"
  },
  "language_info": {
   "codemirror_mode": {
    "name": "ipython",
    "version": 3
   },
   "file_extension": ".py",
   "mimetype": "text/x-python",
   "name": "python",
   "nbconvert_exporter": "python",
   "pygments_lexer": "ipython3",
   "version": "3.8.8"
  },
  "toc": {
   "base_numbering": 1,
   "nav_menu": {},
   "number_sections": true,
   "sideBar": true,
   "skip_h1_title": false,
   "title_cell": "Table of Contents",
   "title_sidebar": "Contents",
   "toc_cell": false,
   "toc_position": {
    "height": "calc(100% - 180px)",
    "left": "10px",
    "top": "150px",
    "width": "186px"
   },
   "toc_section_display": true,
   "toc_window_display": true
  }
 },
 "nbformat": 4,
 "nbformat_minor": 5
}

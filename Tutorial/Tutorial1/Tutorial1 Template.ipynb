{
 "cells": [
  {
   "cell_type": "markdown",
   "id": "d3605422-b34f-4199-aa01-c6d7ba080622",
   "metadata": {},
   "source": [
    "# Tutorial 1 The Titanic Disaster\n",
    "\n",
    "## Project Summary\n",
    "Predict which passengers survived the Titanic shipwreck."
   ]
  },
  {
   "cell_type": "markdown",
   "id": "681cf9ed-3af2-426e-a4c0-f700e7a9e729",
   "metadata": {},
   "source": [
    "## Importing Some Basic Libraries"
   ]
  },
  {
   "cell_type": "code",
   "execution_count": 1,
   "id": "50435b6a-111b-495e-9af9-ca2aa0c43bb3",
   "metadata": {},
   "outputs": [],
   "source": [
    "import numpy as np \n",
    "import pandas as pd \n",
    "from matplotlib import pyplot as plt"
   ]
  },
  {
   "cell_type": "markdown",
   "id": "d65cf566-b637-4a74-893a-4e88e813b96d",
   "metadata": {},
   "source": [
    "## Importing the Dataset"
   ]
  },
  {
   "cell_type": "code",
   "execution_count": null,
   "id": "95d47113-cba9-49e0-8240-afacc0e46774",
   "metadata": {},
   "outputs": [],
   "source": [
    "dataset = pd.read_csv('.csv')"
   ]
  },
  {
   "cell_type": "markdown",
   "id": "485b15b0-a80c-4f4b-9a3c-a90b7b54eb56",
   "metadata": {},
   "source": [
    "## Showing the Dataset in a Table"
   ]
  },
  {
   "cell_type": "code",
   "execution_count": null,
   "id": "3e1988e3-1997-476e-8e95-18e45e222715",
   "metadata": {},
   "outputs": [],
   "source": []
  },
  {
   "cell_type": "markdown",
   "id": "057741e5-5c38-4bde-ba63-b5a25831ad0f",
   "metadata": {},
   "source": [
    "## A Quick Review of the Data"
   ]
  },
  {
   "cell_type": "code",
   "execution_count": null,
   "id": "3a68688c-a2e0-4fd9-83cb-6d891981ab75",
   "metadata": {},
   "outputs": [],
   "source": []
  },
  {
   "cell_type": "markdown",
   "id": "1ca8655e-b265-43b8-a39d-9fe23a31d1c6",
   "metadata": {},
   "source": [
    "## Encoding Categorical Data"
   ]
  },
  {
   "cell_type": "markdown",
   "id": "c17a56f1-51c6-48c7-af34-e54f0fb96194",
   "metadata": {},
   "source": [
    "### Encoding the Input Data"
   ]
  },
  {
   "cell_type": "code",
   "execution_count": null,
   "id": "93dcc8d0-276d-4722-82cd-6e8019015298",
   "metadata": {},
   "outputs": [],
   "source": []
  },
  {
   "cell_type": "markdown",
   "id": "409fc8a0-205f-4cc0-af4e-95bf0b8230ba",
   "metadata": {},
   "source": [
    "### Encoding the Output Data (Labels)"
   ]
  },
  {
   "cell_type": "code",
   "execution_count": null,
   "id": "171eccd9-cd79-4ece-b27b-b091cc947bdb",
   "metadata": {},
   "outputs": [],
   "source": []
  },
  {
   "cell_type": "markdown",
   "id": "a8ed9f0e-cfb9-4b9c-ab58-fbd28c313198",
   "metadata": {},
   "source": [
    "## Dropping Irrelevant Input Data "
   ]
  },
  {
   "cell_type": "code",
   "execution_count": null,
   "id": "4a903c48-dd32-4333-bd3d-127a790f639b",
   "metadata": {},
   "outputs": [],
   "source": []
  },
  {
   "cell_type": "markdown",
   "id": "8227d4a3-7ce9-4acb-bd66-12b42ea53280",
   "metadata": {},
   "source": [
    "## Checking the Preprocessed Dataset"
   ]
  },
  {
   "cell_type": "code",
   "execution_count": null,
   "id": "a836950c-44a7-4260-aa42-f8e5ec8173a5",
   "metadata": {},
   "outputs": [],
   "source": []
  },
  {
   "cell_type": "markdown",
   "id": "5a3158a8-d49a-44b9-bd32-0c5dbf55b680",
   "metadata": {},
   "source": [
    "## Splitting the Dataset into the Training Set and Test Set"
   ]
  },
  {
   "cell_type": "code",
   "execution_count": null,
   "id": "f1393161-46cd-4ba8-9821-a4298733f28c",
   "metadata": {},
   "outputs": [],
   "source": []
  },
  {
   "cell_type": "markdown",
   "id": "43a4add3-522d-4854-8f50-919175b3cbe6",
   "metadata": {},
   "source": [
    "## Showing the Input Data in a Table Format"
   ]
  },
  {
   "cell_type": "code",
   "execution_count": null,
   "id": "8c67d6fe-247a-4e5c-9b68-489d5c9fb34f",
   "metadata": {},
   "outputs": [],
   "source": []
  },
  {
   "cell_type": "markdown",
   "id": "29b469a6-89a5-4e9c-a0ba-5642bb1db9dc",
   "metadata": {},
   "source": [
    "## A Quick Check of the Output Data"
   ]
  },
  {
   "cell_type": "code",
   "execution_count": null,
   "id": "0acdbab5-61b2-4402-8e18-718c32c8c06b",
   "metadata": {},
   "outputs": [],
   "source": []
  },
  {
   "cell_type": "markdown",
   "id": "e71613ba-1be3-46f5-9d35-ec8bb569e8ed",
   "metadata": {},
   "source": [
    "## Taking Care of Missing Data Inputs"
   ]
  },
  {
   "cell_type": "code",
   "execution_count": null,
   "id": "ec20b8ae-bc67-438e-a87c-50b82600f127",
   "metadata": {},
   "outputs": [],
   "source": []
  },
  {
   "cell_type": "markdown",
   "id": "7732945b-2f59-4d5b-9da3-25ab66fd8d75",
   "metadata": {},
   "source": [
    "## Scaling the Features"
   ]
  },
  {
   "cell_type": "code",
   "execution_count": null,
   "id": "d9b662ae-42ab-4c1d-bcf7-2d77ddeb5da9",
   "metadata": {},
   "outputs": [],
   "source": []
  },
  {
   "cell_type": "markdown",
   "id": "50ad566d-d2a5-46b3-9fc5-ee9ee974ba6e",
   "metadata": {},
   "source": [
    "## Training and Testing Predictive Models"
   ]
  },
  {
   "cell_type": "code",
   "execution_count": null,
   "id": "f72ea651-590a-447e-8653-a16c765e0eb1",
   "metadata": {},
   "outputs": [],
   "source": []
  }
 ],
 "metadata": {
  "kernelspec": {
   "display_name": "Python 3 (ipykernel)",
   "language": "python",
   "name": "python3"
  },
  "language_info": {
   "codemirror_mode": {
    "name": "ipython",
    "version": 3
   },
   "file_extension": ".py",
   "mimetype": "text/x-python",
   "name": "python",
   "nbconvert_exporter": "python",
   "pygments_lexer": "ipython3",
   "version": "3.9.0"
  }
 },
 "nbformat": 4,
 "nbformat_minor": 5
}

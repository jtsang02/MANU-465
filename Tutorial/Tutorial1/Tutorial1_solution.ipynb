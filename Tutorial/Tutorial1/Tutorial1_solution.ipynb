{
  "cells": [
    {
      "cell_type": "markdown",
      "source": [
        "## Mounting Colab on my Google Drive"
      ],
      "metadata": {
        "id": "wLFqy6VIKWJo"
      },
      "id": "wLFqy6VIKWJo"
    },
    {
      "cell_type": "code",
      "source": [
        "from google.colab import drive\n",
        "drive.mount(\"/content/drive\")"
      ],
      "metadata": {
        "colab": {
          "base_uri": "https://localhost:8080/"
        },
        "id": "xD8ZvDg3KUaJ",
        "outputId": "d6524d23-aab1-4116-eb0f-03ea1eb9ac50"
      },
      "id": "xD8ZvDg3KUaJ",
      "execution_count": null,
      "outputs": [
        {
          "output_type": "stream",
          "name": "stdout",
          "text": [
            "Drive already mounted at /content/drive; to attempt to forcibly remount, call drive.mount(\"/content/drive\", force_remount=True).\n"
          ]
        }
      ]
    },
    {
      "cell_type": "markdown",
      "source": [
        "Changing the directory "
      ],
      "metadata": {
        "id": "eB31355CKvjA"
      },
      "id": "eB31355CKvjA"
    },
    {
      "cell_type": "markdown",
      "source": [],
      "metadata": {
        "id": "AtOF-4ws6ZOY"
      },
      "id": "AtOF-4ws6ZOY"
    },
    {
      "cell_type": "code",
      "source": [
        "%cd /content/drive/MyDrive/Tutorials/Tutorial 1"
      ],
      "metadata": {
        "colab": {
          "base_uri": "https://localhost:8080/"
        },
        "id": "FM4c8abAKyKc",
        "outputId": "60efe49f-2980-4db7-9f14-37a84920a26b"
      },
      "id": "FM4c8abAKyKc",
      "execution_count": null,
      "outputs": [
        {
          "output_type": "stream",
          "name": "stdout",
          "text": [
            "/content/drive/MyDrive/Tutorials/Tutorial 1\n"
          ]
        }
      ]
    },
    {
      "cell_type": "markdown",
      "source": [
        "Checking the contents of the current directory"
      ],
      "metadata": {
        "id": "eZfG94mbK47h"
      },
      "id": "eZfG94mbK47h"
    },
    {
      "cell_type": "code",
      "source": [
        "!ls"
      ],
      "metadata": {
        "colab": {
          "base_uri": "https://localhost:8080/"
        },
        "id": "7_UQB5QOK8tC",
        "outputId": "2a5f96bb-1064-444f-abe5-5b82c26a8d76"
      },
      "id": "7_UQB5QOK8tC",
      "execution_count": null,
      "outputs": [
        {
          "output_type": "stream",
          "name": "stdout",
          "text": [
            " Titanic_Data.csv  'Tutorial1 Solution.ipynb'  'Tutorial1 Template.ipynb'\n"
          ]
        }
      ]
    },
    {
      "cell_type": "markdown",
      "id": "d3605422-b34f-4199-aa01-c6d7ba080622",
      "metadata": {
        "id": "d3605422-b34f-4199-aa01-c6d7ba080622"
      },
      "source": [
        "# Tutorial 1 The Titanic Disaster\n",
        "\n",
        "## Project Summary\n",
        "Predict which passengers survived the Titanic shipwreck."
      ]
    },
    {
      "cell_type": "markdown",
      "id": "681cf9ed-3af2-426e-a4c0-f700e7a9e729",
      "metadata": {
        "id": "681cf9ed-3af2-426e-a4c0-f700e7a9e729"
      },
      "source": [
        "## Importing Some Basic Libraries"
      ]
    },
    {
      "cell_type": "code",
      "execution_count": null,
      "id": "50435b6a-111b-495e-9af9-ca2aa0c43bb3",
      "metadata": {
        "id": "50435b6a-111b-495e-9af9-ca2aa0c43bb3"
      },
      "outputs": [],
      "source": [
        "import numpy as np \n",
        "import pandas as pd \n",
        "from matplotlib import pyplot as plt"
      ]
    },
    {
      "cell_type": "markdown",
      "id": "d65cf566-b637-4a74-893a-4e88e813b96d",
      "metadata": {
        "id": "d65cf566-b637-4a74-893a-4e88e813b96d"
      },
      "source": [
        "## Importing the Dataset"
      ]
    },
    {
      "cell_type": "code",
      "execution_count": null,
      "id": "95d47113-cba9-49e0-8240-afacc0e46774",
      "metadata": {
        "id": "95d47113-cba9-49e0-8240-afacc0e46774"
      },
      "outputs": [],
      "source": [
        "dataset = pd.read_csv('Titanic_Data.csv')"
      ]
    },
    {
      "cell_type": "markdown",
      "id": "485b15b0-a80c-4f4b-9a3c-a90b7b54eb56",
      "metadata": {
        "id": "485b15b0-a80c-4f4b-9a3c-a90b7b54eb56"
      },
      "source": [
        "## Showing the Dataset in a Table"
      ]
    },
    {
      "cell_type": "code",
      "execution_count": null,
      "id": "3e1988e3-1997-476e-8e95-18e45e222715",
      "metadata": {
        "id": "3e1988e3-1997-476e-8e95-18e45e222715",
        "colab": {
          "base_uri": "https://localhost:8080/",
          "height": 222
        },
        "outputId": "ae093a35-f7e4-42be-c6b1-ecb8a762ddeb"
      },
      "outputs": [
        {
          "output_type": "execute_result",
          "data": {
            "text/plain": [
              "   PassengerId  Pclass                                               Name  \\\n",
              "0            1       3                            Braund, Mr. Owen Harris   \n",
              "1            2       1  Cumings, Mrs. John Bradley (Florence Briggs Th...   \n",
              "2            3       3                             Heikkinen, Miss. Laina   \n",
              "\n",
              "      Sex   Age  Number of Siblings/Spouses Aboard  \\\n",
              "0    male  22.0                                  1   \n",
              "1  female  38.0                                  1   \n",
              "2  female  26.0                                  0   \n",
              "\n",
              "   Number of Parents/Children Aboard     Fare Embarked Survived  \n",
              "0                                  0   7.2500        S       No  \n",
              "1                                  0  71.2833        C      Yes  \n",
              "2                                  0   7.9250        S      Yes  "
            ],
            "text/html": [
              "\n",
              "  <div id=\"df-88314e2f-4218-43f1-91cc-c7fd0640f72c\">\n",
              "    <div class=\"colab-df-container\">\n",
              "      <div>\n",
              "<style scoped>\n",
              "    .dataframe tbody tr th:only-of-type {\n",
              "        vertical-align: middle;\n",
              "    }\n",
              "\n",
              "    .dataframe tbody tr th {\n",
              "        vertical-align: top;\n",
              "    }\n",
              "\n",
              "    .dataframe thead th {\n",
              "        text-align: right;\n",
              "    }\n",
              "</style>\n",
              "<table border=\"1\" class=\"dataframe\">\n",
              "  <thead>\n",
              "    <tr style=\"text-align: right;\">\n",
              "      <th></th>\n",
              "      <th>PassengerId</th>\n",
              "      <th>Pclass</th>\n",
              "      <th>Name</th>\n",
              "      <th>Sex</th>\n",
              "      <th>Age</th>\n",
              "      <th>Number of Siblings/Spouses Aboard</th>\n",
              "      <th>Number of Parents/Children Aboard</th>\n",
              "      <th>Fare</th>\n",
              "      <th>Embarked</th>\n",
              "      <th>Survived</th>\n",
              "    </tr>\n",
              "  </thead>\n",
              "  <tbody>\n",
              "    <tr>\n",
              "      <th>0</th>\n",
              "      <td>1</td>\n",
              "      <td>3</td>\n",
              "      <td>Braund, Mr. Owen Harris</td>\n",
              "      <td>male</td>\n",
              "      <td>22.0</td>\n",
              "      <td>1</td>\n",
              "      <td>0</td>\n",
              "      <td>7.2500</td>\n",
              "      <td>S</td>\n",
              "      <td>No</td>\n",
              "    </tr>\n",
              "    <tr>\n",
              "      <th>1</th>\n",
              "      <td>2</td>\n",
              "      <td>1</td>\n",
              "      <td>Cumings, Mrs. John Bradley (Florence Briggs Th...</td>\n",
              "      <td>female</td>\n",
              "      <td>38.0</td>\n",
              "      <td>1</td>\n",
              "      <td>0</td>\n",
              "      <td>71.2833</td>\n",
              "      <td>C</td>\n",
              "      <td>Yes</td>\n",
              "    </tr>\n",
              "    <tr>\n",
              "      <th>2</th>\n",
              "      <td>3</td>\n",
              "      <td>3</td>\n",
              "      <td>Heikkinen, Miss. Laina</td>\n",
              "      <td>female</td>\n",
              "      <td>26.0</td>\n",
              "      <td>0</td>\n",
              "      <td>0</td>\n",
              "      <td>7.9250</td>\n",
              "      <td>S</td>\n",
              "      <td>Yes</td>\n",
              "    </tr>\n",
              "  </tbody>\n",
              "</table>\n",
              "</div>\n",
              "      <button class=\"colab-df-convert\" onclick=\"convertToInteractive('df-88314e2f-4218-43f1-91cc-c7fd0640f72c')\"\n",
              "              title=\"Convert this dataframe to an interactive table.\"\n",
              "              style=\"display:none;\">\n",
              "        \n",
              "  <svg xmlns=\"http://www.w3.org/2000/svg\" height=\"24px\"viewBox=\"0 0 24 24\"\n",
              "       width=\"24px\">\n",
              "    <path d=\"M0 0h24v24H0V0z\" fill=\"none\"/>\n",
              "    <path d=\"M18.56 5.44l.94 2.06.94-2.06 2.06-.94-2.06-.94-.94-2.06-.94 2.06-2.06.94zm-11 1L8.5 8.5l.94-2.06 2.06-.94-2.06-.94L8.5 2.5l-.94 2.06-2.06.94zm10 10l.94 2.06.94-2.06 2.06-.94-2.06-.94-.94-2.06-.94 2.06-2.06.94z\"/><path d=\"M17.41 7.96l-1.37-1.37c-.4-.4-.92-.59-1.43-.59-.52 0-1.04.2-1.43.59L10.3 9.45l-7.72 7.72c-.78.78-.78 2.05 0 2.83L4 21.41c.39.39.9.59 1.41.59.51 0 1.02-.2 1.41-.59l7.78-7.78 2.81-2.81c.8-.78.8-2.07 0-2.86zM5.41 20L4 18.59l7.72-7.72 1.47 1.35L5.41 20z\"/>\n",
              "  </svg>\n",
              "      </button>\n",
              "      \n",
              "  <style>\n",
              "    .colab-df-container {\n",
              "      display:flex;\n",
              "      flex-wrap:wrap;\n",
              "      gap: 12px;\n",
              "    }\n",
              "\n",
              "    .colab-df-convert {\n",
              "      background-color: #E8F0FE;\n",
              "      border: none;\n",
              "      border-radius: 50%;\n",
              "      cursor: pointer;\n",
              "      display: none;\n",
              "      fill: #1967D2;\n",
              "      height: 32px;\n",
              "      padding: 0 0 0 0;\n",
              "      width: 32px;\n",
              "    }\n",
              "\n",
              "    .colab-df-convert:hover {\n",
              "      background-color: #E2EBFA;\n",
              "      box-shadow: 0px 1px 2px rgba(60, 64, 67, 0.3), 0px 1px 3px 1px rgba(60, 64, 67, 0.15);\n",
              "      fill: #174EA6;\n",
              "    }\n",
              "\n",
              "    [theme=dark] .colab-df-convert {\n",
              "      background-color: #3B4455;\n",
              "      fill: #D2E3FC;\n",
              "    }\n",
              "\n",
              "    [theme=dark] .colab-df-convert:hover {\n",
              "      background-color: #434B5C;\n",
              "      box-shadow: 0px 1px 3px 1px rgba(0, 0, 0, 0.15);\n",
              "      filter: drop-shadow(0px 1px 2px rgba(0, 0, 0, 0.3));\n",
              "      fill: #FFFFFF;\n",
              "    }\n",
              "  </style>\n",
              "\n",
              "      <script>\n",
              "        const buttonEl =\n",
              "          document.querySelector('#df-88314e2f-4218-43f1-91cc-c7fd0640f72c button.colab-df-convert');\n",
              "        buttonEl.style.display =\n",
              "          google.colab.kernel.accessAllowed ? 'block' : 'none';\n",
              "\n",
              "        async function convertToInteractive(key) {\n",
              "          const element = document.querySelector('#df-88314e2f-4218-43f1-91cc-c7fd0640f72c');\n",
              "          const dataTable =\n",
              "            await google.colab.kernel.invokeFunction('convertToInteractive',\n",
              "                                                     [key], {});\n",
              "          if (!dataTable) return;\n",
              "\n",
              "          const docLinkHtml = 'Like what you see? Visit the ' +\n",
              "            '<a target=\"_blank\" href=https://colab.research.google.com/notebooks/data_table.ipynb>data table notebook</a>'\n",
              "            + ' to learn more about interactive tables.';\n",
              "          element.innerHTML = '';\n",
              "          dataTable['output_type'] = 'display_data';\n",
              "          await google.colab.output.renderOutput(dataTable, element);\n",
              "          const docLink = document.createElement('div');\n",
              "          docLink.innerHTML = docLinkHtml;\n",
              "          element.appendChild(docLink);\n",
              "        }\n",
              "      </script>\n",
              "    </div>\n",
              "  </div>\n",
              "  "
            ]
          },
          "metadata": {},
          "execution_count": 10
        }
      ],
      "source": [
        "dataset.head(3)"
      ]
    },
    {
      "cell_type": "markdown",
      "id": "057741e5-5c38-4bde-ba63-b5a25831ad0f",
      "metadata": {
        "id": "057741e5-5c38-4bde-ba63-b5a25831ad0f"
      },
      "source": [
        "## A Quick Review of the Data"
      ]
    },
    {
      "cell_type": "code",
      "execution_count": null,
      "id": "3a68688c-a2e0-4fd9-83cb-6d891981ab75",
      "metadata": {
        "id": "3a68688c-a2e0-4fd9-83cb-6d891981ab75",
        "colab": {
          "base_uri": "https://localhost:8080/"
        },
        "outputId": "9c0f24ae-8270-4327-8e7a-5122166ace15"
      },
      "outputs": [
        {
          "output_type": "stream",
          "name": "stdout",
          "text": [
            "<class 'pandas.core.frame.DataFrame'>\n",
            "RangeIndex: 891 entries, 0 to 890\n",
            "Data columns (total 10 columns):\n",
            " #   Column                             Non-Null Count  Dtype  \n",
            "---  ------                             --------------  -----  \n",
            " 0   PassengerId                        891 non-null    int64  \n",
            " 1   Pclass                             891 non-null    int64  \n",
            " 2   Name                               891 non-null    object \n",
            " 3   Sex                                891 non-null    object \n",
            " 4   Age                                714 non-null    float64\n",
            " 5   Number of Siblings/Spouses Aboard  891 non-null    int64  \n",
            " 6   Number of Parents/Children Aboard  891 non-null    int64  \n",
            " 7   Fare                               891 non-null    float64\n",
            " 8   Embarked                           889 non-null    object \n",
            " 9   Survived                           891 non-null    object \n",
            "dtypes: float64(2), int64(4), object(4)\n",
            "memory usage: 69.7+ KB\n"
          ]
        }
      ],
      "source": [
        "dataset.info()"
      ]
    },
    {
      "cell_type": "code",
      "source": [],
      "metadata": {
        "id": "i8dLdCY88urL"
      },
      "id": "i8dLdCY88urL",
      "execution_count": null,
      "outputs": []
    },
    {
      "cell_type": "markdown",
      "id": "1ca8655e-b265-43b8-a39d-9fe23a31d1c6",
      "metadata": {
        "id": "1ca8655e-b265-43b8-a39d-9fe23a31d1c6"
      },
      "source": [
        "## Encoding Categorical Data"
      ]
    },
    {
      "cell_type": "markdown",
      "id": "c17a56f1-51c6-48c7-af34-e54f0fb96194",
      "metadata": {
        "id": "c17a56f1-51c6-48c7-af34-e54f0fb96194"
      },
      "source": [
        "### Encoding the Input Data"
      ]
    },
    {
      "cell_type": "markdown",
      "source": [
        "**For the gender column**"
      ],
      "metadata": {
        "id": "iiSEvHBVL74R"
      },
      "id": "iiSEvHBVL74R"
    },
    {
      "cell_type": "code",
      "source": [
        "gender = {\"male\":0.0, \"female\":1.0}"
      ],
      "metadata": {
        "id": "dg8zaUWgOh7-"
      },
      "id": "dg8zaUWgOh7-",
      "execution_count": null,
      "outputs": []
    },
    {
      "cell_type": "code",
      "source": [
        "dataset['Sex'] = dataset['Sex'].map(gender)"
      ],
      "metadata": {
        "id": "yewbpPWK8vbM"
      },
      "id": "yewbpPWK8vbM",
      "execution_count": null,
      "outputs": []
    },
    {
      "cell_type": "code",
      "source": [
        "dataset['Sex'].head()"
      ],
      "metadata": {
        "colab": {
          "base_uri": "https://localhost:8080/"
        },
        "id": "Sh6Dc4xB9R89",
        "outputId": "15526e49-199a-41fb-cab9-69c00dbd174f"
      },
      "id": "Sh6Dc4xB9R89",
      "execution_count": null,
      "outputs": [
        {
          "output_type": "execute_result",
          "data": {
            "text/plain": [
              "0    0.0\n",
              "1    1.0\n",
              "2    1.0\n",
              "3    1.0\n",
              "4    0.0\n",
              "Name: Sex, dtype: float64"
            ]
          },
          "metadata": {},
          "execution_count": 14
        }
      ]
    },
    {
      "cell_type": "markdown",
      "source": [
        "For the 'embarked' column"
      ],
      "metadata": {
        "id": "-6L9uB4qMAAC"
      },
      "id": "-6L9uB4qMAAC"
    },
    {
      "cell_type": "code",
      "source": [
        "print(dataset['Embarked'].unique())"
      ],
      "metadata": {
        "id": "2So1zEfQOkXl",
        "colab": {
          "base_uri": "https://localhost:8080/"
        },
        "outputId": "4203557e-95a1-4d26-c820-978226e5d284"
      },
      "id": "2So1zEfQOkXl",
      "execution_count": null,
      "outputs": [
        {
          "output_type": "stream",
          "name": "stdout",
          "text": [
            "['S' 'C' 'Q' nan]\n"
          ]
        }
      ]
    },
    {
      "cell_type": "code",
      "source": [
        "ports = {'S':0.0, \"C\":1.0, 'Q':2.0}"
      ],
      "metadata": {
        "id": "bKQeXJD49jxq"
      },
      "id": "bKQeXJD49jxq",
      "execution_count": null,
      "outputs": []
    },
    {
      "cell_type": "code",
      "source": [
        "dataset['Embarked'] = dataset['Embarked'].map(ports)"
      ],
      "metadata": {
        "id": "7nm2VPLT9rgk"
      },
      "id": "7nm2VPLT9rgk",
      "execution_count": null,
      "outputs": []
    },
    {
      "cell_type": "code",
      "source": [
        "dataset['Embarked'].head()"
      ],
      "metadata": {
        "colab": {
          "base_uri": "https://localhost:8080/"
        },
        "id": "7Zhqscb19rjE",
        "outputId": "263e68f9-86e6-4d43-bbd4-75fe87cda58e"
      },
      "id": "7Zhqscb19rjE",
      "execution_count": null,
      "outputs": [
        {
          "output_type": "execute_result",
          "data": {
            "text/plain": [
              "0    0.0\n",
              "1    1.0\n",
              "2    0.0\n",
              "3    0.0\n",
              "4    0.0\n",
              "Name: Embarked, dtype: float64"
            ]
          },
          "metadata": {},
          "execution_count": 18
        }
      ]
    },
    {
      "cell_type": "code",
      "source": [],
      "metadata": {
        "id": "UN27ZXij9rkW"
      },
      "id": "UN27ZXij9rkW",
      "execution_count": null,
      "outputs": []
    },
    {
      "cell_type": "markdown",
      "id": "409fc8a0-205f-4cc0-af4e-95bf0b8230ba",
      "metadata": {
        "id": "409fc8a0-205f-4cc0-af4e-95bf0b8230ba"
      },
      "source": [
        "### Encoding the Output Data (Labels)"
      ]
    },
    {
      "cell_type": "code",
      "source": [
        "from sklearn.preprocessing import LabelEncoder\n",
        "\n",
        "le = LabelEncoder()\n",
        "dataset['Survived'] = le.fit_transform(dataset['Survived'])"
      ],
      "metadata": {
        "id": "79e1MF69D07i"
      },
      "id": "79e1MF69D07i",
      "execution_count": null,
      "outputs": []
    },
    {
      "cell_type": "code",
      "source": [
        "dataset['Survived'].head()"
      ],
      "metadata": {
        "colab": {
          "base_uri": "https://localhost:8080/"
        },
        "id": "KhIl0s-F_H9g",
        "outputId": "6fa27105-b1c4-4a41-cd5e-158c3be5e285"
      },
      "id": "KhIl0s-F_H9g",
      "execution_count": null,
      "outputs": [
        {
          "output_type": "execute_result",
          "data": {
            "text/plain": [
              "0    0\n",
              "1    1\n",
              "2    1\n",
              "3    1\n",
              "4    0\n",
              "Name: Survived, dtype: int64"
            ]
          },
          "metadata": {},
          "execution_count": 20
        }
      ]
    },
    {
      "cell_type": "markdown",
      "id": "a8ed9f0e-cfb9-4b9c-ab58-fbd28c313198",
      "metadata": {
        "id": "a8ed9f0e-cfb9-4b9c-ab58-fbd28c313198"
      },
      "source": [
        "## Dropping Irrelevant Input Data "
      ]
    },
    {
      "cell_type": "code",
      "source": [
        "dataset.drop(['PassengerId', 'Name'], axis=1, inplace=True)\n"
      ],
      "metadata": {
        "id": "n2lz60YCD3M8"
      },
      "id": "n2lz60YCD3M8",
      "execution_count": null,
      "outputs": []
    },
    {
      "cell_type": "markdown",
      "id": "8227d4a3-7ce9-4acb-bd66-12b42ea53280",
      "metadata": {
        "id": "8227d4a3-7ce9-4acb-bd66-12b42ea53280"
      },
      "source": [
        "## Checking the Preprocessed Dataset"
      ]
    },
    {
      "cell_type": "code",
      "source": [
        "dataset.head()"
      ],
      "metadata": {
        "colab": {
          "base_uri": "https://localhost:8080/",
          "height": 206
        },
        "id": "30YKyLvfD5fu",
        "outputId": "66e477ec-5891-4413-8987-eece2dadd35b"
      },
      "id": "30YKyLvfD5fu",
      "execution_count": null,
      "outputs": [
        {
          "output_type": "execute_result",
          "data": {
            "text/plain": [
              "   Pclass  Sex   Age  Number of Siblings/Spouses Aboard  \\\n",
              "0       3  0.0  22.0                                  1   \n",
              "1       1  1.0  38.0                                  1   \n",
              "2       3  1.0  26.0                                  0   \n",
              "3       1  1.0  35.0                                  1   \n",
              "4       3  0.0  35.0                                  0   \n",
              "\n",
              "   Number of Parents/Children Aboard     Fare  Embarked  Survived  \n",
              "0                                  0   7.2500       0.0         0  \n",
              "1                                  0  71.2833       1.0         1  \n",
              "2                                  0   7.9250       0.0         1  \n",
              "3                                  0  53.1000       0.0         1  \n",
              "4                                  0   8.0500       0.0         0  "
            ],
            "text/html": [
              "\n",
              "  <div id=\"df-c4ebcd99-aadb-4046-b934-f98554c9ca75\">\n",
              "    <div class=\"colab-df-container\">\n",
              "      <div>\n",
              "<style scoped>\n",
              "    .dataframe tbody tr th:only-of-type {\n",
              "        vertical-align: middle;\n",
              "    }\n",
              "\n",
              "    .dataframe tbody tr th {\n",
              "        vertical-align: top;\n",
              "    }\n",
              "\n",
              "    .dataframe thead th {\n",
              "        text-align: right;\n",
              "    }\n",
              "</style>\n",
              "<table border=\"1\" class=\"dataframe\">\n",
              "  <thead>\n",
              "    <tr style=\"text-align: right;\">\n",
              "      <th></th>\n",
              "      <th>Pclass</th>\n",
              "      <th>Sex</th>\n",
              "      <th>Age</th>\n",
              "      <th>Number of Siblings/Spouses Aboard</th>\n",
              "      <th>Number of Parents/Children Aboard</th>\n",
              "      <th>Fare</th>\n",
              "      <th>Embarked</th>\n",
              "      <th>Survived</th>\n",
              "    </tr>\n",
              "  </thead>\n",
              "  <tbody>\n",
              "    <tr>\n",
              "      <th>0</th>\n",
              "      <td>3</td>\n",
              "      <td>0.0</td>\n",
              "      <td>22.0</td>\n",
              "      <td>1</td>\n",
              "      <td>0</td>\n",
              "      <td>7.2500</td>\n",
              "      <td>0.0</td>\n",
              "      <td>0</td>\n",
              "    </tr>\n",
              "    <tr>\n",
              "      <th>1</th>\n",
              "      <td>1</td>\n",
              "      <td>1.0</td>\n",
              "      <td>38.0</td>\n",
              "      <td>1</td>\n",
              "      <td>0</td>\n",
              "      <td>71.2833</td>\n",
              "      <td>1.0</td>\n",
              "      <td>1</td>\n",
              "    </tr>\n",
              "    <tr>\n",
              "      <th>2</th>\n",
              "      <td>3</td>\n",
              "      <td>1.0</td>\n",
              "      <td>26.0</td>\n",
              "      <td>0</td>\n",
              "      <td>0</td>\n",
              "      <td>7.9250</td>\n",
              "      <td>0.0</td>\n",
              "      <td>1</td>\n",
              "    </tr>\n",
              "    <tr>\n",
              "      <th>3</th>\n",
              "      <td>1</td>\n",
              "      <td>1.0</td>\n",
              "      <td>35.0</td>\n",
              "      <td>1</td>\n",
              "      <td>0</td>\n",
              "      <td>53.1000</td>\n",
              "      <td>0.0</td>\n",
              "      <td>1</td>\n",
              "    </tr>\n",
              "    <tr>\n",
              "      <th>4</th>\n",
              "      <td>3</td>\n",
              "      <td>0.0</td>\n",
              "      <td>35.0</td>\n",
              "      <td>0</td>\n",
              "      <td>0</td>\n",
              "      <td>8.0500</td>\n",
              "      <td>0.0</td>\n",
              "      <td>0</td>\n",
              "    </tr>\n",
              "  </tbody>\n",
              "</table>\n",
              "</div>\n",
              "      <button class=\"colab-df-convert\" onclick=\"convertToInteractive('df-c4ebcd99-aadb-4046-b934-f98554c9ca75')\"\n",
              "              title=\"Convert this dataframe to an interactive table.\"\n",
              "              style=\"display:none;\">\n",
              "        \n",
              "  <svg xmlns=\"http://www.w3.org/2000/svg\" height=\"24px\"viewBox=\"0 0 24 24\"\n",
              "       width=\"24px\">\n",
              "    <path d=\"M0 0h24v24H0V0z\" fill=\"none\"/>\n",
              "    <path d=\"M18.56 5.44l.94 2.06.94-2.06 2.06-.94-2.06-.94-.94-2.06-.94 2.06-2.06.94zm-11 1L8.5 8.5l.94-2.06 2.06-.94-2.06-.94L8.5 2.5l-.94 2.06-2.06.94zm10 10l.94 2.06.94-2.06 2.06-.94-2.06-.94-.94-2.06-.94 2.06-2.06.94z\"/><path d=\"M17.41 7.96l-1.37-1.37c-.4-.4-.92-.59-1.43-.59-.52 0-1.04.2-1.43.59L10.3 9.45l-7.72 7.72c-.78.78-.78 2.05 0 2.83L4 21.41c.39.39.9.59 1.41.59.51 0 1.02-.2 1.41-.59l7.78-7.78 2.81-2.81c.8-.78.8-2.07 0-2.86zM5.41 20L4 18.59l7.72-7.72 1.47 1.35L5.41 20z\"/>\n",
              "  </svg>\n",
              "      </button>\n",
              "      \n",
              "  <style>\n",
              "    .colab-df-container {\n",
              "      display:flex;\n",
              "      flex-wrap:wrap;\n",
              "      gap: 12px;\n",
              "    }\n",
              "\n",
              "    .colab-df-convert {\n",
              "      background-color: #E8F0FE;\n",
              "      border: none;\n",
              "      border-radius: 50%;\n",
              "      cursor: pointer;\n",
              "      display: none;\n",
              "      fill: #1967D2;\n",
              "      height: 32px;\n",
              "      padding: 0 0 0 0;\n",
              "      width: 32px;\n",
              "    }\n",
              "\n",
              "    .colab-df-convert:hover {\n",
              "      background-color: #E2EBFA;\n",
              "      box-shadow: 0px 1px 2px rgba(60, 64, 67, 0.3), 0px 1px 3px 1px rgba(60, 64, 67, 0.15);\n",
              "      fill: #174EA6;\n",
              "    }\n",
              "\n",
              "    [theme=dark] .colab-df-convert {\n",
              "      background-color: #3B4455;\n",
              "      fill: #D2E3FC;\n",
              "    }\n",
              "\n",
              "    [theme=dark] .colab-df-convert:hover {\n",
              "      background-color: #434B5C;\n",
              "      box-shadow: 0px 1px 3px 1px rgba(0, 0, 0, 0.15);\n",
              "      filter: drop-shadow(0px 1px 2px rgba(0, 0, 0, 0.3));\n",
              "      fill: #FFFFFF;\n",
              "    }\n",
              "  </style>\n",
              "\n",
              "      <script>\n",
              "        const buttonEl =\n",
              "          document.querySelector('#df-c4ebcd99-aadb-4046-b934-f98554c9ca75 button.colab-df-convert');\n",
              "        buttonEl.style.display =\n",
              "          google.colab.kernel.accessAllowed ? 'block' : 'none';\n",
              "\n",
              "        async function convertToInteractive(key) {\n",
              "          const element = document.querySelector('#df-c4ebcd99-aadb-4046-b934-f98554c9ca75');\n",
              "          const dataTable =\n",
              "            await google.colab.kernel.invokeFunction('convertToInteractive',\n",
              "                                                     [key], {});\n",
              "          if (!dataTable) return;\n",
              "\n",
              "          const docLinkHtml = 'Like what you see? Visit the ' +\n",
              "            '<a target=\"_blank\" href=https://colab.research.google.com/notebooks/data_table.ipynb>data table notebook</a>'\n",
              "            + ' to learn more about interactive tables.';\n",
              "          element.innerHTML = '';\n",
              "          dataTable['output_type'] = 'display_data';\n",
              "          await google.colab.output.renderOutput(dataTable, element);\n",
              "          const docLink = document.createElement('div');\n",
              "          docLink.innerHTML = docLinkHtml;\n",
              "          element.appendChild(docLink);\n",
              "        }\n",
              "      </script>\n",
              "    </div>\n",
              "  </div>\n",
              "  "
            ]
          },
          "metadata": {},
          "execution_count": 25
        }
      ]
    },
    {
      "cell_type": "markdown",
      "source": [
        "## Seperate the input and output"
      ],
      "metadata": {
        "id": "bqDJ2nsbOCrZ"
      },
      "id": "bqDJ2nsbOCrZ"
    },
    {
      "cell_type": "code",
      "source": [
        "X = dataset.iloc[:, 0:7]\n",
        "y = dataset.iloc[:, -1]"
      ],
      "metadata": {
        "id": "u8HpDM2ED6-X"
      },
      "id": "u8HpDM2ED6-X",
      "execution_count": null,
      "outputs": []
    },
    {
      "cell_type": "markdown",
      "id": "43a4add3-522d-4854-8f50-919175b3cbe6",
      "metadata": {
        "id": "43a4add3-522d-4854-8f50-919175b3cbe6"
      },
      "source": [
        "## Showing the Input Data in a Table Format"
      ]
    },
    {
      "cell_type": "code",
      "source": [
        "X.head()"
      ],
      "metadata": {
        "id": "QjZPFE8YD9uT",
        "colab": {
          "base_uri": "https://localhost:8080/",
          "height": 206
        },
        "outputId": "a92fedb1-1f4d-4ff8-a8a3-bf5bf45988f6"
      },
      "id": "QjZPFE8YD9uT",
      "execution_count": null,
      "outputs": [
        {
          "output_type": "execute_result",
          "data": {
            "text/plain": [
              "   Pclass  Sex   Age  Number of Siblings/Spouses Aboard  \\\n",
              "0       3  0.0  22.0                                  1   \n",
              "1       1  1.0  38.0                                  1   \n",
              "2       3  1.0  26.0                                  0   \n",
              "3       1  1.0  35.0                                  1   \n",
              "4       3  0.0  35.0                                  0   \n",
              "\n",
              "   Number of Parents/Children Aboard     Fare  Embarked  \n",
              "0                                  0   7.2500       0.0  \n",
              "1                                  0  71.2833       1.0  \n",
              "2                                  0   7.9250       0.0  \n",
              "3                                  0  53.1000       0.0  \n",
              "4                                  0   8.0500       0.0  "
            ],
            "text/html": [
              "\n",
              "  <div id=\"df-26a4c4a2-8ea7-48e9-9f4c-622cceda9323\">\n",
              "    <div class=\"colab-df-container\">\n",
              "      <div>\n",
              "<style scoped>\n",
              "    .dataframe tbody tr th:only-of-type {\n",
              "        vertical-align: middle;\n",
              "    }\n",
              "\n",
              "    .dataframe tbody tr th {\n",
              "        vertical-align: top;\n",
              "    }\n",
              "\n",
              "    .dataframe thead th {\n",
              "        text-align: right;\n",
              "    }\n",
              "</style>\n",
              "<table border=\"1\" class=\"dataframe\">\n",
              "  <thead>\n",
              "    <tr style=\"text-align: right;\">\n",
              "      <th></th>\n",
              "      <th>Pclass</th>\n",
              "      <th>Sex</th>\n",
              "      <th>Age</th>\n",
              "      <th>Number of Siblings/Spouses Aboard</th>\n",
              "      <th>Number of Parents/Children Aboard</th>\n",
              "      <th>Fare</th>\n",
              "      <th>Embarked</th>\n",
              "    </tr>\n",
              "  </thead>\n",
              "  <tbody>\n",
              "    <tr>\n",
              "      <th>0</th>\n",
              "      <td>3</td>\n",
              "      <td>0.0</td>\n",
              "      <td>22.0</td>\n",
              "      <td>1</td>\n",
              "      <td>0</td>\n",
              "      <td>7.2500</td>\n",
              "      <td>0.0</td>\n",
              "    </tr>\n",
              "    <tr>\n",
              "      <th>1</th>\n",
              "      <td>1</td>\n",
              "      <td>1.0</td>\n",
              "      <td>38.0</td>\n",
              "      <td>1</td>\n",
              "      <td>0</td>\n",
              "      <td>71.2833</td>\n",
              "      <td>1.0</td>\n",
              "    </tr>\n",
              "    <tr>\n",
              "      <th>2</th>\n",
              "      <td>3</td>\n",
              "      <td>1.0</td>\n",
              "      <td>26.0</td>\n",
              "      <td>0</td>\n",
              "      <td>0</td>\n",
              "      <td>7.9250</td>\n",
              "      <td>0.0</td>\n",
              "    </tr>\n",
              "    <tr>\n",
              "      <th>3</th>\n",
              "      <td>1</td>\n",
              "      <td>1.0</td>\n",
              "      <td>35.0</td>\n",
              "      <td>1</td>\n",
              "      <td>0</td>\n",
              "      <td>53.1000</td>\n",
              "      <td>0.0</td>\n",
              "    </tr>\n",
              "    <tr>\n",
              "      <th>4</th>\n",
              "      <td>3</td>\n",
              "      <td>0.0</td>\n",
              "      <td>35.0</td>\n",
              "      <td>0</td>\n",
              "      <td>0</td>\n",
              "      <td>8.0500</td>\n",
              "      <td>0.0</td>\n",
              "    </tr>\n",
              "  </tbody>\n",
              "</table>\n",
              "</div>\n",
              "      <button class=\"colab-df-convert\" onclick=\"convertToInteractive('df-26a4c4a2-8ea7-48e9-9f4c-622cceda9323')\"\n",
              "              title=\"Convert this dataframe to an interactive table.\"\n",
              "              style=\"display:none;\">\n",
              "        \n",
              "  <svg xmlns=\"http://www.w3.org/2000/svg\" height=\"24px\"viewBox=\"0 0 24 24\"\n",
              "       width=\"24px\">\n",
              "    <path d=\"M0 0h24v24H0V0z\" fill=\"none\"/>\n",
              "    <path d=\"M18.56 5.44l.94 2.06.94-2.06 2.06-.94-2.06-.94-.94-2.06-.94 2.06-2.06.94zm-11 1L8.5 8.5l.94-2.06 2.06-.94-2.06-.94L8.5 2.5l-.94 2.06-2.06.94zm10 10l.94 2.06.94-2.06 2.06-.94-2.06-.94-.94-2.06-.94 2.06-2.06.94z\"/><path d=\"M17.41 7.96l-1.37-1.37c-.4-.4-.92-.59-1.43-.59-.52 0-1.04.2-1.43.59L10.3 9.45l-7.72 7.72c-.78.78-.78 2.05 0 2.83L4 21.41c.39.39.9.59 1.41.59.51 0 1.02-.2 1.41-.59l7.78-7.78 2.81-2.81c.8-.78.8-2.07 0-2.86zM5.41 20L4 18.59l7.72-7.72 1.47 1.35L5.41 20z\"/>\n",
              "  </svg>\n",
              "      </button>\n",
              "      \n",
              "  <style>\n",
              "    .colab-df-container {\n",
              "      display:flex;\n",
              "      flex-wrap:wrap;\n",
              "      gap: 12px;\n",
              "    }\n",
              "\n",
              "    .colab-df-convert {\n",
              "      background-color: #E8F0FE;\n",
              "      border: none;\n",
              "      border-radius: 50%;\n",
              "      cursor: pointer;\n",
              "      display: none;\n",
              "      fill: #1967D2;\n",
              "      height: 32px;\n",
              "      padding: 0 0 0 0;\n",
              "      width: 32px;\n",
              "    }\n",
              "\n",
              "    .colab-df-convert:hover {\n",
              "      background-color: #E2EBFA;\n",
              "      box-shadow: 0px 1px 2px rgba(60, 64, 67, 0.3), 0px 1px 3px 1px rgba(60, 64, 67, 0.15);\n",
              "      fill: #174EA6;\n",
              "    }\n",
              "\n",
              "    [theme=dark] .colab-df-convert {\n",
              "      background-color: #3B4455;\n",
              "      fill: #D2E3FC;\n",
              "    }\n",
              "\n",
              "    [theme=dark] .colab-df-convert:hover {\n",
              "      background-color: #434B5C;\n",
              "      box-shadow: 0px 1px 3px 1px rgba(0, 0, 0, 0.15);\n",
              "      filter: drop-shadow(0px 1px 2px rgba(0, 0, 0, 0.3));\n",
              "      fill: #FFFFFF;\n",
              "    }\n",
              "  </style>\n",
              "\n",
              "      <script>\n",
              "        const buttonEl =\n",
              "          document.querySelector('#df-26a4c4a2-8ea7-48e9-9f4c-622cceda9323 button.colab-df-convert');\n",
              "        buttonEl.style.display =\n",
              "          google.colab.kernel.accessAllowed ? 'block' : 'none';\n",
              "\n",
              "        async function convertToInteractive(key) {\n",
              "          const element = document.querySelector('#df-26a4c4a2-8ea7-48e9-9f4c-622cceda9323');\n",
              "          const dataTable =\n",
              "            await google.colab.kernel.invokeFunction('convertToInteractive',\n",
              "                                                     [key], {});\n",
              "          if (!dataTable) return;\n",
              "\n",
              "          const docLinkHtml = 'Like what you see? Visit the ' +\n",
              "            '<a target=\"_blank\" href=https://colab.research.google.com/notebooks/data_table.ipynb>data table notebook</a>'\n",
              "            + ' to learn more about interactive tables.';\n",
              "          element.innerHTML = '';\n",
              "          dataTable['output_type'] = 'display_data';\n",
              "          await google.colab.output.renderOutput(dataTable, element);\n",
              "          const docLink = document.createElement('div');\n",
              "          docLink.innerHTML = docLinkHtml;\n",
              "          element.appendChild(docLink);\n",
              "        }\n",
              "      </script>\n",
              "    </div>\n",
              "  </div>\n",
              "  "
            ]
          },
          "metadata": {},
          "execution_count": 31
        }
      ]
    },
    {
      "cell_type": "markdown",
      "id": "29b469a6-89a5-4e9c-a0ba-5642bb1db9dc",
      "metadata": {
        "id": "29b469a6-89a5-4e9c-a0ba-5642bb1db9dc"
      },
      "source": [
        "## A Quick Check of the Output Data"
      ]
    },
    {
      "cell_type": "code",
      "source": [
        "y.head()"
      ],
      "metadata": {
        "colab": {
          "base_uri": "https://localhost:8080/"
        },
        "id": "t-16kWppD_iI",
        "outputId": "0ff0e508-5a91-45d6-d151-3f07820fe1e8"
      },
      "id": "t-16kWppD_iI",
      "execution_count": null,
      "outputs": [
        {
          "output_type": "execute_result",
          "data": {
            "text/plain": [
              "0    0\n",
              "1    1\n",
              "2    1\n",
              "3    1\n",
              "4    0\n",
              "Name: Survived, dtype: int64"
            ]
          },
          "metadata": {},
          "execution_count": 32
        }
      ]
    },
    {
      "cell_type": "markdown",
      "id": "e71613ba-1be3-46f5-9d35-ec8bb569e8ed",
      "metadata": {
        "id": "e71613ba-1be3-46f5-9d35-ec8bb569e8ed"
      },
      "source": [
        "## Taking Care of Missing Data Inputs"
      ]
    },
    {
      "cell_type": "code",
      "source": [
        "from sklearn.impute import SimpleImputer"
      ],
      "metadata": {
        "id": "JR8mdGQZEAhd"
      },
      "id": "JR8mdGQZEAhd",
      "execution_count": null,
      "outputs": []
    },
    {
      "cell_type": "code",
      "source": [
        "imputer = SimpleImputer(missing_values=np.nan, strategy='mean')"
      ],
      "metadata": {
        "id": "IzSTKWO7BoTn"
      },
      "id": "IzSTKWO7BoTn",
      "execution_count": null,
      "outputs": []
    },
    {
      "cell_type": "code",
      "source": [
        "X = imputer.fit_transform(X)"
      ],
      "metadata": {
        "id": "atxlOvrQBoVs"
      },
      "id": "atxlOvrQBoVs",
      "execution_count": null,
      "outputs": []
    },
    {
      "cell_type": "markdown",
      "id": "5a3158a8-d49a-44b9-bd32-0c5dbf55b680",
      "metadata": {
        "id": "5a3158a8-d49a-44b9-bd32-0c5dbf55b680"
      },
      "source": [
        "## Splitting the Dataset into the Training Set and Test Set"
      ]
    },
    {
      "cell_type": "code",
      "source": [
        "from sklearn.model_selection import train_test_split\n"
      ],
      "metadata": {
        "id": "hPtdZ9OcEErL"
      },
      "id": "hPtdZ9OcEErL",
      "execution_count": null,
      "outputs": []
    },
    {
      "cell_type": "code",
      "source": [
        "X_train, X_test, y_train, y_test = train_test_split(X, y, test_size=0.2, random_state=1)"
      ],
      "metadata": {
        "id": "YNmEu3HrCIiM"
      },
      "id": "YNmEu3HrCIiM",
      "execution_count": null,
      "outputs": []
    },
    {
      "cell_type": "code",
      "source": [
        "X_train.shape"
      ],
      "metadata": {
        "colab": {
          "base_uri": "https://localhost:8080/"
        },
        "id": "mOlnL7SfCIlM",
        "outputId": "1f50c6b3-a716-40d7-d610-c9229b114230"
      },
      "id": "mOlnL7SfCIlM",
      "execution_count": null,
      "outputs": [
        {
          "output_type": "execute_result",
          "data": {
            "text/plain": [
              "(712, 7)"
            ]
          },
          "metadata": {},
          "execution_count": 40
        }
      ]
    },
    {
      "cell_type": "code",
      "source": [
        "X_test.shape"
      ],
      "metadata": {
        "colab": {
          "base_uri": "https://localhost:8080/"
        },
        "id": "0Yfgrtt6CIp-",
        "outputId": "1b35c2cb-d6e0-4688-972c-457ecd1ca30b"
      },
      "id": "0Yfgrtt6CIp-",
      "execution_count": null,
      "outputs": [
        {
          "output_type": "execute_result",
          "data": {
            "text/plain": [
              "(179, 7)"
            ]
          },
          "metadata": {},
          "execution_count": 41
        }
      ]
    },
    {
      "cell_type": "markdown",
      "id": "7732945b-2f59-4d5b-9da3-25ab66fd8d75",
      "metadata": {
        "id": "7732945b-2f59-4d5b-9da3-25ab66fd8d75"
      },
      "source": [
        "## Scaling the Features"
      ]
    },
    {
      "cell_type": "code",
      "execution_count": null,
      "id": "d9b662ae-42ab-4c1d-bcf7-2d77ddeb5da9",
      "metadata": {
        "id": "d9b662ae-42ab-4c1d-bcf7-2d77ddeb5da9"
      },
      "outputs": [],
      "source": [
        "# Scale the age and fare\n",
        "from sklearn.preprocessing import StandardScaler\n",
        "sc = StandardScaler()\n",
        "X[:, [2,5]] = sc.fit_transform(X[:, [2,5]])"
      ]
    },
    {
      "cell_type": "markdown",
      "id": "50ad566d-d2a5-46b3-9fc5-ee9ee974ba6e",
      "metadata": {
        "id": "50ad566d-d2a5-46b3-9fc5-ee9ee974ba6e"
      },
      "source": [
        "## Training and Testing Predictive Models"
      ]
    },
    {
      "cell_type": "code",
      "source": [
        "from sklearn.metrics import accuracy_score"
      ],
      "metadata": {
        "id": "b5odbzykOARq"
      },
      "id": "b5odbzykOARq",
      "execution_count": null,
      "outputs": []
    },
    {
      "cell_type": "code",
      "source": [
        "# Support vector machine\n",
        "from sklearn.svm import SVC\n",
        "sv_classfier = SVC(kernel = 'rbf')\n",
        "sv_classfier.fit(X_train, y_train)\n",
        "Y_pred = sv_classfier.predict(X_test)\n",
        "print(accuracy_score(y_test, Y_pred))"
      ],
      "metadata": {
        "colab": {
          "base_uri": "https://localhost:8080/"
        },
        "id": "EC-qnNujSK77",
        "outputId": "1b7fceb1-a020-435a-e1ec-96c20bac8899"
      },
      "id": "EC-qnNujSK77",
      "execution_count": null,
      "outputs": [
        {
          "output_type": "stream",
          "name": "stdout",
          "text": [
            "0.6536312849162011\n"
          ]
        }
      ]
    },
    {
      "cell_type": "code",
      "source": [
        "from sklearn.linear_model import LogisticRegression\n",
        "# Linear regression\n",
        "lr = LogisticRegression()\n",
        "lr.fit(X_train, y_train)\n",
        "Y_pred = lr.predict(X_test)\n",
        "print(accuracy_score(y_test, Y_pred))"
      ],
      "metadata": {
        "id": "740DRpBuSLEx",
        "colab": {
          "base_uri": "https://localhost:8080/"
        },
        "outputId": "7f9d0bb3-d3be-4e3a-bbb7-5b30a64117aa"
      },
      "id": "740DRpBuSLEx",
      "execution_count": null,
      "outputs": [
        {
          "output_type": "stream",
          "name": "stdout",
          "text": [
            "0.7988826815642458\n"
          ]
        }
      ]
    },
    {
      "cell_type": "code",
      "source": [],
      "metadata": {
        "id": "yuhVfm6MEnVI"
      },
      "id": "yuhVfm6MEnVI",
      "execution_count": null,
      "outputs": []
    }
  ],
  "metadata": {
    "kernelspec": {
      "display_name": "Python 3 (ipykernel)",
      "language": "python",
      "name": "python3"
    },
    "language_info": {
      "codemirror_mode": {
        "name": "ipython",
        "version": 3
      },
      "file_extension": ".py",
      "mimetype": "text/x-python",
      "name": "python",
      "nbconvert_exporter": "python",
      "pygments_lexer": "ipython3",
      "version": "3.9.12"
    },
    "colab": {
      "provenance": []
    }
  },
  "nbformat": 4,
  "nbformat_minor": 5
}
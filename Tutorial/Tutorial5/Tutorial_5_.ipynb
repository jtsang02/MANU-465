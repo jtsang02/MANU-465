{
 "cells": [
  {
   "cell_type": "markdown",
   "metadata": {
    "toc": true
   },
   "source": [
    "<h1>Table of Contents<span class=\"tocSkip\"></span></h1>\n",
    "<div class=\"toc\"><ul class=\"toc-item\"><li><span><a href=\"#Mounting-on-Google-Drive\" data-toc-modified-id=\"Mounting-on-Google-Drive-1\"><span class=\"toc-item-num\">1&nbsp;&nbsp;</span>Mounting on Google Drive</a></span><ul class=\"toc-item\"><li><span><a href=\"#Project-discription\" data-toc-modified-id=\"Project-discription-1.1\"><span class=\"toc-item-num\">1.1&nbsp;&nbsp;</span>Project discription</a></span></li><li><span><a href=\"#Import-libraries\" data-toc-modified-id=\"Import-libraries-1.2\"><span class=\"toc-item-num\">1.2&nbsp;&nbsp;</span>Import libraries</a></span></li><li><span><a href=\"#Import-the-data\" data-toc-modified-id=\"Import-the-data-1.3\"><span class=\"toc-item-num\">1.3&nbsp;&nbsp;</span>Import the data</a></span></li><li><span><a href=\"#Encoding-the-output-data\" data-toc-modified-id=\"Encoding-the-output-data-1.4\"><span class=\"toc-item-num\">1.4&nbsp;&nbsp;</span>Encoding the output data</a></span></li><li><span><a href=\"#PCA\" data-toc-modified-id=\"PCA-1.5\"><span class=\"toc-item-num\">1.5&nbsp;&nbsp;</span>PCA</a></span></li><li><span><a href=\"#Checking-the-contribution-of-PCs\" data-toc-modified-id=\"Checking-the-contribution-of-PCs-1.6\"><span class=\"toc-item-num\">1.6&nbsp;&nbsp;</span>Checking the contribution of PCs</a></span></li></ul></li><li><span><a href=\"#ANN-model\" data-toc-modified-id=\"ANN-model-2\"><span class=\"toc-item-num\">2&nbsp;&nbsp;</span>ANN model</a></span><ul class=\"toc-item\"><li><ul class=\"toc-item\"><li><span><a href=\"#Trying-the-model-with-all-the-15-PCs\" data-toc-modified-id=\"Trying-the-model-with-all-the-15-PCs-2.0.1\"><span class=\"toc-item-num\">2.0.1&nbsp;&nbsp;</span>Trying the model with all the 15 PCs</a></span></li></ul></li><li><span><a href=\"#Let's-try-some-other-classifiers-like-KNN,-SVM,-etc.\" data-toc-modified-id=\"Let's-try-some-other-classifiers-like-KNN,-SVM,-etc.-2.1\"><span class=\"toc-item-num\">2.1&nbsp;&nbsp;</span>Let's try some other classifiers like KNN, SVM, etc.</a></span><ul class=\"toc-item\"><li><ul class=\"toc-item\"><li><span><a href=\"#KNN\" data-toc-modified-id=\"KNN-2.1.0.1\"><span class=\"toc-item-num\">2.1.0.1&nbsp;&nbsp;</span>KNN</a></span></li></ul></li></ul></li></ul></li></ul></div>"
   ]
  },
  {
   "cell_type": "markdown",
   "metadata": {
    "id": "LQkLuisDH4lt"
   },
   "source": [
    "## Project discription\n",
    "\n",
    "A manufacturer of advanced adhesive is studying the effect of 15 ingredients on the failure modes of adhered surfaces. When subjected to loading, debonding may occur at different locations in the adhesive joint. \n",
    "The Dataset listed the amount of these 15 ingredients (all scaled) for \n",
    "60 Samples with type 1 failure.\n",
    "70 Samples with type 2 failure.\n",
    "50 Samples with type 3 failure.\n",
    "\n",
    "##### Part A\n",
    "Do a PCA and find the first two Principal Components (PC1 and PC2). Plot PC1-PC2 for these 180 samples (identify the 3 types of failures).\n",
    "Check how much information will preserve if we only use the first 4 principal components (in other words, if instead of using all 15 variables, we use the 4 new variables (the first 4 PCs).\n",
    "\n",
    "##### Part B\n",
    "Build an ANN classifier for these dataset. Once with these new 4 variables."
   ]
  },
  {
   "cell_type": "markdown",
   "metadata": {
    "id": "RiNk-LDmID34"
   },
   "source": [
    "## Import libraries"
   ]
  },
  {
   "cell_type": "code",
   "execution_count": 1,
   "metadata": {
    "id": "I47C4fvbH1fP"
   },
   "outputs": [],
   "source": [
    "import numpy as np\n",
    "import pandas as pd\n",
    "import matplotlib.pyplot as plt\n",
    "import tensorflow as tf\n",
    "import time"
   ]
  },
  {
   "cell_type": "markdown",
   "metadata": {
    "id": "3Ed6Zn8NINUg"
   },
   "source": [
    "## Import the data"
   ]
  },
  {
   "cell_type": "code",
   "execution_count": 2,
   "metadata": {
    "id": "peFXN1u1IC9y"
   },
   "outputs": [],
   "source": [
    "dataset = pd.read_csv('Glue_Data.csv')\n",
    "X = dataset.iloc[:, :-1].values\n",
    "y = dataset.iloc[:, -1].values"
   ]
  },
  {
   "cell_type": "code",
   "execution_count": 3,
   "metadata": {
    "colab": {
     "base_uri": "https://localhost:8080/",
     "height": 206
    },
    "id": "Rhwt77BKIC_y",
    "outputId": "498db367-b0f0-4243-a4da-03085586b14b"
   },
   "outputs": [
    {
     "data": {
      "text/html": [
       "<div>\n",
       "<style scoped>\n",
       "    .dataframe tbody tr th:only-of-type {\n",
       "        vertical-align: middle;\n",
       "    }\n",
       "\n",
       "    .dataframe tbody tr th {\n",
       "        vertical-align: top;\n",
       "    }\n",
       "\n",
       "    .dataframe thead th {\n",
       "        text-align: right;\n",
       "    }\n",
       "</style>\n",
       "<table border=\"1\" class=\"dataframe\">\n",
       "  <thead>\n",
       "    <tr style=\"text-align: right;\">\n",
       "      <th></th>\n",
       "      <th>1.423</th>\n",
       "      <th>1.71</th>\n",
       "      <th>2.43</th>\n",
       "      <th>1.56</th>\n",
       "      <th>1.27</th>\n",
       "      <th>2.8</th>\n",
       "      <th>3.06</th>\n",
       "      <th>2.8.1</th>\n",
       "      <th>2.29</th>\n",
       "      <th>2.82</th>\n",
       "      <th>1.04</th>\n",
       "      <th>3.92</th>\n",
       "      <th>0.27</th>\n",
       "      <th>1.065</th>\n",
       "      <th>2.08</th>\n",
       "      <th>Type 1</th>\n",
       "    </tr>\n",
       "  </thead>\n",
       "  <tbody>\n",
       "    <tr>\n",
       "      <th>0</th>\n",
       "      <td>1.320</td>\n",
       "      <td>1.78</td>\n",
       "      <td>2.14</td>\n",
       "      <td>1.12</td>\n",
       "      <td>1.00</td>\n",
       "      <td>2.65</td>\n",
       "      <td>2.76</td>\n",
       "      <td>2.6</td>\n",
       "      <td>1.28</td>\n",
       "      <td>2.190</td>\n",
       "      <td>1.05</td>\n",
       "      <td>3.40</td>\n",
       "      <td>0.25</td>\n",
       "      <td>1.050</td>\n",
       "      <td>2.10</td>\n",
       "      <td>Type 1</td>\n",
       "    </tr>\n",
       "    <tr>\n",
       "      <th>1</th>\n",
       "      <td>1.316</td>\n",
       "      <td>2.36</td>\n",
       "      <td>2.67</td>\n",
       "      <td>1.86</td>\n",
       "      <td>1.01</td>\n",
       "      <td>2.80</td>\n",
       "      <td>3.24</td>\n",
       "      <td>3.0</td>\n",
       "      <td>2.81</td>\n",
       "      <td>2.840</td>\n",
       "      <td>1.03</td>\n",
       "      <td>3.17</td>\n",
       "      <td>0.29</td>\n",
       "      <td>1.185</td>\n",
       "      <td>2.06</td>\n",
       "      <td>Type 1</td>\n",
       "    </tr>\n",
       "    <tr>\n",
       "      <th>2</th>\n",
       "      <td>1.437</td>\n",
       "      <td>1.95</td>\n",
       "      <td>2.50</td>\n",
       "      <td>1.68</td>\n",
       "      <td>1.13</td>\n",
       "      <td>3.85</td>\n",
       "      <td>3.49</td>\n",
       "      <td>2.4</td>\n",
       "      <td>2.18</td>\n",
       "      <td>3.900</td>\n",
       "      <td>0.86</td>\n",
       "      <td>3.45</td>\n",
       "      <td>0.23</td>\n",
       "      <td>1.480</td>\n",
       "      <td>1.72</td>\n",
       "      <td>Type 1</td>\n",
       "    </tr>\n",
       "    <tr>\n",
       "      <th>3</th>\n",
       "      <td>1.324</td>\n",
       "      <td>2.59</td>\n",
       "      <td>2.87</td>\n",
       "      <td>2.10</td>\n",
       "      <td>1.18</td>\n",
       "      <td>2.80</td>\n",
       "      <td>2.69</td>\n",
       "      <td>3.9</td>\n",
       "      <td>1.82</td>\n",
       "      <td>2.160</td>\n",
       "      <td>1.04</td>\n",
       "      <td>2.93</td>\n",
       "      <td>0.38</td>\n",
       "      <td>0.735</td>\n",
       "      <td>2.08</td>\n",
       "      <td>Type 1</td>\n",
       "    </tr>\n",
       "    <tr>\n",
       "      <th>4</th>\n",
       "      <td>1.420</td>\n",
       "      <td>1.76</td>\n",
       "      <td>2.45</td>\n",
       "      <td>1.52</td>\n",
       "      <td>1.12</td>\n",
       "      <td>3.27</td>\n",
       "      <td>3.39</td>\n",
       "      <td>3.4</td>\n",
       "      <td>1.97</td>\n",
       "      <td>3.375</td>\n",
       "      <td>1.05</td>\n",
       "      <td>2.85</td>\n",
       "      <td>0.33</td>\n",
       "      <td>1.450</td>\n",
       "      <td>2.10</td>\n",
       "      <td>Type 1</td>\n",
       "    </tr>\n",
       "  </tbody>\n",
       "</table>\n",
       "</div>"
      ],
      "text/plain": [
       "   1.423  1.71  2.43  1.56  1.27   2.8  3.06  2.8.1  2.29   2.82  1.04  3.92  \\\n",
       "0  1.320  1.78  2.14  1.12  1.00  2.65  2.76    2.6  1.28  2.190  1.05  3.40   \n",
       "1  1.316  2.36  2.67  1.86  1.01  2.80  3.24    3.0  2.81  2.840  1.03  3.17   \n",
       "2  1.437  1.95  2.50  1.68  1.13  3.85  3.49    2.4  2.18  3.900  0.86  3.45   \n",
       "3  1.324  2.59  2.87  2.10  1.18  2.80  2.69    3.9  1.82  2.160  1.04  2.93   \n",
       "4  1.420  1.76  2.45  1.52  1.12  3.27  3.39    3.4  1.97  3.375  1.05  2.85   \n",
       "\n",
       "   0.27  1.065  2.08  Type 1  \n",
       "0  0.25  1.050  2.10  Type 1  \n",
       "1  0.29  1.185  2.06  Type 1  \n",
       "2  0.23  1.480  1.72  Type 1  \n",
       "3  0.38  0.735  2.08  Type 1  \n",
       "4  0.33  1.450  2.10  Type 1  "
      ]
     },
     "execution_count": 3,
     "metadata": {},
     "output_type": "execute_result"
    }
   ],
   "source": [
    "dataset.head()"
   ]
  },
  {
   "cell_type": "markdown",
   "metadata": {
    "id": "DaZ0UyEuI8HL"
   },
   "source": [
    "## Encoding the output data"
   ]
  },
  {
   "cell_type": "code",
   "execution_count": 4,
   "metadata": {
    "id": "X_4JpeHpIDCi"
   },
   "outputs": [],
   "source": [
    "from sklearn.preprocessing import LabelEncoder\n",
    "le = LabelEncoder()\n",
    "y = le.fit_transform(y)"
   ]
  },
  {
   "cell_type": "markdown",
   "metadata": {
    "id": "6H_WLfw3JMUs"
   },
   "source": [
    "## PCA"
   ]
  },
  {
   "cell_type": "code",
   "execution_count": 5,
   "metadata": {
    "id": "OsevVlFeIDFB"
   },
   "outputs": [],
   "source": [
    "from sklearn.decomposition import PCA\n",
    "PrinCom=PCA(n_components=15) # we choose the number of PCs\n",
    "PrinCom.fit(X)\n",
    "Z=PrinCom.transform(X)"
   ]
  },
  {
   "cell_type": "markdown",
   "metadata": {
    "id": "8vbNZjeSJU2H"
   },
   "source": [
    "Visualizing the data after transformation"
   ]
  },
  {
   "cell_type": "code",
   "execution_count": 6,
   "metadata": {
    "colab": {
     "base_uri": "https://localhost:8080/",
     "height": 281
    },
    "id": "V7U3X418IDHV",
    "outputId": "681492e0-878b-42c3-86db-5ee484fb90eb"
   },
   "outputs": [
    {
     "data": {
      "image/png": "[encoded data removed]",
      "text/plain": [
       "<Figure size 432x288 with 1 Axes>"
      ]
     },
     "metadata": {
      "needs_background": "light"
     },
     "output_type": "display_data"
    }
   ],
   "source": [
    "plt.scatter(Z[:,0],Z[:,1],c=y) \n",
    "plt.title(\"Distribution of the data for the 1st and 2nd PCA\")\n",
    "plt.show()"
   ]
  },
  {
   "cell_type": "code",
   "execution_count": 7,
   "metadata": {
    "colab": {
     "base_uri": "https://localhost:8080/",
     "height": 281
    },
    "id": "XMx6xajMIDJs",
    "outputId": "6e81ff0b-f03b-4740-d5f3-35611c260814"
   },
   "outputs": [
    {
     "data": {
      "image/png": "[encoded data removed]",
      "text/plain": [
       "<Figure size 432x288 with 1 Axes>"
      ]
     },
     "metadata": {
      "needs_background": "light"
     },
     "output_type": "display_data"
    }
   ],
   "source": [
    "plt.scatter(Z[:,2],Z[:,3],c=y) \n",
    "plt.title(\"Distribution of the data for the 3rd and 4th PCA\")\n",
    "plt.show()"
   ]
  },
  {
   "cell_type": "code",
   "execution_count": 8,
   "metadata": {
    "colab": {
     "base_uri": "https://localhost:8080/",
     "height": 281
    },
    "id": "_pyv4NCRIDMR",
    "outputId": "66557ada-5893-4739-ce56-c8d8ccf992af"
   },
   "outputs": [
    {
     "data": {
      "image/png": "[encoded data removed]",
      "text/plain": [
       "<Figure size 432x288 with 1 Axes>"
      ]
     },
     "metadata": {
      "needs_background": "light"
     },
     "output_type": "display_data"
    }
   ],
   "source": [
    "plt.scatter(Z[:,3],Z[:,4],c=y) \n",
    "plt.title(\"Distribution of the data for the 5th and 6th PCA\")\n",
    "plt.show()"
   ]
  },
  {
   "cell_type": "markdown",
   "metadata": {
    "id": "Nbqg_z2XKMF0"
   },
   "source": [
    "## Checking the contribution of PCs"
   ]
  },
  {
   "cell_type": "code",
   "execution_count": 9,
   "metadata": {
    "id": "bLqpu32dX6AQ"
   },
   "outputs": [],
   "source": [
    "e = []\n",
    "for z in Z.T:\n",
    "  e.append(np.var(z))"
   ]
  },
  {
   "cell_type": "code",
   "execution_count": 10,
   "metadata": {
    "id": "tthFI9hRMR2v"
   },
   "outputs": [],
   "source": [
    "contributions = []\n",
    "for i in range(Z.shape[1]):\n",
    "  contributions.append(np.sum(e[:i+1]) / np.sum(e))"
   ]
  },
  {
   "cell_type": "code",
   "execution_count": 11,
   "metadata": {
    "colab": {
     "base_uri": "https://localhost:8080/",
     "height": 404
    },
    "id": "Ohil7AqIMel2",
    "outputId": "0d077bcb-1246-4585-fd9e-5a3afeb34d2b"
   },
   "outputs": [
    {
     "data": {
      "image/png": "[encoded data removed]",
      "text/plain": [
       "<Figure size 720x432 with 1 Axes>"
      ]
     },
     "metadata": {
      "needs_background": "light"
     },
     "output_type": "display_data"
    }
   ],
   "source": [
    "plt.figure(figsize=(10,6))\n",
    "plt.plot(list(range(1, 16)), [i*100 for i in contributions])\n",
    "plt.title(\"Contribution of the PCs to the data\")\n",
    "plt.xlabel(\"Number of PCs\")\n",
    "plt.ylabel(\"Contribution\")\n",
    "plt.grid()\n",
    "plt.xticks(list(range(1,16)))\n",
    "plt.show()"
   ]
  },
  {
   "cell_type": "markdown",
   "metadata": {
    "id": "-A0X8oR1VOm_"
   },
   "source": [
    "# ANN model\n",
    "\n",
    "The first 4 PCs are taken as input to the model"
   ]
  },
  {
   "cell_type": "code",
   "execution_count": 12,
   "metadata": {
    "id": "d7CLMqokMqyF"
   },
   "outputs": [],
   "source": [
    "inputs= Z[:, 0:4]"
   ]
  },
  {
   "cell_type": "markdown",
   "metadata": {
    "id": "T102UTBAVd4g"
   },
   "source": [
    "Splitting the data to the trainingset and testset"
   ]
  },
  {
   "cell_type": "code",
   "execution_count": 13,
   "metadata": {
    "id": "V6n5R5gOVbt1"
   },
   "outputs": [],
   "source": [
    "from sklearn.model_selection import train_test_split\n",
    "X_train, X_test, y_train, y_test = train_test_split(inputs, y, test_size = 0.2, random_state = 0)"
   ]
  },
  {
   "cell_type": "markdown",
   "metadata": {
    "id": "QpG9a8nDVmcf"
   },
   "source": [
    "Feature scaling"
   ]
  },
  {
   "cell_type": "code",
   "execution_count": 14,
   "metadata": {
    "id": "2EKfGUc8ViHY"
   },
   "outputs": [],
   "source": [
    "from sklearn.preprocessing import StandardScaler\n",
    "sc = StandardScaler()\n",
    "X_train = sc.fit_transform(X_train)\n",
    "X_test = sc.transform(X_test)"
   ]
  },
  {
   "cell_type": "markdown",
   "metadata": {
    "id": "DqLElcZKVxB5"
   },
   "source": [
    "Building the model"
   ]
  },
  {
   "cell_type": "code",
   "execution_count": 15,
   "metadata": {
    "colab": {
     "base_uri": "https://localhost:8080/"
    },
    "id": "j4wm_dEEV2Lw",
    "outputId": "f9d70df6-9faf-444d-cbd5-61abfc44a39e"
   },
   "outputs": [
    {
     "name": "stdout",
     "output_type": "stream",
     "text": [
      "Epoch 1/100\n",
      "18/18 [==============================] - 1s 880us/step - loss: 1.0986 - accuracy: 0.3497\n",
      "Epoch 2/100\n",
      "18/18 [==============================] - 0s 880us/step - loss: 1.0949 - accuracy: 0.4056\n",
      "Epoch 3/100\n",
      "18/18 [==============================] - 0s 821us/step - loss: 1.0909 - accuracy: 0.4056\n",
      "Epoch 4/100\n",
      "18/18 [==============================] - 0s 792us/step - loss: 1.0879 - accuracy: 0.4056\n",
      "Epoch 5/100\n",
      "18/18 [==============================] - 0s 821us/step - loss: 1.0847 - accuracy: 0.4056\n",
      "Epoch 6/100\n",
      "18/18 [==============================] - 0s 821us/step - loss: 1.0812 - accuracy: 0.4056\n",
      "Epoch 7/100\n",
      "18/18 [==============================] - 0s 821us/step - loss: 1.0779 - accuracy: 0.4056\n",
      "Epoch 8/100\n",
      "18/18 [==============================] - 0s 763us/step - loss: 1.0751 - accuracy: 0.4056\n",
      "Epoch 9/100\n",
      "18/18 [==============================] - 0s 821us/step - loss: 1.0710 - accuracy: 0.4056\n",
      "Epoch 10/100\n",
      "18/18 [==============================] - 0s 763us/step - loss: 1.0671 - accuracy: 0.4056\n",
      "Epoch 11/100\n",
      "18/18 [==============================] - 0s 763us/step - loss: 1.0624 - accuracy: 0.4056\n",
      "Epoch 12/100\n",
      "18/18 [==============================] - 0s 821us/step - loss: 1.0568 - accuracy: 0.4056\n",
      "Epoch 13/100\n",
      "18/18 [==============================] - 0s 821us/step - loss: 1.0512 - accuracy: 0.4056\n",
      "Epoch 14/100\n",
      "18/18 [==============================] - 0s 763us/step - loss: 1.0441 - accuracy: 0.4056\n",
      "Epoch 15/100\n",
      "18/18 [==============================] - 0s 792us/step - loss: 1.0362 - accuracy: 0.4056\n",
      "Epoch 16/100\n",
      "18/18 [==============================] - 0s 763us/step - loss: 1.0274 - accuracy: 0.4056\n",
      "Epoch 17/100\n",
      "18/18 [==============================] - 0s 763us/step - loss: 1.0172 - accuracy: 0.4056\n",
      "Epoch 18/100\n",
      "18/18 [==============================] - 0s 821us/step - loss: 1.0057 - accuracy: 0.4056\n",
      "Epoch 19/100\n",
      "18/18 [==============================] - 0s 821us/step - loss: 0.9925 - accuracy: 0.4056\n",
      "Epoch 20/100\n",
      "18/18 [==============================] - 0s 763us/step - loss: 0.9777 - accuracy: 0.4056\n",
      "Epoch 21/100\n",
      "18/18 [==============================] - 0s 763us/step - loss: 0.9614 - accuracy: 0.4615\n",
      "Epoch 22/100\n",
      "18/18 [==============================] - 0s 821us/step - loss: 0.9444 - accuracy: 0.6364\n",
      "Epoch 23/100\n",
      "18/18 [==============================] - 0s 821us/step - loss: 0.9259 - accuracy: 0.6573\n",
      "Epoch 24/100\n",
      "18/18 [==============================] - 0s 821us/step - loss: 0.9073 - accuracy: 0.6503\n",
      "Epoch 25/100\n",
      "18/18 [==============================] - 0s 821us/step - loss: 0.8875 - accuracy: 0.6573\n",
      "Epoch 26/100\n",
      "18/18 [==============================] - 0s 880us/step - loss: 0.8684 - accuracy: 0.6573\n",
      "Epoch 27/100\n",
      "18/18 [==============================] - 0s 792us/step - loss: 0.8484 - accuracy: 0.6573\n",
      "Epoch 28/100\n",
      "18/18 [==============================] - 0s 821us/step - loss: 0.8297 - accuracy: 0.6573\n",
      "Epoch 29/100\n",
      "18/18 [==============================] - 0s 821us/step - loss: 0.8076 - accuracy: 0.6573\n",
      "Epoch 30/100\n",
      "18/18 [==============================] - 0s 821us/step - loss: 0.7858 - accuracy: 0.6573\n",
      "Epoch 31/100\n",
      "18/18 [==============================] - 0s 821us/step - loss: 0.7664 - accuracy: 0.6573\n",
      "Epoch 32/100\n",
      "18/18 [==============================] - 0s 821us/step - loss: 0.7454 - accuracy: 0.6573\n",
      "Epoch 33/100\n",
      "18/18 [==============================] - 0s 821us/step - loss: 0.7265 - accuracy: 0.6923\n",
      "Epoch 34/100\n",
      "18/18 [==============================] - 0s 763us/step - loss: 0.7091 - accuracy: 0.8322\n",
      "Epoch 35/100\n",
      "18/18 [==============================] - 0s 821us/step - loss: 0.6923 - accuracy: 0.8392\n",
      "Epoch 36/100\n",
      "18/18 [==============================] - 0s 821us/step - loss: 0.6755 - accuracy: 0.8392\n",
      "Epoch 37/100\n",
      "18/18 [==============================] - 0s 821us/step - loss: 0.6599 - accuracy: 0.8392\n",
      "Epoch 38/100\n",
      "18/18 [==============================] - 0s 763us/step - loss: 0.6466 - accuracy: 0.8392\n",
      "Epoch 39/100\n",
      "18/18 [==============================] - 0s 792us/step - loss: 0.6326 - accuracy: 0.8462\n",
      "Epoch 40/100\n",
      "18/18 [==============================] - 0s 763us/step - loss: 0.6208 - accuracy: 0.8462\n",
      "Epoch 41/100\n",
      "18/18 [==============================] - 0s 763us/step - loss: 0.6091 - accuracy: 0.8531\n",
      "Epoch 42/100\n",
      "18/18 [==============================] - 0s 821us/step - loss: 0.5969 - accuracy: 0.8601\n",
      "Epoch 43/100\n",
      "18/18 [==============================] - 0s 763us/step - loss: 0.5851 - accuracy: 0.8671\n",
      "Epoch 44/100\n",
      "18/18 [==============================] - 0s 763us/step - loss: 0.5744 - accuracy: 0.8601\n",
      "Epoch 45/100\n",
      "18/18 [==============================] - 0s 821us/step - loss: 0.5625 - accuracy: 0.8671\n",
      "Epoch 46/100\n",
      "18/18 [==============================] - 0s 763us/step - loss: 0.5535 - accuracy: 0.8601\n",
      "Epoch 47/100\n",
      "18/18 [==============================] - 0s 763us/step - loss: 0.5448 - accuracy: 0.8671\n",
      "Epoch 48/100\n",
      "18/18 [==============================] - 0s 763us/step - loss: 0.5372 - accuracy: 0.8601\n",
      "Epoch 49/100\n",
      "18/18 [==============================] - 0s 821us/step - loss: 0.5258 - accuracy: 0.8601\n",
      "Epoch 50/100\n",
      "18/18 [==============================] - 0s 763us/step - loss: 0.5168 - accuracy: 0.8601\n",
      "Epoch 51/100\n",
      "18/18 [==============================] - 0s 763us/step - loss: 0.5091 - accuracy: 0.8601\n",
      "Epoch 52/100\n",
      "18/18 [==============================] - 0s 821us/step - loss: 0.5028 - accuracy: 0.8671\n",
      "Epoch 53/100\n",
      "18/18 [==============================] - 0s 821us/step - loss: 0.4936 - accuracy: 0.8601\n",
      "Epoch 54/100\n",
      "18/18 [==============================] - 0s 763us/step - loss: 0.4865 - accuracy: 0.8601\n",
      "Epoch 55/100\n",
      "18/18 [==============================] - 0s 821us/step - loss: 0.4800 - accuracy: 0.8671\n",
      "Epoch 56/100\n",
      "18/18 [==============================] - 0s 821us/step - loss: 0.4737 - accuracy: 0.8741\n",
      "Epoch 57/100\n",
      "18/18 [==============================] - 0s 821us/step - loss: 0.4675 - accuracy: 0.8811\n",
      "Epoch 58/100\n",
      "18/18 [==============================] - 0s 763us/step - loss: 0.4611 - accuracy: 0.8951\n",
      "Epoch 59/100\n",
      "18/18 [==============================] - 0s 763us/step - loss: 0.4555 - accuracy: 0.8951\n",
      "Epoch 60/100\n",
      "18/18 [==============================] - 0s 763us/step - loss: 0.4499 - accuracy: 0.8951\n",
      "Epoch 61/100\n",
      "18/18 [==============================] - 0s 763us/step - loss: 0.4446 - accuracy: 0.9021\n",
      "Epoch 62/100\n",
      "18/18 [==============================] - 0s 792us/step - loss: 0.4400 - accuracy: 0.8951\n",
      "Epoch 63/100\n",
      "18/18 [==============================] - 0s 821us/step - loss: 0.4346 - accuracy: 0.9021\n",
      "Epoch 64/100\n",
      "18/18 [==============================] - 0s 821us/step - loss: 0.4301 - accuracy: 0.9091\n",
      "Epoch 65/100\n",
      "18/18 [==============================] - 0s 821us/step - loss: 0.4257 - accuracy: 0.9091\n",
      "Epoch 66/100\n",
      "18/18 [==============================] - 0s 763us/step - loss: 0.4215 - accuracy: 0.9091\n",
      "Epoch 67/100\n",
      "18/18 [==============================] - 0s 821us/step - loss: 0.4173 - accuracy: 0.9161\n",
      "Epoch 68/100\n",
      "18/18 [==============================] - 0s 821us/step - loss: 0.4144 - accuracy: 0.9161\n",
      "Epoch 69/100\n",
      "18/18 [==============================] - 0s 821us/step - loss: 0.4095 - accuracy: 0.9161\n",
      "Epoch 70/100\n",
      "18/18 [==============================] - 0s 880us/step - loss: 0.4059 - accuracy: 0.9161\n",
      "Epoch 71/100\n",
      "18/18 [==============================] - 0s 821us/step - loss: 0.4024 - accuracy: 0.9161\n",
      "Epoch 72/100\n",
      "18/18 [==============================] - 0s 821us/step - loss: 0.3986 - accuracy: 0.9161\n",
      "Epoch 73/100\n",
      "18/18 [==============================] - 0s 763us/step - loss: 0.3955 - accuracy: 0.9161\n",
      "Epoch 74/100\n",
      "18/18 [==============================] - 0s 792us/step - loss: 0.3929 - accuracy: 0.9161\n",
      "Epoch 75/100\n",
      "18/18 [==============================] - 0s 880us/step - loss: 0.3893 - accuracy: 0.9161\n",
      "Epoch 76/100\n",
      "18/18 [==============================] - 0s 821us/step - loss: 0.3859 - accuracy: 0.9161\n",
      "Epoch 77/100\n",
      "18/18 [==============================] - 0s 821us/step - loss: 0.3829 - accuracy: 0.9161\n",
      "Epoch 78/100\n",
      "18/18 [==============================] - 0s 821us/step - loss: 0.3800 - accuracy: 0.9161\n",
      "Epoch 79/100\n",
      "18/18 [==============================] - 0s 763us/step - loss: 0.3767 - accuracy: 0.9161\n",
      "Epoch 80/100\n",
      "18/18 [==============================] - 0s 763us/step - loss: 0.3745 - accuracy: 0.9161\n",
      "Epoch 81/100\n"
     ]
    },
    {
     "name": "stdout",
     "output_type": "stream",
     "text": [
      "18/18 [==============================] - 0s 763us/step - loss: 0.3720 - accuracy: 0.9161\n",
      "Epoch 82/100\n",
      "18/18 [==============================] - 0s 763us/step - loss: 0.3686 - accuracy: 0.9161\n",
      "Epoch 83/100\n",
      "18/18 [==============================] - 0s 821us/step - loss: 0.3669 - accuracy: 0.9091\n",
      "Epoch 84/100\n",
      "18/18 [==============================] - 0s 821us/step - loss: 0.3636 - accuracy: 0.9091\n",
      "Epoch 85/100\n",
      "18/18 [==============================] - 0s 821us/step - loss: 0.3614 - accuracy: 0.9091\n",
      "Epoch 86/100\n",
      "18/18 [==============================] - 0s 763us/step - loss: 0.3595 - accuracy: 0.9091\n",
      "Epoch 87/100\n",
      "18/18 [==============================] - 0s 851us/step - loss: 0.3565 - accuracy: 0.9091\n",
      "Epoch 88/100\n",
      "18/18 [==============================] - 0s 821us/step - loss: 0.3541 - accuracy: 0.9091\n",
      "Epoch 89/100\n",
      "18/18 [==============================] - 0s 763us/step - loss: 0.3521 - accuracy: 0.9091\n",
      "Epoch 90/100\n",
      "18/18 [==============================] - 0s 763us/step - loss: 0.3499 - accuracy: 0.9091\n",
      "Epoch 91/100\n",
      "18/18 [==============================] - 0s 821us/step - loss: 0.3486 - accuracy: 0.9091\n",
      "Epoch 92/100\n",
      "18/18 [==============================] - 0s 821us/step - loss: 0.3459 - accuracy: 0.9091\n",
      "Epoch 93/100\n",
      "18/18 [==============================] - 0s 821us/step - loss: 0.3438 - accuracy: 0.9091\n",
      "Epoch 94/100\n",
      "18/18 [==============================] - 0s 763us/step - loss: 0.3419 - accuracy: 0.9091\n",
      "Epoch 95/100\n",
      "18/18 [==============================] - 0s 763us/step - loss: 0.3399 - accuracy: 0.9091\n",
      "Epoch 96/100\n",
      "18/18 [==============================] - 0s 763us/step - loss: 0.3383 - accuracy: 0.9091\n",
      "Epoch 97/100\n",
      "18/18 [==============================] - 0s 763us/step - loss: 0.3362 - accuracy: 0.9091\n",
      "Epoch 98/100\n",
      "18/18 [==============================] - 0s 763us/step - loss: 0.3344 - accuracy: 0.9091\n",
      "Epoch 99/100\n",
      "18/18 [==============================] - 0s 763us/step - loss: 0.3324 - accuracy: 0.9091\n",
      "Epoch 100/100\n",
      "18/18 [==============================] - 0s 792us/step - loss: 0.3306 - accuracy: 0.9091\n"
     ]
    },
    {
     "data": {
      "text/plain": [
       "<keras.callbacks.History at 0x1dfc6547970>"
      ]
     },
     "execution_count": 15,
     "metadata": {},
     "output_type": "execute_result"
    }
   ],
   "source": [
    "GlueModel=tf.keras.models.Sequential()\n",
    "GlueModel.add(tf.keras.layers.Dense(4,activation='relu'))\n",
    "GlueModel.add(tf.keras.layers.Dense(2,activation='relu'))\n",
    "GlueModel.add(tf.keras.layers.Dense(3,activation='softmax'))\n",
    "GlueModel.compile(optimizer = 'adam', loss = 'sparse_categorical_crossentropy', metrics = ['accuracy'])\n",
    "GlueModel.fit(X_train, y_train, batch_size = 8, epochs = 100)"
   ]
  },
  {
   "cell_type": "markdown",
   "metadata": {
    "id": "92aL8hDjV8MQ"
   },
   "source": [
    "Evaluating the model over the test set"
   ]
  },
  {
   "cell_type": "code",
   "execution_count": 16,
   "metadata": {
    "colab": {
     "base_uri": "https://localhost:8080/"
    },
    "id": "vtbEoF8hWC-Z",
    "outputId": "d1529d83-9f04-4a77-f23f-6550bdc38ee8"
   },
   "outputs": [
    {
     "name": "stdout",
     "output_type": "stream",
     "text": [
      "2/2 [==============================] - 0s 997us/step - loss: 0.5875 - accuracy: 0.8056\n"
     ]
    },
    {
     "data": {
      "text/plain": [
       "[0.5874992609024048, 0.8055555820465088]"
      ]
     },
     "execution_count": 16,
     "metadata": {},
     "output_type": "execute_result"
    }
   ],
   "source": [
    "GlueModel.evaluate(X_test,y_test)"
   ]
  },
  {
   "cell_type": "markdown",
   "metadata": {
    "id": "j6e90SNUWIFz"
   },
   "source": [
    "### Trying the model with all the 15 PCs"
   ]
  },
  {
   "cell_type": "code",
   "execution_count": 17,
   "metadata": {
    "id": "T85MdRqwWDNC"
   },
   "outputs": [],
   "source": [
    "inputs_2 = Z"
   ]
  },
  {
   "cell_type": "code",
   "execution_count": 18,
   "metadata": {
    "id": "S3l8Y019WVXk"
   },
   "outputs": [],
   "source": [
    "from sklearn.model_selection import train_test_split\n",
    "X_train_2, X_test_2, y_train_2, y_test_2 = train_test_split(inputs_2, y, test_size = 0.2, random_state = 0)"
   ]
  },
  {
   "cell_type": "code",
   "execution_count": 19,
   "metadata": {
    "id": "Jd76jCxaWeow"
   },
   "outputs": [],
   "source": [
    "from sklearn.preprocessing import StandardScaler\n",
    "sc = StandardScaler()\n",
    "X_train_2 = sc.fit_transform(X_train_2)\n",
    "X_test_2 = sc.transform(X_test_2)"
   ]
  },
  {
   "cell_type": "code",
   "execution_count": 20,
   "metadata": {
    "colab": {
     "base_uri": "https://localhost:8080/"
    },
    "id": "Z2F5JAwmWhQZ",
    "outputId": "f76ddc0a-0a1e-46cb-fa1e-a7fb66e6d8ca"
   },
   "outputs": [
    {
     "name": "stdout",
     "output_type": "stream",
     "text": [
      "Epoch 1/100\n",
      "18/18 [==============================] - 0s 645us/step - loss: 1.1499 - accuracy: 0.4056\n",
      "Epoch 2/100\n",
      "18/18 [==============================] - 0s 704us/step - loss: 1.1317 - accuracy: 0.4266\n",
      "Epoch 3/100\n",
      "18/18 [==============================] - 0s 704us/step - loss: 1.1172 - accuracy: 0.4336\n",
      "Epoch 4/100\n",
      "18/18 [==============================] - 0s 645us/step - loss: 1.1064 - accuracy: 0.4336\n",
      "Epoch 5/100\n",
      "18/18 [==============================] - 0s 704us/step - loss: 1.0960 - accuracy: 0.4545\n",
      "Epoch 6/100\n",
      "18/18 [==============================] - 0s 704us/step - loss: 1.0870 - accuracy: 0.4755\n",
      "Epoch 7/100\n",
      "18/18 [==============================] - 0s 645us/step - loss: 1.0772 - accuracy: 0.4755\n",
      "Epoch 8/100\n",
      "18/18 [==============================] - 0s 645us/step - loss: 1.0680 - accuracy: 0.4755\n",
      "Epoch 9/100\n",
      "18/18 [==============================] - 0s 645us/step - loss: 1.0605 - accuracy: 0.4825\n",
      "Epoch 10/100\n",
      "18/18 [==============================] - 0s 704us/step - loss: 1.0533 - accuracy: 0.4895\n",
      "Epoch 11/100\n",
      "18/18 [==============================] - 0s 704us/step - loss: 1.0471 - accuracy: 0.4895\n",
      "Epoch 12/100\n",
      "18/18 [==============================] - 0s 704us/step - loss: 1.0402 - accuracy: 0.4965\n",
      "Epoch 13/100\n",
      "18/18 [==============================] - 0s 645us/step - loss: 1.0328 - accuracy: 0.5035\n",
      "Epoch 14/100\n",
      "18/18 [==============================] - 0s 645us/step - loss: 1.0243 - accuracy: 0.5175\n",
      "Epoch 15/100\n",
      "18/18 [==============================] - 0s 704us/step - loss: 1.0157 - accuracy: 0.5245\n",
      "Epoch 16/100\n",
      "18/18 [==============================] - 0s 704us/step - loss: 1.0067 - accuracy: 0.5245\n",
      "Epoch 17/100\n",
      "18/18 [==============================] - 0s 704us/step - loss: 0.9987 - accuracy: 0.5385\n",
      "Epoch 18/100\n",
      "18/18 [==============================] - 0s 645us/step - loss: 0.9913 - accuracy: 0.5455\n",
      "Epoch 19/100\n",
      "18/18 [==============================] - 0s 645us/step - loss: 0.9846 - accuracy: 0.5455\n",
      "Epoch 20/100\n",
      "18/18 [==============================] - 0s 645us/step - loss: 0.9770 - accuracy: 0.5385\n",
      "Epoch 21/100\n",
      "18/18 [==============================] - 0s 645us/step - loss: 0.9686 - accuracy: 0.5385\n",
      "Epoch 22/100\n",
      "18/18 [==============================] - 0s 645us/step - loss: 0.9600 - accuracy: 0.5315\n",
      "Epoch 23/100\n",
      "18/18 [==============================] - 0s 704us/step - loss: 0.9514 - accuracy: 0.5385\n",
      "Epoch 24/100\n",
      "18/18 [==============================] - 0s 704us/step - loss: 0.9414 - accuracy: 0.5455\n",
      "Epoch 25/100\n",
      "18/18 [==============================] - 0s 704us/step - loss: 0.9300 - accuracy: 0.5455\n",
      "Epoch 26/100\n",
      "18/18 [==============================] - 0s 645us/step - loss: 0.9183 - accuracy: 0.5594\n",
      "Epoch 27/100\n",
      "18/18 [==============================] - 0s 645us/step - loss: 0.9058 - accuracy: 0.5664\n",
      "Epoch 28/100\n",
      "18/18 [==============================] - 0s 704us/step - loss: 0.8944 - accuracy: 0.5734\n",
      "Epoch 29/100\n",
      "18/18 [==============================] - 0s 723us/step - loss: 0.8814 - accuracy: 0.5944\n",
      "Epoch 30/100\n",
      "18/18 [==============================] - 0s 743us/step - loss: 0.8686 - accuracy: 0.6014\n",
      "Epoch 31/100\n",
      "18/18 [==============================] - 0s 763us/step - loss: 0.8558 - accuracy: 0.6014\n",
      "Epoch 32/100\n",
      "18/18 [==============================] - 0s 704us/step - loss: 0.8438 - accuracy: 0.6014\n",
      "Epoch 33/100\n",
      "18/18 [==============================] - 0s 704us/step - loss: 0.8297 - accuracy: 0.6014\n",
      "Epoch 34/100\n",
      "18/18 [==============================] - 0s 704us/step - loss: 0.8167 - accuracy: 0.6084\n",
      "Epoch 35/100\n",
      "18/18 [==============================] - 0s 704us/step - loss: 0.8028 - accuracy: 0.6154\n",
      "Epoch 36/100\n",
      "18/18 [==============================] - 0s 763us/step - loss: 0.7904 - accuracy: 0.6154\n",
      "Epoch 37/100\n",
      "18/18 [==============================] - 0s 704us/step - loss: 0.7771 - accuracy: 0.6154\n",
      "Epoch 38/100\n",
      "18/18 [==============================] - 0s 645us/step - loss: 0.7642 - accuracy: 0.6434\n",
      "Epoch 39/100\n",
      "18/18 [==============================] - 0s 704us/step - loss: 0.7499 - accuracy: 0.6643\n",
      "Epoch 40/100\n",
      "18/18 [==============================] - 0s 704us/step - loss: 0.7370 - accuracy: 0.6713\n",
      "Epoch 41/100\n",
      "18/18 [==============================] - 0s 645us/step - loss: 0.7243 - accuracy: 0.6713\n",
      "Epoch 42/100\n",
      "18/18 [==============================] - 0s 704us/step - loss: 0.7101 - accuracy: 0.6853\n",
      "Epoch 43/100\n",
      "18/18 [==============================] - 0s 763us/step - loss: 0.6973 - accuracy: 0.6923\n",
      "Epoch 44/100\n",
      "18/18 [==============================] - 0s 704us/step - loss: 0.6846 - accuracy: 0.6923\n",
      "Epoch 45/100\n",
      "18/18 [==============================] - 0s 704us/step - loss: 0.6727 - accuracy: 0.6923\n",
      "Epoch 46/100\n",
      "18/18 [==============================] - 0s 645us/step - loss: 0.6612 - accuracy: 0.6993\n",
      "Epoch 47/100\n",
      "18/18 [==============================] - 0s 704us/step - loss: 0.6503 - accuracy: 0.7203\n",
      "Epoch 48/100\n",
      "18/18 [==============================] - 0s 704us/step - loss: 0.6392 - accuracy: 0.7203\n",
      "Epoch 49/100\n",
      "18/18 [==============================] - 0s 645us/step - loss: 0.6286 - accuracy: 0.7203\n",
      "Epoch 50/100\n",
      "18/18 [==============================] - 0s 645us/step - loss: 0.6181 - accuracy: 0.7203\n",
      "Epoch 51/100\n",
      "18/18 [==============================] - 0s 704us/step - loss: 0.6083 - accuracy: 0.7203\n",
      "Epoch 52/100\n",
      "18/18 [==============================] - 0s 645us/step - loss: 0.5981 - accuracy: 0.7343\n",
      "Epoch 53/100\n",
      "18/18 [==============================] - 0s 645us/step - loss: 0.5884 - accuracy: 0.7343\n",
      "Epoch 54/100\n",
      "18/18 [==============================] - 0s 645us/step - loss: 0.5783 - accuracy: 0.7343\n",
      "Epoch 55/100\n",
      "18/18 [==============================] - 0s 763us/step - loss: 0.5678 - accuracy: 0.7413\n",
      "Epoch 56/100\n",
      "18/18 [==============================] - 0s 704us/step - loss: 0.5582 - accuracy: 0.7413\n",
      "Epoch 57/100\n",
      "18/18 [==============================] - 0s 645us/step - loss: 0.5483 - accuracy: 0.7413\n",
      "Epoch 58/100\n",
      "18/18 [==============================] - 0s 704us/step - loss: 0.5375 - accuracy: 0.7413\n",
      "Epoch 59/100\n",
      "18/18 [==============================] - 0s 645us/step - loss: 0.5274 - accuracy: 0.7413\n",
      "Epoch 60/100\n",
      "18/18 [==============================] - 0s 645us/step - loss: 0.5177 - accuracy: 0.7413\n",
      "Epoch 61/100\n",
      "18/18 [==============================] - 0s 645us/step - loss: 0.5086 - accuracy: 0.7413\n",
      "Epoch 62/100\n",
      "18/18 [==============================] - 0s 704us/step - loss: 0.4997 - accuracy: 0.7483\n",
      "Epoch 63/100\n",
      "18/18 [==============================] - 0s 704us/step - loss: 0.4898 - accuracy: 0.7483\n",
      "Epoch 64/100\n",
      "18/18 [==============================] - 0s 645us/step - loss: 0.4806 - accuracy: 0.7483\n",
      "Epoch 65/100\n",
      "18/18 [==============================] - 0s 704us/step - loss: 0.4706 - accuracy: 0.7483\n",
      "Epoch 66/100\n",
      "18/18 [==============================] - 0s 704us/step - loss: 0.4617 - accuracy: 0.7483\n",
      "Epoch 67/100\n",
      "18/18 [==============================] - 0s 645us/step - loss: 0.4534 - accuracy: 0.7483\n",
      "Epoch 68/100\n",
      "18/18 [==============================] - 0s 645us/step - loss: 0.4450 - accuracy: 0.7483\n",
      "Epoch 69/100\n",
      "18/18 [==============================] - 0s 704us/step - loss: 0.4339 - accuracy: 0.7483\n",
      "Epoch 70/100\n",
      "18/18 [==============================] - 0s 645us/step - loss: 0.4220 - accuracy: 0.7483\n",
      "Epoch 71/100\n",
      "18/18 [==============================] - 0s 645us/step - loss: 0.4106 - accuracy: 0.7483\n",
      "Epoch 72/100\n",
      "18/18 [==============================] - 0s 704us/step - loss: 0.3996 - accuracy: 0.7483\n",
      "Epoch 73/100\n",
      "18/18 [==============================] - 0s 709us/step - loss: 0.3889 - accuracy: 0.7483\n",
      "Epoch 74/100\n",
      "18/18 [==============================] - 0s 704us/step - loss: 0.3793 - accuracy: 0.7483\n",
      "Epoch 75/100\n",
      "18/18 [==============================] - 0s 704us/step - loss: 0.3693 - accuracy: 0.7483\n",
      "Epoch 76/100\n",
      "18/18 [==============================] - 0s 645us/step - loss: 0.3607 - accuracy: 0.8951\n",
      "Epoch 77/100\n",
      "18/18 [==============================] - 0s 704us/step - loss: 0.3534 - accuracy: 0.8951\n",
      "Epoch 78/100\n",
      "18/18 [==============================] - 0s 763us/step - loss: 0.3465 - accuracy: 0.8951\n",
      "Epoch 79/100\n",
      "18/18 [==============================] - 0s 645us/step - loss: 0.3395 - accuracy: 0.9021\n",
      "Epoch 80/100\n",
      "18/18 [==============================] - 0s 645us/step - loss: 0.3335 - accuracy: 0.9021\n",
      "Epoch 81/100\n"
     ]
    },
    {
     "name": "stdout",
     "output_type": "stream",
     "text": [
      "18/18 [==============================] - 0s 763us/step - loss: 0.3281 - accuracy: 0.9021\n",
      "Epoch 82/100\n",
      "18/18 [==============================] - 0s 645us/step - loss: 0.3230 - accuracy: 0.9021\n",
      "Epoch 83/100\n",
      "18/18 [==============================] - 0s 645us/step - loss: 0.3180 - accuracy: 0.9091\n",
      "Epoch 84/100\n",
      "18/18 [==============================] - 0s 704us/step - loss: 0.3130 - accuracy: 0.9091\n",
      "Epoch 85/100\n",
      "18/18 [==============================] - 0s 645us/step - loss: 0.3080 - accuracy: 0.9091\n",
      "Epoch 86/100\n",
      "18/18 [==============================] - 0s 691us/step - loss: 0.3036 - accuracy: 0.9091\n",
      "Epoch 87/100\n",
      "18/18 [==============================] - 0s 645us/step - loss: 0.2993 - accuracy: 0.9091\n",
      "Epoch 88/100\n",
      "18/18 [==============================] - 0s 763us/step - loss: 0.2952 - accuracy: 0.9091\n",
      "Epoch 89/100\n",
      "18/18 [==============================] - 0s 704us/step - loss: 0.2914 - accuracy: 0.9091\n",
      "Epoch 90/100\n",
      "18/18 [==============================] - 0s 645us/step - loss: 0.2881 - accuracy: 0.9161\n",
      "Epoch 91/100\n",
      "18/18 [==============================] - 0s 645us/step - loss: 0.2845 - accuracy: 0.9161\n",
      "Epoch 92/100\n",
      "18/18 [==============================] - 0s 645us/step - loss: 0.2808 - accuracy: 0.9161\n",
      "Epoch 93/100\n",
      "18/18 [==============================] - 0s 704us/step - loss: 0.2770 - accuracy: 0.9161\n",
      "Epoch 94/100\n",
      "18/18 [==============================] - 0s 645us/step - loss: 0.2735 - accuracy: 0.9161\n",
      "Epoch 95/100\n",
      "18/18 [==============================] - 0s 704us/step - loss: 0.2704 - accuracy: 0.9301\n",
      "Epoch 96/100\n",
      "18/18 [==============================] - 0s 645us/step - loss: 0.2672 - accuracy: 0.9371\n",
      "Epoch 97/100\n",
      "18/18 [==============================] - 0s 645us/step - loss: 0.2645 - accuracy: 0.9371\n",
      "Epoch 98/100\n",
      "18/18 [==============================] - 0s 645us/step - loss: 0.2618 - accuracy: 0.9371\n",
      "Epoch 99/100\n",
      "18/18 [==============================] - 0s 645us/step - loss: 0.2591 - accuracy: 0.9371\n",
      "Epoch 100/100\n",
      "18/18 [==============================] - 0s 645us/step - loss: 0.2566 - accuracy: 0.9371\n"
     ]
    },
    {
     "data": {
      "text/plain": [
       "<keras.callbacks.History at 0x1dfc75c24c0>"
      ]
     },
     "execution_count": 20,
     "metadata": {},
     "output_type": "execute_result"
    }
   ],
   "source": [
    "GlueModel_2=tf.keras.models.Sequential()\n",
    "GlueModel_2.add(tf.keras.layers.Dense(4,activation='relu'))\n",
    "GlueModel_2.add(tf.keras.layers.Dense(2,activation='relu'))\n",
    "GlueModel_2.add(tf.keras.layers.Dense(3,activation='softmax'))\n",
    "GlueModel_2.compile(optimizer = 'adam', loss = 'sparse_categorical_crossentropy', metrics = ['accuracy'])\n",
    "GlueModel_2.fit(X_train_2, y_train_2, batch_size = 8, epochs = 100)"
   ]
  },
  {
   "cell_type": "code",
   "execution_count": 21,
   "metadata": {
    "colab": {
     "base_uri": "https://localhost:8080/"
    },
    "id": "rJ1REI-MYPNS",
    "outputId": "9ba1821f-63fb-4368-d456-7549a722b651"
   },
   "outputs": [
    {
     "name": "stdout",
     "output_type": "stream",
     "text": [
      "2/2 [==============================] - 0s 998us/step - loss: 0.4986 - accuracy: 0.7778\n"
     ]
    },
    {
     "data": {
      "text/plain": [
       "[0.49863550066947937, 0.7777777910232544]"
      ]
     },
     "execution_count": 21,
     "metadata": {},
     "output_type": "execute_result"
    }
   ],
   "source": [
    "GlueModel_2.evaluate(X_test_2,y_test_2)"
   ]
  },
  {
   "cell_type": "markdown",
   "metadata": {
    "id": "xZQKO5BZYJG_"
   },
   "source": [
    "## Let's try some other classifiers like KNN, SVM, etc."
   ]
  },
  {
   "cell_type": "code",
   "execution_count": 22,
   "metadata": {
    "id": "LAfB56CsZCmc"
   },
   "outputs": [],
   "source": [
    "from sklearn.metrics import accuracy_score"
   ]
  },
  {
   "cell_type": "markdown",
   "metadata": {
    "id": "-6pZFoJHYzI3"
   },
   "source": [
    "#### KNN"
   ]
  },
  {
   "cell_type": "code",
   "execution_count": 23,
   "metadata": {
    "colab": {
     "base_uri": "https://localhost:8080/"
    },
    "id": "RWfcC9U7YwvD",
    "outputId": "e5b00c84-568a-4645-da5f-37f3215c6216"
   },
   "outputs": [
    {
     "name": "stdout",
     "output_type": "stream",
     "text": [
      "0.8888888888888888\n"
     ]
    }
   ],
   "source": [
    "from sklearn.neighbors import KNeighborsClassifier\n",
    "knn = KNeighborsClassifier(n_neighbors=3) # change n_neighbors; boundary becomes smoother with increasing value of K\n",
    "knn.fit(X_train, y_train)\n",
    "y_pred = knn.predict(X_test)\n",
    "print(accuracy_score(y_test, y_pred))\n",
    "# accuracy = np.sum(y_pred==y_test)/len(y_test)\n",
    "# print(accuracy)"
   ]
  },
  {
   "cell_type": "code",
   "execution_count": 24,
   "metadata": {
    "colab": {
     "base_uri": "https://localhost:8080/"
    },
    "id": "CUC7GL6uY0U0",
    "outputId": "71227c3c-ec6b-4f79-b383-cf631ebc637e"
   },
   "outputs": [
    {
     "name": "stdout",
     "output_type": "stream",
     "text": [
      "0.8611111111111112\n"
     ]
    }
   ],
   "source": [
    "from sklearn.svm import SVC\n",
    "svmrbf = SVC(kernel='rbf')\n",
    "svmrbf.fit(X_train, y_train)\n",
    "y_pred = svmrbf.predict(X_test)\n",
    "print(accuracy_score(y_test, y_pred))"
   ]
  },
  {
   "cell_type": "code",
   "execution_count": 25,
   "metadata": {
    "colab": {
     "base_uri": "https://localhost:8080/"
    },
    "id": "DDklY1p6Y5I1",
    "outputId": "2b6dd33d-f027-4772-c014-2520855750a7"
   },
   "outputs": [
    {
     "name": "stdout",
     "output_type": "stream",
     "text": [
      "0.8055555555555556\n"
     ]
    }
   ],
   "source": [
    "from sklearn.naive_bayes import GaussianNB\n",
    "nb_clf = GaussianNB()\n",
    "nb_clf.fit(X_train, y_train)\n",
    "y_pred = nb_clf.predict(X_test)\n",
    "print(accuracy_score(y_test, y_pred))"
   ]
  },
  {
   "cell_type": "code",
   "execution_count": null,
   "metadata": {
    "id": "81R3Dn4mZduR"
   },
   "outputs": [],
   "source": []
  }
 ],
 "metadata": {
  "colab": {
   "provenance": []
  },
  "kernelspec": {
   "display_name": "Python 3 (ipykernel)",
   "language": "python",
   "name": "python3"
  },
  "language_info": {
   "codemirror_mode": {
    "name": "ipython",
    "version": 3
   },
   "file_extension": ".py",
   "mimetype": "text/x-python",
   "name": "python",
   "nbconvert_exporter": "python",
   "pygments_lexer": "ipython3",
   "version": "3.9.7"
  },
  "toc": {
   "base_numbering": 1,
   "nav_menu": {},
   "number_sections": true,
   "sideBar": true,
   "skip_h1_title": false,
   "title_cell": "Table of Contents",
   "title_sidebar": "Contents",
   "toc_cell": true,
   "toc_position": {},
   "toc_section_display": true,
   "toc_window_display": false
  }
 },
 "nbformat": 4,
 "nbformat_minor": 1
}

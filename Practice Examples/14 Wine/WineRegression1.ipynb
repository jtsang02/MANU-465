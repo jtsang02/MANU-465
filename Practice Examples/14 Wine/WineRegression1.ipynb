{
 "cells": [
  {
   "cell_type": "markdown",
   "metadata": {
    "colab_type": "text",
    "id": "lP6JLo1tGNBg"
   },
   "source": [
    "# Wine Quality Regressor"
   ]
  },
  {
   "cell_type": "markdown",
   "metadata": {},
   "source": [
    "## Project Description\n",
    "The world's top Red-Wine experts have scoreed several wines,using their thought experiment, feeling, taste,philosophy,etc. The scores are from 1 (a very very poor wine), to 10 (an exceptional super quality wine). <br>\n",
    "Build a regression model to predict the score of a new wine; given its features (Chemical components)."
   ]
  },
  {
   "cell_type": "markdown",
   "metadata": {
    "colab_type": "text",
    "id": "gWZyYmS_UE_L"
   },
   "source": [
    "## Importing the Libraries"
   ]
  },
  {
   "cell_type": "code",
   "execution_count": 7,
   "metadata": {
    "colab": {},
    "colab_type": "code",
    "id": "MxkJoQBkUIHC"
   },
   "outputs": [],
   "source": [
    "import numpy as np\n",
    "import pandas as pd\n",
    "import tensorflow as tf"
   ]
  },
  {
   "cell_type": "markdown",
   "metadata": {
    "colab_type": "text",
    "id": "1E0Q3aoKUCRX"
   },
   "source": [
    "## Data Preprocessing"
   ]
  },
  {
   "cell_type": "markdown",
   "metadata": {
    "colab_type": "text",
    "id": "cKWAkFVGUU0Z"
   },
   "source": [
    "### Importing the Dataset"
   ]
  },
  {
   "cell_type": "code",
   "execution_count": 8,
   "metadata": {
    "colab": {},
    "colab_type": "code",
    "id": "MXUkhkMfU4wq"
   },
   "outputs": [],
   "source": [
    "dataset = pd.read_csv('winequality-red.csv')\n",
    "X = dataset.iloc[:, :-1].values\n",
    "y = dataset.iloc[:, -1].values"
   ]
  },
  {
   "cell_type": "markdown",
   "metadata": {},
   "source": [
    "<font color='red'> Note:<br>\n",
    "<font color='black'> Scores can be any number between 1-10:<br>\n",
    "The chemical components of each of these wines are summarized in a vector with 11 features. \n"
   ]
  },
  {
   "cell_type": "code",
   "execution_count": 9,
   "metadata": {},
   "outputs": [
    {
     "data": {
      "text/html": [
       "<div>\n",
       "<style scoped>\n",
       "    .dataframe tbody tr th:only-of-type {\n",
       "        vertical-align: middle;\n",
       "    }\n",
       "\n",
       "    .dataframe tbody tr th {\n",
       "        vertical-align: top;\n",
       "    }\n",
       "\n",
       "    .dataframe thead th {\n",
       "        text-align: right;\n",
       "    }\n",
       "</style>\n",
       "<table border=\"1\" class=\"dataframe\">\n",
       "  <thead>\n",
       "    <tr style=\"text-align: right;\">\n",
       "      <th></th>\n",
       "      <th>fixed acidity</th>\n",
       "      <th>volatile acidity</th>\n",
       "      <th>citric acid</th>\n",
       "      <th>residual sugar</th>\n",
       "      <th>chlorides</th>\n",
       "      <th>free sulfur dioxide</th>\n",
       "      <th>total sulfur dioxide</th>\n",
       "      <th>density</th>\n",
       "      <th>pH</th>\n",
       "      <th>sulphates</th>\n",
       "      <th>alcohol</th>\n",
       "      <th>quality</th>\n",
       "    </tr>\n",
       "  </thead>\n",
       "  <tbody>\n",
       "    <tr>\n",
       "      <th>0</th>\n",
       "      <td>7.4</td>\n",
       "      <td>0.70</td>\n",
       "      <td>0.00</td>\n",
       "      <td>1.9</td>\n",
       "      <td>0.08</td>\n",
       "      <td>11.0</td>\n",
       "      <td>34.0</td>\n",
       "      <td>1.00</td>\n",
       "      <td>3.51</td>\n",
       "      <td>0.56</td>\n",
       "      <td>9.4</td>\n",
       "      <td>5.0</td>\n",
       "    </tr>\n",
       "    <tr>\n",
       "      <th>1</th>\n",
       "      <td>7.8</td>\n",
       "      <td>0.88</td>\n",
       "      <td>0.00</td>\n",
       "      <td>2.6</td>\n",
       "      <td>0.10</td>\n",
       "      <td>25.0</td>\n",
       "      <td>67.0</td>\n",
       "      <td>1.00</td>\n",
       "      <td>3.20</td>\n",
       "      <td>0.68</td>\n",
       "      <td>9.8</td>\n",
       "      <td>5.0</td>\n",
       "    </tr>\n",
       "    <tr>\n",
       "      <th>2</th>\n",
       "      <td>7.8</td>\n",
       "      <td>0.76</td>\n",
       "      <td>0.04</td>\n",
       "      <td>2.3</td>\n",
       "      <td>0.09</td>\n",
       "      <td>15.0</td>\n",
       "      <td>54.0</td>\n",
       "      <td>1.00</td>\n",
       "      <td>3.26</td>\n",
       "      <td>0.65</td>\n",
       "      <td>9.8</td>\n",
       "      <td>5.0</td>\n",
       "    </tr>\n",
       "    <tr>\n",
       "      <th>3</th>\n",
       "      <td>11.2</td>\n",
       "      <td>0.28</td>\n",
       "      <td>0.56</td>\n",
       "      <td>1.9</td>\n",
       "      <td>0.08</td>\n",
       "      <td>17.0</td>\n",
       "      <td>60.0</td>\n",
       "      <td>1.00</td>\n",
       "      <td>3.16</td>\n",
       "      <td>0.58</td>\n",
       "      <td>9.8</td>\n",
       "      <td>6.0</td>\n",
       "    </tr>\n",
       "    <tr>\n",
       "      <th>4</th>\n",
       "      <td>7.4</td>\n",
       "      <td>0.70</td>\n",
       "      <td>0.00</td>\n",
       "      <td>1.9</td>\n",
       "      <td>0.08</td>\n",
       "      <td>11.0</td>\n",
       "      <td>34.0</td>\n",
       "      <td>1.00</td>\n",
       "      <td>3.51</td>\n",
       "      <td>0.56</td>\n",
       "      <td>9.4</td>\n",
       "      <td>5.0</td>\n",
       "    </tr>\n",
       "    <tr>\n",
       "      <th>...</th>\n",
       "      <td>...</td>\n",
       "      <td>...</td>\n",
       "      <td>...</td>\n",
       "      <td>...</td>\n",
       "      <td>...</td>\n",
       "      <td>...</td>\n",
       "      <td>...</td>\n",
       "      <td>...</td>\n",
       "      <td>...</td>\n",
       "      <td>...</td>\n",
       "      <td>...</td>\n",
       "      <td>...</td>\n",
       "    </tr>\n",
       "    <tr>\n",
       "      <th>1594</th>\n",
       "      <td>6.2</td>\n",
       "      <td>0.60</td>\n",
       "      <td>0.08</td>\n",
       "      <td>2.0</td>\n",
       "      <td>0.09</td>\n",
       "      <td>32.0</td>\n",
       "      <td>44.0</td>\n",
       "      <td>0.99</td>\n",
       "      <td>3.45</td>\n",
       "      <td>0.58</td>\n",
       "      <td>10.5</td>\n",
       "      <td>5.0</td>\n",
       "    </tr>\n",
       "    <tr>\n",
       "      <th>1595</th>\n",
       "      <td>5.9</td>\n",
       "      <td>0.55</td>\n",
       "      <td>0.10</td>\n",
       "      <td>2.2</td>\n",
       "      <td>0.06</td>\n",
       "      <td>39.0</td>\n",
       "      <td>51.0</td>\n",
       "      <td>1.00</td>\n",
       "      <td>3.52</td>\n",
       "      <td>0.76</td>\n",
       "      <td>11.2</td>\n",
       "      <td>6.0</td>\n",
       "    </tr>\n",
       "    <tr>\n",
       "      <th>1596</th>\n",
       "      <td>6.3</td>\n",
       "      <td>0.51</td>\n",
       "      <td>0.13</td>\n",
       "      <td>2.3</td>\n",
       "      <td>0.08</td>\n",
       "      <td>29.0</td>\n",
       "      <td>40.0</td>\n",
       "      <td>1.00</td>\n",
       "      <td>3.42</td>\n",
       "      <td>0.75</td>\n",
       "      <td>11.0</td>\n",
       "      <td>6.0</td>\n",
       "    </tr>\n",
       "    <tr>\n",
       "      <th>1597</th>\n",
       "      <td>5.9</td>\n",
       "      <td>0.65</td>\n",
       "      <td>0.12</td>\n",
       "      <td>2.0</td>\n",
       "      <td>0.08</td>\n",
       "      <td>32.0</td>\n",
       "      <td>44.0</td>\n",
       "      <td>1.00</td>\n",
       "      <td>3.57</td>\n",
       "      <td>0.71</td>\n",
       "      <td>10.2</td>\n",
       "      <td>5.0</td>\n",
       "    </tr>\n",
       "    <tr>\n",
       "      <th>1598</th>\n",
       "      <td>6.0</td>\n",
       "      <td>0.31</td>\n",
       "      <td>0.47</td>\n",
       "      <td>3.6</td>\n",
       "      <td>0.07</td>\n",
       "      <td>18.0</td>\n",
       "      <td>42.0</td>\n",
       "      <td>1.00</td>\n",
       "      <td>3.39</td>\n",
       "      <td>0.66</td>\n",
       "      <td>11.0</td>\n",
       "      <td>6.0</td>\n",
       "    </tr>\n",
       "  </tbody>\n",
       "</table>\n",
       "<p>1599 rows × 12 columns</p>\n",
       "</div>"
      ],
      "text/plain": [
       "      fixed acidity  volatile acidity  citric acid  residual sugar  chlorides  \\\n",
       "0               7.4              0.70         0.00             1.9       0.08   \n",
       "1               7.8              0.88         0.00             2.6       0.10   \n",
       "2               7.8              0.76         0.04             2.3       0.09   \n",
       "3              11.2              0.28         0.56             1.9       0.08   \n",
       "4               7.4              0.70         0.00             1.9       0.08   \n",
       "...             ...               ...          ...             ...        ...   \n",
       "1594            6.2              0.60         0.08             2.0       0.09   \n",
       "1595            5.9              0.55         0.10             2.2       0.06   \n",
       "1596            6.3              0.51         0.13             2.3       0.08   \n",
       "1597            5.9              0.65         0.12             2.0       0.08   \n",
       "1598            6.0              0.31         0.47             3.6       0.07   \n",
       "\n",
       "      free sulfur dioxide  total sulfur dioxide  density    pH  sulphates  \\\n",
       "0                    11.0                  34.0     1.00  3.51       0.56   \n",
       "1                    25.0                  67.0     1.00  3.20       0.68   \n",
       "2                    15.0                  54.0     1.00  3.26       0.65   \n",
       "3                    17.0                  60.0     1.00  3.16       0.58   \n",
       "4                    11.0                  34.0     1.00  3.51       0.56   \n",
       "...                   ...                   ...      ...   ...        ...   \n",
       "1594                 32.0                  44.0     0.99  3.45       0.58   \n",
       "1595                 39.0                  51.0     1.00  3.52       0.76   \n",
       "1596                 29.0                  40.0     1.00  3.42       0.75   \n",
       "1597                 32.0                  44.0     1.00  3.57       0.71   \n",
       "1598                 18.0                  42.0     1.00  3.39       0.66   \n",
       "\n",
       "      alcohol  quality  \n",
       "0         9.4      5.0  \n",
       "1         9.8      5.0  \n",
       "2         9.8      5.0  \n",
       "3         9.8      6.0  \n",
       "4         9.4      5.0  \n",
       "...       ...      ...  \n",
       "1594     10.5      5.0  \n",
       "1595     11.2      6.0  \n",
       "1596     11.0      6.0  \n",
       "1597     10.2      5.0  \n",
       "1598     11.0      6.0  \n",
       "\n",
       "[1599 rows x 12 columns]"
      ]
     },
     "execution_count": 9,
     "metadata": {},
     "output_type": "execute_result"
    }
   ],
   "source": [
    "pd.DataFrame(dataset)"
   ]
  },
  {
   "cell_type": "markdown",
   "metadata": {
    "colab_type": "text",
    "id": "vHol938cW8zd"
   },
   "source": [
    "### Splitting the Dataset into the Training set and Test set"
   ]
  },
  {
   "cell_type": "code",
   "execution_count": 10,
   "metadata": {
    "colab": {},
    "colab_type": "code",
    "id": "Z-TDt0Y_XEfc"
   },
   "outputs": [],
   "source": [
    "from sklearn.model_selection import train_test_split\n",
    "X_train, X_test, y_train, y_test = train_test_split(X, y, test_size = 0.2, random_state = 0)"
   ]
  },
  {
   "cell_type": "markdown",
   "metadata": {
    "colab_type": "text",
    "id": "RE_FcHyfV3TQ"
   },
   "source": [
    "### Feature Scaling"
   ]
  },
  {
   "cell_type": "code",
   "execution_count": 11,
   "metadata": {
    "colab": {},
    "colab_type": "code",
    "id": "ViCrE00rV8Sk"
   },
   "outputs": [],
   "source": [
    "from sklearn.preprocessing import StandardScaler\n",
    "sc = StandardScaler()\n",
    "X_train = sc.fit_transform(X_train)\n",
    "X_test = sc.transform(X_test)"
   ]
  },
  {
   "cell_type": "markdown",
   "metadata": {
    "colab_type": "text",
    "id": "-zfEzkRVXIwF"
   },
   "source": [
    "## Building the ANN Regressor"
   ]
  },
  {
   "cell_type": "markdown",
   "metadata": {
    "colab_type": "text",
    "id": "KvdeScabXtlB"
   },
   "source": [
    "### Initializing the ANN"
   ]
  },
  {
   "cell_type": "code",
   "execution_count": 12,
   "metadata": {
    "colab": {},
    "colab_type": "code",
    "id": "3dtrScHxXQox"
   },
   "outputs": [],
   "source": [
    "RedWineModel = tf.keras.models.Sequential()"
   ]
  },
  {
   "cell_type": "markdown",
   "metadata": {
    "colab_type": "text",
    "id": "rP6urV6SX7kS"
   },
   "source": [
    "### Adding the Input Layer"
   ]
  },
  {
   "cell_type": "code",
   "execution_count": 13,
   "metadata": {
    "colab": {},
    "colab_type": "code",
    "id": "bppGycBXYCQr"
   },
   "outputs": [],
   "source": [
    "RedWineModel.add(tf.keras.layers.Dense(units=11, activation='relu', input_dim=11))"
   ]
  },
  {
   "cell_type": "markdown",
   "metadata": {
    "colab_type": "text",
    "id": "BELWAc_8YJze"
   },
   "source": [
    "### Adding the First, Second, Third,... Hidden layers"
   ]
  },
  {
   "cell_type": "code",
   "execution_count": 14,
   "metadata": {
    "colab": {},
    "colab_type": "code",
    "id": "JneR0u0sYRTd"
   },
   "outputs": [],
   "source": [
    "RedWineModel.add(tf.keras.layers.Dense(units=6, activation='relu'))"
   ]
  },
  {
   "cell_type": "markdown",
   "metadata": {
    "colab_type": "text",
    "id": "OyNEe6RXYcU4"
   },
   "source": [
    "### Adding the Output Layer\n",
    "Remember that in ANN Regression, our output is just one number."
   ]
  },
  {
   "cell_type": "code",
   "execution_count": 15,
   "metadata": {
    "colab": {},
    "colab_type": "code",
    "id": "Cn3x41RBYfvY"
   },
   "outputs": [],
   "source": [
    "RedWineModel.add(tf.keras.layers.Dense(units=1))\n"
   ]
  },
  {
   "cell_type": "markdown",
   "metadata": {
    "colab_type": "text",
    "id": "8GWlJChhY_ZI"
   },
   "source": [
    "### Compiling the ANN"
   ]
  },
  {
   "cell_type": "code",
   "execution_count": 16,
   "metadata": {
    "colab": {},
    "colab_type": "code",
    "id": "fG3RrwDXZEaS"
   },
   "outputs": [],
   "source": [
    "RedWineModel.compile(loss='mean_squared_error', optimizer='adam')"
   ]
  },
  {
   "cell_type": "markdown",
   "metadata": {
    "colab_type": "text",
    "id": "JT4u2S1_Y4WG"
   },
   "source": [
    "## Training the ANN"
   ]
  },
  {
   "cell_type": "code",
   "execution_count": 17,
   "metadata": {
    "colab": {
     "base_uri": "https://localhost:8080/",
     "height": 1000
    },
    "colab_type": "code",
    "id": "nHZ-LKv_ZRb3",
    "outputId": "718cc4b0-b5aa-40f0-9b20-d3d31730a531"
   },
   "outputs": [
    {
     "name": "stdout",
     "output_type": "stream",
     "text": [
      "Epoch 1/100\n",
      "40/40 [==============================] - 0s 767us/step - loss: 31.7692\n",
      "Epoch 2/100\n",
      "40/40 [==============================] - 0s 742us/step - loss: 27.7285\n",
      "Epoch 3/100\n",
      "40/40 [==============================] - 0s 767us/step - loss: 23.2428\n",
      "Epoch 4/100\n",
      "40/40 [==============================] - 0s 755us/step - loss: 18.1366\n",
      "Epoch 5/100\n",
      "40/40 [==============================] - 0s 742us/step - loss: 12.9672\n",
      "Epoch 6/100\n",
      "40/40 [==============================] - 0s 767us/step - loss: 8.5069\n",
      "Epoch 7/100\n",
      "40/40 [==============================] - 0s 690us/step - loss: 5.5006\n",
      "Epoch 8/100\n",
      "40/40 [==============================] - 0s 690us/step - loss: 3.9490\n",
      "Epoch 9/100\n",
      "40/40 [==============================] - 0s 639us/step - loss: 3.2423\n",
      "Epoch 10/100\n",
      "40/40 [==============================] - 0s 665us/step - loss: 2.8613\n",
      "Epoch 11/100\n",
      "40/40 [==============================] - 0s 665us/step - loss: 2.5553\n",
      "Epoch 12/100\n",
      "40/40 [==============================] - 0s 639us/step - loss: 2.3180\n",
      "Epoch 13/100\n",
      "40/40 [==============================] - 0s 665us/step - loss: 2.1150\n",
      "Epoch 14/100\n",
      "40/40 [==============================] - 0s 639us/step - loss: 1.9318\n",
      "Epoch 15/100\n",
      "40/40 [==============================] - 0s 639us/step - loss: 1.7745\n",
      "Epoch 16/100\n",
      "40/40 [==============================] - 0s 639us/step - loss: 1.6333\n",
      "Epoch 17/100\n",
      "40/40 [==============================] - 0s 639us/step - loss: 1.5202\n",
      "Epoch 18/100\n",
      "40/40 [==============================] - 0s 639us/step - loss: 1.4239\n",
      "Epoch 19/100\n",
      "40/40 [==============================] - 0s 639us/step - loss: 1.3421\n",
      "Epoch 20/100\n",
      "40/40 [==============================] - 0s 614us/step - loss: 1.2677\n",
      "Epoch 21/100\n",
      "40/40 [==============================] - 0s 614us/step - loss: 1.2034\n",
      "Epoch 22/100\n",
      "40/40 [==============================] - 0s 614us/step - loss: 1.1459\n",
      "Epoch 23/100\n",
      "40/40 [==============================] - 0s 665us/step - loss: 1.0957\n",
      "Epoch 24/100\n",
      "40/40 [==============================] - 0s 665us/step - loss: 1.0459\n",
      "Epoch 25/100\n",
      "40/40 [==============================] - 0s 628us/step - loss: 1.0018\n",
      "Epoch 26/100\n",
      "40/40 [==============================] - 0s 665us/step - loss: 0.9611\n",
      "Epoch 27/100\n",
      "40/40 [==============================] - 0s 665us/step - loss: 0.9258\n",
      "Epoch 28/100\n",
      "40/40 [==============================] - 0s 665us/step - loss: 0.8912\n",
      "Epoch 29/100\n",
      "40/40 [==============================] - 0s 639us/step - loss: 0.8599\n",
      "Epoch 30/100\n",
      "40/40 [==============================] - 0s 655us/step - loss: 0.8310\n",
      "Epoch 31/100\n",
      "40/40 [==============================] - 0s 639us/step - loss: 0.8038\n",
      "Epoch 32/100\n",
      "40/40 [==============================] - 0s 639us/step - loss: 0.7766\n",
      "Epoch 33/100\n",
      "40/40 [==============================] - 0s 654us/step - loss: 0.7537\n",
      "Epoch 34/100\n",
      "40/40 [==============================] - 0s 665us/step - loss: 0.7297\n",
      "Epoch 35/100\n",
      "40/40 [==============================] - 0s 639us/step - loss: 0.7113\n",
      "Epoch 36/100\n",
      "40/40 [==============================] - 0s 614us/step - loss: 0.6911\n",
      "Epoch 37/100\n",
      "40/40 [==============================] - 0s 632us/step - loss: 0.6720\n",
      "Epoch 38/100\n",
      "40/40 [==============================] - 0s 665us/step - loss: 0.6568\n",
      "Epoch 39/100\n",
      "40/40 [==============================] - 0s 639us/step - loss: 0.6432\n",
      "Epoch 40/100\n",
      "40/40 [==============================] - 0s 690us/step - loss: 0.6300\n",
      "Epoch 41/100\n",
      "40/40 [==============================] - 0s 639us/step - loss: 0.6152\n",
      "Epoch 42/100\n",
      "40/40 [==============================] - 0s 639us/step - loss: 0.6027\n",
      "Epoch 43/100\n",
      "40/40 [==============================] - 0s 639us/step - loss: 0.5911\n",
      "Epoch 44/100\n",
      "40/40 [==============================] - 0s 639us/step - loss: 0.5798\n",
      "Epoch 45/100\n",
      "40/40 [==============================] - 0s 665us/step - loss: 0.5707\n",
      "Epoch 46/100\n",
      "40/40 [==============================] - 0s 639us/step - loss: 0.5615\n",
      "Epoch 47/100\n",
      "40/40 [==============================] - 0s 614us/step - loss: 0.5504\n",
      "Epoch 48/100\n",
      "40/40 [==============================] - 0s 639us/step - loss: 0.5405\n",
      "Epoch 49/100\n",
      "40/40 [==============================] - 0s 614us/step - loss: 0.5330\n",
      "Epoch 50/100\n",
      "40/40 [==============================] - 0s 614us/step - loss: 0.5248\n",
      "Epoch 51/100\n",
      "40/40 [==============================] - 0s 639us/step - loss: 0.5176\n",
      "Epoch 52/100\n",
      "40/40 [==============================] - 0s 716us/step - loss: 0.5118\n",
      "Epoch 53/100\n",
      "40/40 [==============================] - 0s 639us/step - loss: 0.5038\n",
      "Epoch 54/100\n",
      "40/40 [==============================] - 0s 639us/step - loss: 0.4977\n",
      "Epoch 55/100\n",
      "40/40 [==============================] - 0s 614us/step - loss: 0.4929\n",
      "Epoch 56/100\n",
      "40/40 [==============================] - 0s 588us/step - loss: 0.4902\n",
      "Epoch 57/100\n",
      "40/40 [==============================] - 0s 639us/step - loss: 0.4833\n",
      "Epoch 58/100\n",
      "40/40 [==============================] - 0s 639us/step - loss: 0.4770\n",
      "Epoch 59/100\n",
      "40/40 [==============================] - 0s 614us/step - loss: 0.4718\n",
      "Epoch 60/100\n",
      "40/40 [==============================] - 0s 639us/step - loss: 0.4694\n",
      "Epoch 61/100\n",
      "40/40 [==============================] - 0s 665us/step - loss: 0.4638\n",
      "Epoch 62/100\n",
      "40/40 [==============================] - 0s 665us/step - loss: 0.4620\n",
      "Epoch 63/100\n",
      "40/40 [==============================] - 0s 690us/step - loss: 0.4572\n",
      "Epoch 64/100\n",
      "40/40 [==============================] - 0s 665us/step - loss: 0.4530\n",
      "Epoch 65/100\n",
      "40/40 [==============================] - 0s 639us/step - loss: 0.4523\n",
      "Epoch 66/100\n",
      "40/40 [==============================] - 0s 639us/step - loss: 0.4491\n",
      "Epoch 67/100\n",
      "40/40 [==============================] - 0s 665us/step - loss: 0.4454\n",
      "Epoch 68/100\n",
      "40/40 [==============================] - 0s 614us/step - loss: 0.4441\n",
      "Epoch 69/100\n",
      "40/40 [==============================] - 0s 639us/step - loss: 0.4407\n",
      "Epoch 70/100\n",
      "40/40 [==============================] - 0s 657us/step - loss: 0.4395\n",
      "Epoch 71/100\n",
      "40/40 [==============================] - 0s 639us/step - loss: 0.4369\n",
      "Epoch 72/100\n",
      "40/40 [==============================] - 0s 639us/step - loss: 0.4346\n",
      "Epoch 73/100\n",
      "40/40 [==============================] - 0s 665us/step - loss: 0.4336\n",
      "Epoch 74/100\n",
      "40/40 [==============================] - 0s 639us/step - loss: 0.4305\n",
      "Epoch 75/100\n",
      "40/40 [==============================] - 0s 614us/step - loss: 0.4303\n",
      "Epoch 76/100\n",
      "40/40 [==============================] - 0s 665us/step - loss: 0.4275\n",
      "Epoch 77/100\n",
      "40/40 [==============================] - 0s 665us/step - loss: 0.4258\n",
      "Epoch 78/100\n",
      "40/40 [==============================] - 0s 688us/step - loss: 0.4240\n",
      "Epoch 79/100\n",
      "40/40 [==============================] - 0s 665us/step - loss: 0.4251\n",
      "Epoch 80/100\n",
      "40/40 [==============================] - 0s 639us/step - loss: 0.4222\n",
      "Epoch 81/100\n",
      "40/40 [==============================] - 0s 639us/step - loss: 0.4235\n",
      "Epoch 82/100\n",
      "40/40 [==============================] - 0s 639us/step - loss: 0.4198\n",
      "Epoch 83/100\n",
      "40/40 [==============================] - 0s 614us/step - loss: 0.4189\n",
      "Epoch 84/100\n",
      "40/40 [==============================] - 0s 639us/step - loss: 0.4194\n",
      "Epoch 85/100\n",
      "40/40 [==============================] - 0s 614us/step - loss: 0.4150\n",
      "Epoch 86/100\n",
      "40/40 [==============================] - 0s 614us/step - loss: 0.4142\n",
      "Epoch 87/100\n",
      "40/40 [==============================] - 0s 614us/step - loss: 0.4150\n",
      "Epoch 88/100\n",
      "40/40 [==============================] - 0s 614us/step - loss: 0.4138\n",
      "Epoch 89/100\n",
      "40/40 [==============================] - 0s 627us/step - loss: 0.4129\n",
      "Epoch 90/100\n",
      "40/40 [==============================] - 0s 614us/step - loss: 0.4132\n",
      "Epoch 91/100\n",
      "40/40 [==============================] - 0s 614us/step - loss: 0.4132\n",
      "Epoch 92/100\n",
      "40/40 [==============================] - 0s 614us/step - loss: 0.4107\n",
      "Epoch 93/100\n",
      "40/40 [==============================] - 0s 629us/step - loss: 0.4080\n",
      "Epoch 94/100\n",
      "40/40 [==============================] - 0s 614us/step - loss: 0.4070\n",
      "Epoch 95/100\n",
      "40/40 [==============================] - 0s 639us/step - loss: 0.4072\n",
      "Epoch 96/100\n",
      "40/40 [==============================] - 0s 614us/step - loss: 0.4044\n",
      "Epoch 97/100\n",
      "40/40 [==============================] - 0s 608us/step - loss: 0.4059\n",
      "Epoch 98/100\n",
      "40/40 [==============================] - 0s 614us/step - loss: 0.4050\n",
      "Epoch 99/100\n"
     ]
    },
    {
     "name": "stdout",
     "output_type": "stream",
     "text": [
      "40/40 [==============================] - 0s 639us/step - loss: 0.4048\n",
      "Epoch 100/100\n",
      "40/40 [==============================] - 0s 639us/step - loss: 0.4025\n"
     ]
    },
    {
     "data": {
      "text/plain": [
       "<keras.callbacks.History at 0x25f0eb99c40>"
      ]
     },
     "execution_count": 17,
     "metadata": {},
     "output_type": "execute_result"
    }
   ],
   "source": [
    "RedWineModel.fit(X_train, y_train, batch_size = 32, epochs = 100)"
   ]
  },
  {
   "cell_type": "markdown",
   "metadata": {
    "colab_type": "text",
    "id": "tJj5k2MxZga3"
   },
   "source": [
    "## Evaluating the Model"
   ]
  },
  {
   "cell_type": "markdown",
   "metadata": {},
   "source": [
    "### Prediction on the Test Set"
   ]
  },
  {
   "cell_type": "code",
   "execution_count": 18,
   "metadata": {
    "colab": {
     "base_uri": "https://localhost:8080/",
     "height": 137
    },
    "colab_type": "code",
    "id": "nIyEeQdRZwgs",
    "outputId": "82330ba8-9bdc-4fd1-d3cf-b6d78ee7c2a3"
   },
   "outputs": [
    {
     "name": "stdout",
     "output_type": "stream",
     "text": [
      "10/10 [==============================] - 0s 554us/step\n"
     ]
    }
   ],
   "source": [
    "y_pred = RedWineModel.predict(X_test)\n",
    "#y_pred"
   ]
  },
  {
   "cell_type": "markdown",
   "metadata": {
    "colab_type": "text",
    "id": "o0oyfLWoaEGw"
   },
   "source": [
    "### Checking the Model Accuracy"
   ]
  },
  {
   "cell_type": "code",
   "execution_count": 19,
   "metadata": {},
   "outputs": [
    {
     "name": "stdout",
     "output_type": "stream",
     "text": [
      "40/40 [==============================] - 0s 588us/step - loss: 0.3978\n"
     ]
    },
    {
     "data": {
      "text/plain": [
       "0.3978317677974701"
      ]
     },
     "execution_count": 19,
     "metadata": {},
     "output_type": "execute_result"
    }
   ],
   "source": [
    "RedWineModel.evaluate(X_train,y_train)"
   ]
  },
  {
   "cell_type": "code",
   "execution_count": 20,
   "metadata": {
    "colab": {
     "base_uri": "https://localhost:8080/",
     "height": 34
    },
    "colab_type": "code",
    "id": "2d8IoCCkeWGL",
    "outputId": "957f3970-e197-4c3b-a150-7f69dc567f5d"
   },
   "outputs": [
    {
     "name": "stdout",
     "output_type": "stream",
     "text": [
      "1/1 [==============================] - 0s 35ms/step\n",
      "Your new wine score is [[5.357934]] out of 10.\n"
     ]
    }
   ],
   "source": [
    "PredictQuality=RedWineModel.predict(sc.transform(np.array([[7.4,0.70,0.00,1.9,0.08,11.0,34.0,1.00,3.51,0.56,9.4]])))\n",
    "\n",
    "print('Your new wine score is',PredictQuality, 'out of 10.')"
   ]
  },
  {
   "cell_type": "code",
   "execution_count": null,
   "metadata": {},
   "outputs": [],
   "source": []
  }
 ],
 "metadata": {
  "colab": {
   "collapsed_sections": [],
   "name": "artificial_neural_network.ipynb",
   "provenance": [],
   "toc_visible": true
  },
  "kernelspec": {
   "display_name": "Python 3 (ipykernel)",
   "language": "python",
   "name": "python3"
  },
  "language_info": {
   "codemirror_mode": {
    "name": "ipython",
    "version": 3
   },
   "file_extension": ".py",
   "mimetype": "text/x-python",
   "name": "python",
   "nbconvert_exporter": "python",
   "pygments_lexer": "ipython3",
   "version": "3.9.7"
  },
  "toc": {
   "base_numbering": 1,
   "nav_menu": {},
   "number_sections": true,
   "sideBar": true,
   "skip_h1_title": false,
   "title_cell": "Table of Contents",
   "title_sidebar": "Contents",
   "toc_cell": false,
   "toc_position": {
    "height": "calc(100% - 180px)",
    "left": "10px",
    "top": "150px",
    "width": "165px"
   },
   "toc_section_display": true,
   "toc_window_display": false
  },
  "varInspector": {
   "cols": {
    "lenName": 16,
    "lenType": 16,
    "lenVar": 40
   },
   "kernels_config": {
    "python": {
     "delete_cmd_postfix": "",
     "delete_cmd_prefix": "del ",
     "library": "var_list.py",
     "varRefreshCmd": "print(var_dic_list())"
    },
    "r": {
     "delete_cmd_postfix": ") ",
     "delete_cmd_prefix": "rm(",
     "library": "var_list.r",
     "varRefreshCmd": "cat(var_dic_list()) "
    }
   },
   "types_to_exclude": [
    "module",
    "function",
    "builtin_function_or_method",
    "instance",
    "_Feature"
   ],
   "window_display": false
  }
 },
 "nbformat": 4,
 "nbformat_minor": 1
}

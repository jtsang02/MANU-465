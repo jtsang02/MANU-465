{
 "cells": [
  {
   "cell_type": "markdown",
   "metadata": {
    "colab_type": "text",
    "id": "lP6JLo1tGNBg"
   },
   "source": [
    "# Employees End of the Year Bonus Lawsuit"
   ]
  },
  {
   "cell_type": "markdown",
   "metadata": {},
   "source": [
    "## Project Description\n",
    "<font color=red> Can an AI be a judge?<br>\n",
    "I don't think, Judge Judy belives in AI !!!!!<br>\n",
    "https://www.youtube.com/watch?v=WF2WtoKPb_k <br>\n",
    "\n",
    "But, let's give it a shot!<br>\n",
    "\n",
    "<font color=black> A large manufacturing corporation will give a $10,000 bonus at the end of each year to some employees. There has been a lawsuit against the company that they are biased toward certain employees, depends on their gender, nationality, and marital status. The top managers claimed that receiving the bonus depends solely on the employee status, e.g. number of years experience, number of machines s/he can works with, number of training hours, age, academic degree, and their salary. You have been hired to investigate this and prepare a report for the court.<br>\n",
    "Your task is to build an ANN model to check whether gender, nationality, and marital status have an effect on receiving the bonus. Note: For privacy, the employee’s names have been removed and only their employee’s ID is shown."
   ]
  },
  {
   "cell_type": "markdown",
   "metadata": {
    "colab_type": "text",
    "id": "gWZyYmS_UE_L"
   },
   "source": [
    "## Importing the Libraries"
   ]
  },
  {
   "cell_type": "code",
   "execution_count": 3,
   "metadata": {
    "colab": {},
    "colab_type": "code",
    "id": "MxkJoQBkUIHC"
   },
   "outputs": [],
   "source": [
    "import numpy as np\n",
    "import pandas as pd\n",
    "import tensorflow as tf"
   ]
  },
  {
   "cell_type": "markdown",
   "metadata": {
    "colab_type": "text",
    "id": "1E0Q3aoKUCRX"
   },
   "source": [
    "## Data Preprocessing"
   ]
  },
  {
   "cell_type": "markdown",
   "metadata": {
    "colab_type": "text",
    "id": "cKWAkFVGUU0Z"
   },
   "source": [
    "### Importing the Dataset"
   ]
  },
  {
   "cell_type": "code",
   "execution_count": 4,
   "metadata": {
    "colab": {},
    "colab_type": "code",
    "id": "MXUkhkMfU4wq"
   },
   "outputs": [],
   "source": [
    "dataset = pd.read_csv('EmploymentEndofYearBonus.csv')\n",
    "X = dataset.iloc[:, 2:-1].values\n",
    "y = dataset.iloc[:, -1].values"
   ]
  },
  {
   "cell_type": "markdown",
   "metadata": {},
   "source": [
    "<font color='red'> Note:<br>\n",
    "<font color='black'> Maritial Staus (1=Married, 0=Single) <br>\n",
    "Has a Bachelor or Higher Degree (1=Yes, 0=No) <br>\n",
    "Recieved the Bonus (1=Yes, 0=No)\n"
   ]
  },
  {
   "cell_type": "code",
   "execution_count": 5,
   "metadata": {},
   "outputs": [
    {
     "data": {
      "text/html": [
       "<div>\n",
       "<style scoped>\n",
       "    .dataframe tbody tr th:only-of-type {\n",
       "        vertical-align: middle;\n",
       "    }\n",
       "\n",
       "    .dataframe tbody tr th {\n",
       "        vertical-align: top;\n",
       "    }\n",
       "\n",
       "    .dataframe thead th {\n",
       "        text-align: right;\n",
       "    }\n",
       "</style>\n",
       "<table border=\"1\" class=\"dataframe\">\n",
       "  <thead>\n",
       "    <tr style=\"text-align: right;\">\n",
       "      <th></th>\n",
       "      <th>RowNumber</th>\n",
       "      <th>Emplyee ID</th>\n",
       "      <th>Hours Training</th>\n",
       "      <th>Geography</th>\n",
       "      <th>Gender</th>\n",
       "      <th>Age</th>\n",
       "      <th>Years of Experience</th>\n",
       "      <th>Number of Machines S/he can work with</th>\n",
       "      <th>Married</th>\n",
       "      <th>Has a Bachelor or Higher Degree</th>\n",
       "      <th>Annual Salary</th>\n",
       "      <th>Reciev Bonus</th>\n",
       "    </tr>\n",
       "  </thead>\n",
       "  <tbody>\n",
       "    <tr>\n",
       "      <th>0</th>\n",
       "      <td>1</td>\n",
       "      <td>15634602</td>\n",
       "      <td>619</td>\n",
       "      <td>USA</td>\n",
       "      <td>Female</td>\n",
       "      <td>42</td>\n",
       "      <td>2</td>\n",
       "      <td>1</td>\n",
       "      <td>1</td>\n",
       "      <td>1</td>\n",
       "      <td>101349</td>\n",
       "      <td>1</td>\n",
       "    </tr>\n",
       "    <tr>\n",
       "      <th>1</th>\n",
       "      <td>2</td>\n",
       "      <td>15647311</td>\n",
       "      <td>608</td>\n",
       "      <td>Canada</td>\n",
       "      <td>Female</td>\n",
       "      <td>41</td>\n",
       "      <td>1</td>\n",
       "      <td>1</td>\n",
       "      <td>0</td>\n",
       "      <td>1</td>\n",
       "      <td>112543</td>\n",
       "      <td>0</td>\n",
       "    </tr>\n",
       "    <tr>\n",
       "      <th>2</th>\n",
       "      <td>3</td>\n",
       "      <td>15619304</td>\n",
       "      <td>502</td>\n",
       "      <td>USA</td>\n",
       "      <td>Female</td>\n",
       "      <td>42</td>\n",
       "      <td>8</td>\n",
       "      <td>3</td>\n",
       "      <td>1</td>\n",
       "      <td>0</td>\n",
       "      <td>113932</td>\n",
       "      <td>1</td>\n",
       "    </tr>\n",
       "    <tr>\n",
       "      <th>3</th>\n",
       "      <td>4</td>\n",
       "      <td>15701354</td>\n",
       "      <td>699</td>\n",
       "      <td>USA</td>\n",
       "      <td>Female</td>\n",
       "      <td>39</td>\n",
       "      <td>1</td>\n",
       "      <td>2</td>\n",
       "      <td>0</td>\n",
       "      <td>0</td>\n",
       "      <td>93827</td>\n",
       "      <td>0</td>\n",
       "    </tr>\n",
       "    <tr>\n",
       "      <th>4</th>\n",
       "      <td>5</td>\n",
       "      <td>15737888</td>\n",
       "      <td>850</td>\n",
       "      <td>Canada</td>\n",
       "      <td>Female</td>\n",
       "      <td>43</td>\n",
       "      <td>2</td>\n",
       "      <td>1</td>\n",
       "      <td>1</td>\n",
       "      <td>1</td>\n",
       "      <td>79084</td>\n",
       "      <td>0</td>\n",
       "    </tr>\n",
       "    <tr>\n",
       "      <th>...</th>\n",
       "      <td>...</td>\n",
       "      <td>...</td>\n",
       "      <td>...</td>\n",
       "      <td>...</td>\n",
       "      <td>...</td>\n",
       "      <td>...</td>\n",
       "      <td>...</td>\n",
       "      <td>...</td>\n",
       "      <td>...</td>\n",
       "      <td>...</td>\n",
       "      <td>...</td>\n",
       "      <td>...</td>\n",
       "    </tr>\n",
       "    <tr>\n",
       "      <th>9995</th>\n",
       "      <td>9996</td>\n",
       "      <td>15606229</td>\n",
       "      <td>771</td>\n",
       "      <td>USA</td>\n",
       "      <td>Male</td>\n",
       "      <td>39</td>\n",
       "      <td>5</td>\n",
       "      <td>2</td>\n",
       "      <td>1</td>\n",
       "      <td>0</td>\n",
       "      <td>96271</td>\n",
       "      <td>0</td>\n",
       "    </tr>\n",
       "    <tr>\n",
       "      <th>9996</th>\n",
       "      <td>9997</td>\n",
       "      <td>15569892</td>\n",
       "      <td>516</td>\n",
       "      <td>USA</td>\n",
       "      <td>Male</td>\n",
       "      <td>35</td>\n",
       "      <td>10</td>\n",
       "      <td>1</td>\n",
       "      <td>1</td>\n",
       "      <td>1</td>\n",
       "      <td>101700</td>\n",
       "      <td>0</td>\n",
       "    </tr>\n",
       "    <tr>\n",
       "      <th>9997</th>\n",
       "      <td>9998</td>\n",
       "      <td>15584532</td>\n",
       "      <td>709</td>\n",
       "      <td>USA</td>\n",
       "      <td>Female</td>\n",
       "      <td>36</td>\n",
       "      <td>7</td>\n",
       "      <td>1</td>\n",
       "      <td>0</td>\n",
       "      <td>1</td>\n",
       "      <td>42086</td>\n",
       "      <td>1</td>\n",
       "    </tr>\n",
       "    <tr>\n",
       "      <th>9998</th>\n",
       "      <td>9999</td>\n",
       "      <td>15682355</td>\n",
       "      <td>772</td>\n",
       "      <td>Mexico</td>\n",
       "      <td>Male</td>\n",
       "      <td>42</td>\n",
       "      <td>3</td>\n",
       "      <td>2</td>\n",
       "      <td>1</td>\n",
       "      <td>0</td>\n",
       "      <td>92889</td>\n",
       "      <td>1</td>\n",
       "    </tr>\n",
       "    <tr>\n",
       "      <th>9999</th>\n",
       "      <td>10000</td>\n",
       "      <td>15628319</td>\n",
       "      <td>792</td>\n",
       "      <td>USA</td>\n",
       "      <td>Female</td>\n",
       "      <td>28</td>\n",
       "      <td>4</td>\n",
       "      <td>1</td>\n",
       "      <td>1</td>\n",
       "      <td>0</td>\n",
       "      <td>38191</td>\n",
       "      <td>0</td>\n",
       "    </tr>\n",
       "  </tbody>\n",
       "</table>\n",
       "<p>10000 rows × 12 columns</p>\n",
       "</div>"
      ],
      "text/plain": [
       "      RowNumber  Emplyee ID  Hours Training Geography  Gender  Age  \\\n",
       "0             1    15634602             619       USA  Female   42   \n",
       "1             2    15647311             608    Canada  Female   41   \n",
       "2             3    15619304             502       USA  Female   42   \n",
       "3             4    15701354             699       USA  Female   39   \n",
       "4             5    15737888             850    Canada  Female   43   \n",
       "...         ...         ...             ...       ...     ...  ...   \n",
       "9995       9996    15606229             771       USA    Male   39   \n",
       "9996       9997    15569892             516       USA    Male   35   \n",
       "9997       9998    15584532             709       USA  Female   36   \n",
       "9998       9999    15682355             772    Mexico    Male   42   \n",
       "9999      10000    15628319             792       USA  Female   28   \n",
       "\n",
       "      Years of Experience  Number of Machines S/he can work with  Married  \\\n",
       "0                       2                                      1        1   \n",
       "1                       1                                      1        0   \n",
       "2                       8                                      3        1   \n",
       "3                       1                                      2        0   \n",
       "4                       2                                      1        1   \n",
       "...                   ...                                    ...      ...   \n",
       "9995                    5                                      2        1   \n",
       "9996                   10                                      1        1   \n",
       "9997                    7                                      1        0   \n",
       "9998                    3                                      2        1   \n",
       "9999                    4                                      1        1   \n",
       "\n",
       "      Has a Bachelor or Higher Degree  Annual Salary   Reciev Bonus  \n",
       "0                                   1         101349              1  \n",
       "1                                   1         112543              0  \n",
       "2                                   0         113932              1  \n",
       "3                                   0          93827              0  \n",
       "4                                   1          79084              0  \n",
       "...                               ...            ...            ...  \n",
       "9995                                0          96271              0  \n",
       "9996                                1         101700              0  \n",
       "9997                                1          42086              1  \n",
       "9998                                0          92889              1  \n",
       "9999                                0          38191              0  \n",
       "\n",
       "[10000 rows x 12 columns]"
      ]
     },
     "execution_count": 5,
     "metadata": {},
     "output_type": "execute_result"
    }
   ],
   "source": [
    "dataset"
   ]
  },
  {
   "cell_type": "markdown",
   "metadata": {
    "colab_type": "text",
    "id": "N6bQ0UgSU-NJ"
   },
   "source": [
    "### Encoding Categorical Data"
   ]
  },
  {
   "cell_type": "markdown",
   "metadata": {
    "colab_type": "text",
    "id": "le5MJreAbW52"
   },
   "source": [
    "Label Encoding the \"Gender\" column"
   ]
  },
  {
   "cell_type": "code",
   "execution_count": 6,
   "metadata": {
    "colab": {},
    "colab_type": "code",
    "id": "PxVKWXxLbczC"
   },
   "outputs": [],
   "source": [
    "from sklearn.preprocessing import LabelEncoder\n",
    "le = LabelEncoder()\n",
    "X[:, 2] = le.fit_transform(X[:, 2])"
   ]
  },
  {
   "cell_type": "markdown",
   "metadata": {
    "colab_type": "text",
    "id": "CUxGZezpbMcb"
   },
   "source": [
    "One Hot Encoding the \"Nationality\" column"
   ]
  },
  {
   "cell_type": "code",
   "execution_count": 7,
   "metadata": {
    "colab": {},
    "colab_type": "code",
    "id": "AMXC8-KMVirw"
   },
   "outputs": [],
   "source": [
    "from sklearn.compose import ColumnTransformer\n",
    "from sklearn.preprocessing import OneHotEncoder\n",
    "ct = ColumnTransformer(transformers=[('encoder', OneHotEncoder(), [1])], remainder='passthrough')\n",
    "X = np.array(ct.fit_transform(X))"
   ]
  },
  {
   "cell_type": "code",
   "execution_count": 8,
   "metadata": {
    "colab": {
     "base_uri": "https://localhost:8080/",
     "height": 137
    },
    "colab_type": "code",
    "id": "ZcxwEon-b8nV",
    "outputId": "23a98af4-5e33-4b26-c27b-f06e3c5d2baf"
   },
   "outputs": [
    {
     "data": {
      "text/html": [
       "<div>\n",
       "<style scoped>\n",
       "    .dataframe tbody tr th:only-of-type {\n",
       "        vertical-align: middle;\n",
       "    }\n",
       "\n",
       "    .dataframe tbody tr th {\n",
       "        vertical-align: top;\n",
       "    }\n",
       "\n",
       "    .dataframe thead th {\n",
       "        text-align: right;\n",
       "    }\n",
       "</style>\n",
       "<table border=\"1\" class=\"dataframe\">\n",
       "  <thead>\n",
       "    <tr style=\"text-align: right;\">\n",
       "      <th></th>\n",
       "      <th>0</th>\n",
       "      <th>1</th>\n",
       "      <th>2</th>\n",
       "      <th>3</th>\n",
       "      <th>4</th>\n",
       "      <th>5</th>\n",
       "      <th>6</th>\n",
       "      <th>7</th>\n",
       "      <th>8</th>\n",
       "      <th>9</th>\n",
       "      <th>10</th>\n",
       "    </tr>\n",
       "  </thead>\n",
       "  <tbody>\n",
       "    <tr>\n",
       "      <th>0</th>\n",
       "      <td>0.0</td>\n",
       "      <td>0.0</td>\n",
       "      <td>1.0</td>\n",
       "      <td>619</td>\n",
       "      <td>0</td>\n",
       "      <td>42</td>\n",
       "      <td>2</td>\n",
       "      <td>1</td>\n",
       "      <td>1</td>\n",
       "      <td>1</td>\n",
       "      <td>101349</td>\n",
       "    </tr>\n",
       "    <tr>\n",
       "      <th>1</th>\n",
       "      <td>1.0</td>\n",
       "      <td>0.0</td>\n",
       "      <td>0.0</td>\n",
       "      <td>608</td>\n",
       "      <td>0</td>\n",
       "      <td>41</td>\n",
       "      <td>1</td>\n",
       "      <td>1</td>\n",
       "      <td>0</td>\n",
       "      <td>1</td>\n",
       "      <td>112543</td>\n",
       "    </tr>\n",
       "    <tr>\n",
       "      <th>2</th>\n",
       "      <td>0.0</td>\n",
       "      <td>0.0</td>\n",
       "      <td>1.0</td>\n",
       "      <td>502</td>\n",
       "      <td>0</td>\n",
       "      <td>42</td>\n",
       "      <td>8</td>\n",
       "      <td>3</td>\n",
       "      <td>1</td>\n",
       "      <td>0</td>\n",
       "      <td>113932</td>\n",
       "    </tr>\n",
       "    <tr>\n",
       "      <th>3</th>\n",
       "      <td>0.0</td>\n",
       "      <td>0.0</td>\n",
       "      <td>1.0</td>\n",
       "      <td>699</td>\n",
       "      <td>0</td>\n",
       "      <td>39</td>\n",
       "      <td>1</td>\n",
       "      <td>2</td>\n",
       "      <td>0</td>\n",
       "      <td>0</td>\n",
       "      <td>93827</td>\n",
       "    </tr>\n",
       "    <tr>\n",
       "      <th>4</th>\n",
       "      <td>1.0</td>\n",
       "      <td>0.0</td>\n",
       "      <td>0.0</td>\n",
       "      <td>850</td>\n",
       "      <td>0</td>\n",
       "      <td>43</td>\n",
       "      <td>2</td>\n",
       "      <td>1</td>\n",
       "      <td>1</td>\n",
       "      <td>1</td>\n",
       "      <td>79084</td>\n",
       "    </tr>\n",
       "    <tr>\n",
       "      <th>...</th>\n",
       "      <td>...</td>\n",
       "      <td>...</td>\n",
       "      <td>...</td>\n",
       "      <td>...</td>\n",
       "      <td>...</td>\n",
       "      <td>...</td>\n",
       "      <td>...</td>\n",
       "      <td>...</td>\n",
       "      <td>...</td>\n",
       "      <td>...</td>\n",
       "      <td>...</td>\n",
       "    </tr>\n",
       "    <tr>\n",
       "      <th>9995</th>\n",
       "      <td>0.0</td>\n",
       "      <td>0.0</td>\n",
       "      <td>1.0</td>\n",
       "      <td>771</td>\n",
       "      <td>1</td>\n",
       "      <td>39</td>\n",
       "      <td>5</td>\n",
       "      <td>2</td>\n",
       "      <td>1</td>\n",
       "      <td>0</td>\n",
       "      <td>96271</td>\n",
       "    </tr>\n",
       "    <tr>\n",
       "      <th>9996</th>\n",
       "      <td>0.0</td>\n",
       "      <td>0.0</td>\n",
       "      <td>1.0</td>\n",
       "      <td>516</td>\n",
       "      <td>1</td>\n",
       "      <td>35</td>\n",
       "      <td>10</td>\n",
       "      <td>1</td>\n",
       "      <td>1</td>\n",
       "      <td>1</td>\n",
       "      <td>101700</td>\n",
       "    </tr>\n",
       "    <tr>\n",
       "      <th>9997</th>\n",
       "      <td>0.0</td>\n",
       "      <td>0.0</td>\n",
       "      <td>1.0</td>\n",
       "      <td>709</td>\n",
       "      <td>0</td>\n",
       "      <td>36</td>\n",
       "      <td>7</td>\n",
       "      <td>1</td>\n",
       "      <td>0</td>\n",
       "      <td>1</td>\n",
       "      <td>42086</td>\n",
       "    </tr>\n",
       "    <tr>\n",
       "      <th>9998</th>\n",
       "      <td>0.0</td>\n",
       "      <td>1.0</td>\n",
       "      <td>0.0</td>\n",
       "      <td>772</td>\n",
       "      <td>1</td>\n",
       "      <td>42</td>\n",
       "      <td>3</td>\n",
       "      <td>2</td>\n",
       "      <td>1</td>\n",
       "      <td>0</td>\n",
       "      <td>92889</td>\n",
       "    </tr>\n",
       "    <tr>\n",
       "      <th>9999</th>\n",
       "      <td>0.0</td>\n",
       "      <td>0.0</td>\n",
       "      <td>1.0</td>\n",
       "      <td>792</td>\n",
       "      <td>0</td>\n",
       "      <td>28</td>\n",
       "      <td>4</td>\n",
       "      <td>1</td>\n",
       "      <td>1</td>\n",
       "      <td>0</td>\n",
       "      <td>38191</td>\n",
       "    </tr>\n",
       "  </tbody>\n",
       "</table>\n",
       "<p>10000 rows × 11 columns</p>\n",
       "</div>"
      ],
      "text/plain": [
       "       0    1    2    3  4   5   6  7  8  9       10\n",
       "0     0.0  0.0  1.0  619  0  42   2  1  1  1  101349\n",
       "1     1.0  0.0  0.0  608  0  41   1  1  0  1  112543\n",
       "2     0.0  0.0  1.0  502  0  42   8  3  1  0  113932\n",
       "3     0.0  0.0  1.0  699  0  39   1  2  0  0   93827\n",
       "4     1.0  0.0  0.0  850  0  43   2  1  1  1   79084\n",
       "...   ...  ...  ...  ... ..  ..  .. .. .. ..     ...\n",
       "9995  0.0  0.0  1.0  771  1  39   5  2  1  0   96271\n",
       "9996  0.0  0.0  1.0  516  1  35  10  1  1  1  101700\n",
       "9997  0.0  0.0  1.0  709  0  36   7  1  0  1   42086\n",
       "9998  0.0  1.0  0.0  772  1  42   3  2  1  0   92889\n",
       "9999  0.0  0.0  1.0  792  0  28   4  1  1  0   38191\n",
       "\n",
       "[10000 rows x 11 columns]"
      ]
     },
     "execution_count": 8,
     "metadata": {},
     "output_type": "execute_result"
    }
   ],
   "source": [
    "pd.DataFrame(X)"
   ]
  },
  {
   "cell_type": "markdown",
   "metadata": {
    "colab_type": "text",
    "id": "vHol938cW8zd"
   },
   "source": [
    "### Splitting the Dataset into the Training set and Test set"
   ]
  },
  {
   "cell_type": "code",
   "execution_count": 9,
   "metadata": {
    "colab": {},
    "colab_type": "code",
    "id": "Z-TDt0Y_XEfc"
   },
   "outputs": [],
   "source": [
    "from sklearn.model_selection import train_test_split\n",
    "X_train, X_test, y_train, y_test = train_test_split(X, y, test_size = 0.2, random_state = 0)"
   ]
  },
  {
   "cell_type": "markdown",
   "metadata": {
    "colab_type": "text",
    "id": "RE_FcHyfV3TQ"
   },
   "source": [
    "### Feature Scaling"
   ]
  },
  {
   "cell_type": "code",
   "execution_count": 10,
   "metadata": {
    "colab": {},
    "colab_type": "code",
    "id": "ViCrE00rV8Sk"
   },
   "outputs": [],
   "source": [
    "from sklearn.preprocessing import StandardScaler\n",
    "sc = StandardScaler()\n",
    "X_train = sc.fit_transform(X_train)\n",
    "X_test = sc.transform(X_test)"
   ]
  },
  {
   "cell_type": "markdown",
   "metadata": {
    "colab_type": "text",
    "id": "-zfEzkRVXIwF"
   },
   "source": [
    "## Building the ANN Model"
   ]
  },
  {
   "cell_type": "markdown",
   "metadata": {
    "colab_type": "text",
    "id": "KvdeScabXtlB"
   },
   "source": [
    "### Initializing the ANN"
   ]
  },
  {
   "cell_type": "code",
   "execution_count": 11,
   "metadata": {
    "colab": {},
    "colab_type": "code",
    "id": "3dtrScHxXQox"
   },
   "outputs": [],
   "source": [
    "ANNJudge= tf.keras.models.Sequential()"
   ]
  },
  {
   "cell_type": "markdown",
   "metadata": {
    "colab_type": "text",
    "id": "rP6urV6SX7kS"
   },
   "source": [
    "### Adding the Input Layer"
   ]
  },
  {
   "cell_type": "code",
   "execution_count": 12,
   "metadata": {
    "colab": {},
    "colab_type": "code",
    "id": "bppGycBXYCQr"
   },
   "outputs": [],
   "source": [
    "ANNJudge.add(tf.keras.layers.Dense(units=11, activation='relu'))"
   ]
  },
  {
   "cell_type": "markdown",
   "metadata": {
    "colab_type": "text",
    "id": "BELWAc_8YJze"
   },
   "source": [
    "### Adding the Hidden Layer"
   ]
  },
  {
   "cell_type": "code",
   "execution_count": 13,
   "metadata": {
    "colab": {},
    "colab_type": "code",
    "id": "JneR0u0sYRTd"
   },
   "outputs": [],
   "source": [
    "ANNJudge.add(tf.keras.layers.Dense(units=6, activation='relu'))"
   ]
  },
  {
   "cell_type": "markdown",
   "metadata": {
    "colab_type": "text",
    "id": "OyNEe6RXYcU4"
   },
   "source": [
    "### Adding the Output Layer"
   ]
  },
  {
   "cell_type": "code",
   "execution_count": 14,
   "metadata": {
    "colab": {},
    "colab_type": "code",
    "id": "Cn3x41RBYfvY"
   },
   "outputs": [],
   "source": [
    "ANNJudge.add(tf.keras.layers.Dense(units=1, activation='sigmoid'))"
   ]
  },
  {
   "cell_type": "markdown",
   "metadata": {
    "colab_type": "text",
    "id": "8GWlJChhY_ZI"
   },
   "source": [
    "### Compiling the ANN"
   ]
  },
  {
   "cell_type": "code",
   "execution_count": 15,
   "metadata": {
    "colab": {},
    "colab_type": "code",
    "id": "fG3RrwDXZEaS"
   },
   "outputs": [],
   "source": [
    "ANNJudge.compile(optimizer = 'adam', loss = 'binary_crossentropy', metrics = ['accuracy'])"
   ]
  },
  {
   "cell_type": "markdown",
   "metadata": {
    "colab_type": "text",
    "id": "JT4u2S1_Y4WG"
   },
   "source": [
    "## Training the ANN"
   ]
  },
  {
   "cell_type": "code",
   "execution_count": 16,
   "metadata": {
    "colab": {
     "base_uri": "https://localhost:8080/",
     "height": 1000
    },
    "colab_type": "code",
    "id": "nHZ-LKv_ZRb3",
    "outputId": "718cc4b0-b5aa-40f0-9b20-d3d31730a531"
   },
   "outputs": [
    {
     "name": "stdout",
     "output_type": "stream",
     "text": [
      "Epoch 1/100\n",
      "250/250 [==============================] - 0s 653us/step - loss: 0.5380 - accuracy: 0.7751\n",
      "Epoch 2/100\n",
      "250/250 [==============================] - 0s 653us/step - loss: 0.4506 - accuracy: 0.7996\n",
      "Epoch 3/100\n",
      "250/250 [==============================] - 0s 620us/step - loss: 0.4315 - accuracy: 0.8076\n",
      "Epoch 4/100\n",
      "250/250 [==============================] - 0s 673us/step - loss: 0.4230 - accuracy: 0.8124\n",
      "Epoch 5/100\n",
      "250/250 [==============================] - 0s 625us/step - loss: 0.4155 - accuracy: 0.8177\n",
      "Epoch 6/100\n",
      "250/250 [==============================] - 0s 601us/step - loss: 0.4080 - accuracy: 0.8202\n",
      "Epoch 7/100\n",
      "250/250 [==============================] - 0s 628us/step - loss: 0.4006 - accuracy: 0.8220\n",
      "Epoch 8/100\n",
      "250/250 [==============================] - 0s 628us/step - loss: 0.3937 - accuracy: 0.8238\n",
      "Epoch 9/100\n",
      "250/250 [==============================] - 0s 625us/step - loss: 0.3866 - accuracy: 0.8253\n",
      "Epoch 10/100\n",
      "250/250 [==============================] - 0s 609us/step - loss: 0.3812 - accuracy: 0.8269\n",
      "Epoch 11/100\n",
      "250/250 [==============================] - 0s 609us/step - loss: 0.3763 - accuracy: 0.8290\n",
      "Epoch 12/100\n",
      "250/250 [==============================] - 0s 629us/step - loss: 0.3725 - accuracy: 0.8291\n",
      "Epoch 13/100\n",
      "250/250 [==============================] - 0s 624us/step - loss: 0.3696 - accuracy: 0.8311\n",
      "Epoch 14/100\n",
      "250/250 [==============================] - 0s 617us/step - loss: 0.3676 - accuracy: 0.8500\n",
      "Epoch 15/100\n",
      "250/250 [==============================] - 0s 661us/step - loss: 0.3656 - accuracy: 0.8519\n",
      "Epoch 16/100\n",
      "250/250 [==============================] - 0s 641us/step - loss: 0.3641 - accuracy: 0.8536\n",
      "Epoch 17/100\n",
      "250/250 [==============================] - 0s 625us/step - loss: 0.3627 - accuracy: 0.8550\n",
      "Epoch 18/100\n",
      "250/250 [==============================] - 0s 621us/step - loss: 0.3596 - accuracy: 0.8571\n",
      "Epoch 19/100\n",
      "250/250 [==============================] - 0s 639us/step - loss: 0.3522 - accuracy: 0.8571\n",
      "Epoch 20/100\n",
      "250/250 [==============================] - 0s 617us/step - loss: 0.3497 - accuracy: 0.8576\n",
      "Epoch 21/100\n",
      "250/250 [==============================] - 0s 601us/step - loss: 0.3486 - accuracy: 0.8583\n",
      "Epoch 22/100\n",
      "250/250 [==============================] - 0s 613us/step - loss: 0.3478 - accuracy: 0.8590\n",
      "Epoch 23/100\n",
      "250/250 [==============================] - 0s 621us/step - loss: 0.3471 - accuracy: 0.8597\n",
      "Epoch 24/100\n",
      "250/250 [==============================] - 0s 625us/step - loss: 0.3465 - accuracy: 0.8583\n",
      "Epoch 25/100\n",
      "250/250 [==============================] - 0s 605us/step - loss: 0.3467 - accuracy: 0.8593\n",
      "Epoch 26/100\n",
      "250/250 [==============================] - 0s 605us/step - loss: 0.3456 - accuracy: 0.8589\n",
      "Epoch 27/100\n",
      "250/250 [==============================] - 0s 643us/step - loss: 0.3457 - accuracy: 0.8591\n",
      "Epoch 28/100\n",
      "250/250 [==============================] - 0s 645us/step - loss: 0.3455 - accuracy: 0.8590\n",
      "Epoch 29/100\n",
      "250/250 [==============================] - 0s 661us/step - loss: 0.3454 - accuracy: 0.8610\n",
      "Epoch 30/100\n",
      "250/250 [==============================] - 0s 649us/step - loss: 0.3448 - accuracy: 0.8600\n",
      "Epoch 31/100\n",
      "250/250 [==============================] - 0s 609us/step - loss: 0.3449 - accuracy: 0.8599\n",
      "Epoch 32/100\n",
      "250/250 [==============================] - 0s 609us/step - loss: 0.3443 - accuracy: 0.8602\n",
      "Epoch 33/100\n",
      "250/250 [==============================] - 0s 606us/step - loss: 0.3439 - accuracy: 0.8610\n",
      "Epoch 34/100\n",
      "250/250 [==============================] - 0s 617us/step - loss: 0.3436 - accuracy: 0.8599\n",
      "Epoch 35/100\n",
      "250/250 [==============================] - 0s 613us/step - loss: 0.3436 - accuracy: 0.8596\n",
      "Epoch 36/100\n",
      "250/250 [==============================] - 0s 605us/step - loss: 0.3435 - accuracy: 0.8599\n",
      "Epoch 37/100\n",
      "250/250 [==============================] - 0s 605us/step - loss: 0.3431 - accuracy: 0.8595\n",
      "Epoch 38/100\n",
      "250/250 [==============================] - 0s 601us/step - loss: 0.3429 - accuracy: 0.8600\n",
      "Epoch 39/100\n",
      "250/250 [==============================] - 0s 601us/step - loss: 0.3428 - accuracy: 0.8619\n",
      "Epoch 40/100\n",
      "250/250 [==============================] - 0s 645us/step - loss: 0.3427 - accuracy: 0.8600\n",
      "Epoch 41/100\n",
      "250/250 [==============================] - 0s 628us/step - loss: 0.3426 - accuracy: 0.8610\n",
      "Epoch 42/100\n",
      "250/250 [==============================] - 0s 656us/step - loss: 0.3425 - accuracy: 0.8594\n",
      "Epoch 43/100\n",
      "250/250 [==============================] - 0s 636us/step - loss: 0.3426 - accuracy: 0.8585\n",
      "Epoch 44/100\n",
      "250/250 [==============================] - 0s 635us/step - loss: 0.3422 - accuracy: 0.8594\n",
      "Epoch 45/100\n",
      "250/250 [==============================] - 0s 637us/step - loss: 0.3421 - accuracy: 0.8616\n",
      "Epoch 46/100\n",
      "250/250 [==============================] - 0s 633us/step - loss: 0.3421 - accuracy: 0.8600\n",
      "Epoch 47/100\n",
      "250/250 [==============================] - 0s 629us/step - loss: 0.3419 - accuracy: 0.8605\n",
      "Epoch 48/100\n",
      "250/250 [==============================] - 0s 633us/step - loss: 0.3415 - accuracy: 0.8618\n",
      "Epoch 49/100\n",
      "250/250 [==============================] - 0s 631us/step - loss: 0.3415 - accuracy: 0.8599\n",
      "Epoch 50/100\n",
      "250/250 [==============================] - 0s 633us/step - loss: 0.3415 - accuracy: 0.8601\n",
      "Epoch 51/100\n",
      "250/250 [==============================] - 0s 614us/step - loss: 0.3415 - accuracy: 0.8606\n",
      "Epoch 52/100\n",
      "250/250 [==============================] - 0s 645us/step - loss: 0.3416 - accuracy: 0.8602\n",
      "Epoch 53/100\n",
      "250/250 [==============================] - 0s 631us/step - loss: 0.3413 - accuracy: 0.8619\n",
      "Epoch 54/100\n",
      "250/250 [==============================] - 0s 631us/step - loss: 0.3415 - accuracy: 0.8610\n",
      "Epoch 55/100\n",
      "250/250 [==============================] - 0s 669us/step - loss: 0.3409 - accuracy: 0.8600\n",
      "Epoch 56/100\n",
      "250/250 [==============================] - 0s 656us/step - loss: 0.3414 - accuracy: 0.8601\n",
      "Epoch 57/100\n",
      "250/250 [==============================] - 0s 617us/step - loss: 0.3410 - accuracy: 0.8602\n",
      "Epoch 58/100\n",
      "250/250 [==============================] - 0s 629us/step - loss: 0.3408 - accuracy: 0.8609\n",
      "Epoch 59/100\n",
      "250/250 [==============================] - 0s 629us/step - loss: 0.3403 - accuracy: 0.8595\n",
      "Epoch 60/100\n",
      "250/250 [==============================] - 0s 609us/step - loss: 0.3406 - accuracy: 0.8604\n",
      "Epoch 61/100\n",
      "250/250 [==============================] - 0s 620us/step - loss: 0.3402 - accuracy: 0.8601\n",
      "Epoch 62/100\n",
      "250/250 [==============================] - 0s 633us/step - loss: 0.3405 - accuracy: 0.8587\n",
      "Epoch 63/100\n",
      "250/250 [==============================] - 0s 621us/step - loss: 0.3403 - accuracy: 0.8605\n",
      "Epoch 64/100\n",
      "250/250 [==============================] - 0s 603us/step - loss: 0.3401 - accuracy: 0.8616\n",
      "Epoch 65/100\n",
      "250/250 [==============================] - 0s 613us/step - loss: 0.3403 - accuracy: 0.8606\n",
      "Epoch 66/100\n",
      "250/250 [==============================] - 0s 629us/step - loss: 0.3399 - accuracy: 0.8593\n",
      "Epoch 67/100\n",
      "250/250 [==============================] - 0s 633us/step - loss: 0.3401 - accuracy: 0.8609\n",
      "Epoch 68/100\n",
      "250/250 [==============================] - 0s 613us/step - loss: 0.3396 - accuracy: 0.8605\n",
      "Epoch 69/100\n",
      "250/250 [==============================] - 0s 625us/step - loss: 0.3397 - accuracy: 0.8589\n",
      "Epoch 70/100\n",
      "250/250 [==============================] - 0s 617us/step - loss: 0.3395 - accuracy: 0.8599\n",
      "Epoch 71/100\n",
      "250/250 [==============================] - 0s 609us/step - loss: 0.3397 - accuracy: 0.8605\n",
      "Epoch 72/100\n",
      "250/250 [==============================] - 0s 614us/step - loss: 0.3394 - accuracy: 0.8622\n",
      "Epoch 73/100\n",
      "250/250 [==============================] - 0s 637us/step - loss: 0.3392 - accuracy: 0.8610\n",
      "Epoch 74/100\n",
      "250/250 [==============================] - 0s 609us/step - loss: 0.3394 - accuracy: 0.8604\n",
      "Epoch 75/100\n",
      "250/250 [==============================] - 0s 605us/step - loss: 0.3391 - accuracy: 0.8605\n",
      "Epoch 76/100\n",
      "250/250 [==============================] - 0s 617us/step - loss: 0.3388 - accuracy: 0.8610\n",
      "Epoch 77/100\n",
      "250/250 [==============================] - 0s 601us/step - loss: 0.3388 - accuracy: 0.8609\n",
      "Epoch 78/100\n",
      "250/250 [==============================] - 0s 615us/step - loss: 0.3390 - accuracy: 0.8612\n",
      "Epoch 79/100\n"
     ]
    },
    {
     "name": "stdout",
     "output_type": "stream",
     "text": [
      "250/250 [==============================] - 0s 621us/step - loss: 0.3388 - accuracy: 0.8599\n",
      "Epoch 80/100\n",
      "250/250 [==============================] - 0s 604us/step - loss: 0.3386 - accuracy: 0.8635\n",
      "Epoch 81/100\n",
      "250/250 [==============================] - 0s 608us/step - loss: 0.3389 - accuracy: 0.8608\n",
      "Epoch 82/100\n",
      "250/250 [==============================] - 0s 639us/step - loss: 0.3383 - accuracy: 0.8610\n",
      "Epoch 83/100\n",
      "250/250 [==============================] - 0s 653us/step - loss: 0.3385 - accuracy: 0.8615\n",
      "Epoch 84/100\n",
      "250/250 [==============================] - 0s 620us/step - loss: 0.3383 - accuracy: 0.8614\n",
      "Epoch 85/100\n",
      "250/250 [==============================] - 0s 637us/step - loss: 0.3384 - accuracy: 0.8621\n",
      "Epoch 86/100\n",
      "250/250 [==============================] - 0s 629us/step - loss: 0.3381 - accuracy: 0.8614\n",
      "Epoch 87/100\n",
      "250/250 [==============================] - 0s 605us/step - loss: 0.3383 - accuracy: 0.8608\n",
      "Epoch 88/100\n",
      "250/250 [==============================] - 0s 634us/step - loss: 0.3378 - accuracy: 0.8610\n",
      "Epoch 89/100\n",
      "250/250 [==============================] - 0s 621us/step - loss: 0.3379 - accuracy: 0.8616\n",
      "Epoch 90/100\n",
      "250/250 [==============================] - 0s 617us/step - loss: 0.3377 - accuracy: 0.8611\n",
      "Epoch 91/100\n",
      "250/250 [==============================] - 0s 629us/step - loss: 0.3382 - accuracy: 0.8612\n",
      "Epoch 92/100\n",
      "250/250 [==============================] - 0s 617us/step - loss: 0.3374 - accuracy: 0.8625\n",
      "Epoch 93/100\n",
      "250/250 [==============================] - 0s 642us/step - loss: 0.3379 - accuracy: 0.8595\n",
      "Epoch 94/100\n",
      "250/250 [==============================] - 0s 625us/step - loss: 0.3378 - accuracy: 0.8616\n",
      "Epoch 95/100\n",
      "250/250 [==============================] - 0s 621us/step - loss: 0.3378 - accuracy: 0.8604\n",
      "Epoch 96/100\n",
      "250/250 [==============================] - 0s 657us/step - loss: 0.3376 - accuracy: 0.8602\n",
      "Epoch 97/100\n",
      "250/250 [==============================] - 0s 629us/step - loss: 0.3369 - accuracy: 0.8626\n",
      "Epoch 98/100\n",
      "250/250 [==============================] - 0s 615us/step - loss: 0.3375 - accuracy: 0.8616\n",
      "Epoch 99/100\n",
      "250/250 [==============================] - 0s 624us/step - loss: 0.3375 - accuracy: 0.8616\n",
      "Epoch 100/100\n",
      "250/250 [==============================] - 0s 608us/step - loss: 0.3372 - accuracy: 0.8619\n"
     ]
    },
    {
     "data": {
      "text/plain": [
       "<keras.callbacks.History at 0x1c32bff1b20>"
      ]
     },
     "execution_count": 16,
     "metadata": {},
     "output_type": "execute_result"
    }
   ],
   "source": [
    "ANNJudge.fit(X_train, y_train, batch_size = 32, epochs = 100)"
   ]
  },
  {
   "cell_type": "markdown",
   "metadata": {
    "colab_type": "text",
    "id": "tJj5k2MxZga3"
   },
   "source": [
    "## Evaluating the Model"
   ]
  },
  {
   "cell_type": "markdown",
   "metadata": {},
   "source": [
    "### Prediction on the Test Set"
   ]
  },
  {
   "cell_type": "code",
   "execution_count": 17,
   "metadata": {
    "colab": {
     "base_uri": "https://localhost:8080/",
     "height": 137
    },
    "colab_type": "code",
    "id": "nIyEeQdRZwgs",
    "outputId": "82330ba8-9bdc-4fd1-d3cf-b6d78ee7c2a3"
   },
   "outputs": [
    {
     "name": "stdout",
     "output_type": "stream",
     "text": [
      "63/63 [==============================] - 0s 547us/step\n",
      "This employee gets the bonus. [ True]\n",
      "This employee gets the bonus. [False]\n"
     ]
    }
   ],
   "source": [
    "y_pred = ANNJudge.predict(X_test)\n",
    "Get_the_Bonus = (y_pred > 0.5)\n",
    "# Just for quick test: \n",
    "print('This employee gets the bonus.', Get_the_Bonus[355])\n",
    "print('This employee gets the bonus.', Get_the_Bonus[1356])"
   ]
  },
  {
   "cell_type": "markdown",
   "metadata": {
    "colab_type": "text",
    "id": "o0oyfLWoaEGw"
   },
   "source": [
    "### Checking the Confusion Matrix and Accuracy Score"
   ]
  },
  {
   "cell_type": "code",
   "execution_count": 22,
   "metadata": {
    "colab": {
     "base_uri": "https://localhost:8080/",
     "height": 68
    },
    "colab_type": "code",
    "id": "ci6K_r6LaF6P",
    "outputId": "4d854e9e-22d5-432f-f6e5-a102fe3ae0bd"
   },
   "outputs": [
    {
     "name": "stdout",
     "output_type": "stream",
     "text": [
      "[[1520   75]\n",
      " [ 197  208]]\n"
     ]
    },
    {
     "data": {
      "text/plain": [
       "0.864"
      ]
     },
     "execution_count": 22,
     "metadata": {},
     "output_type": "execute_result"
    }
   ],
   "source": [
    "from sklearn.metrics import confusion_matrix, accuracy_score\n",
    "y_pred = (y_pred > 0.5) #Classification metrics can't handle a mix of binary and continuous targets, so we change the target (y_pred) to binary, True/False\n",
    "cm = confusion_matrix(y_test, y_pred)\n",
    "print(cm)\n",
    "accuracy_score(y_test, y_pred)"
   ]
  },
  {
   "cell_type": "code",
   "execution_count": 19,
   "metadata": {},
   "outputs": [
    {
     "name": "stdout",
     "output_type": "stream",
     "text": [
      "63/63 [==============================] - 0s 563us/step - loss: 0.3416 - accuracy: 0.8640\n"
     ]
    },
    {
     "data": {
      "text/plain": [
       "[0.3416377604007721, 0.8640000224113464]"
      ]
     },
     "execution_count": 19,
     "metadata": {},
     "output_type": "execute_result"
    }
   ],
   "source": [
    "# Another quick way to check the loss and accuracy\n",
    "ANNJudge.evaluate(X_test,y_test)"
   ]
  },
  {
   "cell_type": "markdown",
   "metadata": {
    "colab_type": "text",
    "id": "84QFoqGYeXHL"
   },
   "source": [
    "### Moment of Truth\n",
    "##### Does your \"gender\", \"nationality\", and \"marital status\" affect your bonus?"
   ]
  },
  {
   "cell_type": "markdown",
   "metadata": {
    "colab_type": "text",
    "id": "CGRo3eacgDdC"
   },
   "source": [
    "Now that our ANN model prediction is satisfactory; we can make some fake employees, and  compare if their \"gender\", \"nationality\", or \"marital status\" change, would the bonus status change.\n",
    "\n",
    "As an example, <br>\n",
    "Nationality: <br>\n",
    "    - Canada, X input= 1,0,0 <br>\n",
    "    - USA, X input= 0,1,0 <br>\n",
    "    - Mexico, X input= 0,0,1 <br>\n",
    "Training: 620 hours,<br>\n",
    "Gender: Male, X input= 0 <br>\n",
    "Age: 42,<br>\n",
    "Experience: 2 years,<br>\n",
    "Number of Machines S/he can work with: 1,<br>\n",
    "Married: Yes, X input=1 <br>\n",
    "Has a Bachelor or Higher Degree:Yes, X input=1 <br>\n",
    "Annual Salary: $100000, <br>\n",
    "\n",
    "Check to see if this employee would get the bonus?\n",
    "Then, change its gender and see if it affects the result. What about his nationality or marital status? "
   ]
  },
  {
   "cell_type": "markdown",
   "metadata": {
    "colab_type": "text",
    "id": "ZhU1LTgPg-kH"
   },
   "source": [
    "##### <font color='red'> Does this employee get the bonus?"
   ]
  },
  {
   "cell_type": "code",
   "execution_count": 20,
   "metadata": {
    "colab": {
     "base_uri": "https://localhost:8080/",
     "height": 34
    },
    "colab_type": "code",
    "id": "2d8IoCCkeWGL",
    "outputId": "957f3970-e197-4c3b-a150-7f69dc567f5d"
   },
   "outputs": [
    {
     "name": "stdout",
     "output_type": "stream",
     "text": [
      "1/1 [==============================] - 0s 13ms/step\n",
      "This employee does not get the bonus.\n"
     ]
    }
   ],
   "source": [
    "Bonus_Status=ANNJudge.predict(sc.transform([[0, 1, 0, 620, 0, 42, 2, 1, 1, 1, 100000]]))\n",
    "if Bonus_Status>0.5:\n",
    "    print (\"This employee gets the bonus.\")\n",
    "else:\n",
    "    print (\"This employee does not get the bonus.\")"
   ]
  },
  {
   "cell_type": "markdown",
   "metadata": {},
   "source": [
    "<font color=red> Let's change his nationality from American to Canadian:"
   ]
  },
  {
   "cell_type": "code",
   "execution_count": 21,
   "metadata": {},
   "outputs": [
    {
     "name": "stdout",
     "output_type": "stream",
     "text": [
      "1/1 [==============================] - 0s 13ms/step\n",
      "This employee does not get the bonus. :(\n"
     ]
    }
   ],
   "source": [
    "Bonus_Status=ANNJudge.predict(sc.transform([[1, 0, 0, 620, 0, 42, 2, 1, 1, 1, 100000]]))\n",
    "if Bonus_Status>0.5:\n",
    "    print (\"This employee gets the bonus. :)\")\n",
    "else:\n",
    "    print (\"This employee does not get the bonus. :(\")"
   ]
  },
  {
   "cell_type": "markdown",
   "metadata": {},
   "source": [
    "##### <font color='red'> Can this prove the company is racist? You need to test it with several other examples; to provide enough evidence for the court."
   ]
  }
 ],
 "metadata": {
  "colab": {
   "collapsed_sections": [],
   "name": "artificial_neural_network.ipynb",
   "provenance": [],
   "toc_visible": true
  },
  "kernelspec": {
   "display_name": "Python 3 (ipykernel)",
   "language": "python",
   "name": "python3"
  },
  "language_info": {
   "codemirror_mode": {
    "name": "ipython",
    "version": 3
   },
   "file_extension": ".py",
   "mimetype": "text/x-python",
   "name": "python",
   "nbconvert_exporter": "python",
   "pygments_lexer": "ipython3",
   "version": "3.9.7"
  },
  "toc": {
   "base_numbering": 1,
   "nav_menu": {},
   "number_sections": true,
   "sideBar": true,
   "skip_h1_title": false,
   "title_cell": "Table of Contents",
   "title_sidebar": "Contents",
   "toc_cell": false,
   "toc_position": {
    "height": "calc(100% - 180px)",
    "left": "10px",
    "top": "150px",
    "width": "165px"
   },
   "toc_section_display": true,
   "toc_window_display": true
  },
  "varInspector": {
   "cols": {
    "lenName": 16,
    "lenType": 16,
    "lenVar": 40
   },
   "kernels_config": {
    "python": {
     "delete_cmd_postfix": "",
     "delete_cmd_prefix": "del ",
     "library": "var_list.py",
     "varRefreshCmd": "print(var_dic_list())"
    },
    "r": {
     "delete_cmd_postfix": ") ",
     "delete_cmd_prefix": "rm(",
     "library": "var_list.r",
     "varRefreshCmd": "cat(var_dic_list()) "
    }
   },
   "types_to_exclude": [
    "module",
    "function",
    "builtin_function_or_method",
    "instance",
    "_Feature"
   ],
   "window_display": false
  }
 },
 "nbformat": 4,
 "nbformat_minor": 1
}

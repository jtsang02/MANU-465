{
 "cells": [
  {
   "cell_type": "markdown",
   "metadata": {
    "colab_type": "text",
    "id": "i_paGd_yLbgH"
   },
   "source": [
    "# Thermoforming Machines- Defective Parts (Gaussian Mix Clustering)"
   ]
  },
  {
   "cell_type": "markdown",
   "metadata": {},
   "source": [
    "## Project Description\n",
    "Thermoforming is usually used to manufacture relatively simple geometries from thin plastic sheets. For example, the lids of disposable coffee cups, pill blister packaging, inexpensive plastic packaging, and large items such as bathtubs and internal door liners for refrigerators. Thermoforming is also used to manufacture large components such as automotive interior panels and small boat hulls. In thermoforming products, dimensional tolerances are typically less critical, and production has lower cost due to lower cost of thermoform tooling compared to injection mold tooling. <br>\n",
    "Watch this short video: https://www.youtube.com/watch?v=alq3RDZN4jo <br>\n",
    "##### AT UBC, FF219, we have 4 thermoforming machine. Students are allowed to use these machine. For example, you can make your own hat 🤠 or a Halloween Mask 🤖 or whatever 👓. Please let me know if you are interested in using these machines. \n",
    "This is how students made their Halloween Masks: https://www.youtube.com/watch?v=2AqNvkXJR54&t=4s <br>\n",
    "##### Now, let's get back to ML. <br>\n",
    "This is how the coffee cup lid are produced in a factory: https://www.youtube.com/watch?app=desktop&v=YI3Cwyx1tR8<br>\n",
    "\n",
    "This factory has 200 thermoforming machines. Some of these machines are new and some are old from different brands. Each machine is identified with an ID number. The foreman is interested in analyzing the number of defective lids per day; to see if there is any pattern on how these machine performs. <br>\n",
    "The file 'ThermoFormingDefectiveParts.csv' summarizes the average number of defective parts per day and the age of the machine (in month) for each machine. <br>\n",
    "In order to start the investigation, the foreman wants to see if he can groups these machines to few groups. Try to see if you could cluster these machine to an optimum number of clusters."
   ]
  },
  {
   "cell_type": "markdown",
   "metadata": {
    "colab_type": "text",
    "id": "nAuqPwTnLipr"
   },
   "source": [
    "## Importing the Libraries"
   ]
  },
  {
   "cell_type": "code",
   "execution_count": 1,
   "metadata": {
    "colab": {},
    "colab_type": "code",
    "id": "yUXGcC4KLmcL"
   },
   "outputs": [],
   "source": [
    "import numpy as np\n",
    "import matplotlib.pyplot as plt\n",
    "import pandas as pd"
   ]
  },
  {
   "cell_type": "markdown",
   "metadata": {
    "colab_type": "text",
    "id": "5LciKOr8Lo5O"
   },
   "source": [
    "## Importing the Dataset"
   ]
  },
  {
   "cell_type": "code",
   "execution_count": 2,
   "metadata": {
    "colab": {},
    "colab_type": "code",
    "id": "9RlmPzZGLtGi"
   },
   "outputs": [
    {
     "data": {
      "text/html": [
       "<div>\n",
       "<style scoped>\n",
       "    .dataframe tbody tr th:only-of-type {\n",
       "        vertical-align: middle;\n",
       "    }\n",
       "\n",
       "    .dataframe tbody tr th {\n",
       "        vertical-align: top;\n",
       "    }\n",
       "\n",
       "    .dataframe thead th {\n",
       "        text-align: right;\n",
       "    }\n",
       "</style>\n",
       "<table border=\"1\" class=\"dataframe\">\n",
       "  <thead>\n",
       "    <tr style=\"text-align: right;\">\n",
       "      <th></th>\n",
       "      <th>MachineID</th>\n",
       "      <th>Period of Operations (Month)</th>\n",
       "      <th>Number of Defective Parts Per Day</th>\n",
       "    </tr>\n",
       "  </thead>\n",
       "  <tbody>\n",
       "    <tr>\n",
       "      <th>0</th>\n",
       "      <td>1</td>\n",
       "      <td>15</td>\n",
       "      <td>39</td>\n",
       "    </tr>\n",
       "    <tr>\n",
       "      <th>1</th>\n",
       "      <td>2</td>\n",
       "      <td>15</td>\n",
       "      <td>81</td>\n",
       "    </tr>\n",
       "    <tr>\n",
       "      <th>2</th>\n",
       "      <td>3</td>\n",
       "      <td>16</td>\n",
       "      <td>6</td>\n",
       "    </tr>\n",
       "    <tr>\n",
       "      <th>3</th>\n",
       "      <td>4</td>\n",
       "      <td>16</td>\n",
       "      <td>77</td>\n",
       "    </tr>\n",
       "    <tr>\n",
       "      <th>4</th>\n",
       "      <td>5</td>\n",
       "      <td>17</td>\n",
       "      <td>40</td>\n",
       "    </tr>\n",
       "    <tr>\n",
       "      <th>...</th>\n",
       "      <td>...</td>\n",
       "      <td>...</td>\n",
       "      <td>...</td>\n",
       "    </tr>\n",
       "    <tr>\n",
       "      <th>195</th>\n",
       "      <td>196</td>\n",
       "      <td>120</td>\n",
       "      <td>79</td>\n",
       "    </tr>\n",
       "    <tr>\n",
       "      <th>196</th>\n",
       "      <td>197</td>\n",
       "      <td>126</td>\n",
       "      <td>28</td>\n",
       "    </tr>\n",
       "    <tr>\n",
       "      <th>197</th>\n",
       "      <td>198</td>\n",
       "      <td>126</td>\n",
       "      <td>74</td>\n",
       "    </tr>\n",
       "    <tr>\n",
       "      <th>198</th>\n",
       "      <td>199</td>\n",
       "      <td>137</td>\n",
       "      <td>18</td>\n",
       "    </tr>\n",
       "    <tr>\n",
       "      <th>199</th>\n",
       "      <td>200</td>\n",
       "      <td>137</td>\n",
       "      <td>83</td>\n",
       "    </tr>\n",
       "  </tbody>\n",
       "</table>\n",
       "<p>200 rows × 3 columns</p>\n",
       "</div>"
      ],
      "text/plain": [
       "     MachineID  Period of Operations (Month)  \\\n",
       "0            1                            15   \n",
       "1            2                            15   \n",
       "2            3                            16   \n",
       "3            4                            16   \n",
       "4            5                            17   \n",
       "..         ...                           ...   \n",
       "195        196                           120   \n",
       "196        197                           126   \n",
       "197        198                           126   \n",
       "198        199                           137   \n",
       "199        200                           137   \n",
       "\n",
       "     Number of Defective Parts Per Day  \n",
       "0                                   39  \n",
       "1                                   81  \n",
       "2                                    6  \n",
       "3                                   77  \n",
       "4                                   40  \n",
       "..                                 ...  \n",
       "195                                 79  \n",
       "196                                 28  \n",
       "197                                 74  \n",
       "198                                 18  \n",
       "199                                 83  \n",
       "\n",
       "[200 rows x 3 columns]"
      ]
     },
     "execution_count": 2,
     "metadata": {},
     "output_type": "execute_result"
    }
   ],
   "source": [
    "dataset = pd.read_csv('ThermoFormingDefectiveParts.csv')\n",
    "dataset"
   ]
  },
  {
   "cell_type": "code",
   "execution_count": 3,
   "metadata": {},
   "outputs": [],
   "source": [
    "X = dataset.iloc[:, [1, 2]].values"
   ]
  },
  {
   "cell_type": "markdown",
   "metadata": {},
   "source": [
    "## Finding the Optimal Number of Clusters"
   ]
  },
  {
   "cell_type": "markdown",
   "metadata": {
    "colab_type": "text",
    "id": "nWC2EWp2Lx5G"
   },
   "source": [
    "### Elbow Method\n",
    "In this method, WCSS (Within-Cluster Sum of Square), which is the sum of squared distance between each point and the centroid in a cluster, is used as a metric for finding the optimum number of cluster.<br>\n",
    "In the Elbow method, we are actually varying the number of clusters ( K ) from 1 – 10 here. For each value of K, we are calculating WCSS (Within-Cluster Sum of Square). WCSS is the sum of squared distance between each point and the centroid in a cluster. When we plot the WCSS with the K value, the plot looks like an Elbow. As the number of clusters increases, the WCSS value will start to decrease. WCSS value is largest when K = 1. When we analyze the graph we can see that the graph will rapidly change at a point and thus creating an elbow shape. From this point, the graph starts to move almost parallel to the X-axis. The K value corresponding to this point is the optimal K value or an optimal number of clusters."
   ]
  },
  {
   "cell_type": "code",
   "execution_count": 5,
   "metadata": {
    "colab": {
     "base_uri": "https://localhost:8080/",
     "height": 295
    },
    "colab_type": "code",
    "executionInfo": {
     "elapsed": 2064,
     "status": "ok",
     "timestamp": 1586372911621,
     "user": {
      "displayName": "Hadelin de Ponteves",
      "photoUrl": "https://lh3.googleusercontent.com/a-/AOh14GhEuXdT7eQweUmRPW8_laJuPggSK6hfvpl5a6WBaA=s64",
      "userId": "15047218817161520419"
     },
     "user_tz": -240
    },
    "id": "zWs6ciOoL1b3",
    "outputId": "893027bb-ecf9-45a4-f229-f54cebdccee2"
   },
   "outputs": [
    {
     "name": "stderr",
     "output_type": "stream",
     "text": [
      "C:\\Users\\mpanah\\Anaconda3\\lib\\site-packages\\sklearn\\cluster\\_kmeans.py:881: UserWarning: KMeans is known to have a memory leak on Windows with MKL, when there are less chunks than available threads. You can avoid it by setting the environment variable OMP_NUM_THREADS=1.\n",
      "  warnings.warn(\n"
     ]
    },
    {
     "data": {
      "image/png": "[encoded data removed]",
      "text/plain": [
       "<Figure size 432x288 with 1 Axes>"
      ]
     },
     "metadata": {
      "needs_background": "light"
     },
     "output_type": "display_data"
    }
   ],
   "source": [
    "from sklearn.cluster import KMeans\n",
    "wcss = []\n",
    "for i in range(1, 11):\n",
    "    kmeans = KMeans(n_clusters = i, init = 'k-means++', random_state = 42)\n",
    "    kmeans.fit(X)\n",
    "    wcss.append(kmeans.inertia_)\n",
    "plt.plot(range(1, 11), wcss)\n",
    "plt.title('The Elbow Method')\n",
    "plt.xlabel('Number of clusters')\n",
    "plt.ylabel('WCSS')\n",
    "plt.show()"
   ]
  },
  {
   "cell_type": "markdown",
   "metadata": {},
   "source": [
    "### Silhouette Score Method\n",
    "Silhouette Coefficient or silhouette score is a metric used to calculate the goodness of a clustering technique. Its value ranges from -1 to 1.<br>\n",
    "1: Means clusters are well apart from each other and clearly distinguished.<br>\n",
    "0: Means clusters are indifferent, or we can say that the distance between clusters is not significant.<br>\n",
    "-1: Means clusters are assigned in the wrong way.<br>\n",
    "silhouette score=(b-a)/(max⁡(a,b))  "
   ]
  },
  {
   "cell_type": "code",
   "execution_count": 6,
   "metadata": {},
   "outputs": [],
   "source": [
    "from sklearn.metrics import silhouette_score"
   ]
  },
  {
   "cell_type": "markdown",
   "metadata": {},
   "source": [
    "##### Finding the score for a certain number of cluster"
   ]
  },
  {
   "cell_type": "code",
   "execution_count": 8,
   "metadata": {},
   "outputs": [
    {
     "data": {
      "text/plain": [
       "0.553931997444648"
      ]
     },
     "execution_count": 8,
     "metadata": {},
     "output_type": "execute_result"
    }
   ],
   "source": [
    "# Finding the score for any number of clusters\n",
    "i=5\n",
    "km = KMeans(n_clusters=i, random_state=42)\n",
    "km.fit_predict(X)\n",
    "score = silhouette_score(X, km.labels_, metric='euclidean')\n",
    "score"
   ]
  },
  {
   "cell_type": "markdown",
   "metadata": {},
   "source": [
    "##### Finding the score for a a range numbers of cluster & Plotting the scores"
   ]
  },
  {
   "cell_type": "code",
   "execution_count": 9,
   "metadata": {},
   "outputs": [],
   "source": [
    "SH = []\n",
    "for i in range(2, 11):\n",
    "    km = KMeans(n_clusters=i, random_state=42)\n",
    "    km.fit_predict(X)\n",
    "    score = silhouette_score(X, km.labels_, metric='euclidean')\n",
    "    SH.append(score)"
   ]
  },
  {
   "cell_type": "code",
   "execution_count": 10,
   "metadata": {},
   "outputs": [
    {
     "data": {
      "image/png": "[encoded data removed]",
      "text/plain": [
       "<Figure size 576x216 with 1 Axes>"
      ]
     },
     "metadata": {
      "needs_background": "light"
     },
     "output_type": "display_data"
    }
   ],
   "source": [
    "plt.figure(figsize=(8, 3))\n",
    "plt.plot(range(2, 11), SH, \"bo-\")\n",
    "plt.xlabel(\"$k$\", fontsize=14)\n",
    "plt.ylabel(\"Silhouette score\", fontsize=14)\n",
    "plt.axis([1.8, 12, 0.2, 0.7])\n",
    "plt.show()"
   ]
  },
  {
   "cell_type": "markdown",
   "metadata": {
    "colab_type": "text",
    "id": "VgT0mANLL4Nz"
   },
   "source": [
    "## Gaussian Mixture Method\n",
    "Gaussian mixture models can be used to cluster unlabeled data in much the same way as k-means. There are, however, a couple of advantages to using Gaussian mixture models over k-means.\n",
    "The first difference between k-means and Gaussian Mixture models is that K-Mean performs hard classification whereas the GM performs soft classification. In other words, k-means tells us what data point belong to which cluster but won’t provide us with the probabilities that a given data point belongs to each of the possible clusters.\n",
    "Second, k-means does not account for variance.<br>\n",
    "If you are interested in detailed math and to learn “How the Algorithm Works”: https://towardsdatascience.com/gaussian-mixture-models-d13a5e915c8e \n"
   ]
  },
  {
   "cell_type": "code",
   "execution_count": 16,
   "metadata": {
    "colab": {},
    "colab_type": "code",
    "id": "cjEfU6ZSMAPl"
   },
   "outputs": [],
   "source": [
    "from sklearn.mixture import GaussianMixture\n",
    "GM=GaussianMixture(n_components = 5, n_init =10)\n",
    "GM.fit(X)\n",
    "y_GM = GM.predict(X)"
   ]
  },
  {
   "cell_type": "markdown",
   "metadata": {
    "colab_type": "text",
    "id": "e7YrS1JAMFnm"
   },
   "source": [
    "## Visualising the Clusters"
   ]
  },
  {
   "cell_type": "code",
   "execution_count": 17,
   "metadata": {
    "colab": {
     "base_uri": "https://localhost:8080/",
     "height": 295
    },
    "colab_type": "code",
    "executionInfo": {
     "elapsed": 2048,
     "status": "ok",
     "timestamp": 1586372929246,
     "user": {
      "displayName": "Hadelin de Ponteves",
      "photoUrl": "https://lh3.googleusercontent.com/a-/AOh14GhEuXdT7eQweUmRPW8_laJuPggSK6hfvpl5a6WBaA=s64",
      "userId": "15047218817161520419"
     },
     "user_tz": -240
    },
    "id": "d0ZYecccMHNx",
    "outputId": "01079a1c-4593-4c3e-8c0c-47229c27cd84"
   },
   "outputs": [
    {
     "data": {
      "image/png": "[encoded data removed]",
      "text/plain": [
       "<Figure size 432x288 with 1 Axes>"
      ]
     },
     "metadata": {
      "needs_background": "light"
     },
     "output_type": "display_data"
    }
   ],
   "source": [
    "plt.scatter(X[y_GM == 0, 0], X[y_GM == 0, 1], s = 50, c = 'yellow', label = 'Cluster 1')\n",
    "plt.scatter(X[y_GM == 1, 0], X[y_GM == 1, 1], s = 50, c = 'blue', label = 'Cluster 2')\n",
    "plt.scatter(X[y_GM == 2, 0], X[y_GM == 2, 1], s = 50, c = 'green', label = 'Cluster 3')\n",
    "plt.scatter(X[y_GM == 3, 0], X[y_GM == 3, 1], s = 50, c = 'cyan', label = 'Cluster 4')\n",
    "plt.scatter(X[y_GM == 4, 0], X[y_GM == 4, 1], s = 50, c = 'magenta', label = 'Cluster 5')\n",
    "plt.scatter(kmeans.cluster_centers_[:, 0], kmeans.cluster_centers_[:, 1], s = 100, c = 'red', label = 'Centroids')\n",
    "plt.title('Clusters of Thermoforming Machines - Gaussian Mixture')\n",
    "plt.xlabel('Months of Operation')\n",
    "plt.ylabel('Number of Defective parts')\n",
    "plt.legend()\n",
    "plt.show()"
   ]
  },
  {
   "cell_type": "markdown",
   "metadata": {},
   "source": [
    "## Probability Being belong to a Cluster\n",
    "GMM contains a probabilistic model under the hood, so, it is also possible to find probabilistic cluster assignments—in Scikit-Learn this is done using the predict_proba method. This returns a matrix of size [n_samples, n_clusters] which measures the probability that any point belongs to the given cluster. <br>\n",
    "For in-depth study of GMM:<br>\n",
    "https://jakevdp.github.io/PythonDataScienceHandbook/05.12-gaussian-mixtures.html"
   ]
  },
  {
   "cell_type": "code",
   "execution_count": 27,
   "metadata": {},
   "outputs": [
    {
     "name": "stdout",
     "output_type": "stream",
     "text": [
      "[[0.    0.    0.999 0.    0.001]\n",
      " [0.    0.    0.    0.    1.   ]\n",
      " [0.    0.    1.    0.    0.   ]\n",
      " [0.    0.    0.    0.    1.   ]\n",
      " [0.    0.    0.998 0.    0.002]\n",
      " [0.    0.    0.    0.    1.   ]\n",
      " [0.    0.    1.    0.    0.   ]\n",
      " [0.    0.    0.    0.    1.   ]\n",
      " [0.    0.    1.    0.    0.   ]\n",
      " [0.001 0.    0.    0.    0.998]\n",
      " [0.    0.    1.    0.    0.   ]\n",
      " [0.    0.    0.    0.    1.   ]\n",
      " [0.    0.    1.    0.    0.   ]\n",
      " [0.    0.    0.    0.    0.999]\n",
      " [0.    0.    1.    0.    0.   ]\n",
      " [0.    0.    0.    0.    1.   ]\n",
      " [0.    0.    1.    0.    0.   ]\n",
      " [0.013 0.    0.003 0.    0.983]\n",
      " [0.    0.    1.    0.    0.   ]\n",
      " [0.    0.    0.    0.001 0.999]\n",
      " [0.    0.    1.    0.    0.   ]\n",
      " [0.002 0.    0.    0.    0.997]\n",
      " [0.    0.001 0.999 0.    0.   ]\n",
      " [0.003 0.    0.    0.001 0.996]\n",
      " [0.    0.001 0.999 0.    0.   ]\n",
      " [0.    0.    0.    0.002 0.998]\n",
      " [0.    0.    1.    0.    0.   ]\n",
      " [0.279 0.    0.046 0.    0.675]\n",
      " [0.    0.    1.    0.    0.   ]\n",
      " [0.    0.    0.    0.003 0.997]\n",
      " [0.    0.006 0.994 0.    0.   ]\n",
      " [0.01  0.    0.001 0.002 0.987]\n",
      " [0.    0.015 0.985 0.    0.   ]\n",
      " [0.    0.    0.    0.011 0.989]\n",
      " [0.    0.004 0.996 0.    0.   ]\n",
      " [0.    0.    0.    0.008 0.991]\n",
      " [0.    0.003 0.997 0.    0.   ]\n",
      " [0.028 0.    0.002 0.009 0.962]\n",
      " [0.    0.001 0.999 0.    0.   ]\n",
      " [0.024 0.    0.002 0.03  0.945]\n",
      " [0.026 0.    0.974 0.    0.   ]\n",
      " [0.    0.    0.    0.073 0.927]\n",
      " [0.068 0.    0.932 0.    0.   ]\n",
      " [0.943 0.    0.016 0.002 0.04 ]\n",
      " [0.001 0.001 0.998 0.    0.   ]\n",
      " [0.822 0.    0.014 0.007 0.157]\n",
      " [0.974 0.    0.022 0.    0.004]\n",
      " [0.891 0.    0.108 0.    0.001]\n",
      " [0.611 0.    0.388 0.    0.   ]\n",
      " [0.611 0.    0.388 0.    0.   ]\n",
      " [0.98  0.    0.019 0.    0.001]\n",
      " [0.982 0.    0.009 0.001 0.008]\n",
      " [0.989 0.    0.01  0.    0.001]\n",
      " [0.987 0.    0.007 0.001 0.005]\n",
      " [0.936 0.    0.064 0.    0.   ]\n",
      " [0.796 0.    0.204 0.    0.   ]\n",
      " [0.986 0.    0.014 0.    0.   ]\n",
      " [0.966 0.    0.034 0.    0.   ]\n",
      " [0.994 0.    0.006 0.    0.   ]\n",
      " [0.984 0.    0.016 0.    0.   ]\n",
      " [0.996 0.    0.004 0.    0.   ]\n",
      " [0.996 0.    0.004 0.    0.   ]\n",
      " [0.996 0.    0.004 0.    0.   ]\n",
      " [0.996 0.    0.002 0.001 0.001]\n",
      " [0.997 0.    0.003 0.    0.   ]\n",
      " [0.996 0.    0.002 0.001 0.   ]\n",
      " [0.997 0.    0.003 0.    0.   ]\n",
      " [0.995 0.    0.005 0.    0.   ]\n",
      " [0.996 0.    0.002 0.001 0.   ]\n",
      " [0.994 0.    0.006 0.    0.   ]\n",
      " [0.998 0.    0.001 0.    0.   ]\n",
      " [0.987 0.    0.013 0.    0.   ]\n",
      " [0.998 0.    0.002 0.    0.   ]\n",
      " [0.998 0.    0.001 0.    0.   ]\n",
      " [0.999 0.    0.001 0.    0.   ]\n",
      " [0.999 0.    0.    0.    0.   ]\n",
      " [0.999 0.    0.    0.    0.   ]\n",
      " [0.999 0.    0.    0.    0.   ]\n",
      " [1.    0.    0.    0.    0.   ]\n",
      " [0.999 0.    0.001 0.    0.   ]\n",
      " [1.    0.    0.    0.    0.   ]\n",
      " [0.999 0.    0.    0.001 0.   ]\n",
      " [0.998 0.    0.002 0.    0.   ]\n",
      " [0.999 0.    0.001 0.    0.   ]\n",
      " [0.998 0.    0.    0.001 0.   ]\n",
      " [0.999 0.    0.001 0.    0.   ]\n",
      " [0.996 0.    0.    0.003 0.   ]\n",
      " [0.999 0.    0.    0.001 0.   ]\n",
      " [0.988 0.    0.    0.012 0.   ]\n",
      " [1.    0.    0.    0.    0.   ]\n",
      " [0.999 0.    0.    0.001 0.   ]\n",
      " [1.    0.    0.    0.    0.   ]\n",
      " [1.    0.    0.    0.    0.   ]\n",
      " [1.    0.    0.    0.    0.   ]\n",
      " [1.    0.    0.    0.    0.   ]\n",
      " [1.    0.    0.    0.    0.   ]\n",
      " [1.    0.    0.    0.    0.   ]\n",
      " [1.    0.    0.    0.    0.   ]\n",
      " [1.    0.    0.    0.    0.   ]\n",
      " [1.    0.    0.    0.    0.   ]\n",
      " [1.    0.    0.    0.    0.   ]\n",
      " [1.    0.    0.    0.    0.   ]\n",
      " [0.983 0.    0.    0.017 0.   ]\n",
      " [0.998 0.    0.    0.002 0.   ]\n",
      " [0.996 0.    0.    0.004 0.   ]\n",
      " [1.    0.    0.    0.    0.   ]\n",
      " [1.    0.    0.    0.    0.   ]\n",
      " [1.    0.    0.    0.    0.   ]\n",
      " [1.    0.    0.    0.    0.   ]\n",
      " [1.    0.    0.    0.    0.   ]\n",
      " [0.999 0.    0.    0.001 0.   ]\n",
      " [0.998 0.    0.    0.002 0.   ]\n",
      " [1.    0.    0.    0.    0.   ]\n",
      " [1.    0.    0.    0.    0.   ]\n",
      " [1.    0.    0.    0.    0.   ]\n",
      " [1.    0.    0.    0.    0.   ]\n",
      " [1.    0.    0.    0.    0.   ]\n",
      " [0.963 0.    0.    0.037 0.   ]\n",
      " [1.    0.    0.    0.    0.   ]\n",
      " [0.978 0.    0.    0.022 0.   ]\n",
      " [0.987 0.    0.    0.013 0.   ]\n",
      " [0.999 0.001 0.    0.    0.   ]\n",
      " [0.934 0.    0.    0.066 0.   ]\n",
      " [0.    0.    0.    1.    0.   ]\n",
      " [0.497 0.503 0.    0.    0.   ]\n",
      " [0.    0.    0.    1.    0.   ]\n",
      " [0.963 0.037 0.    0.    0.   ]\n",
      " [0.    0.    0.    1.    0.   ]\n",
      " [0.    1.    0.    0.    0.   ]\n",
      " [0.    0.    0.    1.    0.   ]\n",
      " [0.    1.    0.    0.    0.   ]\n",
      " [0.    0.    0.    1.    0.   ]\n",
      " [0.924 0.076 0.    0.    0.   ]\n",
      " [0.001 0.    0.    0.999 0.   ]\n",
      " [0.    1.    0.    0.    0.   ]\n",
      " [0.    0.    0.    1.    0.   ]\n",
      " [0.    1.    0.    0.    0.   ]\n",
      " [0.    0.    0.    1.    0.   ]\n",
      " [0.    1.    0.    0.    0.   ]\n",
      " [0.    0.    0.    1.    0.   ]\n",
      " [0.    1.    0.    0.    0.   ]\n",
      " [0.    0.    0.    1.    0.   ]\n",
      " [0.987 0.013 0.    0.    0.   ]\n",
      " [0.    0.    0.    1.    0.   ]\n",
      " [0.    1.    0.    0.    0.   ]\n",
      " [0.    0.    0.    1.    0.   ]\n",
      " [0.905 0.095 0.    0.    0.   ]\n",
      " [0.    0.    0.    1.    0.   ]\n",
      " [0.004 0.996 0.    0.    0.   ]\n",
      " [0.    0.    0.    1.    0.   ]\n",
      " [0.    1.    0.    0.    0.   ]\n",
      " [0.    0.    0.    1.    0.   ]\n",
      " [0.001 0.999 0.    0.    0.   ]\n",
      " [0.    0.    0.    1.    0.   ]\n",
      " [0.    1.    0.    0.    0.   ]\n",
      " [0.    0.    0.    1.    0.   ]\n",
      " [0.    1.    0.    0.    0.   ]\n",
      " [0.    0.    0.    1.    0.   ]\n",
      " [0.    1.    0.    0.    0.   ]\n",
      " [0.    0.    0.    1.    0.   ]\n",
      " [0.772 0.228 0.    0.    0.   ]\n",
      " [0.    0.    0.    1.    0.   ]\n",
      " [0.    1.    0.    0.    0.   ]\n",
      " [0.    0.    0.    1.    0.   ]\n",
      " [0.009 0.991 0.    0.    0.   ]\n",
      " [0.    0.    0.    1.    0.   ]\n",
      " [0.    1.    0.    0.    0.   ]\n",
      " [0.    0.    0.    1.    0.   ]\n",
      " [0.008 0.992 0.    0.    0.   ]\n",
      " [0.    0.    0.    1.    0.   ]\n",
      " [0.    1.    0.    0.    0.   ]\n",
      " [0.    0.    0.    1.    0.   ]\n",
      " [0.    1.    0.    0.    0.   ]\n",
      " [0.    0.    0.    1.    0.   ]\n",
      " [0.    1.    0.    0.    0.   ]\n",
      " [0.    0.    0.    1.    0.   ]\n",
      " [0.    1.    0.    0.    0.   ]\n",
      " [0.    0.    0.    1.    0.   ]\n",
      " [0.    1.    0.    0.    0.   ]\n",
      " [0.    0.    0.    1.    0.   ]\n",
      " [0.002 0.998 0.    0.    0.   ]\n",
      " [0.    0.    0.    1.    0.   ]\n",
      " [0.    1.    0.    0.    0.   ]\n",
      " [0.    0.    0.    1.    0.   ]\n",
      " [0.004 0.995 0.    0.001 0.   ]\n",
      " [0.    0.    0.    1.    0.   ]\n",
      " [0.    1.    0.    0.    0.   ]\n",
      " [0.    0.    0.    1.    0.   ]\n",
      " [0.    1.    0.    0.    0.   ]\n",
      " [0.    0.    0.    1.    0.   ]\n",
      " [0.    1.    0.    0.    0.   ]\n",
      " [0.    0.    0.    1.    0.   ]\n",
      " [0.    1.    0.    0.    0.   ]\n",
      " [0.    0.    0.    1.    0.   ]\n",
      " [0.    1.    0.    0.    0.   ]\n",
      " [0.    0.    0.    1.    0.   ]\n",
      " [0.    1.    0.    0.    0.   ]\n",
      " [0.    0.    0.    1.    0.   ]\n",
      " [0.    1.    0.    0.    0.   ]\n",
      " [0.    0.    0.    1.    0.   ]]\n"
     ]
    }
   ],
   "source": [
    "probs = GM.predict_proba(X)\n",
    "print(probs[:200].round(3))"
   ]
  },
  {
   "cell_type": "markdown",
   "metadata": {},
   "source": []
  }
 ],
 "metadata": {
  "colab": {
   "authorship_tag": "ABX9TyN979dFKn9B6Ro9v0hJ4uqU",
   "name": "K-Means Clustering",
   "provenance": [],
   "toc_visible": true
  },
  "kernelspec": {
   "display_name": "Python 3 (ipykernel)",
   "language": "python",
   "name": "python3"
  },
  "language_info": {
   "codemirror_mode": {
    "name": "ipython",
    "version": 3
   },
   "file_extension": ".py",
   "mimetype": "text/x-python",
   "name": "python",
   "nbconvert_exporter": "python",
   "pygments_lexer": "ipython3",
   "version": "3.8.5"
  },
  "toc": {
   "base_numbering": 1,
   "nav_menu": {},
   "number_sections": true,
   "sideBar": true,
   "skip_h1_title": false,
   "title_cell": "Table of Contents",
   "title_sidebar": "Contents",
   "toc_cell": false,
   "toc_position": {},
   "toc_section_display": true,
   "toc_window_display": false
  },
  "varInspector": {
   "cols": {
    "lenName": 16,
    "lenType": 16,
    "lenVar": 40
   },
   "kernels_config": {
    "python": {
     "delete_cmd_postfix": "",
     "delete_cmd_prefix": "del ",
     "library": "var_list.py",
     "varRefreshCmd": "print(var_dic_list())"
    },
    "r": {
     "delete_cmd_postfix": ") ",
     "delete_cmd_prefix": "rm(",
     "library": "var_list.r",
     "varRefreshCmd": "cat(var_dic_list()) "
    }
   },
   "types_to_exclude": [
    "module",
    "function",
    "builtin_function_or_method",
    "instance",
    "_Feature"
   ],
   "window_display": false
  }
 },
 "nbformat": 4,
 "nbformat_minor": 1
}

{
 "cells": [
  {
   "cell_type": "markdown",
   "id": "a2820c38",
   "metadata": {},
   "source": [
    "# Diabetes Database\n",
    "Goal: Predict if a person will get diabetes based on diagnostic measures\n",
    "The datasets consists of several medical predictor variables and one Outcome (Yes or No diabetes). Predictor variables includes the number of pregnancies the patient has had, their Body Mass Index, insulin and glucose level, blood pressure,Diabetes Pedigree (likelihood of diabetes based on family history), age, and so on.\n",
    "\n",
    "Source: https://www.kaggle.com/datasets/uciml/pima-indians-diabetes-database\n",
    "\n",
    "<img src='Diabetes.jpeg' width=400 height=400/></a>\n"
   ]
  },
  {
   "cell_type": "markdown",
   "id": "93c13c73",
   "metadata": {},
   "source": [
    "# Libraries"
   ]
  },
  {
   "cell_type": "code",
   "execution_count": 1,
   "id": "5c4bb7fe",
   "metadata": {},
   "outputs": [],
   "source": [
    "import numpy as np\n",
    "import pandas as pd\n",
    "import seaborn as sb\n",
    "\n",
    "# You can import TensorFlow, then call the Module Keras from it, whenever you need by tf.keras\n",
    "import tensorflow as tf\n",
    "\n",
    "# Or, just import keras:\n",
    "# from tensorflow import keras"
   ]
  },
  {
   "cell_type": "code",
   "execution_count": 32,
   "id": "7afa2e10",
   "metadata": {},
   "outputs": [],
   "source": [
    "import matplotlib.pyplot as plt"
   ]
  },
  {
   "cell_type": "markdown",
   "id": "0126500b",
   "metadata": {},
   "source": [
    "# Data"
   ]
  },
  {
   "cell_type": "code",
   "execution_count": 2,
   "id": "4489d706",
   "metadata": {},
   "outputs": [],
   "source": [
    "dataset = pd.read_csv('DiabeticData.csv')\n",
    "X = dataset.iloc[:, :-1].values\n",
    "y = dataset.iloc[:, -1].values"
   ]
  },
  {
   "cell_type": "code",
   "execution_count": 3,
   "id": "c2c22221",
   "metadata": {},
   "outputs": [
    {
     "data": {
      "text/html": [
       "<div>\n",
       "<style scoped>\n",
       "    .dataframe tbody tr th:only-of-type {\n",
       "        vertical-align: middle;\n",
       "    }\n",
       "\n",
       "    .dataframe tbody tr th {\n",
       "        vertical-align: top;\n",
       "    }\n",
       "\n",
       "    .dataframe thead th {\n",
       "        text-align: right;\n",
       "    }\n",
       "</style>\n",
       "<table border=\"1\" class=\"dataframe\">\n",
       "  <thead>\n",
       "    <tr style=\"text-align: right;\">\n",
       "      <th></th>\n",
       "      <th>NumberOfPregnancies</th>\n",
       "      <th>GlucoseConcentration</th>\n",
       "      <th>BloodPressure</th>\n",
       "      <th>SkinThickness</th>\n",
       "      <th>InsulinLevel</th>\n",
       "      <th>BodyMassIndex</th>\n",
       "      <th>DiabetesPedigree</th>\n",
       "      <th>Age</th>\n",
       "      <th>Diabetic</th>\n",
       "    </tr>\n",
       "  </thead>\n",
       "  <tbody>\n",
       "    <tr>\n",
       "      <th>0</th>\n",
       "      <td>6</td>\n",
       "      <td>148</td>\n",
       "      <td>72</td>\n",
       "      <td>35</td>\n",
       "      <td>0</td>\n",
       "      <td>33.6</td>\n",
       "      <td>0.627</td>\n",
       "      <td>50</td>\n",
       "      <td>Yes</td>\n",
       "    </tr>\n",
       "    <tr>\n",
       "      <th>1</th>\n",
       "      <td>1</td>\n",
       "      <td>85</td>\n",
       "      <td>66</td>\n",
       "      <td>29</td>\n",
       "      <td>0</td>\n",
       "      <td>26.6</td>\n",
       "      <td>0.351</td>\n",
       "      <td>31</td>\n",
       "      <td>No</td>\n",
       "    </tr>\n",
       "    <tr>\n",
       "      <th>2</th>\n",
       "      <td>8</td>\n",
       "      <td>183</td>\n",
       "      <td>64</td>\n",
       "      <td>0</td>\n",
       "      <td>0</td>\n",
       "      <td>23.3</td>\n",
       "      <td>0.672</td>\n",
       "      <td>32</td>\n",
       "      <td>Yes</td>\n",
       "    </tr>\n",
       "    <tr>\n",
       "      <th>3</th>\n",
       "      <td>1</td>\n",
       "      <td>89</td>\n",
       "      <td>66</td>\n",
       "      <td>23</td>\n",
       "      <td>94</td>\n",
       "      <td>28.1</td>\n",
       "      <td>0.167</td>\n",
       "      <td>21</td>\n",
       "      <td>No</td>\n",
       "    </tr>\n",
       "    <tr>\n",
       "      <th>4</th>\n",
       "      <td>0</td>\n",
       "      <td>137</td>\n",
       "      <td>40</td>\n",
       "      <td>35</td>\n",
       "      <td>168</td>\n",
       "      <td>43.1</td>\n",
       "      <td>2.288</td>\n",
       "      <td>33</td>\n",
       "      <td>Yes</td>\n",
       "    </tr>\n",
       "  </tbody>\n",
       "</table>\n",
       "</div>"
      ],
      "text/plain": [
       "   NumberOfPregnancies  GlucoseConcentration  BloodPressure  SkinThickness  \\\n",
       "0                    6                   148             72             35   \n",
       "1                    1                    85             66             29   \n",
       "2                    8                   183             64              0   \n",
       "3                    1                    89             66             23   \n",
       "4                    0                   137             40             35   \n",
       "\n",
       "   InsulinLevel  BodyMassIndex  DiabetesPedigree  Age Diabetic  \n",
       "0             0           33.6             0.627   50      Yes  \n",
       "1             0           26.6             0.351   31       No  \n",
       "2             0           23.3             0.672   32      Yes  \n",
       "3            94           28.1             0.167   21       No  \n",
       "4           168           43.1             2.288   33      Yes  "
      ]
     },
     "execution_count": 3,
     "metadata": {},
     "output_type": "execute_result"
    }
   ],
   "source": [
    "dataset.head()"
   ]
  },
  {
   "cell_type": "code",
   "execution_count": 4,
   "id": "3b57e1b3",
   "metadata": {},
   "outputs": [],
   "source": [
    "#pd.DataFrame(X)\n",
    "#pd.DataFrame(y)"
   ]
  },
  {
   "cell_type": "markdown",
   "id": "b084fe03",
   "metadata": {},
   "source": [
    "# Encoding the Output Data"
   ]
  },
  {
   "cell_type": "code",
   "execution_count": 4,
   "id": "89c76a7b",
   "metadata": {},
   "outputs": [],
   "source": [
    "from sklearn.preprocessing import LabelEncoder\n",
    "le = LabelEncoder()\n",
    "y = le.fit_transform(y)"
   ]
  },
  {
   "cell_type": "markdown",
   "id": "e605c40b",
   "metadata": {},
   "source": [
    "# Data Analysis"
   ]
  },
  {
   "cell_type": "code",
   "execution_count": 5,
   "id": "5a715423",
   "metadata": {},
   "outputs": [
    {
     "data": {
      "text/plain": [
       "<AxesSubplot:>"
      ]
     },
     "execution_count": 5,
     "metadata": {},
     "output_type": "execute_result"
    },
    {
     "data": {
      "image/png": "[encoded data removed]",
      "text/plain": [
       "<Figure size 432x288 with 2 Axes>"
      ]
     },
     "metadata": {
      "needs_background": "light"
     },
     "output_type": "display_data"
    }
   ],
   "source": [
    "sb.heatmap(dataset.corr())"
   ]
  },
  {
   "cell_type": "code",
   "execution_count": 6,
   "id": "b8b12924",
   "metadata": {},
   "outputs": [
    {
     "data": {
      "text/plain": [
       "<AxesSubplot:xlabel='Diabetic', ylabel='Age'>"
      ]
     },
     "execution_count": 6,
     "metadata": {},
     "output_type": "execute_result"
    },
    {
     "data": {
      "image/png": "[encoded data removed]",
      "text/plain": [
       "<Figure size 432x288 with 1 Axes>"
      ]
     },
     "metadata": {
      "needs_background": "light"
     },
     "output_type": "display_data"
    }
   ],
   "source": [
    "sb.boxplot(x='Diabetic', y='Age', data=dataset)"
   ]
  },
  {
   "cell_type": "code",
   "execution_count": 7,
   "id": "2058b32a",
   "metadata": {},
   "outputs": [
    {
     "data": {
      "text/plain": [
       "<AxesSubplot:xlabel='Age', ylabel='Count'>"
      ]
     },
     "execution_count": 7,
     "metadata": {},
     "output_type": "execute_result"
    },
    {
     "data": {
      "image/png": "[encoded data removed]",
      "text/plain": [
       "<Figure size 432x288 with 1 Axes>"
      ]
     },
     "metadata": {
      "needs_background": "light"
     },
     "output_type": "display_data"
    }
   ],
   "source": [
    "sb.histplot(dataset['Age'], kde=True, bins=20)"
   ]
  },
  {
   "cell_type": "code",
   "execution_count": 8,
   "id": "84ffc800",
   "metadata": {},
   "outputs": [
    {
     "data": {
      "text/plain": [
       "<seaborn.axisgrid.JointGrid at 0x2798c5ecfd0>"
      ]
     },
     "execution_count": 8,
     "metadata": {},
     "output_type": "execute_result"
    },
    {
     "data": {
      "image/png": "[encoded data removed]",
      "text/plain": [
       "<Figure size 432x432 with 3 Axes>"
      ]
     },
     "metadata": {
      "needs_background": "light"
     },
     "output_type": "display_data"
    }
   ],
   "source": [
    "sb.jointplot(x='Age' , y='BloodPressure' , data=dataset, kind='kde')"
   ]
  },
  {
   "cell_type": "code",
   "execution_count": 9,
   "id": "ff2a602f",
   "metadata": {},
   "outputs": [
    {
     "data": {
      "text/plain": [
       "<seaborn.axisgrid.JointGrid at 0x2798de733a0>"
      ]
     },
     "execution_count": 9,
     "metadata": {},
     "output_type": "execute_result"
    },
    {
     "data": {
      "image/png": "[encoded data removed]",
      "text/plain": [
       "<Figure size 432x432 with 3 Axes>"
      ]
     },
     "metadata": {
      "needs_background": "light"
     },
     "output_type": "display_data"
    }
   ],
   "source": [
    "sb.jointplot(x='Age' , y='SkinThickness' , data=dataset, kind='reg')"
   ]
  },
  {
   "cell_type": "markdown",
   "id": "6c4fd90c",
   "metadata": {},
   "source": [
    "# Removing Outliers"
   ]
  },
  {
   "cell_type": "markdown",
   "id": "e81372e4",
   "metadata": {},
   "source": [
    "## Inspectign the data"
   ]
  },
  {
   "cell_type": "code",
   "execution_count": 37,
   "id": "47a3dbcc",
   "metadata": {},
   "outputs": [
    {
     "data": {
      "text/plain": [
       "<AxesSubplot:xlabel='Diabetic', ylabel='GlucoseConcentration'>"
      ]
     },
     "execution_count": 37,
     "metadata": {},
     "output_type": "execute_result"
    },
    {
     "data": {
      "image/png": "[encoded data removed]",
      "text/plain": [
       "<Figure size 432x288 with 1 Axes>"
      ]
     },
     "metadata": {
      "needs_background": "light"
     },
     "output_type": "display_data"
    }
   ],
   "source": [
    "sb.boxplot(x='Diabetic', y='GlucoseConcentration', data=dataset)"
   ]
  },
  {
   "cell_type": "markdown",
   "id": "e44d8ab2",
   "metadata": {},
   "source": [
    "## Seperating the Two Groups (Dibetics & Healthy)"
   ]
  },
  {
   "cell_type": "code",
   "execution_count": 38,
   "id": "e7f7342f",
   "metadata": {},
   "outputs": [],
   "source": [
    "Diabetic = dataset[dataset[\"Diabetic\"]==\"Yes\"]\n",
    "Healthy=dataset[dataset[\"Diabetic\"]==\"No\"]"
   ]
  },
  {
   "cell_type": "code",
   "execution_count": 39,
   "id": "4fe880df",
   "metadata": {},
   "outputs": [
    {
     "data": {
      "text/plain": [
       "(500, 9)"
      ]
     },
     "execution_count": 39,
     "metadata": {},
     "output_type": "execute_result"
    }
   ],
   "source": [
    "Healthy.shape"
   ]
  },
  {
   "cell_type": "code",
   "execution_count": 40,
   "id": "2cea394b",
   "metadata": {},
   "outputs": [
    {
     "data": {
      "text/plain": [
       "<AxesSubplot:ylabel='GlucoseConcentration'>"
      ]
     },
     "execution_count": 40,
     "metadata": {},
     "output_type": "execute_result"
    },
    {
     "data": {
      "image/png": "[encoded data removed]",
      "text/plain": [
       "<Figure size 432x288 with 1 Axes>"
      ]
     },
     "metadata": {
      "needs_background": "light"
     },
     "output_type": "display_data"
    }
   ],
   "source": [
    "sb.boxplot( y='GlucoseConcentration', data=Healthy)"
   ]
  },
  {
   "cell_type": "markdown",
   "id": "453fad11",
   "metadata": {},
   "source": [
    "## Function for Removing any Data outside the Boxplot"
   ]
  },
  {
   "cell_type": "code",
   "execution_count": 41,
   "id": "d3883290",
   "metadata": {},
   "outputs": [],
   "source": [
    "def drop_outliers(data, feature):\n",
    "    iqr = 1.5 * (np.percentile(data[feature], 75) - np.percentile(data[feature], 25))\n",
    "    data.drop(data[data[feature] > (iqr + np.percentile(data[feature], 75))].index, inplace=True)\n",
    "    data.drop(data[data[feature] < (np.percentile(data[feature], 25) - iqr)].index, inplace=True)"
   ]
  },
  {
   "cell_type": "markdown",
   "id": "ace59600",
   "metadata": {},
   "source": [
    "## Remove Outlier for Each Feature"
   ]
  },
  {
   "cell_type": "markdown",
   "id": "86000559",
   "metadata": {},
   "source": [
    "### Feature 1. GlucoseConcentration"
   ]
  },
  {
   "cell_type": "code",
   "execution_count": 42,
   "id": "28c748ed",
   "metadata": {},
   "outputs": [
    {
     "name": "stderr",
     "output_type": "stream",
     "text": [
      "C:\\Users\\Tree\\anaconda3\\lib\\site-packages\\pandas\\core\\frame.py:4308: SettingWithCopyWarning: \n",
      "A value is trying to be set on a copy of a slice from a DataFrame\n",
      "\n",
      "See the caveats in the documentation: https://pandas.pydata.org/pandas-docs/stable/user_guide/indexing.html#returning-a-view-versus-a-copy\n",
      "  return super().drop(\n",
      "C:\\Users\\Tree\\anaconda3\\lib\\site-packages\\pandas\\core\\frame.py:4308: SettingWithCopyWarning: \n",
      "A value is trying to be set on a copy of a slice from a DataFrame\n",
      "\n",
      "See the caveats in the documentation: https://pandas.pydata.org/pandas-docs/stable/user_guide/indexing.html#returning-a-view-versus-a-copy\n",
      "  return super().drop(\n",
      "C:\\Users\\Tree\\anaconda3\\lib\\site-packages\\pandas\\core\\frame.py:4308: SettingWithCopyWarning: \n",
      "A value is trying to be set on a copy of a slice from a DataFrame\n",
      "\n",
      "See the caveats in the documentation: https://pandas.pydata.org/pandas-docs/stable/user_guide/indexing.html#returning-a-view-versus-a-copy\n",
      "  return super().drop(\n",
      "C:\\Users\\Tree\\anaconda3\\lib\\site-packages\\pandas\\core\\frame.py:4308: SettingWithCopyWarning: \n",
      "A value is trying to be set on a copy of a slice from a DataFrame\n",
      "\n",
      "See the caveats in the documentation: https://pandas.pydata.org/pandas-docs/stable/user_guide/indexing.html#returning-a-view-versus-a-copy\n",
      "  return super().drop(\n"
     ]
    }
   ],
   "source": [
    "drop_outliers(Diabetic, 'GlucoseConcentration')\n",
    "drop_outliers(Healthy, 'GlucoseConcentration')"
   ]
  },
  {
   "cell_type": "code",
   "execution_count": 43,
   "id": "9762a5c0",
   "metadata": {},
   "outputs": [
    {
     "data": {
      "text/plain": [
       "<AxesSubplot:ylabel='GlucoseConcentration'>"
      ]
     },
     "execution_count": 43,
     "metadata": {},
     "output_type": "execute_result"
    },
    {
     "data": {
      "image/png": "[encoded data removed]",
      "text/plain": [
       "<Figure size 432x288 with 1 Axes>"
      ]
     },
     "metadata": {
      "needs_background": "light"
     },
     "output_type": "display_data"
    }
   ],
   "source": [
    "# Just Checking\n",
    "sb.boxplot( y='GlucoseConcentration', data=Healthy)"
   ]
  },
  {
   "cell_type": "markdown",
   "id": "bcf4ff0d",
   "metadata": {},
   "source": [
    "### The rest of Features"
   ]
  },
  {
   "cell_type": "code",
   "execution_count": 48,
   "id": "e9113b8d",
   "metadata": {},
   "outputs": [
    {
     "name": "stderr",
     "output_type": "stream",
     "text": [
      "C:\\Users\\Tree\\anaconda3\\lib\\site-packages\\pandas\\core\\frame.py:4308: SettingWithCopyWarning: \n",
      "A value is trying to be set on a copy of a slice from a DataFrame\n",
      "\n",
      "See the caveats in the documentation: https://pandas.pydata.org/pandas-docs/stable/user_guide/indexing.html#returning-a-view-versus-a-copy\n",
      "  return super().drop(\n",
      "C:\\Users\\Tree\\anaconda3\\lib\\site-packages\\pandas\\core\\frame.py:4308: SettingWithCopyWarning: \n",
      "A value is trying to be set on a copy of a slice from a DataFrame\n",
      "\n",
      "See the caveats in the documentation: https://pandas.pydata.org/pandas-docs/stable/user_guide/indexing.html#returning-a-view-versus-a-copy\n",
      "  return super().drop(\n",
      "C:\\Users\\Tree\\anaconda3\\lib\\site-packages\\pandas\\core\\frame.py:4308: SettingWithCopyWarning: \n",
      "A value is trying to be set on a copy of a slice from a DataFrame\n",
      "\n",
      "See the caveats in the documentation: https://pandas.pydata.org/pandas-docs/stable/user_guide/indexing.html#returning-a-view-versus-a-copy\n",
      "  return super().drop(\n",
      "C:\\Users\\Tree\\anaconda3\\lib\\site-packages\\pandas\\core\\frame.py:4308: SettingWithCopyWarning: \n",
      "A value is trying to be set on a copy of a slice from a DataFrame\n",
      "\n",
      "See the caveats in the documentation: https://pandas.pydata.org/pandas-docs/stable/user_guide/indexing.html#returning-a-view-versus-a-copy\n",
      "  return super().drop(\n",
      "C:\\Users\\Tree\\anaconda3\\lib\\site-packages\\pandas\\core\\frame.py:4308: SettingWithCopyWarning: \n",
      "A value is trying to be set on a copy of a slice from a DataFrame\n",
      "\n",
      "See the caveats in the documentation: https://pandas.pydata.org/pandas-docs/stable/user_guide/indexing.html#returning-a-view-versus-a-copy\n",
      "  return super().drop(\n",
      "C:\\Users\\Tree\\anaconda3\\lib\\site-packages\\pandas\\core\\frame.py:4308: SettingWithCopyWarning: \n",
      "A value is trying to be set on a copy of a slice from a DataFrame\n",
      "\n",
      "See the caveats in the documentation: https://pandas.pydata.org/pandas-docs/stable/user_guide/indexing.html#returning-a-view-versus-a-copy\n",
      "  return super().drop(\n",
      "C:\\Users\\Tree\\anaconda3\\lib\\site-packages\\pandas\\core\\frame.py:4308: SettingWithCopyWarning: \n",
      "A value is trying to be set on a copy of a slice from a DataFrame\n",
      "\n",
      "See the caveats in the documentation: https://pandas.pydata.org/pandas-docs/stable/user_guide/indexing.html#returning-a-view-versus-a-copy\n",
      "  return super().drop(\n",
      "C:\\Users\\Tree\\anaconda3\\lib\\site-packages\\pandas\\core\\frame.py:4308: SettingWithCopyWarning: \n",
      "A value is trying to be set on a copy of a slice from a DataFrame\n",
      "\n",
      "See the caveats in the documentation: https://pandas.pydata.org/pandas-docs/stable/user_guide/indexing.html#returning-a-view-versus-a-copy\n",
      "  return super().drop(\n",
      "C:\\Users\\Tree\\anaconda3\\lib\\site-packages\\pandas\\core\\frame.py:4308: SettingWithCopyWarning: \n",
      "A value is trying to be set on a copy of a slice from a DataFrame\n",
      "\n",
      "See the caveats in the documentation: https://pandas.pydata.org/pandas-docs/stable/user_guide/indexing.html#returning-a-view-versus-a-copy\n",
      "  return super().drop(\n",
      "C:\\Users\\Tree\\anaconda3\\lib\\site-packages\\pandas\\core\\frame.py:4308: SettingWithCopyWarning: \n",
      "A value is trying to be set on a copy of a slice from a DataFrame\n",
      "\n",
      "See the caveats in the documentation: https://pandas.pydata.org/pandas-docs/stable/user_guide/indexing.html#returning-a-view-versus-a-copy\n",
      "  return super().drop(\n",
      "C:\\Users\\Tree\\anaconda3\\lib\\site-packages\\pandas\\core\\frame.py:4308: SettingWithCopyWarning: \n",
      "A value is trying to be set on a copy of a slice from a DataFrame\n",
      "\n",
      "See the caveats in the documentation: https://pandas.pydata.org/pandas-docs/stable/user_guide/indexing.html#returning-a-view-versus-a-copy\n",
      "  return super().drop(\n",
      "C:\\Users\\Tree\\anaconda3\\lib\\site-packages\\pandas\\core\\frame.py:4308: SettingWithCopyWarning: \n",
      "A value is trying to be set on a copy of a slice from a DataFrame\n",
      "\n",
      "See the caveats in the documentation: https://pandas.pydata.org/pandas-docs/stable/user_guide/indexing.html#returning-a-view-versus-a-copy\n",
      "  return super().drop(\n",
      "C:\\Users\\Tree\\anaconda3\\lib\\site-packages\\pandas\\core\\frame.py:4308: SettingWithCopyWarning: \n",
      "A value is trying to be set on a copy of a slice from a DataFrame\n",
      "\n",
      "See the caveats in the documentation: https://pandas.pydata.org/pandas-docs/stable/user_guide/indexing.html#returning-a-view-versus-a-copy\n",
      "  return super().drop(\n",
      "C:\\Users\\Tree\\anaconda3\\lib\\site-packages\\pandas\\core\\frame.py:4308: SettingWithCopyWarning: \n",
      "A value is trying to be set on a copy of a slice from a DataFrame\n",
      "\n",
      "See the caveats in the documentation: https://pandas.pydata.org/pandas-docs/stable/user_guide/indexing.html#returning-a-view-versus-a-copy\n",
      "  return super().drop(\n",
      "C:\\Users\\Tree\\anaconda3\\lib\\site-packages\\pandas\\core\\frame.py:4308: SettingWithCopyWarning: \n",
      "A value is trying to be set on a copy of a slice from a DataFrame\n",
      "\n",
      "See the caveats in the documentation: https://pandas.pydata.org/pandas-docs/stable/user_guide/indexing.html#returning-a-view-versus-a-copy\n",
      "  return super().drop(\n",
      "C:\\Users\\Tree\\anaconda3\\lib\\site-packages\\pandas\\core\\frame.py:4308: SettingWithCopyWarning: \n",
      "A value is trying to be set on a copy of a slice from a DataFrame\n",
      "\n",
      "See the caveats in the documentation: https://pandas.pydata.org/pandas-docs/stable/user_guide/indexing.html#returning-a-view-versus-a-copy\n",
      "  return super().drop(\n",
      "C:\\Users\\Tree\\anaconda3\\lib\\site-packages\\pandas\\core\\frame.py:4308: SettingWithCopyWarning: \n",
      "A value is trying to be set on a copy of a slice from a DataFrame\n",
      "\n",
      "See the caveats in the documentation: https://pandas.pydata.org/pandas-docs/stable/user_guide/indexing.html#returning-a-view-versus-a-copy\n",
      "  return super().drop(\n",
      "C:\\Users\\Tree\\anaconda3\\lib\\site-packages\\pandas\\core\\frame.py:4308: SettingWithCopyWarning: \n",
      "A value is trying to be set on a copy of a slice from a DataFrame\n",
      "\n",
      "See the caveats in the documentation: https://pandas.pydata.org/pandas-docs/stable/user_guide/indexing.html#returning-a-view-versus-a-copy\n",
      "  return super().drop(\n",
      "C:\\Users\\Tree\\anaconda3\\lib\\site-packages\\pandas\\core\\frame.py:4308: SettingWithCopyWarning: \n",
      "A value is trying to be set on a copy of a slice from a DataFrame\n",
      "\n",
      "See the caveats in the documentation: https://pandas.pydata.org/pandas-docs/stable/user_guide/indexing.html#returning-a-view-versus-a-copy\n",
      "  return super().drop(\n",
      "C:\\Users\\Tree\\anaconda3\\lib\\site-packages\\pandas\\core\\frame.py:4308: SettingWithCopyWarning: \n",
      "A value is trying to be set on a copy of a slice from a DataFrame\n",
      "\n",
      "See the caveats in the documentation: https://pandas.pydata.org/pandas-docs/stable/user_guide/indexing.html#returning-a-view-versus-a-copy\n",
      "  return super().drop(\n",
      "C:\\Users\\Tree\\anaconda3\\lib\\site-packages\\pandas\\core\\frame.py:4308: SettingWithCopyWarning: \n",
      "A value is trying to be set on a copy of a slice from a DataFrame\n",
      "\n",
      "See the caveats in the documentation: https://pandas.pydata.org/pandas-docs/stable/user_guide/indexing.html#returning-a-view-versus-a-copy\n",
      "  return super().drop(\n",
      "C:\\Users\\Tree\\anaconda3\\lib\\site-packages\\pandas\\core\\frame.py:4308: SettingWithCopyWarning: \n",
      "A value is trying to be set on a copy of a slice from a DataFrame\n",
      "\n",
      "See the caveats in the documentation: https://pandas.pydata.org/pandas-docs/stable/user_guide/indexing.html#returning-a-view-versus-a-copy\n",
      "  return super().drop(\n",
      "C:\\Users\\Tree\\anaconda3\\lib\\site-packages\\pandas\\core\\frame.py:4308: SettingWithCopyWarning: \n",
      "A value is trying to be set on a copy of a slice from a DataFrame\n",
      "\n",
      "See the caveats in the documentation: https://pandas.pydata.org/pandas-docs/stable/user_guide/indexing.html#returning-a-view-versus-a-copy\n",
      "  return super().drop(\n",
      "C:\\Users\\Tree\\anaconda3\\lib\\site-packages\\pandas\\core\\frame.py:4308: SettingWithCopyWarning: \n",
      "A value is trying to be set on a copy of a slice from a DataFrame\n",
      "\n",
      "See the caveats in the documentation: https://pandas.pydata.org/pandas-docs/stable/user_guide/indexing.html#returning-a-view-versus-a-copy\n",
      "  return super().drop(\n",
      "C:\\Users\\Tree\\anaconda3\\lib\\site-packages\\pandas\\core\\frame.py:4308: SettingWithCopyWarning: \n",
      "A value is trying to be set on a copy of a slice from a DataFrame\n",
      "\n",
      "See the caveats in the documentation: https://pandas.pydata.org/pandas-docs/stable/user_guide/indexing.html#returning-a-view-versus-a-copy\n",
      "  return super().drop(\n",
      "C:\\Users\\Tree\\anaconda3\\lib\\site-packages\\pandas\\core\\frame.py:4308: SettingWithCopyWarning: \n",
      "A value is trying to be set on a copy of a slice from a DataFrame\n",
      "\n",
      "See the caveats in the documentation: https://pandas.pydata.org/pandas-docs/stable/user_guide/indexing.html#returning-a-view-versus-a-copy\n",
      "  return super().drop(\n",
      "C:\\Users\\Tree\\anaconda3\\lib\\site-packages\\pandas\\core\\frame.py:4308: SettingWithCopyWarning: \n",
      "A value is trying to be set on a copy of a slice from a DataFrame\n",
      "\n",
      "See the caveats in the documentation: https://pandas.pydata.org/pandas-docs/stable/user_guide/indexing.html#returning-a-view-versus-a-copy\n",
      "  return super().drop(\n",
      "C:\\Users\\Tree\\anaconda3\\lib\\site-packages\\pandas\\core\\frame.py:4308: SettingWithCopyWarning: \n",
      "A value is trying to be set on a copy of a slice from a DataFrame\n",
      "\n",
      "See the caveats in the documentation: https://pandas.pydata.org/pandas-docs/stable/user_guide/indexing.html#returning-a-view-versus-a-copy\n",
      "  return super().drop(\n"
     ]
    }
   ],
   "source": [
    "drop_outliers(Diabetic, 'NumberOfPregnancies')\n",
    "drop_outliers(Healthy, 'NumberOfPregnancies')\n",
    "\n",
    "drop_outliers(Diabetic, 'BloodPressure')\n",
    "drop_outliers(Healthy, 'BloodPressure')\n",
    "\n",
    "drop_outliers(Diabetic, 'SkinThickness')\n",
    "drop_outliers(Healthy, 'SkinThickness')\n",
    "\n",
    "drop_outliers(Diabetic, 'InsulinLevel')\n",
    "drop_outliers(Healthy, 'InsulinLevel')\n",
    "\n",
    "drop_outliers(Diabetic, 'BodyMassIndex')\n",
    "drop_outliers(Healthy, 'BodyMassIndex')\n",
    "\n",
    "drop_outliers(Diabetic, 'DiabetesPedigree')\n",
    "drop_outliers(Healthy, 'DiabetesPedigree')\n",
    "\n",
    "drop_outliers(Diabetic, 'Age')\n",
    "drop_outliers(Healthy, 'Age')\n"
   ]
  },
  {
   "cell_type": "markdown",
   "id": "78fbe8c6",
   "metadata": {},
   "source": [
    "### Putting the clean data from the two groups together"
   ]
  },
  {
   "cell_type": "code",
   "execution_count": 49,
   "id": "50f980c7",
   "metadata": {},
   "outputs": [],
   "source": [
    "datasetclean=Diabetic.append(Healthy)"
   ]
  },
  {
   "cell_type": "code",
   "execution_count": 50,
   "id": "a8a0fa0f",
   "metadata": {},
   "outputs": [
    {
     "data": {
      "text/html": [
       "<div>\n",
       "<style scoped>\n",
       "    .dataframe tbody tr th:only-of-type {\n",
       "        vertical-align: middle;\n",
       "    }\n",
       "\n",
       "    .dataframe tbody tr th {\n",
       "        vertical-align: top;\n",
       "    }\n",
       "\n",
       "    .dataframe thead th {\n",
       "        text-align: right;\n",
       "    }\n",
       "</style>\n",
       "<table border=\"1\" class=\"dataframe\">\n",
       "  <thead>\n",
       "    <tr style=\"text-align: right;\">\n",
       "      <th></th>\n",
       "      <th>NumberOfPregnancies</th>\n",
       "      <th>GlucoseConcentration</th>\n",
       "      <th>BloodPressure</th>\n",
       "      <th>SkinThickness</th>\n",
       "      <th>InsulinLevel</th>\n",
       "      <th>BodyMassIndex</th>\n",
       "      <th>DiabetesPedigree</th>\n",
       "      <th>Age</th>\n",
       "      <th>Diabetic</th>\n",
       "    </tr>\n",
       "  </thead>\n",
       "  <tbody>\n",
       "    <tr>\n",
       "      <th>0</th>\n",
       "      <td>6</td>\n",
       "      <td>148</td>\n",
       "      <td>72</td>\n",
       "      <td>35</td>\n",
       "      <td>0</td>\n",
       "      <td>33.6</td>\n",
       "      <td>0.627</td>\n",
       "      <td>50</td>\n",
       "      <td>Yes</td>\n",
       "    </tr>\n",
       "    <tr>\n",
       "      <th>2</th>\n",
       "      <td>8</td>\n",
       "      <td>183</td>\n",
       "      <td>64</td>\n",
       "      <td>0</td>\n",
       "      <td>0</td>\n",
       "      <td>23.3</td>\n",
       "      <td>0.672</td>\n",
       "      <td>32</td>\n",
       "      <td>Yes</td>\n",
       "    </tr>\n",
       "    <tr>\n",
       "      <th>6</th>\n",
       "      <td>3</td>\n",
       "      <td>78</td>\n",
       "      <td>50</td>\n",
       "      <td>32</td>\n",
       "      <td>88</td>\n",
       "      <td>31.0</td>\n",
       "      <td>0.248</td>\n",
       "      <td>26</td>\n",
       "      <td>Yes</td>\n",
       "    </tr>\n",
       "    <tr>\n",
       "      <th>11</th>\n",
       "      <td>10</td>\n",
       "      <td>168</td>\n",
       "      <td>74</td>\n",
       "      <td>0</td>\n",
       "      <td>0</td>\n",
       "      <td>38.0</td>\n",
       "      <td>0.537</td>\n",
       "      <td>34</td>\n",
       "      <td>Yes</td>\n",
       "    </tr>\n",
       "    <tr>\n",
       "      <th>14</th>\n",
       "      <td>5</td>\n",
       "      <td>166</td>\n",
       "      <td>72</td>\n",
       "      <td>19</td>\n",
       "      <td>175</td>\n",
       "      <td>25.8</td>\n",
       "      <td>0.587</td>\n",
       "      <td>51</td>\n",
       "      <td>Yes</td>\n",
       "    </tr>\n",
       "    <tr>\n",
       "      <th>...</th>\n",
       "      <td>...</td>\n",
       "      <td>...</td>\n",
       "      <td>...</td>\n",
       "      <td>...</td>\n",
       "      <td>...</td>\n",
       "      <td>...</td>\n",
       "      <td>...</td>\n",
       "      <td>...</td>\n",
       "      <td>...</td>\n",
       "    </tr>\n",
       "    <tr>\n",
       "      <th>758</th>\n",
       "      <td>1</td>\n",
       "      <td>106</td>\n",
       "      <td>76</td>\n",
       "      <td>0</td>\n",
       "      <td>0</td>\n",
       "      <td>37.5</td>\n",
       "      <td>0.197</td>\n",
       "      <td>26</td>\n",
       "      <td>No</td>\n",
       "    </tr>\n",
       "    <tr>\n",
       "      <th>760</th>\n",
       "      <td>2</td>\n",
       "      <td>88</td>\n",
       "      <td>58</td>\n",
       "      <td>26</td>\n",
       "      <td>16</td>\n",
       "      <td>28.4</td>\n",
       "      <td>0.766</td>\n",
       "      <td>22</td>\n",
       "      <td>No</td>\n",
       "    </tr>\n",
       "    <tr>\n",
       "      <th>764</th>\n",
       "      <td>2</td>\n",
       "      <td>122</td>\n",
       "      <td>70</td>\n",
       "      <td>27</td>\n",
       "      <td>0</td>\n",
       "      <td>36.8</td>\n",
       "      <td>0.340</td>\n",
       "      <td>27</td>\n",
       "      <td>No</td>\n",
       "    </tr>\n",
       "    <tr>\n",
       "      <th>765</th>\n",
       "      <td>5</td>\n",
       "      <td>121</td>\n",
       "      <td>72</td>\n",
       "      <td>23</td>\n",
       "      <td>112</td>\n",
       "      <td>26.2</td>\n",
       "      <td>0.245</td>\n",
       "      <td>30</td>\n",
       "      <td>No</td>\n",
       "    </tr>\n",
       "    <tr>\n",
       "      <th>767</th>\n",
       "      <td>1</td>\n",
       "      <td>93</td>\n",
       "      <td>70</td>\n",
       "      <td>31</td>\n",
       "      <td>0</td>\n",
       "      <td>30.4</td>\n",
       "      <td>0.315</td>\n",
       "      <td>23</td>\n",
       "      <td>No</td>\n",
       "    </tr>\n",
       "  </tbody>\n",
       "</table>\n",
       "<p>558 rows × 9 columns</p>\n",
       "</div>"
      ],
      "text/plain": [
       "     NumberOfPregnancies  GlucoseConcentration  BloodPressure  SkinThickness  \\\n",
       "0                      6                   148             72             35   \n",
       "2                      8                   183             64              0   \n",
       "6                      3                    78             50             32   \n",
       "11                    10                   168             74              0   \n",
       "14                     5                   166             72             19   \n",
       "..                   ...                   ...            ...            ...   \n",
       "758                    1                   106             76              0   \n",
       "760                    2                    88             58             26   \n",
       "764                    2                   122             70             27   \n",
       "765                    5                   121             72             23   \n",
       "767                    1                    93             70             31   \n",
       "\n",
       "     InsulinLevel  BodyMassIndex  DiabetesPedigree  Age Diabetic  \n",
       "0               0           33.6             0.627   50      Yes  \n",
       "2               0           23.3             0.672   32      Yes  \n",
       "6              88           31.0             0.248   26      Yes  \n",
       "11              0           38.0             0.537   34      Yes  \n",
       "14            175           25.8             0.587   51      Yes  \n",
       "..            ...            ...               ...  ...      ...  \n",
       "758             0           37.5             0.197   26       No  \n",
       "760            16           28.4             0.766   22       No  \n",
       "764             0           36.8             0.340   27       No  \n",
       "765           112           26.2             0.245   30       No  \n",
       "767             0           30.4             0.315   23       No  \n",
       "\n",
       "[558 rows x 9 columns]"
      ]
     },
     "execution_count": 50,
     "metadata": {},
     "output_type": "execute_result"
    }
   ],
   "source": [
    "datasetclean"
   ]
  },
  {
   "cell_type": "markdown",
   "id": "20b6e441",
   "metadata": {},
   "source": [
    "### Checkign the Clean Data"
   ]
  },
  {
   "cell_type": "code",
   "execution_count": 51,
   "id": "4b2db5fb",
   "metadata": {},
   "outputs": [
    {
     "data": {
      "text/plain": [
       "<AxesSubplot:xlabel='Diabetic', ylabel='Age'>"
      ]
     },
     "execution_count": 51,
     "metadata": {},
     "output_type": "execute_result"
    },
    {
     "data": {
      "image/png": "[encoded data removed]",
      "text/plain": [
       "<Figure size 432x288 with 1 Axes>"
      ]
     },
     "metadata": {
      "needs_background": "light"
     },
     "output_type": "display_data"
    }
   ],
   "source": [
    "sb.boxplot(x='Diabetic', y='Age', data=datasetclean)"
   ]
  },
  {
   "cell_type": "markdown",
   "id": "90886ed2",
   "metadata": {},
   "source": [
    "# The cost of Removing Outliers"
   ]
  },
  {
   "cell_type": "code",
   "execution_count": 52,
   "id": "87498a88",
   "metadata": {},
   "outputs": [
    {
     "data": {
      "text/plain": [
       "(558, 9)"
      ]
     },
     "execution_count": 52,
     "metadata": {},
     "output_type": "execute_result"
    }
   ],
   "source": [
    "datasetclean.shape"
   ]
  },
  {
   "cell_type": "code",
   "execution_count": 53,
   "id": "bf074bd0",
   "metadata": {},
   "outputs": [],
   "source": [
    "# Now, we can decide to use the original data:\n",
    "#X = dataset.iloc[:, :-1].values\n",
    "#y = dataset.iloc[:, -1].values\n",
    "\n",
    "# Or, the clean data\n",
    "\n",
    "X = datasetclean.iloc[:, :-1].values\n",
    "y = datasetclean.iloc[:, -1].values"
   ]
  },
  {
   "cell_type": "code",
   "execution_count": 57,
   "id": "23953706",
   "metadata": {},
   "outputs": [],
   "source": [
    "from sklearn.preprocessing import LabelEncoder\n",
    "le = LabelEncoder()\n",
    "y = le.fit_transform(y)"
   ]
  },
  {
   "cell_type": "markdown",
   "id": "c36a0b89",
   "metadata": {},
   "source": [
    "# Splitting the Dataset into the Training set and Test set"
   ]
  },
  {
   "cell_type": "code",
   "execution_count": 58,
   "id": "9e1c7bfb",
   "metadata": {},
   "outputs": [],
   "source": [
    "from sklearn.model_selection import train_test_split\n",
    "X_train, X_test, y_train, y_test = train_test_split(X, y, test_size = 0.2, random_state = 0)"
   ]
  },
  {
   "cell_type": "markdown",
   "id": "665c11ec",
   "metadata": {},
   "source": [
    "# Feature Scaling"
   ]
  },
  {
   "cell_type": "code",
   "execution_count": 59,
   "id": "3ce7b899",
   "metadata": {},
   "outputs": [],
   "source": [
    "from sklearn.preprocessing import StandardScaler\n",
    "sc = StandardScaler()\n",
    "X_train = sc.fit_transform(X_train)\n",
    "X_test = sc.transform(X_test)"
   ]
  },
  {
   "cell_type": "markdown",
   "id": "b3a7a72f",
   "metadata": {},
   "source": [
    "# Building the ANN Model"
   ]
  },
  {
   "cell_type": "markdown",
   "id": "cb6c5ebe",
   "metadata": {},
   "source": [
    "## Initializing the ANN"
   ]
  },
  {
   "cell_type": "code",
   "execution_count": 60,
   "id": "0212d9a9",
   "metadata": {},
   "outputs": [],
   "source": [
    "DModel=tf.keras.models.Sequential()"
   ]
  },
  {
   "cell_type": "markdown",
   "id": "e876f581",
   "metadata": {},
   "source": [
    "## Adding the Input Layer"
   ]
  },
  {
   "cell_type": "code",
   "execution_count": 61,
   "id": "d7520618",
   "metadata": {},
   "outputs": [],
   "source": [
    "DModel.add(tf.keras.layers.Dense(8,activation='relu'))"
   ]
  },
  {
   "cell_type": "markdown",
   "id": "c112502c",
   "metadata": {},
   "source": [
    "## Adding the First Hidden Layer"
   ]
  },
  {
   "cell_type": "code",
   "execution_count": 62,
   "id": "84274013",
   "metadata": {},
   "outputs": [],
   "source": [
    "DModel.add(tf.keras.layers.Dense(16,activation='relu'))"
   ]
  },
  {
   "cell_type": "markdown",
   "id": "24c038fb",
   "metadata": {},
   "source": [
    "## Adding the Second, Third, ... Hidden Layers"
   ]
  },
  {
   "cell_type": "code",
   "execution_count": 63,
   "id": "84483568",
   "metadata": {},
   "outputs": [],
   "source": [
    "# We only add extra layers if we need to, in order to increase the accuracy;\n",
    "# we just need to repeat the same line of code, maybe with different or same \n",
    "# number of nodes.\n",
    "\n",
    "#DModel.add(tf.keras.layers.Dense(8,activation='relu'))"
   ]
  },
  {
   "cell_type": "markdown",
   "id": "29004de9",
   "metadata": {},
   "source": [
    "## Adding the Output Layer"
   ]
  },
  {
   "cell_type": "code",
   "execution_count": 64,
   "id": "ac322a69",
   "metadata": {},
   "outputs": [],
   "source": [
    "DModel.add(tf.keras.layers.Dense(2,activation='softmax'))\n",
    "# Note, you have 3 classes, so, you change this number accordingly.\n",
    "# You may try differnt activation function; like 'softmax' or 'sigmoid'"
   ]
  },
  {
   "cell_type": "markdown",
   "id": "ede7c8fc",
   "metadata": {},
   "source": [
    "## Compiling the ANN"
   ]
  },
  {
   "cell_type": "code",
   "execution_count": 65,
   "id": "efed8042",
   "metadata": {},
   "outputs": [],
   "source": [
    "DModel.compile(optimizer = 'adam', loss = 'sparse_categorical_crossentropy', metrics = ['accuracy'])"
   ]
  },
  {
   "cell_type": "markdown",
   "id": "f2fd490b",
   "metadata": {},
   "source": [
    "<font color=red> Note: <font color=blue> Here you can try two differnt optimizers algorithms, such as : <br>\n",
    "    - 'adam'<br>\n",
    "    - 'sgd' <br>\n",
    "To calculate Error/loss, you may use any criteria, such as: <br>\n",
    "    - 'mean_squared_error'<br>\n",
    "    - 'sparse_categorical_crossentropy'<br>\n",
    "And, for measuring the accuracy, you can use:<br>\n",
    "    - 'accuracy'<br>\n",
    "    \n",
    "Extra things to know:<br>\n",
    "Cross entropy is a loss function, used to measure the dissimilarity between the distribution of observed class labels and the predicted probabilities of class membership.<br> \n",
    "That is the categorical cross entropy. Sparse means that it does use all the possible classes but some of them. This is useful when you have a lot of classes (like 1000) where softmax would be a very slow function to calculate among all of them. So you basically select some of those 1000 classes and apply the categorical cross entropy.<br>\n",
    "    \n",
    "Interested in learning more:<br>\n",
    "Loss and Loss Functions for Training Deep Learning Neural Networks: <br>\n",
    "    https://machinelearningmastery.com/loss-and-loss-functions-for-training-deep-learning-neural-networks/ <br>\n",
    "How to Choose Loss Functions When Training Deep Learning Neural Networks:<br>\n",
    "https://machinelearningmastery.com/how-to-choose-loss-functions-when-training-deep-learning-neural-networks/"
   ]
  },
  {
   "cell_type": "markdown",
   "id": "101742a3",
   "metadata": {},
   "source": [
    "## Training the ANN"
   ]
  },
  {
   "cell_type": "code",
   "execution_count": 66,
   "id": "26fc8c3b",
   "metadata": {},
   "outputs": [
    {
     "name": "stdout",
     "output_type": "stream",
     "text": [
      "Epoch 1/100\n",
      "14/14 [==============================] - 0s 1ms/step - loss: 0.6693 - accuracy: 0.5964\n",
      "Epoch 2/100\n",
      "14/14 [==============================] - 0s 1ms/step - loss: 0.6137 - accuracy: 0.6861\n",
      "Epoch 3/100\n",
      "14/14 [==============================] - 0s 1ms/step - loss: 0.5724 - accuracy: 0.7265\n",
      "Epoch 4/100\n",
      "14/14 [==============================] - 0s 1ms/step - loss: 0.5420 - accuracy: 0.7556\n",
      "Epoch 5/100\n",
      "14/14 [==============================] - 0s 1ms/step - loss: 0.5150 - accuracy: 0.7735\n",
      "Epoch 6/100\n",
      "14/14 [==============================] - 0s 1ms/step - loss: 0.4930 - accuracy: 0.7870\n",
      "Epoch 7/100\n",
      "14/14 [==============================] - 0s 1ms/step - loss: 0.4743 - accuracy: 0.7915\n",
      "Epoch 8/100\n",
      "14/14 [==============================] - 0s 1ms/step - loss: 0.4584 - accuracy: 0.7960\n",
      "Epoch 9/100\n",
      "14/14 [==============================] - 0s 1ms/step - loss: 0.4455 - accuracy: 0.8049\n",
      "Epoch 10/100\n",
      "14/14 [==============================] - 0s 1ms/step - loss: 0.4352 - accuracy: 0.8117\n",
      "Epoch 11/100\n",
      "14/14 [==============================] - 0s 1ms/step - loss: 0.4261 - accuracy: 0.8184\n",
      "Epoch 12/100\n",
      "14/14 [==============================] - 0s 1ms/step - loss: 0.4184 - accuracy: 0.8229\n",
      "Epoch 13/100\n",
      "14/14 [==============================] - 0s 1ms/step - loss: 0.4123 - accuracy: 0.8206\n",
      "Epoch 14/100\n",
      "14/14 [==============================] - 0s 1ms/step - loss: 0.4064 - accuracy: 0.8229\n",
      "Epoch 15/100\n",
      "14/14 [==============================] - 0s 1ms/step - loss: 0.4016 - accuracy: 0.8318\n",
      "Epoch 16/100\n",
      "14/14 [==============================] - 0s 1ms/step - loss: 0.3961 - accuracy: 0.8318\n",
      "Epoch 17/100\n",
      "14/14 [==============================] - 0s 1ms/step - loss: 0.3918 - accuracy: 0.8341\n",
      "Epoch 18/100\n",
      "14/14 [==============================] - 0s 1ms/step - loss: 0.3880 - accuracy: 0.8363\n",
      "Epoch 19/100\n",
      "14/14 [==============================] - 0s 1ms/step - loss: 0.3840 - accuracy: 0.8363\n",
      "Epoch 20/100\n",
      "14/14 [==============================] - 0s 1ms/step - loss: 0.3804 - accuracy: 0.8386\n",
      "Epoch 21/100\n",
      "14/14 [==============================] - 0s 1ms/step - loss: 0.3769 - accuracy: 0.8341\n",
      "Epoch 22/100\n",
      "14/14 [==============================] - 0s 1ms/step - loss: 0.3740 - accuracy: 0.8341\n",
      "Epoch 23/100\n",
      "14/14 [==============================] - 0s 1ms/step - loss: 0.3717 - accuracy: 0.8341\n",
      "Epoch 24/100\n",
      "14/14 [==============================] - 0s 1ms/step - loss: 0.3684 - accuracy: 0.8386\n",
      "Epoch 25/100\n",
      "14/14 [==============================] - 0s 1ms/step - loss: 0.3659 - accuracy: 0.8363\n",
      "Epoch 26/100\n",
      "14/14 [==============================] - 0s 1ms/step - loss: 0.3639 - accuracy: 0.8386\n",
      "Epoch 27/100\n",
      "14/14 [==============================] - 0s 1ms/step - loss: 0.3619 - accuracy: 0.8386\n",
      "Epoch 28/100\n",
      "14/14 [==============================] - 0s 1ms/step - loss: 0.3607 - accuracy: 0.8408\n",
      "Epoch 29/100\n",
      "14/14 [==============================] - 0s 1ms/step - loss: 0.3583 - accuracy: 0.8453\n",
      "Epoch 30/100\n",
      "14/14 [==============================] - 0s 1ms/step - loss: 0.3565 - accuracy: 0.8498\n",
      "Epoch 31/100\n",
      "14/14 [==============================] - 0s 1ms/step - loss: 0.3551 - accuracy: 0.8498\n",
      "Epoch 32/100\n",
      "14/14 [==============================] - 0s 1ms/step - loss: 0.3541 - accuracy: 0.8520\n",
      "Epoch 33/100\n",
      "14/14 [==============================] - 0s 1ms/step - loss: 0.3524 - accuracy: 0.8520\n",
      "Epoch 34/100\n",
      "14/14 [==============================] - 0s 1ms/step - loss: 0.3513 - accuracy: 0.8475\n",
      "Epoch 35/100\n",
      "14/14 [==============================] - 0s 1ms/step - loss: 0.3504 - accuracy: 0.8520\n",
      "Epoch 36/100\n",
      "14/14 [==============================] - 0s 1ms/step - loss: 0.3498 - accuracy: 0.8475\n",
      "Epoch 37/100\n",
      "14/14 [==============================] - 0s 1ms/step - loss: 0.3483 - accuracy: 0.8475\n",
      "Epoch 38/100\n",
      "14/14 [==============================] - 0s 1ms/step - loss: 0.3468 - accuracy: 0.8498\n",
      "Epoch 39/100\n",
      "14/14 [==============================] - 0s 1ms/step - loss: 0.3455 - accuracy: 0.8520\n",
      "Epoch 40/100\n",
      "14/14 [==============================] - 0s 1ms/step - loss: 0.3448 - accuracy: 0.8498\n",
      "Epoch 41/100\n",
      "14/14 [==============================] - 0s 1ms/step - loss: 0.3440 - accuracy: 0.8475\n",
      "Epoch 42/100\n",
      "14/14 [==============================] - 0s 1ms/step - loss: 0.3432 - accuracy: 0.8498\n",
      "Epoch 43/100\n",
      "14/14 [==============================] - 0s 1ms/step - loss: 0.3426 - accuracy: 0.8498\n",
      "Epoch 44/100\n",
      "14/14 [==============================] - 0s 1ms/step - loss: 0.3414 - accuracy: 0.8520\n",
      "Epoch 45/100\n",
      "14/14 [==============================] - 0s 1ms/step - loss: 0.3407 - accuracy: 0.8520\n",
      "Epoch 46/100\n",
      "14/14 [==============================] - 0s 1ms/step - loss: 0.3393 - accuracy: 0.8543\n",
      "Epoch 47/100\n",
      "14/14 [==============================] - 0s 1ms/step - loss: 0.3386 - accuracy: 0.8543\n",
      "Epoch 48/100\n",
      "14/14 [==============================] - 0s 1ms/step - loss: 0.3379 - accuracy: 0.8498\n",
      "Epoch 49/100\n",
      "14/14 [==============================] - 0s 1ms/step - loss: 0.3374 - accuracy: 0.8543\n",
      "Epoch 50/100\n",
      "14/14 [==============================] - 0s 1ms/step - loss: 0.3364 - accuracy: 0.8498\n",
      "Epoch 51/100\n",
      "14/14 [==============================] - 0s 1ms/step - loss: 0.3360 - accuracy: 0.8520\n",
      "Epoch 52/100\n",
      "14/14 [==============================] - 0s 1ms/step - loss: 0.3349 - accuracy: 0.8543\n",
      "Epoch 53/100\n",
      "14/14 [==============================] - 0s 1ms/step - loss: 0.3345 - accuracy: 0.8565\n",
      "Epoch 54/100\n",
      "14/14 [==============================] - 0s 1ms/step - loss: 0.3338 - accuracy: 0.8565\n",
      "Epoch 55/100\n",
      "14/14 [==============================] - 0s 1ms/step - loss: 0.3338 - accuracy: 0.8565\n",
      "Epoch 56/100\n",
      "14/14 [==============================] - 0s 1ms/step - loss: 0.3328 - accuracy: 0.8610\n",
      "Epoch 57/100\n",
      "14/14 [==============================] - 0s 1ms/step - loss: 0.3317 - accuracy: 0.8610\n",
      "Epoch 58/100\n",
      "14/14 [==============================] - 0s 1ms/step - loss: 0.3320 - accuracy: 0.8610\n",
      "Epoch 59/100\n",
      "14/14 [==============================] - 0s 1ms/step - loss: 0.3306 - accuracy: 0.8587\n",
      "Epoch 60/100\n",
      "14/14 [==============================] - 0s 1ms/step - loss: 0.3303 - accuracy: 0.8610\n",
      "Epoch 61/100\n",
      "14/14 [==============================] - 0s 1ms/step - loss: 0.3295 - accuracy: 0.8632\n",
      "Epoch 62/100\n",
      "14/14 [==============================] - 0s 1ms/step - loss: 0.3289 - accuracy: 0.8610\n",
      "Epoch 63/100\n",
      "14/14 [==============================] - 0s 1ms/step - loss: 0.3283 - accuracy: 0.8632\n",
      "Epoch 64/100\n",
      "14/14 [==============================] - 0s 1ms/step - loss: 0.3276 - accuracy: 0.8632\n",
      "Epoch 65/100\n",
      "14/14 [==============================] - 0s 1ms/step - loss: 0.3272 - accuracy: 0.8655\n",
      "Epoch 66/100\n",
      "14/14 [==============================] - 0s 1ms/step - loss: 0.3271 - accuracy: 0.8655\n",
      "Epoch 67/100\n",
      "14/14 [==============================] - 0s 1ms/step - loss: 0.3260 - accuracy: 0.8655\n",
      "Epoch 68/100\n",
      "14/14 [==============================] - 0s 1ms/step - loss: 0.3255 - accuracy: 0.8632\n",
      "Epoch 69/100\n",
      "14/14 [==============================] - 0s 1ms/step - loss: 0.3253 - accuracy: 0.8632\n",
      "Epoch 70/100\n",
      "14/14 [==============================] - 0s 1ms/step - loss: 0.3254 - accuracy: 0.8677\n",
      "Epoch 71/100\n",
      "14/14 [==============================] - 0s 1ms/step - loss: 0.3242 - accuracy: 0.8655\n",
      "Epoch 72/100\n",
      "14/14 [==============================] - 0s 1ms/step - loss: 0.3235 - accuracy: 0.8677\n",
      "Epoch 73/100\n",
      "14/14 [==============================] - 0s 1ms/step - loss: 0.3234 - accuracy: 0.8655\n",
      "Epoch 74/100\n",
      "14/14 [==============================] - 0s 1ms/step - loss: 0.3229 - accuracy: 0.8655\n",
      "Epoch 75/100\n",
      "14/14 [==============================] - 0s 1ms/step - loss: 0.3222 - accuracy: 0.8655\n",
      "Epoch 76/100\n",
      "14/14 [==============================] - 0s 1ms/step - loss: 0.3221 - accuracy: 0.8655\n",
      "Epoch 77/100\n",
      "14/14 [==============================] - 0s 1ms/step - loss: 0.3214 - accuracy: 0.8655\n",
      "Epoch 78/100\n",
      "14/14 [==============================] - 0s 1ms/step - loss: 0.3211 - accuracy: 0.8655\n",
      "Epoch 79/100\n",
      "14/14 [==============================] - 0s 1ms/step - loss: 0.3206 - accuracy: 0.8655\n",
      "Epoch 80/100\n",
      "14/14 [==============================] - 0s 1ms/step - loss: 0.3199 - accuracy: 0.8677\n",
      "Epoch 81/100\n",
      "14/14 [==============================] - 0s 1ms/step - loss: 0.3204 - accuracy: 0.8655\n",
      "Epoch 82/100\n",
      "14/14 [==============================] - 0s 1ms/step - loss: 0.3193 - accuracy: 0.8632\n",
      "Epoch 83/100\n"
     ]
    },
    {
     "name": "stdout",
     "output_type": "stream",
     "text": [
      "14/14 [==============================] - 0s 1ms/step - loss: 0.3189 - accuracy: 0.8700\n",
      "Epoch 84/100\n",
      "14/14 [==============================] - 0s 1ms/step - loss: 0.3183 - accuracy: 0.8632\n",
      "Epoch 85/100\n",
      "14/14 [==============================] - 0s 1ms/step - loss: 0.3183 - accuracy: 0.8632\n",
      "Epoch 86/100\n",
      "14/14 [==============================] - 0s 1ms/step - loss: 0.3175 - accuracy: 0.8655\n",
      "Epoch 87/100\n",
      "14/14 [==============================] - 0s 1ms/step - loss: 0.3170 - accuracy: 0.8677\n",
      "Epoch 88/100\n",
      "14/14 [==============================] - 0s 1ms/step - loss: 0.3166 - accuracy: 0.8677\n",
      "Epoch 89/100\n",
      "14/14 [==============================] - 0s 1ms/step - loss: 0.3165 - accuracy: 0.8677\n",
      "Epoch 90/100\n",
      "14/14 [==============================] - 0s 1ms/step - loss: 0.3159 - accuracy: 0.8677\n",
      "Epoch 91/100\n",
      "14/14 [==============================] - 0s 1ms/step - loss: 0.3158 - accuracy: 0.8655\n",
      "Epoch 92/100\n",
      "14/14 [==============================] - 0s 1ms/step - loss: 0.3153 - accuracy: 0.8677\n",
      "Epoch 93/100\n",
      "14/14 [==============================] - 0s 1ms/step - loss: 0.3149 - accuracy: 0.8677\n",
      "Epoch 94/100\n",
      "14/14 [==============================] - 0s 1ms/step - loss: 0.3143 - accuracy: 0.8677\n",
      "Epoch 95/100\n",
      "14/14 [==============================] - 0s 1ms/step - loss: 0.3140 - accuracy: 0.8677\n",
      "Epoch 96/100\n",
      "14/14 [==============================] - 0s 1ms/step - loss: 0.3137 - accuracy: 0.8677\n",
      "Epoch 97/100\n",
      "14/14 [==============================] - 0s 1ms/step - loss: 0.3138 - accuracy: 0.8700\n",
      "Epoch 98/100\n",
      "14/14 [==============================] - 0s 1ms/step - loss: 0.3127 - accuracy: 0.8655\n",
      "Epoch 99/100\n",
      "14/14 [==============================] - 0s 1ms/step - loss: 0.3123 - accuracy: 0.8677\n",
      "Epoch 100/100\n",
      "14/14 [==============================] - 0s 1ms/step - loss: 0.3122 - accuracy: 0.8677\n"
     ]
    },
    {
     "data": {
      "text/plain": [
       "<keras.callbacks.History at 0x27990dbf1c0>"
      ]
     },
     "execution_count": 66,
     "metadata": {},
     "output_type": "execute_result"
    }
   ],
   "source": [
    "DModel.fit(X_train, y_train, batch_size = 32, epochs = 100)"
   ]
  },
  {
   "cell_type": "markdown",
   "id": "11b6e48f",
   "metadata": {},
   "source": [
    "## Evaluating the Model"
   ]
  },
  {
   "cell_type": "markdown",
   "id": "e051f0ad",
   "metadata": {},
   "source": [
    "### Checking with a few data"
   ]
  },
  {
   "cell_type": "code",
   "execution_count": 67,
   "id": "e6a80e14",
   "metadata": {},
   "outputs": [
    {
     "name": "stdout",
     "output_type": "stream",
     "text": [
      "4/4 [==============================] - 0s 999us/step\n",
      "The probability of this person become diabetic is 30.333024263381958 %\n",
      "The actual result 1\n"
     ]
    }
   ],
   "source": [
    "y_pred = DModel.predict(X_test)\n",
    "\n",
    "# let's just do some quick checking: \n",
    "print(\"The probability of this person become diabetic is\", 100*y_pred[43, 1], '%') # the first value in y_pred gives the probabilty\n",
    "# of not having diabities and the second value (y_pred[43, 1]) gives the probabilty of having diabities. \n",
    "\n",
    "print(\"The actual result\", y_test[43])\n",
    "\n",
    "# Recall, Actual Classes are: 0 (Healthy), 1 (Diabetic)"
   ]
  },
  {
   "cell_type": "markdown",
   "id": "4e6f0146",
   "metadata": {},
   "source": [
    "### Use built in function"
   ]
  },
  {
   "cell_type": "code",
   "execution_count": 68,
   "id": "e52c7d07",
   "metadata": {},
   "outputs": [
    {
     "name": "stdout",
     "output_type": "stream",
     "text": [
      "4/4 [==============================] - 0s 2ms/step - loss: 0.3322 - accuracy: 0.8214\n"
     ]
    },
    {
     "data": {
      "text/plain": [
       "[0.332180917263031, 0.8214285969734192]"
      ]
     },
     "execution_count": 68,
     "metadata": {},
     "output_type": "execute_result"
    }
   ],
   "source": [
    "DModel.evaluate(X_test,y_test)"
   ]
  },
  {
   "cell_type": "markdown",
   "id": "3f8fc1f6",
   "metadata": {},
   "source": [
    "### Calculate Confusion Matrix"
   ]
  },
  {
   "cell_type": "code",
   "execution_count": 69,
   "id": "1133c71e",
   "metadata": {},
   "outputs": [],
   "source": [
    "# First you need to turn the values of probabilty to 0 & 1.\n",
    "y_predict=[]\n",
    "for value in y_pred[:,0]:\n",
    "    if value>0.5:\n",
    "        y_predict.append(0)\n",
    "    else:\n",
    "        y_predict.append(1)"
   ]
  },
  {
   "cell_type": "code",
   "execution_count": 70,
   "id": "746e2b6b",
   "metadata": {},
   "outputs": [],
   "source": [
    "#y_predict"
   ]
  },
  {
   "cell_type": "code",
   "execution_count": 71,
   "id": "fdf272b7",
   "metadata": {},
   "outputs": [
    {
     "name": "stdout",
     "output_type": "stream",
     "text": [
      "[[65  8]\n",
      " [12 27]]\n",
      "Your Model Accuracy is= 82.14285714285714 %\n"
     ]
    }
   ],
   "source": [
    "from sklearn.metrics import confusion_matrix, accuracy_score\n",
    "cm = confusion_matrix(y_test, y_predict)\n",
    "print(cm)\n",
    "print(\"Your Model Accuracy is=\", accuracy_score(y_test, y_predict)*100, \"%\")"
   ]
  },
  {
   "cell_type": "markdown",
   "id": "c5741b15",
   "metadata": {},
   "source": [
    "### History of Accuracy and Loss"
   ]
  },
  {
   "cell_type": "code",
   "execution_count": 72,
   "id": "911ebad0",
   "metadata": {},
   "outputs": [],
   "source": [
    "HistoryTrainTest=DModel.fit(X, y, validation_split=0.2, epochs=100, batch_size=32, verbose=0)"
   ]
  },
  {
   "cell_type": "code",
   "execution_count": 73,
   "id": "3e350add",
   "metadata": {},
   "outputs": [
    {
     "name": "stdout",
     "output_type": "stream",
     "text": [
      "dict_keys(['loss', 'accuracy', 'val_loss', 'val_accuracy'])\n"
     ]
    }
   ],
   "source": [
    "print(HistoryTrainTest.history.keys())"
   ]
  },
  {
   "cell_type": "code",
   "execution_count": 74,
   "id": "9feee41e",
   "metadata": {},
   "outputs": [
    {
     "data": {
      "image/png": "[encoded data removed]",
      "text/plain": [
       "<Figure size 432x288 with 1 Axes>"
      ]
     },
     "metadata": {
      "needs_background": "light"
     },
     "output_type": "display_data"
    },
    {
     "data": {
      "image/png": "[encoded data removed]",
      "text/plain": [
       "<Figure size 432x288 with 1 Axes>"
      ]
     },
     "metadata": {
      "needs_background": "light"
     },
     "output_type": "display_data"
    }
   ],
   "source": [
    "plt.plot(HistoryTrainTest.history['accuracy'])\n",
    "plt.plot(HistoryTrainTest.history['val_accuracy'])\n",
    "plt.title('model accuracy')\n",
    "plt.ylabel('accuracy')\n",
    "plt.xlabel('epoch')\n",
    "plt.legend(['train', 'test'], loc='upper left')\n",
    "plt.show()\n",
    "# summarize history for loss\n",
    "plt.plot(HistoryTrainTest.history['loss'])\n",
    "plt.plot(HistoryTrainTest.history['val_loss'])\n",
    "plt.title('model loss')\n",
    "plt.ylabel('loss')\n",
    "plt.xlabel('epoch')\n",
    "plt.legend(['train', 'test'], loc='upper left')\n",
    "plt.show()"
   ]
  },
  {
   "cell_type": "markdown",
   "id": "e1f87b01",
   "metadata": {},
   "source": [
    "# Use the Model for a New Person"
   ]
  },
  {
   "cell_type": "code",
   "execution_count": 75,
   "id": "aa421e5c",
   "metadata": {},
   "outputs": [
    {
     "name": "stdout",
     "output_type": "stream",
     "text": [
      "1/1 [==============================] - 0s 24ms/step\n"
     ]
    }
   ],
   "source": [
    "# Let's say, a new person go to a clinic, they do her medical measurements, and here is the prediction by the model, whether \n",
    "# she is at onset of dibetes or okay! \n",
    "NewPersonMedicalTest=[[0,118,84,47,230,45.8,0.551,31]]\n",
    "PredictHealth=DModel.predict(sc.transform(NewPersonMedicalTest))"
   ]
  },
  {
   "cell_type": "code",
   "execution_count": 76,
   "id": "6a9a8004",
   "metadata": {},
   "outputs": [
    {
     "data": {
      "text/plain": [
       "array([[0.9726523 , 0.02734762]], dtype=float32)"
      ]
     },
     "execution_count": 76,
     "metadata": {},
     "output_type": "execute_result"
    }
   ],
   "source": [
    "PredictHealth # [Probability of Healthy, Probability of Diabetic]"
   ]
  },
  {
   "cell_type": "code",
   "execution_count": 77,
   "id": "d6803a24",
   "metadata": {},
   "outputs": [
    {
     "name": "stdout",
     "output_type": "stream",
     "text": [
      "Congratulation, You are healthy! But Don't think it is forever, Try to stay healthy!\n"
     ]
    }
   ],
   "source": [
    "# Let's make the code nicer, and easier for a person to understand \n",
    "if PredictHealth[:,0]>0.5:\n",
    "    print(\"Congratulation, You are healthy! But Don't think it is forever, Try to stay healthy!\")\n",
    "else:\n",
    "    print(\"Sorry, you will become diabetic; but don't lose hope, eat healthy and excersie!\")"
   ]
  },
  {
   "cell_type": "markdown",
   "id": "6c60a22e",
   "metadata": {},
   "source": [
    "##### End"
   ]
  }
 ],
 "metadata": {
  "kernelspec": {
   "display_name": "Python 3",
   "language": "python",
   "name": "python3"
  },
  "language_info": {
   "codemirror_mode": {
    "name": "ipython",
    "version": 3
   },
   "file_extension": ".py",
   "mimetype": "text/x-python",
   "name": "python",
   "nbconvert_exporter": "python",
   "pygments_lexer": "ipython3",
   "version": "3.8.8"
  },
  "toc": {
   "base_numbering": 1,
   "nav_menu": {},
   "number_sections": true,
   "sideBar": true,
   "skip_h1_title": false,
   "title_cell": "Table of Contents",
   "title_sidebar": "Contents",
   "toc_cell": false,
   "toc_position": {},
   "toc_section_display": true,
   "toc_window_display": true
  }
 },
 "nbformat": 4,
 "nbformat_minor": 5
}

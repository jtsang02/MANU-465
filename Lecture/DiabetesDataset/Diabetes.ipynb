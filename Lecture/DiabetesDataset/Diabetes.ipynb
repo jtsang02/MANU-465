{
 "cells": [
  {
   "cell_type": "markdown",
   "id": "a2820c38",
   "metadata": {},
   "source": [
    "# Diabetes Database\n",
    "Goal: Predict if a person will get diabetes based on diagnostic measures\n",
    "The datasets consists of several medical predictor variables and one Outcome (Yes or No diabetes). Predictor variables includes the number of pregnancies the patient has had, their Body Mass Index, insulin and glucose level, blood pressure,Diabetes Pedigree (likelihood of diabetes based on family history), age, and so on.\n",
    "\n",
    "Source: https://www.kaggle.com/datasets/uciml/pima-indians-diabetes-database\n",
    "\n",
    "<img src='Diabetes.jpeg' width=400 height=400/></a>\n"
   ]
  },
  {
   "cell_type": "markdown",
   "id": "93c13c73",
   "metadata": {},
   "source": [
    "# Libraries"
   ]
  },
  {
   "cell_type": "code",
   "execution_count": 1,
   "id": "5c4bb7fe",
   "metadata": {},
   "outputs": [],
   "source": [
    "import numpy as np\n",
    "import pandas as pd\n",
    "import seaborn as sb\n",
    "import matplotlib.pyplot as plt\n",
    "\n",
    "# You can import TensorFlow, then call the Module Keras from it, whenever you need by tf.keras\n",
    "\n",
    "import tensorflow as tf\n",
    "\n",
    "# Or, just import keras:\n",
    "# from tensorflow import keras"
   ]
  },
  {
   "cell_type": "markdown",
   "id": "0126500b",
   "metadata": {},
   "source": [
    "# Data"
   ]
  },
  {
   "cell_type": "code",
   "execution_count": 2,
   "id": "4489d706",
   "metadata": {},
   "outputs": [],
   "source": [
    "dataset = pd.read_csv('DiabeticData.csv')\n",
    "X = dataset.iloc[:, :-1].values\n",
    "y = dataset.iloc[:, -1].values"
   ]
  },
  {
   "cell_type": "code",
   "execution_count": 3,
   "id": "c2c22221",
   "metadata": {},
   "outputs": [
    {
     "data": {
      "text/html": [
       "<div>\n",
       "<style scoped>\n",
       "    .dataframe tbody tr th:only-of-type {\n",
       "        vertical-align: middle;\n",
       "    }\n",
       "\n",
       "    .dataframe tbody tr th {\n",
       "        vertical-align: top;\n",
       "    }\n",
       "\n",
       "    .dataframe thead th {\n",
       "        text-align: right;\n",
       "    }\n",
       "</style>\n",
       "<table border=\"1\" class=\"dataframe\">\n",
       "  <thead>\n",
       "    <tr style=\"text-align: right;\">\n",
       "      <th></th>\n",
       "      <th>NumberOfPregnancies</th>\n",
       "      <th>GlucoseConcentration</th>\n",
       "      <th>BloodPressure</th>\n",
       "      <th>SkinThickness</th>\n",
       "      <th>InsulinLevel</th>\n",
       "      <th>BodyMassIndex</th>\n",
       "      <th>DiabetesPedigree</th>\n",
       "      <th>Age</th>\n",
       "      <th>Diabetic</th>\n",
       "    </tr>\n",
       "  </thead>\n",
       "  <tbody>\n",
       "    <tr>\n",
       "      <th>0</th>\n",
       "      <td>6</td>\n",
       "      <td>148</td>\n",
       "      <td>72</td>\n",
       "      <td>35</td>\n",
       "      <td>0</td>\n",
       "      <td>33.6</td>\n",
       "      <td>0.627</td>\n",
       "      <td>50</td>\n",
       "      <td>Yes</td>\n",
       "    </tr>\n",
       "    <tr>\n",
       "      <th>1</th>\n",
       "      <td>1</td>\n",
       "      <td>85</td>\n",
       "      <td>66</td>\n",
       "      <td>29</td>\n",
       "      <td>0</td>\n",
       "      <td>26.6</td>\n",
       "      <td>0.351</td>\n",
       "      <td>31</td>\n",
       "      <td>No</td>\n",
       "    </tr>\n",
       "    <tr>\n",
       "      <th>2</th>\n",
       "      <td>8</td>\n",
       "      <td>183</td>\n",
       "      <td>64</td>\n",
       "      <td>0</td>\n",
       "      <td>0</td>\n",
       "      <td>23.3</td>\n",
       "      <td>0.672</td>\n",
       "      <td>32</td>\n",
       "      <td>Yes</td>\n",
       "    </tr>\n",
       "    <tr>\n",
       "      <th>3</th>\n",
       "      <td>1</td>\n",
       "      <td>89</td>\n",
       "      <td>66</td>\n",
       "      <td>23</td>\n",
       "      <td>94</td>\n",
       "      <td>28.1</td>\n",
       "      <td>0.167</td>\n",
       "      <td>21</td>\n",
       "      <td>No</td>\n",
       "    </tr>\n",
       "    <tr>\n",
       "      <th>4</th>\n",
       "      <td>0</td>\n",
       "      <td>137</td>\n",
       "      <td>40</td>\n",
       "      <td>35</td>\n",
       "      <td>168</td>\n",
       "      <td>43.1</td>\n",
       "      <td>2.288</td>\n",
       "      <td>33</td>\n",
       "      <td>Yes</td>\n",
       "    </tr>\n",
       "  </tbody>\n",
       "</table>\n",
       "</div>"
      ],
      "text/plain": [
       "   NumberOfPregnancies  GlucoseConcentration  BloodPressure  SkinThickness  \\\n",
       "0                    6                   148             72             35   \n",
       "1                    1                    85             66             29   \n",
       "2                    8                   183             64              0   \n",
       "3                    1                    89             66             23   \n",
       "4                    0                   137             40             35   \n",
       "\n",
       "   InsulinLevel  BodyMassIndex  DiabetesPedigree  Age Diabetic  \n",
       "0             0           33.6             0.627   50      Yes  \n",
       "1             0           26.6             0.351   31       No  \n",
       "2             0           23.3             0.672   32      Yes  \n",
       "3            94           28.1             0.167   21       No  \n",
       "4           168           43.1             2.288   33      Yes  "
      ]
     },
     "execution_count": 3,
     "metadata": {},
     "output_type": "execute_result"
    }
   ],
   "source": [
    "dataset.head()"
   ]
  },
  {
   "cell_type": "code",
   "execution_count": 4,
   "id": "3b57e1b3",
   "metadata": {},
   "outputs": [],
   "source": [
    "#pd.DataFrame(X)\n",
    "#pd.DataFrame(y)"
   ]
  },
  {
   "cell_type": "markdown",
   "id": "b084fe03",
   "metadata": {},
   "source": [
    "# Encoding the Output Data"
   ]
  },
  {
   "cell_type": "code",
   "execution_count": 5,
   "id": "89c76a7b",
   "metadata": {},
   "outputs": [],
   "source": [
    "from sklearn.preprocessing import LabelEncoder\n",
    "le = LabelEncoder()\n",
    "y = le.fit_transform(y)"
   ]
  },
  {
   "cell_type": "markdown",
   "id": "c36a0b89",
   "metadata": {},
   "source": [
    "# Splitting the Dataset into the Training set and Test set"
   ]
  },
  {
   "cell_type": "code",
   "execution_count": 6,
   "id": "9e1c7bfb",
   "metadata": {},
   "outputs": [],
   "source": [
    "from sklearn.model_selection import train_test_split\n",
    "X_train, X_test, y_train, y_test = train_test_split(X, y, test_size = 0.2, random_state = 0)"
   ]
  },
  {
   "cell_type": "markdown",
   "id": "665c11ec",
   "metadata": {},
   "source": [
    "# Feature Scaling"
   ]
  },
  {
   "cell_type": "code",
   "execution_count": 7,
   "id": "3ce7b899",
   "metadata": {},
   "outputs": [],
   "source": [
    "from sklearn.preprocessing import StandardScaler\n",
    "sc = StandardScaler()\n",
    "X_train = sc.fit_transform(X_train)\n",
    "X_test = sc.transform(X_test)"
   ]
  },
  {
   "cell_type": "markdown",
   "id": "b3a7a72f",
   "metadata": {},
   "source": [
    "# Building the ANN Model"
   ]
  },
  {
   "cell_type": "markdown",
   "id": "cb6c5ebe",
   "metadata": {},
   "source": [
    "## Initializing the ANN"
   ]
  },
  {
   "cell_type": "code",
   "execution_count": 8,
   "id": "0212d9a9",
   "metadata": {},
   "outputs": [],
   "source": [
    "DModel=tf.keras.models.Sequential()"
   ]
  },
  {
   "cell_type": "markdown",
   "id": "e876f581",
   "metadata": {},
   "source": [
    "## Adding the Input Layer"
   ]
  },
  {
   "cell_type": "code",
   "execution_count": 9,
   "id": "d7520618",
   "metadata": {},
   "outputs": [],
   "source": [
    "DModel.add(tf.keras.layers.Dense(8,activation='relu'))"
   ]
  },
  {
   "cell_type": "markdown",
   "id": "c112502c",
   "metadata": {},
   "source": [
    "## Adding the First Hidden Layer"
   ]
  },
  {
   "cell_type": "code",
   "execution_count": 10,
   "id": "84274013",
   "metadata": {},
   "outputs": [],
   "source": [
    "DModel.add(tf.keras.layers.Dense(16,activation='relu'))"
   ]
  },
  {
   "cell_type": "markdown",
   "id": "24c038fb",
   "metadata": {},
   "source": [
    "## Adding the Second, Third, ... Hidden Layers"
   ]
  },
  {
   "cell_type": "code",
   "execution_count": 11,
   "id": "84483568",
   "metadata": {},
   "outputs": [],
   "source": [
    "# We only add extra layers if we need to, in order to increase the accuracy;\n",
    "# we just need to repeat the same line of code, maybe with different or same \n",
    "# number of nodes.\n",
    "\n",
    "#DModel.add(tf.keras.layers.Dense(8,activation='relu'))"
   ]
  },
  {
   "cell_type": "markdown",
   "id": "29004de9",
   "metadata": {},
   "source": [
    "## Adding the Output Layer"
   ]
  },
  {
   "cell_type": "code",
   "execution_count": 12,
   "id": "ac322a69",
   "metadata": {},
   "outputs": [],
   "source": [
    "DModel.add(tf.keras.layers.Dense(2,activation='softmax'))\n",
    "# Note, you have 3 classes, so, you change this number accordingly.\n",
    "# You may try differnt activation function; like 'softmax' or 'sigmoid'"
   ]
  },
  {
   "cell_type": "markdown",
   "id": "ede7c8fc",
   "metadata": {},
   "source": [
    "## Compiling the ANN"
   ]
  },
  {
   "cell_type": "code",
   "execution_count": 13,
   "id": "efed8042",
   "metadata": {},
   "outputs": [],
   "source": [
    "DModel.compile(optimizer = 'adam', loss = 'sparse_categorical_crossentropy', metrics = ['accuracy'])"
   ]
  },
  {
   "cell_type": "markdown",
   "id": "f2fd490b",
   "metadata": {},
   "source": [
    "<font color=red> Note: <font color=blue> Here you can try two differnt optimizers algorithms, such as : <br>\n",
    "    - 'adam'<br>\n",
    "    - 'sgd' <br>\n",
    "To calculate Error/loss, you may use any criteria, such as: <br>\n",
    "    - 'mean_squared_error'<br>\n",
    "    - 'sparse_categorical_crossentropy'<br>\n",
    "And, for measuring the accuracy, you can use:<br>\n",
    "    - 'accuracy'<br>\n",
    "    \n",
    "Extra things to know:<br>\n",
    "Cross entropy is a loss function, used to measure the dissimilarity between the distribution of observed class labels and the predicted probabilities of class membership.<br> \n",
    "That is the categorical cross entropy. Sparse means that it does use all the possible classes but some of them. This is useful when you have a lot of classes (like 1000) where softmax would be a very slow function to calculate among all of them. So you basically select some of those 1000 classes and apply the categorical cross entropy.<br>\n",
    "    \n",
    "Interested in learning more:<br>\n",
    "Loss and Loss Functions for Training Deep Learning Neural Networks: <br>\n",
    "    https://machinelearningmastery.com/loss-and-loss-functions-for-training-deep-learning-neural-networks/ <br>\n",
    "How to Choose Loss Functions When Training Deep Learning Neural Networks:<br>\n",
    "https://machinelearningmastery.com/how-to-choose-loss-functions-when-training-deep-learning-neural-networks/"
   ]
  },
  {
   "cell_type": "markdown",
   "id": "101742a3",
   "metadata": {},
   "source": [
    "## Training the ANN"
   ]
  },
  {
   "cell_type": "code",
   "execution_count": 14,
   "id": "26fc8c3b",
   "metadata": {},
   "outputs": [
    {
     "name": "stdout",
     "output_type": "stream",
     "text": [
      "Epoch 1/100\n",
      "20/20 [==============================] - 0s 1ms/step - loss: 0.6477 - accuracy: 0.6954\n",
      "Epoch 2/100\n",
      "20/20 [==============================] - 0s 1ms/step - loss: 0.6164 - accuracy: 0.7248\n",
      "Epoch 3/100\n",
      "20/20 [==============================] - 0s 1ms/step - loss: 0.5932 - accuracy: 0.7264\n",
      "Epoch 4/100\n",
      "20/20 [==============================] - 0s 1ms/step - loss: 0.5719 - accuracy: 0.7345\n",
      "Epoch 5/100\n",
      "20/20 [==============================] - 0s 1ms/step - loss: 0.5585 - accuracy: 0.7410\n",
      "Epoch 6/100\n",
      "20/20 [==============================] - 0s 1ms/step - loss: 0.5456 - accuracy: 0.7459\n",
      "Epoch 7/100\n",
      "20/20 [==============================] - 0s 1ms/step - loss: 0.5363 - accuracy: 0.7590\n",
      "Epoch 8/100\n",
      "20/20 [==============================] - 0s 1ms/step - loss: 0.5294 - accuracy: 0.7638\n",
      "Epoch 9/100\n",
      "20/20 [==============================] - 0s 1ms/step - loss: 0.5243 - accuracy: 0.7704\n",
      "Epoch 10/100\n",
      "20/20 [==============================] - 0s 1ms/step - loss: 0.5185 - accuracy: 0.7752\n",
      "Epoch 11/100\n",
      "20/20 [==============================] - 0s 1ms/step - loss: 0.5151 - accuracy: 0.7720\n",
      "Epoch 12/100\n",
      "20/20 [==============================] - 0s 1ms/step - loss: 0.5104 - accuracy: 0.7752\n",
      "Epoch 13/100\n",
      "20/20 [==============================] - 0s 1ms/step - loss: 0.5066 - accuracy: 0.7720\n",
      "Epoch 14/100\n",
      "20/20 [==============================] - 0s 1ms/step - loss: 0.5033 - accuracy: 0.7752\n",
      "Epoch 15/100\n",
      "20/20 [==============================] - 0s 1ms/step - loss: 0.5010 - accuracy: 0.7720\n",
      "Epoch 16/100\n",
      "20/20 [==============================] - 0s 1ms/step - loss: 0.4984 - accuracy: 0.7752\n",
      "Epoch 17/100\n",
      "20/20 [==============================] - 0s 1ms/step - loss: 0.4951 - accuracy: 0.7752\n",
      "Epoch 18/100\n",
      "20/20 [==============================] - 0s 1ms/step - loss: 0.4932 - accuracy: 0.7704\n",
      "Epoch 19/100\n",
      "20/20 [==============================] - 0s 1ms/step - loss: 0.4915 - accuracy: 0.7752\n",
      "Epoch 20/100\n",
      "20/20 [==============================] - 0s 1ms/step - loss: 0.4888 - accuracy: 0.7736\n",
      "Epoch 21/100\n",
      "20/20 [==============================] - 0s 1ms/step - loss: 0.4876 - accuracy: 0.7769\n",
      "Epoch 22/100\n",
      "20/20 [==============================] - 0s 1ms/step - loss: 0.4849 - accuracy: 0.7752\n",
      "Epoch 23/100\n",
      "20/20 [==============================] - 0s 1ms/step - loss: 0.4823 - accuracy: 0.7769\n",
      "Epoch 24/100\n",
      "20/20 [==============================] - 0s 1ms/step - loss: 0.4819 - accuracy: 0.7769\n",
      "Epoch 25/100\n",
      "20/20 [==============================] - 0s 1ms/step - loss: 0.4810 - accuracy: 0.7801\n",
      "Epoch 26/100\n",
      "20/20 [==============================] - 0s 1ms/step - loss: 0.4775 - accuracy: 0.7801\n",
      "Epoch 27/100\n",
      "20/20 [==============================] - 0s 1ms/step - loss: 0.4756 - accuracy: 0.7769\n",
      "Epoch 28/100\n",
      "20/20 [==============================] - 0s 1ms/step - loss: 0.4745 - accuracy: 0.7785\n",
      "Epoch 29/100\n",
      "20/20 [==============================] - 0s 1ms/step - loss: 0.4722 - accuracy: 0.7769\n",
      "Epoch 30/100\n",
      "20/20 [==============================] - 0s 1ms/step - loss: 0.4711 - accuracy: 0.7834\n",
      "Epoch 31/100\n",
      "20/20 [==============================] - 0s 1ms/step - loss: 0.4706 - accuracy: 0.7769\n",
      "Epoch 32/100\n",
      "20/20 [==============================] - 0s 1ms/step - loss: 0.4691 - accuracy: 0.7866\n",
      "Epoch 33/100\n",
      "20/20 [==============================] - 0s 1ms/step - loss: 0.4663 - accuracy: 0.7801\n",
      "Epoch 34/100\n",
      "20/20 [==============================] - 0s 1ms/step - loss: 0.4658 - accuracy: 0.7785\n",
      "Epoch 35/100\n",
      "20/20 [==============================] - 0s 1ms/step - loss: 0.4635 - accuracy: 0.7785\n",
      "Epoch 36/100\n",
      "20/20 [==============================] - 0s 1ms/step - loss: 0.4628 - accuracy: 0.7818\n",
      "Epoch 37/100\n",
      "20/20 [==============================] - 0s 1ms/step - loss: 0.4613 - accuracy: 0.7801\n",
      "Epoch 38/100\n",
      "20/20 [==============================] - 0s 1ms/step - loss: 0.4609 - accuracy: 0.7818\n",
      "Epoch 39/100\n",
      "20/20 [==============================] - 0s 1ms/step - loss: 0.4589 - accuracy: 0.7834\n",
      "Epoch 40/100\n",
      "20/20 [==============================] - 0s 1ms/step - loss: 0.4586 - accuracy: 0.7866\n",
      "Epoch 41/100\n",
      "20/20 [==============================] - 0s 1ms/step - loss: 0.4567 - accuracy: 0.7834\n",
      "Epoch 42/100\n",
      "20/20 [==============================] - 0s 1ms/step - loss: 0.4549 - accuracy: 0.7899\n",
      "Epoch 43/100\n",
      "20/20 [==============================] - 0s 1ms/step - loss: 0.4535 - accuracy: 0.7915\n",
      "Epoch 44/100\n",
      "20/20 [==============================] - 0s 1ms/step - loss: 0.4527 - accuracy: 0.7883\n",
      "Epoch 45/100\n",
      "20/20 [==============================] - 0s 1ms/step - loss: 0.4539 - accuracy: 0.7834\n",
      "Epoch 46/100\n",
      "20/20 [==============================] - 0s 1ms/step - loss: 0.4506 - accuracy: 0.7915\n",
      "Epoch 47/100\n",
      "20/20 [==============================] - 0s 1ms/step - loss: 0.4497 - accuracy: 0.7915\n",
      "Epoch 48/100\n",
      "20/20 [==============================] - 0s 1ms/step - loss: 0.4479 - accuracy: 0.7883\n",
      "Epoch 49/100\n",
      "20/20 [==============================] - 0s 2ms/step - loss: 0.4467 - accuracy: 0.7932\n",
      "Epoch 50/100\n",
      "20/20 [==============================] - 0s 1ms/step - loss: 0.4453 - accuracy: 0.7899\n",
      "Epoch 51/100\n",
      "20/20 [==============================] - 0s 1ms/step - loss: 0.4445 - accuracy: 0.7932\n",
      "Epoch 52/100\n",
      "20/20 [==============================] - 0s 1ms/step - loss: 0.4438 - accuracy: 0.7899\n",
      "Epoch 53/100\n",
      "20/20 [==============================] - 0s 1ms/step - loss: 0.4429 - accuracy: 0.7932\n",
      "Epoch 54/100\n",
      "20/20 [==============================] - 0s 1ms/step - loss: 0.4414 - accuracy: 0.7948\n",
      "Epoch 55/100\n",
      "20/20 [==============================] - 0s 1ms/step - loss: 0.4397 - accuracy: 0.7948\n",
      "Epoch 56/100\n",
      "20/20 [==============================] - 0s 1ms/step - loss: 0.4387 - accuracy: 0.7948\n",
      "Epoch 57/100\n",
      "20/20 [==============================] - 0s 1ms/step - loss: 0.4386 - accuracy: 0.7932\n",
      "Epoch 58/100\n",
      "20/20 [==============================] - 0s 1ms/step - loss: 0.4363 - accuracy: 0.7899\n",
      "Epoch 59/100\n",
      "20/20 [==============================] - 0s 1ms/step - loss: 0.4358 - accuracy: 0.7980\n",
      "Epoch 60/100\n",
      "20/20 [==============================] - 0s 1ms/step - loss: 0.4350 - accuracy: 0.7980\n",
      "Epoch 61/100\n",
      "20/20 [==============================] - 0s 1ms/step - loss: 0.4336 - accuracy: 0.7948\n",
      "Epoch 62/100\n",
      "20/20 [==============================] - 0s 1ms/step - loss: 0.4357 - accuracy: 0.7964\n",
      "Epoch 63/100\n",
      "20/20 [==============================] - 0s 1ms/step - loss: 0.4334 - accuracy: 0.8013\n",
      "Epoch 64/100\n",
      "20/20 [==============================] - 0s 1ms/step - loss: 0.4320 - accuracy: 0.7948\n",
      "Epoch 65/100\n",
      "20/20 [==============================] - 0s 1ms/step - loss: 0.4298 - accuracy: 0.7964\n",
      "Epoch 66/100\n",
      "20/20 [==============================] - 0s 1ms/step - loss: 0.4294 - accuracy: 0.8029\n",
      "Epoch 67/100\n",
      "20/20 [==============================] - 0s 1ms/step - loss: 0.4276 - accuracy: 0.8013\n",
      "Epoch 68/100\n",
      "20/20 [==============================] - 0s 1ms/step - loss: 0.4269 - accuracy: 0.8013\n",
      "Epoch 69/100\n",
      "20/20 [==============================] - 0s 1ms/step - loss: 0.4300 - accuracy: 0.7980\n",
      "Epoch 70/100\n",
      "20/20 [==============================] - 0s 1ms/step - loss: 0.4254 - accuracy: 0.7964\n",
      "Epoch 71/100\n",
      "20/20 [==============================] - 0s 1ms/step - loss: 0.4250 - accuracy: 0.7997\n",
      "Epoch 72/100\n",
      "20/20 [==============================] - 0s 1ms/step - loss: 0.4242 - accuracy: 0.7980\n",
      "Epoch 73/100\n",
      "20/20 [==============================] - 0s 1ms/step - loss: 0.4246 - accuracy: 0.7964\n",
      "Epoch 74/100\n",
      "20/20 [==============================] - 0s 1ms/step - loss: 0.4222 - accuracy: 0.7964\n",
      "Epoch 75/100\n",
      "20/20 [==============================] - 0s 1ms/step - loss: 0.4227 - accuracy: 0.7964\n",
      "Epoch 76/100\n",
      "20/20 [==============================] - 0s 1ms/step - loss: 0.4224 - accuracy: 0.8029\n",
      "Epoch 77/100\n",
      "20/20 [==============================] - 0s 1ms/step - loss: 0.4203 - accuracy: 0.7980\n",
      "Epoch 78/100\n",
      "20/20 [==============================] - 0s 1ms/step - loss: 0.4205 - accuracy: 0.7948\n",
      "Epoch 79/100\n",
      "20/20 [==============================] - 0s 1ms/step - loss: 0.4193 - accuracy: 0.7980\n",
      "Epoch 80/100\n",
      "20/20 [==============================] - 0s 1ms/step - loss: 0.4191 - accuracy: 0.7997\n",
      "Epoch 81/100\n",
      "20/20 [==============================] - 0s 1ms/step - loss: 0.4191 - accuracy: 0.8062\n",
      "Epoch 82/100\n",
      "20/20 [==============================] - 0s 1ms/step - loss: 0.4177 - accuracy: 0.8013\n",
      "Epoch 83/100\n"
     ]
    },
    {
     "name": "stdout",
     "output_type": "stream",
     "text": [
      "20/20 [==============================] - 0s 1ms/step - loss: 0.4177 - accuracy: 0.8078\n",
      "Epoch 84/100\n",
      "20/20 [==============================] - 0s 1ms/step - loss: 0.4164 - accuracy: 0.8029\n",
      "Epoch 85/100\n",
      "20/20 [==============================] - 0s 1ms/step - loss: 0.4158 - accuracy: 0.8029\n",
      "Epoch 86/100\n",
      "20/20 [==============================] - 0s 1ms/step - loss: 0.4158 - accuracy: 0.8029\n",
      "Epoch 87/100\n",
      "20/20 [==============================] - 0s 1ms/step - loss: 0.4159 - accuracy: 0.8046\n",
      "Epoch 88/100\n",
      "20/20 [==============================] - 0s 1ms/step - loss: 0.4152 - accuracy: 0.8078\n",
      "Epoch 89/100\n",
      "20/20 [==============================] - 0s 1ms/step - loss: 0.4151 - accuracy: 0.8078\n",
      "Epoch 90/100\n",
      "20/20 [==============================] - 0s 1ms/step - loss: 0.4135 - accuracy: 0.8078\n",
      "Epoch 91/100\n",
      "20/20 [==============================] - 0s 1ms/step - loss: 0.4139 - accuracy: 0.8111\n",
      "Epoch 92/100\n",
      "20/20 [==============================] - 0s 1ms/step - loss: 0.4159 - accuracy: 0.7964\n",
      "Epoch 93/100\n",
      "20/20 [==============================] - 0s 1ms/step - loss: 0.4125 - accuracy: 0.8094\n",
      "Epoch 94/100\n",
      "20/20 [==============================] - 0s 1ms/step - loss: 0.4116 - accuracy: 0.8062\n",
      "Epoch 95/100\n",
      "20/20 [==============================] - 0s 1ms/step - loss: 0.4127 - accuracy: 0.8046\n",
      "Epoch 96/100\n",
      "20/20 [==============================] - 0s 1ms/step - loss: 0.4129 - accuracy: 0.8029\n",
      "Epoch 97/100\n",
      "20/20 [==============================] - 0s 1ms/step - loss: 0.4117 - accuracy: 0.8094\n",
      "Epoch 98/100\n",
      "20/20 [==============================] - 0s 1ms/step - loss: 0.4109 - accuracy: 0.8078\n",
      "Epoch 99/100\n",
      "20/20 [==============================] - 0s 1ms/step - loss: 0.4097 - accuracy: 0.8127\n",
      "Epoch 100/100\n",
      "20/20 [==============================] - 0s 1ms/step - loss: 0.4098 - accuracy: 0.8111\n"
     ]
    },
    {
     "data": {
      "text/plain": [
       "<keras.callbacks.History at 0x19001a193d0>"
      ]
     },
     "execution_count": 14,
     "metadata": {},
     "output_type": "execute_result"
    }
   ],
   "source": [
    "DModel.fit(X_train, y_train, batch_size = 32, epochs = 100)"
   ]
  },
  {
   "cell_type": "markdown",
   "id": "11b6e48f",
   "metadata": {},
   "source": [
    "## Evaluating the Model"
   ]
  },
  {
   "cell_type": "markdown",
   "id": "b3971b0b",
   "metadata": {},
   "source": [
    "### Checking with a few data"
   ]
  },
  {
   "cell_type": "code",
   "execution_count": 15,
   "id": "e6a80e14",
   "metadata": {},
   "outputs": [
    {
     "name": "stdout",
     "output_type": "stream",
     "text": [
      "5/5 [==============================] - 0s 1ms/step\n",
      "The probability of this person become diabetic is 93.68629455566406 %\n",
      "The actual result 1\n"
     ]
    }
   ],
   "source": [
    "y_pred = DModel.predict(X_test)\n",
    "\n",
    "# let's just do some quick checking: \n",
    "print(\"The probability of this person become diabetic is\", 100*y_pred[43, 1], '%') # the first value in y_pred gives the probabilty\n",
    "# of not having diabities and the second value (y_pred[43, 1]) gives the probabilty of having diabities. \n",
    "\n",
    "print(\"The actual result\", y_test[43])\n",
    "\n",
    "# Recall, Actual Classes are: 0 (Healthy), 1 (Diabetic)"
   ]
  },
  {
   "cell_type": "markdown",
   "id": "4e6f0146",
   "metadata": {},
   "source": [
    "### Use built in function"
   ]
  },
  {
   "cell_type": "code",
   "execution_count": 16,
   "id": "e52c7d07",
   "metadata": {},
   "outputs": [
    {
     "name": "stdout",
     "output_type": "stream",
     "text": [
      "5/5 [==============================] - 0s 1ms/step - loss: 0.4433 - accuracy: 0.7987\n"
     ]
    },
    {
     "data": {
      "text/plain": [
       "[0.4433465003967285, 0.798701286315918]"
      ]
     },
     "execution_count": 16,
     "metadata": {},
     "output_type": "execute_result"
    }
   ],
   "source": [
    "DModel.evaluate(X_test,y_test)"
   ]
  },
  {
   "cell_type": "markdown",
   "id": "3f8fc1f6",
   "metadata": {},
   "source": [
    "### Calculate Confusion Matrix"
   ]
  },
  {
   "cell_type": "code",
   "execution_count": 17,
   "id": "1133c71e",
   "metadata": {},
   "outputs": [],
   "source": [
    "# First you need to turn the values of probabilty to 0 & 1.\n",
    "y_predict=[]\n",
    "for value in y_pred[:,0]:\n",
    "    if value>0.5:\n",
    "        y_predict.append(0)\n",
    "    else:\n",
    "        y_predict.append(1)"
   ]
  },
  {
   "cell_type": "code",
   "execution_count": 18,
   "id": "746e2b6b",
   "metadata": {},
   "outputs": [],
   "source": [
    "#y_predict"
   ]
  },
  {
   "cell_type": "code",
   "execution_count": 19,
   "id": "fdf272b7",
   "metadata": {},
   "outputs": [
    {
     "name": "stdout",
     "output_type": "stream",
     "text": [
      "[[96 11]\n",
      " [20 27]]\n",
      "Your Model Accuracy is= 79.87012987012987 %\n"
     ]
    }
   ],
   "source": [
    "from sklearn.metrics import confusion_matrix, accuracy_score\n",
    "cm = confusion_matrix(y_test, y_predict)\n",
    "print(cm)\n",
    "print(\"Your Model Accuracy is=\", accuracy_score(y_test, y_predict)*100, \"%\")"
   ]
  },
  {
   "cell_type": "markdown",
   "id": "c5741b15",
   "metadata": {},
   "source": [
    "### History of Accuracy and Loss"
   ]
  },
  {
   "cell_type": "code",
   "execution_count": 20,
   "id": "911ebad0",
   "metadata": {},
   "outputs": [],
   "source": [
    "HistoryTrainTest=DModel.fit(X, y, validation_split=0.2, epochs=100, batch_size=32, verbose=0)"
   ]
  },
  {
   "cell_type": "code",
   "execution_count": 21,
   "id": "3e350add",
   "metadata": {},
   "outputs": [
    {
     "name": "stdout",
     "output_type": "stream",
     "text": [
      "dict_keys(['loss', 'accuracy', 'val_loss', 'val_accuracy'])\n"
     ]
    }
   ],
   "source": [
    "print(HistoryTrainTest.history.keys())"
   ]
  },
  {
   "cell_type": "code",
   "execution_count": 22,
   "id": "9feee41e",
   "metadata": {},
   "outputs": [
    {
     "data": {
      "image/png": "[encoded data removed]",
      "text/plain": [
       "<Figure size 432x288 with 1 Axes>"
      ]
     },
     "metadata": {
      "needs_background": "light"
     },
     "output_type": "display_data"
    },
    {
     "data": {
      "image/png": "[encoded data removed]",
      "text/plain": [
       "<Figure size 432x288 with 1 Axes>"
      ]
     },
     "metadata": {
      "needs_background": "light"
     },
     "output_type": "display_data"
    }
   ],
   "source": [
    "plt.plot(HistoryTrainTest.history['accuracy'])\n",
    "plt.plot(HistoryTrainTest.history['val_accuracy'])\n",
    "plt.title('model accuracy')\n",
    "plt.ylabel('accuracy')\n",
    "plt.xlabel('epoch')\n",
    "plt.legend(['train', 'test'], loc='upper left')\n",
    "plt.show()\n",
    "# summarize history for loss\n",
    "plt.plot(HistoryTrainTest.history['loss'])\n",
    "plt.plot(HistoryTrainTest.history['val_loss'])\n",
    "plt.title('model loss')\n",
    "plt.ylabel('loss')\n",
    "plt.xlabel('epoch')\n",
    "plt.legend(['train', 'test'], loc='upper left')\n",
    "plt.show()"
   ]
  },
  {
   "cell_type": "markdown",
   "id": "e1f87b01",
   "metadata": {},
   "source": [
    "# Use the Model for a New Person"
   ]
  },
  {
   "cell_type": "code",
   "execution_count": 23,
   "id": "aa421e5c",
   "metadata": {},
   "outputs": [
    {
     "name": "stdout",
     "output_type": "stream",
     "text": [
      "1/1 [==============================] - 0s 20ms/step\n"
     ]
    }
   ],
   "source": [
    "# Let's say, a new person go to a clinic, they do her medical measurements, and here is the prediction by the model, whether \n",
    "# she is at onset of dibetes or okay! \n",
    "NewPersonMedicalTest=[[0,118,84,47,230,45.8,0.551,31]]\n",
    "PredictHealth=DModel.predict(sc.transform(NewPersonMedicalTest))"
   ]
  },
  {
   "cell_type": "code",
   "execution_count": 24,
   "id": "6a9a8004",
   "metadata": {},
   "outputs": [
    {
     "data": {
      "text/plain": [
       "array([[0.9225195 , 0.07748055]], dtype=float32)"
      ]
     },
     "execution_count": 24,
     "metadata": {},
     "output_type": "execute_result"
    }
   ],
   "source": [
    "PredictHealth # [Probability of Healthy, Probability of Diabetic]"
   ]
  },
  {
   "cell_type": "code",
   "execution_count": 25,
   "id": "d6803a24",
   "metadata": {},
   "outputs": [
    {
     "name": "stdout",
     "output_type": "stream",
     "text": [
      "Congratulation, You are healthy! But Don't think it is forever, Try to stay healthy!\n"
     ]
    }
   ],
   "source": [
    "# Let's make the code nicer, and easier for a person to understand \n",
    "if PredictHealth[:,0]>0.5:\n",
    "    print(\"Congratulation, You are healthy! But Don't think it is forever, Try to stay healthy!\")\n",
    "else:\n",
    "    print(\"Sorry, you will become diabetic; but don't lose hope, eat healthy and excersie!\")"
   ]
  },
  {
   "cell_type": "markdown",
   "id": "6c60a22e",
   "metadata": {},
   "source": [
    "##### End"
   ]
  }
 ],
 "metadata": {
  "kernelspec": {
   "display_name": "Python 3",
   "language": "python",
   "name": "python3"
  },
  "language_info": {
   "codemirror_mode": {
    "name": "ipython",
    "version": 3
   },
   "file_extension": ".py",
   "mimetype": "text/x-python",
   "name": "python",
   "nbconvert_exporter": "python",
   "pygments_lexer": "ipython3",
   "version": "3.8.8"
  },
  "toc": {
   "base_numbering": 1,
   "nav_menu": {},
   "number_sections": true,
   "sideBar": true,
   "skip_h1_title": false,
   "title_cell": "Table of Contents",
   "title_sidebar": "Contents",
   "toc_cell": false,
   "toc_position": {},
   "toc_section_display": true,
   "toc_window_display": true
  }
 },
 "nbformat": 4,
 "nbformat_minor": 5
}

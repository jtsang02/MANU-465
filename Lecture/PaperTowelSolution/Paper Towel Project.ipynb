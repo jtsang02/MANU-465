{
 "cells": [
  {
   "cell_type": "markdown",
   "id": "c5867fc5",
   "metadata": {},
   "source": [
    "# Paper Towel Project\n",
    "Use Logistic Regression Classifier to predict the quality of a paper towels!\n",
    "<img src='Toilet Paper.jpg' width=300 height=300/></a>\n",
    "## How it is Made? \n",
    "<a href='https://www.youtube.com/watch?v=Z74OfpUbeac'><img src='YueTube Logo.png' width=250 height=250/></a>\n",
    "## Paper Towel Mechanical Properties\n",
    "<a href='https://www.youtube.com/watch?v=BoDVYkW5BLA'><img src='YueTube Logo.png' width=250 height=250/></a>"
   ]
  },
  {
   "cell_type": "markdown",
   "id": "202c622f",
   "metadata": {},
   "source": [
    "# Libraries"
   ]
  },
  {
   "cell_type": "code",
   "execution_count": 1,
   "id": "94b54d92",
   "metadata": {},
   "outputs": [],
   "source": [
    "import pandas as pd\n",
    "import seaborn as sb\n",
    "import matplotlib.pyplot as plt\n",
    "import numpy as np"
   ]
  },
  {
   "cell_type": "markdown",
   "id": "5cf38532",
   "metadata": {},
   "source": [
    "# Import the Dataset"
   ]
  },
  {
   "cell_type": "code",
   "execution_count": 2,
   "id": "9260d5fc",
   "metadata": {},
   "outputs": [],
   "source": [
    "dataset=pd.read_csv('PaperTowel.csv')"
   ]
  },
  {
   "cell_type": "code",
   "execution_count": 3,
   "id": "65afc176",
   "metadata": {},
   "outputs": [
    {
     "data": {
      "text/html": [
       "<div>\n",
       "<style scoped>\n",
       "    .dataframe tbody tr th:only-of-type {\n",
       "        vertical-align: middle;\n",
       "    }\n",
       "\n",
       "    .dataframe tbody tr th {\n",
       "        vertical-align: top;\n",
       "    }\n",
       "\n",
       "    .dataframe thead th {\n",
       "        text-align: right;\n",
       "    }\n",
       "</style>\n",
       "<table border=\"1\" class=\"dataframe\">\n",
       "  <thead>\n",
       "    <tr style=\"text-align: right;\">\n",
       "      <th></th>\n",
       "      <th>Density</th>\n",
       "      <th>MOR</th>\n",
       "      <th>MOE</th>\n",
       "      <th>Customer Satisfaction</th>\n",
       "    </tr>\n",
       "  </thead>\n",
       "  <tbody>\n",
       "    <tr>\n",
       "      <th>0</th>\n",
       "      <td>405.4034</td>\n",
       "      <td>60.9887</td>\n",
       "      <td>4261.42</td>\n",
       "      <td>Good</td>\n",
       "    </tr>\n",
       "    <tr>\n",
       "      <th>1</th>\n",
       "      <td>392.9937</td>\n",
       "      <td>44.7461</td>\n",
       "      <td>4156.92</td>\n",
       "      <td>Good</td>\n",
       "    </tr>\n",
       "    <tr>\n",
       "      <th>2</th>\n",
       "      <td>470.9295</td>\n",
       "      <td>49.8413</td>\n",
       "      <td>3993.37</td>\n",
       "      <td>Good</td>\n",
       "    </tr>\n",
       "    <tr>\n",
       "      <th>3</th>\n",
       "      <td>403.3186</td>\n",
       "      <td>42.1607</td>\n",
       "      <td>3279.16</td>\n",
       "      <td>Good</td>\n",
       "    </tr>\n",
       "    <tr>\n",
       "      <th>4</th>\n",
       "      <td>485.5602</td>\n",
       "      <td>75.6535</td>\n",
       "      <td>4777.84</td>\n",
       "      <td>Good</td>\n",
       "    </tr>\n",
       "  </tbody>\n",
       "</table>\n",
       "</div>"
      ],
      "text/plain": [
       "    Density      MOR      MOE Customer Satisfaction\n",
       "0  405.4034  60.9887  4261.42                  Good\n",
       "1  392.9937  44.7461  4156.92                  Good\n",
       "2  470.9295  49.8413  3993.37                  Good\n",
       "3  403.3186  42.1607  3279.16                  Good\n",
       "4  485.5602  75.6535  4777.84                  Good"
      ]
     },
     "execution_count": 3,
     "metadata": {},
     "output_type": "execute_result"
    }
   ],
   "source": [
    "dataset.head()"
   ]
  },
  {
   "cell_type": "markdown",
   "id": "509631a6",
   "metadata": {},
   "source": [
    "## Checking the Input (Features) and Output (Labels)"
   ]
  },
  {
   "cell_type": "code",
   "execution_count": 4,
   "id": "e78193b9",
   "metadata": {},
   "outputs": [],
   "source": [
    "X=dataset.iloc[:,:-1].values\n",
    "y=dataset.iloc[:,-1].values"
   ]
  },
  {
   "cell_type": "code",
   "execution_count": 5,
   "id": "48a9dbc2",
   "metadata": {
    "scrolled": true
   },
   "outputs": [
    {
     "data": {
      "text/html": [
       "<div>\n",
       "<style scoped>\n",
       "    .dataframe tbody tr th:only-of-type {\n",
       "        vertical-align: middle;\n",
       "    }\n",
       "\n",
       "    .dataframe tbody tr th {\n",
       "        vertical-align: top;\n",
       "    }\n",
       "\n",
       "    .dataframe thead th {\n",
       "        text-align: right;\n",
       "    }\n",
       "</style>\n",
       "<table border=\"1\" class=\"dataframe\">\n",
       "  <thead>\n",
       "    <tr style=\"text-align: right;\">\n",
       "      <th></th>\n",
       "      <th>0</th>\n",
       "      <th>1</th>\n",
       "      <th>2</th>\n",
       "    </tr>\n",
       "  </thead>\n",
       "  <tbody>\n",
       "    <tr>\n",
       "      <th>0</th>\n",
       "      <td>405.4034</td>\n",
       "      <td>60.9887</td>\n",
       "      <td>4261.42</td>\n",
       "    </tr>\n",
       "    <tr>\n",
       "      <th>1</th>\n",
       "      <td>392.9937</td>\n",
       "      <td>44.7461</td>\n",
       "      <td>4156.92</td>\n",
       "    </tr>\n",
       "    <tr>\n",
       "      <th>2</th>\n",
       "      <td>470.9295</td>\n",
       "      <td>49.8413</td>\n",
       "      <td>3993.37</td>\n",
       "    </tr>\n",
       "    <tr>\n",
       "      <th>3</th>\n",
       "      <td>403.3186</td>\n",
       "      <td>42.1607</td>\n",
       "      <td>3279.16</td>\n",
       "    </tr>\n",
       "    <tr>\n",
       "      <th>4</th>\n",
       "      <td>485.5602</td>\n",
       "      <td>75.6535</td>\n",
       "      <td>4777.84</td>\n",
       "    </tr>\n",
       "    <tr>\n",
       "      <th>...</th>\n",
       "      <td>...</td>\n",
       "      <td>...</td>\n",
       "      <td>...</td>\n",
       "    </tr>\n",
       "    <tr>\n",
       "      <th>235</th>\n",
       "      <td>449.3665</td>\n",
       "      <td>77.9829</td>\n",
       "      <td>8590.07</td>\n",
       "    </tr>\n",
       "    <tr>\n",
       "      <th>236</th>\n",
       "      <td>439.8520</td>\n",
       "      <td>71.5830</td>\n",
       "      <td>7631.20</td>\n",
       "    </tr>\n",
       "    <tr>\n",
       "      <th>237</th>\n",
       "      <td>516.9763</td>\n",
       "      <td>87.2491</td>\n",
       "      <td>8853.45</td>\n",
       "    </tr>\n",
       "    <tr>\n",
       "      <th>238</th>\n",
       "      <td>440.9710</td>\n",
       "      <td>61.6939</td>\n",
       "      <td>5127.35</td>\n",
       "    </tr>\n",
       "    <tr>\n",
       "      <th>239</th>\n",
       "      <td>459.5091</td>\n",
       "      <td>78.5236</td>\n",
       "      <td>7896.54</td>\n",
       "    </tr>\n",
       "  </tbody>\n",
       "</table>\n",
       "<p>240 rows × 3 columns</p>\n",
       "</div>"
      ],
      "text/plain": [
       "            0        1        2\n",
       "0    405.4034  60.9887  4261.42\n",
       "1    392.9937  44.7461  4156.92\n",
       "2    470.9295  49.8413  3993.37\n",
       "3    403.3186  42.1607  3279.16\n",
       "4    485.5602  75.6535  4777.84\n",
       "..        ...      ...      ...\n",
       "235  449.3665  77.9829  8590.07\n",
       "236  439.8520  71.5830  7631.20\n",
       "237  516.9763  87.2491  8853.45\n",
       "238  440.9710  61.6939  5127.35\n",
       "239  459.5091  78.5236  7896.54\n",
       "\n",
       "[240 rows x 3 columns]"
      ]
     },
     "execution_count": 5,
     "metadata": {},
     "output_type": "execute_result"
    }
   ],
   "source": [
    "pd.DataFrame(X)"
   ]
  },
  {
   "cell_type": "markdown",
   "id": "45eb9087",
   "metadata": {},
   "source": [
    "# Data Analysis"
   ]
  },
  {
   "cell_type": "markdown",
   "id": "ffe8d5e9",
   "metadata": {},
   "source": [
    "## Check Correlation between Variables"
   ]
  },
  {
   "cell_type": "code",
   "execution_count": 6,
   "id": "f20ec7f7",
   "metadata": {},
   "outputs": [
    {
     "data": {
      "text/plain": [
       "<AxesSubplot:>"
      ]
     },
     "execution_count": 6,
     "metadata": {},
     "output_type": "execute_result"
    },
    {
     "data": {
      "image/png": "[encoded data removed]",
      "text/plain": [
       "<Figure size 432x288 with 2 Axes>"
      ]
     },
     "metadata": {
      "needs_background": "light"
     },
     "output_type": "display_data"
    }
   ],
   "source": [
    "sb.heatmap(dataset.corr(), annot=True)"
   ]
  },
  {
   "cell_type": "markdown",
   "id": "8cc51b3c",
   "metadata": {},
   "source": [
    "## Check for Outlies"
   ]
  },
  {
   "cell_type": "code",
   "execution_count": 7,
   "id": "bd9ebe0a",
   "metadata": {},
   "outputs": [
    {
     "data": {
      "text/plain": [
       "<AxesSubplot:xlabel='Customer Satisfaction', ylabel='Density'>"
      ]
     },
     "execution_count": 7,
     "metadata": {},
     "output_type": "execute_result"
    },
    {
     "data": {
      "image/png": "[encoded data removed]",
      "text/plain": [
       "<Figure size 432x288 with 1 Axes>"
      ]
     },
     "metadata": {
      "needs_background": "light"
     },
     "output_type": "display_data"
    }
   ],
   "source": [
    "sb.boxplot(x='Customer Satisfaction', y='Density', data=dataset)"
   ]
  },
  {
   "cell_type": "markdown",
   "id": "04038ef2",
   "metadata": {},
   "source": [
    "### Manually Remove Outliers"
   ]
  },
  {
   "cell_type": "code",
   "execution_count": 8,
   "id": "ddc9af46",
   "metadata": {},
   "outputs": [
    {
     "data": {
      "text/plain": [
       "(array([ 14, 160, 227, 228], dtype=int64),)"
      ]
     },
     "execution_count": 8,
     "metadata": {},
     "output_type": "execute_result"
    }
   ],
   "source": [
    "Outliers=np.where(dataset['Density']>625)\n",
    "Outliers"
   ]
  },
  {
   "cell_type": "code",
   "execution_count": 9,
   "id": "0070f126",
   "metadata": {},
   "outputs": [
    {
     "data": {
      "text/plain": [
       "<AxesSubplot:xlabel='Customer Satisfaction', ylabel='Density'>"
      ]
     },
     "execution_count": 9,
     "metadata": {},
     "output_type": "execute_result"
    },
    {
     "data": {
      "image/png": "[encoded data removed]",
      "text/plain": [
       "<Figure size 432x288 with 1 Axes>"
      ]
     },
     "metadata": {
      "needs_background": "light"
     },
     "output_type": "display_data"
    }
   ],
   "source": [
    "CleanData=dataset.drop( [14,160,227,228], inplace = False)\n",
    "\n",
    "sb.boxplot(x='Customer Satisfaction', y='Density', data=CleanData)"
   ]
  },
  {
   "cell_type": "markdown",
   "id": "6a0433eb",
   "metadata": {},
   "source": [
    "### Systematically Remove Outliers\n",
    "##### Click on the Image--->>\n",
    "<a href='https://www.geeksforgeeks.org/detect-and-remove-the-outliers-using-python/'><img src='OutLiers2.jpg' width=800 height=250/></a>\n"
   ]
  },
  {
   "cell_type": "markdown",
   "id": "49c3608e",
   "metadata": {},
   "source": [
    "## Distributions"
   ]
  },
  {
   "cell_type": "code",
   "execution_count": 10,
   "id": "dfa54c79",
   "metadata": {},
   "outputs": [
    {
     "data": {
      "text/plain": [
       "<AxesSubplot:xlabel='Density', ylabel='Count'>"
      ]
     },
     "execution_count": 10,
     "metadata": {},
     "output_type": "execute_result"
    },
    {
     "data": {
      "image/png": "[encoded data removed]",
      "text/plain": [
       "<Figure size 432x288 with 1 Axes>"
      ]
     },
     "metadata": {
      "needs_background": "light"
     },
     "output_type": "display_data"
    }
   ],
   "source": [
    "sb.histplot(dataset['Density'], kde=True, bins=20)"
   ]
  },
  {
   "cell_type": "markdown",
   "id": "05acada3",
   "metadata": {},
   "source": [
    "## Check Distribution between each Pair of Features"
   ]
  },
  {
   "cell_type": "code",
   "execution_count": 11,
   "id": "053634c8",
   "metadata": {},
   "outputs": [
    {
     "data": {
      "text/plain": [
       "<seaborn.axisgrid.JointGrid at 0x28ef3cffee0>"
      ]
     },
     "execution_count": 11,
     "metadata": {},
     "output_type": "execute_result"
    },
    {
     "data": {
      "image/png": "[encoded data removed]",
      "text/plain": [
       "<Figure size 432x432 with 3 Axes>"
      ]
     },
     "metadata": {
      "needs_background": "light"
     },
     "output_type": "display_data"
    }
   ],
   "source": [
    "sb.jointplot(x='MOE' , y='Density' , data=dataset, kind='kde')"
   ]
  },
  {
   "cell_type": "markdown",
   "id": "9511d34c",
   "metadata": {},
   "source": [
    "### Check Correlation and Distribution between each Pair of Features"
   ]
  },
  {
   "cell_type": "code",
   "execution_count": 12,
   "id": "a80ad44b",
   "metadata": {},
   "outputs": [
    {
     "data": {
      "text/plain": [
       "<seaborn.axisgrid.JointGrid at 0x28ef4096550>"
      ]
     },
     "execution_count": 12,
     "metadata": {},
     "output_type": "execute_result"
    },
    {
     "data": {
      "image/png": "[encoded data removed]",
      "text/plain": [
       "<Figure size 432x432 with 3 Axes>"
      ]
     },
     "metadata": {
      "needs_background": "light"
     },
     "output_type": "display_data"
    }
   ],
   "source": [
    "sb.jointplot(x='MOE' , y='Density' , data=dataset, kind='reg')"
   ]
  },
  {
   "cell_type": "markdown",
   "id": "099ca108",
   "metadata": {},
   "source": [
    "# Data Preprocessing"
   ]
  },
  {
   "cell_type": "markdown",
   "id": "3e797fce",
   "metadata": {},
   "source": [
    "## Categorical Data"
   ]
  },
  {
   "cell_type": "code",
   "execution_count": 13,
   "id": "df5ec974",
   "metadata": {},
   "outputs": [],
   "source": [
    "from sklearn.preprocessing import LabelEncoder\n",
    "LaEnc = LabelEncoder()\n",
    "y = LaEnc.fit_transform(y)"
   ]
  },
  {
   "cell_type": "markdown",
   "id": "418306c0",
   "metadata": {},
   "source": [
    "## Splitting the Dataset into the Training set and Test set"
   ]
  },
  {
   "cell_type": "code",
   "execution_count": 14,
   "id": "f8c2321f",
   "metadata": {},
   "outputs": [],
   "source": [
    "from sklearn.model_selection import train_test_split\n",
    "X_train, X_test, y_train, y_test = train_test_split(X, y, test_size = 0.20) #, random_state = 0"
   ]
  },
  {
   "cell_type": "code",
   "execution_count": 15,
   "id": "896c59e5",
   "metadata": {},
   "outputs": [
    {
     "data": {
      "text/plain": [
       "(192, 3)"
      ]
     },
     "execution_count": 15,
     "metadata": {},
     "output_type": "execute_result"
    }
   ],
   "source": [
    "X_train.shape"
   ]
  },
  {
   "cell_type": "markdown",
   "id": "4d313c9a",
   "metadata": {},
   "source": [
    "## Feature Scaling"
   ]
  },
  {
   "cell_type": "code",
   "execution_count": 16,
   "id": "efe91405",
   "metadata": {},
   "outputs": [],
   "source": [
    "from sklearn.preprocessing import StandardScaler\n",
    "sc = StandardScaler()\n",
    "X_train = sc.fit_transform(X_train)\n",
    "X_test = sc.transform(X_test)"
   ]
  },
  {
   "cell_type": "code",
   "execution_count": 17,
   "id": "57f8709c",
   "metadata": {},
   "outputs": [
    {
     "data": {
      "text/plain": [
       "array([[ 1.33767393e+00,  1.62773754e+00,  1.44612128e+00],\n",
       "       [-3.68695998e-02, -3.82224793e-01,  4.01454364e-01],\n",
       "       [-1.36848605e-02, -3.21901408e-01, -6.18319483e-02],\n",
       "       [-4.30673538e-01, -2.04680279e-01, -9.11880276e-01],\n",
       "       [ 1.16754961e+00,  4.10591481e-01, -8.58799151e-01],\n",
       "       [ 1.00879843e+00,  8.21486329e-01,  4.01243907e-01],\n",
       "       [-7.99351781e-01, -1.75680093e-01, -3.56408859e-01],\n",
       "       [-4.51050295e-01, -6.27377529e-01,  1.25539573e-01],\n",
       "       [ 5.51159693e-01,  7.10613340e-01,  5.26182655e-01],\n",
       "       [ 5.84366138e-01,  7.53813876e-01,  1.38121334e+00],\n",
       "       [-1.85685024e-03,  6.61979953e-01,  9.10025712e-01],\n",
       "       [ 2.06729123e+00,  1.83884797e+00,  1.88417553e+00],\n",
       "       [ 4.95959027e-01,  8.59751802e-01,  6.38901124e-01],\n",
       "       [-1.66280310e+00, -1.37954109e+00, -1.22479904e+00],\n",
       "       [-1.22246712e+00, -8.89166031e-01, -9.68447681e-01],\n",
       "       [-8.24181899e-01, -8.79959623e-01, -6.38349149e-01],\n",
       "       [-3.60519956e-01,  1.88106849e-01, -1.49936001e-01],\n",
       "       [-1.53413182e+00, -1.77706523e+00, -1.84894377e+00],\n",
       "       [ 5.58857834e-01,  1.48018879e+00,  1.53154429e+00],\n",
       "       [ 2.96843514e-01,  1.12923194e+00,  3.96860893e-01],\n",
       "       [-1.20600183e+00, -9.30252304e-01, -3.20415994e-01],\n",
       "       [ 1.10604987e+00, -5.72909848e-01, -7.73284645e-01],\n",
       "       [ 1.28799563e+00,  5.84271444e-01,  6.97600558e-01],\n",
       "       [-7.49310578e-01, -1.27474911e-01,  5.78362043e-02],\n",
       "       [ 2.43772595e-02,  1.29238876e+00,  1.08462793e+00],\n",
       "       [ 3.97210336e+00,  2.56413631e+00,  1.61995488e+00],\n",
       "       [-8.57416311e-02,  3.66229439e-01, -1.45429459e-01],\n",
       "       [-8.07856191e-01, -6.61655342e-01, -7.20308748e-01],\n",
       "       [ 3.27105683e-01,  4.89038644e-01,  4.26137408e-01],\n",
       "       [ 1.44179754e+00,  1.79937282e+00,  1.47995924e+00],\n",
       "       [ 8.74553882e-01,  1.58665126e+00,  1.09146781e+00],\n",
       "       [ 2.23453362e-01,  2.66848402e-01,  9.86033015e-01],\n",
       "       [-1.14245275e+00, -1.62302382e+00, -1.58011134e+00],\n",
       "       [-1.88640281e-02,  8.91540673e-01,  1.08321421e+00],\n",
       "       [-9.24558240e-01, -1.28436716e+00, -1.20250424e+00],\n",
       "       [ 2.12420126e-01,  1.35342404e+00,  5.32015997e-01],\n",
       "       [-3.63295096e-01, -3.87780753e-01, -5.81100044e-01],\n",
       "       [ 4.53752260e-01,  8.58954270e-01,  1.61317405e-01],\n",
       "       [-4.46519755e-01, -6.44131051e-01, -1.71640609e-01],\n",
       "       [ 4.23376786e-01,  4.12068788e-01,  5.27692461e-01],\n",
       "       [-1.68407978e-01,  6.33038645e-01,  1.22732749e+00],\n",
       "       [-8.41951009e-01, -2.60285865e+00, -1.97689755e+00],\n",
       "       [-4.46693817e-01, -2.27782426e+00, -1.83252348e+00],\n",
       "       [ 1.21349214e+00,  1.98407371e+00,  1.14988359e+00],\n",
       "       [-8.72978394e-01, -6.74587134e-01, -4.99090117e-01],\n",
       "       [-8.73229686e-02,  3.90914958e-02, -6.96151850e-01],\n",
       "       [-7.27666124e-01, -6.40491308e-01, -3.30650650e-01],\n",
       "       [ 3.40805681e-01,  3.67385593e-01, -7.79777240e-02],\n",
       "       [-3.46021899e-01, -2.74964784e-01, -4.13104368e-01],\n",
       "       [-5.97743567e-01, -1.00883863e+00, -8.43540959e-01],\n",
       "       [-4.57589117e-01, -5.20465436e-01, -4.40006369e-01],\n",
       "       [-9.26256167e-01, -5.86291256e-01, -8.97244307e-01],\n",
       "       [-4.85466964e-01,  4.56628875e-01,  7.89680434e-01],\n",
       "       [ 3.70452065e-01,  9.28575056e-01,  8.76041348e-01],\n",
       "       [ 5.40146162e-01,  2.60205872e-01, -2.86129669e-01],\n",
       "       [-1.47708051e+00, -3.15895833e-01,  7.93029030e-02],\n",
       "       [ 8.02061956e-01,  8.83688463e-01,  1.10103449e+00],\n",
       "       [-1.52867190e-01, -2.51857769e-01, -9.98195438e-01],\n",
       "       [-3.43560398e-01, -6.64080053e-01, -7.44758458e-01],\n",
       "       [ 6.63689179e-01, -6.99188016e-02,  7.90485664e-01],\n",
       "       [ 6.25651690e-01,  1.33028474e-02, -3.80762490e-01],\n",
       "       [-5.16074024e-02,  2.79099917e-02,  4.14617129e-01],\n",
       "       [-2.12662438e-01,  7.25873497e-01,  8.53961576e-01],\n",
       "       [-5.84051779e-01, -9.47557140e-01, -6.93704134e-01],\n",
       "       [ 1.61856737e-01,  1.07243054e+00,  1.24183078e+00],\n",
       "       [-2.03315956e+00, -1.07470192e+00, -9.29897297e-01],\n",
       "       [-1.27841165e+00, -1.62107014e+00, -1.55268319e+00],\n",
       "       [-1.35636847e+00, -1.27400460e+00, -1.20638398e+00],\n",
       "       [-1.69928717e+00, -1.26422012e+00, -1.25695792e+00],\n",
       "       [-2.44911541e-01, -7.75086857e-01, -6.28562860e-01],\n",
       "       [ 6.57045263e-01,  6.78492610e-01,  1.05132984e+00],\n",
       "       [ 2.03176773e-01, -4.88778766e-02, -4.79197277e-01],\n",
       "       [ 2.12421773e+00,  1.39102579e+00,  1.70285239e+00],\n",
       "       [-1.97303923e-01, -3.72178032e-01, -9.49790137e-01],\n",
       "       [-4.85641026e-01, -3.15516302e-02, -1.47834583e+00],\n",
       "       [ 1.16139832e+00,  1.42167992e+00,  1.54123907e+00],\n",
       "       [-1.08569702e+00, -5.16183386e-01, -6.68440044e-01],\n",
       "       [-1.53921739e+00, -1.57503810e+00, -1.31136126e+00],\n",
       "       [-3.56897494e-01, -1.23732884e+00, -1.22062191e+00],\n",
       "       [ 1.78495762e+00,  7.12267282e-01,  9.29209401e-01],\n",
       "       [-5.36107583e-02,  9.18624140e-02,  1.86082801e-01],\n",
       "       [ 2.55703621e+00,  1.80652920e+00,  2.69210027e+00],\n",
       "       [ 9.15241712e-01, -1.86031950e-01,  1.83462644e+00],\n",
       "       [ 1.90258746e+00,  1.67654220e+00,  1.42055066e+00],\n",
       "       [-4.05562621e-01, -1.20540616e+00, -9.38914957e-01],\n",
       "       [ 2.12641978e+00,  1.23917358e+00,  1.42482844e+00],\n",
       "       [-3.44143342e-01,  3.20026115e-01,  1.13214065e-01],\n",
       "       [-6.79511739e-02,  6.72203348e-01,  7.85727487e-01],\n",
       "       [ 5.66964857e-01, -5.14095887e-01, -6.19641278e-01],\n",
       "       [ 8.97661443e-01,  1.28127149e+00,  6.68452149e-01],\n",
       "       [ 3.80986053e-02, -7.76505286e-01, -8.56488690e-01],\n",
       "       [ 1.71398951e-01,  1.01154513e+00,  8.88234176e-01],\n",
       "       [-1.03942114e+00, -1.70856848e+00, -9.90111112e-01],\n",
       "       [ 1.00368495e+00,  7.36310995e-01,  1.04740892e+00],\n",
       "       [ 4.58499556e-01,  7.03606835e-01,  5.33827765e-01],\n",
       "       [-1.09406842e+00, -1.21289974e+00, -1.12878452e+00],\n",
       "       [ 1.06415017e+00,  7.10335007e-01, -2.00779868e-01],\n",
       "       [-2.11893440e+00, -2.27090875e+00, -1.58843357e+00],\n",
       "       [ 4.87044094e-01,  5.73919587e-01,  9.26807436e-01],\n",
       "       [-5.21302403e-01,  4.31305899e-01,  8.92534836e-01],\n",
       "       [ 6.79968909e-01,  1.02109411e+00,  7.83700687e-01],\n",
       "       [-3.02783895e-01,  2.67265735e-03,  7.18371831e-01],\n",
       "       [-9.51278410e-01, -2.97177920e-01, -3.07683296e-01],\n",
       "       [ 5.68245691e-01, -2.11595791e-01, -9.44391436e-01],\n",
       "       [-1.88813466e+00, -1.15578254e+00, -8.43842920e-01],\n",
       "       [ 9.77211093e-01,  1.94069604e-01,  2.78295357e-01],\n",
       "       [-1.01964539e+00, -5.78786962e-01, -2.71269516e-01],\n",
       "       [-3.24645106e-01,  2.90479968e-01,  7.88628145e-01],\n",
       "       [-1.30090671e+00, -1.14236902e+00, -5.22835251e-01],\n",
       "       [-7.40602548e-01, -1.00311674e+00, -1.39526531e+00],\n",
       "       [-1.37643979e+00, -1.63536683e+00, -6.35732152e-01],\n",
       "       [ 1.37114804e+00,  1.39684938e+00,  1.34021067e+00],\n",
       "       [ 1.66853632e-01, -2.76174463e-01, -7.66893132e-01],\n",
       "       [-1.07405457e+00, -1.20101170e+00, -1.03433013e+00],\n",
       "       [ 1.02760042e+00,  1.00496684e+00,  1.63892353e+00],\n",
       "       [ 4.14887155e-01,  1.18187439e+00,  1.75955247e+00],\n",
       "       [-5.27557143e-01, -7.50283080e-01, -4.23860593e-01],\n",
       "       [-1.52488847e+00, -2.16737412e+00, -1.63602449e+00],\n",
       "       [-1.83800976e-01, -1.00614629e+00, -4.75052173e-01],\n",
       "       [-3.10523089e-01,  9.90027330e-02,  4.15619091e-01],\n",
       "       [ 1.30964501e+00,  6.77770014e-01,  5.87174250e-01],\n",
       "       [-1.09410291e+00, -1.14598200e+00, -8.00914098e-01],\n",
       "       [-8.16633189e-01, -1.34525792e+00, -1.27751873e+00],\n",
       "       [-5.57484324e-01, -7.70232082e-01, -8.37638989e-01],\n",
       "       [-1.33377652e+00, -1.10541493e+00, -1.14105513e+00],\n",
       "       [-5.52625365e-01, -5.77261482e-01, -6.15134735e-01],\n",
       "       [ 9.50310293e-01,  1.59797143e-01,  4.31499507e-01],\n",
       "       [ 6.30042601e-02,  2.47766515e-01, -8.00076841e-01],\n",
       "       [-1.38590483e+00, -1.34176805e+00, -1.09020211e+00],\n",
       "       [-4.66126369e-01,  5.54736001e-01,  3.67799412e-01],\n",
       "       [-4.52114424e-02, -2.98087856e-01, -8.35904999e-01],\n",
       "       [-1.01860436e-01, -3.17378492e-01, -1.02672162e+00],\n",
       "       [ 3.36088605e+00,  2.01710438e+00,  1.45111279e+00],\n",
       "       [-1.48932397e+00, -1.26832018e+00, -1.51269163e+00],\n",
       "       [-8.10368596e-01, -4.87713104e-01, -1.75996171e-01],\n",
       "       [ 1.15722027e-02,  7.85115664e-01,  8.09481771e-01],\n",
       "       [-5.70309086e-01,  2.72896799e-01,  6.42908973e-01],\n",
       "       [-4.14311704e-01, -7.85064034e-01, -9.28735203e-01],\n",
       "       [ 1.47920939e+00,  8.76478561e-01,  2.72919532e-01],\n",
       "       [ 1.74185427e+00,  1.57676508e+00,  9.62580692e-01],\n",
       "       [-1.77982864e+00, -1.90852418e+00, -1.66706245e+00],\n",
       "       [-3.24681232e-01,  3.36977682e-01,  8.88270778e-01],\n",
       "       [ 2.27643830e+00,  4.22062023e-01, -3.31963724e-01],\n",
       "       [-3.33440218e-02,  7.25546991e-01,  4.06422999e-01],\n",
       "       [-3.39777012e-01,  2.78078080e-01,  2.73399925e-01],\n",
       "       [ 1.40104402e+00,  1.71259172e+00,  2.15002037e+00],\n",
       "       [-1.99359826e-01, -1.15628033e+00, -1.36931037e+00],\n",
       "       [ 9.22261668e-01,  1.33888112e+00,  1.78457408e+00],\n",
       "       [-2.49249956e-01, -7.26646162e-01, -6.84993009e-01],\n",
       "       [-1.59396648e+00, -1.44122938e+00, -1.40138689e+00],\n",
       "       [ 8.37022159e-01,  1.01408225e+00,  1.14686397e+00],\n",
       "       [ 7.59086688e-01,  9.32241562e-01,  5.91255301e-01],\n",
       "       [-3.06270063e-01, -2.38840336e-01, -3.56925853e-01],\n",
       "       [-1.78400126e-01, -7.43346158e-01, -7.58955211e-01],\n",
       "       [ 9.41809167e-01,  1.12901783e+00,  1.34782833e+00],\n",
       "       [ 3.78123932e-01, -2.00115045e-02, -9.73672954e-02],\n",
       "       [-1.71485094e+00, -7.32218180e-01, -1.04842166e+00],\n",
       "       [-1.69718369e-01,  6.03717305e-01,  8.36914492e-01],\n",
       "       [-1.14516062e-01,  2.56801642e-01,  5.51547399e-01],\n",
       "       [-3.25719036e-01, -1.66564678e-01, -9.97719620e-01],\n",
       "       [ 5.11683729e-01,  1.92768931e-01,  1.96610268e-01],\n",
       "       [-6.68966154e-01, -2.07024702e-01,  5.34724498e-01],\n",
       "       [-2.64084643e-01, -9.89713926e-01, -9.41179666e-01],\n",
       "       [ 1.17930696e-01,  1.62778521e-01,  9.06264493e-02],\n",
       "       [ 2.07254095e-01,  1.50200583e+00,  1.40626698e+00],\n",
       "       [ 3.94390525e-01,  8.07296685e-01,  1.16585551e+00],\n",
       "       [ 1.85676967e-01, -8.73258214e-01, -8.75741007e-01],\n",
       "       [-1.96177497e-02, -1.73817401e-01, -3.88320671e-01],\n",
       "       [-5.04321499e-01, -8.41094663e-01, -1.10662697e+00],\n",
       "       [ 1.08087162e+00,  1.79602747e+00,  1.75612109e+00],\n",
       "       [-4.60784634e-01, -1.04121093e+00, -1.24509907e+00],\n",
       "       [-5.66929655e-01, -2.72856376e-02, -2.00317776e-01],\n",
       "       [-4.13390488e-01, -1.31223261e+00, -1.05138637e+00],\n",
       "       [ 1.09820229e+00,  1.69245002e+00,  1.45835529e+00],\n",
       "       [-8.90323844e-01, -2.76586610e-01, -7.53103569e-01],\n",
       "       [ 3.31775801e-01,  1.06152202e+00,  7.51779724e-01],\n",
       "       [-1.33024274e+00, -7.68503204e-01, -1.09598055e+00],\n",
       "       [-3.01660702e-01,  1.52833459e-01,  7.14107343e-02],\n",
       "       [ 2.55249248e-01, -4.90737302e-01, -9.56474461e-01],\n",
       "       [ 1.68272079e+00,  1.40880701e+00,  1.61570912e+00],\n",
       "       [ 4.25926960e-01,  5.08356043e-01, -5.16832628e-01],\n",
       "       [ 9.58280970e-02,  3.33246946e-01,  7.20430658e-01],\n",
       "       [ 3.14289131e-01,  6.82143058e-01,  8.26341273e-01],\n",
       "       [-1.11057312e+00, -7.94687942e-01, -7.85893814e-01],\n",
       "       [-3.69285459e-01,  7.62811032e-02,  2.70224757e-01],\n",
       "       [ 1.00550275e+00, -8.23110052e-01, -7.33938181e-01],\n",
       "       [ 5.78183650e-01, -6.32633746e-01, -5.74809185e-01],\n",
       "       [ 2.73442018e-01, -3.68881355e-02, -6.17225588e-01],\n",
       "       [ 1.19525339e+00,  1.72883139e+00,  2.11063273e+00],\n",
       "       [-8.54007271e-01,  4.74426147e-01,  4.64696942e-01],\n",
       "       [-4.01657720e-01, -6.63667906e-01, -9.78325474e-01],\n",
       "       [ 1.78724670e+00, -1.63529775e-01,  2.45482236e-01]])"
      ]
     },
     "execution_count": 17,
     "metadata": {},
     "output_type": "execute_result"
    }
   ],
   "source": [
    "X_train"
   ]
  },
  {
   "cell_type": "markdown",
   "id": "3f70cb4a",
   "metadata": {},
   "source": [
    "## Logistic Regression Classifier"
   ]
  },
  {
   "cell_type": "code",
   "execution_count": 18,
   "id": "eef6be93",
   "metadata": {},
   "outputs": [
    {
     "data": {
      "text/plain": [
       "LogisticRegression()"
      ]
     },
     "execution_count": 18,
     "metadata": {},
     "output_type": "execute_result"
    }
   ],
   "source": [
    "from sklearn.linear_model import LogisticRegression\n",
    "LogitReg = LogisticRegression()\n",
    "LogitReg.fit(X_train, y_train)"
   ]
  },
  {
   "cell_type": "code",
   "execution_count": 19,
   "id": "16e975b3",
   "metadata": {},
   "outputs": [],
   "source": [
    "y_pred=LogitReg.predict(X_test)"
   ]
  },
  {
   "cell_type": "markdown",
   "id": "d658e3f7",
   "metadata": {},
   "source": [
    "## Confusion Matrix"
   ]
  },
  {
   "cell_type": "code",
   "execution_count": 20,
   "id": "64279981",
   "metadata": {},
   "outputs": [
    {
     "name": "stdout",
     "output_type": "stream",
     "text": [
      "[[18  1]\n",
      " [ 1 28]]\n",
      "Your Model Accuracy is= 95.83333333333334 %\n"
     ]
    }
   ],
   "source": [
    "from sklearn.metrics import confusion_matrix, accuracy_score\n",
    "cm = confusion_matrix(y_test, y_pred)\n",
    "print(cm)\n",
    "print(\"Your Model Accuracy is=\", accuracy_score(y_test, y_pred)*100, \"%\")"
   ]
  },
  {
   "cell_type": "markdown",
   "id": "6972ebcf",
   "metadata": {},
   "source": [
    "## Checking the Probability of Good or bad for a New Paper Towel"
   ]
  },
  {
   "cell_type": "code",
   "execution_count": 21,
   "id": "f00d6d6f",
   "metadata": {},
   "outputs": [
    {
     "name": "stdout",
     "output_type": "stream",
     "text": [
      "Chance of this towel being Good is  84.604567398257 %\n"
     ]
    }
   ],
   "source": [
    "# Suppose you have done your measurements of Density, MOR, and MOE of the new paper as:\n",
    "\n",
    "New_Paper=[[405, 60, 4261]]\n",
    "#New_Paper=[[526, 97, 9095]]\n",
    "\n",
    "\n",
    "\n",
    "New_Paper = sc.transform(New_Paper)\n",
    "\n",
    "Probability=LogitReg.predict_proba(New_Paper)\n",
    "\n",
    "print(\"Chance of this towel being Good is \", 100*Probability[0,1], \"%\" )"
   ]
  },
  {
   "cell_type": "markdown",
   "id": "e83a0345",
   "metadata": {},
   "source": [
    "##### <font color='red'> Now that you find a good towel paper, try to answer this mystery! Which way is correct?\n",
    "<a href='https://news.yahoo.com/right-way-to-hang-toilet-roll-getting-wrong-harmful-115507518.html?guccounter=1&guce_referrer=aHR0cHM6Ly93d3cuZ29vZ2xlLmNvbS8&guce_referrer_sig=AQAAAN2ywJoAN6igScG6vxr0O9Pq-0BmpjwLY_0RXzgtXUDAOmnevWNv4_dS3wcP_pQAu2VJ3ZuCO_EyAyUpcT8xtDSQCSPE5orjcSwFoTOpV43Bt3s6oFP8mItBHvIEzlgcLSSaYSE9CDqmuaDQteIvKy2nxvKBpRZt-YHKeNAcMLxv'><img src='OverUnder.jpg' width=800 height=250/></a>"
   ]
  }
 ],
 "metadata": {
  "kernelspec": {
   "display_name": "Python 3.9.7 ('base')",
   "language": "python",
   "name": "python3"
  },
  "language_info": {
   "codemirror_mode": {
    "name": "ipython",
    "version": 3
   },
   "file_extension": ".py",
   "mimetype": "text/x-python",
   "name": "python",
   "nbconvert_exporter": "python",
   "pygments_lexer": "ipython3",
   "version": "3.9.7"
  },
  "toc": {
   "base_numbering": 1,
   "nav_menu": {},
   "number_sections": true,
   "sideBar": true,
   "skip_h1_title": false,
   "title_cell": "Table of Contents",
   "title_sidebar": "Contents",
   "toc_cell": false,
   "toc_position": {},
   "toc_section_display": true,
   "toc_window_display": true
  },
  "vscode": {
   "interpreter": {
    "hash": "124e47c1ad6ceb91c3ceb1dde65cfb37b91587009ebc216d439d411f4704dda1"
   }
  }
 },
 "nbformat": 4,
 "nbformat_minor": 5
}

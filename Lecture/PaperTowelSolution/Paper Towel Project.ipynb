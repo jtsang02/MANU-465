{
 "cells": [
  {
   "cell_type": "markdown",
   "id": "c5867fc5",
   "metadata": {},
   "source": [
    "# Paper Towel Project\n",
    "Use Logistic Regression Classifier to predict the quality of a paper towels!\n",
    "<img src='Toilet Paper.jpg' width=300 height=300/></a>\n",
    "## How it is Made? \n",
    "<a href='https://www.youtube.com/watch?v=Z74OfpUbeac'><img src='YueTube Logo.png' width=250 height=250/></a>\n",
    "## Paper Towel Mechanical Properties\n",
    "<a href='https://www.youtube.com/watch?v=BoDVYkW5BLA'><img src='YueTube Logo.png' width=250 height=250/></a>"
   ]
  },
  {
   "cell_type": "markdown",
   "id": "202c622f",
   "metadata": {},
   "source": [
    "# Libraries"
   ]
  },
  {
   "cell_type": "code",
   "execution_count": 1,
   "id": "94b54d92",
   "metadata": {},
   "outputs": [],
   "source": [
    "import pandas as pd\n",
    "import seaborn as sb\n",
    "import matplotlib.pyplot as plt\n",
    "import numpy as np"
   ]
  },
  {
   "cell_type": "markdown",
   "id": "5cf38532",
   "metadata": {},
   "source": [
    "# Import the Dataset"
   ]
  },
  {
   "cell_type": "code",
   "execution_count": 2,
   "id": "9260d5fc",
   "metadata": {},
   "outputs": [],
   "source": [
    "dataset=pd.read_csv('PaperTowel.csv')"
   ]
  },
  {
   "cell_type": "code",
   "execution_count": 3,
   "id": "65afc176",
   "metadata": {},
   "outputs": [
    {
     "data": {
      "text/html": [
       "<div>\n",
       "<style scoped>\n",
       "    .dataframe tbody tr th:only-of-type {\n",
       "        vertical-align: middle;\n",
       "    }\n",
       "\n",
       "    .dataframe tbody tr th {\n",
       "        vertical-align: top;\n",
       "    }\n",
       "\n",
       "    .dataframe thead th {\n",
       "        text-align: right;\n",
       "    }\n",
       "</style>\n",
       "<table border=\"1\" class=\"dataframe\">\n",
       "  <thead>\n",
       "    <tr style=\"text-align: right;\">\n",
       "      <th></th>\n",
       "      <th>Density</th>\n",
       "      <th>MOR</th>\n",
       "      <th>MOE</th>\n",
       "      <th>Customer Satisfaction</th>\n",
       "    </tr>\n",
       "  </thead>\n",
       "  <tbody>\n",
       "    <tr>\n",
       "      <th>0</th>\n",
       "      <td>405.4034</td>\n",
       "      <td>60.9887</td>\n",
       "      <td>4261.42</td>\n",
       "      <td>Good</td>\n",
       "    </tr>\n",
       "    <tr>\n",
       "      <th>1</th>\n",
       "      <td>392.9937</td>\n",
       "      <td>44.7461</td>\n",
       "      <td>4156.92</td>\n",
       "      <td>Good</td>\n",
       "    </tr>\n",
       "    <tr>\n",
       "      <th>2</th>\n",
       "      <td>470.9295</td>\n",
       "      <td>49.8413</td>\n",
       "      <td>3993.37</td>\n",
       "      <td>Good</td>\n",
       "    </tr>\n",
       "    <tr>\n",
       "      <th>3</th>\n",
       "      <td>403.3186</td>\n",
       "      <td>42.1607</td>\n",
       "      <td>3279.16</td>\n",
       "      <td>Good</td>\n",
       "    </tr>\n",
       "    <tr>\n",
       "      <th>4</th>\n",
       "      <td>485.5602</td>\n",
       "      <td>75.6535</td>\n",
       "      <td>4777.84</td>\n",
       "      <td>Good</td>\n",
       "    </tr>\n",
       "  </tbody>\n",
       "</table>\n",
       "</div>"
      ],
      "text/plain": [
       "    Density      MOR      MOE Customer Satisfaction\n",
       "0  405.4034  60.9887  4261.42                  Good\n",
       "1  392.9937  44.7461  4156.92                  Good\n",
       "2  470.9295  49.8413  3993.37                  Good\n",
       "3  403.3186  42.1607  3279.16                  Good\n",
       "4  485.5602  75.6535  4777.84                  Good"
      ]
     },
     "execution_count": 3,
     "metadata": {},
     "output_type": "execute_result"
    }
   ],
   "source": [
    "dataset.head()"
   ]
  },
  {
   "cell_type": "markdown",
   "id": "509631a6",
   "metadata": {},
   "source": [
    "## Checking the Input (Features) and Output (Labels)"
   ]
  },
  {
   "cell_type": "code",
   "execution_count": 4,
   "id": "e78193b9",
   "metadata": {},
   "outputs": [],
   "source": [
    "X=dataset.iloc[:,:-1].values\n",
    "y=dataset.iloc[:,-1].values"
   ]
  },
  {
   "cell_type": "code",
   "execution_count": 5,
   "id": "48a9dbc2",
   "metadata": {
    "scrolled": true
   },
   "outputs": [
    {
     "data": {
      "text/html": [
       "<div>\n",
       "<style scoped>\n",
       "    .dataframe tbody tr th:only-of-type {\n",
       "        vertical-align: middle;\n",
       "    }\n",
       "\n",
       "    .dataframe tbody tr th {\n",
       "        vertical-align: top;\n",
       "    }\n",
       "\n",
       "    .dataframe thead th {\n",
       "        text-align: right;\n",
       "    }\n",
       "</style>\n",
       "<table border=\"1\" class=\"dataframe\">\n",
       "  <thead>\n",
       "    <tr style=\"text-align: right;\">\n",
       "      <th></th>\n",
       "      <th>0</th>\n",
       "      <th>1</th>\n",
       "      <th>2</th>\n",
       "    </tr>\n",
       "  </thead>\n",
       "  <tbody>\n",
       "    <tr>\n",
       "      <th>0</th>\n",
       "      <td>405.4034</td>\n",
       "      <td>60.9887</td>\n",
       "      <td>4261.42</td>\n",
       "    </tr>\n",
       "    <tr>\n",
       "      <th>1</th>\n",
       "      <td>392.9937</td>\n",
       "      <td>44.7461</td>\n",
       "      <td>4156.92</td>\n",
       "    </tr>\n",
       "    <tr>\n",
       "      <th>2</th>\n",
       "      <td>470.9295</td>\n",
       "      <td>49.8413</td>\n",
       "      <td>3993.37</td>\n",
       "    </tr>\n",
       "    <tr>\n",
       "      <th>3</th>\n",
       "      <td>403.3186</td>\n",
       "      <td>42.1607</td>\n",
       "      <td>3279.16</td>\n",
       "    </tr>\n",
       "    <tr>\n",
       "      <th>4</th>\n",
       "      <td>485.5602</td>\n",
       "      <td>75.6535</td>\n",
       "      <td>4777.84</td>\n",
       "    </tr>\n",
       "    <tr>\n",
       "      <th>...</th>\n",
       "      <td>...</td>\n",
       "      <td>...</td>\n",
       "      <td>...</td>\n",
       "    </tr>\n",
       "    <tr>\n",
       "      <th>235</th>\n",
       "      <td>449.3665</td>\n",
       "      <td>77.9829</td>\n",
       "      <td>8590.07</td>\n",
       "    </tr>\n",
       "    <tr>\n",
       "      <th>236</th>\n",
       "      <td>439.8520</td>\n",
       "      <td>71.5830</td>\n",
       "      <td>7631.20</td>\n",
       "    </tr>\n",
       "    <tr>\n",
       "      <th>237</th>\n",
       "      <td>516.9763</td>\n",
       "      <td>87.2491</td>\n",
       "      <td>8853.45</td>\n",
       "    </tr>\n",
       "    <tr>\n",
       "      <th>238</th>\n",
       "      <td>440.9710</td>\n",
       "      <td>61.6939</td>\n",
       "      <td>5127.35</td>\n",
       "    </tr>\n",
       "    <tr>\n",
       "      <th>239</th>\n",
       "      <td>459.5091</td>\n",
       "      <td>78.5236</td>\n",
       "      <td>7896.54</td>\n",
       "    </tr>\n",
       "  </tbody>\n",
       "</table>\n",
       "<p>240 rows × 3 columns</p>\n",
       "</div>"
      ],
      "text/plain": [
       "            0        1        2\n",
       "0    405.4034  60.9887  4261.42\n",
       "1    392.9937  44.7461  4156.92\n",
       "2    470.9295  49.8413  3993.37\n",
       "3    403.3186  42.1607  3279.16\n",
       "4    485.5602  75.6535  4777.84\n",
       "..        ...      ...      ...\n",
       "235  449.3665  77.9829  8590.07\n",
       "236  439.8520  71.5830  7631.20\n",
       "237  516.9763  87.2491  8853.45\n",
       "238  440.9710  61.6939  5127.35\n",
       "239  459.5091  78.5236  7896.54\n",
       "\n",
       "[240 rows x 3 columns]"
      ]
     },
     "execution_count": 5,
     "metadata": {},
     "output_type": "execute_result"
    }
   ],
   "source": [
    "pd.DataFrame(X)"
   ]
  },
  {
   "cell_type": "markdown",
   "id": "45eb9087",
   "metadata": {},
   "source": [
    "# Data Analysis"
   ]
  },
  {
   "cell_type": "markdown",
   "id": "ffe8d5e9",
   "metadata": {},
   "source": [
    "## Check Correlation between Variables"
   ]
  },
  {
   "cell_type": "code",
   "execution_count": 6,
   "id": "f20ec7f7",
   "metadata": {},
   "outputs": [
    {
     "data": {
      "text/plain": [
       "<AxesSubplot:>"
      ]
     },
     "execution_count": 6,
     "metadata": {},
     "output_type": "execute_result"
    },
    {
     "data": {
      "image/png": "[encoded data removed]",
      "text/plain": [
       "<Figure size 432x288 with 2 Axes>"
      ]
     },
     "metadata": {
      "needs_background": "light"
     },
     "output_type": "display_data"
    }
   ],
   "source": [
    "sb.heatmap(dataset.corr(), annot=True)"
   ]
  },
  {
   "cell_type": "markdown",
   "id": "8cc51b3c",
   "metadata": {},
   "source": [
    "## Check for Outlies"
   ]
  },
  {
   "cell_type": "code",
   "execution_count": 7,
   "id": "bd9ebe0a",
   "metadata": {},
   "outputs": [
    {
     "data": {
      "text/plain": [
       "<AxesSubplot:xlabel='Customer Satisfaction', ylabel='Density'>"
      ]
     },
     "execution_count": 7,
     "metadata": {},
     "output_type": "execute_result"
    },
    {
     "data": {
      "image/png": "[encoded data removed]",
      "text/plain": [
       "<Figure size 432x288 with 1 Axes>"
      ]
     },
     "metadata": {
      "needs_background": "light"
     },
     "output_type": "display_data"
    }
   ],
   "source": [
    "sb.boxplot(x='Customer Satisfaction', y='Density', data=dataset)"
   ]
  },
  {
   "cell_type": "markdown",
   "id": "04038ef2",
   "metadata": {},
   "source": [
    "### Manually Remove Outliers"
   ]
  },
  {
   "cell_type": "code",
   "execution_count": 8,
   "id": "ddc9af46",
   "metadata": {},
   "outputs": [
    {
     "data": {
      "text/plain": [
       "(array([ 14, 160, 227, 228], dtype=int64),)"
      ]
     },
     "execution_count": 8,
     "metadata": {},
     "output_type": "execute_result"
    }
   ],
   "source": [
    "Outliers=np.where(dataset['Density']>625)\n",
    "Outliers"
   ]
  },
  {
   "cell_type": "code",
   "execution_count": 9,
   "id": "0070f126",
   "metadata": {},
   "outputs": [
    {
     "data": {
      "text/plain": [
       "<AxesSubplot:xlabel='Customer Satisfaction', ylabel='Density'>"
      ]
     },
     "execution_count": 9,
     "metadata": {},
     "output_type": "execute_result"
    },
    {
     "data": {
      "image/png": "[encoded data removed]",
      "text/plain": [
       "<Figure size 432x288 with 1 Axes>"
      ]
     },
     "metadata": {
      "needs_background": "light"
     },
     "output_type": "display_data"
    }
   ],
   "source": [
    "CleanData=dataset.drop( [14,160,227,228], inplace = False)\n",
    "\n",
    "sb.boxplot(x='Customer Satisfaction', y='Density', data=CleanData)"
   ]
  },
  {
   "cell_type": "markdown",
   "id": "6a0433eb",
   "metadata": {},
   "source": [
    "### Systematically Remove Outliers\n",
    "##### Click on the Image--->>\n",
    "<a href='https://www.geeksforgeeks.org/detect-and-remove-the-outliers-using-python/'><img src='OutLiers2.jpg' width=800 height=250/></a>\n"
   ]
  },
  {
   "cell_type": "markdown",
   "id": "49c3608e",
   "metadata": {},
   "source": [
    "## Distributions"
   ]
  },
  {
   "cell_type": "code",
   "execution_count": 10,
   "id": "dfa54c79",
   "metadata": {},
   "outputs": [
    {
     "data": {
      "text/plain": [
       "<AxesSubplot:xlabel='Density', ylabel='Count'>"
      ]
     },
     "execution_count": 10,
     "metadata": {},
     "output_type": "execute_result"
    },
    {
     "data": {
      "image/png": "[encoded data removed]",
      "text/plain": [
       "<Figure size 432x288 with 1 Axes>"
      ]
     },
     "metadata": {
      "needs_background": "light"
     },
     "output_type": "display_data"
    }
   ],
   "source": [
    "sb.histplot(dataset['Density'], kde=True, bins=20)"
   ]
  },
  {
   "cell_type": "markdown",
   "id": "05acada3",
   "metadata": {},
   "source": [
    "## Check Distribution between each Pair of Features"
   ]
  },
  {
   "cell_type": "code",
   "execution_count": 11,
   "id": "053634c8",
   "metadata": {},
   "outputs": [
    {
     "data": {
      "text/plain": [
       "<seaborn.axisgrid.JointGrid at 0x2b3b4b3f280>"
      ]
     },
     "execution_count": 11,
     "metadata": {},
     "output_type": "execute_result"
    },
    {
     "data": {
      "image/png": "[encoded data removed]",
      "text/plain": [
       "<Figure size 432x432 with 3 Axes>"
      ]
     },
     "metadata": {
      "needs_background": "light"
     },
     "output_type": "display_data"
    }
   ],
   "source": [
    "sb.jointplot(x='MOE' , y='Density' , data=dataset, kind='kde')"
   ]
  },
  {
   "cell_type": "markdown",
   "id": "9511d34c",
   "metadata": {},
   "source": [
    "### Check Correlation and Distribution between each Pair of Features"
   ]
  },
  {
   "cell_type": "code",
   "execution_count": 12,
   "id": "a80ad44b",
   "metadata": {},
   "outputs": [
    {
     "data": {
      "text/plain": [
       "<seaborn.axisgrid.JointGrid at 0x2b3b4c347c0>"
      ]
     },
     "execution_count": 12,
     "metadata": {},
     "output_type": "execute_result"
    },
    {
     "data": {
      "image/png": "[encoded data removed]",
      "text/plain": [
       "<Figure size 432x432 with 3 Axes>"
      ]
     },
     "metadata": {
      "needs_background": "light"
     },
     "output_type": "display_data"
    }
   ],
   "source": [
    "sb.jointplot(x='MOE' , y='Density' , data=dataset, kind='reg')"
   ]
  },
  {
   "cell_type": "markdown",
   "id": "099ca108",
   "metadata": {},
   "source": [
    "# Data Preprocessing"
   ]
  },
  {
   "cell_type": "markdown",
   "id": "3e797fce",
   "metadata": {},
   "source": [
    "## Categorical Data"
   ]
  },
  {
   "cell_type": "code",
   "execution_count": 13,
   "id": "df5ec974",
   "metadata": {},
   "outputs": [],
   "source": [
    "from sklearn.preprocessing import LabelEncoder\n",
    "LaEnc = LabelEncoder()\n",
    "y = LaEnc.fit_transform(y)"
   ]
  },
  {
   "cell_type": "markdown",
   "id": "418306c0",
   "metadata": {},
   "source": [
    "## Splitting the Dataset into the Training set and Test set"
   ]
  },
  {
   "cell_type": "code",
   "execution_count": 14,
   "id": "f8c2321f",
   "metadata": {},
   "outputs": [],
   "source": [
    "from sklearn.model_selection import train_test_split\n",
    "X_train, X_test, y_train, y_test = train_test_split(X, y, test_size = 0.20) #, random_state = 0"
   ]
  },
  {
   "cell_type": "code",
   "execution_count": 15,
   "id": "896c59e5",
   "metadata": {},
   "outputs": [
    {
     "data": {
      "text/plain": [
       "(192, 3)"
      ]
     },
     "execution_count": 15,
     "metadata": {},
     "output_type": "execute_result"
    }
   ],
   "source": [
    "X_train.shape"
   ]
  },
  {
   "cell_type": "markdown",
   "id": "4d313c9a",
   "metadata": {},
   "source": [
    "## Feature Scaling"
   ]
  },
  {
   "cell_type": "code",
   "execution_count": 16,
   "id": "efe91405",
   "metadata": {},
   "outputs": [],
   "source": [
    "from sklearn.preprocessing import StandardScaler\n",
    "sc = StandardScaler()\n",
    "X_train = sc.fit_transform(X_train)\n",
    "X_test = sc.transform(X_test)"
   ]
  },
  {
   "cell_type": "code",
   "execution_count": 17,
   "id": "57f8709c",
   "metadata": {},
   "outputs": [
    {
     "data": {
      "text/plain": [
       "array([[ 3.92051565e-01,  4.50725445e-01,  9.53150410e-03],\n",
       "       [ 5.21118022e-01,  7.41894363e-02, -1.59110080e-01],\n",
       "       [ 1.84369914e+00,  1.70764788e+00,  1.06283977e+00],\n",
       "       [-1.55586869e+00, -1.56805852e+00, -1.23896456e+00],\n",
       "       [-1.68391771e+00, -1.36487616e+00, -1.15134170e+00],\n",
       "       [ 1.17680162e+00,  1.82788061e+00,  1.56468904e+00],\n",
       "       [ 3.82695570e-01,  1.17214966e+00,  8.49455883e-01],\n",
       "       [-3.81271889e-01, -1.18389566e+00, -8.61954703e-01],\n",
       "       [ 3.03405254e-01, -4.41131850e-01, -8.79729361e-01],\n",
       "       [-3.19580848e-01, -2.16876915e-01, -3.29701412e-01],\n",
       "       [-1.27676092e+00, -1.25979699e+00, -9.30510790e-01],\n",
       "       [-4.64061983e-01,  5.43477046e-01,  8.87820987e-01],\n",
       "       [-1.45905401e-01, -7.03671229e-01, -6.79789929e-01],\n",
       "       [-5.38680256e-01, -7.31614088e-01, -7.59437811e-01],\n",
       "       [-7.08268942e-01, -1.29037670e+00, -1.23694534e+00],\n",
       "       [-1.01753231e+00, -5.32642907e-01, -1.86128672e-01],\n",
       "       [-1.80516964e+00, -1.91465456e+00, -1.59902411e+00],\n",
       "       [ 6.18674561e-01,  7.16302212e-01,  2.69727861e-01],\n",
       "       [ 7.43463700e-01,  1.13013245e+00,  8.81767970e-01],\n",
       "       [-1.83109902e-01, -7.30768515e-01, -1.08656469e+00],\n",
       "       [-2.82799996e-01,  1.71791958e-01,  5.09176310e-01],\n",
       "       [-1.38721237e+00, -1.63075889e+00, -5.55057030e-01],\n",
       "       [-2.14818882e-01, -7.36659713e-01, -5.47799894e-01],\n",
       "       [-3.43684573e-01,  1.48177099e-01,  3.62000473e-01],\n",
       "       [ 5.13995964e-01,  8.00164168e-01,  6.28833381e-01],\n",
       "       [-7.89282775e-01, -1.13689159e-01, -2.72311218e-01],\n",
       "       [ 1.49058050e+00,  1.84881411e+00,  2.26482903e+00],\n",
       "       [ 6.87184811e-01,  8.27230509e-02, -2.96963252e-01],\n",
       "       [-1.61259504e+00, -1.42898953e+00, -1.33009326e+00],\n",
       "       [-3.37477868e-01, -3.34127889e-01, -4.99755521e-01],\n",
       "       [-9.19011076e-01, -1.26596077e+00, -1.12877372e+00],\n",
       "       [-4.28402353e-01, -5.83143658e-01,  2.15542478e-01],\n",
       "       [ 1.86114130e-02, -1.11753241e-01, -3.04614043e-01],\n",
       "       [ 1.93923553e-02,  9.95486033e-01,  1.18495140e+00],\n",
       "       [ 2.53676753e-01,  1.62994971e+00,  1.51196250e+00],\n",
       "       [-7.15008185e-01, -5.96772965e-01, -2.46237397e-01],\n",
       "       [ 3.52120237e+00,  2.16529773e+00,  1.55735781e+00],\n",
       "       [ 3.77856790e-01,  5.77160903e-01,  5.19823506e-01],\n",
       "       [-1.08596940e+00, -4.67578267e-01, -5.88165688e-01],\n",
       "       [-1.50417337e+00, -1.24928295e+00, -1.44276180e+00],\n",
       "       [ 5.09077218e-01,  9.61618598e-01,  2.51758691e-01],\n",
       "       [-2.19313979e-01, -6.86314725e-01, -6.04921476e-01],\n",
       "       [ 4.47571630e-01,  9.07930257e-01,  1.26860529e+00],\n",
       "       [ 6.41953055e-02,  1.41209220e+00,  1.18638245e+00],\n",
       "       [-1.66266048e-01,  5.80365181e-01,  1.16149885e+00],\n",
       "       [ 1.18493261e+00, -5.26534752e-01, -6.94294939e-01],\n",
       "       [ 1.08416893e+00,  9.22677723e-01,  4.94624987e-01],\n",
       "       [-8.45912153e-01,  5.61973962e-01,  5.58855506e-01],\n",
       "       [-2.71101174e-01,  5.65484203e-01,  8.43189830e-01],\n",
       "       [-5.51968185e-01,  3.52522121e-01,  7.39251151e-01],\n",
       "       [ 1.57156881e+00,  9.79831801e-01,  3.64728267e-01],\n",
       "       [-4.23888541e-01, -2.29847251e+00, -1.76651252e+00],\n",
       "       [ 8.25438824e-01,  1.03778695e+00,  6.86964572e-01],\n",
       "       [ 2.59029355e-01,  1.47552689e+00,  6.26999415e-01],\n",
       "       [ 1.78243004e+00,  1.53308706e+00,  1.72397091e+00],\n",
       "       [ 5.43571389e-01,  6.65378673e-01,  1.02662819e+00],\n",
       "       [-1.49148773e+00, -2.59417039e-01,  1.68739274e-01],\n",
       "       [-1.28564393e+00, -1.61590017e+00, -1.48324338e+00],\n",
       "       [ 2.68832143e+00,  1.94644445e+00,  2.81355097e+00],\n",
       "       [-4.30370925e-02, -1.91543094e-01, -4.02420974e-01],\n",
       "       [-3.78825276e-01, -5.06307749e-01, -8.98231122e-01],\n",
       "       [-9.22000435e-01, -1.04320228e+00, -7.29751631e-01],\n",
       "       [-1.92788046e-03, -3.99153587e-01, -4.19514842e-01],\n",
       "       [-1.05842550e-01,  4.41029167e-01,  7.41256473e-01],\n",
       "       [-3.14675767e-02,  7.67526151e-01,  8.83819605e-01],\n",
       "       [-5.07672252e-01, -7.10880854e-01, -3.40589432e-01],\n",
       "       [-1.33934690e+00, -7.29817245e-01, -1.02094481e+00],\n",
       "       [ 5.98591243e-01,  3.39332291e-01, -2.01170905e-01],\n",
       "       [ 1.39588061e+00,  7.73311653e-01,  6.82833515e-01],\n",
       "       [ 5.09277930e-02,  8.84877259e-01,  9.07864947e-01],\n",
       "       [-2.73617544e-01,  2.27738869e-01,  1.60750404e-01],\n",
       "       [ 1.89073092e+00, -1.01061190e-01,  3.36954785e-01],\n",
       "       [-1.14477487e+00, -1.61793065e+00, -1.51100760e+00],\n",
       "       [-7.25655542e-01, -3.85351829e-01, -6.82198168e-01],\n",
       "       [ 1.02356848e+00,  2.34976309e-01,  5.25251307e-01],\n",
       "       [-6.66014741e-02, -2.60957985e-01, -9.50837256e-01],\n",
       "       [ 7.06562048e-01, -2.87832752e-01,  7.32540499e-01],\n",
       "       [ 1.53280583e+00,  1.93900674e+00,  1.58655771e+00],\n",
       "       [ 2.11817224e-01, -2.18134149e-01, -6.87825112e-01],\n",
       "       [ 3.64577368e-01,  7.77856609e-01,  9.24931027e-01],\n",
       "       [-3.30849216e-01, -1.21707329e+00, -1.14711339e+00],\n",
       "       [ 9.69018217e-01,  1.40053789e+00,  7.65107304e-01],\n",
       "       [-5.66207197e-01, -9.15910123e-01, -6.13739337e-01],\n",
       "       [ 2.39758971e+00,  5.07551307e-01, -2.47566560e-01],\n",
       "       [ 1.37428639e-01,  8.63036992e-01,  5.27205685e-01],\n",
       "       [-1.30895140e+00, -1.11838042e+00, -4.40776816e-01],\n",
       "       [-2.97432031e-01,  3.70796518e-01,  8.86755804e-01],\n",
       "       [-8.07188302e-01, -1.32924526e+00, -1.20470735e+00],\n",
       "       [ 2.31255377e+00,  8.87575306e-01,  1.22351564e+00],\n",
       "       [ 1.07887077e+00,  8.34153988e-01,  1.14870740e+00],\n",
       "       [-8.33420478e-01, -2.63628460e+00, -1.91265559e+00],\n",
       "       [ 7.19712164e-01,  7.74062655e-01,  1.15267636e+00],\n",
       "       [-6.54188261e-01, -1.46265983e-01,  6.29741102e-01],\n",
       "       [ 5.17002283e-02, -5.66632727e-01, -4.93355162e-01],\n",
       "       [ 1.61127432e-01,  2.38074890e-01,  1.80201567e-01],\n",
       "       [-2.15652222e+00, -2.29128514e+00, -1.51943180e+00],\n",
       "       [ 4.15449385e+00,  2.73383450e+00,  1.72826869e+00],\n",
       "       [ 4.68808497e-01,  1.29723331e+00,  1.86957676e+00],\n",
       "       [ 4.80247006e-01,  5.97237705e-01, -4.34700643e-01],\n",
       "       [ 7.17879757e-01, -2.19313501e-01, -3.08396454e-03],\n",
       "       [-1.80602039e-01, -1.67733531e-01, -9.22929468e-01],\n",
       "       [-2.06764962e+00, -1.04805320e+00, -8.52826550e-01],\n",
       "       [-7.97141592e-02,  3.35794234e-01,  6.46770132e-01],\n",
       "       [-2.78393372e-01, -1.79332348e-01, -2.72834547e-01],\n",
       "       [-1.69527630e-01, -1.62643402e-01, -7.99261752e-01],\n",
       "       [-1.09464313e+00, -1.19168384e+00, -1.05415072e+00],\n",
       "       [-1.81190723e-01, -3.24926717e-01,  4.85709871e-01],\n",
       "       [ 3.46501701e-01,  1.24252138e+00,  4.90188269e-01],\n",
       "       [-9.56275125e-01, -9.68341230e-01, -1.90593568e+00],\n",
       "       [ 9.87233399e-01, -1.24447967e-01,  1.94557061e+00],\n",
       "       [-8.83540301e-01, -2.18562498e-01, -6.73866587e-01],\n",
       "       [-5.33645815e-01, -5.31057457e-01, -5.34207236e-01],\n",
       "       [-3.34602503e-01,  2.64398921e-01, -6.33084705e-02],\n",
       "       [-5.80393465e-01, -9.79600706e-01, -7.65412097e-01],\n",
       "       [-3.90336945e-01, -7.47029112e-01, -8.51650218e-01],\n",
       "       [-3.17030450e-01, -6.21289027e-01, -6.65419225e-01],\n",
       "       [-1.72171940e+00, -1.24502171e+00, -1.18389461e+00],\n",
       "       [-1.34300831e+00, -1.07997359e+00, -1.06657168e+00],\n",
       "       [-4.44022901e-01,  6.45440945e-01,  4.60770701e-01],\n",
       "       [-4.35177326e-01, -4.72028653e-01, -3.56933040e-01],\n",
       "       [ 6.26378498e-01, -4.65408704e-01, -5.38768997e-01],\n",
       "       [ 9.94506881e-01,  1.46041226e+00,  1.89490496e+00],\n",
       "       [ 4.34382329e-02, -5.51053944e-02, -9.60928704e-01],\n",
       "       [ 7.26596026e-01, -3.77019524e-03,  8.88636083e-01],\n",
       "       [ 6.27705589e-01, -1.51016769e-01, -8.67498284e-01],\n",
       "       [-3.38405131e-01,  8.75286678e-01,  8.72908428e-01],\n",
       "       [-4.23708192e-01, -6.00555792e-01, -8.52790224e-02],\n",
       "       [-1.73784526e+00, -6.92105789e-01, -9.72803176e-01],\n",
       "       [-1.66092558e-02,  1.64370940e-01,  2.76827535e-01],\n",
       "       [-4.46193940e-02, -4.71149702e-01, -6.05023363e-01],\n",
       "       [ 1.45960482e+00,  1.52065936e+00,  1.44509681e+00],\n",
       "       [ 1.88835917e+00,  8.09165073e-01,  1.02905959e+00],\n",
       "       [ 4.22768630e-01,  1.03397631e+00,  9.75240071e-01],\n",
       "       [-2.98544746e-01, -1.04215401e-01, -9.21479893e-01],\n",
       "       [ 2.23987169e+00,  1.51460684e+00,  1.81218194e+00],\n",
       "       [-4.99005377e-02,  4.49523841e-01, -5.87467096e-02],\n",
       "       [ 1.38226596e-01,  4.15244745e-01,  8.17722700e-01],\n",
       "       [ 3.70137488e-02,  7.56900855e-01,  1.00964084e+00],\n",
       "       [-1.36641616e+00, -1.25519084e+00, -1.13270100e+00],\n",
       "       [ 7.36510984e-04, -3.28353514e-01,  4.94838024e-01],\n",
       "       [-5.48466705e-01,  4.05389574e-02, -1.14307568e-01],\n",
       "       [ 1.08075422e+00, -7.86570789e-01, -6.54466367e-01],\n",
       "       [-1.54102228e+00, -2.18368037e+00, -1.56760585e+00],\n",
       "       [-1.45335485e-02,  9.79044292e-02,  5.08162070e-01],\n",
       "       [ 1.10459758e-01, -4.03247942e-01, -9.34498279e-01],\n",
       "       [ 2.31320365e-01, -8.38690368e-01, -7.98006688e-01],\n",
       "       [-3.89382460e-01, -1.29492166e+00, -9.75804213e-01],\n",
       "       [ 1.42492180e+00,  1.76062416e+00,  1.55230514e+00],\n",
       "       [-1.39701923e+00, -1.32561819e+00, -1.01509556e+00],\n",
       "       [ 1.36668630e+00,  1.47410276e+00,  1.17901416e+00],\n",
       "       [-3.77225961e-01, -6.20860677e-01, -9.01848112e-01],\n",
       "       [-8.00697464e-01, -4.37988766e-01, -8.96879527e-02],\n",
       "       [-6.00583972e-01, -4.70821486e-01, -6.13466094e-01],\n",
       "       [ 1.17630991e+00,  7.73217082e-01, -8.98578464e-01],\n",
       "       [ 7.52117017e-01,  1.64370140e+00,  1.26379344e+00],\n",
       "       [-1.81405099e-01,  8.23306173e-01,  9.52889759e-01],\n",
       "       [ 6.38002458e-01, -5.88606507e-01, -4.93387581e-01],\n",
       "       [ 9.25423207e-02, -1.63778250e-01,  6.10724551e-02],\n",
       "       [ 1.04217323e-01,  3.26403920e-01, -7.21415418e-01],\n",
       "       [ 9.45076125e-01,  1.71792271e+00,  1.19330613e+00],\n",
       "       [-1.11174390e+00, -7.57031354e-01, -7.07058607e-01],\n",
       "       [ 4.30717568e-01,  4.80990502e-02, -1.00956457e-02],\n",
       "       [-1.67622063e-01, -1.13283861e+00, -1.29762371e+00],\n",
       "       [-8.96469235e-01, -3.02363261e-01,  5.89559833e-02],\n",
       "       [-7.76762177e-01, -5.12176695e-01, -8.70429852e-01],\n",
       "       [ 8.15563849e-02,  6.40667907e-01,  6.26466823e-01],\n",
       "       [-1.91738713e+00, -1.13232125e+00, -7.65717758e-01],\n",
       "       [ 2.49452178e-01,  1.80978875e-02, -3.96604150e-01],\n",
       "       [ 3.22255058e-01,  3.05589675e-02, -5.36323707e-01],\n",
       "       [ 1.42084014e+00,  2.51097588e+00,  3.48762177e+00],\n",
       "       [ 2.47585690e-02, -2.65658705e-01,  2.58751123e-02],\n",
       "       [-1.21061902e+00, -8.97925002e-01, -2.35877337e-01],\n",
       "       [ 8.69966147e-01,  9.87325138e-01,  1.20299004e+00],\n",
       "       [-4.64242331e-01,  3.61052607e-02, -1.40799516e+00],\n",
       "       [ 1.14151970e+00,  8.07156836e-01, -1.14775322e-01],\n",
       "       [ 6.10002529e-01,  8.07446111e-01,  6.21094597e-01],\n",
       "       [-7.90659792e-03, -2.40908998e-01, -7.57682575e-01],\n",
       "       [ 1.10364995e+00,  1.11337119e+00,  1.74746977e+00],\n",
       "       [-1.09467886e+00, -1.12213543e+00, -7.22262933e-01],\n",
       "       [ 6.17978689e-01,  1.60727499e+00,  1.63877482e+00],\n",
       "       [-1.51501304e-01, -9.76802526e-01, -3.92408257e-01],\n",
       "       [ 1.94677326e-01, -7.70427015e-01, -6.40642148e-01],\n",
       "       [-9.20770323e-01, -5.40442207e-01, -8.19773466e-01],\n",
       "       [ 5.52808287e-01,  9.62447482e-01,  7.35194194e-01],\n",
       "       [-8.65568420e-01, -6.32209161e-01, -4.16740735e-01],\n",
       "       [-7.28411809e-01, -9.73653878e-01, -1.32389667e+00],\n",
       "       [-1.65491911e-01, -3.17911796e-01, -8.72963135e-01],\n",
       "       [-4.07289688e-01, -1.43829396e-01, -8.34588769e-01],\n",
       "       [ 2.70461058e-01,  3.46235952e-01,  1.08657946e+00],\n",
       "       [-5.01191622e-01,  5.17158578e-01,  9.91935653e-01],\n",
       "       [-1.55059945e+00, -1.77802772e+00, -1.78313400e+00],\n",
       "       [ 9.06188940e-01,  1.12284495e+00,  1.24938106e+00]])"
      ]
     },
     "execution_count": 17,
     "metadata": {},
     "output_type": "execute_result"
    }
   ],
   "source": [
    "X_train"
   ]
  },
  {
   "cell_type": "markdown",
   "id": "3f70cb4a",
   "metadata": {},
   "source": [
    "## Logistic Regression Classifier"
   ]
  },
  {
   "cell_type": "code",
   "execution_count": 18,
   "id": "eef6be93",
   "metadata": {},
   "outputs": [
    {
     "data": {
      "text/plain": [
       "LogisticRegression()"
      ]
     },
     "execution_count": 18,
     "metadata": {},
     "output_type": "execute_result"
    }
   ],
   "source": [
    "from sklearn.linear_model import LogisticRegression\n",
    "LogitReg = LogisticRegression()\n",
    "LogitReg.fit(X_train, y_train)"
   ]
  },
  {
   "cell_type": "code",
   "execution_count": 19,
   "id": "16e975b3",
   "metadata": {},
   "outputs": [],
   "source": [
    "y_pred=LogitReg.predict(X_test)"
   ]
  },
  {
   "cell_type": "markdown",
   "id": "d658e3f7",
   "metadata": {},
   "source": [
    "## Confusion Matrix"
   ]
  },
  {
   "cell_type": "code",
   "execution_count": 20,
   "id": "64279981",
   "metadata": {},
   "outputs": [
    {
     "name": "stdout",
     "output_type": "stream",
     "text": [
      "[[26  1]\n",
      " [ 1 20]]\n",
      "Your Model Accuracy is= 95.83333333333334 %\n"
     ]
    }
   ],
   "source": [
    "from sklearn.metrics import confusion_matrix, accuracy_score\n",
    "cm = confusion_matrix(y_test, y_pred)\n",
    "print(cm)\n",
    "print(\"Your Model Accuracy is=\", accuracy_score(y_test, y_pred)*100, \"%\")"
   ]
  },
  {
   "cell_type": "markdown",
   "id": "6972ebcf",
   "metadata": {},
   "source": [
    "## Checking the Probability of Good or bad for a New Paper Towel"
   ]
  },
  {
   "cell_type": "code",
   "execution_count": 21,
   "id": "f00d6d6f",
   "metadata": {},
   "outputs": [
    {
     "name": "stdout",
     "output_type": "stream",
     "text": [
      "Chance of this towel being Good is  85.84676979828663 %\n"
     ]
    }
   ],
   "source": [
    "# Suppose you have done your measurements of Density, MOR, and MOE of the new paper as:\n",
    "\n",
    "New_Paper=[[405, 60, 4261]]\n",
    "#New_Paper=[[526, 97, 9095]]\n",
    "\n",
    "\n",
    "\n",
    "New_Paper = sc.transform(New_Paper)\n",
    "\n",
    "Probability=LogitReg.predict_proba(New_Paper)\n",
    "\n",
    "print(\"Chance of this towel being Good is \", 100*Probability[0,1], \"%\" )"
   ]
  },
  {
   "cell_type": "markdown",
   "id": "e83a0345",
   "metadata": {},
   "source": [
    "##### <font color='red'> Now that you find a good towel paper, try to answer this mystery! Which way is correct?\n",
    "<a href='https://news.yahoo.com/right-way-to-hang-toilet-roll-getting-wrong-harmful-115507518.html?guccounter=1&guce_referrer=aHR0cHM6Ly93d3cuZ29vZ2xlLmNvbS8&guce_referrer_sig=AQAAAN2ywJoAN6igScG6vxr0O9Pq-0BmpjwLY_0RXzgtXUDAOmnevWNv4_dS3wcP_pQAu2VJ3ZuCO_EyAyUpcT8xtDSQCSPE5orjcSwFoTOpV43Bt3s6oFP8mItBHvIEzlgcLSSaYSE9CDqmuaDQteIvKy2nxvKBpRZt-YHKeNAcMLxv'><img src='OverUnder.jpg' width=800 height=250/></a>"
   ]
  }
 ],
 "metadata": {
  "kernelspec": {
   "display_name": "Python 3.9.7 ('base')",
   "language": "python",
   "name": "python3"
  },
  "language_info": {
   "codemirror_mode": {
    "name": "ipython",
    "version": 3
   },
   "file_extension": ".py",
   "mimetype": "text/x-python",
   "name": "python",
   "nbconvert_exporter": "python",
   "pygments_lexer": "ipython3",
   "version": "3.9.7"
  },
  "toc": {
   "base_numbering": 1,
   "nav_menu": {},
   "number_sections": true,
   "sideBar": true,
   "skip_h1_title": false,
   "title_cell": "Table of Contents",
   "title_sidebar": "Contents",
   "toc_cell": false,
   "toc_position": {},
   "toc_section_display": true,
   "toc_window_display": true
  },
  "vscode": {
   "interpreter": {
    "hash": "124e47c1ad6ceb91c3ceb1dde65cfb37b91587009ebc216d439d411f4704dda1"
   }
  }
 },
 "nbformat": 4,
 "nbformat_minor": 5
}

{
 "cells": [
  {
   "cell_type": "markdown",
   "id": "c5867fc5",
   "metadata": {},
   "source": [
    "# Paper Towel Project\n",
    "Use Logistic Regression Classifier to predict the quality of a paper towels!\n",
    "<img src='Toilet Paper.jpg' width=300 height=300/></a>\n",
    "## How it is Made? \n",
    "<a href='https://www.youtube.com/watch?v=Z74OfpUbeac'><img src='YueTube Logo.png' width=250 height=250/></a>\n",
    "## Paper Towel Mechanical Properties\n",
    "<a href='https://www.youtube.com/watch?v=BoDVYkW5BLA'><img src='YueTube Logo.png' width=250 height=250/></a>"
   ]
  },
  {
   "cell_type": "markdown",
   "id": "202c622f",
   "metadata": {},
   "source": [
    "# Libraries"
   ]
  },
  {
   "cell_type": "code",
   "execution_count": 1,
   "id": "94b54d92",
   "metadata": {},
   "outputs": [],
   "source": [
    "import pandas as pd\n",
    "import seaborn as sb\n",
    "import matplotlib.pyplot as plt\n",
    "import numpy as np"
   ]
  },
  {
   "cell_type": "markdown",
   "id": "5cf38532",
   "metadata": {},
   "source": [
    "# Import the Dataset"
   ]
  },
  {
   "cell_type": "code",
   "execution_count": 2,
   "id": "9260d5fc",
   "metadata": {},
   "outputs": [],
   "source": [
    "dataset=pd.read_csv('PaperTowel.csv')"
   ]
  },
  {
   "cell_type": "code",
   "execution_count": 3,
   "id": "65afc176",
   "metadata": {},
   "outputs": [
    {
     "data": {
      "text/html": [
       "<div>\n",
       "<style scoped>\n",
       "    .dataframe tbody tr th:only-of-type {\n",
       "        vertical-align: middle;\n",
       "    }\n",
       "\n",
       "    .dataframe tbody tr th {\n",
       "        vertical-align: top;\n",
       "    }\n",
       "\n",
       "    .dataframe thead th {\n",
       "        text-align: right;\n",
       "    }\n",
       "</style>\n",
       "<table border=\"1\" class=\"dataframe\">\n",
       "  <thead>\n",
       "    <tr style=\"text-align: right;\">\n",
       "      <th></th>\n",
       "      <th>Density</th>\n",
       "      <th>MOR</th>\n",
       "      <th>MOE</th>\n",
       "      <th>Customer Satisfaction</th>\n",
       "    </tr>\n",
       "  </thead>\n",
       "  <tbody>\n",
       "    <tr>\n",
       "      <th>0</th>\n",
       "      <td>405.4034</td>\n",
       "      <td>60.9887</td>\n",
       "      <td>4261.42</td>\n",
       "      <td>Good</td>\n",
       "    </tr>\n",
       "    <tr>\n",
       "      <th>1</th>\n",
       "      <td>392.9937</td>\n",
       "      <td>44.7461</td>\n",
       "      <td>4156.92</td>\n",
       "      <td>Good</td>\n",
       "    </tr>\n",
       "    <tr>\n",
       "      <th>2</th>\n",
       "      <td>470.9295</td>\n",
       "      <td>49.8413</td>\n",
       "      <td>3993.37</td>\n",
       "      <td>Good</td>\n",
       "    </tr>\n",
       "    <tr>\n",
       "      <th>3</th>\n",
       "      <td>403.3186</td>\n",
       "      <td>42.1607</td>\n",
       "      <td>3279.16</td>\n",
       "      <td>Good</td>\n",
       "    </tr>\n",
       "    <tr>\n",
       "      <th>4</th>\n",
       "      <td>485.5602</td>\n",
       "      <td>75.6535</td>\n",
       "      <td>4777.84</td>\n",
       "      <td>Good</td>\n",
       "    </tr>\n",
       "  </tbody>\n",
       "</table>\n",
       "</div>"
      ],
      "text/plain": [
       "    Density      MOR      MOE Customer Satisfaction\n",
       "0  405.4034  60.9887  4261.42                  Good\n",
       "1  392.9937  44.7461  4156.92                  Good\n",
       "2  470.9295  49.8413  3993.37                  Good\n",
       "3  403.3186  42.1607  3279.16                  Good\n",
       "4  485.5602  75.6535  4777.84                  Good"
      ]
     },
     "execution_count": 3,
     "metadata": {},
     "output_type": "execute_result"
    }
   ],
   "source": [
    "dataset.head()"
   ]
  },
  {
   "cell_type": "markdown",
   "id": "509631a6",
   "metadata": {},
   "source": [
    "## Checking the Input (Features) and Output (Labels)"
   ]
  },
  {
   "cell_type": "code",
   "execution_count": 4,
   "id": "e78193b9",
   "metadata": {},
   "outputs": [],
   "source": [
    "X=dataset.iloc[:,:-1].values\n",
    "y=dataset.iloc[:,-1].values"
   ]
  },
  {
   "cell_type": "code",
   "execution_count": 5,
   "id": "48a9dbc2",
   "metadata": {
    "scrolled": true
   },
   "outputs": [
    {
     "data": {
      "text/html": [
       "<div>\n",
       "<style scoped>\n",
       "    .dataframe tbody tr th:only-of-type {\n",
       "        vertical-align: middle;\n",
       "    }\n",
       "\n",
       "    .dataframe tbody tr th {\n",
       "        vertical-align: top;\n",
       "    }\n",
       "\n",
       "    .dataframe thead th {\n",
       "        text-align: right;\n",
       "    }\n",
       "</style>\n",
       "<table border=\"1\" class=\"dataframe\">\n",
       "  <thead>\n",
       "    <tr style=\"text-align: right;\">\n",
       "      <th></th>\n",
       "      <th>0</th>\n",
       "      <th>1</th>\n",
       "      <th>2</th>\n",
       "    </tr>\n",
       "  </thead>\n",
       "  <tbody>\n",
       "    <tr>\n",
       "      <th>0</th>\n",
       "      <td>405.4034</td>\n",
       "      <td>60.9887</td>\n",
       "      <td>4261.42</td>\n",
       "    </tr>\n",
       "    <tr>\n",
       "      <th>1</th>\n",
       "      <td>392.9937</td>\n",
       "      <td>44.7461</td>\n",
       "      <td>4156.92</td>\n",
       "    </tr>\n",
       "    <tr>\n",
       "      <th>2</th>\n",
       "      <td>470.9295</td>\n",
       "      <td>49.8413</td>\n",
       "      <td>3993.37</td>\n",
       "    </tr>\n",
       "    <tr>\n",
       "      <th>3</th>\n",
       "      <td>403.3186</td>\n",
       "      <td>42.1607</td>\n",
       "      <td>3279.16</td>\n",
       "    </tr>\n",
       "    <tr>\n",
       "      <th>4</th>\n",
       "      <td>485.5602</td>\n",
       "      <td>75.6535</td>\n",
       "      <td>4777.84</td>\n",
       "    </tr>\n",
       "    <tr>\n",
       "      <th>...</th>\n",
       "      <td>...</td>\n",
       "      <td>...</td>\n",
       "      <td>...</td>\n",
       "    </tr>\n",
       "    <tr>\n",
       "      <th>235</th>\n",
       "      <td>449.3665</td>\n",
       "      <td>77.9829</td>\n",
       "      <td>8590.07</td>\n",
       "    </tr>\n",
       "    <tr>\n",
       "      <th>236</th>\n",
       "      <td>439.8520</td>\n",
       "      <td>71.5830</td>\n",
       "      <td>7631.20</td>\n",
       "    </tr>\n",
       "    <tr>\n",
       "      <th>237</th>\n",
       "      <td>516.9763</td>\n",
       "      <td>87.2491</td>\n",
       "      <td>8853.45</td>\n",
       "    </tr>\n",
       "    <tr>\n",
       "      <th>238</th>\n",
       "      <td>440.9710</td>\n",
       "      <td>61.6939</td>\n",
       "      <td>5127.35</td>\n",
       "    </tr>\n",
       "    <tr>\n",
       "      <th>239</th>\n",
       "      <td>459.5091</td>\n",
       "      <td>78.5236</td>\n",
       "      <td>7896.54</td>\n",
       "    </tr>\n",
       "  </tbody>\n",
       "</table>\n",
       "<p>240 rows × 3 columns</p>\n",
       "</div>"
      ],
      "text/plain": [
       "            0        1        2\n",
       "0    405.4034  60.9887  4261.42\n",
       "1    392.9937  44.7461  4156.92\n",
       "2    470.9295  49.8413  3993.37\n",
       "3    403.3186  42.1607  3279.16\n",
       "4    485.5602  75.6535  4777.84\n",
       "..        ...      ...      ...\n",
       "235  449.3665  77.9829  8590.07\n",
       "236  439.8520  71.5830  7631.20\n",
       "237  516.9763  87.2491  8853.45\n",
       "238  440.9710  61.6939  5127.35\n",
       "239  459.5091  78.5236  7896.54\n",
       "\n",
       "[240 rows x 3 columns]"
      ]
     },
     "execution_count": 5,
     "metadata": {},
     "output_type": "execute_result"
    }
   ],
   "source": [
    "pd.DataFrame(X)"
   ]
  },
  {
   "cell_type": "markdown",
   "id": "45eb9087",
   "metadata": {},
   "source": [
    "# Data Analysis"
   ]
  },
  {
   "cell_type": "markdown",
   "id": "ffe8d5e9",
   "metadata": {},
   "source": [
    "## Check Correlation between Variables"
   ]
  },
  {
   "cell_type": "code",
   "execution_count": 6,
   "id": "f20ec7f7",
   "metadata": {},
   "outputs": [
    {
     "data": {
      "text/plain": [
       "<AxesSubplot:>"
      ]
     },
     "execution_count": 6,
     "metadata": {},
     "output_type": "execute_result"
    },
    {
     "data": {
      "image/png": "[encoded data removed]",
      "text/plain": [
       "<Figure size 432x288 with 2 Axes>"
      ]
     },
     "metadata": {
      "needs_background": "light"
     },
     "output_type": "display_data"
    }
   ],
   "source": [
    "sb.heatmap(dataset.corr(), annot=True)"
   ]
  },
  {
   "cell_type": "markdown",
   "id": "8cc51b3c",
   "metadata": {},
   "source": [
    "## Check for Outlies"
   ]
  },
  {
   "cell_type": "code",
   "execution_count": 7,
   "id": "bd9ebe0a",
   "metadata": {},
   "outputs": [
    {
     "data": {
      "text/plain": [
       "<AxesSubplot:xlabel='Customer Satisfaction', ylabel='Density'>"
      ]
     },
     "execution_count": 7,
     "metadata": {},
     "output_type": "execute_result"
    },
    {
     "data": {
      "image/png": "[encoded data removed]",
      "text/plain": [
       "<Figure size 432x288 with 1 Axes>"
      ]
     },
     "metadata": {
      "needs_background": "light"
     },
     "output_type": "display_data"
    }
   ],
   "source": [
    "sb.boxplot(x='Customer Satisfaction', y='Density', data=dataset)"
   ]
  },
  {
   "cell_type": "markdown",
   "id": "04038ef2",
   "metadata": {},
   "source": [
    "### Manually Remove Outliers"
   ]
  },
  {
   "cell_type": "code",
   "execution_count": 8,
   "id": "ddc9af46",
   "metadata": {},
   "outputs": [
    {
     "data": {
      "text/plain": [
       "(array([ 14, 160, 227, 228], dtype=int64),)"
      ]
     },
     "execution_count": 8,
     "metadata": {},
     "output_type": "execute_result"
    }
   ],
   "source": [
    "Outliers=np.where(dataset['Density']>625)\n",
    "Outliers"
   ]
  },
  {
   "cell_type": "code",
   "execution_count": 9,
   "id": "0070f126",
   "metadata": {},
   "outputs": [
    {
     "data": {
      "text/plain": [
       "<AxesSubplot:xlabel='Customer Satisfaction', ylabel='Density'>"
      ]
     },
     "execution_count": 9,
     "metadata": {},
     "output_type": "execute_result"
    },
    {
     "data": {
      "image/png": "[encoded data removed]",
      "text/plain": [
       "<Figure size 432x288 with 1 Axes>"
      ]
     },
     "metadata": {
      "needs_background": "light"
     },
     "output_type": "display_data"
    }
   ],
   "source": [
    "CleanData=dataset.drop( [14,160,227,228], inplace = False)\n",
    "\n",
    "sb.boxplot(x='Customer Satisfaction', y='Density', data=CleanData)"
   ]
  },
  {
   "cell_type": "markdown",
   "id": "6a0433eb",
   "metadata": {},
   "source": [
    "### Systematically Remove Outliers\n",
    "##### Click on the Image--->>\n",
    "<a href='https://www.geeksforgeeks.org/detect-and-remove-the-outliers-using-python/'><img src='OutLiers2.jpg' width=800 height=250/></a>\n"
   ]
  },
  {
   "cell_type": "markdown",
   "id": "49c3608e",
   "metadata": {},
   "source": [
    "## Distributions"
   ]
  },
  {
   "cell_type": "code",
   "execution_count": 10,
   "id": "dfa54c79",
   "metadata": {},
   "outputs": [
    {
     "data": {
      "text/plain": [
       "<AxesSubplot:xlabel='Density', ylabel='Count'>"
      ]
     },
     "execution_count": 10,
     "metadata": {},
     "output_type": "execute_result"
    },
    {
     "data": {
      "image/png": "[encoded data removed]",
      "text/plain": [
       "<Figure size 432x288 with 1 Axes>"
      ]
     },
     "metadata": {
      "needs_background": "light"
     },
     "output_type": "display_data"
    }
   ],
   "source": [
    "sb.histplot(dataset['Density'], kde=True, bins=20)"
   ]
  },
  {
   "cell_type": "markdown",
   "id": "05acada3",
   "metadata": {},
   "source": [
    "## Check Distribution between each Pair of Features"
   ]
  },
  {
   "cell_type": "code",
   "execution_count": 11,
   "id": "053634c8",
   "metadata": {},
   "outputs": [
    {
     "data": {
      "text/plain": [
       "<seaborn.axisgrid.JointGrid at 0x2662d4132e0>"
      ]
     },
     "execution_count": 11,
     "metadata": {},
     "output_type": "execute_result"
    },
    {
     "data": {
      "image/png": "[encoded data removed]",
      "text/plain": [
       "<Figure size 432x432 with 3 Axes>"
      ]
     },
     "metadata": {
      "needs_background": "light"
     },
     "output_type": "display_data"
    }
   ],
   "source": [
    "sb.jointplot(x='MOE' , y='Density' , data=dataset, kind='kde')"
   ]
  },
  {
   "cell_type": "markdown",
   "id": "9511d34c",
   "metadata": {},
   "source": [
    "### Check Correlation and Distribution between each Pair of Features"
   ]
  },
  {
   "cell_type": "code",
   "execution_count": 12,
   "id": "a80ad44b",
   "metadata": {},
   "outputs": [
    {
     "data": {
      "text/plain": [
       "<seaborn.axisgrid.JointGrid at 0x2662e74b370>"
      ]
     },
     "execution_count": 12,
     "metadata": {},
     "output_type": "execute_result"
    },
    {
     "data": {
      "image/png": "[encoded data removed]",
      "text/plain": [
       "<Figure size 432x432 with 3 Axes>"
      ]
     },
     "metadata": {
      "needs_background": "light"
     },
     "output_type": "display_data"
    }
   ],
   "source": [
    "sb.jointplot(x='MOE' , y='Density' , data=dataset, kind='reg')"
   ]
  },
  {
   "cell_type": "markdown",
   "id": "099ca108",
   "metadata": {},
   "source": [
    "# Data Preprocessing"
   ]
  },
  {
   "cell_type": "markdown",
   "id": "3e797fce",
   "metadata": {},
   "source": [
    "## Categorical Data"
   ]
  },
  {
   "cell_type": "code",
   "execution_count": 13,
   "id": "df5ec974",
   "metadata": {},
   "outputs": [],
   "source": [
    "from sklearn.preprocessing import LabelEncoder\n",
    "LaEnc = LabelEncoder()\n",
    "y = LaEnc.fit_transform(y)"
   ]
  },
  {
   "cell_type": "markdown",
   "id": "418306c0",
   "metadata": {},
   "source": [
    "## Splitting the Dataset into the Training set and Test set"
   ]
  },
  {
   "cell_type": "code",
   "execution_count": 14,
   "id": "f8c2321f",
   "metadata": {},
   "outputs": [],
   "source": [
    "from sklearn.model_selection import train_test_split\n",
    "X_train, X_test, y_train, y_test = train_test_split(X, y, test_size = 0.20) #, random_state = 0"
   ]
  },
  {
   "cell_type": "code",
   "execution_count": 15,
   "id": "896c59e5",
   "metadata": {},
   "outputs": [
    {
     "data": {
      "text/plain": [
       "(192, 3)"
      ]
     },
     "execution_count": 15,
     "metadata": {},
     "output_type": "execute_result"
    }
   ],
   "source": [
    "X_train.shape"
   ]
  },
  {
   "cell_type": "markdown",
   "id": "4d313c9a",
   "metadata": {},
   "source": [
    "## Feature Scaling"
   ]
  },
  {
   "cell_type": "code",
   "execution_count": 16,
   "id": "efe91405",
   "metadata": {},
   "outputs": [],
   "source": [
    "from sklearn.preprocessing import StandardScaler\n",
    "sc = StandardScaler()\n",
    "X_train = sc.fit_transform(X_train)\n",
    "X_test = sc.transform(X_test)"
   ]
  },
  {
   "cell_type": "code",
   "execution_count": 17,
   "id": "57f8709c",
   "metadata": {},
   "outputs": [
    {
     "data": {
      "text/plain": [
       "array([[ 0.95199322,  0.74961216,  1.07171281],\n",
       "       [-0.74812167, -0.12959564,  0.09470544],\n",
       "       [ 1.02685149,  1.82824864,  1.77142593],\n",
       "       [-1.20700502, -0.90488587, -0.91854696],\n",
       "       [ 1.01063446,  0.7231724 , -0.16062679],\n",
       "       [ 1.33736561,  1.74332324,  2.16032358],\n",
       "       [ 0.42325382,  0.71632411,  0.56465298],\n",
       "       [-0.53305762, -0.76352333, -0.3808749 ],\n",
       "       [ 1.11091476,  0.4180773 , -0.81029072],\n",
       "       [-0.41095606, -0.67536174, -0.92829932],\n",
       "       [ 0.29582356,  0.49792505,  0.45833004],\n",
       "       [ 0.01553463, -0.7902137 , -0.80800959],\n",
       "       [-0.32257058,  0.1009255 ,  0.44794529],\n",
       "       [ 0.14040565, -0.28095005, -0.71955169],\n",
       "       [-1.3655125 , -1.36556858, -1.03875538],\n",
       "       [ 0.39166381,  0.51758734, -0.4726664 ],\n",
       "       [ 1.37688976,  1.83165372,  1.49877072],\n",
       "       [ 2.63354842,  1.05797069,  1.08913066],\n",
       "       [-0.81341343, -1.36912076, -1.2236935 ],\n",
       "       [ 0.22613474, -0.49934366, -0.90672577],\n",
       "       [-0.47347996,  0.56479536,  0.40073281],\n",
       "       [-0.36754607, -1.25926473, -1.16751914],\n",
       "       [ 0.02876084, -0.2277164 ,  0.01088658],\n",
       "       [-0.8049012 , -0.67331325, -0.67355883],\n",
       "       [-1.50030357, -2.20591489, -1.57764705],\n",
       "       [-0.19443323, -0.75646256, -0.71171457],\n",
       "       [-0.07340824,  0.0936577 ,  0.22132359],\n",
       "       [ 1.82377955,  1.70663011,  1.44011649],\n",
       "       [ 1.04365937,  1.72282194,  1.47744108],\n",
       "       [ 1.27590714,  1.65695409,  1.46536242],\n",
       "       [-1.31495669, -1.12499564, -1.08896268],\n",
       "       [ 0.26647428,  1.14954825,  0.42942528],\n",
       "       [-1.08247959, -1.23439948, -1.07684788],\n",
       "       [-0.45446479, -0.65547608, -0.13185754],\n",
       "       [ 2.03872416,  1.41601613,  1.71883362],\n",
       "       [ 1.41317305,  0.89228226,  0.30705769],\n",
       "       [ 0.45093729,  0.58432144,  0.95264269],\n",
       "       [ 2.45848629,  1.83893787,  2.69552028],\n",
       "       [ 0.33786236,  0.94530887,  0.90252122],\n",
       "       [-0.94399696, -0.3023285 , -0.26617279],\n",
       "       [ 0.50243749,  0.26500673, -0.24489285],\n",
       "       [ 0.42992028,  0.00533811, -0.20386876],\n",
       "       [ 0.87302615,  1.36294048,  1.79951763],\n",
       "       [ 2.18635286,  0.42975264, -0.29014491],\n",
       "       [-1.46581191, -1.29080938, -1.45588023],\n",
       "       [-1.50926809, -1.80863749, -1.78786272],\n",
       "       [ 2.10675672,  0.80193052,  1.14467714],\n",
       "       [ 0.90022866,  0.16280532,  0.46362406],\n",
       "       [-0.33730813, -0.16938331, -0.94744721],\n",
       "       [-0.91808283, -1.30714287, -1.14963152],\n",
       "       [-2.07642959, -2.31129801, -1.53066042],\n",
       "       [-1.85259213, -1.17626252, -0.79552439],\n",
       "       [ 0.52058471,  1.50677103,  1.54970075],\n",
       "       [ 1.13778284,  1.75985286,  2.12143607],\n",
       "       [-0.31844586, -0.24294937, -0.31479008],\n",
       "       [-0.95296308, -1.01566808, -1.90763751],\n",
       "       [ 1.71191815, -0.16629422,  0.27996879],\n",
       "       [-0.16967051, -0.25619921, -0.94791698],\n",
       "       [-0.27753299, -1.00722894, -0.89162518],\n",
       "       [-1.28307842, -1.16260951, -0.4785928 ],\n",
       "       [-0.73709638, -0.44471529, -0.71406345],\n",
       "       [ 0.62225372, -0.07101193,  0.8180519 ],\n",
       "       [-0.15779002,  0.86531948,  1.27946668],\n",
       "       [-0.22766199,  0.73898831,  0.88072181],\n",
       "       [-0.06526229, -0.30325468, -0.78768727],\n",
       "       [ 1.98351489,  1.87183366,  1.89785437],\n",
       "       [ 0.28339363,  0.69447712,  0.85345222],\n",
       "       [-1.3115295 , -0.78206875, -1.04446045],\n",
       "       [ 2.88132365, -0.05574083, -0.11344142],\n",
       "       [-0.82073443, -0.8955151 , -0.59263993],\n",
       "       [ 0.35279261, -0.1615707 , -0.17167556],\n",
       "       [ 0.38095703,  1.20313058,  1.77481374],\n",
       "       [-0.17080601,  0.80604931,  0.84397088],\n",
       "       [-0.37956034,  0.0777982 ,  0.30439713],\n",
       "       [ 3.2380873 ,  2.05327262,  1.47029055],\n",
       "       [-0.23675869, -0.34792932, -0.08753147],\n",
       "       [ 0.4595833 ,  0.87525686,  0.66839214],\n",
       "       [-1.35633298, -1.66440923, -0.59005616],\n",
       "       [ 0.30911029,  0.37410002, -0.03938396],\n",
       "       [ 0.63804236,  1.03947975,  0.81135307],\n",
       "       [-0.5105229 , -0.85595625, -1.05497168],\n",
       "       [ 0.19667716,  0.80731327,  1.07644219],\n",
       "       [-1.26126194, -1.64985728, -1.49536399],\n",
       "       [ 1.04319912,  0.68993338, -0.92511027],\n",
       "       [-0.03468674, -0.3274934 , -0.0234432 ],\n",
       "       [ 0.71477348,  0.94904084,  0.62135131],\n",
       "       [-0.41474317, -1.2267721 , -0.88938923],\n",
       "       [-0.22925773, -0.78300038, -1.10846289],\n",
       "       [-1.25294719, -1.30110634, -0.9562555 ],\n",
       "       [ 1.221397  ,  1.37634832,  1.10127256],\n",
       "       [ 0.61581022,  0.6907615 ,  1.07558395],\n",
       "       [-0.1847425 ,  0.644496  ,  1.24934682],\n",
       "       [-0.72082201, -1.33105469, -1.25513686],\n",
       "       [ 1.61054535,  1.43411481,  1.63279687],\n",
       "       [-0.58784804, -0.96431949, -0.64729203],\n",
       "       [ 0.53932754, -0.6437735 , -0.52990678],\n",
       "       [-0.88488114, -0.28136956, -0.70593723],\n",
       "       [-0.05966604, -0.4582321 , -0.4578549 ],\n",
       "       [-0.83796752, -2.64917449, -1.91419179],\n",
       "       [-0.19967115, -1.02395468, -0.43141646],\n",
       "       [-0.31162014,  0.48648943,  0.77372583],\n",
       "       [-0.45885867, -0.63842344,  0.16154913],\n",
       "       [-1.99324223, -1.09373429, -0.88048607],\n",
       "       [ 0.17563307, -0.04959535, -0.43550893],\n",
       "       [-0.25893827, -0.78876995, -0.58297791],\n",
       "       [ 0.54532353,  0.76742754,  1.40127867],\n",
       "       [-0.05717209, -0.38889379,  0.43396042],\n",
       "       [-0.35094204,  0.28319803,  0.30753198],\n",
       "       [ 0.92631797,  0.19768968,  0.31236525],\n",
       "       [-1.19103643, -0.94670569, -0.27874381],\n",
       "       [-0.7785953 , -1.13318963, -0.96410167],\n",
       "       [-0.40973457, -0.71401075, -0.89268218],\n",
       "       [-0.26314581, -0.7394644 , -0.63869152],\n",
       "       [-1.63405789, -1.40401601, -1.17164323],\n",
       "       [ 0.18459759,  1.37774304,  0.56286421],\n",
       "       [-0.15693322,  0.36460394,  0.67430499],\n",
       "       [-1.12940436, -1.65184585, -1.52244386],\n",
       "       [-0.10456986,  0.37292323, -0.10597921],\n",
       "       [ 0.3610787 ,  0.82186522,  1.18865539],\n",
       "       [-0.86805894, -0.68647592, -0.45514918],\n",
       "       [ 0.52968937, -0.2152184 , -0.89479617],\n",
       "       [-0.84966009,  0.48305166,  0.49639996],\n",
       "       [-0.37461862,  0.78989561,  0.80271191],\n",
       "       [-0.73967632, -1.02087104, -1.33994496],\n",
       "       [ 0.1795874 ,  1.52897759,  1.42601417],\n",
       "       [-0.49240594, -0.03195976, -1.42197054],\n",
       "       [-0.21654433, -0.22660499, -0.82824157],\n",
       "       [-0.22574773, -0.49679939, -0.80056997],\n",
       "       [ 0.95695245,  0.8363082 ,  0.43375263],\n",
       "       [ 0.17908893, -0.3424594 , -1.04309177],\n",
       "       [-0.79665333, -0.17866147, -0.31427965],\n",
       "       [-0.41245307, -0.56317391, -0.92477149],\n",
       "       [ 0.1243622 , -0.82184008, -0.67353173],\n",
       "       [ 0.79035796,  1.0323427 ,  1.16990501],\n",
       "       [-0.33630164,  0.34314921,  0.91459536],\n",
       "       [ 1.24872374,  0.690026  ,  0.61732208],\n",
       "       [-1.08251303, -1.166287  , -0.75314067],\n",
       "       [-0.13247628,  0.26154172,  0.58214761],\n",
       "       [-0.42322833, -0.79892526, -0.87933874],\n",
       "       [-0.6702009 , -0.2105657 ,  0.56553832],\n",
       "       [-0.72713014, -0.65177135, -0.28884851],\n",
       "       [-1.33686713, -1.29659529, -1.153462  ],\n",
       "       [-1.56729779, -1.46680567, -1.34598881],\n",
       "       [-0.37375068, -0.39454894, -0.53611776],\n",
       "       [-1.66944138, -1.28663612, -1.20339376],\n",
       "       [ 0.97518726,  1.02306454,  1.65571652],\n",
       "       [ 3.83086671,  2.61007118,  1.63698872],\n",
       "       [-0.05375287,  0.73865598,  0.43886596],\n",
       "       [-0.09962655, -0.52874175, -0.6387909 ],\n",
       "       [-1.68453567, -0.7451359 , -0.99750544],\n",
       "       [-0.80733782, -0.49626547, -0.13615779],\n",
       "       [-0.78493369, -0.56892169, -0.89765548],\n",
       "       [-1.44790517, -1.00852014, -0.91430994],\n",
       "       [-1.45393779, -0.3213806 ,  0.11589956],\n",
       "       [ 1.27208659,  2.39181377,  3.35297616],\n",
       "       [ 1.1554714 ,  2.01965223,  1.17288628],\n",
       "       [ 0.3453028 , -0.0202136 , -0.05852733],\n",
       "       [-0.21476066, -1.17676919, -1.31431959],\n",
       "       [-0.46829936, -1.05964536, -1.1916855 ],\n",
       "       [ 0.24377871, -0.03739154, -0.57178459],\n",
       "       [ 0.41864973,  0.87444509,  0.19687266],\n",
       "       [-0.31397554,  0.15571731,  0.1081076 ],\n",
       "       [-0.04044066, -0.17676552, -0.34578625],\n",
       "       [ 0.82675751,  1.61513427,  1.11521225],\n",
       "       [ 1.22772743,  0.59485812,  0.72634622],\n",
       "       [-0.57451991,  0.27792424,  0.6723491 ],\n",
       "       [-0.10610349,  0.03994462, -0.64970867],\n",
       "       [ 0.09295852,  0.16583993,  0.12707932],\n",
       "       [ 0.64614212,  1.54244536,  1.18396215],\n",
       "       [ 0.84916801,  1.30430229,  0.69756793],\n",
       "       [-0.46520024, -0.52960256, -0.39681566],\n",
       "       [ 1.70969813,  0.72513918,  0.95501416],\n",
       "       [ 0.07152266,  0.33935187,  0.74888643],\n",
       "       [-1.07436072, -0.52524406, -0.62234874],\n",
       "       [-1.51420025, -1.60300339, -1.25710631],\n",
       "       [-0.09814547, -0.25490801, -0.44118238],\n",
       "       [-0.01019158,  0.79928818,  0.8368068 ],\n",
       "       [ 0.13555949,  1.09173273,  1.26366595],\n",
       "       [-0.62002571, -0.52842031, -0.64702552],\n",
       "       [ 0.38919056,  0.41958099,  0.55859558],\n",
       "       [-0.55736963, -0.58741263, -0.56972029],\n",
       "       [-0.35461129, -0.67578125, -0.69769808],\n",
       "       [ 1.30837147,  1.42194369,  1.36079663],\n",
       "       [ 1.05127021, -0.5829833 , -0.72586205],\n",
       "       [ 0.3003528 ,  1.08062945,  0.77983744],\n",
       "       [-0.21349139,  0.50106317,  1.08418897],\n",
       "       [ 0.51311879,  0.7234557 ,  0.55710494],\n",
       "       [-1.09848641, -0.80872099, -0.73831111],\n",
       "       [-0.21276677, -0.37866765, -0.90012632],\n",
       "       [-0.49223713,  0.46493664,  0.81725689],\n",
       "       [-0.00946856, -0.6222534 , -0.52987516],\n",
       "       [ 0.47483365,  0.19636578,  0.23171738]])"
      ]
     },
     "execution_count": 17,
     "metadata": {},
     "output_type": "execute_result"
    }
   ],
   "source": [
    "X_train"
   ]
  },
  {
   "cell_type": "markdown",
   "id": "3f70cb4a",
   "metadata": {},
   "source": [
    "## Logistic Regression Classifier"
   ]
  },
  {
   "cell_type": "code",
   "execution_count": 18,
   "id": "eef6be93",
   "metadata": {},
   "outputs": [
    {
     "data": {
      "text/plain": [
       "LogisticRegression()"
      ]
     },
     "execution_count": 18,
     "metadata": {},
     "output_type": "execute_result"
    }
   ],
   "source": [
    "from sklearn.linear_model import LogisticRegression\n",
    "LogitReg = LogisticRegression()\n",
    "LogitReg.fit(X_train, y_train)"
   ]
  },
  {
   "cell_type": "code",
   "execution_count": 19,
   "id": "16e975b3",
   "metadata": {},
   "outputs": [],
   "source": [
    "y_pred=LogitReg.predict(X_test)"
   ]
  },
  {
   "cell_type": "markdown",
   "id": "d658e3f7",
   "metadata": {},
   "source": [
    "## Confusion Matrix"
   ]
  },
  {
   "cell_type": "code",
   "execution_count": 20,
   "id": "64279981",
   "metadata": {},
   "outputs": [
    {
     "name": "stdout",
     "output_type": "stream",
     "text": [
      "[[25  3]\n",
      " [ 0 20]]\n",
      "Your Model Accuracy is= 93.75 %\n"
     ]
    }
   ],
   "source": [
    "from sklearn.metrics import confusion_matrix, accuracy_score\n",
    "cm = confusion_matrix(y_test, y_pred)\n",
    "print(cm)\n",
    "print(\"Your Model Accuracy is=\", accuracy_score(y_test, y_pred)*100, \"%\")"
   ]
  },
  {
   "cell_type": "markdown",
   "id": "6972ebcf",
   "metadata": {},
   "source": [
    "## Checking the Probability of Good or bad for a New Paper Towel"
   ]
  },
  {
   "cell_type": "code",
   "execution_count": 21,
   "id": "f00d6d6f",
   "metadata": {},
   "outputs": [
    {
     "name": "stdout",
     "output_type": "stream",
     "text": [
      "Chance of this towel being Good is  87.86203625152325 %\n"
     ]
    }
   ],
   "source": [
    "# Suppose you have done your measurements of Density, MOR, and MOE of the new paper as:\n",
    "\n",
    "New_Paper=[[405, 60, 4261]]\n",
    "#New_Paper=[[526, 97, 9095]]\n",
    "\n",
    "\n",
    "\n",
    "New_Paper = sc.transform(New_Paper)\n",
    "\n",
    "Probability=LogitReg.predict_proba(New_Paper)\n",
    "\n",
    "print(\"Chance of this towel being Good is \", 100*Probability[0,1], \"%\" )"
   ]
  },
  {
   "cell_type": "markdown",
   "id": "e83a0345",
   "metadata": {},
   "source": [
    "##### <font color='red'> Now that you find a good towel paper, try to answer this mystery! Which way is correct?\n",
    "<a href='https://news.yahoo.com/right-way-to-hang-toilet-roll-getting-wrong-harmful-115507518.html?guccounter=1&guce_referrer=aHR0cHM6Ly93d3cuZ29vZ2xlLmNvbS8&guce_referrer_sig=AQAAAN2ywJoAN6igScG6vxr0O9Pq-0BmpjwLY_0RXzgtXUDAOmnevWNv4_dS3wcP_pQAu2VJ3ZuCO_EyAyUpcT8xtDSQCSPE5orjcSwFoTOpV43Bt3s6oFP8mItBHvIEzlgcLSSaYSE9CDqmuaDQteIvKy2nxvKBpRZt-YHKeNAcMLxv'><img src='OverUnder.jpg' width=800 height=250/></a>"
   ]
  }
 ],
 "metadata": {
  "kernelspec": {
   "display_name": "Python 3",
   "language": "python",
   "name": "python3"
  },
  "language_info": {
   "codemirror_mode": {
    "name": "ipython",
    "version": 3
   },
   "file_extension": ".py",
   "mimetype": "text/x-python",
   "name": "python",
   "nbconvert_exporter": "python",
   "pygments_lexer": "ipython3",
   "version": "3.8.8"
  },
  "toc": {
   "base_numbering": 1,
   "nav_menu": {},
   "number_sections": true,
   "sideBar": true,
   "skip_h1_title": false,
   "title_cell": "Table of Contents",
   "title_sidebar": "Contents",
   "toc_cell": false,
   "toc_position": {},
   "toc_section_display": true,
   "toc_window_display": true
  }
 },
 "nbformat": 4,
 "nbformat_minor": 5
}

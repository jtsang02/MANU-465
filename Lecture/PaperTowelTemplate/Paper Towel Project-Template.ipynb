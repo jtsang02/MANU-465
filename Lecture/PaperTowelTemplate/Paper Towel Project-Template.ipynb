{
 "cells": [
  {
   "cell_type": "markdown",
   "id": "c5867fc5",
   "metadata": {},
   "source": [
    "# Paper Towel Project\n",
    "Use Logistic Regression Classifier to predict the quality of a paper towels!\n",
    "<img src='Toilet Paper.jpg' width=300 height=300/></a>\n",
    "## How it is Made? \n",
    "<a href='https://www.youtube.com/watch?v=Z74OfpUbeac'><img src='YueTube Logo.png' width=250 height=250/></a>\n",
    "## Paper Towel Mechanical Properties\n",
    "<a href='https://www.youtube.com/watch?v=BoDVYkW5BLA'><img src='YueTube Logo.png' width=250 height=250/></a>"
   ]
  },
  {
   "cell_type": "markdown",
   "id": "202c622f",
   "metadata": {},
   "source": [
    "# Libraries"
   ]
  },
  {
   "cell_type": "code",
   "execution_count": null,
   "id": "94b54d92",
   "metadata": {},
   "outputs": [],
   "source": []
  },
  {
   "cell_type": "markdown",
   "id": "5cf38532",
   "metadata": {},
   "source": [
    "# Import the Dataset"
   ]
  },
  {
   "cell_type": "code",
   "execution_count": null,
   "id": "9260d5fc",
   "metadata": {},
   "outputs": [],
   "source": []
  },
  {
   "cell_type": "code",
   "execution_count": null,
   "id": "65afc176",
   "metadata": {},
   "outputs": [],
   "source": []
  },
  {
   "cell_type": "markdown",
   "id": "509631a6",
   "metadata": {},
   "source": [
    "## Checking the Input (Features) and Output (Labels)"
   ]
  },
  {
   "cell_type": "code",
   "execution_count": null,
   "id": "e78193b9",
   "metadata": {},
   "outputs": [],
   "source": []
  },
  {
   "cell_type": "code",
   "execution_count": null,
   "id": "48a9dbc2",
   "metadata": {
    "scrolled": true
   },
   "outputs": [],
   "source": []
  },
  {
   "cell_type": "markdown",
   "id": "45eb9087",
   "metadata": {},
   "source": [
    "# Data Analysis"
   ]
  },
  {
   "cell_type": "markdown",
   "id": "ffe8d5e9",
   "metadata": {},
   "source": [
    "## Check Correlation between Variables"
   ]
  },
  {
   "cell_type": "code",
   "execution_count": null,
   "id": "f20ec7f7",
   "metadata": {},
   "outputs": [],
   "source": []
  },
  {
   "cell_type": "markdown",
   "id": "8cc51b3c",
   "metadata": {},
   "source": [
    "## Check for Outlies"
   ]
  },
  {
   "cell_type": "code",
   "execution_count": null,
   "id": "bd9ebe0a",
   "metadata": {},
   "outputs": [],
   "source": []
  },
  {
   "cell_type": "markdown",
   "id": "04038ef2",
   "metadata": {},
   "source": [
    "### Manually Remove Outliers"
   ]
  },
  {
   "cell_type": "code",
   "execution_count": null,
   "id": "ddc9af46",
   "metadata": {},
   "outputs": [],
   "source": []
  },
  {
   "cell_type": "code",
   "execution_count": null,
   "id": "0070f126",
   "metadata": {},
   "outputs": [],
   "source": []
  },
  {
   "cell_type": "markdown",
   "id": "6a0433eb",
   "metadata": {},
   "source": [
    "### Systematically Remove Outliers\n",
    "##### Click on the Image--->>\n",
    "<a href='https://www.geeksforgeeks.org/detect-and-remove-the-outliers-using-python/'><img src='OutLiers2.jpg' width=800 height=250/></a>\n"
   ]
  },
  {
   "cell_type": "markdown",
   "id": "49c3608e",
   "metadata": {},
   "source": [
    "## Distributions"
   ]
  },
  {
   "cell_type": "code",
   "execution_count": null,
   "id": "dfa54c79",
   "metadata": {},
   "outputs": [],
   "source": []
  },
  {
   "cell_type": "markdown",
   "id": "05acada3",
   "metadata": {},
   "source": [
    "## Check Distribution between each Pair of Features"
   ]
  },
  {
   "cell_type": "code",
   "execution_count": null,
   "id": "053634c8",
   "metadata": {},
   "outputs": [],
   "source": []
  },
  {
   "cell_type": "markdown",
   "id": "9511d34c",
   "metadata": {},
   "source": [
    "### Check Correlation and Distribution between each Pair of Features"
   ]
  },
  {
   "cell_type": "code",
   "execution_count": null,
   "id": "a80ad44b",
   "metadata": {},
   "outputs": [],
   "source": []
  },
  {
   "cell_type": "markdown",
   "id": "099ca108",
   "metadata": {},
   "source": [
    "# Data Preprocessing"
   ]
  },
  {
   "cell_type": "markdown",
   "id": "3e797fce",
   "metadata": {},
   "source": [
    "## Categorical Data"
   ]
  },
  {
   "cell_type": "code",
   "execution_count": 1,
   "id": "df5ec974",
   "metadata": {},
   "outputs": [],
   "source": [
    "from sklearn.preprocessing import LabelEncoder\n"
   ]
  },
  {
   "cell_type": "markdown",
   "id": "418306c0",
   "metadata": {},
   "source": [
    "## Splitting the Dataset into the Training set and Test set"
   ]
  },
  {
   "cell_type": "code",
   "execution_count": 2,
   "id": "f8c2321f",
   "metadata": {},
   "outputs": [],
   "source": [
    "from sklearn.model_selection import train_test_split\n"
   ]
  },
  {
   "cell_type": "code",
   "execution_count": null,
   "id": "896c59e5",
   "metadata": {},
   "outputs": [],
   "source": []
  },
  {
   "cell_type": "markdown",
   "id": "4d313c9a",
   "metadata": {},
   "source": [
    "## Feature Scaling"
   ]
  },
  {
   "cell_type": "code",
   "execution_count": 3,
   "id": "efe91405",
   "metadata": {},
   "outputs": [],
   "source": [
    "from sklearn.preprocessing import StandardScaler\n"
   ]
  },
  {
   "cell_type": "code",
   "execution_count": null,
   "id": "57f8709c",
   "metadata": {},
   "outputs": [],
   "source": []
  },
  {
   "cell_type": "markdown",
   "id": "3f70cb4a",
   "metadata": {},
   "source": [
    "## Logistic Regression Classifier"
   ]
  },
  {
   "cell_type": "code",
   "execution_count": 4,
   "id": "eef6be93",
   "metadata": {},
   "outputs": [],
   "source": [
    "from sklearn.linear_model import LogisticRegression\n"
   ]
  },
  {
   "cell_type": "code",
   "execution_count": 19,
   "id": "16e975b3",
   "metadata": {},
   "outputs": [],
   "source": []
  },
  {
   "cell_type": "markdown",
   "id": "d658e3f7",
   "metadata": {},
   "source": [
    "## Confusion Matrix"
   ]
  },
  {
   "cell_type": "code",
   "execution_count": 5,
   "id": "64279981",
   "metadata": {},
   "outputs": [],
   "source": [
    "from sklearn.metrics import confusion_matrix, accuracy_score\n",
    "cm = confusion_matrix(y_test, y_pred)\n",
    "print(cm)\n",
    "print(\"Your Model Accuracy is=\", accuracy_score(y_test, y_pred)*100, \"%\")"
   ]
  },
  {
   "cell_type": "markdown",
   "id": "6972ebcf",
   "metadata": {},
   "source": [
    "## Checking the Probability of Good or bad for a New Paper Towel"
   ]
  },
  {
   "cell_type": "code",
   "execution_count": 6,
   "id": "f00d6d6f",
   "metadata": {},
   "outputs": [],
   "source": [
    "# Suppose you have done your measurements of Density, MOR, and MOE of the new paper as:\n",
    "\n",
    "New_Paper=[[405, 60, 4261]]\n",
    "#New_Paper=[[526, 97, 9095]]\n",
    "\n",
    "\n",
    "\n",
    "New_Paper = sc.transform(New_Paper)\n",
    "\n",
    "Probability=LogitReg.predict_proba(New_Paper)\n",
    "\n",
    "print(\"Chance of this towel being Good is \", 100*Probability[0,1], \"%\" )"
   ]
  },
  {
   "cell_type": "markdown",
   "id": "e83a0345",
   "metadata": {},
   "source": [
    "##### <font color='red'> Now that you find a good towel paper, try to answer this mystery! Which way is correct?\n",
    "<a href='https://news.yahoo.com/right-way-to-hang-toilet-roll-getting-wrong-harmful-115507518.html?guccounter=1&guce_referrer=aHR0cHM6Ly93d3cuZ29vZ2xlLmNvbS8&guce_referrer_sig=AQAAAN2ywJoAN6igScG6vxr0O9Pq-0BmpjwLY_0RXzgtXUDAOmnevWNv4_dS3wcP_pQAu2VJ3ZuCO_EyAyUpcT8xtDSQCSPE5orjcSwFoTOpV43Bt3s6oFP8mItBHvIEzlgcLSSaYSE9CDqmuaDQteIvKy2nxvKBpRZt-YHKeNAcMLxv'><img src='OverUnder.jpg' width=800 height=250/></a>"
   ]
  }
 ],
 "metadata": {
  "kernelspec": {
   "display_name": "Python 3",
   "language": "python",
   "name": "python3"
  },
  "language_info": {
   "codemirror_mode": {
    "name": "ipython",
    "version": 3
   },
   "file_extension": ".py",
   "mimetype": "text/x-python",
   "name": "python",
   "nbconvert_exporter": "python",
   "pygments_lexer": "ipython3",
   "version": "3.8.8"
  },
  "toc": {
   "base_numbering": 1,
   "nav_menu": {},
   "number_sections": true,
   "sideBar": true,
   "skip_h1_title": false,
   "title_cell": "Table of Contents",
   "title_sidebar": "Contents",
   "toc_cell": false,
   "toc_position": {},
   "toc_section_display": true,
   "toc_window_display": true
  }
 },
 "nbformat": 4,
 "nbformat_minor": 5
}
